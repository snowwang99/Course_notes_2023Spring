{
 "cells": [
  {
   "cell_type": "markdown",
   "id": "fd718cc9-1796-4062-9a0f-78d978da6f6e",
   "metadata": {},
   "source": [
    "# Solving linear problem with Pulp package Template"
   ]
  },
  {
   "cell_type": "markdown",
   "id": "fbc14fa2-07c2-47e1-b908-2aa73ee85438",
   "metadata": {},
   "source": [
    "This is a template notebook to solve Linear Programming (LP) problem with the pulp package, for official documentation, please see [here](https://coin-or.github.io/pulp/). Below, there are going to be code templates for you to fill in and quicky solve a LP problem for you."
   ]
  },
  {
   "cell_type": "markdown",
   "id": "e64f9e14-3b2a-4cef-9322-400fd2ea28d7",
   "metadata": {},
   "source": [
    "First step is to import the library:\n",
    "\n",
    "There are two ways:\n",
    "```python\n",
    "import pulp\n",
    "from pulp import *\n",
    "```\n",
    "\n",
    "This way just loads the entire library's function to current workspace **(recommended)**\n",
    "\n",
    "\n",
    "```python\n",
    "import pulp as pl\n",
    "```\n",
    " This way loads the library only, you still need to use `pl.<function_name>` to call functions\n"
   ]
  },
  {
   "cell_type": "markdown",
   "id": "af1a4bb8-bfd5-4910-86de-1113ef8a7c9b",
   "metadata": {},
   "source": [
    "Then, it is recommended to first formulate your question in standard inequality form and type it out with LaTeX as following:\n",
    "\n",
    "\\begin{equation}\n",
    "\\begin{aligned}\n",
    "& \\underset{x}{\\text{max}}\n",
    "& & c^T x \\\\\n",
    "& \\text{s.t.} & &  A\\overrightarrow{x} \\leq b_i ; \\forall i, i = 1, ... , n\\\\\n",
    "& & &  x_j \\geq 0; \\forall j, j = 1, ..., n\n",
    "\\end{aligned}\n",
    "\\end{equation}"
   ]
  },
  {
   "cell_type": "markdown",
   "id": "136f7d46-b359-4899-a7a0-dfde8be85f86",
   "metadata": {},
   "source": [
    "$\\text{Maximize} \\hspace{5pt}c_1x_1 + c_2x_2 + \\dots + c_n x_n$\n",
    "\n",
    "Subject to\n",
    "\n",
    "$a_{11} + a_{12} + \\dots + a_{1n} \\leq b_1$\n",
    "\n",
    "$\\dots \\dots \\dots \\dots \\dots \\dots \\dots \\dots \\dots$\n",
    "\n",
    "$a_{m1} + a_{m2} + \\dots + a_{mn} \\leq b_n$\n",
    "\n",
    "$x_1 , x_2, \\dots, x_n \\geq 0$\n",
    "\n",
    "Next, just follow codes using the recommended way of importing"
   ]
  },
  {
   "cell_type": "code",
   "execution_count": 24,
   "id": "9714c15f-7ee4-4fc1-a0aa-d1d58cc69172",
   "metadata": {},
   "outputs": [],
   "source": [
    "# imports\n",
    "import pulp\n",
    "from pulp import *"
   ]
  },
  {
   "cell_type": "code",
   "execution_count": 25,
   "id": "500018de-0ece-4fa1-8b88-f00eb3694fc9",
   "metadata": {},
   "outputs": [
    {
     "data": {
      "text/plain": [
       "ivy_airline:\n",
       "MAXIMIZE\n",
       "None\n",
       "VARIABLES"
      ]
     },
     "execution_count": 25,
     "metadata": {},
     "output_type": "execute_result"
    }
   ],
   "source": [
    "# Creates LP problem\n",
    "# FILL IN PROBLEM NAME WITH STRING\n",
    "\n",
    "# UNCOMMENT BELOW\n",
    "PROBLEM_NAME=\"ivy_airline\"\n",
    "Lp_prob = LpProblem(PROBLEM_NAME, LpMaximize) # default is Minimize, but course uses max\n",
    "Lp_prob"
   ]
  },
  {
   "cell_type": "code",
   "execution_count": 18,
   "id": "3bce7612-996f-4c22-a56f-dd486b6da760",
   "metadata": {},
   "outputs": [],
   "source": [
    "# decision = [\"x1\", \"x2\", \"x3\", \"x4\", \"x5\", \"x6\", \"x7\", \"x8\", \"x9\"]\n",
    "# # dictionary of ticket price\n",
    "# ticket_price = {\"x1\": 300,\n",
    "#                 \"x2\": 160,\n",
    "#                 \"x3\": 360,\n",
    "#                 \"x4\": 110,\n",
    "#                 \"x5\": 130,\n",
    "#                 \"x6\": 280,\n",
    "#                 \"x7\": 100,\n",
    "#                 \"x8\": 80,\n",
    "#                 \"x9\": 140}\n",
    "\n",
    "# # dictionary of upper bound per class\n",
    "# #demand_class = {}"
   ]
  },
  {
   "cell_type": "code",
   "execution_count": 26,
   "id": "82fd9789-1a44-4591-8715-443d1139e73c",
   "metadata": {},
   "outputs": [],
   "source": [
    "# create problem decision variables\n",
    "# add bounds by adding extra argument\n",
    "# you could add lower bound by: lowBound = 0 --> x >= 0 (Default)\n",
    "# you could add upper bound by: upBound = 0 --> x <= 10 \n",
    "\n",
    "# Use the syntax:\n",
    "# xj = LpVariable(\"xj\")\n",
    "\n",
    "# UNCOMMENT BELOW\n",
    "x1 = LpVariable(\"x1\", lowBound = 0) \n",
    "x2 = LpVariable(\"x2\", lowBound = 0) \n",
    "x3 = LpVariable(\"x3\", lowBound = 0) \n",
    "x4 = LpVariable(\"x4\", lowBound = 0) \n",
    "x5 = LpVariable(\"x5\", lowBound = 0)  \n",
    "x6 = LpVariable(\"x6\", lowBound = 0) \n",
    "x7 = LpVariable(\"x7\", lowBound = 0)  \n",
    "x8 = LpVariable(\"x8\", lowBound = 0)  \n",
    "x9 = LpVariable(\"x9\", lowBound = 0)  "
   ]
  },
  {
   "cell_type": "markdown",
   "id": "94efffac-66d4-46f4-ba48-5e14e6e4c6bd",
   "metadata": {},
   "source": [
    "### Old code"
   ]
  },
  {
   "cell_type": "code",
   "execution_count": null,
   "id": "91ede2f3-1c26-4ffe-8d49-4e949efb72e3",
   "metadata": {},
   "outputs": [],
   "source": [
    "# x1 = LpVariable(\"x1\", lowBound = 0) \n",
    "# x2 = LpVariable(\"x2\", lowBound = 0) \n",
    "# x3 = LpVariable(\"x3\", lowBound = 0) \n",
    "# x4 = LpVariable(\"x4\", lowBound = 0) \n",
    "# x5 = LpVariable(\"x5\", lowBound = 0)  \n",
    "# x6 = LpVariable(\"x6\", lowBound = 0) \n",
    "# x7 = LpVariable(\"x7\", lowBound = 0)  \n",
    "# x8 = LpVariable(\"x8\", lowBound = 0)  \n",
    "# x9 = LpVariable(\"x9\", lowBound = 0)  "
   ]
  },
  {
   "cell_type": "code",
   "execution_count": 27,
   "id": "f4fc29f4-35b4-48fd-b824-9593e64c23e9",
   "metadata": {
    "tags": []
   },
   "outputs": [
    {
     "name": "stdout",
     "output_type": "stream",
     "text": [
      "ivy_airline:\n",
      "MAXIMIZE\n",
      "300*x1 + 160*x2 + 360*x3 + 220*x4 + 130*x5 + 280*x6 + 100*x7 + 80*x8 + 140*x9 + 0\n",
      "SUBJECT TO\n",
      "_C1: x1 + x2 + x3 + x4 + x5 + x6 + x7 + x8 + x9 <= 30\n",
      "\n",
      "_C2: x1 <= 4\n",
      "\n",
      "_C3: x2 <= 8\n",
      "\n",
      "_C4: x3 <= 3\n",
      "\n",
      "_C5: x4 <= 8\n",
      "\n",
      "_C6: x5 <= 13\n",
      "\n",
      "_C7: x6 <= 10\n",
      "\n",
      "_C8: x7 <= 22\n",
      "\n",
      "_C9: x8 <= 20\n",
      "\n",
      "_C10: x9 <= 18\n",
      "\n",
      "VARIABLES\n",
      "x1 Continuous\n",
      "x2 Continuous\n",
      "x3 Continuous\n",
      "x4 Continuous\n",
      "x5 Continuous\n",
      "x6 Continuous\n",
      "x7 Continuous\n",
      "x8 Continuous\n",
      "x9 Continuous\n",
      "\n"
     ]
    }
   ],
   "source": [
    "# Setup the problem\n",
    "# ALWAYS put objective function first with variable names created earlier\n",
    "# then add constraints\n",
    "\n",
    "# objective function\n",
    "# the variables has to be created earlier using \"xn = LpVariable('xn')\"\n",
    "#Lp_prob += c1 * x1 + c2 * x2 + ... + cn * xn\n",
    "Lp_prob += 300 * x1 + 160 * x2 + 360 * x3 + 220 * x4 + 130 * x5 + 280 * x6 + 100 * x7 + 80 * x8 + 140 * x9\n",
    "# constraints, add it one by one\n",
    "\n",
    "# UNCOMMENT BELOW\n",
    "# constraint 1 \n",
    "Lp_prob += x1 + x2 + x3 + x4 + x5 + x6 + x7 + x8 + x9 <= 30\n",
    "# constraint 2\n",
    "Lp_prob += x1 <= 4\n",
    "# constraint 3\n",
    "Lp_prob += x2 <= 8\n",
    "# constraint 4\n",
    "Lp_prob += x3 <= 3\n",
    "# constraint 5\n",
    "Lp_prob += x4 <= 8\n",
    "# constraint 6\n",
    "Lp_prob += x5 <= 13\n",
    "# constraint 7\n",
    "Lp_prob += x6 <= 10\n",
    "# constraint 8\n",
    "Lp_prob += x7 <= 22\n",
    "# constraint 9\n",
    "Lp_prob += x8 <= 20\n",
    "# constraint 10\n",
    "Lp_prob += x9 <= 18\n",
    "\n",
    "# display problem\n",
    "print(Lp_prob)\n"
   ]
  },
  {
   "cell_type": "code",
   "execution_count": 28,
   "id": "798d4447-daa6-47c6-adb9-054bd68c6ef1",
   "metadata": {},
   "outputs": [
    {
     "name": "stdout",
     "output_type": "stream",
     "text": [
      "Status: Optimal\n",
      "x1 = 4.0\n",
      "x2 = 5.0\n",
      "x3 = 3.0\n",
      "x4 = 8.0\n",
      "x5 = 0.0\n",
      "x6 = 10.0\n",
      "x7 = 0.0\n",
      "x8 = 0.0\n",
      "x9 = 0.0\n",
      "Optimal value is z =  7640.0\n"
     ]
    }
   ],
   "source": [
    "# UNCOMMENT BELOw\n",
    "# Solve the lp problem\n",
    "Lp_prob.solve()\n",
    "# check lp problem status if equals Optimal,\n",
    "if not LpStatus[Lp_prob.status] == \"Optimal\":\n",
    "    print(f\"Optimal Solution was not found, the problem was {LpStatus[Lp_prob.status]}\")\n",
    "else:\n",
    "    print ((\"Status:\"), LpStatus[Lp_prob.status])\n",
    "    for variable in Lp_prob.variables():\n",
    "        print(variable.name, \"=\", variable.varValue)\n",
    "    print(\"Optimal value is z = \", value(Lp_prob.objective))"
   ]
  }
 ],
 "metadata": {
  "kernelspec": {
   "display_name": "Python 3 (ipykernel)",
   "language": "python",
   "name": "python3"
  },
  "language_info": {
   "codemirror_mode": {
    "name": "ipython",
    "version": 3
   },
   "file_extension": ".py",
   "mimetype": "text/x-python",
   "name": "python",
   "nbconvert_exporter": "python",
   "pygments_lexer": "ipython3",
   "version": "3.10.8"
  }
 },
 "nbformat": 4,
 "nbformat_minor": 5
}
