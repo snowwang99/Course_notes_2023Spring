{
 "cells": [
  {
   "cell_type": "code",
   "execution_count": 1,
   "id": "95609c26-d909-4acf-b715-46998da39e96",
   "metadata": {},
   "outputs": [],
   "source": [
    "# HW2 pulp answer"
   ]
  },
  {
   "cell_type": "code",
   "execution_count": 2,
   "id": "6c8e84ae-0714-4a2d-8deb-7ff66774a412",
   "metadata": {},
   "outputs": [],
   "source": [
    "# imports\n",
    "import pulp\n",
    "from pulp import *"
   ]
  },
  {
   "cell_type": "markdown",
   "id": "eef9cc2d-29fa-49dc-951a-006e8deed7fe",
   "metadata": {},
   "source": [
    "### Question 1 Vanderbei 5th. Edition ex1.1"
   ]
  },
  {
   "cell_type": "code",
   "execution_count": null,
   "id": "ed2f7ecb-3435-4004-99af-1033a77871e8",
   "metadata": {},
   "outputs": [],
   "source": []
  },
  {
   "cell_type": "markdown",
   "id": "bd9c394d-48e4-4108-9769-c7fa639ff41a",
   "metadata": {},
   "source": [
    "### Question 2 Vanderbei 5th.Edition ex1.2"
   ]
  },
  {
   "cell_type": "code",
   "execution_count": null,
   "id": "ffbb3f92-f752-4fdf-af7d-fa08ee93a520",
   "metadata": {},
   "outputs": [],
   "source": []
  },
  {
   "cell_type": "code",
   "execution_count": null,
   "id": "2aba3fbb-44c3-416f-9134-31971fb5ed11",
   "metadata": {},
   "outputs": [],
   "source": []
  }
 ],
 "metadata": {
  "kernelspec": {
   "display_name": "Python 3 (ipykernel)",
   "language": "python",
   "name": "python3"
  },
  "language_info": {
   "codemirror_mode": {
    "name": "ipython",
    "version": 3
   },
   "file_extension": ".py",
   "mimetype": "text/x-python",
   "name": "python",
   "nbconvert_exporter": "python",
   "pygments_lexer": "ipython3",
   "version": "3.10.8"
  }
 },
 "nbformat": 4,
 "nbformat_minor": 5
}
