{
 "cells": [
  {
   "cell_type": "markdown",
   "metadata": {},
   "source": [
    "# Blending problem. "
   ]
  },
  {
   "cell_type": "markdown",
   "metadata": {},
   "source": [
    "Copied from https://coin-or.github.io/pulp/CaseStudies/a_blending_problem.html#problem-description"
   ]
  },
  {
   "cell_type": "markdown",
   "metadata": {},
   "source": [
    "The_Whiskas_Problem:\n",
    "\n",
    "MINIMIZE\n",
    "\n",
    "0.018* BEEF + 0.3* CHICKEN + 0.011* GEL + 0.01*MUTTON + 0.02*RICE + 0.05*WHEAT\n",
    "\n",
    "SUBJECT TO\n",
    "\n",
    "PercentagesSum: BEEF + CHICKEN + GEL + MUTTON + RICE  + WHEAT = 100\n",
    "\n",
    "ProteinRequirement: 0.2 BEEF + 0.1 Ingr_CHICKEN + 0.15 MUTTON + 0.04 WHEAT >= 8\n",
    "\n",
    "FatRequirement: 0.1 BEEF + 0.08 Ingr_CHICKEN + 0.11 MUTTON + 0.01 RICE + 0.01 WHEAT >= 6\n",
    "\n",
    "FibreRequirement: 0.005 BEEF + 0.001 CHICKEN + 0.003 MUTTON + 0.1 RICE + 0.15 WHEAT <= 2\n",
    "\n",
    "SaltRequirement: 0.005 BEEF + 0.002 CHICKEN + 0.007 MUTTON  + 0.002 RICE + 0.008 WHEAT <= 0.4\n",
    "\n",
    "\n",
    "Nonnegativity:  BEEF, CHICKEN, MUTTON, RICE, WHEAT  >= 0 \n"
   ]
  },
  {
   "cell_type": "markdown",
   "metadata": {},
   "source": [
    "#   Steps for installing PuLP"
   ]
  },
  {
   "cell_type": "code",
   "execution_count": 1,
   "metadata": {},
   "outputs": [
    {
     "name": "stdout",
     "output_type": "stream",
     "text": [
      "Requirement already satisfied: pulp in /opt/conda/lib/python3.8/site-packages (2.3)\n",
      "Requirement already satisfied: amply>=0.1.2 in /opt/conda/lib/python3.8/site-packages (from pulp) (0.1.2)\n",
      "Requirement already satisfied: pyparsing in /opt/conda/lib/python3.8/site-packages (from amply>=0.1.2->pulp) (2.4.7)\n",
      "Requirement already satisfied: docutils>=0.3 in /opt/conda/lib/python3.8/site-packages (from amply>=0.1.2->pulp) (0.15.2)\n"
     ]
    }
   ],
   "source": [
    "import sys\n",
    "!{sys.executable} -m pip install pulp "
   ]
  },
  {
   "cell_type": "code",
   "execution_count": 1,
   "metadata": {},
   "outputs": [],
   "source": [
    "import pulp"
   ]
  },
  {
   "cell_type": "code",
   "execution_count": 2,
   "metadata": {},
   "outputs": [],
   "source": [
    "\"\"\"\n",
    "The Full Whiskas Model Python Formulation for the PuLP Modeller\n",
    "\n",
    "Authors: Antony Phillips, Dr Stuart Mitchell  2007\n",
    "\"\"\"\n",
    "\n",
    "# Import PuLP modeler functions\n",
    "from pulp import *    # Here because of * we will not put `pulp' before each pulp command; e.g. instead of pulp.LpVariable, we simply write LpVariable. "
   ]
  },
  {
   "cell_type": "markdown",
   "metadata": {},
   "source": [
    "# Steps for Decision Variables. "
   ]
  },
  {
   "cell_type": "code",
   "execution_count": null,
   "metadata": {},
   "outputs": [],
   "source": [
    "#"
   ]
  },
  {
   "cell_type": "code",
   "execution_count": 3,
   "metadata": {},
   "outputs": [],
   "source": [
    "# Creates a list of the Ingredients\n",
    "Ingredients = ['CHICKEN', 'BEEF', 'MUTTON', 'RICE', 'WHEAT', 'GEL']   # This gives the names for the indexes in the vector \n",
    "\n",
    "# A dictionary of the costs of each of the Ingredients is created. They give vector values. \n",
    "costs = {'CHICKEN': 0.30, #originally 0.013 \n",
    "         'BEEF': 0.018, #originally 0.008 \n",
    "         'MUTTON': 0.010, #originally 0.010 \n",
    "         'RICE': 0.02, #originally 0.002 \n",
    "         'WHEAT': 0.05, #originally 0.005 \n",
    "         'GEL': 0.011}  #originally 0.001 \n",
    "\n",
    "# A dictionary of the protein percent in each of the Ingredients is created\n",
    "proteinPercent = {'CHICKEN': 0.100, \n",
    "                  'BEEF': 0.200, \n",
    "                  'MUTTON': 0.150, \n",
    "                  'RICE': 0.000, \n",
    "                  'WHEAT': 0.040, \n",
    "                  'GEL': 0.000}\n",
    "\n",
    "# A dictionary of the fat percent in each of the Ingredients is created\n",
    "fatPercent = {'CHICKEN': 0.080, \n",
    "              'BEEF': 0.100, \n",
    "              'MUTTON': 0.110, \n",
    "              'RICE': 0.010, \n",
    "              'WHEAT': 0.010, \n",
    "              'GEL': 0.000}\n",
    "\n",
    "# A dictionary of the fibre percent in each of the Ingredients is created\n",
    "fibrePercent = {'CHICKEN': 0.001, \n",
    "                'BEEF': 0.005, \n",
    "                'MUTTON': 0.003, \n",
    "                'RICE': 0.100, \n",
    "                'WHEAT': 0.150, \n",
    "                'GEL': 0.000}\n",
    "\n",
    "# A dictionary of the salt percent in each of the Ingredients is created\n",
    "saltPercent = {'CHICKEN': 0.002, \n",
    "               'BEEF': 0.005, \n",
    "               'MUTTON': 0.007, \n",
    "               'RICE': 0.002, \n",
    "               'WHEAT': 0.008, \n",
    "               'GEL': 0.000}"
   ]
  },
  {
   "cell_type": "code",
   "execution_count": 4,
   "metadata": {},
   "outputs": [],
   "source": [
    "# Create the 'prob' variable to contain the problem data\n",
    "prob = LpProblem(\"The_Whiskas_Problem\", LpMinimize)"
   ]
  },
  {
   "cell_type": "code",
   "execution_count": 5,
   "metadata": {},
   "outputs": [],
   "source": [
    "# A dictionary called 'ingredient_vars' is created to contain the referenced Variables\n",
    "ingredient_vars = LpVariable.dicts(\"Ingr\", Ingredients, 0)    # Here the last value '0' gives the lower bound for the variable. \n",
    "# Here \"Ingr\" is what appears when we print its name; e.g. Ingr_Beef. In the code, `ingredient_vars' is the name in the code.  \n",
    "# We use the `dicts' command to use the previously given dictionary `Ingredient'."
   ]
  },
  {
   "cell_type": "markdown",
   "metadata": {},
   "source": [
    "# Objective function"
   ]
  },
  {
   "cell_type": "code",
   "execution_count": 7,
   "metadata": {},
   "outputs": [
    {
     "data": {
      "text/plain": [
       "{'CHICKEN': 0.3,\n",
       " 'BEEF': 0.018,\n",
       " 'MUTTON': 0.01,\n",
       " 'RICE': 0.02,\n",
       " 'WHEAT': 0.05,\n",
       " 'GEL': 0.011}"
      ]
     },
     "execution_count": 7,
     "metadata": {},
     "output_type": "execute_result"
    }
   ],
   "source": [
    "costs"
   ]
  },
  {
   "cell_type": "code",
   "execution_count": 6,
   "metadata": {},
   "outputs": [
    {
     "data": {
      "text/plain": [
       "{'CHICKEN': Ingr_CHICKEN,\n",
       " 'BEEF': Ingr_BEEF,\n",
       " 'MUTTON': Ingr_MUTTON,\n",
       " 'RICE': Ingr_RICE,\n",
       " 'WHEAT': Ingr_WHEAT,\n",
       " 'GEL': Ingr_GEL}"
      ]
     },
     "execution_count": 6,
     "metadata": {},
     "output_type": "execute_result"
    }
   ],
   "source": [
    "ingredient_vars"
   ]
  },
  {
   "cell_type": "code",
   "execution_count": 7,
   "metadata": {},
   "outputs": [],
   "source": [
    "# The objective function is added to 'prob' first\n",
    "prob += lpSum([costs[i]*ingredient_vars[i] for i in Ingredients]), \"Total Cost of Ingredients per can\"   \n",
    "# Here \"Total Cost of Ingredients per can\" gives an explanation comment. Do not forget to put the comma `.` before it. "
   ]
  },
  {
   "cell_type": "markdown",
   "metadata": {},
   "source": [
    "# Constraints"
   ]
  },
  {
   "cell_type": "code",
   "execution_count": 8,
   "metadata": {},
   "outputs": [],
   "source": [
    "# The five constraints are added to 'prob'\n",
    "prob += lpSum([ingredient_vars[i] for i in Ingredients]) == 100, \"PercentagesSum\"\n",
    "prob += lpSum([proteinPercent[i] * ingredient_vars[i] for i in Ingredients]) >= 8.0, \"ProteinRequirement\"\n",
    "prob += lpSum([fatPercent[i] * ingredient_vars[i] for i in Ingredients]) >= 6.0, \"FatRequirement\"\n",
    "prob += lpSum([fibrePercent[i] * ingredient_vars[i] for i in Ingredients]) <= 2.0, \"FibreRequirement\"\n",
    "prob += lpSum([saltPercent[i] * ingredient_vars[i] for i in Ingredients]) <= 0.4, \"SaltRequirement\""
   ]
  },
  {
   "cell_type": "markdown",
   "metadata": {},
   "source": [
    "Notice that we did not add the condition that the ingridients are >=0, as it was given in ingredient_vars = LpVariable.dicts(\"Ingr\",Ingredients, 0)   by adding the `0`.\n",
    "\n",
    "If we did not add `0` there, we can instead add the contraints in the code as \n",
    "\n",
    "`for i in Ingredients:\n",
    "    prob += ingredient_vars[i] >= 0`"
   ]
  },
  {
   "cell_type": "markdown",
   "metadata": {},
   "source": [
    "# Show the LP problem."
   ]
  },
  {
   "cell_type": "code",
   "execution_count": 9,
   "metadata": {},
   "outputs": [
    {
     "data": {
      "text/plain": [
       "[Ingr_BEEF, Ingr_CHICKEN, Ingr_GEL, Ingr_MUTTON, Ingr_RICE, Ingr_WHEAT]"
      ]
     },
     "execution_count": 9,
     "metadata": {},
     "output_type": "execute_result"
    }
   ],
   "source": [
    "# You can write the problem to an .lp file\n",
    "prob.writeLP(\"WhiskasModel.lp\")"
   ]
  },
  {
   "cell_type": "code",
   "execution_count": 10,
   "metadata": {},
   "outputs": [
    {
     "name": "stdout",
     "output_type": "stream",
     "text": [
      "The_Whiskas_Problem:\n",
      "MINIMIZE\n",
      "0.018*Ingr_BEEF + 0.3*Ingr_CHICKEN + 0.011*Ingr_GEL + 0.01*Ingr_MUTTON + 0.02*Ingr_RICE + 0.05*Ingr_WHEAT + 0.0\n",
      "SUBJECT TO\n",
      "PercentagesSum: Ingr_BEEF + Ingr_CHICKEN + Ingr_GEL + Ingr_MUTTON + Ingr_RICE\n",
      " + Ingr_WHEAT = 100\n",
      "\n",
      "ProteinRequirement: 0.2 Ingr_BEEF + 0.1 Ingr_CHICKEN + 0.15 Ingr_MUTTON\n",
      " + 0.04 Ingr_WHEAT >= 8\n",
      "\n",
      "FatRequirement: 0.1 Ingr_BEEF + 0.08 Ingr_CHICKEN + 0.11 Ingr_MUTTON\n",
      " + 0.01 Ingr_RICE + 0.01 Ingr_WHEAT >= 6\n",
      "\n",
      "FibreRequirement: 0.005 Ingr_BEEF + 0.001 Ingr_CHICKEN + 0.003 Ingr_MUTTON\n",
      " + 0.1 Ingr_RICE + 0.15 Ingr_WHEAT <= 2\n",
      "\n",
      "SaltRequirement: 0.005 Ingr_BEEF + 0.002 Ingr_CHICKEN + 0.007 Ingr_MUTTON\n",
      " + 0.002 Ingr_RICE + 0.008 Ingr_WHEAT <= 0.4\n",
      "\n",
      "VARIABLES\n",
      "Ingr_BEEF Continuous\n",
      "Ingr_CHICKEN Continuous\n",
      "Ingr_GEL Continuous\n",
      "Ingr_MUTTON Continuous\n",
      "Ingr_RICE Continuous\n",
      "Ingr_WHEAT Continuous\n",
      "\n"
     ]
    }
   ],
   "source": [
    "# Or you can directly display the problem here.\n",
    "\n",
    "print(prob)"
   ]
  },
  {
   "cell_type": "markdown",
   "metadata": {},
   "source": [
    "`Notice that the lower bound >=0 for the variable is not shown, as it is the default condition. If you had changed the lowerbound to something else, then it will show up here. `"
   ]
  },
  {
   "cell_type": "markdown",
   "metadata": {},
   "source": [
    "# Solve the LP."
   ]
  },
  {
   "cell_type": "code",
   "execution_count": 11,
   "metadata": {},
   "outputs": [
    {
     "name": "stdout",
     "output_type": "stream",
     "text": [
      "Status: Optimal\n"
     ]
    }
   ],
   "source": [
    "# The problem is solved using PuLP's choice of Solver\n",
    "prob.solve()\n",
    "# The status of the solution is printed to the screen\n",
    "print(\"Status:\", LpStatus[prob.status])"
   ]
  },
  {
   "cell_type": "markdown",
   "metadata": {},
   "source": [
    "# Get the "
   ]
  },
  {
   "cell_type": "code",
   "execution_count": 12,
   "metadata": {},
   "outputs": [
    {
     "name": "stdout",
     "output_type": "stream",
     "text": [
      "Ingr_BEEF = 0.0\n",
      "Ingr_CHICKEN = 0.0\n",
      "Ingr_GEL = 42.857143\n",
      "Ingr_MUTTON = 57.142857\n",
      "Ingr_RICE = 0.0\n",
      "Ingr_WHEAT = 0.0\n"
     ]
    }
   ],
   "source": [
    "# Each of the variables is printed with it's resolved optimum value\n",
    "for a in prob.variables():\n",
    "    print(a.name, \"=\", a.varValue)"
   ]
  },
  {
   "cell_type": "code",
   "execution_count": 13,
   "metadata": {},
   "outputs": [
    {
     "name": "stdout",
     "output_type": "stream",
     "text": [
      "Total Cost of Ingredients per can =  1.042857143\n"
     ]
    }
   ],
   "source": [
    "print(\"Total Cost of Ingredients per can = \", value(prob.objective))"
   ]
  },
  {
   "cell_type": "markdown",
   "metadata": {},
   "source": [
    "Other way to write the final results. "
   ]
  },
  {
   "cell_type": "code",
   "execution_count": 14,
   "metadata": {},
   "outputs": [
    {
     "name": "stdout",
     "output_type": "stream",
     "text": [
      "Optimal\n",
      "Variable Ingr_BEEF = 0.0\n",
      "Variable Ingr_CHICKEN = 0.0\n",
      "Variable Ingr_GEL = 42.857143\n",
      "Variable Ingr_MUTTON = 57.142857\n",
      "Variable Ingr_RICE = 0.0\n",
      "Variable Ingr_WHEAT = 0.0\n",
      "Objective function z = 1.042857143\n"
     ]
    }
   ],
   "source": [
    "print(LpStatus[prob.status])\n",
    "for i in prob.variables():\n",
    "    print(\"Variable {0} = {1}\".format(i.name, i.varValue))\n",
    "print(\"Objective function z = {0}\".format(value(prob.objective)))"
   ]
  },
  {
   "cell_type": "code",
   "execution_count": null,
   "metadata": {},
   "outputs": [],
   "source": []
  },
  {
   "cell_type": "code",
   "execution_count": null,
   "metadata": {},
   "outputs": [],
   "source": []
  },
  {
   "cell_type": "code",
   "execution_count": null,
   "metadata": {},
   "outputs": [],
   "source": []
  },
  {
   "cell_type": "code",
   "execution_count": null,
   "metadata": {},
   "outputs": [],
   "source": []
  }
 ],
 "metadata": {
  "kernelspec": {
   "display_name": "Python 3 (ipykernel)",
   "language": "python",
   "name": "python3"
  },
  "language_info": {
   "codemirror_mode": {
    "name": "ipython",
    "version": 3
   },
   "file_extension": ".py",
   "mimetype": "text/x-python",
   "name": "python",
   "nbconvert_exporter": "python",
   "pygments_lexer": "ipython3",
   "version": "3.10.8"
  }
 },
 "nbformat": 4,
 "nbformat_minor": 4
}
