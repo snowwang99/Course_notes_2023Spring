{
 "cells": [
  {
   "cell_type": "markdown",
   "id": "fd718cc9-1796-4062-9a0f-78d978da6f6e",
   "metadata": {},
   "source": [
    "# Solving linear problem with Pulp package Template"
   ]
  },
  {
   "cell_type": "markdown",
   "id": "fbc14fa2-07c2-47e1-b908-2aa73ee85438",
   "metadata": {},
   "source": [
    "This is a template notebook to solve Linear Programming (LP) problem with the pulp package, for official documentation, please see [here](https://coin-or.github.io/pulp/). Below, there are going to be code templates for you to fill in and quicky solve a LP problem for you."
   ]
  },
  {
   "cell_type": "markdown",
   "id": "e64f9e14-3b2a-4cef-9322-400fd2ea28d7",
   "metadata": {},
   "source": [
    "First step is to import the library:\n",
    "\n",
    "There are two ways:\n",
    "```python\n",
    "import pulp\n",
    "from pulp import *\n",
    "```\n",
    "\n",
    "This way just loads the entire library's function to current workspace **(recommended)**\n",
    "\n",
    "\n",
    "```python\n",
    "import pulp as pl\n",
    "```\n",
    " This way loads the library only, you still need to use `pl.<function_name>` to call functions\n"
   ]
  },
  {
   "cell_type": "markdown",
   "id": "af1a4bb8-bfd5-4910-86de-1113ef8a7c9b",
   "metadata": {},
   "source": [
    "Then, it is recommended to first formulate your question in standard inequality form and type it out with LaTeX as following:\n",
    "\n",
    "\\begin{equation}\n",
    "\\begin{aligned}\n",
    "& \\underset{x}{\\text{max}}\n",
    "& & c^T x \\\\\n",
    "& \\text{s.t.} & &  A\\overrightarrow{x} \\leq b_i ; \\forall i, i = 1, ... , n\\\\\n",
    "& & &  x_j \\geq 0; \\forall j, j = 1, ..., n\n",
    "\\end{aligned}\n",
    "\\end{equation}"
   ]
  },
  {
   "cell_type": "markdown",
   "id": "136f7d46-b359-4899-a7a0-dfde8be85f86",
   "metadata": {},
   "source": [
    "$\\text{Maximize} \\hspace{5pt}c_1x_1 + c_2x_2 + \\dots + c_n x_n$\n",
    "\n",
    "Subject to\n",
    "\n",
    "$a_{11} + a_{12} + \\dots + a_{1n} \\leq b_1$\n",
    "\n",
    "$\\dots \\dots \\dots \\dots \\dots \\dots \\dots \\dots \\dots$\n",
    "\n",
    "$a_{m1} + a_{m2} + \\dots + a_{mn} \\leq b_n$\n",
    "\n",
    "$x_1 , x_2, \\dots, x_n \\geq 0$\n",
    "\n",
    "Next, just follow codes using the recommended way of importing"
   ]
  },
  {
   "cell_type": "code",
   "execution_count": 2,
   "id": "9714c15f-7ee4-4fc1-a0aa-d1d58cc69172",
   "metadata": {},
   "outputs": [],
   "source": [
    "# imports\n",
    "import pulp\n",
    "from pulp import *"
   ]
  },
  {
   "cell_type": "code",
   "execution_count": 3,
   "id": "500018de-0ece-4fa1-8b88-f00eb3694fc9",
   "metadata": {},
   "outputs": [],
   "source": [
    "# Creates LP problem\n",
    "# FILL IN PROBLEM NAME WITH STRING\n",
    "\n",
    "# UNCOMMENT BELOW\n",
    "# PROBLEM_NAME=\"\"\n",
    "# Lp_prob = LpProblem(PROBLEM_NAME, LpMaximize) # default is Minimize, but course uses max\n",
    "# Lp_prob"
   ]
  },
  {
   "cell_type": "code",
   "execution_count": 4,
   "id": "82fd9789-1a44-4591-8715-443d1139e73c",
   "metadata": {},
   "outputs": [],
   "source": [
    "# create problem decision variables\n",
    "# add bounds by adding extra argument\n",
    "# you could add lower bound by: lowBound = 0 --> x >= 0 (Default)\n",
    "# you could add upper bound by: upBound = 0 --> x <= 10 \n",
    "\n",
    "# Use the syntax:\n",
    "# xj = LpVariable(\"xj\")\n",
    "\n",
    "# UNCOMMENT BELOW\n",
    "# x1 = LpVariable(\"x1\") # create varibale x >= 0\n",
    "# x2 = LpVariable(\"x2\")\n",
    "# x3 = LpVariable(\"x3\")"
   ]
  },
  {
   "cell_type": "code",
   "execution_count": null,
   "id": "f4fc29f4-35b4-48fd-b824-9593e64c23e9",
   "metadata": {
    "tags": []
   },
   "outputs": [],
   "source": [
    "# Setup the problem\n",
    "# ALWAYS put objective function first with variable names created earlier\n",
    "# then add constraints\n",
    "\n",
    "# objective function\n",
    "# the variables has to be created earlier using \"xn = LpVariable('xn')\"\n",
    "#Lp_prob += c1 * x1 + c2 * x2 + ... + cn * xn\n",
    "#print(Lp_prob)\n",
    "\n",
    "# constraints, add it one by one\n",
    "\n",
    "# UNCOMMENT BELOW\n",
    "# # constraint 1\n",
    "# Lp_prob += (a11 * x1) + (a12*x2 ) <= b1\n",
    "# # constraint 2\n",
    "# Lp_prob += x1 <= b2\n",
    "# # constraint 3\n",
    "# Lp_prob += x2 <= b3\n",
    "\n",
    "# display problem\n",
    "#print(Lp_prob)\n"
   ]
  },
  {
   "cell_type": "code",
   "execution_count": null,
   "id": "798d4447-daa6-47c6-adb9-054bd68c6ef1",
   "metadata": {},
   "outputs": [],
   "source": [
    "# UNCOMMENT BELOw\n",
    "# # Solve the lp problem\n",
    "# Lp_prob.solve()\n",
    "# # check lp problem status if equals Optimal,\n",
    "# if not LpStatus[Lp_prob.status] == \"Optimal\":\n",
    "#     print(f\"Optimal Solution was not found, the problem was {LpStatus[Lp_prob.status]}\")\n",
    "# else:\n",
    "#     for variable in Lp_prob.variables():\n",
    "#         print(variable.name, \"=\", variable.varValue)\n",
    "#     print(\"Optimal value is z = \", value(Lp_prob.objective))"
   ]
  }
 ],
 "metadata": {
  "kernelspec": {
   "display_name": "Python 3 (ipykernel)",
   "language": "python",
   "name": "python3"
  },
  "language_info": {
   "codemirror_mode": {
    "name": "ipython",
    "version": 3
   },
   "file_extension": ".py",
   "mimetype": "text/x-python",
   "name": "python",
   "nbconvert_exporter": "python",
   "pygments_lexer": "ipython3",
   "version": "3.10.8"
  }
 },
 "nbformat": 4,
 "nbformat_minor": 5
}
