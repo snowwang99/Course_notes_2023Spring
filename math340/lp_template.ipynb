{
 "cells": [
  {
   "cell_type": "markdown",
   "id": "fd718cc9-1796-4062-9a0f-78d978da6f6e",
   "metadata": {},
   "source": [
    "# Solving linear problem with Pulp package Template"
   ]
  },
  {
   "cell_type": "markdown",
   "id": "fbc14fa2-07c2-47e1-b908-2aa73ee85438",
   "metadata": {},
   "source": [
    "This is a template notebook to solve Linear Programming (LP) problem with the pulp package, for official documentation, please see [here](https://coin-or.github.io/pulp/). Below, there are going to be code templates for you to fill in and quicky solve a LP problem for you."
   ]
  },
  {
   "cell_type": "code",
   "execution_count": null,
   "id": "e4169978-54a2-4eec-bb50-8e6ad1ca71f4",
   "metadata": {},
   "outputs": [],
   "source": []
  }
 ],
 "metadata": {
  "kernelspec": {
   "display_name": "Python 3 (ipykernel)",
   "language": "python",
   "name": "python3"
  },
  "language_info": {
   "codemirror_mode": {
    "name": "ipython",
    "version": 3
   },
   "file_extension": ".py",
   "mimetype": "text/x-python",
   "name": "python",
   "nbconvert_exporter": "python",
   "pygments_lexer": "ipython3",
   "version": "3.10.8"
  }
 },
 "nbformat": 4,
 "nbformat_minor": 5
}
