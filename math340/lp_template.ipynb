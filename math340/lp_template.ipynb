{
 "cells": [
  {
   "cell_type": "markdown",
   "id": "fd718cc9-1796-4062-9a0f-78d978da6f6e",
   "metadata": {},
   "source": [
    "# Solving linear problem with Pulp package Template"
   ]
  },
  {
   "cell_type": "markdown",
   "id": "fbc14fa2-07c2-47e1-b908-2aa73ee85438",
   "metadata": {},
   "source": [
    "This is a template notebook to solve Linear Programming (LP) problem with the pulp package, for official documentation, please see [here](https://coin-or.github.io/pulp/). Below, there are going to be code templates for you to fill in and quicky solve a LP problem for you."
   ]
  },
  {
   "cell_type": "markdown",
   "id": "e64f9e14-3b2a-4cef-9322-400fd2ea28d7",
   "metadata": {},
   "source": [
    "First step is to import the library:\n",
    "\n",
    "There are two ways:\n",
    "```python\n",
    "import pulp\n",
    "from pulp import *\n",
    "```\n",
    "\n",
    "This way just loads the entire library's function to current workspace **(recommended)**\n",
    "\n",
    "\n",
    "```python\n",
    "import pulp as pl\n",
    "```\n",
    " This way loads the library only, you still need to use `pl.<function_name>` to call functions\n"
   ]
  },
  {
   "cell_type": "markdown",
   "id": "af1a4bb8-bfd5-4910-86de-1113ef8a7c9b",
   "metadata": {},
   "source": [
    "Then, it is recommended to first formulate your question in standard inequality form and type it out with LaTeX as following:\n",
    "\n",
    "\\begin{equation}\n",
    "\\begin{aligned}\n",
    "& \\underset{x}{\\text{max}}\n",
    "& & c^T x \\\\\n",
    "& \\text{s.t.} & &  A\\overrightarrow{x} \\leq b_i ; \\forall i, i = 1, ... , n\\\\\n",
    "& & &  x_j \\geq 0; \\forall j, j = 1, ..., n\n",
    "\\end{aligned}\n",
    "\\end{equation}"
   ]
  },
  {
   "cell_type": "markdown",
   "id": "136f7d46-b359-4899-a7a0-dfde8be85f86",
   "metadata": {},
   "source": [
    "$\\text{Maximize} \\hspace{5pt}c_1x_1 + c_2x_2 + \\dots + c_n x_n$\n",
    "\n",
    "Subject to\n",
    "\n",
    "$a_{11} + a_{12} + \\dots + a_{1n} \\leq b_1$\n",
    "\n",
    "$\\dots \\dots \\dots \\dots \\dots \\dots \\dots \\dots \\dots$\n",
    "\n",
    "$a_{m1} + a_{m2} + \\dots + a_{mn} \\leq b_n$\n",
    "\n",
    "$x_1 , x_2, \\dots, x_n \\geq 0$"
   ]
  }
 ],
 "metadata": {
  "kernelspec": {
   "display_name": "Python 3 (ipykernel)",
   "language": "python",
   "name": "python3"
  },
  "language_info": {
   "codemirror_mode": {
    "name": "ipython",
    "version": 3
   },
   "file_extension": ".py",
   "mimetype": "text/x-python",
   "name": "python",
   "nbconvert_exporter": "python",
   "pygments_lexer": "ipython3",
   "version": "3.10.8"
  }
 },
 "nbformat": 4,
 "nbformat_minor": 5
}
