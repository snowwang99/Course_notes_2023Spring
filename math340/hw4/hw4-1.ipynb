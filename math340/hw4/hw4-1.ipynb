{
 "cells": [
  {
   "cell_type": "markdown",
   "id": "b7684c93-2e50-4bde-9d46-643f58cf45dd",
   "metadata": {},
   "source": [
    "# HW4-1 Matrix Problem"
   ]
  },
  {
   "cell_type": "markdown",
   "id": "ca45a22a-5883-4e3a-a6c7-a531f100bed6",
   "metadata": {},
   "source": [
    "Consider $m \\times n$-matrix $A$ and the vector $b \\in \\mathbb{R}^m$  that are given by $A = [a_{ij}], b = [b_i]$, where\n",
    "\n",
    "$$a_{ij} = (-1)^{i+1} (i-j), b_i = (-1)^i \\text{for} i = 1, \\ldots m \\text{and j} = 1, \\ldots, n$$"
   ]
  },
  {
   "cell_type": "code",
   "execution_count": 1,
   "id": "1d95832b-bea5-468c-91cb-d98058d56289",
   "metadata": {},
   "outputs": [],
   "source": [
    "M = 10\n",
    "N = 10"
   ]
  },
  {
   "cell_type": "code",
   "execution_count": 3,
   "id": "12372212-2f8e-407f-894e-27e8a26728dc",
   "metadata": {},
   "outputs": [],
   "source": [
    "column = [j+1 for j in range(N)]\n",
    "row = [i+1 for i in range(M)]"
   ]
  },
  {
   "cell_type": "code",
   "execution_count": 4,
   "id": "d85e79b6-9f5c-4435-b653-46ece3e091b9",
   "metadata": {},
   "outputs": [],
   "source": [
    "\n",
    "A = {i:{j:(-1)**(i+j)*(i-j) for j in column} for i in row}\n",
    "b = {i: (-1)**(i) for i in row}"
   ]
  },
  {
   "cell_type": "code",
   "execution_count": 9,
   "id": "56774564-88c3-4136-913b-9c5e1debb263",
   "metadata": {},
   "outputs": [
    {
     "data": {
      "text/plain": [
       "3"
      ]
     },
     "execution_count": 9,
     "metadata": {},
     "output_type": "execute_result"
    }
   ],
   "source": [
    "A[1][4]"
   ]
  },
  {
   "cell_type": "code",
   "execution_count": 5,
   "id": "40ee546a-baf1-4f27-93f5-b2f1298800cb",
   "metadata": {},
   "outputs": [
    {
     "data": {
      "text/plain": [
       "{1: {1: 0, 2: 1, 3: -2, 4: 3, 5: -4, 6: 5, 7: -6, 8: 7, 9: -8, 10: 9},\n",
       " 2: {1: -1, 2: 0, 3: 1, 4: -2, 5: 3, 6: -4, 7: 5, 8: -6, 9: 7, 10: -8},\n",
       " 3: {1: 2, 2: -1, 3: 0, 4: 1, 5: -2, 6: 3, 7: -4, 8: 5, 9: -6, 10: 7},\n",
       " 4: {1: -3, 2: 2, 3: -1, 4: 0, 5: 1, 6: -2, 7: 3, 8: -4, 9: 5, 10: -6},\n",
       " 5: {1: 4, 2: -3, 3: 2, 4: -1, 5: 0, 6: 1, 7: -2, 8: 3, 9: -4, 10: 5},\n",
       " 6: {1: -5, 2: 4, 3: -3, 4: 2, 5: -1, 6: 0, 7: 1, 8: -2, 9: 3, 10: -4},\n",
       " 7: {1: 6, 2: -5, 3: 4, 4: -3, 5: 2, 6: -1, 7: 0, 8: 1, 9: -2, 10: 3},\n",
       " 8: {1: -7, 2: 6, 3: -5, 4: 4, 5: -3, 6: 2, 7: -1, 8: 0, 9: 1, 10: -2},\n",
       " 9: {1: 8, 2: -7, 3: 6, 4: -5, 5: 4, 6: -3, 7: 2, 8: -1, 9: 0, 10: 1},\n",
       " 10: {1: -9, 2: 8, 3: -7, 4: 6, 5: -5, 6: 4, 7: -3, 8: 2, 9: -1, 10: 0}}"
      ]
     },
     "execution_count": 5,
     "metadata": {},
     "output_type": "execute_result"
    }
   ],
   "source": [
    "A"
   ]
  },
  {
   "cell_type": "code",
   "execution_count": null,
   "id": "862b63bb-db60-411a-b5dc-48295e84ece4",
   "metadata": {},
   "outputs": [],
   "source": []
  }
 ],
 "metadata": {
  "kernelspec": {
   "display_name": "Python [conda env:root] *",
   "language": "python",
   "name": "conda-root-py"
  },
  "language_info": {
   "codemirror_mode": {
    "name": "ipython",
    "version": 3
   },
   "file_extension": ".py",
   "mimetype": "text/x-python",
   "name": "python",
   "nbconvert_exporter": "python",
   "pygments_lexer": "ipython3",
   "version": "3.10.8"
  }
 },
 "nbformat": 4,
 "nbformat_minor": 5
}
