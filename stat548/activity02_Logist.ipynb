{
 "cells": [
  {
   "cell_type": "markdown",
   "metadata": {
    "slideshow": {
     "slide_type": "slide"
    }
   },
   "source": [
    "# STAT 538A: Generalized Linear Models \n",
    "\n",
    "\n",
    "# <font color=red> Activity 2: Logistic Regression"
   ]
  },
  {
   "cell_type": "markdown",
   "metadata": {},
   "source": [
    "Let's take an initial look at data\n",
    "\n",
    "Run the cells below to upload packages and data"
   ]
  },
  {
   "cell_type": "code",
   "execution_count": 1,
   "metadata": {},
   "outputs": [
    {
     "name": "stderr",
     "output_type": "stream",
     "text": [
      "── \u001b[1mAttaching packages\u001b[22m ─────────────────────────────────── tidyverse 1.3.2 ──\n",
      "\u001b[32m✔\u001b[39m \u001b[34mggplot2\u001b[39m 3.3.6     \u001b[32m✔\u001b[39m \u001b[34mpurrr  \u001b[39m 0.3.4\n",
      "\u001b[32m✔\u001b[39m \u001b[34mtibble \u001b[39m 3.1.8     \u001b[32m✔\u001b[39m \u001b[34mdplyr  \u001b[39m 1.0.9\n",
      "\u001b[32m✔\u001b[39m \u001b[34mtidyr  \u001b[39m 1.2.0     \u001b[32m✔\u001b[39m \u001b[34mstringr\u001b[39m 1.4.0\n",
      "\u001b[32m✔\u001b[39m \u001b[34mreadr  \u001b[39m 2.1.2     \u001b[32m✔\u001b[39m \u001b[34mforcats\u001b[39m 0.5.1\n",
      "── \u001b[1mConflicts\u001b[22m ────────────────────────────────────── tidyverse_conflicts() ──\n",
      "\u001b[31m✖\u001b[39m \u001b[34mdplyr\u001b[39m::\u001b[32mfilter()\u001b[39m masks \u001b[34mstats\u001b[39m::filter()\n",
      "\u001b[31m✖\u001b[39m \u001b[34mdplyr\u001b[39m::\u001b[32mlag()\u001b[39m    masks \u001b[34mstats\u001b[39m::lag()\n",
      "Installing package into 'C:/Users/chunq/AppData/Local/R/win-library/4.2'\n",
      "(as 'lib' is unspecified)\n",
      "\n"
     ]
    },
    {
     "name": "stdout",
     "output_type": "stream",
     "text": [
      "package 'glmbb' successfully unpacked and MD5 sums checked\n",
      "\n",
      "The downloaded binary packages are in\n",
      "\tC:\\Users\\chunq\\AppData\\Local\\Temp\\RtmpikAEhl\\downloaded_packages\n"
     ]
    },
    {
     "name": "stderr",
     "output_type": "stream",
     "text": [
      "Installing package into 'C:/Users/chunq/AppData/Local/R/win-library/4.2'\n",
      "(as 'lib' is unspecified)\n",
      "\n"
     ]
    },
    {
     "name": "stdout",
     "output_type": "stream",
     "text": [
      "package 'ISLR' successfully unpacked and MD5 sums checked\n",
      "\n",
      "The downloaded binary packages are in\n",
      "\tC:\\Users\\chunq\\AppData\\Local\\Temp\\RtmpikAEhl\\downloaded_packages\n",
      "'data.frame':\t10000 obs. of  4 variables:\n",
      " $ default: Factor w/ 2 levels \"No\",\"Yes\": 1 1 1 1 1 1 1 1 1 1 ...\n",
      " $ student: Factor w/ 2 levels \"No\",\"Yes\": 1 2 1 1 1 2 1 2 1 1 ...\n",
      " $ balance: num  730 817 1074 529 786 ...\n",
      " $ income : num  44362 12106 31767 35704 38463 ...\n"
     ]
    }
   ],
   "source": [
    "options(repr.plot.width=12, repr.plot.height=8)\n",
    "\n",
    "library(tidyverse)\n",
    "library(repr)\n",
    "library(digest)\n",
    "library(broom)\n",
    "\n",
    "install.packages(\"glmbb\")\n",
    "library(glmbb)\n",
    "\n",
    "# to install new packages\n",
    "install.packages(\"ISLR\")\n",
    "library(ISLR)\n",
    "str(Default)"
   ]
  },
  {
   "cell_type": "code",
   "execution_count": 2,
   "metadata": {
    "scrolled": true
   },
   "outputs": [
    {
     "data": {
      "text/html": [
       "<table class=\"dataframe\">\n",
       "<caption>A data.frame: 6 × 4</caption>\n",
       "<thead>\n",
       "\t<tr><th></th><th scope=col>default</th><th scope=col>student</th><th scope=col>balance</th><th scope=col>income</th></tr>\n",
       "\t<tr><th></th><th scope=col>&lt;dbl&gt;</th><th scope=col>&lt;fct&gt;</th><th scope=col>&lt;dbl&gt;</th><th scope=col>&lt;dbl&gt;</th></tr>\n",
       "</thead>\n",
       "<tbody>\n",
       "\t<tr><th scope=row>1</th><td>0</td><td>No </td><td> 729.5265</td><td>44361.625</td></tr>\n",
       "\t<tr><th scope=row>2</th><td>0</td><td>Yes</td><td> 817.1804</td><td>12106.135</td></tr>\n",
       "\t<tr><th scope=row>3</th><td>0</td><td>No </td><td>1073.5492</td><td>31767.139</td></tr>\n",
       "\t<tr><th scope=row>4</th><td>0</td><td>No </td><td> 529.2506</td><td>35704.494</td></tr>\n",
       "\t<tr><th scope=row>5</th><td>0</td><td>No </td><td> 785.6559</td><td>38463.496</td></tr>\n",
       "\t<tr><th scope=row>6</th><td>0</td><td>Yes</td><td> 919.5885</td><td> 7491.559</td></tr>\n",
       "</tbody>\n",
       "</table>\n"
      ],
      "text/latex": [
       "A data.frame: 6 × 4\n",
       "\\begin{tabular}{r|llll}\n",
       "  & default & student & balance & income\\\\\n",
       "  & <dbl> & <fct> & <dbl> & <dbl>\\\\\n",
       "\\hline\n",
       "\t1 & 0 & No  &  729.5265 & 44361.625\\\\\n",
       "\t2 & 0 & Yes &  817.1804 & 12106.135\\\\\n",
       "\t3 & 0 & No  & 1073.5492 & 31767.139\\\\\n",
       "\t4 & 0 & No  &  529.2506 & 35704.494\\\\\n",
       "\t5 & 0 & No  &  785.6559 & 38463.496\\\\\n",
       "\t6 & 0 & Yes &  919.5885 &  7491.559\\\\\n",
       "\\end{tabular}\n"
      ],
      "text/markdown": [
       "\n",
       "A data.frame: 6 × 4\n",
       "\n",
       "| <!--/--> | default &lt;dbl&gt; | student &lt;fct&gt; | balance &lt;dbl&gt; | income &lt;dbl&gt; |\n",
       "|---|---|---|---|---|\n",
       "| 1 | 0 | No  |  729.5265 | 44361.625 |\n",
       "| 2 | 0 | Yes |  817.1804 | 12106.135 |\n",
       "| 3 | 0 | No  | 1073.5492 | 31767.139 |\n",
       "| 4 | 0 | No  |  529.2506 | 35704.494 |\n",
       "| 5 | 0 | No  |  785.6559 | 38463.496 |\n",
       "| 6 | 0 | Yes |  919.5885 |  7491.559 |\n",
       "\n"
      ],
      "text/plain": [
       "  default student balance   income   \n",
       "1 0       No       729.5265 44361.625\n",
       "2 0       Yes      817.1804 12106.135\n",
       "3 0       No      1073.5492 31767.139\n",
       "4 0       No       529.2506 35704.494\n",
       "5 0       No       785.6559 38463.496\n",
       "6 0       Yes      919.5885  7491.559"
      ]
     },
     "metadata": {},
     "output_type": "display_data"
    }
   ],
   "source": [
    "Default <- Default %>% \n",
    "  mutate(default = if_else(default == \"Yes\", 1, 0))\n",
    "head(Default)"
   ]
  },
  {
   "cell_type": "code",
   "execution_count": 3,
   "metadata": {
    "scrolled": true
   },
   "outputs": [
    {
     "name": "stderr",
     "output_type": "stream",
     "text": [
      "\u001b[1m\u001b[22m`summarise()` has grouped output by 'default'. You can override using the\n",
      "`.groups` argument.\n"
     ]
    },
    {
     "data": {
      "text/html": [
       "<table class=\"dataframe\">\n",
       "<caption>A grouped_df: 4 × 3</caption>\n",
       "<thead>\n",
       "\t<tr><th scope=col>default</th><th scope=col>student</th><th scope=col>n</th></tr>\n",
       "\t<tr><th scope=col>&lt;dbl&gt;</th><th scope=col>&lt;fct&gt;</th><th scope=col>&lt;int&gt;</th></tr>\n",
       "</thead>\n",
       "<tbody>\n",
       "\t<tr><td>0</td><td>No </td><td>6850</td></tr>\n",
       "\t<tr><td>0</td><td>Yes</td><td>2817</td></tr>\n",
       "\t<tr><td>1</td><td>No </td><td> 206</td></tr>\n",
       "\t<tr><td>1</td><td>Yes</td><td> 127</td></tr>\n",
       "</tbody>\n",
       "</table>\n"
      ],
      "text/latex": [
       "A grouped\\_df: 4 × 3\n",
       "\\begin{tabular}{lll}\n",
       " default & student & n\\\\\n",
       " <dbl> & <fct> & <int>\\\\\n",
       "\\hline\n",
       "\t 0 & No  & 6850\\\\\n",
       "\t 0 & Yes & 2817\\\\\n",
       "\t 1 & No  &  206\\\\\n",
       "\t 1 & Yes &  127\\\\\n",
       "\\end{tabular}\n"
      ],
      "text/markdown": [
       "\n",
       "A grouped_df: 4 × 3\n",
       "\n",
       "| default &lt;dbl&gt; | student &lt;fct&gt; | n &lt;int&gt; |\n",
       "|---|---|---|\n",
       "| 0 | No  | 6850 |\n",
       "| 0 | Yes | 2817 |\n",
       "| 1 | No  |  206 |\n",
       "| 1 | Yes |  127 |\n",
       "\n"
      ],
      "text/plain": [
       "  default student n   \n",
       "1 0       No      6850\n",
       "2 0       Yes     2817\n",
       "3 1       No       206\n",
       "4 1       Yes      127"
      ]
     },
     "metadata": {},
     "output_type": "display_data"
    }
   ],
   "source": [
    "default_student_table <- Default %>%\n",
    "  group_by(default,student) %>%\n",
    "  summarize(n = length(student)) #%>%\n",
    "#  mutate(proportion = round(n / sum(n), 2))\n",
    "default_student_table"
   ]
  },
  {
   "cell_type": "markdown",
   "metadata": {},
   "source": [
    "## Question 1: Fitting a linear model\n",
    "\n",
    "1. Fit a linear regression model to this data, with `balance` as the predictor and `default` as the response. Be sure to include an intercept. \n",
    "2. Create a visualization of the fit\n",
    "3. Create a diagnostic plot of residuals (from last lecture) to help you decide whether the model is appropriate for the data.\n",
    "\n",
    "Discuss with your neighbour:\n",
    "\n",
    "- Does this model abide by the *type* of the output? \n",
    "- What would the prediction be for a $500 balance?\n",
    "- Should we use a linear model for this data?"
   ]
  },
  {
   "cell_type": "code",
   "execution_count": 4,
   "metadata": {},
   "outputs": [
    {
     "data": {
      "text/plain": [
       "\n",
       "Call:\n",
       "lm(formula = default ~ balance, data = Default)\n",
       "\n",
       "Coefficients:\n",
       "(Intercept)      balance  \n",
       " -0.0751920    0.0001299  \n"
      ]
     },
     "metadata": {},
     "output_type": "display_data"
    }
   ],
   "source": [
    "linear <- lm(default ~ balance, data = Default)\n",
    "linear"
   ]
  },
  {
   "cell_type": "code",
   "execution_count": 14,
   "metadata": {},
   "outputs": [
    {
     "data": {
      "text/html": [
       "<table class=\"dataframe\">\n",
       "<caption>A data.frame: 6 × 4</caption>\n",
       "<thead>\n",
       "\t<tr><th></th><th scope=col>default</th><th scope=col>student</th><th scope=col>balance</th><th scope=col>income</th></tr>\n",
       "\t<tr><th></th><th scope=col>&lt;dbl&gt;</th><th scope=col>&lt;fct&gt;</th><th scope=col>&lt;dbl&gt;</th><th scope=col>&lt;dbl&gt;</th></tr>\n",
       "</thead>\n",
       "<tbody>\n",
       "\t<tr><th scope=row>1</th><td>0</td><td>No </td><td> 729.5265</td><td>44361.625</td></tr>\n",
       "\t<tr><th scope=row>2</th><td>0</td><td>Yes</td><td> 817.1804</td><td>12106.135</td></tr>\n",
       "\t<tr><th scope=row>3</th><td>0</td><td>No </td><td>1073.5492</td><td>31767.139</td></tr>\n",
       "\t<tr><th scope=row>4</th><td>0</td><td>No </td><td> 529.2506</td><td>35704.494</td></tr>\n",
       "\t<tr><th scope=row>5</th><td>0</td><td>No </td><td> 785.6559</td><td>38463.496</td></tr>\n",
       "\t<tr><th scope=row>6</th><td>0</td><td>Yes</td><td> 919.5885</td><td> 7491.559</td></tr>\n",
       "</tbody>\n",
       "</table>\n"
      ],
      "text/latex": [
       "A data.frame: 6 × 4\n",
       "\\begin{tabular}{r|llll}\n",
       "  & default & student & balance & income\\\\\n",
       "  & <dbl> & <fct> & <dbl> & <dbl>\\\\\n",
       "\\hline\n",
       "\t1 & 0 & No  &  729.5265 & 44361.625\\\\\n",
       "\t2 & 0 & Yes &  817.1804 & 12106.135\\\\\n",
       "\t3 & 0 & No  & 1073.5492 & 31767.139\\\\\n",
       "\t4 & 0 & No  &  529.2506 & 35704.494\\\\\n",
       "\t5 & 0 & No  &  785.6559 & 38463.496\\\\\n",
       "\t6 & 0 & Yes &  919.5885 &  7491.559\\\\\n",
       "\\end{tabular}\n"
      ],
      "text/markdown": [
       "\n",
       "A data.frame: 6 × 4\n",
       "\n",
       "| <!--/--> | default &lt;dbl&gt; | student &lt;fct&gt; | balance &lt;dbl&gt; | income &lt;dbl&gt; |\n",
       "|---|---|---|---|---|\n",
       "| 1 | 0 | No  |  729.5265 | 44361.625 |\n",
       "| 2 | 0 | Yes |  817.1804 | 12106.135 |\n",
       "| 3 | 0 | No  | 1073.5492 | 31767.139 |\n",
       "| 4 | 0 | No  |  529.2506 | 35704.494 |\n",
       "| 5 | 0 | No  |  785.6559 | 38463.496 |\n",
       "| 6 | 0 | Yes |  919.5885 |  7491.559 |\n",
       "\n"
      ],
      "text/plain": [
       "  default student balance   income   \n",
       "1 0       No       729.5265 44361.625\n",
       "2 0       Yes      817.1804 12106.135\n",
       "3 0       No      1073.5492 31767.139\n",
       "4 0       No       529.2506 35704.494\n",
       "5 0       No       785.6559 38463.496\n",
       "6 0       Yes      919.5885  7491.559"
      ]
     },
     "metadata": {},
     "output_type": "display_data"
    }
   ],
   "source": [
    "head(Default)"
   ]
  },
  {
   "cell_type": "code",
   "execution_count": 34,
   "metadata": {},
   "outputs": [
    {
     "name": "stderr",
     "output_type": "stream",
     "text": [
      "`geom_smooth()` using formula 'y ~ x'\n",
      "\n"
     ]
    },
    {
     "data": {
      "image/png": "[encoded data removed]",
      "text/plain": [
       "plot without title"
      ]
     },
     "metadata": {
      "image/png": {
       "height": 480,
       "width": 720
      }
     },
     "output_type": "display_data"
    }
   ],
   "source": [
    "# visualization of the fit\n",
    "ggplot(Default, aes(x = balance, y = default)) +\n",
    "    geom_point() + \n",
    "    geom_smooth(method = \"lm\", se = FALSE)"
   ]
  },
  {
   "cell_type": "code",
   "execution_count": 18,
   "metadata": {},
   "outputs": [
    {
     "data": {
      "image/png": "[encoded data removed]",
      "text/plain": [
       "plot without title"
      ]
     },
     "metadata": {
      "image/png": {
       "height": 480,
       "width": 720
      }
     },
     "output_type": "display_data"
    }
   ],
   "source": [
    "# Residual plot of the linear\n",
    "ggplot(augment(linear), aes(x = .fitted, y = .resid)) + geom_point()"
   ]
  },
  {
   "cell_type": "markdown",
   "metadata": {},
   "source": [
    "## Question 2: Fitting a logistic regression model\n",
    "\n",
    "1. Fit a logistic regression model to this data with `balance` as the predictor and `default` as the response. Use the function `glm()` and choose `family = binomial` as an argument. Be sure to include an intercept. \n",
    "2. Create a visualization of the fit\n",
    "3. Create a \"value vs prediction\" plot to help you decide whether the model is appropriate for the data.\n",
    "\n",
    "Discuss with your neighbour:\n",
    "\n",
    "- Does this model abide by the *type* of the output? \n",
    "- What would the prediction be for a $500 balance? What does that mean?"
   ]
  },
  {
   "cell_type": "code",
   "execution_count": 35,
   "metadata": {},
   "outputs": [
    {
     "data": {
      "text/plain": [
       "\n",
       "Call:\n",
       "glm(formula = default ~ balance, family = \"binomial\", data = Default)\n",
       "\n",
       "Deviance Residuals: \n",
       "    Min       1Q   Median       3Q      Max  \n",
       "-2.2697  -0.1465  -0.0589  -0.0221   3.7589  \n",
       "\n",
       "Coefficients:\n",
       "              Estimate Std. Error z value Pr(>|z|)    \n",
       "(Intercept) -1.065e+01  3.612e-01  -29.49   <2e-16 ***\n",
       "balance      5.499e-03  2.204e-04   24.95   <2e-16 ***\n",
       "---\n",
       "Signif. codes:  0 '***' 0.001 '**' 0.01 '*' 0.05 '.' 0.1 ' ' 1\n",
       "\n",
       "(Dispersion parameter for binomial family taken to be 1)\n",
       "\n",
       "    Null deviance: 2920.6  on 9999  degrees of freedom\n",
       "Residual deviance: 1596.5  on 9998  degrees of freedom\n",
       "AIC: 1600.5\n",
       "\n",
       "Number of Fisher Scoring iterations: 8\n"
      ]
     },
     "metadata": {},
     "output_type": "display_data"
    },
    {
     "name": "stderr",
     "output_type": "stream",
     "text": [
      "`geom_smooth()` using formula 'y ~ x'\n",
      "\n"
     ]
    },
    {
     "data": {
      "image/png": "[encoded data removed]",
      "text/plain": [
       "plot without title"
      ]
     },
     "metadata": {
      "image/png": {
       "height": 480,
       "width": 720
      }
     },
     "output_type": "display_data"
    }
   ],
   "source": [
    "logit <- glm(default ~ balance, data = Default, family = \"binomial\")\n",
    "summary(logit)\n",
    "\n",
    "# Visualization of the logit fit\n",
    "ggplot(Default, aes(x=balance, y=default)) +\n",
    "  geom_point() +\n",
    "  geom_smooth(method = \"glm\", \n",
    "    method.args = list(family = \"binomial\"), \n",
    "    se = FALSE) "
   ]
  },
  {
   "cell_type": "code",
   "execution_count": 37,
   "metadata": {},
   "outputs": [
    {
     "data": {
      "text/html": [
       "<table class=\"dataframe\">\n",
       "<caption>A tibble: 2 × 5</caption>\n",
       "<thead>\n",
       "\t<tr><th scope=col>term</th><th scope=col>estimate</th><th scope=col>std.error</th><th scope=col>statistic</th><th scope=col>p.value</th></tr>\n",
       "\t<tr><th scope=col>&lt;chr&gt;</th><th scope=col>&lt;dbl&gt;</th><th scope=col>&lt;dbl&gt;</th><th scope=col>&lt;dbl&gt;</th><th scope=col>&lt;dbl&gt;</th></tr>\n",
       "</thead>\n",
       "<tbody>\n",
       "\t<tr><td>(Intercept)</td><td>-10.651330614</td><td>0.3611573721</td><td>-29.49221</td><td>3.623124e-191</td></tr>\n",
       "\t<tr><td>balance    </td><td>  0.005498917</td><td>0.0002203702</td><td> 24.95309</td><td>1.976602e-137</td></tr>\n",
       "</tbody>\n",
       "</table>\n"
      ],
      "text/latex": [
       "A tibble: 2 × 5\n",
       "\\begin{tabular}{lllll}\n",
       " term & estimate & std.error & statistic & p.value\\\\\n",
       " <chr> & <dbl> & <dbl> & <dbl> & <dbl>\\\\\n",
       "\\hline\n",
       "\t (Intercept) & -10.651330614 & 0.3611573721 & -29.49221 & 3.623124e-191\\\\\n",
       "\t balance     &   0.005498917 & 0.0002203702 &  24.95309 & 1.976602e-137\\\\\n",
       "\\end{tabular}\n"
      ],
      "text/markdown": [
       "\n",
       "A tibble: 2 × 5\n",
       "\n",
       "| term &lt;chr&gt; | estimate &lt;dbl&gt; | std.error &lt;dbl&gt; | statistic &lt;dbl&gt; | p.value &lt;dbl&gt; |\n",
       "|---|---|---|---|---|\n",
       "| (Intercept) | -10.651330614 | 0.3611573721 | -29.49221 | 3.623124e-191 |\n",
       "| balance     |   0.005498917 | 0.0002203702 |  24.95309 | 1.976602e-137 |\n",
       "\n"
      ],
      "text/plain": [
       "  term        estimate      std.error    statistic p.value      \n",
       "1 (Intercept) -10.651330614 0.3611573721 -29.49221 3.623124e-191\n",
       "2 balance       0.005498917 0.0002203702  24.95309 1.976602e-137"
      ]
     },
     "metadata": {},
     "output_type": "display_data"
    },
    {
     "data": {
      "text/html": [
       "<table class=\"dataframe\">\n",
       "<caption>A tibble: 1 × 8</caption>\n",
       "<thead>\n",
       "\t<tr><th scope=col>null.deviance</th><th scope=col>df.null</th><th scope=col>logLik</th><th scope=col>AIC</th><th scope=col>BIC</th><th scope=col>deviance</th><th scope=col>df.residual</th><th scope=col>nobs</th></tr>\n",
       "\t<tr><th scope=col>&lt;dbl&gt;</th><th scope=col>&lt;int&gt;</th><th scope=col>&lt;dbl&gt;</th><th scope=col>&lt;dbl&gt;</th><th scope=col>&lt;dbl&gt;</th><th scope=col>&lt;dbl&gt;</th><th scope=col>&lt;int&gt;</th><th scope=col>&lt;int&gt;</th></tr>\n",
       "</thead>\n",
       "<tbody>\n",
       "\t<tr><td>2920.65</td><td>9999</td><td>-798.2258</td><td>1600.452</td><td>1614.872</td><td>1596.452</td><td>9998</td><td>10000</td></tr>\n",
       "</tbody>\n",
       "</table>\n"
      ],
      "text/latex": [
       "A tibble: 1 × 8\n",
       "\\begin{tabular}{llllllll}\n",
       " null.deviance & df.null & logLik & AIC & BIC & deviance & df.residual & nobs\\\\\n",
       " <dbl> & <int> & <dbl> & <dbl> & <dbl> & <dbl> & <int> & <int>\\\\\n",
       "\\hline\n",
       "\t 2920.65 & 9999 & -798.2258 & 1600.452 & 1614.872 & 1596.452 & 9998 & 10000\\\\\n",
       "\\end{tabular}\n"
      ],
      "text/markdown": [
       "\n",
       "A tibble: 1 × 8\n",
       "\n",
       "| null.deviance &lt;dbl&gt; | df.null &lt;int&gt; | logLik &lt;dbl&gt; | AIC &lt;dbl&gt; | BIC &lt;dbl&gt; | deviance &lt;dbl&gt; | df.residual &lt;int&gt; | nobs &lt;int&gt; |\n",
       "|---|---|---|---|---|---|---|---|\n",
       "| 2920.65 | 9999 | -798.2258 | 1600.452 | 1614.872 | 1596.452 | 9998 | 10000 |\n",
       "\n"
      ],
      "text/plain": [
       "  null.deviance df.null logLik    AIC      BIC      deviance df.residual nobs \n",
       "1 2920.65       9999    -798.2258 1600.452 1614.872 1596.452 9998        10000"
      ]
     },
     "metadata": {},
     "output_type": "display_data"
    }
   ],
   "source": [
    "tidy(logit)\n",
    "glance(logit)"
   ]
  },
  {
   "cell_type": "code",
   "execution_count": 38,
   "metadata": {},
   "outputs": [
    {
     "name": "stderr",
     "output_type": "stream",
     "text": [
      "`geom_smooth()` using formula 'y ~ x'\n",
      "\n"
     ]
    },
    {
     "data": {
      "image/png": "[encoded data removed]",
      "text/plain": [
       "plot without title"
      ]
     },
     "metadata": {
      "image/png": {
       "height": 480,
       "width": 720
      }
     },
     "output_type": "display_data"
    }
   ],
   "source": [
    "# Visualization of value vs predicion\n",
    "# Make predictions\n",
    "probabilities <- predict(logit, type = \"response\")\n",
    "#predicted.classes <- ifelse(probabilities > 0.5, 1, 0)\n",
    "#predicted.classes\n",
    "plot_obj <- tibble(actuals = Default$default,\n",
    "                   preds = probabilities)\n",
    "#plot_obj\n",
    "#mean(predicted.classes == Default$default)\n",
    "ggplot(plot_obj, aes(x = preds, y = actuals)) +\n",
    "     geom_point() +\n",
    "     geom_smooth(method = \"glm\", method.args = list(family = \"binomial\"),\n",
    "                se = FALSE)"
   ]
  },
  {
   "cell_type": "markdown",
   "metadata": {},
   "source": [
    "## Question 4: Assessing the model\n",
    "\n",
    "1. Fit a logistic regression model with an intercept and linear term, and save the residual deviance in `dev_full`\n",
    "\n",
    "2. Fit a logistic regression model with only an intercept, and save the residual deviance in `dev_red` (note that in this case the null and the residual deviances are the equal!)\n",
    "\n",
    " \n",
    "Perform a likelihood ratio test for: \n",
    "- intercept-only vs. intercept+linear\n",
    "\n",
    "Discuss with your neighbour:\n",
    "- is there evidence for the linear term vs intercept-only?\n",
    "- is this test provided in the summary output of `glm`"
   ]
  }
 ],
 "metadata": {
  "kernelspec": {
   "display_name": "R",
   "language": "R",
   "name": "ir"
  },
  "language_info": {
   "codemirror_mode": "r",
   "file_extension": ".r",
   "mimetype": "text/x-r-source",
   "name": "R",
   "pygments_lexer": "r",
   "version": "4.2.1"
  },
  "latex_envs": {
   "LaTeX_envs_menu_present": true,
   "autoclose": false,
   "autocomplete": true,
   "bibliofile": "biblio.bib",
   "cite_by": "apalike",
   "current_citInitial": 1,
   "eqLabelWithNumbers": true,
   "eqNumInitial": 1,
   "hotkeys": {
    "equation": "Ctrl-E",
    "itemize": "Ctrl-I"
   },
   "labels_anchors": false,
   "latex_user_defs": false,
   "report_style_numbering": false,
   "user_envs_cfg": false
  }
 },
 "nbformat": 4,
 "nbformat_minor": 4
}
