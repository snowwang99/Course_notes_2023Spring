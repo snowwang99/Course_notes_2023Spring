{
 "cells": [
  {
   "cell_type": "code",
   "execution_count": 12,
   "id": "53e2e5c0-f78c-4dd3-ac3e-652e8fda8088",
   "metadata": {},
   "outputs": [],
   "source": [
    "library(ISLR)\n",
    "library(broom)\n",
    "library(tidyverse)"
   ]
  },
  {
   "cell_type": "code",
   "execution_count": 15,
   "id": "b32d317d-a068-48ca-8b61-fc2f23ba315a",
   "metadata": {},
   "outputs": [],
   "source": [
    "data(College)\n",
    "mod <- lm(Apps ~ Accept * Private, data = College)"
   ]
  },
  {
   "cell_type": "code",
   "execution_count": 16,
   "id": "68638a5c-34cb-4252-af86-6ec357052b50",
   "metadata": {},
   "outputs": [
    {
     "data": {
      "text/html": [
       "<table class=\"dataframe\">\n",
       "<caption>A tibble: 4 × 5</caption>\n",
       "<thead>\n",
       "\t<tr><th scope=col>term</th><th scope=col>estimate</th><th scope=col>std.error</th><th scope=col>statistic</th><th scope=col>p.value</th></tr>\n",
       "\t<tr><th scope=col>&lt;chr&gt;</th><th scope=col>&lt;dbl&gt;</th><th scope=col>&lt;dbl&gt;</th><th scope=col>&lt;dbl&gt;</th><th scope=col>&lt;dbl&gt;</th></tr>\n",
       "</thead>\n",
       "<tbody>\n",
       "\t<tr><td>(Intercept)      </td><td>-28.7028501</td><td>132.40598581</td><td>-0.2167791</td><td> 8.284377e-01</td></tr>\n",
       "\t<tr><td>Accept           </td><td>  1.4693034</td><td>  0.02529710</td><td>58.0818971</td><td>3.544189e-284</td></tr>\n",
       "\t<tr><td>PrivateYes       </td><td>-72.8622683</td><td>151.82962279</td><td>-0.4798949</td><td> 6.314379e-01</td></tr>\n",
       "\t<tr><td>Accept:PrivateYes</td><td>  0.1233214</td><td>  0.04672575</td><td> 2.6392589</td><td> 8.476124e-03</td></tr>\n",
       "</tbody>\n",
       "</table>\n"
      ],
      "text/latex": [
       "A tibble: 4 × 5\n",
       "\\begin{tabular}{lllll}\n",
       " term & estimate & std.error & statistic & p.value\\\\\n",
       " <chr> & <dbl> & <dbl> & <dbl> & <dbl>\\\\\n",
       "\\hline\n",
       "\t (Intercept)       & -28.7028501 & 132.40598581 & -0.2167791 &  8.284377e-01\\\\\n",
       "\t Accept            &   1.4693034 &   0.02529710 & 58.0818971 & 3.544189e-284\\\\\n",
       "\t PrivateYes        & -72.8622683 & 151.82962279 & -0.4798949 &  6.314379e-01\\\\\n",
       "\t Accept:PrivateYes &   0.1233214 &   0.04672575 &  2.6392589 &  8.476124e-03\\\\\n",
       "\\end{tabular}\n"
      ],
      "text/markdown": [
       "\n",
       "A tibble: 4 × 5\n",
       "\n",
       "| term &lt;chr&gt; | estimate &lt;dbl&gt; | std.error &lt;dbl&gt; | statistic &lt;dbl&gt; | p.value &lt;dbl&gt; |\n",
       "|---|---|---|---|---|\n",
       "| (Intercept)       | -28.7028501 | 132.40598581 | -0.2167791 |  8.284377e-01 |\n",
       "| Accept            |   1.4693034 |   0.02529710 | 58.0818971 | 3.544189e-284 |\n",
       "| PrivateYes        | -72.8622683 | 151.82962279 | -0.4798949 |  6.314379e-01 |\n",
       "| Accept:PrivateYes |   0.1233214 |   0.04672575 |  2.6392589 |  8.476124e-03 |\n",
       "\n"
      ],
      "text/plain": [
       "  term              estimate    std.error    statistic  p.value      \n",
       "1 (Intercept)       -28.7028501 132.40598581 -0.2167791  8.284377e-01\n",
       "2 Accept              1.4693034   0.02529710 58.0818971 3.544189e-284\n",
       "3 PrivateYes        -72.8622683 151.82962279 -0.4798949  6.314379e-01\n",
       "4 Accept:PrivateYes   0.1233214   0.04672575  2.6392589  8.476124e-03"
      ]
     },
     "metadata": {},
     "output_type": "display_data"
    }
   ],
   "source": [
    "tidy(mod)"
   ]
  },
  {
   "cell_type": "code",
   "execution_count": 17,
   "id": "44249465-45be-4583-8bea-fcb3e21f6836",
   "metadata": {},
   "outputs": [
    {
     "data": {
      "text/html": [
       "<table class=\"dataframe\">\n",
       "<caption>A tibble: 1 × 12</caption>\n",
       "<thead>\n",
       "\t<tr><th scope=col>r.squared</th><th scope=col>adj.r.squared</th><th scope=col>sigma</th><th scope=col>statistic</th><th scope=col>p.value</th><th scope=col>df</th><th scope=col>logLik</th><th scope=col>AIC</th><th scope=col>BIC</th><th scope=col>deviance</th><th scope=col>df.residual</th><th scope=col>nobs</th></tr>\n",
       "\t<tr><th scope=col>&lt;dbl&gt;</th><th scope=col>&lt;dbl&gt;</th><th scope=col>&lt;dbl&gt;</th><th scope=col>&lt;dbl&gt;</th><th scope=col>&lt;dbl&gt;</th><th scope=col>&lt;dbl&gt;</th><th scope=col>&lt;dbl&gt;</th><th scope=col>&lt;dbl&gt;</th><th scope=col>&lt;dbl&gt;</th><th scope=col>&lt;dbl&gt;</th><th scope=col>&lt;int&gt;</th><th scope=col>&lt;int&gt;</th></tr>\n",
       "</thead>\n",
       "<tbody>\n",
       "\t<tr><td>0.8914199</td><td>0.8909985</td><td>1277.762</td><td>2115.389</td><td>0</td><td>3</td><td>-6658.286</td><td>13326.57</td><td>13349.85</td><td>1262057689</td><td>773</td><td>777</td></tr>\n",
       "</tbody>\n",
       "</table>\n"
      ],
      "text/latex": [
       "A tibble: 1 × 12\n",
       "\\begin{tabular}{llllllllllll}\n",
       " r.squared & adj.r.squared & sigma & statistic & p.value & df & logLik & AIC & BIC & deviance & df.residual & nobs\\\\\n",
       " <dbl> & <dbl> & <dbl> & <dbl> & <dbl> & <dbl> & <dbl> & <dbl> & <dbl> & <dbl> & <int> & <int>\\\\\n",
       "\\hline\n",
       "\t 0.8914199 & 0.8909985 & 1277.762 & 2115.389 & 0 & 3 & -6658.286 & 13326.57 & 13349.85 & 1262057689 & 773 & 777\\\\\n",
       "\\end{tabular}\n"
      ],
      "text/markdown": [
       "\n",
       "A tibble: 1 × 12\n",
       "\n",
       "| r.squared &lt;dbl&gt; | adj.r.squared &lt;dbl&gt; | sigma &lt;dbl&gt; | statistic &lt;dbl&gt; | p.value &lt;dbl&gt; | df &lt;dbl&gt; | logLik &lt;dbl&gt; | AIC &lt;dbl&gt; | BIC &lt;dbl&gt; | deviance &lt;dbl&gt; | df.residual &lt;int&gt; | nobs &lt;int&gt; |\n",
       "|---|---|---|---|---|---|---|---|---|---|---|---|\n",
       "| 0.8914199 | 0.8909985 | 1277.762 | 2115.389 | 0 | 3 | -6658.286 | 13326.57 | 13349.85 | 1262057689 | 773 | 777 |\n",
       "\n"
      ],
      "text/plain": [
       "  r.squared adj.r.squared sigma    statistic p.value df logLik    AIC     \n",
       "1 0.8914199 0.8909985     1277.762 2115.389  0       3  -6658.286 13326.57\n",
       "  BIC      deviance   df.residual nobs\n",
       "1 13349.85 1262057689 773         777 "
      ]
     },
     "metadata": {},
     "output_type": "display_data"
    }
   ],
   "source": [
    "glance(mod)"
   ]
  },
  {
   "cell_type": "code",
   "execution_count": 22,
   "id": "b8b99d89-596b-4603-86f9-06373e38d9b8",
   "metadata": {},
   "outputs": [
    {
     "data": {
      "text/plain": [
       "\n",
       "Call:\n",
       "lm(formula = Apps ~ Accept * Private, data = College)\n",
       "\n",
       "Residuals:\n",
       "    Min      1Q  Median      3Q     Max \n",
       "-5707.9  -368.8  -122.2    47.6 10518.5 \n",
       "\n",
       "Coefficients:\n",
       "                   Estimate Std. Error t value Pr(>|t|)    \n",
       "(Intercept)       -28.70285  132.40599  -0.217  0.82844    \n",
       "Accept              1.46930    0.02530  58.082  < 2e-16 ***\n",
       "PrivateYes        -72.86227  151.82962  -0.480  0.63144    \n",
       "Accept:PrivateYes   0.12332    0.04673   2.639  0.00848 ** \n",
       "---\n",
       "Signif. codes:  0 '***' 0.001 '**' 0.01 '*' 0.05 '.' 0.1 ' ' 1\n",
       "\n",
       "Residual standard error: 1278 on 773 degrees of freedom\n",
       "Multiple R-squared:  0.8914,\tAdjusted R-squared:  0.891 \n",
       "F-statistic:  2115 on 3 and 773 DF,  p-value: < 2.2e-16\n"
      ]
     },
     "metadata": {},
     "output_type": "display_data"
    }
   ],
   "source": [
    "summary(mod)"
   ]
  },
  {
   "cell_type": "code",
   "execution_count": null,
   "id": "e15439b1-d4c3-486b-91e5-72391ae878d1",
   "metadata": {},
   "outputs": [],
   "source": []
  },
  {
   "cell_type": "code",
   "execution_count": 21,
   "id": "9ed523c0-c544-415b-8e7a-434182e6abce",
   "metadata": {},
   "outputs": [
    {
     "data": {
      "text/html": [
       "<style>\n",
       ".dl-inline {width: auto; margin:0; padding: 0}\n",
       ".dl-inline>dt, .dl-inline>dd {float: none; width: auto; display: inline-block}\n",
       ".dl-inline>dt::after {content: \":\\0020\"; padding-right: .5ex}\n",
       ".dl-inline>dt:not(:first-of-type) {padding-left: .5ex}\n",
       "</style><dl class=dl-inline><dt>value</dt><dd>2115.38887873263</dd><dt>numdf</dt><dd>3</dd><dt>dendf</dt><dd>773</dd></dl>\n"
      ],
      "text/latex": [
       "\\begin{description*}\n",
       "\\item[value] 2115.38887873263\n",
       "\\item[numdf] 3\n",
       "\\item[dendf] 773\n",
       "\\end{description*}\n"
      ],
      "text/markdown": [
       "value\n",
       ":   2115.38887873263numdf\n",
       ":   3dendf\n",
       ":   773\n",
       "\n"
      ],
      "text/plain": [
       "   value    numdf    dendf \n",
       "2115.389    3.000  773.000 "
      ]
     },
     "metadata": {},
     "output_type": "display_data"
    }
   ],
   "source": [
    "summary(mod)$fstatistic"
   ]
  }
 ],
 "metadata": {
  "kernelspec": {
   "display_name": "R",
   "language": "R",
   "name": "ir"
  },
  "language_info": {
   "codemirror_mode": "r",
   "file_extension": ".r",
   "mimetype": "text/x-r-source",
   "name": "R",
   "pygments_lexer": "r",
   "version": "4.2.1"
  }
 },
 "nbformat": 4,
 "nbformat_minor": 5
}
