{
 "cells": [
  {
   "cell_type": "code",
   "execution_count": null,
   "id": "55d5dae0",
   "metadata": {
    "deletable": false,
    "editable": false
   },
   "outputs": [],
   "source": [
    "# Initialize Otter\n",
    "import otter\n",
    "grader = otter.Notebook(\"assignment3.ipynb\")"
   ]
  },
  {
   "cell_type": "markdown",
   "id": "b0caa9f8",
   "metadata": {
    "pycharm": {
     "name": "#%% md\n"
    }
   },
   "source": [
    "# Assignment 3 - Data Breaches\n",
    "\n",
    "The questions in each assignment will be mostly autograded, but you will **not** see all the autograded tests in the notebook. After the deadline has passed, many additional tests will run on the file you submitted on Gradescope and you will be able to view your score online. In addition, please note that while we do NOT explicitly tell you to add chart titles and axis labels, we strongly encourage you to do so for the visualizations you create. In addition to the autograding, the TAs, will manually grade your use of chart titles and appropriate axis labels on this assignment."
   ]
  },
  {
   "cell_type": "markdown",
   "id": "6ce776db",
   "metadata": {
    "collapsed": false,
    "pycharm": {
     "name": "#%% md\n"
    }
   },
   "source": [
    "## Assessment\n",
    "7% of your Overall course Grade"
   ]
  },
  {
   "cell_type": "markdown",
   "id": "e3b40a92",
   "metadata": {
    "collapsed": false,
    "pycharm": {
     "name": "#%% md\n"
    }
   },
   "source": [
    "## Due Date\n",
    "February 21st (end of day 11:59pm)"
   ]
  },
  {
   "cell_type": "markdown",
   "id": "d8cad237",
   "metadata": {
    "pycharm": {
     "name": "#%% md\n"
    },
    "tags": []
   },
   "source": [
    "## Submission instructions\n",
    "\n",
    "<div class=\"alert alert-info\" style=\"color:black\">\n",
    "<ul>\n",
    "  <li>Download this lab from the Jupyter Book web page by clicking the download symbol at the top right of the page and selecting the <code>.ipynb</code> format.</li>\n",
    "  <li>To submit this lab, answer all the questions and then upload the completed lab to Gradescope.</li>\n",
    "    <ul>\n",
    "      <li>Before submitting, make sure you restart the kernel and rerun all cells (click the ▶▶ button).</li>\n",
    "    </ul>\n",
    "  <li>Don't change any variable names that are given to you, don't move cells around, and don't include any code to install packages in the notebook.</li>\n",
    "  </li>\n",
    "</ul>\n",
    "</div>"
   ]
  },
  {
   "cell_type": "code",
   "execution_count": null,
   "id": "c79a055e",
   "metadata": {
    "pycharm": {
     "name": "#%%\n"
    }
   },
   "outputs": [],
   "source": [
    "# Run this cell to ensure that altair plots show up on gradescope\n",
    "# We will talk more about what these lines do later in the course\n",
    "import altair as alt\n",
    "\n",
    "# Handle large data sets without embedding them in the notebook\n",
    "alt.data_transformers.enable('data_server')\n",
    "# Include an image for each plot since Gradescope only supports displaying plots as images\n",
    "alt.renderers.enable('mimetype')"
   ]
  },
  {
   "cell_type": "markdown",
   "id": "54bfc230",
   "metadata": {
    "pycharm": {
     "name": "#%% md\n"
    },
    "tags": []
   },
   "source": [
    "### Question 1\n",
    "\n",
    "<div class=\"alert alert-info\" style=\"color:black\">\n",
    "\n",
    "Which sectors have had the most data breaches?\n",
    "To find out, complete the following tasks:\n",
    "\n",
    "1. Run the cell that reads in the data and study the dataframe to get familiar with the column values.\n",
    "2. Create a bar chart to determine which sectors have the most data breaches (i.e., this is the count of data breaches not the number of records lost)\n",
    "3. Choose a suitable orientation for what goes on the x and y axes.\n",
    "4. Sort the bars based on their value, with the largest bar the closest to the x-axis line.\n",
    "    \n",
    "</div>\n",
    "\n",
    "_Points:_ 6"
   ]
  },
  {
   "cell_type": "code",
   "execution_count": null,
   "id": "5a2f3f41",
   "metadata": {
    "pycharm": {
     "name": "#%%\n"
    },
    "tags": []
   },
   "outputs": [],
   "source": [
    "# Provided code to read in the data\n",
    "import pandas as pd\n",
    "\n",
    "url = 'https://raw.githubusercontent.com/kemiolamudzengi/dsci-320-datasets/main/breaches.csv'\n",
    "breaches = pd.read_csv(url, parse_dates=['date'])\n",
    "breaches"
   ]
  },
  {
   "cell_type": "code",
   "execution_count": null,
   "id": "d796dccf",
   "metadata": {
    "pycharm": {
     "name": "#%%\n"
    },
    "tags": []
   },
   "outputs": [],
   "source": [
    "bar_sector_count = ...\n",
    "\n",
    "# Show the plot\n",
    "bar_sector_count"
   ]
  },
  {
   "cell_type": "code",
   "execution_count": null,
   "id": "4b8eec27",
   "metadata": {
    "deletable": false,
    "editable": false
   },
   "outputs": [],
   "source": [
    "grader.check(\"q1\")"
   ]
  },
  {
   "cell_type": "markdown",
   "id": "f394cece",
   "metadata": {
    "pycharm": {
     "name": "#%% md\n"
    },
    "tags": []
   },
   "source": [
    "### Question 2\n",
    "\n",
    "<div class=\"alert alert-info\" style=\"color:black\">\n",
    "\n",
    "Out of all the data breaches from each sector, how many are there of each data sensitivity level?\n",
    "To find out, complete the following task:\n",
    "    \n",
    "Building off of the your answer for Q1, add information about how sensitive the data breaches in each category were,\n",
    "   by creating a stacked bar chart\n",
    "   where each section of the bar is encoded with color according to the data sensitivity.\n",
    "   Make sure that the data sensitivity is encoded as an ordinal color variable,\n",
    "   to reflect that there is an order between the five levels of sensitivity\n",
    "   (1 = least sensitive, 5 = most sensitive).\n",
    "\n",
    "</div>\n",
    "\n",
    "_Points:_ 7"
   ]
  },
  {
   "cell_type": "code",
   "execution_count": null,
   "id": "51eb3e19",
   "metadata": {
    "pycharm": {
     "name": "#%%\n"
    },
    "tags": []
   },
   "outputs": [],
   "source": [
    "bar_sector_sensitivity_count = ...\n",
    "\n",
    "# Show the plot\n",
    "bar_sector_sensitivity_count"
   ]
  },
  {
   "cell_type": "code",
   "execution_count": null,
   "id": "0fc79ab6",
   "metadata": {
    "deletable": false,
    "editable": false
   },
   "outputs": [],
   "source": [
    "grader.check(\"q2\")"
   ]
  },
  {
   "cell_type": "markdown",
   "id": "af7bed12",
   "metadata": {
    "pycharm": {
     "name": "#%% md\n"
    },
    "tags": []
   },
   "source": [
    "### Question 3\n",
    "\n",
    "<div class=\"alert alert-info\" style=\"color:black\">\n",
    "\n",
    "It can often be difficult to compare the length of segments in a stacked bar chart,\n",
    "since they do not start at the same baseline.\n",
    "Another way of visualizing the information in the previous plot,\n",
    "is to create a scatterplot with counts of the combinations of each sector and data sensitivity category:\n",
    "\n",
    "1. Create a scatterplot\n",
    "   with the sectors on the y-axis\n",
    "   and the data sensitivity level on the x-axis\n",
    "   (encoded as an ordinal variable).\n",
    "2. Encode the counts of each combination as the size of the points.\n",
    "3. Sort the y-axis based on the counts (the size encoding).\n",
    "4. Add a tooltip with the exact count of each categorical combination.\n",
    "\n",
    "</div>\n",
    "\n",
    "_Points:_ 8"
   ]
  },
  {
   "cell_type": "code",
   "execution_count": null,
   "id": "b3f02816",
   "metadata": {
    "pycharm": {
     "name": "#%%\n"
    },
    "tags": []
   },
   "outputs": [],
   "source": [
    "point_sector_sensitivity_count = ...\n",
    "\n",
    "# Show the plot\n",
    "point_sector_sensitivity_count"
   ]
  },
  {
   "cell_type": "code",
   "execution_count": null,
   "id": "e0ba5604",
   "metadata": {
    "deletable": false,
    "editable": false
   },
   "outputs": [],
   "source": [
    "grader.check(\"q3\")"
   ]
  },
  {
   "cell_type": "markdown",
   "id": "1091ed4a",
   "metadata": {
    "collapsed": false,
    "pycharm": {
     "name": "#%% md\n"
    }
   },
   "source": [
    "### Question 4\n",
    "\n",
    "<div class=\"alert alert-info\" style=\"color:black\">\n",
    "\n",
    "Another way of visualizing the information in the previous plot is to create a heatmap with counts of the combinations of each sector and data sensitivity category:\n",
    "\n",
    "1. Create a heatmap\n",
    "   with the sectors on the y-axis\n",
    "   and the data sensitivity level on the x-axis\n",
    "   (encoded as an ordinal variable).\n",
    "2. Encode the counts of each combination as the color of the rectangle\n",
    "3. Sort the y-axis based on the counts.\n",
    "4. Add a tooltip with has the sector, data sensitity and count\n",
    "\n",
    "</div>\n",
    "\n",
    "_Points:_ 14"
   ]
  },
  {
   "cell_type": "code",
   "execution_count": null,
   "id": "37866f96",
   "metadata": {
    "collapsed": false,
    "pycharm": {
     "name": "#%%\n"
    },
    "tags": []
   },
   "outputs": [],
   "source": [
    "heatmap_sector_sensitivity_count = ...\n",
    "\n",
    "# Show the plot\n",
    "heatmap_sector_sensitivity_count"
   ]
  },
  {
   "cell_type": "code",
   "execution_count": null,
   "id": "85019531",
   "metadata": {
    "deletable": false,
    "editable": false
   },
   "outputs": [],
   "source": [
    "grader.check(\"q4\")"
   ]
  },
  {
   "cell_type": "markdown",
   "id": "3b7e425c",
   "metadata": {
    "collapsed": false,
    "pycharm": {
     "name": "#%% md\n"
    }
   },
   "source": [
    "<!-- BEGIN QUESTION -->\n",
    "\n",
    "### Question 5\n",
    "\n",
    "<div class=\"alert alert-info\" style=\"color:black\">\n",
    "\n",
    "Compare the last three visualizations that you created. Which is most effective at answering the questions below.\n",
    "Answer the questions and use the theoretical concepts you have been exposed (in the course) to explain why that visualization is more effective than the others\n",
    "\n",
    "1. Which sector has the highest number of breaches in our dataset?\n",
    "2. What proportion of leaked government data is most sensitive (i.e. level 5 sensitivity)?\n",
    "</div>\n",
    "\n",
    "_Points:_ 0"
   ]
  },
  {
   "cell_type": "markdown",
   "id": "82c2e2ac",
   "metadata": {},
   "source": [
    "_Type your answer here, replacing this text._"
   ]
  },
  {
   "cell_type": "markdown",
   "id": "471a4db9",
   "metadata": {
    "pycharm": {
     "name": "#%% md\n"
    },
    "tags": []
   },
   "source": [
    "<!-- END QUESTION -->\n",
    "\n",
    "### Question 6\n",
    "\n",
    "<div class=\"alert alert-info\" style=\"color:black\">\n",
    "\n",
    "Next, let's explore how the size of the breaches have changed over time.\n",
    "To make the plot easier to interpret,\n",
    "we will focus on the four sectors with the most data breaches.\n",
    "The necessary data wrangling for this has already been done for you,\n",
    "and you need to use the wrangled data to complete the following tasks:\n",
    "\n",
    "1. Create a scatter plot with the date on the x-axis\n",
    "   and the records lost on the y-axis.\n",
    "2. Let the size of the points indicate the sensitivity of the breached data.\n",
    "3. Let the color indicate which sector the point belongs to.\n",
    "4. Add a tooltip that displays the source of the breach\n",
    "  when the point is hovered over with the mouse pointer.\n",
    "\n",
    "</div>\n",
    "\n",
    "_Points:_ 10"
   ]
  },
  {
   "cell_type": "code",
   "execution_count": null,
   "id": "8f559820",
   "metadata": {
    "pycharm": {
     "name": "#%%\n"
    },
    "tags": []
   },
   "outputs": [],
   "source": [
    "# Provided data wrangling\n",
    "top_sectors = breaches['sector'].value_counts().nlargest(4).index.tolist()\n",
    "top_breaches = breaches.query('sector in @top_sectors')"
   ]
  },
  {
   "cell_type": "code",
   "execution_count": null,
   "id": "51d0ae9a",
   "metadata": {
    "pycharm": {
     "name": "#%%\n"
    },
    "tags": []
   },
   "outputs": [],
   "source": [
    "scatter_breaches_over_time = ...\n",
    "\n",
    "# Show the plot\n",
    "scatter_breaches_over_time"
   ]
  },
  {
   "cell_type": "code",
   "execution_count": null,
   "id": "fbc0048c",
   "metadata": {
    "deletable": false,
    "editable": false
   },
   "outputs": [],
   "source": [
    "grader.check(\"q6\")"
   ]
  },
  {
   "cell_type": "markdown",
   "id": "80dfc22f",
   "metadata": {
    "collapsed": false,
    "pycharm": {
     "name": "#%% md\n"
    }
   },
   "source": [
    "### Question 7\n",
    "\n",
    "<div class=\"alert alert-info\" style=\"color:black\">\n",
    "\n",
    "For the next 3 questions, let's return to the original dataset (i.e., breaches)\n",
    "Next, let's use a sorted bar chart to determine which method resulted in the most records lost\n",
    "\n",
    "1. Create a bar chart with the sum of records lost encoded on the x-axis and the method encoded on the y-axis\n",
    "2. Sort such that the method with the highest number of records lost is furthest away from the x-axis\n",
    "</div>\n",
    "\n",
    "_Points:_ 9"
   ]
  },
  {
   "cell_type": "code",
   "execution_count": null,
   "id": "66d9a5ae",
   "metadata": {
    "collapsed": false,
    "pycharm": {
     "name": "#%%\n"
    },
    "tags": []
   },
   "outputs": [],
   "source": [
    "bar_method_records_lost = ...\n",
    "\n",
    "# Show the plot\n",
    "bar_method_records_lost"
   ]
  },
  {
   "cell_type": "code",
   "execution_count": null,
   "id": "55885ffa",
   "metadata": {
    "deletable": false,
    "editable": false
   },
   "outputs": [],
   "source": [
    "grader.check(\"q7\")"
   ]
  },
  {
   "cell_type": "markdown",
   "id": "cffb4ff0",
   "metadata": {
    "collapsed": false,
    "pycharm": {
     "name": "#%% md\n"
    }
   },
   "source": [
    "### Question 8\n",
    "\n",
    "<div class=\"alert alert-info\" style=\"color:black\">\n",
    "\n",
    "Next, let's use a **normalized** stacked bar to get a sense of the sensitivity distribution for each method.\n",
    "Create a stacked bar chart with\n",
    "1. The sum of records lost encoded on the x-axis\n",
    "2. The method on the y-axis\n",
    "3. Sensitivity on the color channel\n",
    "</div>\n",
    "\n",
    "_Points:_ 12"
   ]
  },
  {
   "cell_type": "code",
   "execution_count": null,
   "id": "83f59d80",
   "metadata": {
    "collapsed": false,
    "pycharm": {
     "name": "#%%\n"
    },
    "tags": []
   },
   "outputs": [],
   "source": [
    "sbar_method_records_sensitivity = ...\n",
    "\n",
    "# Show the plot\n",
    "sbar_method_records_sensitivity"
   ]
  },
  {
   "cell_type": "code",
   "execution_count": null,
   "id": "f6ba97e2",
   "metadata": {
    "deletable": false,
    "editable": false
   },
   "outputs": [],
   "source": [
    "grader.check(\"q8\")"
   ]
  },
  {
   "cell_type": "markdown",
   "id": "f36acd77",
   "metadata": {
    "collapsed": false,
    "pycharm": {
     "name": "#%% md\n"
    }
   },
   "source": [
    "### Question 9\n",
    "\n",
    "<div class=\"alert alert-info\" style=\"color:black\">\n",
    "\n",
    "You have done alot, let's create one more visualization.\n",
    "Create a scatterplot with using the dataset for the given sectors\n",
    "1. sector encoded on y channel\n",
    "2. method encoded on x channel\n",
    "3. sum of records_lost with size\n",
    "4. data sensitivity with color\n",
    "</div>\n",
    "\n",
    "_Points:_ 8"
   ]
  },
  {
   "cell_type": "code",
   "execution_count": null,
   "id": "7fa4a768",
   "metadata": {
    "collapsed": false,
    "pycharm": {
     "name": "#%%\n"
    },
    "tags": []
   },
   "outputs": [],
   "source": [
    "# Provided Wrangling\n",
    "sector_list = ['app', 'finance', 'government', 'web', 'military']\n",
    "selected_sectors = breaches.loc[(breaches['sector'].isin(sector_list))]\n"
   ]
  },
  {
   "cell_type": "code",
   "execution_count": null,
   "id": "58145714",
   "metadata": {
    "collapsed": false,
    "pycharm": {
     "name": "#%%\n"
    },
    "tags": []
   },
   "outputs": [],
   "source": [
    "scatter_some_sectors = ...\n",
    "\n",
    "# Show the plot\n",
    "scatter_some_sectors"
   ]
  },
  {
   "cell_type": "code",
   "execution_count": null,
   "id": "3ca93e6d",
   "metadata": {
    "deletable": false,
    "editable": false
   },
   "outputs": [],
   "source": [
    "grader.check(\"q9\")"
   ]
  },
  {
   "cell_type": "markdown",
   "id": "49870425",
   "metadata": {
    "collapsed": false,
    "pycharm": {
     "name": "#%% md\n"
    }
   },
   "source": [
    "<!-- BEGIN QUESTION -->\n",
    "\n",
    "### Question 10\n",
    "\n",
    "<div class=\"alert alert-info\" style=\"color:black\">\n",
    "\n",
    "For each of the visualizations you have created (i.e., 8 in total), using the task abstraction framework presented in class, write out one task that each viz is effective at.\n",
    " In addition write out one thing your learned about data breaches from this dataset/assignment </div>\n",
    "\n",
    "_Points:_ 0"
   ]
  },
  {
   "cell_type": "markdown",
   "id": "12cc5406",
   "metadata": {},
   "source": [
    "_Type your answer here, replacing this text._"
   ]
  },
  {
   "cell_type": "markdown",
   "id": "7aa0e22e",
   "metadata": {
    "pycharm": {
     "name": "#%% md\n"
    }
   },
   "source": [
    "<!-- END QUESTION -->\n",
    "\n",
    "<div class=\"alert alert-danger\" style=\"color:black\">\n",
    "    \n",
    "**Restart and run all before submitting**\n",
    "    \n",
    "Before submitting your notebook.\n",
    "don't forget to run all cells in your notebook\n",
    "to make sure there are no errors\n",
    "and so that the TAs can see your submission on Gradescope.\n",
    "You can do this by clicking the ▶▶ button\n",
    "or going to `Kernel -> Restart Kernel and Run All Cells...` in the menu.\n",
    "This is not only important for DSCI 320,\n",
    "but a good habit you should get into before ever committing a notebook to GitHub,\n",
    "so that your collaborators can run it from top to bottom\n",
    "without issues.\n",
    "</div>"
   ]
  }
 ],
 "metadata": {
  "kernelspec": {
   "display_name": "Python 3 (ipykernel)",
   "language": "python",
   "name": "python3"
  },
  "language_info": {
   "codemirror_mode": {
    "name": "ipython",
    "version": 3
   },
   "file_extension": ".py",
   "mimetype": "text/x-python",
   "name": "python",
   "nbconvert_exporter": "python",
   "pygments_lexer": "ipython3",
   "version": "3.9.13"
  },
  "otter": {
   "OK_FORMAT": true,
   "tests": {
    "q1": {
     "name": "q1",
     "points": 6,
     "suites": [
      {
       "cases": [
        {
         "code": ">>> assert bar_sector_count is not None\n>>> assert isinstance(bar_sector_count, alt.Chart)\n",
         "failure_message": "Some of your variables have an unexpected name or type",
         "hidden": false,
         "locked": false,
         "points": 0,
         "success_message": "This test only checks that your variables have the correct name and type"
        }
       ],
       "scored": true,
       "setup": "",
       "teardown": "",
       "type": "doctest"
      }
     ]
    },
    "q2": {
     "name": "q2",
     "points": 7,
     "suites": [
      {
       "cases": [
        {
         "code": ">>> assert bar_sector_sensitivity_count is not None\n>>> assert isinstance(bar_sector_sensitivity_count, alt.Chart)\n",
         "failure_message": "Some of your variables have an unexpected name or type",
         "hidden": false,
         "locked": false,
         "points": 0,
         "success_message": "This test only checks that your variables have the correct name and type"
        }
       ],
       "scored": true,
       "setup": "",
       "teardown": "",
       "type": "doctest"
      }
     ]
    },
    "q3": {
     "name": "q3",
     "points": 8,
     "suites": [
      {
       "cases": [
        {
         "code": ">>> assert point_sector_sensitivity_count is not None\n>>> assert isinstance(point_sector_sensitivity_count, alt.Chart)\n",
         "failure_message": "Some of your variables have an unexpected name or type",
         "hidden": false,
         "locked": false,
         "points": 0,
         "success_message": "This test only checks that your variables have the correct name and type"
        }
       ],
       "scored": true,
       "setup": "",
       "teardown": "",
       "type": "doctest"
      }
     ]
    },
    "q4": {
     "name": "q4",
     "points": 14,
     "suites": [
      {
       "cases": [
        {
         "code": ">>> assert heatmap_sector_sensitivity_count is not None\n>>> assert isinstance(heatmap_sector_sensitivity_count, alt.Chart)\n",
         "failure_message": "Some of your variables have an unexpected name or type",
         "hidden": false,
         "locked": false,
         "points": 0,
         "success_message": "All your variables have the expected name and type"
        }
       ],
       "scored": true,
       "setup": "",
       "teardown": "",
       "type": "doctest"
      }
     ]
    },
    "q6": {
     "name": "q6",
     "points": 10,
     "suites": [
      {
       "cases": [
        {
         "code": ">>> assert scatter_breaches_over_time is not None\n>>> assert isinstance(scatter_breaches_over_time, alt.Chart)\n",
         "failure_message": "Some of your variables have an unexpected name or type",
         "hidden": false,
         "locked": false,
         "points": 0,
         "success_message": "This test only checks that your variables have the correct name and type"
        }
       ],
       "scored": true,
       "setup": "",
       "teardown": "",
       "type": "doctest"
      }
     ]
    },
    "q7": {
     "name": "q7",
     "points": 9,
     "suites": [
      {
       "cases": [
        {
         "code": ">>> assert bar_method_records_lost is not None\n>>> assert isinstance(bar_method_records_lost, alt.Chart)\n",
         "failure_message": "Some of your variables have an unexpected name or type",
         "hidden": false,
         "locked": false,
         "points": 0,
         "success_message": "All your variables have the expected name and type"
        }
       ],
       "scored": true,
       "setup": "",
       "teardown": "",
       "type": "doctest"
      }
     ]
    },
    "q8": {
     "name": "q8",
     "points": 12,
     "suites": [
      {
       "cases": [
        {
         "code": ">>> assert sbar_method_records_sensitivity is not None\n>>> assert isinstance(sbar_method_records_sensitivity, alt.Chart)\n",
         "failure_message": "Some of your variables have an unexpected name or type",
         "hidden": false,
         "locked": false,
         "points": 0,
         "success_message": "All your variables have the expected name and type"
        }
       ],
       "scored": true,
       "setup": "",
       "teardown": "",
       "type": "doctest"
      }
     ]
    },
    "q9": {
     "name": "q9",
     "points": 8,
     "suites": [
      {
       "cases": [
        {
         "code": ">>> assert scatter_some_sectors is not None\n>>> assert isinstance(scatter_some_sectors, alt.Chart)\n",
         "failure_message": "Some of your variables have an unexpected name or type",
         "hidden": false,
         "locked": false,
         "points": 0,
         "success_message": "All your variables have the expected name and type"
        }
       ],
       "scored": true,
       "setup": "",
       "teardown": "",
       "type": "doctest"
      }
     ]
    }
   }
  }
 },
 "nbformat": 4,
 "nbformat_minor": 5
}
