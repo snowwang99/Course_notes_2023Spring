{
 "cells": [
  {
   "cell_type": "code",
   "execution_count": 27,
   "id": "55d5dae0",
   "metadata": {
    "deletable": false,
    "editable": false
   },
   "outputs": [],
   "source": [
    "# Initialize Otter\n",
    "import otter\n",
    "grader = otter.Notebook(\"assignment3.ipynb\")"
   ]
  },
  {
   "cell_type": "markdown",
   "id": "b0caa9f8",
   "metadata": {
    "pycharm": {
     "name": "#%% md\n"
    }
   },
   "source": [
    "# Assignment 3 - Data Breaches\n",
    "\n",
    "The questions in each assignment will be mostly autograded, but you will **not** see all the autograded tests in the notebook. After the deadline has passed, many additional tests will run on the file you submitted on Gradescope and you will be able to view your score online. In addition, please note that while we do NOT explicitly tell you to add chart titles and axis labels, we strongly encourage you to do so for the visualizations you create. In addition to the autograding, the TAs, will manually grade your use of chart titles and appropriate axis labels on this assignment."
   ]
  },
  {
   "cell_type": "markdown",
   "id": "6ce776db",
   "metadata": {
    "pycharm": {
     "name": "#%% md\n"
    }
   },
   "source": [
    "## Assessment\n",
    "7% of your Overall course Grade"
   ]
  },
  {
   "cell_type": "markdown",
   "id": "e3b40a92",
   "metadata": {
    "pycharm": {
     "name": "#%% md\n"
    }
   },
   "source": [
    "## Due Date\n",
    "February 21st (end of day 11:59pm)"
   ]
  },
  {
   "cell_type": "markdown",
   "id": "d8cad237",
   "metadata": {
    "pycharm": {
     "name": "#%% md\n"
    },
    "tags": []
   },
   "source": [
    "## Submission instructions\n",
    "\n",
    "<div class=\"alert alert-info\" style=\"color:black\">\n",
    "<ul>\n",
    "  <li>Download this lab from the Jupyter Book web page by clicking the download symbol at the top right of the page and selecting the <code>.ipynb</code> format.</li>\n",
    "  <li>To submit this lab, answer all the questions and then upload the completed lab to Gradescope.</li>\n",
    "    <ul>\n",
    "      <li>Before submitting, make sure you restart the kernel and rerun all cells (click the ▶▶ button).</li>\n",
    "    </ul>\n",
    "  <li>Don't change any variable names that are given to you, don't move cells around, and don't include any code to install packages in the notebook.</li>\n",
    "  </li>\n",
    "</ul>\n",
    "</div>"
   ]
  },
  {
   "cell_type": "code",
   "execution_count": 28,
   "id": "c79a055e",
   "metadata": {
    "pycharm": {
     "name": "#%%\n"
    }
   },
   "outputs": [
    {
     "data": {
      "text/plain": [
       "RendererRegistry.enable('mimetype')"
      ]
     },
     "execution_count": 28,
     "metadata": {},
     "output_type": "execute_result"
    }
   ],
   "source": [
    "# Run this cell to ensure that altair plots show up on gradescope\n",
    "# We will talk more about what these lines do later in the course\n",
    "import altair as alt\n",
    "\n",
    "# Handle large data sets without embedding them in the notebook\n",
    "#alt.data_transformers.enable('data_server')\n",
    "# Include an image for each plot since Gradescope only supports displaying plots as images\n",
    "alt.renderers.enable('mimetype')"
   ]
  },
  {
   "cell_type": "markdown",
   "id": "54bfc230",
   "metadata": {
    "pycharm": {
     "name": "#%% md\n"
    },
    "tags": []
   },
   "source": [
    "### Question 1\n",
    "\n",
    "<div class=\"alert alert-info\" style=\"color:black\">\n",
    "\n",
    "Which sectors have had the most data breaches?\n",
    "To find out, complete the following tasks:\n",
    "\n",
    "1. Run the cell that reads in the data and study the dataframe to get familiar with the column values.\n",
    "2. Create a bar chart to determine which sectors have the most data breaches (i.e., this is the count of data breaches not the number of records lost)\n",
    "3. Choose a suitable orientation for what goes on the x and y axes.\n",
    "4. Sort the bars based on their value, with the largest bar the closest to the x-axis line.\n",
    "    \n",
    "</div>\n",
    "\n",
    "_Points:_ 6"
   ]
  },
  {
   "cell_type": "code",
   "execution_count": 34,
   "id": "5a2f3f41",
   "metadata": {
    "pycharm": {
     "name": "#%%\n"
    },
    "tags": []
   },
   "outputs": [
    {
     "data": {
      "text/html": [
       "<div>\n",
       "<style scoped>\n",
       "    .dataframe tbody tr th:only-of-type {\n",
       "        vertical-align: middle;\n",
       "    }\n",
       "\n",
       "    .dataframe tbody tr th {\n",
       "        vertical-align: top;\n",
       "    }\n",
       "\n",
       "    .dataframe thead th {\n",
       "        text-align: right;\n",
       "    }\n",
       "</style>\n",
       "<table border=\"1\" class=\"dataframe\">\n",
       "  <thead>\n",
       "    <tr style=\"text-align: right;\">\n",
       "      <th></th>\n",
       "      <th>index</th>\n",
       "      <th>organisation</th>\n",
       "      <th>records_lost</th>\n",
       "      <th>year</th>\n",
       "      <th>date</th>\n",
       "      <th>sector</th>\n",
       "      <th>method</th>\n",
       "      <th>data_sensitivity</th>\n",
       "      <th>source_name</th>\n",
       "    </tr>\n",
       "  </thead>\n",
       "  <tbody>\n",
       "    <tr>\n",
       "      <th>0</th>\n",
       "      <td>1</td>\n",
       "      <td>Syniverse</td>\n",
       "      <td>500000000</td>\n",
       "      <td>2021</td>\n",
       "      <td>2021-09-01</td>\n",
       "      <td>telecoms</td>\n",
       "      <td>hacked</td>\n",
       "      <td>4</td>\n",
       "      <td>Vice</td>\n",
       "    </tr>\n",
       "    <tr>\n",
       "      <th>1</th>\n",
       "      <td>5</td>\n",
       "      <td>Thailand visitors</td>\n",
       "      <td>100000000</td>\n",
       "      <td>2021</td>\n",
       "      <td>2021-09-01</td>\n",
       "      <td>government</td>\n",
       "      <td>poor security</td>\n",
       "      <td>2</td>\n",
       "      <td>South China Morning Post</td>\n",
       "    </tr>\n",
       "    <tr>\n",
       "      <th>2</th>\n",
       "      <td>10</td>\n",
       "      <td>Linkedin</td>\n",
       "      <td>700000000</td>\n",
       "      <td>2021</td>\n",
       "      <td>2021-07-01</td>\n",
       "      <td>web</td>\n",
       "      <td>hacked</td>\n",
       "      <td>1</td>\n",
       "      <td>9 to 5 mac</td>\n",
       "    </tr>\n",
       "    <tr>\n",
       "      <th>3</th>\n",
       "      <td>21</td>\n",
       "      <td>Experian Brazil</td>\n",
       "      <td>220000000</td>\n",
       "      <td>2021</td>\n",
       "      <td>2021-02-01</td>\n",
       "      <td>finance</td>\n",
       "      <td>hacked</td>\n",
       "      <td>2</td>\n",
       "      <td>ZDNet</td>\n",
       "    </tr>\n",
       "    <tr>\n",
       "      <th>4</th>\n",
       "      <td>24</td>\n",
       "      <td>Facebook</td>\n",
       "      <td>533000000</td>\n",
       "      <td>2021</td>\n",
       "      <td>2021-03-01</td>\n",
       "      <td>tech</td>\n",
       "      <td>hacked</td>\n",
       "      <td>1</td>\n",
       "      <td>Business Insider</td>\n",
       "    </tr>\n",
       "    <tr>\n",
       "      <th>...</th>\n",
       "      <td>...</td>\n",
       "      <td>...</td>\n",
       "      <td>...</td>\n",
       "      <td>...</td>\n",
       "      <td>...</td>\n",
       "      <td>...</td>\n",
       "      <td>...</td>\n",
       "      <td>...</td>\n",
       "      <td>...</td>\n",
       "    </tr>\n",
       "    <tr>\n",
       "      <th>62</th>\n",
       "      <td>304</td>\n",
       "      <td>Sony PSN</td>\n",
       "      <td>77000000</td>\n",
       "      <td>2011</td>\n",
       "      <td>2011-04-01</td>\n",
       "      <td>gaming</td>\n",
       "      <td>hacked</td>\n",
       "      <td>1</td>\n",
       "      <td>Mashable</td>\n",
       "    </tr>\n",
       "    <tr>\n",
       "      <th>63</th>\n",
       "      <td>345</td>\n",
       "      <td>Heartland</td>\n",
       "      <td>130000000</td>\n",
       "      <td>2009</td>\n",
       "      <td>2009-01-01</td>\n",
       "      <td>finance</td>\n",
       "      <td>hacked</td>\n",
       "      <td>3</td>\n",
       "      <td>Dark Reading</td>\n",
       "    </tr>\n",
       "    <tr>\n",
       "      <th>64</th>\n",
       "      <td>353</td>\n",
       "      <td>US Military</td>\n",
       "      <td>76000000</td>\n",
       "      <td>2009</td>\n",
       "      <td>2009-10-01</td>\n",
       "      <td>military</td>\n",
       "      <td>lost device</td>\n",
       "      <td>2</td>\n",
       "      <td>Wired</td>\n",
       "    </tr>\n",
       "    <tr>\n",
       "      <th>65</th>\n",
       "      <td>379</td>\n",
       "      <td>TK / TJ Maxx</td>\n",
       "      <td>94000000</td>\n",
       "      <td>2007</td>\n",
       "      <td>2007-03-01</td>\n",
       "      <td>retail</td>\n",
       "      <td>hacked</td>\n",
       "      <td>3</td>\n",
       "      <td>ZD Net</td>\n",
       "    </tr>\n",
       "    <tr>\n",
       "      <th>66</th>\n",
       "      <td>391</td>\n",
       "      <td>AOL</td>\n",
       "      <td>92000000</td>\n",
       "      <td>2004</td>\n",
       "      <td>2004-06-01</td>\n",
       "      <td>web</td>\n",
       "      <td>inside job</td>\n",
       "      <td>1</td>\n",
       "      <td>CNN</td>\n",
       "    </tr>\n",
       "  </tbody>\n",
       "</table>\n",
       "<p>67 rows × 9 columns</p>\n",
       "</div>"
      ],
      "text/plain": [
       "    index       organisation  records_lost  year       date      sector  \\\n",
       "0       1          Syniverse     500000000  2021 2021-09-01    telecoms   \n",
       "1       5  Thailand visitors     100000000  2021 2021-09-01  government   \n",
       "2      10           Linkedin     700000000  2021 2021-07-01         web   \n",
       "3      21    Experian Brazil     220000000  2021 2021-02-01     finance   \n",
       "4      24           Facebook     533000000  2021 2021-03-01        tech   \n",
       "..    ...                ...           ...   ...        ...         ...   \n",
       "62    304           Sony PSN      77000000  2011 2011-04-01      gaming   \n",
       "63    345          Heartland     130000000  2009 2009-01-01     finance   \n",
       "64    353        US Military      76000000  2009 2009-10-01    military   \n",
       "65    379       TK / TJ Maxx      94000000  2007 2007-03-01      retail   \n",
       "66    391                AOL      92000000  2004 2004-06-01         web   \n",
       "\n",
       "           method  data_sensitivity               source_name  \n",
       "0          hacked                 4                      Vice  \n",
       "1   poor security                 2  South China Morning Post  \n",
       "2          hacked                 1                9 to 5 mac  \n",
       "3          hacked                 2                     ZDNet  \n",
       "4          hacked                 1          Business Insider  \n",
       "..            ...               ...                       ...  \n",
       "62         hacked                 1                  Mashable  \n",
       "63         hacked                 3              Dark Reading  \n",
       "64   lost device                  2                     Wired  \n",
       "65         hacked                 3                    ZD Net  \n",
       "66     inside job                 1                       CNN  \n",
       "\n",
       "[67 rows x 9 columns]"
      ]
     },
     "execution_count": 34,
     "metadata": {},
     "output_type": "execute_result"
    }
   ],
   "source": [
    "# Provided code to read in the data\n",
    "import pandas as pd\n",
    "\n",
    "url = 'https://raw.githubusercontent.com/kemiolamudzengi/dsci-320-datasets/main/breaches.csv'\n",
    "breaches = pd.read_csv(url, parse_dates=['date'])\n",
    "breaches"
   ]
  },
  {
   "cell_type": "code",
   "execution_count": 35,
   "id": "84d2a1f2-8114-4fb2-9c17-b9adf74c42db",
   "metadata": {},
   "outputs": [],
   "source": [
    "# common variable to source the chart\n",
    "src = alt.Chart(breaches)"
   ]
  },
  {
   "cell_type": "code",
   "execution_count": 36,
   "id": "d796dccf",
   "metadata": {
    "pycharm": {
     "name": "#%%\n"
    },
    "tags": []
   },
   "outputs": [
    {
     "name": "stderr",
     "output_type": "stream",
     "text": [
      "/opt/conda/lib/python3.10/site-packages/altair/utils/core.py:317: FutureWarning: iteritems is deprecated and will be removed in a future version. Use .items instead.\n",
      "  for col_name, dtype in df.dtypes.iteritems():\n"
     ]
    },
    {
     "data": {
      "application/vnd.vegalite.v4+json": {
       "$schema": "https://vega.github.io/schema/vega-lite/v4.17.0.json",
       "config": {
        "view": {
         "continuousHeight": 300,
         "continuousWidth": 400
        }
       },
       "data": {
        "name": "data-983fd4a0b346be762802282aadc3c3e4"
       },
       "datasets": {
        "data-983fd4a0b346be762802282aadc3c3e4": [
         {
          "data_sensitivity": 4,
          "date": "2021-09-01T00:00:00",
          "index": 1,
          "method": "hacked",
          "organisation": "Syniverse",
          "records_lost": 500000000,
          "sector": "telecoms",
          "source_name": "Vice",
          "year": 2021
         },
         {
          "data_sensitivity": 2,
          "date": "2021-09-01T00:00:00",
          "index": 5,
          "method": "poor security",
          "organisation": "Thailand visitors",
          "records_lost": 100000000,
          "sector": "government",
          "source_name": "South China Morning Post",
          "year": 2021
         },
         {
          "data_sensitivity": 1,
          "date": "2021-07-01T00:00:00",
          "index": 10,
          "method": "hacked",
          "organisation": "Linkedin",
          "records_lost": 700000000,
          "sector": "web",
          "source_name": "9 to 5 mac",
          "year": 2021
         },
         {
          "data_sensitivity": 2,
          "date": "2021-02-01T00:00:00",
          "index": 21,
          "method": "hacked",
          "organisation": "Experian Brazil",
          "records_lost": 220000000,
          "sector": "finance",
          "source_name": "ZDNet",
          "year": 2021
         },
         {
          "data_sensitivity": 1,
          "date": "2021-03-01T00:00:00",
          "index": 24,
          "method": "hacked",
          "organisation": "Facebook",
          "records_lost": 533000000,
          "sector": "tech",
          "source_name": "Business Insider",
          "year": 2021
         },
         {
          "data_sensitivity": 3,
          "date": "2020-12-01T00:00:00",
          "index": 28,
          "method": "hacked",
          "organisation": "SolarWinds",
          "records_lost": 50000000,
          "sector": "app",
          "source_name": "New York Times",
          "year": 2020
         },
         {
          "data_sensitivity": 2,
          "date": "2020-04-01T00:00:00",
          "index": 37,
          "method": "hacked",
          "organisation": "Pakistani mobile operators",
          "records_lost": 115000000,
          "sector": "telecoms",
          "source_name": "ZDNet",
          "year": 2020
         },
         {
          "data_sensitivity": 1,
          "date": "2020-01-01T00:00:00",
          "index": 41,
          "method": "poor security",
          "organisation": "Microsoft",
          "records_lost": 250000000,
          "sector": "web",
          "source_name": "Forbes",
          "year": 2020
         },
         {
          "data_sensitivity": 2,
          "date": "2019-05-01T00:00:00",
          "index": 56,
          "method": "hacked",
          "organisation": "Canva",
          "records_lost": 139000000,
          "sector": "web",
          "source_name": "ZDNet",
          "year": 2019
         },
         {
          "data_sensitivity": 1,
          "date": "2019-05-01T00:00:00",
          "index": 57,
          "method": "poor security",
          "organisation": "Chtrbox",
          "records_lost": 49000000,
          "sector": "misc",
          "source_name": "Techcrunch",
          "year": 2019
         },
         {
          "data_sensitivity": 1,
          "date": "2019-02-01T00:00:00",
          "index": 62,
          "method": "hacked",
          "organisation": "Dubsmash",
          "records_lost": 162000000,
          "sector": "web",
          "source_name": "The Register",
          "year": 2019
         },
         {
          "data_sensitivity": 1,
          "date": "2019-02-01T00:00:00",
          "index": 63,
          "method": "hacked",
          "organisation": "ShareThis",
          "records_lost": 41000000,
          "sector": "web",
          "source_name": "The Register",
          "year": 2019
         },
         {
          "data_sensitivity": 2,
          "date": "2019-02-01T00:00:00",
          "index": 77,
          "method": "hacked",
          "organisation": "Houzz",
          "records_lost": 57000000,
          "sector": "retail",
          "source_name": "Techcrunch",
          "year": 2019
         },
         {
          "data_sensitivity": 2,
          "date": "2019-05-01T00:00:00",
          "index": 86,
          "method": "poor security",
          "organisation": "Indian citizens",
          "records_lost": 275265298,
          "sector": "web",
          "source_name": "Bleeping Computer",
          "year": 2019
         },
         {
          "data_sensitivity": 3,
          "date": "2019-07-01T00:00:00",
          "index": 88,
          "method": "hacked",
          "organisation": "Capital One",
          "records_lost": 100000000,
          "sector": "finance",
          "source_name": "Forbes",
          "year": 2019
         },
         {
          "data_sensitivity": 2,
          "date": "2019-09-01T00:00:00",
          "index": 90,
          "method": "poor security",
          "organisation": "Facebook",
          "records_lost": 419000000,
          "sector": "web",
          "source_name": "Fast Company",
          "year": 2019
         },
         {
          "data_sensitivity": 2,
          "date": "2019-11-01T00:00:00",
          "index": 93,
          "method": "poor security",
          "organisation": "OxyData",
          "records_lost": 380000000,
          "sector": "tech",
          "source_name": "Dataviper",
          "year": 2019
         },
         {
          "data_sensitivity": 3,
          "date": "2018-10-01T00:00:00",
          "index": 97,
          "method": "hacked",
          "organisation": "Cathay Pacific Airways",
          "records_lost": 94000000,
          "sector": "transport",
          "source_name": "ABC News",
          "year": 2018
         },
         {
          "data_sensitivity": 2,
          "date": "2018-12-01T00:00:00",
          "index": 98,
          "method": "poor security",
          "organisation": "Chinese resume leak",
          "records_lost": 202000000,
          "sector": "web",
          "source_name": "HackenProof",
          "year": 2018
         },
         {
          "data_sensitivity": 2,
          "date": "2018-12-01T00:00:00",
          "index": 99,
          "method": "poor security",
          "organisation": "Google+",
          "records_lost": 52500000,
          "sector": "web",
          "source_name": "The Verge",
          "year": 2018
         },
         {
          "data_sensitivity": 1,
          "date": "2018-12-01T00:00:00",
          "index": 100,
          "method": "hacked",
          "organisation": "Quora",
          "records_lost": 100000000,
          "sector": "web",
          "source_name": "NY Times",
          "year": 2018
         },
         {
          "data_sensitivity": 3,
          "date": "2018-11-01T00:00:00",
          "index": 101,
          "method": "hacked",
          "organisation": "Marriott International",
          "records_lost": 383000000,
          "sector": "retail",
          "source_name": "NY Times, CNET",
          "year": 2018
         },
         {
          "data_sensitivity": 1,
          "date": "2018-03-01T00:00:00",
          "index": 103,
          "method": "hacked",
          "organisation": "Facebook",
          "records_lost": 50000000,
          "sector": "web",
          "source_name": "Guardian",
          "year": 2018
         },
         {
          "data_sensitivity": 1,
          "date": "2018-06-01T00:00:00",
          "index": 106,
          "method": "hacked",
          "organisation": "MyHeritage",
          "records_lost": 92283889,
          "sector": "web",
          "source_name": "Bloomberg",
          "year": 2018
         },
         {
          "data_sensitivity": 1,
          "date": "2018-03-01T00:00:00",
          "index": 112,
          "method": "hacked",
          "organisation": "MyFitnessPal",
          "records_lost": 150000000,
          "sector": "app",
          "source_name": "Guardian",
          "year": 2018
         },
         {
          "data_sensitivity": 1,
          "date": "2018-06-01T00:00:00",
          "index": 114,
          "method": "poor security",
          "organisation": "Nametests",
          "records_lost": 120000000,
          "sector": "app",
          "source_name": "Medium",
          "year": 2018
         },
         {
          "data_sensitivity": 5,
          "date": "2018-06-01T00:00:00",
          "index": 116,
          "method": "poor security",
          "organisation": "Firebase",
          "records_lost": 100000000,
          "sector": "app",
          "source_name": "Bleeping Computer",
          "year": 2018
         },
         {
          "data_sensitivity": 4,
          "date": "2018-03-01T00:00:00",
          "index": 117,
          "method": "poor security",
          "organisation": "Aadhaar",
          "records_lost": 550000000,
          "sector": "government",
          "source_name": "ZDNet",
          "year": 2018
         },
         {
          "data_sensitivity": 2,
          "date": "2018-05-01T00:00:00",
          "index": 121,
          "method": "poor security",
          "organisation": "LocalBlox",
          "records_lost": 48000000,
          "sector": "web",
          "source_name": "UpGuard",
          "year": 2018
         },
         {
          "data_sensitivity": 1,
          "date": "2018-05-01T00:00:00",
          "index": 122,
          "method": "poor security",
          "organisation": "Twitter",
          "records_lost": 330000000,
          "sector": "tech",
          "source_name": "Reuters",
          "year": 2018
         },
         {
          "data_sensitivity": 3,
          "date": "2018-09-01T00:00:00",
          "index": 133,
          "method": "hacked",
          "organisation": "Newegg",
          "records_lost": 45000000,
          "sector": "retail",
          "source_name": "TechCrunch",
          "year": 2018
         },
         {
          "data_sensitivity": 1,
          "date": "2018-05-01T00:00:00",
          "index": 135,
          "method": "poor security",
          "organisation": "Apollo",
          "records_lost": 200000000,
          "sector": "tech",
          "source_name": "Wired",
          "year": 2018
         },
         {
          "data_sensitivity": 1,
          "date": "2017-11-01T00:00:00",
          "index": 139,
          "method": "hacked",
          "organisation": "Uber",
          "records_lost": 57000000,
          "sector": "app",
          "source_name": "Bloomberg",
          "year": 2017
         },
         {
          "data_sensitivity": 4,
          "date": "2017-08-01T00:00:00",
          "index": 142,
          "method": "poor security",
          "organisation": "Spambot",
          "records_lost": 520000000,
          "sector": "web",
          "source_name": "The Guardian",
          "year": 2017
         },
         {
          "data_sensitivity": 2,
          "date": "2017-03-01T00:00:00",
          "index": 149,
          "method": "oops!",
          "organisation": "River City Media",
          "records_lost": 340000000,
          "sector": "web",
          "source_name": "Guardian",
          "year": 2017
         },
         {
          "data_sensitivity": 4,
          "date": "2017-10-01T00:00:00",
          "index": 155,
          "method": "hacked",
          "organisation": "Malaysian telcos & MVNOs",
          "records_lost": 46200000,
          "sector": "telecoms",
          "source_name": "LowYat",
          "year": 2017
         },
         {
          "data_sensitivity": 4,
          "date": "2017-09-01T00:00:00",
          "index": 159,
          "method": "hacked",
          "organisation": "Equifax",
          "records_lost": 143000000,
          "sector": "finance",
          "source_name": "UK Gov",
          "year": 2017
         },
         {
          "data_sensitivity": 1,
          "date": "2016-05-01T00:00:00",
          "index": 161,
          "method": "hacked",
          "organisation": "LinkedIn",
          "records_lost": 117000000,
          "sector": "web",
          "source_name": "CNN",
          "year": 2016
         },
         {
          "data_sensitivity": 1,
          "date": "2016-05-01T00:00:00",
          "index": 162,
          "method": "hacked",
          "organisation": "Tumblr",
          "records_lost": 65000000,
          "sector": "web",
          "source_name": "Vice",
          "year": 2016
         },
         {
          "data_sensitivity": 2,
          "date": "2016-09-01T00:00:00",
          "index": 163,
          "method": "hacked",
          "organisation": "Yahoo",
          "records_lost": 500000000,
          "sector": "web",
          "source_name": "CNBC",
          "year": 2016
         },
         {
          "data_sensitivity": 5,
          "date": "2016-04-01T00:00:00",
          "index": 165,
          "method": "hacked",
          "organisation": "Philippines’ Commission on Elections",
          "records_lost": 55000000,
          "sector": "government",
          "source_name": "Trend Micro",
          "year": 2016
         },
         {
          "data_sensitivity": 2,
          "date": "2016-04-01T00:00:00",
          "index": 168,
          "method": "hacked",
          "organisation": "Turkish citizenship database",
          "records_lost": 49611709,
          "sector": "government",
          "source_name": "Business Insider",
          "year": 2016
         },
         {
          "data_sensitivity": 4,
          "date": "2016-06-01T00:00:00",
          "index": 179,
          "method": "hacked",
          "organisation": "VK",
          "records_lost": 171000000,
          "sector": "web",
          "source_name": "Motherboard",
          "year": 2016
         },
         {
          "data_sensitivity": 1,
          "date": "2016-05-01T00:00:00",
          "index": 182,
          "method": "hacked",
          "organisation": "MySpace",
          "records_lost": 164000000,
          "sector": "web",
          "source_name": "Vice",
          "year": 2016
         },
         {
          "data_sensitivity": 1,
          "date": "2016-12-01T00:00:00",
          "index": 186,
          "method": "hacked",
          "organisation": "Dailymotion",
          "records_lost": 85200000,
          "sector": "web",
          "source_name": "ZDNet",
          "year": 2016
         },
         {
          "data_sensitivity": 4,
          "date": "2016-10-01T00:00:00",
          "index": 187,
          "method": "hacked",
          "organisation": "Weebly",
          "records_lost": 43000000,
          "sector": "web",
          "source_name": "Tech Crunch",
          "year": 2016
         },
         {
          "data_sensitivity": 1,
          "date": "2016-11-01T00:00:00",
          "index": 190,
          "method": "hacked",
          "organisation": "Friend Finder Network",
          "records_lost": 412000000,
          "sector": "web",
          "source_name": "ZDNet",
          "year": 2016
         },
         {
          "data_sensitivity": 2,
          "date": "2015-12-01T00:00:00",
          "index": 197,
          "method": "poor security",
          "organisation": "Deep Root Analytics",
          "records_lost": 198000000,
          "sector": "web",
          "source_name": "Reuters, UpGuard",
          "year": 2015
         },
         {
          "data_sensitivity": 5,
          "date": "2015-11-01T00:00:00",
          "index": 210,
          "method": "hacked",
          "organisation": "Securus Technologies",
          "records_lost": 70000000,
          "sector": "web",
          "source_name": "The Intercept",
          "year": 2015
         },
         {
          "data_sensitivity": 2,
          "date": "2015-02-01T00:00:00",
          "index": 216,
          "method": "hacked",
          "organisation": "Anthem ",
          "records_lost": 80000000,
          "sector": "health",
          "source_name": "NYTimes",
          "year": 2015
         },
         {
          "data_sensitivity": 1,
          "date": "2014-05-01T00:00:00",
          "index": 224,
          "method": "hacked",
          "organisation": "Ebay",
          "records_lost": 145000000,
          "sector": "web",
          "source_name": "Business Insider",
          "year": 2014
         },
         {
          "data_sensitivity": 3,
          "date": "2014-10-01T00:00:00",
          "index": 227,
          "method": "hacked",
          "organisation": "JP Morgan Chase",
          "records_lost": 76000000,
          "sector": "finance",
          "source_name": "Deal Book",
          "year": 2014
         },
         {
          "data_sensitivity": 3,
          "date": "2014-09-01T00:00:00",
          "index": 233,
          "method": "hacked",
          "organisation": "Home Depot",
          "records_lost": 56000000,
          "sector": "retail",
          "source_name": "Krebs on Security",
          "year": 2014
         },
         {
          "data_sensitivity": 5,
          "date": "2013-07-01T00:00:00",
          "index": 237,
          "method": "hacked",
          "organisation": "Massive American business hack",
          "records_lost": 160000000,
          "sector": "finance",
          "source_name": "Technology Review",
          "year": 2013
         },
         {
          "data_sensitivity": 1,
          "date": "2013-04-01T00:00:00",
          "index": 242,
          "method": "hacked",
          "organisation": "Living Social",
          "records_lost": 50000000,
          "sector": "web",
          "source_name": "Naked Security, New York Times",
          "year": 2013
         },
         {
          "data_sensitivity": 2,
          "date": "2016-12-01T00:00:00",
          "index": 243,
          "method": "hacked",
          "organisation": "Yahoo",
          "records_lost": 550000000,
          "sector": "web",
          "source_name": "NY Times, BBC",
          "year": 2013
         },
         {
          "data_sensitivity": 2,
          "date": "2013-07-01T00:00:00",
          "index": 254,
          "method": "hacked",
          "organisation": "UbiSoft",
          "records_lost": 58000000,
          "sector": "gaming",
          "source_name": "BBC News",
          "year": 2013
         },
         {
          "data_sensitivity": 1,
          "date": "2013-03-01T00:00:00",
          "index": 259,
          "method": "hacked",
          "organisation": "Evernote",
          "records_lost": 50000000,
          "sector": "web",
          "source_name": "Wired, Digital Trends",
          "year": 2013
         },
         {
          "data_sensitivity": 2,
          "date": "2013-10-01T00:00:00",
          "index": 266,
          "method": "inside job",
          "organisation": "Court Ventures",
          "records_lost": 200000000,
          "sector": "finance",
          "source_name": "NY Times, Gov Tech",
          "year": 2013
         },
         {
          "data_sensitivity": 3,
          "date": "2013-12-01T00:00:00",
          "index": 271,
          "method": "hacked",
          "organisation": "Target",
          "records_lost": 70000000,
          "sector": "retail",
          "source_name": "Huffington Post",
          "year": 2013
         },
         {
          "data_sensitivity": 1,
          "date": "2016-09-01T00:00:00",
          "index": 287,
          "method": "hacked",
          "organisation": "Last.fm",
          "records_lost": 43500000,
          "sector": "web",
          "source_name": "ZD Net",
          "year": 2012
         },
         {
          "data_sensitivity": 1,
          "date": "2016-08-01T00:00:00",
          "index": 294,
          "method": "hacked",
          "organisation": "Dropbox",
          "records_lost": 68700000,
          "sector": "web",
          "source_name": "The Telegraph",
          "year": 2012
         },
         {
          "data_sensitivity": 1,
          "date": "2011-04-01T00:00:00",
          "index": 304,
          "method": "hacked",
          "organisation": "Sony PSN",
          "records_lost": 77000000,
          "sector": "gaming",
          "source_name": "Mashable",
          "year": 2011
         },
         {
          "data_sensitivity": 3,
          "date": "2009-01-01T00:00:00",
          "index": 345,
          "method": "hacked",
          "organisation": "Heartland",
          "records_lost": 130000000,
          "sector": "finance",
          "source_name": "Dark Reading",
          "year": 2009
         },
         {
          "data_sensitivity": 2,
          "date": "2009-10-01T00:00:00",
          "index": 353,
          "method": "lost device ",
          "organisation": "US Military",
          "records_lost": 76000000,
          "sector": "military",
          "source_name": "Wired",
          "year": 2009
         },
         {
          "data_sensitivity": 3,
          "date": "2007-03-01T00:00:00",
          "index": 379,
          "method": "hacked",
          "organisation": "TK / TJ Maxx",
          "records_lost": 94000000,
          "sector": "retail",
          "source_name": "ZD Net",
          "year": 2007
         },
         {
          "data_sensitivity": 1,
          "date": "2004-06-01T00:00:00",
          "index": 391,
          "method": "inside job",
          "organisation": "AOL",
          "records_lost": 92000000,
          "sector": "web",
          "source_name": "CNN",
          "year": 2004
         }
        ]
       },
       "encoding": {
        "x": {
         "aggregate": "count",
         "field": "records_lost",
         "type": "quantitative"
        },
        "y": {
         "field": "sector",
         "sort": "x",
         "type": "nominal"
        }
       },
       "mark": "bar"
      },
      "image/png": "[encoded data removed]",
      "text/plain": [
       "<VegaLite 4 object>\n",
       "\n",
       "If you see this message, it means the renderer has not been properly enabled\n",
       "for the frontend that you are using. For more information, see\n",
       "https://altair-viz.github.io/user_guide/troubleshooting.html\n"
      ]
     },
     "execution_count": 36,
     "metadata": {},
     "output_type": "execute_result"
    }
   ],
   "source": [
    "bar_sector_count = src.mark_bar().encode(\n",
    "    x = \"count(records_lost):Q\",\n",
    "    y = alt.Y(\"sector:N\", sort = \"x\")\n",
    "\n",
    ")\n",
    "\n",
    "# Show the plot\n",
    "bar_sector_count"
   ]
  },
  {
   "cell_type": "code",
   "execution_count": 37,
   "id": "4b8eec27",
   "metadata": {
    "deletable": false,
    "editable": false
   },
   "outputs": [
    {
     "data": {
      "text/html": [
       "<p><strong><pre style='display: inline;'>q1</pre></strong> passed! 💯</p><p><strong><pre style='display: inline;'>q1 - 1</pre> message:</strong> This test only checks that your variables have the correct name and type</p>"
      ],
      "text/plain": [
       "q1 results: All test cases passed!\n",
       "q1 - 1 message: This test only checks that your variables have the correct name and type"
      ]
     },
     "execution_count": 37,
     "metadata": {},
     "output_type": "execute_result"
    }
   ],
   "source": [
    "grader.check(\"q1\")"
   ]
  },
  {
   "cell_type": "markdown",
   "id": "f394cece",
   "metadata": {
    "pycharm": {
     "name": "#%% md\n"
    },
    "tags": []
   },
   "source": [
    "### Question 2\n",
    "\n",
    "<div class=\"alert alert-info\" style=\"color:black\">\n",
    "\n",
    "Out of all the data breaches from each sector, how many are there of each data sensitivity level?\n",
    "To find out, complete the following task:\n",
    "    \n",
    "Building off of the your answer for Q1, add information about how sensitive the data breaches in each category were,\n",
    "   by creating a stacked bar chart\n",
    "   where each section of the bar is encoded with color according to the data sensitivity.\n",
    "   Make sure that the data sensitivity is encoded as an ordinal color variable,\n",
    "   to reflect that there is an order between the five levels of sensitivity\n",
    "   (1 = least sensitive, 5 = most sensitive).\n",
    "\n",
    "</div>\n",
    "\n",
    "_Points:_ 7"
   ]
  },
  {
   "cell_type": "code",
   "execution_count": 38,
   "id": "51eb3e19",
   "metadata": {
    "pycharm": {
     "name": "#%%\n"
    },
    "tags": []
   },
   "outputs": [
    {
     "data": {
      "application/vnd.vegalite.v4+json": {
       "$schema": "https://vega.github.io/schema/vega-lite/v4.17.0.json",
       "config": {
        "view": {
         "continuousHeight": 300,
         "continuousWidth": 400
        }
       },
       "data": {
        "name": "data-983fd4a0b346be762802282aadc3c3e4"
       },
       "datasets": {
        "data-983fd4a0b346be762802282aadc3c3e4": [
         {
          "data_sensitivity": 4,
          "date": "2021-09-01T00:00:00",
          "index": 1,
          "method": "hacked",
          "organisation": "Syniverse",
          "records_lost": 500000000,
          "sector": "telecoms",
          "source_name": "Vice",
          "year": 2021
         },
         {
          "data_sensitivity": 2,
          "date": "2021-09-01T00:00:00",
          "index": 5,
          "method": "poor security",
          "organisation": "Thailand visitors",
          "records_lost": 100000000,
          "sector": "government",
          "source_name": "South China Morning Post",
          "year": 2021
         },
         {
          "data_sensitivity": 1,
          "date": "2021-07-01T00:00:00",
          "index": 10,
          "method": "hacked",
          "organisation": "Linkedin",
          "records_lost": 700000000,
          "sector": "web",
          "source_name": "9 to 5 mac",
          "year": 2021
         },
         {
          "data_sensitivity": 2,
          "date": "2021-02-01T00:00:00",
          "index": 21,
          "method": "hacked",
          "organisation": "Experian Brazil",
          "records_lost": 220000000,
          "sector": "finance",
          "source_name": "ZDNet",
          "year": 2021
         },
         {
          "data_sensitivity": 1,
          "date": "2021-03-01T00:00:00",
          "index": 24,
          "method": "hacked",
          "organisation": "Facebook",
          "records_lost": 533000000,
          "sector": "tech",
          "source_name": "Business Insider",
          "year": 2021
         },
         {
          "data_sensitivity": 3,
          "date": "2020-12-01T00:00:00",
          "index": 28,
          "method": "hacked",
          "organisation": "SolarWinds",
          "records_lost": 50000000,
          "sector": "app",
          "source_name": "New York Times",
          "year": 2020
         },
         {
          "data_sensitivity": 2,
          "date": "2020-04-01T00:00:00",
          "index": 37,
          "method": "hacked",
          "organisation": "Pakistani mobile operators",
          "records_lost": 115000000,
          "sector": "telecoms",
          "source_name": "ZDNet",
          "year": 2020
         },
         {
          "data_sensitivity": 1,
          "date": "2020-01-01T00:00:00",
          "index": 41,
          "method": "poor security",
          "organisation": "Microsoft",
          "records_lost": 250000000,
          "sector": "web",
          "source_name": "Forbes",
          "year": 2020
         },
         {
          "data_sensitivity": 2,
          "date": "2019-05-01T00:00:00",
          "index": 56,
          "method": "hacked",
          "organisation": "Canva",
          "records_lost": 139000000,
          "sector": "web",
          "source_name": "ZDNet",
          "year": 2019
         },
         {
          "data_sensitivity": 1,
          "date": "2019-05-01T00:00:00",
          "index": 57,
          "method": "poor security",
          "organisation": "Chtrbox",
          "records_lost": 49000000,
          "sector": "misc",
          "source_name": "Techcrunch",
          "year": 2019
         },
         {
          "data_sensitivity": 1,
          "date": "2019-02-01T00:00:00",
          "index": 62,
          "method": "hacked",
          "organisation": "Dubsmash",
          "records_lost": 162000000,
          "sector": "web",
          "source_name": "The Register",
          "year": 2019
         },
         {
          "data_sensitivity": 1,
          "date": "2019-02-01T00:00:00",
          "index": 63,
          "method": "hacked",
          "organisation": "ShareThis",
          "records_lost": 41000000,
          "sector": "web",
          "source_name": "The Register",
          "year": 2019
         },
         {
          "data_sensitivity": 2,
          "date": "2019-02-01T00:00:00",
          "index": 77,
          "method": "hacked",
          "organisation": "Houzz",
          "records_lost": 57000000,
          "sector": "retail",
          "source_name": "Techcrunch",
          "year": 2019
         },
         {
          "data_sensitivity": 2,
          "date": "2019-05-01T00:00:00",
          "index": 86,
          "method": "poor security",
          "organisation": "Indian citizens",
          "records_lost": 275265298,
          "sector": "web",
          "source_name": "Bleeping Computer",
          "year": 2019
         },
         {
          "data_sensitivity": 3,
          "date": "2019-07-01T00:00:00",
          "index": 88,
          "method": "hacked",
          "organisation": "Capital One",
          "records_lost": 100000000,
          "sector": "finance",
          "source_name": "Forbes",
          "year": 2019
         },
         {
          "data_sensitivity": 2,
          "date": "2019-09-01T00:00:00",
          "index": 90,
          "method": "poor security",
          "organisation": "Facebook",
          "records_lost": 419000000,
          "sector": "web",
          "source_name": "Fast Company",
          "year": 2019
         },
         {
          "data_sensitivity": 2,
          "date": "2019-11-01T00:00:00",
          "index": 93,
          "method": "poor security",
          "organisation": "OxyData",
          "records_lost": 380000000,
          "sector": "tech",
          "source_name": "Dataviper",
          "year": 2019
         },
         {
          "data_sensitivity": 3,
          "date": "2018-10-01T00:00:00",
          "index": 97,
          "method": "hacked",
          "organisation": "Cathay Pacific Airways",
          "records_lost": 94000000,
          "sector": "transport",
          "source_name": "ABC News",
          "year": 2018
         },
         {
          "data_sensitivity": 2,
          "date": "2018-12-01T00:00:00",
          "index": 98,
          "method": "poor security",
          "organisation": "Chinese resume leak",
          "records_lost": 202000000,
          "sector": "web",
          "source_name": "HackenProof",
          "year": 2018
         },
         {
          "data_sensitivity": 2,
          "date": "2018-12-01T00:00:00",
          "index": 99,
          "method": "poor security",
          "organisation": "Google+",
          "records_lost": 52500000,
          "sector": "web",
          "source_name": "The Verge",
          "year": 2018
         },
         {
          "data_sensitivity": 1,
          "date": "2018-12-01T00:00:00",
          "index": 100,
          "method": "hacked",
          "organisation": "Quora",
          "records_lost": 100000000,
          "sector": "web",
          "source_name": "NY Times",
          "year": 2018
         },
         {
          "data_sensitivity": 3,
          "date": "2018-11-01T00:00:00",
          "index": 101,
          "method": "hacked",
          "organisation": "Marriott International",
          "records_lost": 383000000,
          "sector": "retail",
          "source_name": "NY Times, CNET",
          "year": 2018
         },
         {
          "data_sensitivity": 1,
          "date": "2018-03-01T00:00:00",
          "index": 103,
          "method": "hacked",
          "organisation": "Facebook",
          "records_lost": 50000000,
          "sector": "web",
          "source_name": "Guardian",
          "year": 2018
         },
         {
          "data_sensitivity": 1,
          "date": "2018-06-01T00:00:00",
          "index": 106,
          "method": "hacked",
          "organisation": "MyHeritage",
          "records_lost": 92283889,
          "sector": "web",
          "source_name": "Bloomberg",
          "year": 2018
         },
         {
          "data_sensitivity": 1,
          "date": "2018-03-01T00:00:00",
          "index": 112,
          "method": "hacked",
          "organisation": "MyFitnessPal",
          "records_lost": 150000000,
          "sector": "app",
          "source_name": "Guardian",
          "year": 2018
         },
         {
          "data_sensitivity": 1,
          "date": "2018-06-01T00:00:00",
          "index": 114,
          "method": "poor security",
          "organisation": "Nametests",
          "records_lost": 120000000,
          "sector": "app",
          "source_name": "Medium",
          "year": 2018
         },
         {
          "data_sensitivity": 5,
          "date": "2018-06-01T00:00:00",
          "index": 116,
          "method": "poor security",
          "organisation": "Firebase",
          "records_lost": 100000000,
          "sector": "app",
          "source_name": "Bleeping Computer",
          "year": 2018
         },
         {
          "data_sensitivity": 4,
          "date": "2018-03-01T00:00:00",
          "index": 117,
          "method": "poor security",
          "organisation": "Aadhaar",
          "records_lost": 550000000,
          "sector": "government",
          "source_name": "ZDNet",
          "year": 2018
         },
         {
          "data_sensitivity": 2,
          "date": "2018-05-01T00:00:00",
          "index": 121,
          "method": "poor security",
          "organisation": "LocalBlox",
          "records_lost": 48000000,
          "sector": "web",
          "source_name": "UpGuard",
          "year": 2018
         },
         {
          "data_sensitivity": 1,
          "date": "2018-05-01T00:00:00",
          "index": 122,
          "method": "poor security",
          "organisation": "Twitter",
          "records_lost": 330000000,
          "sector": "tech",
          "source_name": "Reuters",
          "year": 2018
         },
         {
          "data_sensitivity": 3,
          "date": "2018-09-01T00:00:00",
          "index": 133,
          "method": "hacked",
          "organisation": "Newegg",
          "records_lost": 45000000,
          "sector": "retail",
          "source_name": "TechCrunch",
          "year": 2018
         },
         {
          "data_sensitivity": 1,
          "date": "2018-05-01T00:00:00",
          "index": 135,
          "method": "poor security",
          "organisation": "Apollo",
          "records_lost": 200000000,
          "sector": "tech",
          "source_name": "Wired",
          "year": 2018
         },
         {
          "data_sensitivity": 1,
          "date": "2017-11-01T00:00:00",
          "index": 139,
          "method": "hacked",
          "organisation": "Uber",
          "records_lost": 57000000,
          "sector": "app",
          "source_name": "Bloomberg",
          "year": 2017
         },
         {
          "data_sensitivity": 4,
          "date": "2017-08-01T00:00:00",
          "index": 142,
          "method": "poor security",
          "organisation": "Spambot",
          "records_lost": 520000000,
          "sector": "web",
          "source_name": "The Guardian",
          "year": 2017
         },
         {
          "data_sensitivity": 2,
          "date": "2017-03-01T00:00:00",
          "index": 149,
          "method": "oops!",
          "organisation": "River City Media",
          "records_lost": 340000000,
          "sector": "web",
          "source_name": "Guardian",
          "year": 2017
         },
         {
          "data_sensitivity": 4,
          "date": "2017-10-01T00:00:00",
          "index": 155,
          "method": "hacked",
          "organisation": "Malaysian telcos & MVNOs",
          "records_lost": 46200000,
          "sector": "telecoms",
          "source_name": "LowYat",
          "year": 2017
         },
         {
          "data_sensitivity": 4,
          "date": "2017-09-01T00:00:00",
          "index": 159,
          "method": "hacked",
          "organisation": "Equifax",
          "records_lost": 143000000,
          "sector": "finance",
          "source_name": "UK Gov",
          "year": 2017
         },
         {
          "data_sensitivity": 1,
          "date": "2016-05-01T00:00:00",
          "index": 161,
          "method": "hacked",
          "organisation": "LinkedIn",
          "records_lost": 117000000,
          "sector": "web",
          "source_name": "CNN",
          "year": 2016
         },
         {
          "data_sensitivity": 1,
          "date": "2016-05-01T00:00:00",
          "index": 162,
          "method": "hacked",
          "organisation": "Tumblr",
          "records_lost": 65000000,
          "sector": "web",
          "source_name": "Vice",
          "year": 2016
         },
         {
          "data_sensitivity": 2,
          "date": "2016-09-01T00:00:00",
          "index": 163,
          "method": "hacked",
          "organisation": "Yahoo",
          "records_lost": 500000000,
          "sector": "web",
          "source_name": "CNBC",
          "year": 2016
         },
         {
          "data_sensitivity": 5,
          "date": "2016-04-01T00:00:00",
          "index": 165,
          "method": "hacked",
          "organisation": "Philippines’ Commission on Elections",
          "records_lost": 55000000,
          "sector": "government",
          "source_name": "Trend Micro",
          "year": 2016
         },
         {
          "data_sensitivity": 2,
          "date": "2016-04-01T00:00:00",
          "index": 168,
          "method": "hacked",
          "organisation": "Turkish citizenship database",
          "records_lost": 49611709,
          "sector": "government",
          "source_name": "Business Insider",
          "year": 2016
         },
         {
          "data_sensitivity": 4,
          "date": "2016-06-01T00:00:00",
          "index": 179,
          "method": "hacked",
          "organisation": "VK",
          "records_lost": 171000000,
          "sector": "web",
          "source_name": "Motherboard",
          "year": 2016
         },
         {
          "data_sensitivity": 1,
          "date": "2016-05-01T00:00:00",
          "index": 182,
          "method": "hacked",
          "organisation": "MySpace",
          "records_lost": 164000000,
          "sector": "web",
          "source_name": "Vice",
          "year": 2016
         },
         {
          "data_sensitivity": 1,
          "date": "2016-12-01T00:00:00",
          "index": 186,
          "method": "hacked",
          "organisation": "Dailymotion",
          "records_lost": 85200000,
          "sector": "web",
          "source_name": "ZDNet",
          "year": 2016
         },
         {
          "data_sensitivity": 4,
          "date": "2016-10-01T00:00:00",
          "index": 187,
          "method": "hacked",
          "organisation": "Weebly",
          "records_lost": 43000000,
          "sector": "web",
          "source_name": "Tech Crunch",
          "year": 2016
         },
         {
          "data_sensitivity": 1,
          "date": "2016-11-01T00:00:00",
          "index": 190,
          "method": "hacked",
          "organisation": "Friend Finder Network",
          "records_lost": 412000000,
          "sector": "web",
          "source_name": "ZDNet",
          "year": 2016
         },
         {
          "data_sensitivity": 2,
          "date": "2015-12-01T00:00:00",
          "index": 197,
          "method": "poor security",
          "organisation": "Deep Root Analytics",
          "records_lost": 198000000,
          "sector": "web",
          "source_name": "Reuters, UpGuard",
          "year": 2015
         },
         {
          "data_sensitivity": 5,
          "date": "2015-11-01T00:00:00",
          "index": 210,
          "method": "hacked",
          "organisation": "Securus Technologies",
          "records_lost": 70000000,
          "sector": "web",
          "source_name": "The Intercept",
          "year": 2015
         },
         {
          "data_sensitivity": 2,
          "date": "2015-02-01T00:00:00",
          "index": 216,
          "method": "hacked",
          "organisation": "Anthem ",
          "records_lost": 80000000,
          "sector": "health",
          "source_name": "NYTimes",
          "year": 2015
         },
         {
          "data_sensitivity": 1,
          "date": "2014-05-01T00:00:00",
          "index": 224,
          "method": "hacked",
          "organisation": "Ebay",
          "records_lost": 145000000,
          "sector": "web",
          "source_name": "Business Insider",
          "year": 2014
         },
         {
          "data_sensitivity": 3,
          "date": "2014-10-01T00:00:00",
          "index": 227,
          "method": "hacked",
          "organisation": "JP Morgan Chase",
          "records_lost": 76000000,
          "sector": "finance",
          "source_name": "Deal Book",
          "year": 2014
         },
         {
          "data_sensitivity": 3,
          "date": "2014-09-01T00:00:00",
          "index": 233,
          "method": "hacked",
          "organisation": "Home Depot",
          "records_lost": 56000000,
          "sector": "retail",
          "source_name": "Krebs on Security",
          "year": 2014
         },
         {
          "data_sensitivity": 5,
          "date": "2013-07-01T00:00:00",
          "index": 237,
          "method": "hacked",
          "organisation": "Massive American business hack",
          "records_lost": 160000000,
          "sector": "finance",
          "source_name": "Technology Review",
          "year": 2013
         },
         {
          "data_sensitivity": 1,
          "date": "2013-04-01T00:00:00",
          "index": 242,
          "method": "hacked",
          "organisation": "Living Social",
          "records_lost": 50000000,
          "sector": "web",
          "source_name": "Naked Security, New York Times",
          "year": 2013
         },
         {
          "data_sensitivity": 2,
          "date": "2016-12-01T00:00:00",
          "index": 243,
          "method": "hacked",
          "organisation": "Yahoo",
          "records_lost": 550000000,
          "sector": "web",
          "source_name": "NY Times, BBC",
          "year": 2013
         },
         {
          "data_sensitivity": 2,
          "date": "2013-07-01T00:00:00",
          "index": 254,
          "method": "hacked",
          "organisation": "UbiSoft",
          "records_lost": 58000000,
          "sector": "gaming",
          "source_name": "BBC News",
          "year": 2013
         },
         {
          "data_sensitivity": 1,
          "date": "2013-03-01T00:00:00",
          "index": 259,
          "method": "hacked",
          "organisation": "Evernote",
          "records_lost": 50000000,
          "sector": "web",
          "source_name": "Wired, Digital Trends",
          "year": 2013
         },
         {
          "data_sensitivity": 2,
          "date": "2013-10-01T00:00:00",
          "index": 266,
          "method": "inside job",
          "organisation": "Court Ventures",
          "records_lost": 200000000,
          "sector": "finance",
          "source_name": "NY Times, Gov Tech",
          "year": 2013
         },
         {
          "data_sensitivity": 3,
          "date": "2013-12-01T00:00:00",
          "index": 271,
          "method": "hacked",
          "organisation": "Target",
          "records_lost": 70000000,
          "sector": "retail",
          "source_name": "Huffington Post",
          "year": 2013
         },
         {
          "data_sensitivity": 1,
          "date": "2016-09-01T00:00:00",
          "index": 287,
          "method": "hacked",
          "organisation": "Last.fm",
          "records_lost": 43500000,
          "sector": "web",
          "source_name": "ZD Net",
          "year": 2012
         },
         {
          "data_sensitivity": 1,
          "date": "2016-08-01T00:00:00",
          "index": 294,
          "method": "hacked",
          "organisation": "Dropbox",
          "records_lost": 68700000,
          "sector": "web",
          "source_name": "The Telegraph",
          "year": 2012
         },
         {
          "data_sensitivity": 1,
          "date": "2011-04-01T00:00:00",
          "index": 304,
          "method": "hacked",
          "organisation": "Sony PSN",
          "records_lost": 77000000,
          "sector": "gaming",
          "source_name": "Mashable",
          "year": 2011
         },
         {
          "data_sensitivity": 3,
          "date": "2009-01-01T00:00:00",
          "index": 345,
          "method": "hacked",
          "organisation": "Heartland",
          "records_lost": 130000000,
          "sector": "finance",
          "source_name": "Dark Reading",
          "year": 2009
         },
         {
          "data_sensitivity": 2,
          "date": "2009-10-01T00:00:00",
          "index": 353,
          "method": "lost device ",
          "organisation": "US Military",
          "records_lost": 76000000,
          "sector": "military",
          "source_name": "Wired",
          "year": 2009
         },
         {
          "data_sensitivity": 3,
          "date": "2007-03-01T00:00:00",
          "index": 379,
          "method": "hacked",
          "organisation": "TK / TJ Maxx",
          "records_lost": 94000000,
          "sector": "retail",
          "source_name": "ZD Net",
          "year": 2007
         },
         {
          "data_sensitivity": 1,
          "date": "2004-06-01T00:00:00",
          "index": 391,
          "method": "inside job",
          "organisation": "AOL",
          "records_lost": 92000000,
          "sector": "web",
          "source_name": "CNN",
          "year": 2004
         }
        ]
       },
       "encoding": {
        "color": {
         "field": "data_sensitivity",
         "type": "ordinal"
        },
        "x": {
         "aggregate": "count",
         "field": "records_lost",
         "type": "quantitative"
        },
        "y": {
         "field": "sector",
         "sort": "x",
         "type": "nominal"
        }
       },
       "mark": "bar"
      },
      "image/png": "[encoded data removed]",
      "text/plain": [
       "<VegaLite 4 object>\n",
       "\n",
       "If you see this message, it means the renderer has not been properly enabled\n",
       "for the frontend that you are using. For more information, see\n",
       "https://altair-viz.github.io/user_guide/troubleshooting.html\n"
      ]
     },
     "execution_count": 38,
     "metadata": {},
     "output_type": "execute_result"
    }
   ],
   "source": [
    "bar_sector_sensitivity_count = src.mark_bar().encode(\n",
    "    x = alt.X(\"count(records_lost):Q\"),\n",
    "    y = alt.Y(\"sector:N\", sort = \"x\"),\n",
    "    color = \"data_sensitivity:O\"\n",
    ")\n",
    "\n",
    "# Show the plot\n",
    "bar_sector_sensitivity_count"
   ]
  },
  {
   "cell_type": "code",
   "execution_count": 39,
   "id": "0fc79ab6",
   "metadata": {
    "deletable": false,
    "editable": false
   },
   "outputs": [
    {
     "data": {
      "text/html": [
       "<p><strong><pre style='display: inline;'>q2</pre></strong> passed! 🚀</p><p><strong><pre style='display: inline;'>q2 - 1</pre> message:</strong> This test only checks that your variables have the correct name and type</p>"
      ],
      "text/plain": [
       "q2 results: All test cases passed!\n",
       "q2 - 1 message: This test only checks that your variables have the correct name and type"
      ]
     },
     "execution_count": 39,
     "metadata": {},
     "output_type": "execute_result"
    }
   ],
   "source": [
    "grader.check(\"q2\")"
   ]
  },
  {
   "cell_type": "markdown",
   "id": "af7bed12",
   "metadata": {
    "pycharm": {
     "name": "#%% md\n"
    },
    "tags": []
   },
   "source": [
    "### Question 3\n",
    "\n",
    "<div class=\"alert alert-info\" style=\"color:black\">\n",
    "\n",
    "It can often be difficult to compare the length of segments in a stacked bar chart,\n",
    "since they do not start at the same baseline.\n",
    "Another way of visualizing the information in the previous plot,\n",
    "is to create a scatterplot with counts of the combinations of each sector and data sensitivity category:\n",
    "\n",
    "1. Create a scatterplot\n",
    "   with the sectors on the y-axis\n",
    "   and the data sensitivity level on the x-axis\n",
    "   (encoded as an ordinal variable).\n",
    "2. Encode the counts of each combination as the size of the points.\n",
    "3. Sort the y-axis based on the counts (the size encoding).\n",
    "4. Add a tooltip with the exact count of each categorical combination.\n",
    "\n",
    "</div>\n",
    "\n",
    "_Points:_ 8"
   ]
  },
  {
   "cell_type": "code",
   "execution_count": 40,
   "id": "6cf009d8-a91b-4441-82fe-086e3fedfe69",
   "metadata": {},
   "outputs": [
    {
     "data": {
      "text/html": [
       "<div>\n",
       "<style scoped>\n",
       "    .dataframe tbody tr th:only-of-type {\n",
       "        vertical-align: middle;\n",
       "    }\n",
       "\n",
       "    .dataframe tbody tr th {\n",
       "        vertical-align: top;\n",
       "    }\n",
       "\n",
       "    .dataframe thead th {\n",
       "        text-align: right;\n",
       "    }\n",
       "</style>\n",
       "<table border=\"1\" class=\"dataframe\">\n",
       "  <thead>\n",
       "    <tr style=\"text-align: right;\">\n",
       "      <th></th>\n",
       "      <th>index</th>\n",
       "      <th>organisation</th>\n",
       "      <th>records_lost</th>\n",
       "      <th>year</th>\n",
       "      <th>date</th>\n",
       "      <th>sector</th>\n",
       "      <th>method</th>\n",
       "      <th>data_sensitivity</th>\n",
       "      <th>source_name</th>\n",
       "    </tr>\n",
       "  </thead>\n",
       "  <tbody>\n",
       "    <tr>\n",
       "      <th>0</th>\n",
       "      <td>1</td>\n",
       "      <td>Syniverse</td>\n",
       "      <td>500000000</td>\n",
       "      <td>2021</td>\n",
       "      <td>2021-09-01</td>\n",
       "      <td>telecoms</td>\n",
       "      <td>hacked</td>\n",
       "      <td>4</td>\n",
       "      <td>Vice</td>\n",
       "    </tr>\n",
       "  </tbody>\n",
       "</table>\n",
       "</div>"
      ],
      "text/plain": [
       "   index organisation  records_lost  year       date    sector  method  \\\n",
       "0      1    Syniverse     500000000  2021 2021-09-01  telecoms  hacked   \n",
       "\n",
       "   data_sensitivity source_name  \n",
       "0                 4        Vice  "
      ]
     },
     "execution_count": 40,
     "metadata": {},
     "output_type": "execute_result"
    }
   ],
   "source": [
    "a = breaches.head(1)\n",
    "a"
   ]
  },
  {
   "cell_type": "code",
   "execution_count": 65,
   "id": "b3f02816",
   "metadata": {
    "pycharm": {
     "name": "#%%\n"
    },
    "tags": []
   },
   "outputs": [
    {
     "data": {
      "application/vnd.vegalite.v4+json": {
       "$schema": "https://vega.github.io/schema/vega-lite/v4.17.0.json",
       "config": {
        "view": {
         "continuousHeight": 300,
         "continuousWidth": 400
        }
       },
       "data": {
        "name": "data-983fd4a0b346be762802282aadc3c3e4"
       },
       "datasets": {
        "data-983fd4a0b346be762802282aadc3c3e4": [
         {
          "data_sensitivity": 4,
          "date": "2021-09-01T00:00:00",
          "index": 1,
          "method": "hacked",
          "organisation": "Syniverse",
          "records_lost": 500000000,
          "sector": "telecoms",
          "source_name": "Vice",
          "year": 2021
         },
         {
          "data_sensitivity": 2,
          "date": "2021-09-01T00:00:00",
          "index": 5,
          "method": "poor security",
          "organisation": "Thailand visitors",
          "records_lost": 100000000,
          "sector": "government",
          "source_name": "South China Morning Post",
          "year": 2021
         },
         {
          "data_sensitivity": 1,
          "date": "2021-07-01T00:00:00",
          "index": 10,
          "method": "hacked",
          "organisation": "Linkedin",
          "records_lost": 700000000,
          "sector": "web",
          "source_name": "9 to 5 mac",
          "year": 2021
         },
         {
          "data_sensitivity": 2,
          "date": "2021-02-01T00:00:00",
          "index": 21,
          "method": "hacked",
          "organisation": "Experian Brazil",
          "records_lost": 220000000,
          "sector": "finance",
          "source_name": "ZDNet",
          "year": 2021
         },
         {
          "data_sensitivity": 1,
          "date": "2021-03-01T00:00:00",
          "index": 24,
          "method": "hacked",
          "organisation": "Facebook",
          "records_lost": 533000000,
          "sector": "tech",
          "source_name": "Business Insider",
          "year": 2021
         },
         {
          "data_sensitivity": 3,
          "date": "2020-12-01T00:00:00",
          "index": 28,
          "method": "hacked",
          "organisation": "SolarWinds",
          "records_lost": 50000000,
          "sector": "app",
          "source_name": "New York Times",
          "year": 2020
         },
         {
          "data_sensitivity": 2,
          "date": "2020-04-01T00:00:00",
          "index": 37,
          "method": "hacked",
          "organisation": "Pakistani mobile operators",
          "records_lost": 115000000,
          "sector": "telecoms",
          "source_name": "ZDNet",
          "year": 2020
         },
         {
          "data_sensitivity": 1,
          "date": "2020-01-01T00:00:00",
          "index": 41,
          "method": "poor security",
          "organisation": "Microsoft",
          "records_lost": 250000000,
          "sector": "web",
          "source_name": "Forbes",
          "year": 2020
         },
         {
          "data_sensitivity": 2,
          "date": "2019-05-01T00:00:00",
          "index": 56,
          "method": "hacked",
          "organisation": "Canva",
          "records_lost": 139000000,
          "sector": "web",
          "source_name": "ZDNet",
          "year": 2019
         },
         {
          "data_sensitivity": 1,
          "date": "2019-05-01T00:00:00",
          "index": 57,
          "method": "poor security",
          "organisation": "Chtrbox",
          "records_lost": 49000000,
          "sector": "misc",
          "source_name": "Techcrunch",
          "year": 2019
         },
         {
          "data_sensitivity": 1,
          "date": "2019-02-01T00:00:00",
          "index": 62,
          "method": "hacked",
          "organisation": "Dubsmash",
          "records_lost": 162000000,
          "sector": "web",
          "source_name": "The Register",
          "year": 2019
         },
         {
          "data_sensitivity": 1,
          "date": "2019-02-01T00:00:00",
          "index": 63,
          "method": "hacked",
          "organisation": "ShareThis",
          "records_lost": 41000000,
          "sector": "web",
          "source_name": "The Register",
          "year": 2019
         },
         {
          "data_sensitivity": 2,
          "date": "2019-02-01T00:00:00",
          "index": 77,
          "method": "hacked",
          "organisation": "Houzz",
          "records_lost": 57000000,
          "sector": "retail",
          "source_name": "Techcrunch",
          "year": 2019
         },
         {
          "data_sensitivity": 2,
          "date": "2019-05-01T00:00:00",
          "index": 86,
          "method": "poor security",
          "organisation": "Indian citizens",
          "records_lost": 275265298,
          "sector": "web",
          "source_name": "Bleeping Computer",
          "year": 2019
         },
         {
          "data_sensitivity": 3,
          "date": "2019-07-01T00:00:00",
          "index": 88,
          "method": "hacked",
          "organisation": "Capital One",
          "records_lost": 100000000,
          "sector": "finance",
          "source_name": "Forbes",
          "year": 2019
         },
         {
          "data_sensitivity": 2,
          "date": "2019-09-01T00:00:00",
          "index": 90,
          "method": "poor security",
          "organisation": "Facebook",
          "records_lost": 419000000,
          "sector": "web",
          "source_name": "Fast Company",
          "year": 2019
         },
         {
          "data_sensitivity": 2,
          "date": "2019-11-01T00:00:00",
          "index": 93,
          "method": "poor security",
          "organisation": "OxyData",
          "records_lost": 380000000,
          "sector": "tech",
          "source_name": "Dataviper",
          "year": 2019
         },
         {
          "data_sensitivity": 3,
          "date": "2018-10-01T00:00:00",
          "index": 97,
          "method": "hacked",
          "organisation": "Cathay Pacific Airways",
          "records_lost": 94000000,
          "sector": "transport",
          "source_name": "ABC News",
          "year": 2018
         },
         {
          "data_sensitivity": 2,
          "date": "2018-12-01T00:00:00",
          "index": 98,
          "method": "poor security",
          "organisation": "Chinese resume leak",
          "records_lost": 202000000,
          "sector": "web",
          "source_name": "HackenProof",
          "year": 2018
         },
         {
          "data_sensitivity": 2,
          "date": "2018-12-01T00:00:00",
          "index": 99,
          "method": "poor security",
          "organisation": "Google+",
          "records_lost": 52500000,
          "sector": "web",
          "source_name": "The Verge",
          "year": 2018
         },
         {
          "data_sensitivity": 1,
          "date": "2018-12-01T00:00:00",
          "index": 100,
          "method": "hacked",
          "organisation": "Quora",
          "records_lost": 100000000,
          "sector": "web",
          "source_name": "NY Times",
          "year": 2018
         },
         {
          "data_sensitivity": 3,
          "date": "2018-11-01T00:00:00",
          "index": 101,
          "method": "hacked",
          "organisation": "Marriott International",
          "records_lost": 383000000,
          "sector": "retail",
          "source_name": "NY Times, CNET",
          "year": 2018
         },
         {
          "data_sensitivity": 1,
          "date": "2018-03-01T00:00:00",
          "index": 103,
          "method": "hacked",
          "organisation": "Facebook",
          "records_lost": 50000000,
          "sector": "web",
          "source_name": "Guardian",
          "year": 2018
         },
         {
          "data_sensitivity": 1,
          "date": "2018-06-01T00:00:00",
          "index": 106,
          "method": "hacked",
          "organisation": "MyHeritage",
          "records_lost": 92283889,
          "sector": "web",
          "source_name": "Bloomberg",
          "year": 2018
         },
         {
          "data_sensitivity": 1,
          "date": "2018-03-01T00:00:00",
          "index": 112,
          "method": "hacked",
          "organisation": "MyFitnessPal",
          "records_lost": 150000000,
          "sector": "app",
          "source_name": "Guardian",
          "year": 2018
         },
         {
          "data_sensitivity": 1,
          "date": "2018-06-01T00:00:00",
          "index": 114,
          "method": "poor security",
          "organisation": "Nametests",
          "records_lost": 120000000,
          "sector": "app",
          "source_name": "Medium",
          "year": 2018
         },
         {
          "data_sensitivity": 5,
          "date": "2018-06-01T00:00:00",
          "index": 116,
          "method": "poor security",
          "organisation": "Firebase",
          "records_lost": 100000000,
          "sector": "app",
          "source_name": "Bleeping Computer",
          "year": 2018
         },
         {
          "data_sensitivity": 4,
          "date": "2018-03-01T00:00:00",
          "index": 117,
          "method": "poor security",
          "organisation": "Aadhaar",
          "records_lost": 550000000,
          "sector": "government",
          "source_name": "ZDNet",
          "year": 2018
         },
         {
          "data_sensitivity": 2,
          "date": "2018-05-01T00:00:00",
          "index": 121,
          "method": "poor security",
          "organisation": "LocalBlox",
          "records_lost": 48000000,
          "sector": "web",
          "source_name": "UpGuard",
          "year": 2018
         },
         {
          "data_sensitivity": 1,
          "date": "2018-05-01T00:00:00",
          "index": 122,
          "method": "poor security",
          "organisation": "Twitter",
          "records_lost": 330000000,
          "sector": "tech",
          "source_name": "Reuters",
          "year": 2018
         },
         {
          "data_sensitivity": 3,
          "date": "2018-09-01T00:00:00",
          "index": 133,
          "method": "hacked",
          "organisation": "Newegg",
          "records_lost": 45000000,
          "sector": "retail",
          "source_name": "TechCrunch",
          "year": 2018
         },
         {
          "data_sensitivity": 1,
          "date": "2018-05-01T00:00:00",
          "index": 135,
          "method": "poor security",
          "organisation": "Apollo",
          "records_lost": 200000000,
          "sector": "tech",
          "source_name": "Wired",
          "year": 2018
         },
         {
          "data_sensitivity": 1,
          "date": "2017-11-01T00:00:00",
          "index": 139,
          "method": "hacked",
          "organisation": "Uber",
          "records_lost": 57000000,
          "sector": "app",
          "source_name": "Bloomberg",
          "year": 2017
         },
         {
          "data_sensitivity": 4,
          "date": "2017-08-01T00:00:00",
          "index": 142,
          "method": "poor security",
          "organisation": "Spambot",
          "records_lost": 520000000,
          "sector": "web",
          "source_name": "The Guardian",
          "year": 2017
         },
         {
          "data_sensitivity": 2,
          "date": "2017-03-01T00:00:00",
          "index": 149,
          "method": "oops!",
          "organisation": "River City Media",
          "records_lost": 340000000,
          "sector": "web",
          "source_name": "Guardian",
          "year": 2017
         },
         {
          "data_sensitivity": 4,
          "date": "2017-10-01T00:00:00",
          "index": 155,
          "method": "hacked",
          "organisation": "Malaysian telcos & MVNOs",
          "records_lost": 46200000,
          "sector": "telecoms",
          "source_name": "LowYat",
          "year": 2017
         },
         {
          "data_sensitivity": 4,
          "date": "2017-09-01T00:00:00",
          "index": 159,
          "method": "hacked",
          "organisation": "Equifax",
          "records_lost": 143000000,
          "sector": "finance",
          "source_name": "UK Gov",
          "year": 2017
         },
         {
          "data_sensitivity": 1,
          "date": "2016-05-01T00:00:00",
          "index": 161,
          "method": "hacked",
          "organisation": "LinkedIn",
          "records_lost": 117000000,
          "sector": "web",
          "source_name": "CNN",
          "year": 2016
         },
         {
          "data_sensitivity": 1,
          "date": "2016-05-01T00:00:00",
          "index": 162,
          "method": "hacked",
          "organisation": "Tumblr",
          "records_lost": 65000000,
          "sector": "web",
          "source_name": "Vice",
          "year": 2016
         },
         {
          "data_sensitivity": 2,
          "date": "2016-09-01T00:00:00",
          "index": 163,
          "method": "hacked",
          "organisation": "Yahoo",
          "records_lost": 500000000,
          "sector": "web",
          "source_name": "CNBC",
          "year": 2016
         },
         {
          "data_sensitivity": 5,
          "date": "2016-04-01T00:00:00",
          "index": 165,
          "method": "hacked",
          "organisation": "Philippines’ Commission on Elections",
          "records_lost": 55000000,
          "sector": "government",
          "source_name": "Trend Micro",
          "year": 2016
         },
         {
          "data_sensitivity": 2,
          "date": "2016-04-01T00:00:00",
          "index": 168,
          "method": "hacked",
          "organisation": "Turkish citizenship database",
          "records_lost": 49611709,
          "sector": "government",
          "source_name": "Business Insider",
          "year": 2016
         },
         {
          "data_sensitivity": 4,
          "date": "2016-06-01T00:00:00",
          "index": 179,
          "method": "hacked",
          "organisation": "VK",
          "records_lost": 171000000,
          "sector": "web",
          "source_name": "Motherboard",
          "year": 2016
         },
         {
          "data_sensitivity": 1,
          "date": "2016-05-01T00:00:00",
          "index": 182,
          "method": "hacked",
          "organisation": "MySpace",
          "records_lost": 164000000,
          "sector": "web",
          "source_name": "Vice",
          "year": 2016
         },
         {
          "data_sensitivity": 1,
          "date": "2016-12-01T00:00:00",
          "index": 186,
          "method": "hacked",
          "organisation": "Dailymotion",
          "records_lost": 85200000,
          "sector": "web",
          "source_name": "ZDNet",
          "year": 2016
         },
         {
          "data_sensitivity": 4,
          "date": "2016-10-01T00:00:00",
          "index": 187,
          "method": "hacked",
          "organisation": "Weebly",
          "records_lost": 43000000,
          "sector": "web",
          "source_name": "Tech Crunch",
          "year": 2016
         },
         {
          "data_sensitivity": 1,
          "date": "2016-11-01T00:00:00",
          "index": 190,
          "method": "hacked",
          "organisation": "Friend Finder Network",
          "records_lost": 412000000,
          "sector": "web",
          "source_name": "ZDNet",
          "year": 2016
         },
         {
          "data_sensitivity": 2,
          "date": "2015-12-01T00:00:00",
          "index": 197,
          "method": "poor security",
          "organisation": "Deep Root Analytics",
          "records_lost": 198000000,
          "sector": "web",
          "source_name": "Reuters, UpGuard",
          "year": 2015
         },
         {
          "data_sensitivity": 5,
          "date": "2015-11-01T00:00:00",
          "index": 210,
          "method": "hacked",
          "organisation": "Securus Technologies",
          "records_lost": 70000000,
          "sector": "web",
          "source_name": "The Intercept",
          "year": 2015
         },
         {
          "data_sensitivity": 2,
          "date": "2015-02-01T00:00:00",
          "index": 216,
          "method": "hacked",
          "organisation": "Anthem ",
          "records_lost": 80000000,
          "sector": "health",
          "source_name": "NYTimes",
          "year": 2015
         },
         {
          "data_sensitivity": 1,
          "date": "2014-05-01T00:00:00",
          "index": 224,
          "method": "hacked",
          "organisation": "Ebay",
          "records_lost": 145000000,
          "sector": "web",
          "source_name": "Business Insider",
          "year": 2014
         },
         {
          "data_sensitivity": 3,
          "date": "2014-10-01T00:00:00",
          "index": 227,
          "method": "hacked",
          "organisation": "JP Morgan Chase",
          "records_lost": 76000000,
          "sector": "finance",
          "source_name": "Deal Book",
          "year": 2014
         },
         {
          "data_sensitivity": 3,
          "date": "2014-09-01T00:00:00",
          "index": 233,
          "method": "hacked",
          "organisation": "Home Depot",
          "records_lost": 56000000,
          "sector": "retail",
          "source_name": "Krebs on Security",
          "year": 2014
         },
         {
          "data_sensitivity": 5,
          "date": "2013-07-01T00:00:00",
          "index": 237,
          "method": "hacked",
          "organisation": "Massive American business hack",
          "records_lost": 160000000,
          "sector": "finance",
          "source_name": "Technology Review",
          "year": 2013
         },
         {
          "data_sensitivity": 1,
          "date": "2013-04-01T00:00:00",
          "index": 242,
          "method": "hacked",
          "organisation": "Living Social",
          "records_lost": 50000000,
          "sector": "web",
          "source_name": "Naked Security, New York Times",
          "year": 2013
         },
         {
          "data_sensitivity": 2,
          "date": "2016-12-01T00:00:00",
          "index": 243,
          "method": "hacked",
          "organisation": "Yahoo",
          "records_lost": 550000000,
          "sector": "web",
          "source_name": "NY Times, BBC",
          "year": 2013
         },
         {
          "data_sensitivity": 2,
          "date": "2013-07-01T00:00:00",
          "index": 254,
          "method": "hacked",
          "organisation": "UbiSoft",
          "records_lost": 58000000,
          "sector": "gaming",
          "source_name": "BBC News",
          "year": 2013
         },
         {
          "data_sensitivity": 1,
          "date": "2013-03-01T00:00:00",
          "index": 259,
          "method": "hacked",
          "organisation": "Evernote",
          "records_lost": 50000000,
          "sector": "web",
          "source_name": "Wired, Digital Trends",
          "year": 2013
         },
         {
          "data_sensitivity": 2,
          "date": "2013-10-01T00:00:00",
          "index": 266,
          "method": "inside job",
          "organisation": "Court Ventures",
          "records_lost": 200000000,
          "sector": "finance",
          "source_name": "NY Times, Gov Tech",
          "year": 2013
         },
         {
          "data_sensitivity": 3,
          "date": "2013-12-01T00:00:00",
          "index": 271,
          "method": "hacked",
          "organisation": "Target",
          "records_lost": 70000000,
          "sector": "retail",
          "source_name": "Huffington Post",
          "year": 2013
         },
         {
          "data_sensitivity": 1,
          "date": "2016-09-01T00:00:00",
          "index": 287,
          "method": "hacked",
          "organisation": "Last.fm",
          "records_lost": 43500000,
          "sector": "web",
          "source_name": "ZD Net",
          "year": 2012
         },
         {
          "data_sensitivity": 1,
          "date": "2016-08-01T00:00:00",
          "index": 294,
          "method": "hacked",
          "organisation": "Dropbox",
          "records_lost": 68700000,
          "sector": "web",
          "source_name": "The Telegraph",
          "year": 2012
         },
         {
          "data_sensitivity": 1,
          "date": "2011-04-01T00:00:00",
          "index": 304,
          "method": "hacked",
          "organisation": "Sony PSN",
          "records_lost": 77000000,
          "sector": "gaming",
          "source_name": "Mashable",
          "year": 2011
         },
         {
          "data_sensitivity": 3,
          "date": "2009-01-01T00:00:00",
          "index": 345,
          "method": "hacked",
          "organisation": "Heartland",
          "records_lost": 130000000,
          "sector": "finance",
          "source_name": "Dark Reading",
          "year": 2009
         },
         {
          "data_sensitivity": 2,
          "date": "2009-10-01T00:00:00",
          "index": 353,
          "method": "lost device ",
          "organisation": "US Military",
          "records_lost": 76000000,
          "sector": "military",
          "source_name": "Wired",
          "year": 2009
         },
         {
          "data_sensitivity": 3,
          "date": "2007-03-01T00:00:00",
          "index": 379,
          "method": "hacked",
          "organisation": "TK / TJ Maxx",
          "records_lost": 94000000,
          "sector": "retail",
          "source_name": "ZD Net",
          "year": 2007
         },
         {
          "data_sensitivity": 1,
          "date": "2004-06-01T00:00:00",
          "index": 391,
          "method": "inside job",
          "organisation": "AOL",
          "records_lost": 92000000,
          "sector": "web",
          "source_name": "CNN",
          "year": 2004
         }
        ]
       },
       "encoding": {
        "size": {
         "aggregate": "count",
         "type": "quantitative"
        },
        "tooltip": [
         {
          "aggregate": "count",
          "type": "quantitative"
         }
        ],
        "x": {
         "field": "data_sensitivity",
         "type": "ordinal"
        },
        "y": {
         "field": "sector",
         "sort": "size",
         "type": "nominal"
        }
       },
       "mark": "point",
       "selection": {
        "selector015": {
         "bind": "scales",
         "encodings": [
          "x",
          "y"
         ],
         "type": "interval"
        }
       }
      },
      "image/png": "[encoded data removed]",
      "text/plain": [
       "<VegaLite 4 object>\n",
       "\n",
       "If you see this message, it means the renderer has not been properly enabled\n",
       "for the frontend that you are using. For more information, see\n",
       "https://altair-viz.github.io/user_guide/troubleshooting.html\n"
      ]
     },
     "execution_count": 65,
     "metadata": {},
     "output_type": "execute_result"
    }
   ],
   "source": [
    "point_sector_sensitivity_count = src.mark_point().encode(\n",
    "    x = \"data_sensitivity:O\",\n",
    "    y = alt.Y(\"sector:N\", sort = \"size\"),\n",
    "    size = \"count()\",\n",
    "    tooltip = [\"count()\"]\n",
    ").interactive()\n",
    "\n",
    "# Show the plot\n",
    "point_sector_sensitivity_count"
   ]
  },
  {
   "cell_type": "code",
   "execution_count": 66,
   "id": "e0ba5604",
   "metadata": {
    "deletable": false,
    "editable": false
   },
   "outputs": [
    {
     "data": {
      "text/html": [
       "<p><strong><pre style='display: inline;'>q3</pre></strong> passed! 🍀</p><p><strong><pre style='display: inline;'>q3 - 1</pre> message:</strong> This test only checks that your variables have the correct name and type</p>"
      ],
      "text/plain": [
       "q3 results: All test cases passed!\n",
       "q3 - 1 message: This test only checks that your variables have the correct name and type"
      ]
     },
     "execution_count": 66,
     "metadata": {},
     "output_type": "execute_result"
    }
   ],
   "source": [
    "grader.check(\"q3\")"
   ]
  },
  {
   "cell_type": "markdown",
   "id": "1091ed4a",
   "metadata": {
    "pycharm": {
     "name": "#%% md\n"
    }
   },
   "source": [
    "### Question 4\n",
    "\n",
    "<div class=\"alert alert-info\" style=\"color:black\">\n",
    "\n",
    "Another way of visualizing the information in the previous plot is to create a heatmap with counts of the combinations of each sector and data sensitivity category:\n",
    "\n",
    "1. Create a heatmap\n",
    "   with the sectors on the y-axis\n",
    "   and the data sensitivity level on the x-axis\n",
    "   (encoded as an ordinal variable).\n",
    "2. Encode the counts of each combination as the color of the rectangle\n",
    "3. Sort the y-axis based on the counts.\n",
    "4. Add a tooltip with has the sector, data sensitity and count\n",
    "\n",
    "</div>\n",
    "\n",
    "_Points:_ 14"
   ]
  },
  {
   "cell_type": "code",
   "execution_count": 83,
   "id": "37866f96",
   "metadata": {
    "collapsed": false,
    "jupyter": {
     "outputs_hidden": false
    },
    "pycharm": {
     "name": "#%%\n"
    },
    "tags": []
   },
   "outputs": [
    {
     "data": {
      "application/vnd.vegalite.v4+json": {
       "$schema": "https://vega.github.io/schema/vega-lite/v4.17.0.json",
       "config": {
        "view": {
         "continuousHeight": 300,
         "continuousWidth": 400
        }
       },
       "data": {
        "name": "data-983fd4a0b346be762802282aadc3c3e4"
       },
       "datasets": {
        "data-983fd4a0b346be762802282aadc3c3e4": [
         {
          "data_sensitivity": 4,
          "date": "2021-09-01T00:00:00",
          "index": 1,
          "method": "hacked",
          "organisation": "Syniverse",
          "records_lost": 500000000,
          "sector": "telecoms",
          "source_name": "Vice",
          "year": 2021
         },
         {
          "data_sensitivity": 2,
          "date": "2021-09-01T00:00:00",
          "index": 5,
          "method": "poor security",
          "organisation": "Thailand visitors",
          "records_lost": 100000000,
          "sector": "government",
          "source_name": "South China Morning Post",
          "year": 2021
         },
         {
          "data_sensitivity": 1,
          "date": "2021-07-01T00:00:00",
          "index": 10,
          "method": "hacked",
          "organisation": "Linkedin",
          "records_lost": 700000000,
          "sector": "web",
          "source_name": "9 to 5 mac",
          "year": 2021
         },
         {
          "data_sensitivity": 2,
          "date": "2021-02-01T00:00:00",
          "index": 21,
          "method": "hacked",
          "organisation": "Experian Brazil",
          "records_lost": 220000000,
          "sector": "finance",
          "source_name": "ZDNet",
          "year": 2021
         },
         {
          "data_sensitivity": 1,
          "date": "2021-03-01T00:00:00",
          "index": 24,
          "method": "hacked",
          "organisation": "Facebook",
          "records_lost": 533000000,
          "sector": "tech",
          "source_name": "Business Insider",
          "year": 2021
         },
         {
          "data_sensitivity": 3,
          "date": "2020-12-01T00:00:00",
          "index": 28,
          "method": "hacked",
          "organisation": "SolarWinds",
          "records_lost": 50000000,
          "sector": "app",
          "source_name": "New York Times",
          "year": 2020
         },
         {
          "data_sensitivity": 2,
          "date": "2020-04-01T00:00:00",
          "index": 37,
          "method": "hacked",
          "organisation": "Pakistani mobile operators",
          "records_lost": 115000000,
          "sector": "telecoms",
          "source_name": "ZDNet",
          "year": 2020
         },
         {
          "data_sensitivity": 1,
          "date": "2020-01-01T00:00:00",
          "index": 41,
          "method": "poor security",
          "organisation": "Microsoft",
          "records_lost": 250000000,
          "sector": "web",
          "source_name": "Forbes",
          "year": 2020
         },
         {
          "data_sensitivity": 2,
          "date": "2019-05-01T00:00:00",
          "index": 56,
          "method": "hacked",
          "organisation": "Canva",
          "records_lost": 139000000,
          "sector": "web",
          "source_name": "ZDNet",
          "year": 2019
         },
         {
          "data_sensitivity": 1,
          "date": "2019-05-01T00:00:00",
          "index": 57,
          "method": "poor security",
          "organisation": "Chtrbox",
          "records_lost": 49000000,
          "sector": "misc",
          "source_name": "Techcrunch",
          "year": 2019
         },
         {
          "data_sensitivity": 1,
          "date": "2019-02-01T00:00:00",
          "index": 62,
          "method": "hacked",
          "organisation": "Dubsmash",
          "records_lost": 162000000,
          "sector": "web",
          "source_name": "The Register",
          "year": 2019
         },
         {
          "data_sensitivity": 1,
          "date": "2019-02-01T00:00:00",
          "index": 63,
          "method": "hacked",
          "organisation": "ShareThis",
          "records_lost": 41000000,
          "sector": "web",
          "source_name": "The Register",
          "year": 2019
         },
         {
          "data_sensitivity": 2,
          "date": "2019-02-01T00:00:00",
          "index": 77,
          "method": "hacked",
          "organisation": "Houzz",
          "records_lost": 57000000,
          "sector": "retail",
          "source_name": "Techcrunch",
          "year": 2019
         },
         {
          "data_sensitivity": 2,
          "date": "2019-05-01T00:00:00",
          "index": 86,
          "method": "poor security",
          "organisation": "Indian citizens",
          "records_lost": 275265298,
          "sector": "web",
          "source_name": "Bleeping Computer",
          "year": 2019
         },
         {
          "data_sensitivity": 3,
          "date": "2019-07-01T00:00:00",
          "index": 88,
          "method": "hacked",
          "organisation": "Capital One",
          "records_lost": 100000000,
          "sector": "finance",
          "source_name": "Forbes",
          "year": 2019
         },
         {
          "data_sensitivity": 2,
          "date": "2019-09-01T00:00:00",
          "index": 90,
          "method": "poor security",
          "organisation": "Facebook",
          "records_lost": 419000000,
          "sector": "web",
          "source_name": "Fast Company",
          "year": 2019
         },
         {
          "data_sensitivity": 2,
          "date": "2019-11-01T00:00:00",
          "index": 93,
          "method": "poor security",
          "organisation": "OxyData",
          "records_lost": 380000000,
          "sector": "tech",
          "source_name": "Dataviper",
          "year": 2019
         },
         {
          "data_sensitivity": 3,
          "date": "2018-10-01T00:00:00",
          "index": 97,
          "method": "hacked",
          "organisation": "Cathay Pacific Airways",
          "records_lost": 94000000,
          "sector": "transport",
          "source_name": "ABC News",
          "year": 2018
         },
         {
          "data_sensitivity": 2,
          "date": "2018-12-01T00:00:00",
          "index": 98,
          "method": "poor security",
          "organisation": "Chinese resume leak",
          "records_lost": 202000000,
          "sector": "web",
          "source_name": "HackenProof",
          "year": 2018
         },
         {
          "data_sensitivity": 2,
          "date": "2018-12-01T00:00:00",
          "index": 99,
          "method": "poor security",
          "organisation": "Google+",
          "records_lost": 52500000,
          "sector": "web",
          "source_name": "The Verge",
          "year": 2018
         },
         {
          "data_sensitivity": 1,
          "date": "2018-12-01T00:00:00",
          "index": 100,
          "method": "hacked",
          "organisation": "Quora",
          "records_lost": 100000000,
          "sector": "web",
          "source_name": "NY Times",
          "year": 2018
         },
         {
          "data_sensitivity": 3,
          "date": "2018-11-01T00:00:00",
          "index": 101,
          "method": "hacked",
          "organisation": "Marriott International",
          "records_lost": 383000000,
          "sector": "retail",
          "source_name": "NY Times, CNET",
          "year": 2018
         },
         {
          "data_sensitivity": 1,
          "date": "2018-03-01T00:00:00",
          "index": 103,
          "method": "hacked",
          "organisation": "Facebook",
          "records_lost": 50000000,
          "sector": "web",
          "source_name": "Guardian",
          "year": 2018
         },
         {
          "data_sensitivity": 1,
          "date": "2018-06-01T00:00:00",
          "index": 106,
          "method": "hacked",
          "organisation": "MyHeritage",
          "records_lost": 92283889,
          "sector": "web",
          "source_name": "Bloomberg",
          "year": 2018
         },
         {
          "data_sensitivity": 1,
          "date": "2018-03-01T00:00:00",
          "index": 112,
          "method": "hacked",
          "organisation": "MyFitnessPal",
          "records_lost": 150000000,
          "sector": "app",
          "source_name": "Guardian",
          "year": 2018
         },
         {
          "data_sensitivity": 1,
          "date": "2018-06-01T00:00:00",
          "index": 114,
          "method": "poor security",
          "organisation": "Nametests",
          "records_lost": 120000000,
          "sector": "app",
          "source_name": "Medium",
          "year": 2018
         },
         {
          "data_sensitivity": 5,
          "date": "2018-06-01T00:00:00",
          "index": 116,
          "method": "poor security",
          "organisation": "Firebase",
          "records_lost": 100000000,
          "sector": "app",
          "source_name": "Bleeping Computer",
          "year": 2018
         },
         {
          "data_sensitivity": 4,
          "date": "2018-03-01T00:00:00",
          "index": 117,
          "method": "poor security",
          "organisation": "Aadhaar",
          "records_lost": 550000000,
          "sector": "government",
          "source_name": "ZDNet",
          "year": 2018
         },
         {
          "data_sensitivity": 2,
          "date": "2018-05-01T00:00:00",
          "index": 121,
          "method": "poor security",
          "organisation": "LocalBlox",
          "records_lost": 48000000,
          "sector": "web",
          "source_name": "UpGuard",
          "year": 2018
         },
         {
          "data_sensitivity": 1,
          "date": "2018-05-01T00:00:00",
          "index": 122,
          "method": "poor security",
          "organisation": "Twitter",
          "records_lost": 330000000,
          "sector": "tech",
          "source_name": "Reuters",
          "year": 2018
         },
         {
          "data_sensitivity": 3,
          "date": "2018-09-01T00:00:00",
          "index": 133,
          "method": "hacked",
          "organisation": "Newegg",
          "records_lost": 45000000,
          "sector": "retail",
          "source_name": "TechCrunch",
          "year": 2018
         },
         {
          "data_sensitivity": 1,
          "date": "2018-05-01T00:00:00",
          "index": 135,
          "method": "poor security",
          "organisation": "Apollo",
          "records_lost": 200000000,
          "sector": "tech",
          "source_name": "Wired",
          "year": 2018
         },
         {
          "data_sensitivity": 1,
          "date": "2017-11-01T00:00:00",
          "index": 139,
          "method": "hacked",
          "organisation": "Uber",
          "records_lost": 57000000,
          "sector": "app",
          "source_name": "Bloomberg",
          "year": 2017
         },
         {
          "data_sensitivity": 4,
          "date": "2017-08-01T00:00:00",
          "index": 142,
          "method": "poor security",
          "organisation": "Spambot",
          "records_lost": 520000000,
          "sector": "web",
          "source_name": "The Guardian",
          "year": 2017
         },
         {
          "data_sensitivity": 2,
          "date": "2017-03-01T00:00:00",
          "index": 149,
          "method": "oops!",
          "organisation": "River City Media",
          "records_lost": 340000000,
          "sector": "web",
          "source_name": "Guardian",
          "year": 2017
         },
         {
          "data_sensitivity": 4,
          "date": "2017-10-01T00:00:00",
          "index": 155,
          "method": "hacked",
          "organisation": "Malaysian telcos & MVNOs",
          "records_lost": 46200000,
          "sector": "telecoms",
          "source_name": "LowYat",
          "year": 2017
         },
         {
          "data_sensitivity": 4,
          "date": "2017-09-01T00:00:00",
          "index": 159,
          "method": "hacked",
          "organisation": "Equifax",
          "records_lost": 143000000,
          "sector": "finance",
          "source_name": "UK Gov",
          "year": 2017
         },
         {
          "data_sensitivity": 1,
          "date": "2016-05-01T00:00:00",
          "index": 161,
          "method": "hacked",
          "organisation": "LinkedIn",
          "records_lost": 117000000,
          "sector": "web",
          "source_name": "CNN",
          "year": 2016
         },
         {
          "data_sensitivity": 1,
          "date": "2016-05-01T00:00:00",
          "index": 162,
          "method": "hacked",
          "organisation": "Tumblr",
          "records_lost": 65000000,
          "sector": "web",
          "source_name": "Vice",
          "year": 2016
         },
         {
          "data_sensitivity": 2,
          "date": "2016-09-01T00:00:00",
          "index": 163,
          "method": "hacked",
          "organisation": "Yahoo",
          "records_lost": 500000000,
          "sector": "web",
          "source_name": "CNBC",
          "year": 2016
         },
         {
          "data_sensitivity": 5,
          "date": "2016-04-01T00:00:00",
          "index": 165,
          "method": "hacked",
          "organisation": "Philippines’ Commission on Elections",
          "records_lost": 55000000,
          "sector": "government",
          "source_name": "Trend Micro",
          "year": 2016
         },
         {
          "data_sensitivity": 2,
          "date": "2016-04-01T00:00:00",
          "index": 168,
          "method": "hacked",
          "organisation": "Turkish citizenship database",
          "records_lost": 49611709,
          "sector": "government",
          "source_name": "Business Insider",
          "year": 2016
         },
         {
          "data_sensitivity": 4,
          "date": "2016-06-01T00:00:00",
          "index": 179,
          "method": "hacked",
          "organisation": "VK",
          "records_lost": 171000000,
          "sector": "web",
          "source_name": "Motherboard",
          "year": 2016
         },
         {
          "data_sensitivity": 1,
          "date": "2016-05-01T00:00:00",
          "index": 182,
          "method": "hacked",
          "organisation": "MySpace",
          "records_lost": 164000000,
          "sector": "web",
          "source_name": "Vice",
          "year": 2016
         },
         {
          "data_sensitivity": 1,
          "date": "2016-12-01T00:00:00",
          "index": 186,
          "method": "hacked",
          "organisation": "Dailymotion",
          "records_lost": 85200000,
          "sector": "web",
          "source_name": "ZDNet",
          "year": 2016
         },
         {
          "data_sensitivity": 4,
          "date": "2016-10-01T00:00:00",
          "index": 187,
          "method": "hacked",
          "organisation": "Weebly",
          "records_lost": 43000000,
          "sector": "web",
          "source_name": "Tech Crunch",
          "year": 2016
         },
         {
          "data_sensitivity": 1,
          "date": "2016-11-01T00:00:00",
          "index": 190,
          "method": "hacked",
          "organisation": "Friend Finder Network",
          "records_lost": 412000000,
          "sector": "web",
          "source_name": "ZDNet",
          "year": 2016
         },
         {
          "data_sensitivity": 2,
          "date": "2015-12-01T00:00:00",
          "index": 197,
          "method": "poor security",
          "organisation": "Deep Root Analytics",
          "records_lost": 198000000,
          "sector": "web",
          "source_name": "Reuters, UpGuard",
          "year": 2015
         },
         {
          "data_sensitivity": 5,
          "date": "2015-11-01T00:00:00",
          "index": 210,
          "method": "hacked",
          "organisation": "Securus Technologies",
          "records_lost": 70000000,
          "sector": "web",
          "source_name": "The Intercept",
          "year": 2015
         },
         {
          "data_sensitivity": 2,
          "date": "2015-02-01T00:00:00",
          "index": 216,
          "method": "hacked",
          "organisation": "Anthem ",
          "records_lost": 80000000,
          "sector": "health",
          "source_name": "NYTimes",
          "year": 2015
         },
         {
          "data_sensitivity": 1,
          "date": "2014-05-01T00:00:00",
          "index": 224,
          "method": "hacked",
          "organisation": "Ebay",
          "records_lost": 145000000,
          "sector": "web",
          "source_name": "Business Insider",
          "year": 2014
         },
         {
          "data_sensitivity": 3,
          "date": "2014-10-01T00:00:00",
          "index": 227,
          "method": "hacked",
          "organisation": "JP Morgan Chase",
          "records_lost": 76000000,
          "sector": "finance",
          "source_name": "Deal Book",
          "year": 2014
         },
         {
          "data_sensitivity": 3,
          "date": "2014-09-01T00:00:00",
          "index": 233,
          "method": "hacked",
          "organisation": "Home Depot",
          "records_lost": 56000000,
          "sector": "retail",
          "source_name": "Krebs on Security",
          "year": 2014
         },
         {
          "data_sensitivity": 5,
          "date": "2013-07-01T00:00:00",
          "index": 237,
          "method": "hacked",
          "organisation": "Massive American business hack",
          "records_lost": 160000000,
          "sector": "finance",
          "source_name": "Technology Review",
          "year": 2013
         },
         {
          "data_sensitivity": 1,
          "date": "2013-04-01T00:00:00",
          "index": 242,
          "method": "hacked",
          "organisation": "Living Social",
          "records_lost": 50000000,
          "sector": "web",
          "source_name": "Naked Security, New York Times",
          "year": 2013
         },
         {
          "data_sensitivity": 2,
          "date": "2016-12-01T00:00:00",
          "index": 243,
          "method": "hacked",
          "organisation": "Yahoo",
          "records_lost": 550000000,
          "sector": "web",
          "source_name": "NY Times, BBC",
          "year": 2013
         },
         {
          "data_sensitivity": 2,
          "date": "2013-07-01T00:00:00",
          "index": 254,
          "method": "hacked",
          "organisation": "UbiSoft",
          "records_lost": 58000000,
          "sector": "gaming",
          "source_name": "BBC News",
          "year": 2013
         },
         {
          "data_sensitivity": 1,
          "date": "2013-03-01T00:00:00",
          "index": 259,
          "method": "hacked",
          "organisation": "Evernote",
          "records_lost": 50000000,
          "sector": "web",
          "source_name": "Wired, Digital Trends",
          "year": 2013
         },
         {
          "data_sensitivity": 2,
          "date": "2013-10-01T00:00:00",
          "index": 266,
          "method": "inside job",
          "organisation": "Court Ventures",
          "records_lost": 200000000,
          "sector": "finance",
          "source_name": "NY Times, Gov Tech",
          "year": 2013
         },
         {
          "data_sensitivity": 3,
          "date": "2013-12-01T00:00:00",
          "index": 271,
          "method": "hacked",
          "organisation": "Target",
          "records_lost": 70000000,
          "sector": "retail",
          "source_name": "Huffington Post",
          "year": 2013
         },
         {
          "data_sensitivity": 1,
          "date": "2016-09-01T00:00:00",
          "index": 287,
          "method": "hacked",
          "organisation": "Last.fm",
          "records_lost": 43500000,
          "sector": "web",
          "source_name": "ZD Net",
          "year": 2012
         },
         {
          "data_sensitivity": 1,
          "date": "2016-08-01T00:00:00",
          "index": 294,
          "method": "hacked",
          "organisation": "Dropbox",
          "records_lost": 68700000,
          "sector": "web",
          "source_name": "The Telegraph",
          "year": 2012
         },
         {
          "data_sensitivity": 1,
          "date": "2011-04-01T00:00:00",
          "index": 304,
          "method": "hacked",
          "organisation": "Sony PSN",
          "records_lost": 77000000,
          "sector": "gaming",
          "source_name": "Mashable",
          "year": 2011
         },
         {
          "data_sensitivity": 3,
          "date": "2009-01-01T00:00:00",
          "index": 345,
          "method": "hacked",
          "organisation": "Heartland",
          "records_lost": 130000000,
          "sector": "finance",
          "source_name": "Dark Reading",
          "year": 2009
         },
         {
          "data_sensitivity": 2,
          "date": "2009-10-01T00:00:00",
          "index": 353,
          "method": "lost device ",
          "organisation": "US Military",
          "records_lost": 76000000,
          "sector": "military",
          "source_name": "Wired",
          "year": 2009
         },
         {
          "data_sensitivity": 3,
          "date": "2007-03-01T00:00:00",
          "index": 379,
          "method": "hacked",
          "organisation": "TK / TJ Maxx",
          "records_lost": 94000000,
          "sector": "retail",
          "source_name": "ZD Net",
          "year": 2007
         },
         {
          "data_sensitivity": 1,
          "date": "2004-06-01T00:00:00",
          "index": 391,
          "method": "inside job",
          "organisation": "AOL",
          "records_lost": 92000000,
          "sector": "web",
          "source_name": "CNN",
          "year": 2004
         }
        ]
       },
       "encoding": {
        "color": {
         "aggregate": "count",
         "type": "quantitative"
        },
        "tooltip": [
         {
          "field": "sector",
          "type": "nominal"
         },
         {
          "field": "data_sensitivity",
          "type": "quantitative"
         },
         {
          "aggregate": "count",
          "type": "quantitative"
         }
        ],
        "x": {
         "field": "data_sensitivity",
         "type": "ordinal"
        },
        "y": {
         "field": "sector",
         "sort": "color",
         "type": "nominal"
        }
       },
       "mark": "rect",
       "selection": {
        "selector027": {
         "bind": "scales",
         "encodings": [
          "x",
          "y"
         ],
         "type": "interval"
        }
       }
      },
      "image/png": "[encoded data removed]",
      "text/plain": [
       "<VegaLite 4 object>\n",
       "\n",
       "If you see this message, it means the renderer has not been properly enabled\n",
       "for the frontend that you are using. For more information, see\n",
       "https://altair-viz.github.io/user_guide/troubleshooting.html\n"
      ]
     },
     "execution_count": 83,
     "metadata": {},
     "output_type": "execute_result"
    }
   ],
   "source": [
    "heatmap_sector_sensitivity_count = src.mark_rect().encode(\n",
    "    x = alt.X(\"data_sensitivity:O\"),\n",
    "    y = alt.Y(\"sector\", sort = \"color\"),\n",
    "    color = \"count()\",\n",
    "    tooltip = [\"sector\", \"data_sensitivity\", \"count()\"],\n",
    ").interactive()\n",
    "\n",
    "# Show the plot\n",
    "heatmap_sector_sensitivity_count"
   ]
  },
  {
   "cell_type": "code",
   "execution_count": 84,
   "id": "85019531",
   "metadata": {
    "deletable": false,
    "editable": false
   },
   "outputs": [
    {
     "data": {
      "text/html": [
       "<p><strong><pre style='display: inline;'>q4</pre></strong> passed! 🚀</p><p><strong><pre style='display: inline;'>q4 - 1</pre> message:</strong> All your variables have the expected name and type</p>"
      ],
      "text/plain": [
       "q4 results: All test cases passed!\n",
       "q4 - 1 message: All your variables have the expected name and type"
      ]
     },
     "execution_count": 84,
     "metadata": {},
     "output_type": "execute_result"
    }
   ],
   "source": [
    "grader.check(\"q4\")"
   ]
  },
  {
   "cell_type": "markdown",
   "id": "3b7e425c",
   "metadata": {
    "pycharm": {
     "name": "#%% md\n"
    }
   },
   "source": [
    "<!-- BEGIN QUESTION -->\n",
    "\n",
    "### Question 5\n",
    "\n",
    "<div class=\"alert alert-info\" style=\"color:black\">\n",
    "\n",
    "Compare the last three visualizations that you created. Which is most effective at answering the questions below.\n",
    "Answer the questions and use the theoretical concepts you have been exposed (in the course) to explain why that visualization is more effective than the others\n",
    "\n",
    "1. Which sector has the highest number of breaches in our dataset?\n",
    "2. What proportion of leaked government data is most sensitive (i.e. level 5 sensitivity)?\n",
    "</div>\n",
    "\n",
    "_Points:_ 0"
   ]
  },
  {
   "cell_type": "markdown",
   "id": "82c2e2ac",
   "metadata": {},
   "source": [
    "## Add on using course concept to support below:\n",
    "\n",
    "1. The `Web` sector has the highest number of breaches in our dataset ranging from data sentivititys from 1 to 5 (5 is most important)....\n",
    "2. Not Done YET ...."
   ]
  },
  {
   "cell_type": "markdown",
   "id": "471a4db9",
   "metadata": {
    "pycharm": {
     "name": "#%% md\n"
    },
    "tags": []
   },
   "source": [
    "<!-- END QUESTION -->\n",
    "\n",
    "### Question 6\n",
    "\n",
    "<div class=\"alert alert-info\" style=\"color:black\">\n",
    "\n",
    "Next, let's explore how the size of the breaches have changed over time.\n",
    "To make the plot easier to interpret,\n",
    "we will focus on the four sectors with the most data breaches.\n",
    "The necessary data wrangling for this has already been done for you,\n",
    "and you need to use the wrangled data to complete the following tasks:\n",
    "\n",
    "1. Create a scatter plot with the date on the x-axis\n",
    "   and the records lost on the y-axis.\n",
    "2. Let the size of the points indicate the sensitivity of the breached data.\n",
    "3. Let the color indicate which sector the point belongs to.\n",
    "4. Add a tooltip that displays the source of the breach\n",
    "  when the point is hovered over with the mouse pointer.\n",
    "\n",
    "</div>\n",
    "\n",
    "_Points:_ 10"
   ]
  },
  {
   "cell_type": "code",
   "execution_count": 87,
   "id": "8f559820",
   "metadata": {
    "pycharm": {
     "name": "#%%\n"
    },
    "tags": []
   },
   "outputs": [],
   "source": [
    "# Provided data wrangling\n",
    "top_sectors = breaches['sector'].value_counts().nlargest(4).index.tolist()\n",
    "top_breaches = breaches.query('sector in @top_sectors')"
   ]
  },
  {
   "cell_type": "code",
   "execution_count": 89,
   "id": "21ce5b0e-581b-4f0a-9b56-7111e36309ac",
   "metadata": {},
   "outputs": [
    {
     "data": {
      "text/html": [
       "<div>\n",
       "<style scoped>\n",
       "    .dataframe tbody tr th:only-of-type {\n",
       "        vertical-align: middle;\n",
       "    }\n",
       "\n",
       "    .dataframe tbody tr th {\n",
       "        vertical-align: top;\n",
       "    }\n",
       "\n",
       "    .dataframe thead th {\n",
       "        text-align: right;\n",
       "    }\n",
       "</style>\n",
       "<table border=\"1\" class=\"dataframe\">\n",
       "  <thead>\n",
       "    <tr style=\"text-align: right;\">\n",
       "      <th></th>\n",
       "      <th>index</th>\n",
       "      <th>organisation</th>\n",
       "      <th>records_lost</th>\n",
       "      <th>year</th>\n",
       "      <th>date</th>\n",
       "      <th>sector</th>\n",
       "      <th>method</th>\n",
       "      <th>data_sensitivity</th>\n",
       "      <th>source_name</th>\n",
       "    </tr>\n",
       "  </thead>\n",
       "  <tbody>\n",
       "    <tr>\n",
       "      <th>2</th>\n",
       "      <td>10</td>\n",
       "      <td>Linkedin</td>\n",
       "      <td>700000000</td>\n",
       "      <td>2021</td>\n",
       "      <td>2021-07-01</td>\n",
       "      <td>web</td>\n",
       "      <td>hacked</td>\n",
       "      <td>1</td>\n",
       "      <td>9 to 5 mac</td>\n",
       "    </tr>\n",
       "  </tbody>\n",
       "</table>\n",
       "</div>"
      ],
      "text/plain": [
       "   index organisation  records_lost  year       date sector  method  \\\n",
       "2     10     Linkedin     700000000  2021 2021-07-01    web  hacked   \n",
       "\n",
       "   data_sensitivity source_name  \n",
       "2                 1  9 to 5 mac  "
      ]
     },
     "execution_count": 89,
     "metadata": {},
     "output_type": "execute_result"
    }
   ],
   "source": [
    "b = top_breaches.head(1)\n",
    "src2 = alt.Chart(top_breaches)\n",
    "b"
   ]
  },
  {
   "cell_type": "code",
   "execution_count": 95,
   "id": "51d0ae9a",
   "metadata": {
    "pycharm": {
     "name": "#%%\n"
    },
    "tags": []
   },
   "outputs": [
    {
     "data": {
      "application/vnd.vegalite.v4+json": {
       "$schema": "https://vega.github.io/schema/vega-lite/v4.17.0.json",
       "config": {
        "view": {
         "continuousHeight": 300,
         "continuousWidth": 400
        }
       },
       "data": {
        "name": "data-1e6c9f64285931c06bfda9ccf09f66bc"
       },
       "datasets": {
        "data-1e6c9f64285931c06bfda9ccf09f66bc": [
         {
          "data_sensitivity": 1,
          "date": "2021-07-01T00:00:00",
          "index": 10,
          "method": "hacked",
          "organisation": "Linkedin",
          "records_lost": 700000000,
          "sector": "web",
          "source_name": "9 to 5 mac",
          "year": 2021
         },
         {
          "data_sensitivity": 2,
          "date": "2021-02-01T00:00:00",
          "index": 21,
          "method": "hacked",
          "organisation": "Experian Brazil",
          "records_lost": 220000000,
          "sector": "finance",
          "source_name": "ZDNet",
          "year": 2021
         },
         {
          "data_sensitivity": 3,
          "date": "2020-12-01T00:00:00",
          "index": 28,
          "method": "hacked",
          "organisation": "SolarWinds",
          "records_lost": 50000000,
          "sector": "app",
          "source_name": "New York Times",
          "year": 2020
         },
         {
          "data_sensitivity": 1,
          "date": "2020-01-01T00:00:00",
          "index": 41,
          "method": "poor security",
          "organisation": "Microsoft",
          "records_lost": 250000000,
          "sector": "web",
          "source_name": "Forbes",
          "year": 2020
         },
         {
          "data_sensitivity": 2,
          "date": "2019-05-01T00:00:00",
          "index": 56,
          "method": "hacked",
          "organisation": "Canva",
          "records_lost": 139000000,
          "sector": "web",
          "source_name": "ZDNet",
          "year": 2019
         },
         {
          "data_sensitivity": 1,
          "date": "2019-02-01T00:00:00",
          "index": 62,
          "method": "hacked",
          "organisation": "Dubsmash",
          "records_lost": 162000000,
          "sector": "web",
          "source_name": "The Register",
          "year": 2019
         },
         {
          "data_sensitivity": 1,
          "date": "2019-02-01T00:00:00",
          "index": 63,
          "method": "hacked",
          "organisation": "ShareThis",
          "records_lost": 41000000,
          "sector": "web",
          "source_name": "The Register",
          "year": 2019
         },
         {
          "data_sensitivity": 2,
          "date": "2019-02-01T00:00:00",
          "index": 77,
          "method": "hacked",
          "organisation": "Houzz",
          "records_lost": 57000000,
          "sector": "retail",
          "source_name": "Techcrunch",
          "year": 2019
         },
         {
          "data_sensitivity": 2,
          "date": "2019-05-01T00:00:00",
          "index": 86,
          "method": "poor security",
          "organisation": "Indian citizens",
          "records_lost": 275265298,
          "sector": "web",
          "source_name": "Bleeping Computer",
          "year": 2019
         },
         {
          "data_sensitivity": 3,
          "date": "2019-07-01T00:00:00",
          "index": 88,
          "method": "hacked",
          "organisation": "Capital One",
          "records_lost": 100000000,
          "sector": "finance",
          "source_name": "Forbes",
          "year": 2019
         },
         {
          "data_sensitivity": 2,
          "date": "2019-09-01T00:00:00",
          "index": 90,
          "method": "poor security",
          "organisation": "Facebook",
          "records_lost": 419000000,
          "sector": "web",
          "source_name": "Fast Company",
          "year": 2019
         },
         {
          "data_sensitivity": 2,
          "date": "2018-12-01T00:00:00",
          "index": 98,
          "method": "poor security",
          "organisation": "Chinese resume leak",
          "records_lost": 202000000,
          "sector": "web",
          "source_name": "HackenProof",
          "year": 2018
         },
         {
          "data_sensitivity": 2,
          "date": "2018-12-01T00:00:00",
          "index": 99,
          "method": "poor security",
          "organisation": "Google+",
          "records_lost": 52500000,
          "sector": "web",
          "source_name": "The Verge",
          "year": 2018
         },
         {
          "data_sensitivity": 1,
          "date": "2018-12-01T00:00:00",
          "index": 100,
          "method": "hacked",
          "organisation": "Quora",
          "records_lost": 100000000,
          "sector": "web",
          "source_name": "NY Times",
          "year": 2018
         },
         {
          "data_sensitivity": 3,
          "date": "2018-11-01T00:00:00",
          "index": 101,
          "method": "hacked",
          "organisation": "Marriott International",
          "records_lost": 383000000,
          "sector": "retail",
          "source_name": "NY Times, CNET",
          "year": 2018
         },
         {
          "data_sensitivity": 1,
          "date": "2018-03-01T00:00:00",
          "index": 103,
          "method": "hacked",
          "organisation": "Facebook",
          "records_lost": 50000000,
          "sector": "web",
          "source_name": "Guardian",
          "year": 2018
         },
         {
          "data_sensitivity": 1,
          "date": "2018-06-01T00:00:00",
          "index": 106,
          "method": "hacked",
          "organisation": "MyHeritage",
          "records_lost": 92283889,
          "sector": "web",
          "source_name": "Bloomberg",
          "year": 2018
         },
         {
          "data_sensitivity": 1,
          "date": "2018-03-01T00:00:00",
          "index": 112,
          "method": "hacked",
          "organisation": "MyFitnessPal",
          "records_lost": 150000000,
          "sector": "app",
          "source_name": "Guardian",
          "year": 2018
         },
         {
          "data_sensitivity": 1,
          "date": "2018-06-01T00:00:00",
          "index": 114,
          "method": "poor security",
          "organisation": "Nametests",
          "records_lost": 120000000,
          "sector": "app",
          "source_name": "Medium",
          "year": 2018
         },
         {
          "data_sensitivity": 5,
          "date": "2018-06-01T00:00:00",
          "index": 116,
          "method": "poor security",
          "organisation": "Firebase",
          "records_lost": 100000000,
          "sector": "app",
          "source_name": "Bleeping Computer",
          "year": 2018
         },
         {
          "data_sensitivity": 2,
          "date": "2018-05-01T00:00:00",
          "index": 121,
          "method": "poor security",
          "organisation": "LocalBlox",
          "records_lost": 48000000,
          "sector": "web",
          "source_name": "UpGuard",
          "year": 2018
         },
         {
          "data_sensitivity": 3,
          "date": "2018-09-01T00:00:00",
          "index": 133,
          "method": "hacked",
          "organisation": "Newegg",
          "records_lost": 45000000,
          "sector": "retail",
          "source_name": "TechCrunch",
          "year": 2018
         },
         {
          "data_sensitivity": 1,
          "date": "2017-11-01T00:00:00",
          "index": 139,
          "method": "hacked",
          "organisation": "Uber",
          "records_lost": 57000000,
          "sector": "app",
          "source_name": "Bloomberg",
          "year": 2017
         },
         {
          "data_sensitivity": 4,
          "date": "2017-08-01T00:00:00",
          "index": 142,
          "method": "poor security",
          "organisation": "Spambot",
          "records_lost": 520000000,
          "sector": "web",
          "source_name": "The Guardian",
          "year": 2017
         },
         {
          "data_sensitivity": 2,
          "date": "2017-03-01T00:00:00",
          "index": 149,
          "method": "oops!",
          "organisation": "River City Media",
          "records_lost": 340000000,
          "sector": "web",
          "source_name": "Guardian",
          "year": 2017
         },
         {
          "data_sensitivity": 4,
          "date": "2017-09-01T00:00:00",
          "index": 159,
          "method": "hacked",
          "organisation": "Equifax",
          "records_lost": 143000000,
          "sector": "finance",
          "source_name": "UK Gov",
          "year": 2017
         },
         {
          "data_sensitivity": 1,
          "date": "2016-05-01T00:00:00",
          "index": 161,
          "method": "hacked",
          "organisation": "LinkedIn",
          "records_lost": 117000000,
          "sector": "web",
          "source_name": "CNN",
          "year": 2016
         },
         {
          "data_sensitivity": 1,
          "date": "2016-05-01T00:00:00",
          "index": 162,
          "method": "hacked",
          "organisation": "Tumblr",
          "records_lost": 65000000,
          "sector": "web",
          "source_name": "Vice",
          "year": 2016
         },
         {
          "data_sensitivity": 2,
          "date": "2016-09-01T00:00:00",
          "index": 163,
          "method": "hacked",
          "organisation": "Yahoo",
          "records_lost": 500000000,
          "sector": "web",
          "source_name": "CNBC",
          "year": 2016
         },
         {
          "data_sensitivity": 4,
          "date": "2016-06-01T00:00:00",
          "index": 179,
          "method": "hacked",
          "organisation": "VK",
          "records_lost": 171000000,
          "sector": "web",
          "source_name": "Motherboard",
          "year": 2016
         },
         {
          "data_sensitivity": 1,
          "date": "2016-05-01T00:00:00",
          "index": 182,
          "method": "hacked",
          "organisation": "MySpace",
          "records_lost": 164000000,
          "sector": "web",
          "source_name": "Vice",
          "year": 2016
         },
         {
          "data_sensitivity": 1,
          "date": "2016-12-01T00:00:00",
          "index": 186,
          "method": "hacked",
          "organisation": "Dailymotion",
          "records_lost": 85200000,
          "sector": "web",
          "source_name": "ZDNet",
          "year": 2016
         },
         {
          "data_sensitivity": 4,
          "date": "2016-10-01T00:00:00",
          "index": 187,
          "method": "hacked",
          "organisation": "Weebly",
          "records_lost": 43000000,
          "sector": "web",
          "source_name": "Tech Crunch",
          "year": 2016
         },
         {
          "data_sensitivity": 1,
          "date": "2016-11-01T00:00:00",
          "index": 190,
          "method": "hacked",
          "organisation": "Friend Finder Network",
          "records_lost": 412000000,
          "sector": "web",
          "source_name": "ZDNet",
          "year": 2016
         },
         {
          "data_sensitivity": 2,
          "date": "2015-12-01T00:00:00",
          "index": 197,
          "method": "poor security",
          "organisation": "Deep Root Analytics",
          "records_lost": 198000000,
          "sector": "web",
          "source_name": "Reuters, UpGuard",
          "year": 2015
         },
         {
          "data_sensitivity": 5,
          "date": "2015-11-01T00:00:00",
          "index": 210,
          "method": "hacked",
          "organisation": "Securus Technologies",
          "records_lost": 70000000,
          "sector": "web",
          "source_name": "The Intercept",
          "year": 2015
         },
         {
          "data_sensitivity": 1,
          "date": "2014-05-01T00:00:00",
          "index": 224,
          "method": "hacked",
          "organisation": "Ebay",
          "records_lost": 145000000,
          "sector": "web",
          "source_name": "Business Insider",
          "year": 2014
         },
         {
          "data_sensitivity": 3,
          "date": "2014-10-01T00:00:00",
          "index": 227,
          "method": "hacked",
          "organisation": "JP Morgan Chase",
          "records_lost": 76000000,
          "sector": "finance",
          "source_name": "Deal Book",
          "year": 2014
         },
         {
          "data_sensitivity": 3,
          "date": "2014-09-01T00:00:00",
          "index": 233,
          "method": "hacked",
          "organisation": "Home Depot",
          "records_lost": 56000000,
          "sector": "retail",
          "source_name": "Krebs on Security",
          "year": 2014
         },
         {
          "data_sensitivity": 5,
          "date": "2013-07-01T00:00:00",
          "index": 237,
          "method": "hacked",
          "organisation": "Massive American business hack",
          "records_lost": 160000000,
          "sector": "finance",
          "source_name": "Technology Review",
          "year": 2013
         },
         {
          "data_sensitivity": 1,
          "date": "2013-04-01T00:00:00",
          "index": 242,
          "method": "hacked",
          "organisation": "Living Social",
          "records_lost": 50000000,
          "sector": "web",
          "source_name": "Naked Security, New York Times",
          "year": 2013
         },
         {
          "data_sensitivity": 2,
          "date": "2016-12-01T00:00:00",
          "index": 243,
          "method": "hacked",
          "organisation": "Yahoo",
          "records_lost": 550000000,
          "sector": "web",
          "source_name": "NY Times, BBC",
          "year": 2013
         },
         {
          "data_sensitivity": 1,
          "date": "2013-03-01T00:00:00",
          "index": 259,
          "method": "hacked",
          "organisation": "Evernote",
          "records_lost": 50000000,
          "sector": "web",
          "source_name": "Wired, Digital Trends",
          "year": 2013
         },
         {
          "data_sensitivity": 2,
          "date": "2013-10-01T00:00:00",
          "index": 266,
          "method": "inside job",
          "organisation": "Court Ventures",
          "records_lost": 200000000,
          "sector": "finance",
          "source_name": "NY Times, Gov Tech",
          "year": 2013
         },
         {
          "data_sensitivity": 3,
          "date": "2013-12-01T00:00:00",
          "index": 271,
          "method": "hacked",
          "organisation": "Target",
          "records_lost": 70000000,
          "sector": "retail",
          "source_name": "Huffington Post",
          "year": 2013
         },
         {
          "data_sensitivity": 1,
          "date": "2016-09-01T00:00:00",
          "index": 287,
          "method": "hacked",
          "organisation": "Last.fm",
          "records_lost": 43500000,
          "sector": "web",
          "source_name": "ZD Net",
          "year": 2012
         },
         {
          "data_sensitivity": 1,
          "date": "2016-08-01T00:00:00",
          "index": 294,
          "method": "hacked",
          "organisation": "Dropbox",
          "records_lost": 68700000,
          "sector": "web",
          "source_name": "The Telegraph",
          "year": 2012
         },
         {
          "data_sensitivity": 3,
          "date": "2009-01-01T00:00:00",
          "index": 345,
          "method": "hacked",
          "organisation": "Heartland",
          "records_lost": 130000000,
          "sector": "finance",
          "source_name": "Dark Reading",
          "year": 2009
         },
         {
          "data_sensitivity": 3,
          "date": "2007-03-01T00:00:00",
          "index": 379,
          "method": "hacked",
          "organisation": "TK / TJ Maxx",
          "records_lost": 94000000,
          "sector": "retail",
          "source_name": "ZD Net",
          "year": 2007
         },
         {
          "data_sensitivity": 1,
          "date": "2004-06-01T00:00:00",
          "index": 391,
          "method": "inside job",
          "organisation": "AOL",
          "records_lost": 92000000,
          "sector": "web",
          "source_name": "CNN",
          "year": 2004
         }
        ]
       },
       "encoding": {
        "color": {
         "field": "sector",
         "type": "nominal"
        },
        "size": {
         "field": "data_sensitivity",
         "type": "quantitative"
        },
        "tooltip": [
         {
          "field": "source_name",
          "type": "nominal"
         }
        ],
        "x": {
         "field": "date",
         "type": "temporal"
        },
        "y": {
         "field": "records_lost",
         "type": "quantitative"
        }
       },
       "mark": "point"
      },
      "image/png": "[encoded data removed]",
      "text/plain": [
       "<VegaLite 4 object>\n",
       "\n",
       "If you see this message, it means the renderer has not been properly enabled\n",
       "for the frontend that you are using. For more information, see\n",
       "https://altair-viz.github.io/user_guide/troubleshooting.html\n"
      ]
     },
     "execution_count": 95,
     "metadata": {},
     "output_type": "execute_result"
    }
   ],
   "source": [
    "# consider add interactiveness?\n",
    "scatter_breaches_over_time = src2.mark_point().encode(\n",
    "    x = \"date:T\",\n",
    "    y = \"records_lost\",\n",
    "    size = \"data_sensitivity\",\n",
    "    color = \"sector\",\n",
    "    tooltip = [\"source_name\"]\n",
    ")\n",
    "\n",
    "# Show the plot\n",
    "scatter_breaches_over_time"
   ]
  },
  {
   "cell_type": "code",
   "execution_count": 96,
   "id": "fbc0048c",
   "metadata": {
    "deletable": false,
    "editable": false
   },
   "outputs": [
    {
     "data": {
      "text/html": [
       "<p><strong><pre style='display: inline;'>q6</pre></strong> passed! 🍀</p><p><strong><pre style='display: inline;'>q6 - 1</pre> message:</strong> This test only checks that your variables have the correct name and type</p>"
      ],
      "text/plain": [
       "q6 results: All test cases passed!\n",
       "q6 - 1 message: This test only checks that your variables have the correct name and type"
      ]
     },
     "execution_count": 96,
     "metadata": {},
     "output_type": "execute_result"
    }
   ],
   "source": [
    "grader.check(\"q6\")"
   ]
  },
  {
   "cell_type": "markdown",
   "id": "80dfc22f",
   "metadata": {
    "pycharm": {
     "name": "#%% md\n"
    }
   },
   "source": [
    "### Question 7\n",
    "\n",
    "<div class=\"alert alert-info\" style=\"color:black\">\n",
    "\n",
    "For the next 3 questions, let's return to the original dataset (i.e., breaches)\n",
    "Next, let's use a sorted bar chart to determine which method resulted in the most records lost\n",
    "\n",
    "1. Create a bar chart with the sum of records lost encoded on the x-axis and the method encoded on the y-axis\n",
    "2. Sort such that the method with the highest number of records lost is furthest away from the x-axis\n",
    "</div>\n",
    "\n",
    "_Points:_ 9"
   ]
  },
  {
   "cell_type": "code",
   "execution_count": 99,
   "id": "66d9a5ae",
   "metadata": {
    "collapsed": false,
    "jupyter": {
     "outputs_hidden": false
    },
    "pycharm": {
     "name": "#%%\n"
    },
    "tags": []
   },
   "outputs": [
    {
     "data": {
      "application/vnd.vegalite.v4+json": {
       "$schema": "https://vega.github.io/schema/vega-lite/v4.17.0.json",
       "config": {
        "view": {
         "continuousHeight": 300,
         "continuousWidth": 400
        }
       },
       "data": {
        "name": "data-983fd4a0b346be762802282aadc3c3e4"
       },
       "datasets": {
        "data-983fd4a0b346be762802282aadc3c3e4": [
         {
          "data_sensitivity": 4,
          "date": "2021-09-01T00:00:00",
          "index": 1,
          "method": "hacked",
          "organisation": "Syniverse",
          "records_lost": 500000000,
          "sector": "telecoms",
          "source_name": "Vice",
          "year": 2021
         },
         {
          "data_sensitivity": 2,
          "date": "2021-09-01T00:00:00",
          "index": 5,
          "method": "poor security",
          "organisation": "Thailand visitors",
          "records_lost": 100000000,
          "sector": "government",
          "source_name": "South China Morning Post",
          "year": 2021
         },
         {
          "data_sensitivity": 1,
          "date": "2021-07-01T00:00:00",
          "index": 10,
          "method": "hacked",
          "organisation": "Linkedin",
          "records_lost": 700000000,
          "sector": "web",
          "source_name": "9 to 5 mac",
          "year": 2021
         },
         {
          "data_sensitivity": 2,
          "date": "2021-02-01T00:00:00",
          "index": 21,
          "method": "hacked",
          "organisation": "Experian Brazil",
          "records_lost": 220000000,
          "sector": "finance",
          "source_name": "ZDNet",
          "year": 2021
         },
         {
          "data_sensitivity": 1,
          "date": "2021-03-01T00:00:00",
          "index": 24,
          "method": "hacked",
          "organisation": "Facebook",
          "records_lost": 533000000,
          "sector": "tech",
          "source_name": "Business Insider",
          "year": 2021
         },
         {
          "data_sensitivity": 3,
          "date": "2020-12-01T00:00:00",
          "index": 28,
          "method": "hacked",
          "organisation": "SolarWinds",
          "records_lost": 50000000,
          "sector": "app",
          "source_name": "New York Times",
          "year": 2020
         },
         {
          "data_sensitivity": 2,
          "date": "2020-04-01T00:00:00",
          "index": 37,
          "method": "hacked",
          "organisation": "Pakistani mobile operators",
          "records_lost": 115000000,
          "sector": "telecoms",
          "source_name": "ZDNet",
          "year": 2020
         },
         {
          "data_sensitivity": 1,
          "date": "2020-01-01T00:00:00",
          "index": 41,
          "method": "poor security",
          "organisation": "Microsoft",
          "records_lost": 250000000,
          "sector": "web",
          "source_name": "Forbes",
          "year": 2020
         },
         {
          "data_sensitivity": 2,
          "date": "2019-05-01T00:00:00",
          "index": 56,
          "method": "hacked",
          "organisation": "Canva",
          "records_lost": 139000000,
          "sector": "web",
          "source_name": "ZDNet",
          "year": 2019
         },
         {
          "data_sensitivity": 1,
          "date": "2019-05-01T00:00:00",
          "index": 57,
          "method": "poor security",
          "organisation": "Chtrbox",
          "records_lost": 49000000,
          "sector": "misc",
          "source_name": "Techcrunch",
          "year": 2019
         },
         {
          "data_sensitivity": 1,
          "date": "2019-02-01T00:00:00",
          "index": 62,
          "method": "hacked",
          "organisation": "Dubsmash",
          "records_lost": 162000000,
          "sector": "web",
          "source_name": "The Register",
          "year": 2019
         },
         {
          "data_sensitivity": 1,
          "date": "2019-02-01T00:00:00",
          "index": 63,
          "method": "hacked",
          "organisation": "ShareThis",
          "records_lost": 41000000,
          "sector": "web",
          "source_name": "The Register",
          "year": 2019
         },
         {
          "data_sensitivity": 2,
          "date": "2019-02-01T00:00:00",
          "index": 77,
          "method": "hacked",
          "organisation": "Houzz",
          "records_lost": 57000000,
          "sector": "retail",
          "source_name": "Techcrunch",
          "year": 2019
         },
         {
          "data_sensitivity": 2,
          "date": "2019-05-01T00:00:00",
          "index": 86,
          "method": "poor security",
          "organisation": "Indian citizens",
          "records_lost": 275265298,
          "sector": "web",
          "source_name": "Bleeping Computer",
          "year": 2019
         },
         {
          "data_sensitivity": 3,
          "date": "2019-07-01T00:00:00",
          "index": 88,
          "method": "hacked",
          "organisation": "Capital One",
          "records_lost": 100000000,
          "sector": "finance",
          "source_name": "Forbes",
          "year": 2019
         },
         {
          "data_sensitivity": 2,
          "date": "2019-09-01T00:00:00",
          "index": 90,
          "method": "poor security",
          "organisation": "Facebook",
          "records_lost": 419000000,
          "sector": "web",
          "source_name": "Fast Company",
          "year": 2019
         },
         {
          "data_sensitivity": 2,
          "date": "2019-11-01T00:00:00",
          "index": 93,
          "method": "poor security",
          "organisation": "OxyData",
          "records_lost": 380000000,
          "sector": "tech",
          "source_name": "Dataviper",
          "year": 2019
         },
         {
          "data_sensitivity": 3,
          "date": "2018-10-01T00:00:00",
          "index": 97,
          "method": "hacked",
          "organisation": "Cathay Pacific Airways",
          "records_lost": 94000000,
          "sector": "transport",
          "source_name": "ABC News",
          "year": 2018
         },
         {
          "data_sensitivity": 2,
          "date": "2018-12-01T00:00:00",
          "index": 98,
          "method": "poor security",
          "organisation": "Chinese resume leak",
          "records_lost": 202000000,
          "sector": "web",
          "source_name": "HackenProof",
          "year": 2018
         },
         {
          "data_sensitivity": 2,
          "date": "2018-12-01T00:00:00",
          "index": 99,
          "method": "poor security",
          "organisation": "Google+",
          "records_lost": 52500000,
          "sector": "web",
          "source_name": "The Verge",
          "year": 2018
         },
         {
          "data_sensitivity": 1,
          "date": "2018-12-01T00:00:00",
          "index": 100,
          "method": "hacked",
          "organisation": "Quora",
          "records_lost": 100000000,
          "sector": "web",
          "source_name": "NY Times",
          "year": 2018
         },
         {
          "data_sensitivity": 3,
          "date": "2018-11-01T00:00:00",
          "index": 101,
          "method": "hacked",
          "organisation": "Marriott International",
          "records_lost": 383000000,
          "sector": "retail",
          "source_name": "NY Times, CNET",
          "year": 2018
         },
         {
          "data_sensitivity": 1,
          "date": "2018-03-01T00:00:00",
          "index": 103,
          "method": "hacked",
          "organisation": "Facebook",
          "records_lost": 50000000,
          "sector": "web",
          "source_name": "Guardian",
          "year": 2018
         },
         {
          "data_sensitivity": 1,
          "date": "2018-06-01T00:00:00",
          "index": 106,
          "method": "hacked",
          "organisation": "MyHeritage",
          "records_lost": 92283889,
          "sector": "web",
          "source_name": "Bloomberg",
          "year": 2018
         },
         {
          "data_sensitivity": 1,
          "date": "2018-03-01T00:00:00",
          "index": 112,
          "method": "hacked",
          "organisation": "MyFitnessPal",
          "records_lost": 150000000,
          "sector": "app",
          "source_name": "Guardian",
          "year": 2018
         },
         {
          "data_sensitivity": 1,
          "date": "2018-06-01T00:00:00",
          "index": 114,
          "method": "poor security",
          "organisation": "Nametests",
          "records_lost": 120000000,
          "sector": "app",
          "source_name": "Medium",
          "year": 2018
         },
         {
          "data_sensitivity": 5,
          "date": "2018-06-01T00:00:00",
          "index": 116,
          "method": "poor security",
          "organisation": "Firebase",
          "records_lost": 100000000,
          "sector": "app",
          "source_name": "Bleeping Computer",
          "year": 2018
         },
         {
          "data_sensitivity": 4,
          "date": "2018-03-01T00:00:00",
          "index": 117,
          "method": "poor security",
          "organisation": "Aadhaar",
          "records_lost": 550000000,
          "sector": "government",
          "source_name": "ZDNet",
          "year": 2018
         },
         {
          "data_sensitivity": 2,
          "date": "2018-05-01T00:00:00",
          "index": 121,
          "method": "poor security",
          "organisation": "LocalBlox",
          "records_lost": 48000000,
          "sector": "web",
          "source_name": "UpGuard",
          "year": 2018
         },
         {
          "data_sensitivity": 1,
          "date": "2018-05-01T00:00:00",
          "index": 122,
          "method": "poor security",
          "organisation": "Twitter",
          "records_lost": 330000000,
          "sector": "tech",
          "source_name": "Reuters",
          "year": 2018
         },
         {
          "data_sensitivity": 3,
          "date": "2018-09-01T00:00:00",
          "index": 133,
          "method": "hacked",
          "organisation": "Newegg",
          "records_lost": 45000000,
          "sector": "retail",
          "source_name": "TechCrunch",
          "year": 2018
         },
         {
          "data_sensitivity": 1,
          "date": "2018-05-01T00:00:00",
          "index": 135,
          "method": "poor security",
          "organisation": "Apollo",
          "records_lost": 200000000,
          "sector": "tech",
          "source_name": "Wired",
          "year": 2018
         },
         {
          "data_sensitivity": 1,
          "date": "2017-11-01T00:00:00",
          "index": 139,
          "method": "hacked",
          "organisation": "Uber",
          "records_lost": 57000000,
          "sector": "app",
          "source_name": "Bloomberg",
          "year": 2017
         },
         {
          "data_sensitivity": 4,
          "date": "2017-08-01T00:00:00",
          "index": 142,
          "method": "poor security",
          "organisation": "Spambot",
          "records_lost": 520000000,
          "sector": "web",
          "source_name": "The Guardian",
          "year": 2017
         },
         {
          "data_sensitivity": 2,
          "date": "2017-03-01T00:00:00",
          "index": 149,
          "method": "oops!",
          "organisation": "River City Media",
          "records_lost": 340000000,
          "sector": "web",
          "source_name": "Guardian",
          "year": 2017
         },
         {
          "data_sensitivity": 4,
          "date": "2017-10-01T00:00:00",
          "index": 155,
          "method": "hacked",
          "organisation": "Malaysian telcos & MVNOs",
          "records_lost": 46200000,
          "sector": "telecoms",
          "source_name": "LowYat",
          "year": 2017
         },
         {
          "data_sensitivity": 4,
          "date": "2017-09-01T00:00:00",
          "index": 159,
          "method": "hacked",
          "organisation": "Equifax",
          "records_lost": 143000000,
          "sector": "finance",
          "source_name": "UK Gov",
          "year": 2017
         },
         {
          "data_sensitivity": 1,
          "date": "2016-05-01T00:00:00",
          "index": 161,
          "method": "hacked",
          "organisation": "LinkedIn",
          "records_lost": 117000000,
          "sector": "web",
          "source_name": "CNN",
          "year": 2016
         },
         {
          "data_sensitivity": 1,
          "date": "2016-05-01T00:00:00",
          "index": 162,
          "method": "hacked",
          "organisation": "Tumblr",
          "records_lost": 65000000,
          "sector": "web",
          "source_name": "Vice",
          "year": 2016
         },
         {
          "data_sensitivity": 2,
          "date": "2016-09-01T00:00:00",
          "index": 163,
          "method": "hacked",
          "organisation": "Yahoo",
          "records_lost": 500000000,
          "sector": "web",
          "source_name": "CNBC",
          "year": 2016
         },
         {
          "data_sensitivity": 5,
          "date": "2016-04-01T00:00:00",
          "index": 165,
          "method": "hacked",
          "organisation": "Philippines’ Commission on Elections",
          "records_lost": 55000000,
          "sector": "government",
          "source_name": "Trend Micro",
          "year": 2016
         },
         {
          "data_sensitivity": 2,
          "date": "2016-04-01T00:00:00",
          "index": 168,
          "method": "hacked",
          "organisation": "Turkish citizenship database",
          "records_lost": 49611709,
          "sector": "government",
          "source_name": "Business Insider",
          "year": 2016
         },
         {
          "data_sensitivity": 4,
          "date": "2016-06-01T00:00:00",
          "index": 179,
          "method": "hacked",
          "organisation": "VK",
          "records_lost": 171000000,
          "sector": "web",
          "source_name": "Motherboard",
          "year": 2016
         },
         {
          "data_sensitivity": 1,
          "date": "2016-05-01T00:00:00",
          "index": 182,
          "method": "hacked",
          "organisation": "MySpace",
          "records_lost": 164000000,
          "sector": "web",
          "source_name": "Vice",
          "year": 2016
         },
         {
          "data_sensitivity": 1,
          "date": "2016-12-01T00:00:00",
          "index": 186,
          "method": "hacked",
          "organisation": "Dailymotion",
          "records_lost": 85200000,
          "sector": "web",
          "source_name": "ZDNet",
          "year": 2016
         },
         {
          "data_sensitivity": 4,
          "date": "2016-10-01T00:00:00",
          "index": 187,
          "method": "hacked",
          "organisation": "Weebly",
          "records_lost": 43000000,
          "sector": "web",
          "source_name": "Tech Crunch",
          "year": 2016
         },
         {
          "data_sensitivity": 1,
          "date": "2016-11-01T00:00:00",
          "index": 190,
          "method": "hacked",
          "organisation": "Friend Finder Network",
          "records_lost": 412000000,
          "sector": "web",
          "source_name": "ZDNet",
          "year": 2016
         },
         {
          "data_sensitivity": 2,
          "date": "2015-12-01T00:00:00",
          "index": 197,
          "method": "poor security",
          "organisation": "Deep Root Analytics",
          "records_lost": 198000000,
          "sector": "web",
          "source_name": "Reuters, UpGuard",
          "year": 2015
         },
         {
          "data_sensitivity": 5,
          "date": "2015-11-01T00:00:00",
          "index": 210,
          "method": "hacked",
          "organisation": "Securus Technologies",
          "records_lost": 70000000,
          "sector": "web",
          "source_name": "The Intercept",
          "year": 2015
         },
         {
          "data_sensitivity": 2,
          "date": "2015-02-01T00:00:00",
          "index": 216,
          "method": "hacked",
          "organisation": "Anthem ",
          "records_lost": 80000000,
          "sector": "health",
          "source_name": "NYTimes",
          "year": 2015
         },
         {
          "data_sensitivity": 1,
          "date": "2014-05-01T00:00:00",
          "index": 224,
          "method": "hacked",
          "organisation": "Ebay",
          "records_lost": 145000000,
          "sector": "web",
          "source_name": "Business Insider",
          "year": 2014
         },
         {
          "data_sensitivity": 3,
          "date": "2014-10-01T00:00:00",
          "index": 227,
          "method": "hacked",
          "organisation": "JP Morgan Chase",
          "records_lost": 76000000,
          "sector": "finance",
          "source_name": "Deal Book",
          "year": 2014
         },
         {
          "data_sensitivity": 3,
          "date": "2014-09-01T00:00:00",
          "index": 233,
          "method": "hacked",
          "organisation": "Home Depot",
          "records_lost": 56000000,
          "sector": "retail",
          "source_name": "Krebs on Security",
          "year": 2014
         },
         {
          "data_sensitivity": 5,
          "date": "2013-07-01T00:00:00",
          "index": 237,
          "method": "hacked",
          "organisation": "Massive American business hack",
          "records_lost": 160000000,
          "sector": "finance",
          "source_name": "Technology Review",
          "year": 2013
         },
         {
          "data_sensitivity": 1,
          "date": "2013-04-01T00:00:00",
          "index": 242,
          "method": "hacked",
          "organisation": "Living Social",
          "records_lost": 50000000,
          "sector": "web",
          "source_name": "Naked Security, New York Times",
          "year": 2013
         },
         {
          "data_sensitivity": 2,
          "date": "2016-12-01T00:00:00",
          "index": 243,
          "method": "hacked",
          "organisation": "Yahoo",
          "records_lost": 550000000,
          "sector": "web",
          "source_name": "NY Times, BBC",
          "year": 2013
         },
         {
          "data_sensitivity": 2,
          "date": "2013-07-01T00:00:00",
          "index": 254,
          "method": "hacked",
          "organisation": "UbiSoft",
          "records_lost": 58000000,
          "sector": "gaming",
          "source_name": "BBC News",
          "year": 2013
         },
         {
          "data_sensitivity": 1,
          "date": "2013-03-01T00:00:00",
          "index": 259,
          "method": "hacked",
          "organisation": "Evernote",
          "records_lost": 50000000,
          "sector": "web",
          "source_name": "Wired, Digital Trends",
          "year": 2013
         },
         {
          "data_sensitivity": 2,
          "date": "2013-10-01T00:00:00",
          "index": 266,
          "method": "inside job",
          "organisation": "Court Ventures",
          "records_lost": 200000000,
          "sector": "finance",
          "source_name": "NY Times, Gov Tech",
          "year": 2013
         },
         {
          "data_sensitivity": 3,
          "date": "2013-12-01T00:00:00",
          "index": 271,
          "method": "hacked",
          "organisation": "Target",
          "records_lost": 70000000,
          "sector": "retail",
          "source_name": "Huffington Post",
          "year": 2013
         },
         {
          "data_sensitivity": 1,
          "date": "2016-09-01T00:00:00",
          "index": 287,
          "method": "hacked",
          "organisation": "Last.fm",
          "records_lost": 43500000,
          "sector": "web",
          "source_name": "ZD Net",
          "year": 2012
         },
         {
          "data_sensitivity": 1,
          "date": "2016-08-01T00:00:00",
          "index": 294,
          "method": "hacked",
          "organisation": "Dropbox",
          "records_lost": 68700000,
          "sector": "web",
          "source_name": "The Telegraph",
          "year": 2012
         },
         {
          "data_sensitivity": 1,
          "date": "2011-04-01T00:00:00",
          "index": 304,
          "method": "hacked",
          "organisation": "Sony PSN",
          "records_lost": 77000000,
          "sector": "gaming",
          "source_name": "Mashable",
          "year": 2011
         },
         {
          "data_sensitivity": 3,
          "date": "2009-01-01T00:00:00",
          "index": 345,
          "method": "hacked",
          "organisation": "Heartland",
          "records_lost": 130000000,
          "sector": "finance",
          "source_name": "Dark Reading",
          "year": 2009
         },
         {
          "data_sensitivity": 2,
          "date": "2009-10-01T00:00:00",
          "index": 353,
          "method": "lost device ",
          "organisation": "US Military",
          "records_lost": 76000000,
          "sector": "military",
          "source_name": "Wired",
          "year": 2009
         },
         {
          "data_sensitivity": 3,
          "date": "2007-03-01T00:00:00",
          "index": 379,
          "method": "hacked",
          "organisation": "TK / TJ Maxx",
          "records_lost": 94000000,
          "sector": "retail",
          "source_name": "ZD Net",
          "year": 2007
         },
         {
          "data_sensitivity": 1,
          "date": "2004-06-01T00:00:00",
          "index": 391,
          "method": "inside job",
          "organisation": "AOL",
          "records_lost": 92000000,
          "sector": "web",
          "source_name": "CNN",
          "year": 2004
         }
        ]
       },
       "encoding": {
        "x": {
         "aggregate": "sum",
         "field": "records_lost",
         "type": "quantitative"
        },
        "y": {
         "field": "method",
         "sort": "-x",
         "type": "nominal"
        }
       },
       "mark": "bar"
      },
      "image/png": "[encoded data removed]",
      "text/plain": [
       "<VegaLite 4 object>\n",
       "\n",
       "If you see this message, it means the renderer has not been properly enabled\n",
       "for the frontend that you are using. For more information, see\n",
       "https://altair-viz.github.io/user_guide/troubleshooting.html\n"
      ]
     },
     "execution_count": 99,
     "metadata": {},
     "output_type": "execute_result"
    }
   ],
   "source": [
    "bar_method_records_lost = src.mark_bar().encode(\n",
    "    x = \"sum(records_lost)\",\n",
    "    y = alt.Y(\"method\", sort = \"-x\")             \n",
    ")\n",
    "\n",
    "# Show the plot\n",
    "bar_method_records_lost"
   ]
  },
  {
   "cell_type": "code",
   "execution_count": 100,
   "id": "55885ffa",
   "metadata": {
    "deletable": false,
    "editable": false
   },
   "outputs": [
    {
     "data": {
      "text/html": [
       "<p><strong><pre style='display: inline;'>q7</pre></strong> passed! 🎉</p><p><strong><pre style='display: inline;'>q7 - 1</pre> message:</strong> All your variables have the expected name and type</p>"
      ],
      "text/plain": [
       "q7 results: All test cases passed!\n",
       "q7 - 1 message: All your variables have the expected name and type"
      ]
     },
     "execution_count": 100,
     "metadata": {},
     "output_type": "execute_result"
    }
   ],
   "source": [
    "grader.check(\"q7\")"
   ]
  },
  {
   "cell_type": "markdown",
   "id": "cffb4ff0",
   "metadata": {
    "pycharm": {
     "name": "#%% md\n"
    }
   },
   "source": [
    "### Question 8\n",
    "\n",
    "<div class=\"alert alert-info\" style=\"color:black\">\n",
    "\n",
    "Next, let's use a **normalized** stacked bar to get a sense of the sensitivity distribution for each method.\n",
    "Create a stacked bar chart with\n",
    "1. The sum of records lost encoded on the x-axis\n",
    "2. The method on the y-axis\n",
    "3. Sensitivity on the color channel\n",
    "</div>\n",
    "\n",
    "_Points:_ 12"
   ]
  },
  {
   "cell_type": "markdown",
   "id": "876ce674-f9be-42e6-abea-ff9409bbe8c6",
   "metadata": {},
   "source": [
    "# CHECK THIS NORMALIZED ????"
   ]
  },
  {
   "cell_type": "code",
   "execution_count": 117,
   "id": "83f59d80",
   "metadata": {
    "collapsed": false,
    "jupyter": {
     "outputs_hidden": false
    },
    "pycharm": {
     "name": "#%%\n"
    },
    "tags": []
   },
   "outputs": [
    {
     "data": {
      "application/vnd.vegalite.v4+json": {
       "$schema": "https://vega.github.io/schema/vega-lite/v4.17.0.json",
       "config": {
        "view": {
         "continuousHeight": 300,
         "continuousWidth": 400
        }
       },
       "data": {
        "name": "data-983fd4a0b346be762802282aadc3c3e4"
       },
       "datasets": {
        "data-983fd4a0b346be762802282aadc3c3e4": [
         {
          "data_sensitivity": 4,
          "date": "2021-09-01T00:00:00",
          "index": 1,
          "method": "hacked",
          "organisation": "Syniverse",
          "records_lost": 500000000,
          "sector": "telecoms",
          "source_name": "Vice",
          "year": 2021
         },
         {
          "data_sensitivity": 2,
          "date": "2021-09-01T00:00:00",
          "index": 5,
          "method": "poor security",
          "organisation": "Thailand visitors",
          "records_lost": 100000000,
          "sector": "government",
          "source_name": "South China Morning Post",
          "year": 2021
         },
         {
          "data_sensitivity": 1,
          "date": "2021-07-01T00:00:00",
          "index": 10,
          "method": "hacked",
          "organisation": "Linkedin",
          "records_lost": 700000000,
          "sector": "web",
          "source_name": "9 to 5 mac",
          "year": 2021
         },
         {
          "data_sensitivity": 2,
          "date": "2021-02-01T00:00:00",
          "index": 21,
          "method": "hacked",
          "organisation": "Experian Brazil",
          "records_lost": 220000000,
          "sector": "finance",
          "source_name": "ZDNet",
          "year": 2021
         },
         {
          "data_sensitivity": 1,
          "date": "2021-03-01T00:00:00",
          "index": 24,
          "method": "hacked",
          "organisation": "Facebook",
          "records_lost": 533000000,
          "sector": "tech",
          "source_name": "Business Insider",
          "year": 2021
         },
         {
          "data_sensitivity": 3,
          "date": "2020-12-01T00:00:00",
          "index": 28,
          "method": "hacked",
          "organisation": "SolarWinds",
          "records_lost": 50000000,
          "sector": "app",
          "source_name": "New York Times",
          "year": 2020
         },
         {
          "data_sensitivity": 2,
          "date": "2020-04-01T00:00:00",
          "index": 37,
          "method": "hacked",
          "organisation": "Pakistani mobile operators",
          "records_lost": 115000000,
          "sector": "telecoms",
          "source_name": "ZDNet",
          "year": 2020
         },
         {
          "data_sensitivity": 1,
          "date": "2020-01-01T00:00:00",
          "index": 41,
          "method": "poor security",
          "organisation": "Microsoft",
          "records_lost": 250000000,
          "sector": "web",
          "source_name": "Forbes",
          "year": 2020
         },
         {
          "data_sensitivity": 2,
          "date": "2019-05-01T00:00:00",
          "index": 56,
          "method": "hacked",
          "organisation": "Canva",
          "records_lost": 139000000,
          "sector": "web",
          "source_name": "ZDNet",
          "year": 2019
         },
         {
          "data_sensitivity": 1,
          "date": "2019-05-01T00:00:00",
          "index": 57,
          "method": "poor security",
          "organisation": "Chtrbox",
          "records_lost": 49000000,
          "sector": "misc",
          "source_name": "Techcrunch",
          "year": 2019
         },
         {
          "data_sensitivity": 1,
          "date": "2019-02-01T00:00:00",
          "index": 62,
          "method": "hacked",
          "organisation": "Dubsmash",
          "records_lost": 162000000,
          "sector": "web",
          "source_name": "The Register",
          "year": 2019
         },
         {
          "data_sensitivity": 1,
          "date": "2019-02-01T00:00:00",
          "index": 63,
          "method": "hacked",
          "organisation": "ShareThis",
          "records_lost": 41000000,
          "sector": "web",
          "source_name": "The Register",
          "year": 2019
         },
         {
          "data_sensitivity": 2,
          "date": "2019-02-01T00:00:00",
          "index": 77,
          "method": "hacked",
          "organisation": "Houzz",
          "records_lost": 57000000,
          "sector": "retail",
          "source_name": "Techcrunch",
          "year": 2019
         },
         {
          "data_sensitivity": 2,
          "date": "2019-05-01T00:00:00",
          "index": 86,
          "method": "poor security",
          "organisation": "Indian citizens",
          "records_lost": 275265298,
          "sector": "web",
          "source_name": "Bleeping Computer",
          "year": 2019
         },
         {
          "data_sensitivity": 3,
          "date": "2019-07-01T00:00:00",
          "index": 88,
          "method": "hacked",
          "organisation": "Capital One",
          "records_lost": 100000000,
          "sector": "finance",
          "source_name": "Forbes",
          "year": 2019
         },
         {
          "data_sensitivity": 2,
          "date": "2019-09-01T00:00:00",
          "index": 90,
          "method": "poor security",
          "organisation": "Facebook",
          "records_lost": 419000000,
          "sector": "web",
          "source_name": "Fast Company",
          "year": 2019
         },
         {
          "data_sensitivity": 2,
          "date": "2019-11-01T00:00:00",
          "index": 93,
          "method": "poor security",
          "organisation": "OxyData",
          "records_lost": 380000000,
          "sector": "tech",
          "source_name": "Dataviper",
          "year": 2019
         },
         {
          "data_sensitivity": 3,
          "date": "2018-10-01T00:00:00",
          "index": 97,
          "method": "hacked",
          "organisation": "Cathay Pacific Airways",
          "records_lost": 94000000,
          "sector": "transport",
          "source_name": "ABC News",
          "year": 2018
         },
         {
          "data_sensitivity": 2,
          "date": "2018-12-01T00:00:00",
          "index": 98,
          "method": "poor security",
          "organisation": "Chinese resume leak",
          "records_lost": 202000000,
          "sector": "web",
          "source_name": "HackenProof",
          "year": 2018
         },
         {
          "data_sensitivity": 2,
          "date": "2018-12-01T00:00:00",
          "index": 99,
          "method": "poor security",
          "organisation": "Google+",
          "records_lost": 52500000,
          "sector": "web",
          "source_name": "The Verge",
          "year": 2018
         },
         {
          "data_sensitivity": 1,
          "date": "2018-12-01T00:00:00",
          "index": 100,
          "method": "hacked",
          "organisation": "Quora",
          "records_lost": 100000000,
          "sector": "web",
          "source_name": "NY Times",
          "year": 2018
         },
         {
          "data_sensitivity": 3,
          "date": "2018-11-01T00:00:00",
          "index": 101,
          "method": "hacked",
          "organisation": "Marriott International",
          "records_lost": 383000000,
          "sector": "retail",
          "source_name": "NY Times, CNET",
          "year": 2018
         },
         {
          "data_sensitivity": 1,
          "date": "2018-03-01T00:00:00",
          "index": 103,
          "method": "hacked",
          "organisation": "Facebook",
          "records_lost": 50000000,
          "sector": "web",
          "source_name": "Guardian",
          "year": 2018
         },
         {
          "data_sensitivity": 1,
          "date": "2018-06-01T00:00:00",
          "index": 106,
          "method": "hacked",
          "organisation": "MyHeritage",
          "records_lost": 92283889,
          "sector": "web",
          "source_name": "Bloomberg",
          "year": 2018
         },
         {
          "data_sensitivity": 1,
          "date": "2018-03-01T00:00:00",
          "index": 112,
          "method": "hacked",
          "organisation": "MyFitnessPal",
          "records_lost": 150000000,
          "sector": "app",
          "source_name": "Guardian",
          "year": 2018
         },
         {
          "data_sensitivity": 1,
          "date": "2018-06-01T00:00:00",
          "index": 114,
          "method": "poor security",
          "organisation": "Nametests",
          "records_lost": 120000000,
          "sector": "app",
          "source_name": "Medium",
          "year": 2018
         },
         {
          "data_sensitivity": 5,
          "date": "2018-06-01T00:00:00",
          "index": 116,
          "method": "poor security",
          "organisation": "Firebase",
          "records_lost": 100000000,
          "sector": "app",
          "source_name": "Bleeping Computer",
          "year": 2018
         },
         {
          "data_sensitivity": 4,
          "date": "2018-03-01T00:00:00",
          "index": 117,
          "method": "poor security",
          "organisation": "Aadhaar",
          "records_lost": 550000000,
          "sector": "government",
          "source_name": "ZDNet",
          "year": 2018
         },
         {
          "data_sensitivity": 2,
          "date": "2018-05-01T00:00:00",
          "index": 121,
          "method": "poor security",
          "organisation": "LocalBlox",
          "records_lost": 48000000,
          "sector": "web",
          "source_name": "UpGuard",
          "year": 2018
         },
         {
          "data_sensitivity": 1,
          "date": "2018-05-01T00:00:00",
          "index": 122,
          "method": "poor security",
          "organisation": "Twitter",
          "records_lost": 330000000,
          "sector": "tech",
          "source_name": "Reuters",
          "year": 2018
         },
         {
          "data_sensitivity": 3,
          "date": "2018-09-01T00:00:00",
          "index": 133,
          "method": "hacked",
          "organisation": "Newegg",
          "records_lost": 45000000,
          "sector": "retail",
          "source_name": "TechCrunch",
          "year": 2018
         },
         {
          "data_sensitivity": 1,
          "date": "2018-05-01T00:00:00",
          "index": 135,
          "method": "poor security",
          "organisation": "Apollo",
          "records_lost": 200000000,
          "sector": "tech",
          "source_name": "Wired",
          "year": 2018
         },
         {
          "data_sensitivity": 1,
          "date": "2017-11-01T00:00:00",
          "index": 139,
          "method": "hacked",
          "organisation": "Uber",
          "records_lost": 57000000,
          "sector": "app",
          "source_name": "Bloomberg",
          "year": 2017
         },
         {
          "data_sensitivity": 4,
          "date": "2017-08-01T00:00:00",
          "index": 142,
          "method": "poor security",
          "organisation": "Spambot",
          "records_lost": 520000000,
          "sector": "web",
          "source_name": "The Guardian",
          "year": 2017
         },
         {
          "data_sensitivity": 2,
          "date": "2017-03-01T00:00:00",
          "index": 149,
          "method": "oops!",
          "organisation": "River City Media",
          "records_lost": 340000000,
          "sector": "web",
          "source_name": "Guardian",
          "year": 2017
         },
         {
          "data_sensitivity": 4,
          "date": "2017-10-01T00:00:00",
          "index": 155,
          "method": "hacked",
          "organisation": "Malaysian telcos & MVNOs",
          "records_lost": 46200000,
          "sector": "telecoms",
          "source_name": "LowYat",
          "year": 2017
         },
         {
          "data_sensitivity": 4,
          "date": "2017-09-01T00:00:00",
          "index": 159,
          "method": "hacked",
          "organisation": "Equifax",
          "records_lost": 143000000,
          "sector": "finance",
          "source_name": "UK Gov",
          "year": 2017
         },
         {
          "data_sensitivity": 1,
          "date": "2016-05-01T00:00:00",
          "index": 161,
          "method": "hacked",
          "organisation": "LinkedIn",
          "records_lost": 117000000,
          "sector": "web",
          "source_name": "CNN",
          "year": 2016
         },
         {
          "data_sensitivity": 1,
          "date": "2016-05-01T00:00:00",
          "index": 162,
          "method": "hacked",
          "organisation": "Tumblr",
          "records_lost": 65000000,
          "sector": "web",
          "source_name": "Vice",
          "year": 2016
         },
         {
          "data_sensitivity": 2,
          "date": "2016-09-01T00:00:00",
          "index": 163,
          "method": "hacked",
          "organisation": "Yahoo",
          "records_lost": 500000000,
          "sector": "web",
          "source_name": "CNBC",
          "year": 2016
         },
         {
          "data_sensitivity": 5,
          "date": "2016-04-01T00:00:00",
          "index": 165,
          "method": "hacked",
          "organisation": "Philippines’ Commission on Elections",
          "records_lost": 55000000,
          "sector": "government",
          "source_name": "Trend Micro",
          "year": 2016
         },
         {
          "data_sensitivity": 2,
          "date": "2016-04-01T00:00:00",
          "index": 168,
          "method": "hacked",
          "organisation": "Turkish citizenship database",
          "records_lost": 49611709,
          "sector": "government",
          "source_name": "Business Insider",
          "year": 2016
         },
         {
          "data_sensitivity": 4,
          "date": "2016-06-01T00:00:00",
          "index": 179,
          "method": "hacked",
          "organisation": "VK",
          "records_lost": 171000000,
          "sector": "web",
          "source_name": "Motherboard",
          "year": 2016
         },
         {
          "data_sensitivity": 1,
          "date": "2016-05-01T00:00:00",
          "index": 182,
          "method": "hacked",
          "organisation": "MySpace",
          "records_lost": 164000000,
          "sector": "web",
          "source_name": "Vice",
          "year": 2016
         },
         {
          "data_sensitivity": 1,
          "date": "2016-12-01T00:00:00",
          "index": 186,
          "method": "hacked",
          "organisation": "Dailymotion",
          "records_lost": 85200000,
          "sector": "web",
          "source_name": "ZDNet",
          "year": 2016
         },
         {
          "data_sensitivity": 4,
          "date": "2016-10-01T00:00:00",
          "index": 187,
          "method": "hacked",
          "organisation": "Weebly",
          "records_lost": 43000000,
          "sector": "web",
          "source_name": "Tech Crunch",
          "year": 2016
         },
         {
          "data_sensitivity": 1,
          "date": "2016-11-01T00:00:00",
          "index": 190,
          "method": "hacked",
          "organisation": "Friend Finder Network",
          "records_lost": 412000000,
          "sector": "web",
          "source_name": "ZDNet",
          "year": 2016
         },
         {
          "data_sensitivity": 2,
          "date": "2015-12-01T00:00:00",
          "index": 197,
          "method": "poor security",
          "organisation": "Deep Root Analytics",
          "records_lost": 198000000,
          "sector": "web",
          "source_name": "Reuters, UpGuard",
          "year": 2015
         },
         {
          "data_sensitivity": 5,
          "date": "2015-11-01T00:00:00",
          "index": 210,
          "method": "hacked",
          "organisation": "Securus Technologies",
          "records_lost": 70000000,
          "sector": "web",
          "source_name": "The Intercept",
          "year": 2015
         },
         {
          "data_sensitivity": 2,
          "date": "2015-02-01T00:00:00",
          "index": 216,
          "method": "hacked",
          "organisation": "Anthem ",
          "records_lost": 80000000,
          "sector": "health",
          "source_name": "NYTimes",
          "year": 2015
         },
         {
          "data_sensitivity": 1,
          "date": "2014-05-01T00:00:00",
          "index": 224,
          "method": "hacked",
          "organisation": "Ebay",
          "records_lost": 145000000,
          "sector": "web",
          "source_name": "Business Insider",
          "year": 2014
         },
         {
          "data_sensitivity": 3,
          "date": "2014-10-01T00:00:00",
          "index": 227,
          "method": "hacked",
          "organisation": "JP Morgan Chase",
          "records_lost": 76000000,
          "sector": "finance",
          "source_name": "Deal Book",
          "year": 2014
         },
         {
          "data_sensitivity": 3,
          "date": "2014-09-01T00:00:00",
          "index": 233,
          "method": "hacked",
          "organisation": "Home Depot",
          "records_lost": 56000000,
          "sector": "retail",
          "source_name": "Krebs on Security",
          "year": 2014
         },
         {
          "data_sensitivity": 5,
          "date": "2013-07-01T00:00:00",
          "index": 237,
          "method": "hacked",
          "organisation": "Massive American business hack",
          "records_lost": 160000000,
          "sector": "finance",
          "source_name": "Technology Review",
          "year": 2013
         },
         {
          "data_sensitivity": 1,
          "date": "2013-04-01T00:00:00",
          "index": 242,
          "method": "hacked",
          "organisation": "Living Social",
          "records_lost": 50000000,
          "sector": "web",
          "source_name": "Naked Security, New York Times",
          "year": 2013
         },
         {
          "data_sensitivity": 2,
          "date": "2016-12-01T00:00:00",
          "index": 243,
          "method": "hacked",
          "organisation": "Yahoo",
          "records_lost": 550000000,
          "sector": "web",
          "source_name": "NY Times, BBC",
          "year": 2013
         },
         {
          "data_sensitivity": 2,
          "date": "2013-07-01T00:00:00",
          "index": 254,
          "method": "hacked",
          "organisation": "UbiSoft",
          "records_lost": 58000000,
          "sector": "gaming",
          "source_name": "BBC News",
          "year": 2013
         },
         {
          "data_sensitivity": 1,
          "date": "2013-03-01T00:00:00",
          "index": 259,
          "method": "hacked",
          "organisation": "Evernote",
          "records_lost": 50000000,
          "sector": "web",
          "source_name": "Wired, Digital Trends",
          "year": 2013
         },
         {
          "data_sensitivity": 2,
          "date": "2013-10-01T00:00:00",
          "index": 266,
          "method": "inside job",
          "organisation": "Court Ventures",
          "records_lost": 200000000,
          "sector": "finance",
          "source_name": "NY Times, Gov Tech",
          "year": 2013
         },
         {
          "data_sensitivity": 3,
          "date": "2013-12-01T00:00:00",
          "index": 271,
          "method": "hacked",
          "organisation": "Target",
          "records_lost": 70000000,
          "sector": "retail",
          "source_name": "Huffington Post",
          "year": 2013
         },
         {
          "data_sensitivity": 1,
          "date": "2016-09-01T00:00:00",
          "index": 287,
          "method": "hacked",
          "organisation": "Last.fm",
          "records_lost": 43500000,
          "sector": "web",
          "source_name": "ZD Net",
          "year": 2012
         },
         {
          "data_sensitivity": 1,
          "date": "2016-08-01T00:00:00",
          "index": 294,
          "method": "hacked",
          "organisation": "Dropbox",
          "records_lost": 68700000,
          "sector": "web",
          "source_name": "The Telegraph",
          "year": 2012
         },
         {
          "data_sensitivity": 1,
          "date": "2011-04-01T00:00:00",
          "index": 304,
          "method": "hacked",
          "organisation": "Sony PSN",
          "records_lost": 77000000,
          "sector": "gaming",
          "source_name": "Mashable",
          "year": 2011
         },
         {
          "data_sensitivity": 3,
          "date": "2009-01-01T00:00:00",
          "index": 345,
          "method": "hacked",
          "organisation": "Heartland",
          "records_lost": 130000000,
          "sector": "finance",
          "source_name": "Dark Reading",
          "year": 2009
         },
         {
          "data_sensitivity": 2,
          "date": "2009-10-01T00:00:00",
          "index": 353,
          "method": "lost device ",
          "organisation": "US Military",
          "records_lost": 76000000,
          "sector": "military",
          "source_name": "Wired",
          "year": 2009
         },
         {
          "data_sensitivity": 3,
          "date": "2007-03-01T00:00:00",
          "index": 379,
          "method": "hacked",
          "organisation": "TK / TJ Maxx",
          "records_lost": 94000000,
          "sector": "retail",
          "source_name": "ZD Net",
          "year": 2007
         },
         {
          "data_sensitivity": 1,
          "date": "2004-06-01T00:00:00",
          "index": 391,
          "method": "inside job",
          "organisation": "AOL",
          "records_lost": 92000000,
          "sector": "web",
          "source_name": "CNN",
          "year": 2004
         }
        ]
       },
       "encoding": {
        "color": {
         "field": "data_sensitivity",
         "type": "quantitative"
        },
        "x": {
         "aggregate": "sum",
         "field": "records_lost",
         "type": "quantitative"
        },
        "y": {
         "field": "method",
         "stack": "normalize",
         "type": "nominal"
        }
       },
       "mark": "bar"
      },
      "image/png": "[encoded data removed]",
      "text/plain": [
       "<VegaLite 4 object>\n",
       "\n",
       "If you see this message, it means the renderer has not been properly enabled\n",
       "for the frontend that you are using. For more information, see\n",
       "https://altair-viz.github.io/user_guide/troubleshooting.html\n"
      ]
     },
     "execution_count": 117,
     "metadata": {},
     "output_type": "execute_result"
    }
   ],
   "source": [
    "# This question is weird check ^^^^^\n",
    "sbar_method_records_sensitivity = src.mark_bar().encode(\n",
    "    x = \"sum(records_lost)\",\n",
    "    y = alt.Y(\"method\", stack = \"normalize\"),\n",
    "    color = \"data_sensitivity\"\n",
    "\n",
    ")\n",
    "\n",
    "# Show the plot\n",
    "sbar_method_records_sensitivity"
   ]
  },
  {
   "cell_type": "code",
   "execution_count": 118,
   "id": "f6ba97e2",
   "metadata": {
    "deletable": false,
    "editable": false
   },
   "outputs": [
    {
     "data": {
      "text/html": [
       "<p><strong><pre style='display: inline;'>q8</pre></strong> passed! ✨</p><p><strong><pre style='display: inline;'>q8 - 1</pre> message:</strong> All your variables have the expected name and type</p>"
      ],
      "text/plain": [
       "q8 results: All test cases passed!\n",
       "q8 - 1 message: All your variables have the expected name and type"
      ]
     },
     "execution_count": 118,
     "metadata": {},
     "output_type": "execute_result"
    }
   ],
   "source": [
    "grader.check(\"q8\")"
   ]
  },
  {
   "cell_type": "markdown",
   "id": "f36acd77",
   "metadata": {
    "pycharm": {
     "name": "#%% md\n"
    }
   },
   "source": [
    "### Question 9\n",
    "\n",
    "<div class=\"alert alert-info\" style=\"color:black\">\n",
    "\n",
    "You have done alot, let's create one more visualization.\n",
    "Create a scatterplot with using the dataset for the given sectors\n",
    "1. sector encoded on y channel\n",
    "2. method encoded on x channel\n",
    "3. sum of records_lost with size\n",
    "4. data sensitivity with color\n",
    "</div>\n",
    "\n",
    "_Points:_ 8"
   ]
  },
  {
   "cell_type": "code",
   "execution_count": 120,
   "id": "7fa4a768",
   "metadata": {
    "collapsed": false,
    "jupyter": {
     "outputs_hidden": false
    },
    "pycharm": {
     "name": "#%%\n"
    },
    "tags": []
   },
   "outputs": [],
   "source": [
    "# Provided Wrangling\n",
    "sector_list = ['app', 'finance', 'government', 'web', 'military']\n",
    "selected_sectors = breaches.loc[(breaches['sector'].isin(sector_list))]\n"
   ]
  },
  {
   "cell_type": "code",
   "execution_count": 123,
   "id": "58145714",
   "metadata": {
    "collapsed": false,
    "jupyter": {
     "outputs_hidden": false
    },
    "pycharm": {
     "name": "#%%\n"
    },
    "tags": []
   },
   "outputs": [
    {
     "data": {
      "application/vnd.vegalite.v4+json": {
       "$schema": "https://vega.github.io/schema/vega-lite/v4.17.0.json",
       "config": {
        "view": {
         "continuousHeight": 300,
         "continuousWidth": 400
        }
       },
       "data": {
        "name": "data-a80691556cf25235d1b3472870a70d81"
       },
       "datasets": {
        "data-a80691556cf25235d1b3472870a70d81": [
         {
          "data_sensitivity": 2,
          "date": "2021-09-01T00:00:00",
          "index": 5,
          "method": "poor security",
          "organisation": "Thailand visitors",
          "records_lost": 100000000,
          "sector": "government",
          "source_name": "South China Morning Post",
          "year": 2021
         },
         {
          "data_sensitivity": 1,
          "date": "2021-07-01T00:00:00",
          "index": 10,
          "method": "hacked",
          "organisation": "Linkedin",
          "records_lost": 700000000,
          "sector": "web",
          "source_name": "9 to 5 mac",
          "year": 2021
         },
         {
          "data_sensitivity": 2,
          "date": "2021-02-01T00:00:00",
          "index": 21,
          "method": "hacked",
          "organisation": "Experian Brazil",
          "records_lost": 220000000,
          "sector": "finance",
          "source_name": "ZDNet",
          "year": 2021
         },
         {
          "data_sensitivity": 3,
          "date": "2020-12-01T00:00:00",
          "index": 28,
          "method": "hacked",
          "organisation": "SolarWinds",
          "records_lost": 50000000,
          "sector": "app",
          "source_name": "New York Times",
          "year": 2020
         },
         {
          "data_sensitivity": 1,
          "date": "2020-01-01T00:00:00",
          "index": 41,
          "method": "poor security",
          "organisation": "Microsoft",
          "records_lost": 250000000,
          "sector": "web",
          "source_name": "Forbes",
          "year": 2020
         },
         {
          "data_sensitivity": 2,
          "date": "2019-05-01T00:00:00",
          "index": 56,
          "method": "hacked",
          "organisation": "Canva",
          "records_lost": 139000000,
          "sector": "web",
          "source_name": "ZDNet",
          "year": 2019
         },
         {
          "data_sensitivity": 1,
          "date": "2019-02-01T00:00:00",
          "index": 62,
          "method": "hacked",
          "organisation": "Dubsmash",
          "records_lost": 162000000,
          "sector": "web",
          "source_name": "The Register",
          "year": 2019
         },
         {
          "data_sensitivity": 1,
          "date": "2019-02-01T00:00:00",
          "index": 63,
          "method": "hacked",
          "organisation": "ShareThis",
          "records_lost": 41000000,
          "sector": "web",
          "source_name": "The Register",
          "year": 2019
         },
         {
          "data_sensitivity": 2,
          "date": "2019-05-01T00:00:00",
          "index": 86,
          "method": "poor security",
          "organisation": "Indian citizens",
          "records_lost": 275265298,
          "sector": "web",
          "source_name": "Bleeping Computer",
          "year": 2019
         },
         {
          "data_sensitivity": 3,
          "date": "2019-07-01T00:00:00",
          "index": 88,
          "method": "hacked",
          "organisation": "Capital One",
          "records_lost": 100000000,
          "sector": "finance",
          "source_name": "Forbes",
          "year": 2019
         },
         {
          "data_sensitivity": 2,
          "date": "2019-09-01T00:00:00",
          "index": 90,
          "method": "poor security",
          "organisation": "Facebook",
          "records_lost": 419000000,
          "sector": "web",
          "source_name": "Fast Company",
          "year": 2019
         },
         {
          "data_sensitivity": 2,
          "date": "2018-12-01T00:00:00",
          "index": 98,
          "method": "poor security",
          "organisation": "Chinese resume leak",
          "records_lost": 202000000,
          "sector": "web",
          "source_name": "HackenProof",
          "year": 2018
         },
         {
          "data_sensitivity": 2,
          "date": "2018-12-01T00:00:00",
          "index": 99,
          "method": "poor security",
          "organisation": "Google+",
          "records_lost": 52500000,
          "sector": "web",
          "source_name": "The Verge",
          "year": 2018
         },
         {
          "data_sensitivity": 1,
          "date": "2018-12-01T00:00:00",
          "index": 100,
          "method": "hacked",
          "organisation": "Quora",
          "records_lost": 100000000,
          "sector": "web",
          "source_name": "NY Times",
          "year": 2018
         },
         {
          "data_sensitivity": 1,
          "date": "2018-03-01T00:00:00",
          "index": 103,
          "method": "hacked",
          "organisation": "Facebook",
          "records_lost": 50000000,
          "sector": "web",
          "source_name": "Guardian",
          "year": 2018
         },
         {
          "data_sensitivity": 1,
          "date": "2018-06-01T00:00:00",
          "index": 106,
          "method": "hacked",
          "organisation": "MyHeritage",
          "records_lost": 92283889,
          "sector": "web",
          "source_name": "Bloomberg",
          "year": 2018
         },
         {
          "data_sensitivity": 1,
          "date": "2018-03-01T00:00:00",
          "index": 112,
          "method": "hacked",
          "organisation": "MyFitnessPal",
          "records_lost": 150000000,
          "sector": "app",
          "source_name": "Guardian",
          "year": 2018
         },
         {
          "data_sensitivity": 1,
          "date": "2018-06-01T00:00:00",
          "index": 114,
          "method": "poor security",
          "organisation": "Nametests",
          "records_lost": 120000000,
          "sector": "app",
          "source_name": "Medium",
          "year": 2018
         },
         {
          "data_sensitivity": 5,
          "date": "2018-06-01T00:00:00",
          "index": 116,
          "method": "poor security",
          "organisation": "Firebase",
          "records_lost": 100000000,
          "sector": "app",
          "source_name": "Bleeping Computer",
          "year": 2018
         },
         {
          "data_sensitivity": 4,
          "date": "2018-03-01T00:00:00",
          "index": 117,
          "method": "poor security",
          "organisation": "Aadhaar",
          "records_lost": 550000000,
          "sector": "government",
          "source_name": "ZDNet",
          "year": 2018
         },
         {
          "data_sensitivity": 2,
          "date": "2018-05-01T00:00:00",
          "index": 121,
          "method": "poor security",
          "organisation": "LocalBlox",
          "records_lost": 48000000,
          "sector": "web",
          "source_name": "UpGuard",
          "year": 2018
         },
         {
          "data_sensitivity": 1,
          "date": "2017-11-01T00:00:00",
          "index": 139,
          "method": "hacked",
          "organisation": "Uber",
          "records_lost": 57000000,
          "sector": "app",
          "source_name": "Bloomberg",
          "year": 2017
         },
         {
          "data_sensitivity": 4,
          "date": "2017-08-01T00:00:00",
          "index": 142,
          "method": "poor security",
          "organisation": "Spambot",
          "records_lost": 520000000,
          "sector": "web",
          "source_name": "The Guardian",
          "year": 2017
         },
         {
          "data_sensitivity": 2,
          "date": "2017-03-01T00:00:00",
          "index": 149,
          "method": "oops!",
          "organisation": "River City Media",
          "records_lost": 340000000,
          "sector": "web",
          "source_name": "Guardian",
          "year": 2017
         },
         {
          "data_sensitivity": 4,
          "date": "2017-09-01T00:00:00",
          "index": 159,
          "method": "hacked",
          "organisation": "Equifax",
          "records_lost": 143000000,
          "sector": "finance",
          "source_name": "UK Gov",
          "year": 2017
         },
         {
          "data_sensitivity": 1,
          "date": "2016-05-01T00:00:00",
          "index": 161,
          "method": "hacked",
          "organisation": "LinkedIn",
          "records_lost": 117000000,
          "sector": "web",
          "source_name": "CNN",
          "year": 2016
         },
         {
          "data_sensitivity": 1,
          "date": "2016-05-01T00:00:00",
          "index": 162,
          "method": "hacked",
          "organisation": "Tumblr",
          "records_lost": 65000000,
          "sector": "web",
          "source_name": "Vice",
          "year": 2016
         },
         {
          "data_sensitivity": 2,
          "date": "2016-09-01T00:00:00",
          "index": 163,
          "method": "hacked",
          "organisation": "Yahoo",
          "records_lost": 500000000,
          "sector": "web",
          "source_name": "CNBC",
          "year": 2016
         },
         {
          "data_sensitivity": 5,
          "date": "2016-04-01T00:00:00",
          "index": 165,
          "method": "hacked",
          "organisation": "Philippines’ Commission on Elections",
          "records_lost": 55000000,
          "sector": "government",
          "source_name": "Trend Micro",
          "year": 2016
         },
         {
          "data_sensitivity": 2,
          "date": "2016-04-01T00:00:00",
          "index": 168,
          "method": "hacked",
          "organisation": "Turkish citizenship database",
          "records_lost": 49611709,
          "sector": "government",
          "source_name": "Business Insider",
          "year": 2016
         },
         {
          "data_sensitivity": 4,
          "date": "2016-06-01T00:00:00",
          "index": 179,
          "method": "hacked",
          "organisation": "VK",
          "records_lost": 171000000,
          "sector": "web",
          "source_name": "Motherboard",
          "year": 2016
         },
         {
          "data_sensitivity": 1,
          "date": "2016-05-01T00:00:00",
          "index": 182,
          "method": "hacked",
          "organisation": "MySpace",
          "records_lost": 164000000,
          "sector": "web",
          "source_name": "Vice",
          "year": 2016
         },
         {
          "data_sensitivity": 1,
          "date": "2016-12-01T00:00:00",
          "index": 186,
          "method": "hacked",
          "organisation": "Dailymotion",
          "records_lost": 85200000,
          "sector": "web",
          "source_name": "ZDNet",
          "year": 2016
         },
         {
          "data_sensitivity": 4,
          "date": "2016-10-01T00:00:00",
          "index": 187,
          "method": "hacked",
          "organisation": "Weebly",
          "records_lost": 43000000,
          "sector": "web",
          "source_name": "Tech Crunch",
          "year": 2016
         },
         {
          "data_sensitivity": 1,
          "date": "2016-11-01T00:00:00",
          "index": 190,
          "method": "hacked",
          "organisation": "Friend Finder Network",
          "records_lost": 412000000,
          "sector": "web",
          "source_name": "ZDNet",
          "year": 2016
         },
         {
          "data_sensitivity": 2,
          "date": "2015-12-01T00:00:00",
          "index": 197,
          "method": "poor security",
          "organisation": "Deep Root Analytics",
          "records_lost": 198000000,
          "sector": "web",
          "source_name": "Reuters, UpGuard",
          "year": 2015
         },
         {
          "data_sensitivity": 5,
          "date": "2015-11-01T00:00:00",
          "index": 210,
          "method": "hacked",
          "organisation": "Securus Technologies",
          "records_lost": 70000000,
          "sector": "web",
          "source_name": "The Intercept",
          "year": 2015
         },
         {
          "data_sensitivity": 1,
          "date": "2014-05-01T00:00:00",
          "index": 224,
          "method": "hacked",
          "organisation": "Ebay",
          "records_lost": 145000000,
          "sector": "web",
          "source_name": "Business Insider",
          "year": 2014
         },
         {
          "data_sensitivity": 3,
          "date": "2014-10-01T00:00:00",
          "index": 227,
          "method": "hacked",
          "organisation": "JP Morgan Chase",
          "records_lost": 76000000,
          "sector": "finance",
          "source_name": "Deal Book",
          "year": 2014
         },
         {
          "data_sensitivity": 5,
          "date": "2013-07-01T00:00:00",
          "index": 237,
          "method": "hacked",
          "organisation": "Massive American business hack",
          "records_lost": 160000000,
          "sector": "finance",
          "source_name": "Technology Review",
          "year": 2013
         },
         {
          "data_sensitivity": 1,
          "date": "2013-04-01T00:00:00",
          "index": 242,
          "method": "hacked",
          "organisation": "Living Social",
          "records_lost": 50000000,
          "sector": "web",
          "source_name": "Naked Security, New York Times",
          "year": 2013
         },
         {
          "data_sensitivity": 2,
          "date": "2016-12-01T00:00:00",
          "index": 243,
          "method": "hacked",
          "organisation": "Yahoo",
          "records_lost": 550000000,
          "sector": "web",
          "source_name": "NY Times, BBC",
          "year": 2013
         },
         {
          "data_sensitivity": 1,
          "date": "2013-03-01T00:00:00",
          "index": 259,
          "method": "hacked",
          "organisation": "Evernote",
          "records_lost": 50000000,
          "sector": "web",
          "source_name": "Wired, Digital Trends",
          "year": 2013
         },
         {
          "data_sensitivity": 2,
          "date": "2013-10-01T00:00:00",
          "index": 266,
          "method": "inside job",
          "organisation": "Court Ventures",
          "records_lost": 200000000,
          "sector": "finance",
          "source_name": "NY Times, Gov Tech",
          "year": 2013
         },
         {
          "data_sensitivity": 1,
          "date": "2016-09-01T00:00:00",
          "index": 287,
          "method": "hacked",
          "organisation": "Last.fm",
          "records_lost": 43500000,
          "sector": "web",
          "source_name": "ZD Net",
          "year": 2012
         },
         {
          "data_sensitivity": 1,
          "date": "2016-08-01T00:00:00",
          "index": 294,
          "method": "hacked",
          "organisation": "Dropbox",
          "records_lost": 68700000,
          "sector": "web",
          "source_name": "The Telegraph",
          "year": 2012
         },
         {
          "data_sensitivity": 3,
          "date": "2009-01-01T00:00:00",
          "index": 345,
          "method": "hacked",
          "organisation": "Heartland",
          "records_lost": 130000000,
          "sector": "finance",
          "source_name": "Dark Reading",
          "year": 2009
         },
         {
          "data_sensitivity": 2,
          "date": "2009-10-01T00:00:00",
          "index": 353,
          "method": "lost device ",
          "organisation": "US Military",
          "records_lost": 76000000,
          "sector": "military",
          "source_name": "Wired",
          "year": 2009
         },
         {
          "data_sensitivity": 1,
          "date": "2004-06-01T00:00:00",
          "index": 391,
          "method": "inside job",
          "organisation": "AOL",
          "records_lost": 92000000,
          "sector": "web",
          "source_name": "CNN",
          "year": 2004
         }
        ]
       },
       "encoding": {
        "color": {
         "field": "data_sensitivity",
         "type": "quantitative"
        },
        "size": {
         "aggregate": "sum",
         "field": "records_lost",
         "type": "quantitative"
        },
        "x": {
         "field": "method",
         "type": "nominal"
        },
        "y": {
         "field": "sector",
         "type": "nominal"
        }
       },
       "mark": "point"
      },
      "image/png": "[encoded data removed]",
      "text/plain": [
       "<VegaLite 4 object>\n",
       "\n",
       "If you see this message, it means the renderer has not been properly enabled\n",
       "for the frontend that you are using. For more information, see\n",
       "https://altair-viz.github.io/user_guide/troubleshooting.html\n"
      ]
     },
     "execution_count": 123,
     "metadata": {},
     "output_type": "execute_result"
    }
   ],
   "source": [
    "scatter_some_sectors = alt.Chart(selected_sectors).mark_point().encode(\n",
    "    x = \"method\",\n",
    "    y = \"sector\",\n",
    "    size = \"sum(records_lost)\",\n",
    "    color = \"data_sensitivity\"\n",
    ")\n",
    "\n",
    "# Show the plot\n",
    "scatter_some_sectors"
   ]
  },
  {
   "cell_type": "code",
   "execution_count": 124,
   "id": "3ca93e6d",
   "metadata": {
    "deletable": false,
    "editable": false
   },
   "outputs": [
    {
     "data": {
      "text/html": [
       "<p><strong><pre style='display: inline;'>q9</pre></strong> passed! 🙌</p><p><strong><pre style='display: inline;'>q9 - 1</pre> message:</strong> All your variables have the expected name and type</p>"
      ],
      "text/plain": [
       "q9 results: All test cases passed!\n",
       "q9 - 1 message: All your variables have the expected name and type"
      ]
     },
     "execution_count": 124,
     "metadata": {},
     "output_type": "execute_result"
    }
   ],
   "source": [
    "grader.check(\"q9\")"
   ]
  },
  {
   "cell_type": "markdown",
   "id": "49870425",
   "metadata": {
    "pycharm": {
     "name": "#%% md\n"
    }
   },
   "source": [
    "<!-- BEGIN QUESTION -->\n",
    "\n",
    "### Question 10\n",
    "\n",
    "<div class=\"alert alert-info\" style=\"color:black\">\n",
    "\n",
    "For each of the visualizations you have created (i.e., 8 in total), using the task abstraction framework presented in class, write out one task that each viz is effective at.\n",
    " In addition write out one thing your learned about data breaches from this dataset/assignment </div>\n",
    "\n",
    "_Points:_ 0"
   ]
  },
  {
   "cell_type": "markdown",
   "id": "12cc5406",
   "metadata": {},
   "source": [
    "_Type your answer here, replacing this text._"
   ]
  },
  {
   "cell_type": "markdown",
   "id": "7aa0e22e",
   "metadata": {
    "pycharm": {
     "name": "#%% md\n"
    }
   },
   "source": [
    "<!-- END QUESTION -->\n",
    "\n",
    "<div class=\"alert alert-danger\" style=\"color:black\">\n",
    "    \n",
    "**Restart and run all before submitting**\n",
    "    \n",
    "Before submitting your notebook.\n",
    "don't forget to run all cells in your notebook\n",
    "to make sure there are no errors\n",
    "and so that the TAs can see your submission on Gradescope.\n",
    "You can do this by clicking the ▶▶ button\n",
    "or going to `Kernel -> Restart Kernel and Run All Cells...` in the menu.\n",
    "This is not only important for DSCI 320,\n",
    "but a good habit you should get into before ever committing a notebook to GitHub,\n",
    "so that your collaborators can run it from top to bottom\n",
    "without issues.\n",
    "</div>"
   ]
  }
 ],
 "metadata": {
  "kernelspec": {
   "display_name": "Python 3 (ipykernel)",
   "language": "python",
   "name": "python3"
  },
  "language_info": {
   "codemirror_mode": {
    "name": "ipython",
    "version": 3
   },
   "file_extension": ".py",
   "mimetype": "text/x-python",
   "name": "python",
   "nbconvert_exporter": "python",
   "pygments_lexer": "ipython3",
   "version": "3.10.8"
  },
  "otter": {
   "OK_FORMAT": true,
   "tests": {
    "q1": {
     "name": "q1",
     "points": 6,
     "suites": [
      {
       "cases": [
        {
         "code": ">>> assert bar_sector_count is not None\n>>> assert isinstance(bar_sector_count, alt.Chart)\n",
         "failure_message": "Some of your variables have an unexpected name or type",
         "hidden": false,
         "locked": false,
         "points": 0,
         "success_message": "This test only checks that your variables have the correct name and type"
        }
       ],
       "scored": true,
       "setup": "",
       "teardown": "",
       "type": "doctest"
      }
     ]
    },
    "q2": {
     "name": "q2",
     "points": 7,
     "suites": [
      {
       "cases": [
        {
         "code": ">>> assert bar_sector_sensitivity_count is not None\n>>> assert isinstance(bar_sector_sensitivity_count, alt.Chart)\n",
         "failure_message": "Some of your variables have an unexpected name or type",
         "hidden": false,
         "locked": false,
         "points": 0,
         "success_message": "This test only checks that your variables have the correct name and type"
        }
       ],
       "scored": true,
       "setup": "",
       "teardown": "",
       "type": "doctest"
      }
     ]
    },
    "q3": {
     "name": "q3",
     "points": 8,
     "suites": [
      {
       "cases": [
        {
         "code": ">>> assert point_sector_sensitivity_count is not None\n>>> assert isinstance(point_sector_sensitivity_count, alt.Chart)\n",
         "failure_message": "Some of your variables have an unexpected name or type",
         "hidden": false,
         "locked": false,
         "points": 0,
         "success_message": "This test only checks that your variables have the correct name and type"
        }
       ],
       "scored": true,
       "setup": "",
       "teardown": "",
       "type": "doctest"
      }
     ]
    },
    "q4": {
     "name": "q4",
     "points": 14,
     "suites": [
      {
       "cases": [
        {
         "code": ">>> assert heatmap_sector_sensitivity_count is not None\n>>> assert isinstance(heatmap_sector_sensitivity_count, alt.Chart)\n",
         "failure_message": "Some of your variables have an unexpected name or type",
         "hidden": false,
         "locked": false,
         "points": 0,
         "success_message": "All your variables have the expected name and type"
        }
       ],
       "scored": true,
       "setup": "",
       "teardown": "",
       "type": "doctest"
      }
     ]
    },
    "q6": {
     "name": "q6",
     "points": 10,
     "suites": [
      {
       "cases": [
        {
         "code": ">>> assert scatter_breaches_over_time is not None\n>>> assert isinstance(scatter_breaches_over_time, alt.Chart)\n",
         "failure_message": "Some of your variables have an unexpected name or type",
         "hidden": false,
         "locked": false,
         "points": 0,
         "success_message": "This test only checks that your variables have the correct name and type"
        }
       ],
       "scored": true,
       "setup": "",
       "teardown": "",
       "type": "doctest"
      }
     ]
    },
    "q7": {
     "name": "q7",
     "points": 9,
     "suites": [
      {
       "cases": [
        {
         "code": ">>> assert bar_method_records_lost is not None\n>>> assert isinstance(bar_method_records_lost, alt.Chart)\n",
         "failure_message": "Some of your variables have an unexpected name or type",
         "hidden": false,
         "locked": false,
         "points": 0,
         "success_message": "All your variables have the expected name and type"
        }
       ],
       "scored": true,
       "setup": "",
       "teardown": "",
       "type": "doctest"
      }
     ]
    },
    "q8": {
     "name": "q8",
     "points": 12,
     "suites": [
      {
       "cases": [
        {
         "code": ">>> assert sbar_method_records_sensitivity is not None\n>>> assert isinstance(sbar_method_records_sensitivity, alt.Chart)\n",
         "failure_message": "Some of your variables have an unexpected name or type",
         "hidden": false,
         "locked": false,
         "points": 0,
         "success_message": "All your variables have the expected name and type"
        }
       ],
       "scored": true,
       "setup": "",
       "teardown": "",
       "type": "doctest"
      }
     ]
    },
    "q9": {
     "name": "q9",
     "points": 8,
     "suites": [
      {
       "cases": [
        {
         "code": ">>> assert scatter_some_sectors is not None\n>>> assert isinstance(scatter_some_sectors, alt.Chart)\n",
         "failure_message": "Some of your variables have an unexpected name or type",
         "hidden": false,
         "locked": false,
         "points": 0,
         "success_message": "All your variables have the expected name and type"
        }
       ],
       "scored": true,
       "setup": "",
       "teardown": "",
       "type": "doctest"
      }
     ]
    }
   }
  }
 },
 "nbformat": 4,
 "nbformat_minor": 5
}
