{
 "cells": [
  {
   "cell_type": "code",
   "execution_count": null,
   "id": "fdcbe86c",
   "metadata": {
    "deletable": false,
    "editable": false,
    "pycharm": {
     "name": "#%%\n"
    }
   },
   "outputs": [],
   "source": [
    "# Initialize Otter\n",
    "import otter\n",
    "grader = otter.Notebook(\"lab2.ipynb\")"
   ]
  },
  {
   "cell_type": "markdown",
   "id": "49ac3986",
   "metadata": {
    "pycharm": {
     "name": "#%% md\n"
    }
   },
   "source": [
    "# Lab 2 - Bar charts\n",
    "\n",
    "The questions in each lab will be autograded, and all the autograded tests will give you immediate feedback directly in the notebook. This way you can quickly iterate and learn how to create your visualization during the lab time. After you upload your lab on gradescope, the same tests will run again and you will be able to see your score right away."
   ]
  },
  {
   "cell_type": "markdown",
   "id": "71eae8ac",
   "metadata": {
    "pycharm": {
     "name": "#%% md\n"
    }
   },
   "source": [
    "## Submission instructions\n",
    "\n",
    "<div class=\"alert alert-info\" style=\"color:black\">\n",
    "<ul>\n",
    "  <li>Download this lab from the Jupyter Book web page by clicking the download symbol at the top right of the page and selecting the <code>.ipynb</code> format.</li>\n",
    "  <li>To submit this lab, answer all the questions and then upload the completed lab to Gradescope.</li>\n",
    "    <ul>\n",
    "      <li>Before submitting, make sure you restart the kernel and rerun all cells (click the ▶▶-button).</li>\n",
    "    </ul>\n",
    "  <li>Don't change any variable names that are given to you, don't move cells around, and don't include any code to install packages in the notebook.</li>\n",
    "  </li>\n",
    "</ul>\n",
    "</div>"
   ]
  },
  {
   "cell_type": "markdown",
   "id": "79c3c926",
   "metadata": {
    "pycharm": {
     "name": "#%% md\n"
    }
   },
   "source": [
    "## The Gapminder dataset\n",
    "\n",
    "We will continue working with the Gapminder dataset in this lab,\n",
    "so here we are repeating the description of what each column contains\n",
    "so that you can refer back to throughout the lab.\n",
    "\n",
    "| Column                | Description                                                                                  |\n",
    "|-----------------------|----------------------------------------------------------------------------------------------|\n",
    "| country               | Country name                                                                                 |\n",
    "| year                  | Year of observation                                                                          |\n",
    "| population            | Population in the country at each year                                                       |\n",
    "| region                | Continent the country belongs to                                                             |\n",
    "| sub_region            | Sub-region the country belongs to                                                            |\n",
    "| income_group          | Income group [as specified by the world bank in 2018]                                                |\n",
    "| life_expectancy       | The mean number of years a newborn would <br>live if mortality patterns remained constant    |\n",
    "| income                | GDP per capita (in USD) <em>adjusted <br>for differences in purchasing power</em>            |\n",
    "| children_per_woman    | Average number of children born per woman                                                    |\n",
    "| child_mortality       | Deaths of children under 5 years <break>of age per 1000 live births                          |\n",
    "| pop_density           | Average number of people per km<sup>2</sup>                                                  |\n",
    "| co2_per_capita        | CO2 emissions from fossil fuels (tonnes per capita)                                          |\n",
    "| years_in_school_men   | Mean number of years in primary, secondary,<br>and tertiary school for 25-36 years old men   |\n",
    "| years_in_school_women | Mean number of years in primary, secondary,<br>and tertiary school for 25-36 years old women |\n",
    "\n",
    "[as specified by the world bank in 2018]: https://datahelpdesk.worldbank.org/knowledgebase/articles/378833-how-are-the-income-group-thresholds-determined"
   ]
  },
  {
   "cell_type": "code",
   "execution_count": null,
   "id": "89c05e90",
   "metadata": {
    "pycharm": {
     "name": "#%%\n"
    }
   },
   "outputs": [],
   "source": [
    "# Run this cell to ensure that altair plots show up on gradescope\n",
    "# We will talk more about what these lines do later in the course\n",
    "import altair as alt\n",
    "\n",
    "# Handle large data sets without embedding them in the notebook\n",
    "alt.data_transformers.enable('data_server')\n",
    "# Include an image for each plot since Gradescope only supports displaying plots as images\n",
    "alt.renderers.enable('mimetype')"
   ]
  },
  {
   "cell_type": "markdown",
   "id": "e2fc7c42",
   "metadata": {
    "pycharm": {
     "name": "#%% md\n"
    }
   },
   "source": [
    "### Question 1\n",
    "\n",
    "<div class=\"alert alert-info\" style=\"color:black\">\n",
    "\n",
    "I have uploaded the <a href=https://raw.githubusercontent.com/UofTCoders/workshops-dc-py/master/data/processed/world-data-gapminder.csv> 2018 Gapminder data at this URL.</a> Use <code>read_csv</code> from <code>pandas</code> to load the data directly from the URL and assign it a suitable variable name. Set the <code>parse_dates</code> parameter to <code>['year']</code> to ensure that Altair recognizes this columns as time data.\n",
    "\n",
    "Filter the dataframe to only keep observations from a single year, 1982 and assigned this to a new variable name `gm_1982`. Create a bar chart of this filtered dataframe, which encodes the count of each region on the `x` channel and is sorted by count with the longest bar the closest to the x-axis line.<a href=\"https://altair-viz.github.io/gallery/bar_chart_sorted.html\">Here is an example of how to sort in Altair</a>\n",
    "</div>\n",
    "\n",
    "_Points:_ 3"
   ]
  },
  {
   "cell_type": "code",
   "execution_count": null,
   "id": "4f91dc0d",
   "metadata": {
    "pycharm": {
     "name": "#%%\n"
    },
    "tags": []
   },
   "outputs": [],
   "source": [
    "import pandas as pd\n",
    "\n",
    "\n",
    "url = 'https://raw.githubusercontent.com/UofTCoders/workshops-dc-py/master/data/processed/world-data-gapminder.csv'\n",
    "# Read in the data using pandas\n",
    "gm = ...\n",
    "\n",
    "# Only keep data from the year 1982\n",
    "gm_1982 = ...\n",
    "\n",
    "bar_num_countries = ...\n",
    "\n",
    "# Show the chart\n",
    "bar_num_countries"
   ]
  },
  {
   "cell_type": "code",
   "execution_count": null,
   "id": "abffca44",
   "metadata": {
    "deletable": false,
    "editable": false,
    "pycharm": {
     "name": "#%%\n"
    }
   },
   "outputs": [],
   "source": [
    "grader.check(\"q1\")"
   ]
  },
  {
   "cell_type": "markdown",
   "id": "d01b16af",
   "metadata": {
    "pycharm": {
     "name": "#%% md\n"
    },
    "tags": []
   },
   "source": [
    "### Question 2\n",
    "\n",
    "<div class=\"alert alert-info\" style=\"color:black\">\n",
    "\n",
    "Filter the dataframe to only keep observations from a single continent, \"Europe\" and assign this to a new variable name `gm_1982_europe`.\n",
    "\n",
    "</div>\n",
    "\n",
    "_Points:_ 1"
   ]
  },
  {
   "cell_type": "code",
   "execution_count": null,
   "id": "770069f5",
   "metadata": {
    "pycharm": {
     "name": "#%%\n"
    },
    "tags": []
   },
   "outputs": [],
   "source": [
    "gm_1982_europe = ...\n",
    "gm_1982_europe "
   ]
  },
  {
   "cell_type": "code",
   "execution_count": null,
   "id": "ba6a758c",
   "metadata": {
    "deletable": false,
    "editable": false,
    "pycharm": {
     "name": "#%%\n"
    }
   },
   "outputs": [],
   "source": [
    "grader.check(\"q2\")"
   ]
  },
  {
   "cell_type": "markdown",
   "id": "b4299899",
   "metadata": {
    "pycharm": {
     "name": "#%% md\n"
    },
    "tags": []
   },
   "source": [
    "<!-- BEGIN QUESTION -->\n",
    "\n",
    "### Question 3\n",
    "\n",
    "<div class=\"alert alert-info\" style=\"color:black\">\n",
    "\n",
    "Create a sorted bar chart for all the European nations\n",
    "showing their life expectancy in 1982.\n",
    "The countries should be spread out on the y-axis\n",
    "with the nation with the longest life expectancy the closest to the x-axis.\n",
    "    \n",
    "</div>\n",
    "\n",
    "_Points:_ 3"
   ]
  },
  {
   "cell_type": "code",
   "execution_count": null,
   "id": "e58347cb",
   "metadata": {
    "pycharm": {
     "name": "#%%\n"
    },
    "tags": []
   },
   "outputs": [],
   "source": [
    "bar_life_exp = ...\n",
    "\n",
    "# Show the chart\n",
    "bar_life_exp"
   ]
  },
  {
   "cell_type": "code",
   "execution_count": null,
   "id": "d36e5e0f",
   "metadata": {
    "deletable": false,
    "editable": false,
    "pycharm": {
     "name": "#%%\n"
    }
   },
   "outputs": [],
   "source": [
    "grader.check(\"q3\")"
   ]
  },
  {
   "cell_type": "markdown",
   "id": "515ef793",
   "metadata": {
    "pycharm": {
     "name": "#%% md\n"
    },
    "tags": []
   },
   "source": [
    "<!-- END QUESTION -->\n",
    "\n",
    "### Question 4\n",
    "\n",
    "<div class=\"alert alert-info\" style=\"color:black\">\n",
    "\n",
    "<ol type=\"1\">\n",
    "<li>Start with the entire gapminder data set and filter it to include only the most recent year when <code>'co2_per_capita'</code> was measured (it is up to you how you find out which year this is).</li>\n",
    "<li>Use the data frame <code>nlargest</code> method to select the top 40 countries in CO2 production per capita for that year.</li>\n",
    "<li>Since we have only one value per country per year, let’s create a bar chart to visualize it. Encode the CO2 per capita as on the x-axis and the country on the y-axis.</li>\n",
    "<li>Sort your bar chart so that the highest CO2 per capita is the closest to the x-axis (the bottom of the chart). </li>\n",
    "<li>Finally, encode the income group with color. You can use the default color palette provided. </li>\n",
    "\n",
    "</ol>\n",
    "</div>\n",
    "\n",
    "</div>\n",
    "\n",
    "_Points:_ 3"
   ]
  },
  {
   "cell_type": "code",
   "execution_count": null,
   "id": "26f587c0",
   "metadata": {
    "pycharm": {
     "is_executing": true,
     "name": "#%%\n"
    },
    "tags": []
   },
   "outputs": [],
   "source": [
    "gm_40_largest_co2 = ...\n",
    "\n",
    "bar_co2 = ...\n",
    "\n",
    "# Show the chart\n",
    "bar_co2"
   ]
  },
  {
   "cell_type": "code",
   "execution_count": null,
   "id": "5f47c691",
   "metadata": {
    "deletable": false,
    "editable": false,
    "pycharm": {
     "name": "#%%\n"
    }
   },
   "outputs": [],
   "source": [
    "grader.check(\"q4\")"
   ]
  },
  {
   "cell_type": "markdown",
   "id": "7ee3cfce",
   "metadata": {
    "pycharm": {
     "name": "#%% md\n"
    },
    "tags": []
   },
   "source": [
    "### Question 5\n",
    "\n",
    "<div class=\"alert alert-info\" style=\"color:black\">\n",
    "\n",
    "<ol type=\"1\">\n",
    "<li>From the full gapminder dataset select only the observations from the years 1934, 1954, 1974, 1994, and 2014.</li>\n",
    "<li>In addition to the co2 per capita, the total population also matter for a country’s overall co2 emissions. Compute a new column in the gapminder data set called <code>'co2_total'</code> which contains the total co2 emissions for each country.</li>\n",
    "<li>Plot this new column over time in a bar chart with time on the x-axis. Instead of plotting one bar for each country, plot one stacked bar for each year colored by the region. The stacked bars should represent the sum of all countries co2 emissions in that region.</li>\n",
    "<li>Decide whether plotting the year as a temporal, nominal, or ordinal data type makes the most sense for this plot.</li>\n",
    "</ol>\n",
    "</div>\n",
    "\n",
    "</div>\n",
    "\n",
    "_Points:_ 3"
   ]
  },
  {
   "cell_type": "code",
   "execution_count": null,
   "id": "b1ba1acf",
   "metadata": {
    "pycharm": {
     "name": "#%%\n"
    },
    "tags": []
   },
   "outputs": [],
   "source": [
    "# You might see a `SettingWithCopyWarning` here, which you can ignore for this exercise\n",
    "gm_five_years = ...\n",
    "gm_five_years['co2_total'] = ...\n",
    "\n",
    "                   \n",
    "bar_co2_total = ...\n",
    "\n",
    "bar_co2_total"
   ]
  },
  {
   "cell_type": "code",
   "execution_count": null,
   "id": "13c473db",
   "metadata": {
    "deletable": false,
    "editable": false,
    "pycharm": {
     "name": "#%%\n"
    }
   },
   "outputs": [],
   "source": [
    "grader.check(\"q5\")"
   ]
  },
  {
   "cell_type": "markdown",
   "id": "7c6a7512",
   "metadata": {
    "pycharm": {
     "name": "#%% md\n"
    },
    "tags": []
   },
   "source": [
    "### Question 6\n",
    "\n",
    "<div class=\"alert alert-info\" style=\"color:black\">\n",
    "\n",
    "<ol type=\"1\">\n",
    "<li>Create the same bar chart in the previous question, but normalize the stacked bars so that it is easier to see how the proportion of each continent's contributions have changed over time.</li>\n",
    "<li>Since the 1930's, which continents have increased their share of the worlds co2 emissions? Enter you answer as a Python list, e.g. <code>['Africa', 'Americas']`</code>\n",
    "</ol>\n",
    "</div>\n",
    "\n",
    "</div>\n",
    "\n",
    "_Points:_ 1"
   ]
  },
  {
   "cell_type": "code",
   "execution_count": null,
   "id": "b2dbfaac",
   "metadata": {
    "pycharm": {
     "name": "#%%\n"
    },
    "tags": []
   },
   "outputs": [],
   "source": [
    "bar_co2_total_norm = ...\n",
    "...\n",
    "\n",
    "# Show the chart\n",
    "bar_co2_total_norm"
   ]
  },
  {
   "cell_type": "code",
   "execution_count": null,
   "id": "7d7fba25",
   "metadata": {
    "pycharm": {
     "name": "#%%\n"
    },
    "tags": []
   },
   "outputs": [],
   "source": [
    "# Enter your answer to question two as a list, e.g. ['Africa', 'Americas']\n",
    "increased_continents = ..."
   ]
  },
  {
   "cell_type": "code",
   "execution_count": null,
   "id": "d8dbae8e",
   "metadata": {
    "deletable": false,
    "editable": false,
    "pycharm": {
     "name": "#%%\n"
    }
   },
   "outputs": [],
   "source": [
    "grader.check(\"q6\")"
   ]
  },
  {
   "cell_type": "markdown",
   "id": "1c03106a",
   "metadata": {
    "pycharm": {
     "name": "#%% md\n"
    }
   },
   "source": [
    "<div class=\"alert alert-danger\" style=\"color:black\">\n",
    "    \n",
    "**Restart and run all cells before submitting**\n",
    "    \n",
    "Before submitting,\n",
    "don't forget to run all cells in your notebook\n",
    "to make sure there are no errors.\n",
    "You can do this by clicking the ▶▶ button\n",
    "or going to `Kernel -> Restart Kernel and Run All Cells...` in the menu.\n",
    "This is not only important for this course,\n",
    "but a good habit you should get into before ever committing a notebook to GitHub,\n",
    "so that your collaborators can run it from top to bottom\n",
    "without issues.\n",
    "</div>"
   ]
  }
 ],
 "metadata": {
  "kernelspec": {
   "display_name": "Python 3 (ipykernel)",
   "language": "python",
   "name": "python3"
  },
  "language_info": {
   "codemirror_mode": {
    "name": "ipython",
    "version": 3
   },
   "file_extension": ".py",
   "mimetype": "text/x-python",
   "name": "python",
   "nbconvert_exporter": "python",
   "pygments_lexer": "ipython3",
   "version": "3.10.4"
  },
  "otter": {
   "OK_FORMAT": true,
   "tests": {
    "q1": {
     "name": "q1",
     "points": 3,
     "suites": [
      {
       "cases": [
        {
         "code": ">>> assert bar_num_countries is not None\n>>> assert isinstance(bar_num_countries, alt.Chart)\n",
         "failure_message": "Some of your variables have an unexpected name or type",
         "hidden": false,
         "locked": false,
         "points": 0,
         "success_message": "All your variables have the expected name and type"
        },
        {
         "code": ">>> assert bar_num_countries.to_dict()['mark'] == 'bar'\n",
         "failure_message": "Make sure you are using the correct mark type for your plot",
         "hidden": false,
         "locked": false
        },
        {
         "code": ">>> assert bar_num_countries.to_dict()['encoding']['x']['aggregate'] == 'count'\n",
         "failure_message": "The wrong dataframe column is used for the x channel your plot.",
         "hidden": false,
         "locked": false
        },
        {
         "code": ">>> assert bar_num_countries.to_dict()['encoding']['y']['field'] == 'region'\n",
         "failure_message": "The wrong dataframe column is used for the y channel your plot.",
         "hidden": false,
         "locked": false
        },
        {
         "code": ">>> assert bar_num_countries.to_dict()['encoding']['y']['type'] == 'nominal'\n",
         "failure_message": "The wrong data type is used for the y channel in your plot.",
         "hidden": false,
         "locked": false
        },
        {
         "code": ">>> assert bar_num_countries.to_dict()['encoding']['y']['sort'] == 'x'\n",
         "failure_message": "The y-axis is not sorted correctly",
         "hidden": false,
         "locked": false
        }
       ],
       "scored": true,
       "setup": "",
       "teardown": "",
       "type": "doctest"
      }
     ]
    },
    "q2": {
     "name": "q2",
     "points": 1,
     "suites": [
      {
       "cases": [
        {
         "code": ">>> assert gm_1982_europe is not None\n>>> assert isinstance(gm_1982_europe, pd.DataFrame)\n",
         "failure_message": "Some of your variables have an unexpected name or type",
         "hidden": false,
         "locked": false,
         "points": 0,
         "success_message": "All your variables have the expected name and type"
        },
        {
         "code": ">>> pd.testing.assert_frame_equal(gm_1982_europe, gm_1982[gm_1982['region'] == 'Europe'])\n",
         "failure_message": "You have not filtered the data frame correctly.",
         "hidden": false,
         "locked": false
        }
       ],
       "scored": true,
       "setup": "",
       "teardown": "",
       "type": "doctest"
      }
     ]
    },
    "q3": {
     "name": "q3",
     "points": 3,
     "suites": [
      {
       "cases": [
        {
         "code": ">>> assert bar_life_exp is not None\n>>> assert isinstance(bar_life_exp, alt.Chart)\n",
         "failure_message": "Some of your variables have an unexpected name or type",
         "hidden": false,
         "locked": false,
         "points": 0,
         "success_message": "All your variables have the expected name and type"
        },
        {
         "code": ">>> assert bar_life_exp.to_dict()['mark'] == 'bar'\n",
         "failure_message": "Make sure you are using the correct mark type for your plot",
         "hidden": false,
         "locked": false
        },
        {
         "code": ">>> assert bar_life_exp.to_dict()['encoding']['x']['field'] == 'life_expectancy'\n",
         "failure_message": "The wrong dataframe column is used for the x channel your plot.",
         "hidden": false,
         "locked": false
        },
        {
         "code": ">>> assert bar_life_exp.to_dict()['encoding']['y']['field'] == 'country'\n",
         "failure_message": "The wrong dataframe column is used for the y channel your plot.",
         "hidden": false,
         "locked": false
        },
        {
         "code": ">>> assert bar_life_exp.to_dict()['encoding']['y']['sort'] == 'x'\n",
         "failure_message": "The y-axis is not sorted correctly",
         "hidden": false,
         "locked": false
        }
       ],
       "scored": true,
       "setup": "",
       "teardown": "",
       "type": "doctest"
      }
     ]
    },
    "q4": {
     "name": "q4",
     "points": 3,
     "suites": [
      {
       "cases": [
        {
         "code": ">>> assert bar_co2 is not None\n>>> assert isinstance(bar_co2, alt.Chart)\n",
         "failure_message": "Some of your variables have an unexpected name or type",
         "hidden": false,
         "locked": false,
         "points": 0,
         "success_message": "All your variables have the expected name and type"
        },
        {
         "code": ">>> assert bar_co2.to_dict()['mark'] == 'bar'\n",
         "failure_message": "Make sure you are using the correct mark type for your plot",
         "hidden": false,
         "locked": false
        },
        {
         "code": ">>> assert bar_co2.to_dict()['encoding']['x']['field'] == 'co2_per_capita'\n",
         "failure_message": "The wrong dataframe column is used for the x channel your plot.",
         "hidden": false,
         "locked": false
        },
        {
         "code": ">>> assert bar_co2.to_dict()['encoding']['y']['field'] == 'country'\n",
         "failure_message": "The wrong dataframe column is used for the color channel your plot.",
         "hidden": false,
         "locked": false
        },
        {
         "code": ">>> assert bar_co2.to_dict()['encoding']['y']['type'] == 'nominal'\n",
         "failure_message": "The wrong data type is used for the y channel in your plot.",
         "hidden": false,
         "locked": false
        },
        {
         "code": ">>> assert bar_co2.to_dict()['encoding']['y']['sort'] == 'x'\n",
         "failure_message": "The y-axis is not sorted correctly",
         "hidden": false,
         "locked": false
        },
        {
         "code": ">>> assert bar_co2.to_dict()['encoding']['color']['field'] == 'income_group'\n",
         "failure_message": "The wrong dataframe column is used for the y channel your plot.",
         "hidden": false,
         "locked": false
        },
        {
         "code": ">>> pd.testing.assert_frame_equal(gm_40_largest_co2, gm[gm['year'] == '2014-01-01'].nlargest(40, 'co2_per_capita'))\n",
         "failure_message": "You have not filtered the data frame correctly.",
         "hidden": false,
         "locked": false
        }
       ],
       "scored": true,
       "setup": "",
       "teardown": "",
       "type": "doctest"
      }
     ]
    },
    "q5": {
     "name": "q5",
     "points": 3,
     "suites": [
      {
       "cases": [
        {
         "code": ">>> assert bar_co2_total is not None\n>>> assert isinstance(bar_co2_total, alt.Chart)\n",
         "failure_message": "Some of your variables have an unexpected name or type",
         "hidden": false,
         "locked": false,
         "points": 0,
         "success_message": "All your variables have the expected name and type"
        },
        {
         "code": ">>> assert bar_co2_total.to_dict()['mark'] == 'bar'\n",
         "failure_message": "Make sure you are using the correct mark type for your plot",
         "hidden": false,
         "locked": false
        },
        {
         "code": ">>> assert bar_co2_total.to_dict()['encoding']['x']['field'] == 'year'\n",
         "failure_message": "The wrong dataframe column is used for the x channel your plot.",
         "hidden": false,
         "locked": false
        },
        {
         "code": ">>> assert bar_co2_total.to_dict()['encoding']['y']['field'] == 'co2_total'\n",
         "failure_message": "The wrong dataframe column is used for the y channel your plot.",
         "hidden": false,
         "locked": false
        },
        {
         "code": ">>> assert bar_co2_total.to_dict()['encoding']['y']['aggregate'] == 'sum'\n",
         "failure_message": "The wrong aggregation is used for the y channel.",
         "hidden": false,
         "locked": false
        },
        {
         "code": ">>> assert bar_co2_total.to_dict()['encoding']['x']['type'] in ['ordinal', 'nominal']\n",
         "failure_message": "The wrong data type is used for the y channel in your plot.",
         "hidden": false,
         "locked": false
        },
        {
         "code": ">>> pd.testing.assert_frame_equal(gm_five_years, gm[gm['year'].isin(['1934', '1954', '1974', '1994', '2014'])].assign(co2_total=lambda df: df['co2_per_capita'] * df['population']))\n",
         "failure_message": "You have not filtered the data frame correctly.",
         "hidden": false,
         "locked": false
        }
       ],
       "scored": true,
       "setup": "",
       "teardown": "",
       "type": "doctest"
      }
     ]
    },
    "q6": {
     "name": "q6",
     "points": 1,
     "suites": [
      {
       "cases": [
        {
         "code": ">>> assert bar_co2_total_norm is not None\n>>> assert isinstance(bar_co2_total_norm, alt.Chart)\n",
         "failure_message": "Some of your variables have an unexpected name or type",
         "hidden": false,
         "locked": false,
         "points": 0,
         "success_message": "All your variables have the expected name and type"
        },
        {
         "code": ">>> assert bar_co2_total_norm.to_dict()['encoding']['y']['stack'] == 'normalize'\n",
         "failure_message": "The stacking is not normalized",
         "hidden": false,
         "locked": false
        },
        {
         "code": ">>> assert [x in increased_continents for x in ['Africa', 'Asia', 'Oceania']]\n>>> assert len(increased_continents) == 3\n",
         "failure_message": "The wrong continents were selected",
         "hidden": false,
         "locked": false
        }
       ],
       "scored": true,
       "setup": "",
       "teardown": "",
       "type": "doctest"
      }
     ]
    }
   }
  }
 },
 "nbformat": 4,
 "nbformat_minor": 5
}