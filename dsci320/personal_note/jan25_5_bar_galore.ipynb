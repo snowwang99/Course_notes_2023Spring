{
 "cells": [
  {
   "cell_type": "markdown",
   "id": "6ca4cda6-cf64-4740-8e3b-c47168ed9148",
   "metadata": {},
   "source": [
    "# Bar Galore"
   ]
  },
  {
   "cell_type": "markdown",
   "id": "2da75164-bd94-4f04-838b-b2917e8a6f4b",
   "metadata": {},
   "source": [
    "## Tinder Usage Data"
   ]
  },
  {
   "cell_type": "code",
   "execution_count": 2,
   "id": "560f2e92-25fe-4fc8-824a-d4e4c06b9131",
   "metadata": {},
   "outputs": [],
   "source": [
    "# import libraries\n",
    "import pandas as pd\n",
    "import altair as alt"
   ]
  },
  {
   "cell_type": "code",
   "execution_count": 4,
   "id": "4b54efea-294d-4a10-bf0d-43afaa9dc821",
   "metadata": {},
   "outputs": [
    {
     "data": {
      "text/html": [
       "<div>\n",
       "<style scoped>\n",
       "    .dataframe tbody tr th:only-of-type {\n",
       "        vertical-align: middle;\n",
       "    }\n",
       "\n",
       "    .dataframe tbody tr th {\n",
       "        vertical-align: top;\n",
       "    }\n",
       "\n",
       "    .dataframe thead th {\n",
       "        text-align: right;\n",
       "    }\n",
       "</style>\n",
       "<table border=\"1\" class=\"dataframe\">\n",
       "  <thead>\n",
       "    <tr style=\"text-align: right;\">\n",
       "      <th></th>\n",
       "      <th>uni</th>\n",
       "      <th>type</th>\n",
       "      <th>res</th>\n",
       "      <th>pct</th>\n",
       "      <th>state</th>\n",
       "      <th>region</th>\n",
       "      <th>uni_abbr</th>\n",
       "    </tr>\n",
       "  </thead>\n",
       "  <tbody>\n",
       "    <tr>\n",
       "      <th>0</th>\n",
       "      <td>Appalachian State University</td>\n",
       "      <td>Nonuse</td>\n",
       "      <td>46</td>\n",
       "      <td>0.400</td>\n",
       "      <td>North Carolina</td>\n",
       "      <td>south</td>\n",
       "      <td>ASU</td>\n",
       "    </tr>\n",
       "    <tr>\n",
       "      <th>1</th>\n",
       "      <td>Appalachian State University</td>\n",
       "      <td>No</td>\n",
       "      <td>53</td>\n",
       "      <td>0.461</td>\n",
       "      <td>North Carolina</td>\n",
       "      <td>south</td>\n",
       "      <td>ASU</td>\n",
       "    </tr>\n",
       "    <tr>\n",
       "      <th>2</th>\n",
       "      <td>Appalachian State University</td>\n",
       "      <td>Yes</td>\n",
       "      <td>16</td>\n",
       "      <td>0.139</td>\n",
       "      <td>North Carolina</td>\n",
       "      <td>south</td>\n",
       "      <td>ASU</td>\n",
       "    </tr>\n",
       "    <tr>\n",
       "      <th>3</th>\n",
       "      <td>Butler University</td>\n",
       "      <td>Nonuse</td>\n",
       "      <td>17</td>\n",
       "      <td>0.250</td>\n",
       "      <td>Indiana</td>\n",
       "      <td>midwest</td>\n",
       "      <td>BU</td>\n",
       "    </tr>\n",
       "    <tr>\n",
       "      <th>4</th>\n",
       "      <td>Butler University</td>\n",
       "      <td>No</td>\n",
       "      <td>44</td>\n",
       "      <td>0.647</td>\n",
       "      <td>Indiana</td>\n",
       "      <td>midwest</td>\n",
       "      <td>BU</td>\n",
       "    </tr>\n",
       "    <tr>\n",
       "      <th>5</th>\n",
       "      <td>Butler University</td>\n",
       "      <td>Yes</td>\n",
       "      <td>7</td>\n",
       "      <td>0.103</td>\n",
       "      <td>Indiana</td>\n",
       "      <td>midwest</td>\n",
       "      <td>BU</td>\n",
       "    </tr>\n",
       "    <tr>\n",
       "      <th>6</th>\n",
       "      <td>Cal Poly San Luis Obispo</td>\n",
       "      <td>Nonuse</td>\n",
       "      <td>7</td>\n",
       "      <td>0.280</td>\n",
       "      <td>California</td>\n",
       "      <td>pacific</td>\n",
       "      <td>CPSLO</td>\n",
       "    </tr>\n",
       "    <tr>\n",
       "      <th>7</th>\n",
       "      <td>Cal Poly San Luis Obispo</td>\n",
       "      <td>No</td>\n",
       "      <td>10</td>\n",
       "      <td>0.400</td>\n",
       "      <td>California</td>\n",
       "      <td>pacific</td>\n",
       "      <td>CPSLO</td>\n",
       "    </tr>\n",
       "    <tr>\n",
       "      <th>8</th>\n",
       "      <td>Cal Poly San Luis Obispo</td>\n",
       "      <td>Yes</td>\n",
       "      <td>8</td>\n",
       "      <td>0.320</td>\n",
       "      <td>California</td>\n",
       "      <td>pacific</td>\n",
       "      <td>CPSLO</td>\n",
       "    </tr>\n",
       "    <tr>\n",
       "      <th>9</th>\n",
       "      <td>Case Western Reserve University</td>\n",
       "      <td>Nonuse</td>\n",
       "      <td>12</td>\n",
       "      <td>0.387</td>\n",
       "      <td>Ohio</td>\n",
       "      <td>midwest</td>\n",
       "      <td>CWRU</td>\n",
       "    </tr>\n",
       "  </tbody>\n",
       "</table>\n",
       "</div>"
      ],
      "text/plain": [
       "                               uni    type  res    pct           state  \\\n",
       "0     Appalachian State University  Nonuse   46  0.400  North Carolina   \n",
       "1     Appalachian State University      No   53  0.461  North Carolina   \n",
       "2     Appalachian State University     Yes   16  0.139  North Carolina   \n",
       "3                Butler University  Nonuse   17  0.250         Indiana   \n",
       "4                Butler University      No   44  0.647         Indiana   \n",
       "5                Butler University     Yes    7  0.103         Indiana   \n",
       "6         Cal Poly San Luis Obispo  Nonuse    7  0.280      California   \n",
       "7         Cal Poly San Luis Obispo      No   10  0.400      California   \n",
       "8         Cal Poly San Luis Obispo     Yes    8  0.320      California   \n",
       "9  Case Western Reserve University  Nonuse   12  0.387            Ohio   \n",
       "\n",
       "    region uni_abbr  \n",
       "0    south      ASU  \n",
       "1    south      ASU  \n",
       "2    south      ASU  \n",
       "3  midwest       BU  \n",
       "4  midwest       BU  \n",
       "5  midwest       BU  \n",
       "6  pacific    CPSLO  \n",
       "7  pacific    CPSLO  \n",
       "8  pacific    CPSLO  \n",
       "9  midwest     CWRU  "
      ]
     },
     "execution_count": 4,
     "metadata": {},
     "output_type": "execute_result"
    }
   ],
   "source": [
    "# Read data\n",
    "path = \"../data/tinder.csv\"\n",
    "data = pd.read_csv(path)\n",
    "data.head(10)"
   ]
  },
  {
   "cell_type": "markdown",
   "id": "54559ff4-da23-41c5-971e-4ca37b4e4be9",
   "metadata": {},
   "source": [
    "| Column        | Description                                                                    |\n",
    "|---------------|--------------------------------------------------------------------------------|\n",
    "| uni           | University Name                                                                |\n",
    "| type          | Response type to the question: _Have you ever met up with someone off tinder?_ |\n",
    "| res           | Number of responses                                                            |\n",
    "| pct           | Percentage of the number of responses at the given institution                 |\n",
    "| state         | State the university is located in                                             |\n",
    "| region        | Region in the US                                                               |\n",
    "| uni_abbr      | 3-letter abbreviation of the university name                                    |\n",
    "\n",
    "How large is the dataset?\n"
   ]
  },
  {
   "cell_type": "code",
   "execution_count": 5,
   "id": "3dac46c2-33d9-49d1-b58d-1bf258e03cfb",
   "metadata": {},
   "outputs": [
    {
     "data": {
      "text/plain": [
       "(123, 7)"
      ]
     },
     "execution_count": 5,
     "metadata": {},
     "output_type": "execute_result"
    }
   ],
   "source": [
    "data.shape"
   ]
  },
  {
   "cell_type": "markdown",
   "id": "b1a55d83-2048-479a-977f-696366f79757",
   "metadata": {},
   "source": [
    "The data has 123 rows/items and 7 attributes/variables. The following are the data type of each (Q for Quantitative, N for nominal):\n",
    "- uni: N\n",
    "- type: N\n",
    "- res: Q\n",
    "- pct: Q\n",
    "- state: N\n",
    "- region: N\n",
    "- uni_abr: N"
   ]
  },
  {
   "cell_type": "code",
   "execution_count": 6,
   "id": "e5d27748-0e96-474f-9c07-d2838a298716",
   "metadata": {},
   "outputs": [
    {
     "data": {
      "text/html": [
       "<div>\n",
       "<style scoped>\n",
       "    .dataframe tbody tr th:only-of-type {\n",
       "        vertical-align: middle;\n",
       "    }\n",
       "\n",
       "    .dataframe tbody tr th {\n",
       "        vertical-align: top;\n",
       "    }\n",
       "\n",
       "    .dataframe thead th {\n",
       "        text-align: right;\n",
       "    }\n",
       "</style>\n",
       "<table border=\"1\" class=\"dataframe\">\n",
       "  <thead>\n",
       "    <tr style=\"text-align: right;\">\n",
       "      <th></th>\n",
       "      <th>res</th>\n",
       "      <th>pct</th>\n",
       "      <th>uni</th>\n",
       "      <th>type</th>\n",
       "      <th>state</th>\n",
       "      <th>region</th>\n",
       "    </tr>\n",
       "  </thead>\n",
       "  <tbody>\n",
       "    <tr>\n",
       "      <th>min</th>\n",
       "      <td>1.0</td>\n",
       "      <td>0.053</td>\n",
       "      <td>NaN</td>\n",
       "      <td>NaN</td>\n",
       "      <td>NaN</td>\n",
       "      <td>NaN</td>\n",
       "    </tr>\n",
       "    <tr>\n",
       "      <th>max</th>\n",
       "      <td>95.0</td>\n",
       "      <td>0.818</td>\n",
       "      <td>NaN</td>\n",
       "      <td>NaN</td>\n",
       "      <td>NaN</td>\n",
       "      <td>NaN</td>\n",
       "    </tr>\n",
       "    <tr>\n",
       "      <th>unique</th>\n",
       "      <td>NaN</td>\n",
       "      <td>NaN</td>\n",
       "      <td>[Appalachian State University, Butler Universi...</td>\n",
       "      <td>[Nonuse, No, Yes]</td>\n",
       "      <td>[North Carolina, Indiana, California, Ohio, Ma...</td>\n",
       "      <td>[south, midwest, pacific, northeast, mountain]</td>\n",
       "    </tr>\n",
       "  </tbody>\n",
       "</table>\n",
       "</div>"
      ],
      "text/plain": [
       "         res    pct                                                uni  \\\n",
       "min      1.0  0.053                                                NaN   \n",
       "max     95.0  0.818                                                NaN   \n",
       "unique   NaN    NaN  [Appalachian State University, Butler Universi...   \n",
       "\n",
       "                     type                                              state  \\\n",
       "min                   NaN                                                NaN   \n",
       "max                   NaN                                                NaN   \n",
       "unique  [Nonuse, No, Yes]  [North Carolina, Indiana, California, Ohio, Ma...   \n",
       "\n",
       "                                                region  \n",
       "min                                                NaN  \n",
       "max                                                NaN  \n",
       "unique  [south, midwest, pacific, northeast, mountain]  "
      ]
     },
     "execution_count": 6,
     "metadata": {},
     "output_type": "execute_result"
    }
   ],
   "source": [
    "# create summary of each attribute depending on its type\n",
    "# Q ---> min, max\n",
    "# N ---> unique\n",
    "data.agg(\n",
    "    {\n",
    "        \"res\":[\"min\", \"max\"],\n",
    "        \"pct\":[\"min\", \"max\"],\n",
    "        \"uni\":[\"unique\"],\n",
    "        \"type\":[\"unique\"],\n",
    "        \"state\":[\"unique\"],\n",
    "        \"region\":[\"unique\"],\n",
    "    }\n",
    "\n",
    ")"
   ]
  },
  {
   "cell_type": "markdown",
   "id": "1691d683-0074-4709-ae1c-beaed6b68614",
   "metadata": {},
   "source": [
    "### Simple Bar"
   ]
  },
  {
   "cell_type": "markdown",
   "id": "47c42750-7ff0-46cd-b20d-eba84e8d3a4c",
   "metadata": {},
   "source": [
    "How many students, at each university particapated in the survey?"
   ]
  },
  {
   "cell_type": "code",
   "execution_count": 7,
   "id": "bc757717-1849-46e3-8145-a52f94fbe87b",
   "metadata": {},
   "outputs": [],
   "source": [
    "# define variable\n",
    "chart = alt.Chart(data)"
   ]
  },
  {
   "cell_type": "code",
   "execution_count": 12,
   "id": "571c6ea2-1efd-45f1-b70f-19acd488b308",
   "metadata": {},
   "outputs": [
    {
     "data": {
      "text/html": [
       "\n",
       "<div id=\"altair-viz-50a7927b185c449497839513ad09610b\"></div>\n",
       "<script type=\"text/javascript\">\n",
       "  var VEGA_DEBUG = (typeof VEGA_DEBUG == \"undefined\") ? {} : VEGA_DEBUG;\n",
       "  (function(spec, embedOpt){\n",
       "    let outputDiv = document.currentScript.previousElementSibling;\n",
       "    if (outputDiv.id !== \"altair-viz-50a7927b185c449497839513ad09610b\") {\n",
       "      outputDiv = document.getElementById(\"altair-viz-50a7927b185c449497839513ad09610b\");\n",
       "    }\n",
       "    const paths = {\n",
       "      \"vega\": \"https://cdn.jsdelivr.net/npm//vega@5?noext\",\n",
       "      \"vega-lib\": \"https://cdn.jsdelivr.net/npm//vega-lib?noext\",\n",
       "      \"vega-lite\": \"https://cdn.jsdelivr.net/npm//vega-lite@4.17.0?noext\",\n",
       "      \"vega-embed\": \"https://cdn.jsdelivr.net/npm//vega-embed@6?noext\",\n",
       "    };\n",
       "\n",
       "    function maybeLoadScript(lib, version) {\n",
       "      var key = `${lib.replace(\"-\", \"\")}_version`;\n",
       "      return (VEGA_DEBUG[key] == version) ?\n",
       "        Promise.resolve(paths[lib]) :\n",
       "        new Promise(function(resolve, reject) {\n",
       "          var s = document.createElement('script');\n",
       "          document.getElementsByTagName(\"head\")[0].appendChild(s);\n",
       "          s.async = true;\n",
       "          s.onload = () => {\n",
       "            VEGA_DEBUG[key] = version;\n",
       "            return resolve(paths[lib]);\n",
       "          };\n",
       "          s.onerror = () => reject(`Error loading script: ${paths[lib]}`);\n",
       "          s.src = paths[lib];\n",
       "        });\n",
       "    }\n",
       "\n",
       "    function showError(err) {\n",
       "      outputDiv.innerHTML = `<div class=\"error\" style=\"color:red;\">${err}</div>`;\n",
       "      throw err;\n",
       "    }\n",
       "\n",
       "    function displayChart(vegaEmbed) {\n",
       "      vegaEmbed(outputDiv, spec, embedOpt)\n",
       "        .catch(err => showError(`Javascript Error: ${err.message}<br>This usually means there's a typo in your chart specification. See the javascript console for the full traceback.`));\n",
       "    }\n",
       "\n",
       "    if(typeof define === \"function\" && define.amd) {\n",
       "      requirejs.config({paths});\n",
       "      require([\"vega-embed\"], displayChart, err => showError(`Error loading script: ${err.message}`));\n",
       "    } else {\n",
       "      maybeLoadScript(\"vega\", \"5\")\n",
       "        .then(() => maybeLoadScript(\"vega-lite\", \"4.17.0\"))\n",
       "        .then(() => maybeLoadScript(\"vega-embed\", \"6\"))\n",
       "        .catch(showError)\n",
       "        .then(() => displayChart(vegaEmbed));\n",
       "    }\n",
       "  })({\"config\": {\"view\": {\"continuousWidth\": 400, \"continuousHeight\": 300}}, \"data\": {\"name\": \"data-625a034231e7cf75ff53895cdf90a07a\"}, \"mark\": \"bar\", \"encoding\": {\"x\": {\"field\": \"uni_abbr\", \"type\": \"nominal\"}, \"y\": {\"field\": \"res\", \"type\": \"quantitative\"}}, \"$schema\": \"https://vega.github.io/schema/vega-lite/v4.17.0.json\", \"datasets\": {\"data-625a034231e7cf75ff53895cdf90a07a\": [{\"uni\": \"Appalachian State University\", \"type\": \"Nonuse\", \"res\": 46, \"pct\": 0.4, \"state\": \"North Carolina\", \"region\": \"south\", \"uni_abbr\": \"ASU\"}, {\"uni\": \"Appalachian State University\", \"type\": \"No\", \"res\": 53, \"pct\": 0.461, \"state\": \"North Carolina\", \"region\": \"south\", \"uni_abbr\": \"ASU\"}, {\"uni\": \"Appalachian State University\", \"type\": \"Yes\", \"res\": 16, \"pct\": 0.139, \"state\": \"North Carolina\", \"region\": \"south\", \"uni_abbr\": \"ASU\"}, {\"uni\": \"Butler University\", \"type\": \"Nonuse\", \"res\": 17, \"pct\": 0.25, \"state\": \"Indiana\", \"region\": \"midwest\", \"uni_abbr\": \"BU\"}, {\"uni\": \"Butler University\", \"type\": \"No\", \"res\": 44, \"pct\": 0.647, \"state\": \"Indiana\", \"region\": \"midwest\", \"uni_abbr\": \"BU\"}, {\"uni\": \"Butler University\", \"type\": \"Yes\", \"res\": 7, \"pct\": 0.103, \"state\": \"Indiana\", \"region\": \"midwest\", \"uni_abbr\": \"BU\"}, {\"uni\": \"Cal Poly San Luis Obispo\", \"type\": \"Nonuse\", \"res\": 7, \"pct\": 0.28, \"state\": \"California\", \"region\": \"pacific\", \"uni_abbr\": \"CPSLO\"}, {\"uni\": \"Cal Poly San Luis Obispo\", \"type\": \"No\", \"res\": 10, \"pct\": 0.4, \"state\": \"California\", \"region\": \"pacific\", \"uni_abbr\": \"CPSLO\"}, {\"uni\": \"Cal Poly San Luis Obispo\", \"type\": \"Yes\", \"res\": 8, \"pct\": 0.32, \"state\": \"California\", \"region\": \"pacific\", \"uni_abbr\": \"CPSLO\"}, {\"uni\": \"Case Western Reserve University\", \"type\": \"Nonuse\", \"res\": 12, \"pct\": 0.387, \"state\": \"Ohio\", \"region\": \"midwest\", \"uni_abbr\": \"CWRU\"}, {\"uni\": \"Case Western Reserve University\", \"type\": \"No\", \"res\": 12, \"pct\": 0.387, \"state\": \"Ohio\", \"region\": \"midwest\", \"uni_abbr\": \"CWRU\"}, {\"uni\": \"Case Western Reserve University\", \"type\": \"Yes\", \"res\": 7, \"pct\": 0.226, \"state\": \"Ohio\", \"region\": \"midwest\", \"uni_abbr\": \"CWRU\"}, {\"uni\": \"Chapman University\", \"type\": \"Nonuse\", \"res\": 19, \"pct\": 0.302, \"state\": \"California\", \"region\": \"pacific\", \"uni_abbr\": \"Chap\"}, {\"uni\": \"Chapman University\", \"type\": \"No\", \"res\": 31, \"pct\": 0.492, \"state\": \"California\", \"region\": \"pacific\", \"uni_abbr\": \"Chap\"}, {\"uni\": \"Chapman University\", \"type\": \"Yes\", \"res\": 13, \"pct\": 0.206, \"state\": \"California\", \"region\": \"pacific\", \"uni_abbr\": \"Chap\"}, {\"uni\": \"Colby College\", \"type\": \"Nonuse\", \"res\": 2, \"pct\": 0.143, \"state\": \"Maine\", \"region\": \"northeast\", \"uni_abbr\": \"CC\"}, {\"uni\": \"Colby College\", \"type\": \"No\", \"res\": 11, \"pct\": 0.786, \"state\": \"Maine\", \"region\": \"northeast\", \"uni_abbr\": \"CC\"}, {\"uni\": \"Colby College\", \"type\": \"Yes\", \"res\": 1, \"pct\": 0.071, \"state\": \"Maine\", \"region\": \"northeast\", \"uni_abbr\": \"CC\"}, {\"uni\": \"College of William and Mary\", \"type\": \"Nonuse\", \"res\": 6, \"pct\": 0.375, \"state\": \"Virginia\", \"region\": \"south\", \"uni_abbr\": \"WAM\"}, {\"uni\": \"College of William and Mary\", \"type\": \"No\", \"res\": 7, \"pct\": 0.438, \"state\": \"Virginia\", \"region\": \"south\", \"uni_abbr\": \"WAM\"}, {\"uni\": \"College of William and Mary\", \"type\": \"Yes\", \"res\": 3, \"pct\": 0.188, \"state\": \"Virginia\", \"region\": \"south\", \"uni_abbr\": \"WAM\"}, {\"uni\": \"Cornell University\", \"type\": \"Nonuse\", \"res\": 51, \"pct\": 0.264, \"state\": \"New York\", \"region\": \"northeast\", \"uni_abbr\": \"CU\"}, {\"uni\": \"Cornell University\", \"type\": \"No\", \"res\": 95, \"pct\": 0.492, \"state\": \"New York\", \"region\": \"northeast\", \"uni_abbr\": \"CU\"}, {\"uni\": \"Cornell University\", \"type\": \"Yes\", \"res\": 47, \"pct\": 0.244, \"state\": \"New York\", \"region\": \"northeast\", \"uni_abbr\": \"CU\"}, {\"uni\": \"Dartmouth College\", \"type\": \"Nonuse\", \"res\": 2, \"pct\": 0.2, \"state\": \"New Hampshire\", \"region\": \"northeast\", \"uni_abbr\": \"DC\"}, {\"uni\": \"Dartmouth College\", \"type\": \"No\", \"res\": 3, \"pct\": 0.3, \"state\": \"New Hampshire\", \"region\": \"northeast\", \"uni_abbr\": \"DC\"}, {\"uni\": \"Dartmouth College\", \"type\": \"Yes\", \"res\": 5, \"pct\": 0.5, \"state\": \"New Hampshire\", \"region\": \"northeast\", \"uni_abbr\": \"DC\"}, {\"uni\": \"Indiana University\", \"type\": \"Nonuse\", \"res\": 5, \"pct\": 0.114, \"state\": \"Indiana\", \"region\": \"midwest\", \"uni_abbr\": \"IU\"}, {\"uni\": \"Indiana University\", \"type\": \"No\", \"res\": 30, \"pct\": 0.682, \"state\": \"Indiana\", \"region\": \"midwest\", \"uni_abbr\": \"IU\"}, {\"uni\": \"Indiana University\", \"type\": \"Yes\", \"res\": 9, \"pct\": 0.205, \"state\": \"Indiana\", \"region\": \"midwest\", \"uni_abbr\": \"IU\"}, {\"uni\": \"Johns Hopkins University\", \"type\": \"Nonuse\", \"res\": 29, \"pct\": 0.21, \"state\": \"Maryland\", \"region\": \"northeast\", \"uni_abbr\": \"JHU\"}, {\"uni\": \"Johns Hopkins University\", \"type\": \"No\", \"res\": 76, \"pct\": 0.551, \"state\": \"Maryland\", \"region\": \"northeast\", \"uni_abbr\": \"JHU\"}, {\"uni\": \"Johns Hopkins University\", \"type\": \"Yes\", \"res\": 33, \"pct\": 0.239, \"state\": \"Maryland\", \"region\": \"northeast\", \"uni_abbr\": \"JHU\"}, {\"uni\": \"Northwestern University\", \"type\": \"Nonuse\", \"res\": 24, \"pct\": 0.2, \"state\": \"Illinois\", \"region\": \"midwest\", \"uni_abbr\": \"NU\"}, {\"uni\": \"Northwestern University\", \"type\": \"No\", \"res\": 65, \"pct\": 0.542, \"state\": \"Illinois\", \"region\": \"midwest\", \"uni_abbr\": \"NU\"}, {\"uni\": \"Northwestern University\", \"type\": \"Yes\", \"res\": 31, \"pct\": 0.258, \"state\": \"Illinois\", \"region\": \"midwest\", \"uni_abbr\": \"NU\"}, {\"uni\": \"Ohio State University\", \"type\": \"Nonuse\", \"res\": 1, \"pct\": 0.053, \"state\": \"Ohio\", \"region\": \"midwest\", \"uni_abbr\": \"OSU\"}, {\"uni\": \"Ohio State University\", \"type\": \"No\", \"res\": 12, \"pct\": 0.632, \"state\": \"Ohio\", \"region\": \"midwest\", \"uni_abbr\": \"OSU\"}, {\"uni\": \"Ohio State University\", \"type\": \"Yes\", \"res\": 6, \"pct\": 0.316, \"state\": \"Ohio\", \"region\": \"midwest\", \"uni_abbr\": \"OSU\"}, {\"uni\": \"Purdue University\", \"type\": \"Nonuse\", \"res\": 8, \"pct\": 0.308, \"state\": \"Indiana\", \"region\": \"midwest\", \"uni_abbr\": \"PU\"}, {\"uni\": \"Purdue University\", \"type\": \"No\", \"res\": 13, \"pct\": 0.5, \"state\": \"Indiana\", \"region\": \"midwest\", \"uni_abbr\": \"PU\"}, {\"uni\": \"Purdue University\", \"type\": \"Yes\", \"res\": 5, \"pct\": 0.192, \"state\": \"Indiana\", \"region\": \"midwest\", \"uni_abbr\": \"PU\"}, {\"uni\": \"San Diego State University\", \"type\": \"Nonuse\", \"res\": 6, \"pct\": 0.231, \"state\": \"California\", \"region\": \"pacific\", \"uni_abbr\": \"SDSU\"}, {\"uni\": \"San Diego State University\", \"type\": \"No\", \"res\": 15, \"pct\": 0.577, \"state\": \"California\", \"region\": \"pacific\", \"uni_abbr\": \"SDSU\"}, {\"uni\": \"San Diego State University\", \"type\": \"Yes\", \"res\": 5, \"pct\": 0.192, \"state\": \"California\", \"region\": \"pacific\", \"uni_abbr\": \"SDSU\"}, {\"uni\": \"Stanford University\", \"type\": \"Nonuse\", \"res\": 37, \"pct\": 0.343, \"state\": \"California\", \"region\": \"pacific\", \"uni_abbr\": \"SU\"}, {\"uni\": \"Stanford University\", \"type\": \"No\", \"res\": 58, \"pct\": 0.537, \"state\": \"California\", \"region\": \"pacific\", \"uni_abbr\": \"SU\"}, {\"uni\": \"Stanford University\", \"type\": \"Yes\", \"res\": 13, \"pct\": 0.12, \"state\": \"California\", \"region\": \"pacific\", \"uni_abbr\": \"SU\"}, {\"uni\": \"Texas A&M University\", \"type\": \"Nonuse\", \"res\": 12, \"pct\": 0.222, \"state\": \"Texas\", \"region\": \"mountain\", \"uni_abbr\": \"TAU\"}, {\"uni\": \"Texas A&M University\", \"type\": \"No\", \"res\": 29, \"pct\": 0.537, \"state\": \"Texas\", \"region\": \"mountain\", \"uni_abbr\": \"TAU\"}, {\"uni\": \"Texas A&M University\", \"type\": \"Yes\", \"res\": 13, \"pct\": 0.241, \"state\": \"Texas\", \"region\": \"mountain\", \"uni_abbr\": \"TAU\"}, {\"uni\": \"Texas Christian University\", \"type\": \"Nonuse\", \"res\": 10, \"pct\": 0.385, \"state\": \"Texas\", \"region\": \"mountain\", \"uni_abbr\": \"TCU\"}, {\"uni\": \"Texas Christian University\", \"type\": \"No\", \"res\": 8, \"pct\": 0.308, \"state\": \"Texas\", \"region\": \"mountain\", \"uni_abbr\": \"TCU\"}, {\"uni\": \"Texas Christian University\", \"type\": \"Yes\", \"res\": 8, \"pct\": 0.308, \"state\": \"Texas\", \"region\": \"mountain\", \"uni_abbr\": \"TCU\"}, {\"uni\": \"Texas Tech University\", \"type\": \"Nonuse\", \"res\": 5, \"pct\": 0.385, \"state\": \"Texas\", \"region\": \"mountain\", \"uni_abbr\": \"TTU\"}, {\"uni\": \"Texas Tech University\", \"type\": \"No\", \"res\": 5, \"pct\": 0.385, \"state\": \"Texas\", \"region\": \"mountain\", \"uni_abbr\": \"TTU\"}, {\"uni\": \"Texas Tech University\", \"type\": \"Yes\", \"res\": 3, \"pct\": 0.231, \"state\": \"Texas\", \"region\": \"mountain\", \"uni_abbr\": \"TTU\"}, {\"uni\": \"UMass Amherst\", \"type\": \"Nonuse\", \"res\": 3, \"pct\": 0.25, \"state\": \"Massachusetts\", \"region\": \"northeast\", \"uni_abbr\": \"Amherst\"}, {\"uni\": \"UMass Amherst\", \"type\": \"No\", \"res\": 6, \"pct\": 0.5, \"state\": \"Massachusetts\", \"region\": \"northeast\", \"uni_abbr\": \"Amherst\"}, {\"uni\": \"UMass Amherst\", \"type\": \"Yes\", \"res\": 3, \"pct\": 0.25, \"state\": \"Massachusetts\", \"region\": \"northeast\", \"uni_abbr\": \"Amherst\"}, {\"uni\": \"University of Alabama\", \"type\": \"Nonuse\", \"res\": 2, \"pct\": 0.133, \"state\": \"Alabama\", \"region\": \"south\", \"uni_abbr\": \"UOAL\"}, {\"uni\": \"University of Alabama\", \"type\": \"No\", \"res\": 11, \"pct\": 0.733, \"state\": \"Alabama\", \"region\": \"south\", \"uni_abbr\": \"UOAL\"}, {\"uni\": \"University of Alabama\", \"type\": \"Yes\", \"res\": 2, \"pct\": 0.133, \"state\": \"Alabama\", \"region\": \"south\", \"uni_abbr\": \"UOAL\"}, {\"uni\": \"University of Arizona\", \"type\": \"Nonuse\", \"res\": 3, \"pct\": 0.273, \"state\": \"Arizona\", \"region\": \"pacific\", \"uni_abbr\": \"UOAR\"}, {\"uni\": \"University of Arizona\", \"type\": \"No\", \"res\": 4, \"pct\": 0.364, \"state\": \"Arizona\", \"region\": \"pacific\", \"uni_abbr\": \"UOAR\"}, {\"uni\": \"University of Arizona\", \"type\": \"Yes\", \"res\": 4, \"pct\": 0.364, \"state\": \"Arizona\", \"region\": \"pacific\", \"uni_abbr\": \"UOAR\"}, {\"uni\": \"University of Arkansas\", \"type\": \"Nonuse\", \"res\": 19, \"pct\": 0.288, \"state\": \"Arkansas\", \"region\": \"south\", \"uni_abbr\": \"UOAK\"}, {\"uni\": \"University of Arkansas\", \"type\": \"No\", \"res\": 35, \"pct\": 0.53, \"state\": \"Arkansas\", \"region\": \"south\", \"uni_abbr\": \"UOAK\"}, {\"uni\": \"University of Arkansas\", \"type\": \"Yes\", \"res\": 12, \"pct\": 0.182, \"state\": \"Arkansas\", \"region\": \"south\", \"uni_abbr\": \"UOAK\"}, {\"uni\": \"University of California, Berkeley\", \"type\": \"Nonuse\", \"res\": 19, \"pct\": 0.209, \"state\": \"California\", \"region\": \"pacific\", \"uni_abbr\": \"UOCB\"}, {\"uni\": \"University of California, Berkeley\", \"type\": \"No\", \"res\": 47, \"pct\": 0.516, \"state\": \"California\", \"region\": \"pacific\", \"uni_abbr\": \"UOCB\"}, {\"uni\": \"University of California, Berkeley\", \"type\": \"Yes\", \"res\": 25, \"pct\": 0.275, \"state\": \"California\", \"region\": \"pacific\", \"uni_abbr\": \"UOCB\"}, {\"uni\": \"University of California, Davis\", \"type\": \"Nonuse\", \"res\": 6, \"pct\": 0.353, \"state\": \"California\", \"region\": \"pacific\", \"uni_abbr\": \"UOCD\"}, {\"uni\": \"University of California, Davis\", \"type\": \"No\", \"res\": 8, \"pct\": 0.471, \"state\": \"California\", \"region\": \"pacific\", \"uni_abbr\": \"UOCD\"}, {\"uni\": \"University of California, Davis\", \"type\": \"Yes\", \"res\": 3, \"pct\": 0.176, \"state\": \"California\", \"region\": \"pacific\", \"uni_abbr\": \"UOCD\"}, {\"uni\": \"University of California, Los Angeles\", \"type\": \"Nonuse\", \"res\": 5, \"pct\": 0.385, \"state\": \"California\", \"region\": \"pacific\", \"uni_abbr\": \"UOCLA\"}, {\"uni\": \"University of California, Los Angeles\", \"type\": \"No\", \"res\": 7, \"pct\": 0.538, \"state\": \"California\", \"region\": \"pacific\", \"uni_abbr\": \"UOCLA\"}, {\"uni\": \"University of California, Los Angeles\", \"type\": \"Yes\", \"res\": 1, \"pct\": 0.077, \"state\": \"California\", \"region\": \"pacific\", \"uni_abbr\": \"UOCLA\"}, {\"uni\": \"University of California, Santa Barbara\", \"type\": \"Nonuse\", \"res\": 17, \"pct\": 0.227, \"state\": \"California\", \"region\": \"pacific\", \"uni_abbr\": \"UOCSB\"}, {\"uni\": \"University of California, Santa Barbara\", \"type\": \"No\", \"res\": 34, \"pct\": 0.453, \"state\": \"California\", \"region\": \"pacific\", \"uni_abbr\": \"UOCSB\"}, {\"uni\": \"University of California, Santa Barbara\", \"type\": \"Yes\", \"res\": 24, \"pct\": 0.32, \"state\": \"California\", \"region\": \"pacific\", \"uni_abbr\": \"UOCSB\"}, {\"uni\": \"University of Georgia\", \"type\": \"Nonuse\", \"res\": 1, \"pct\": 0.091, \"state\": \"Georgia\", \"region\": \"south\", \"uni_abbr\": \"UOG\"}, {\"uni\": \"University of Georgia\", \"type\": \"No\", \"res\": 9, \"pct\": 0.818, \"state\": \"Georgia\", \"region\": \"south\", \"uni_abbr\": \"UOG\"}, {\"uni\": \"University of Georgia\", \"type\": \"Yes\", \"res\": 1, \"pct\": 0.091, \"state\": \"Georgia\", \"region\": \"south\", \"uni_abbr\": \"UOG\"}, {\"uni\": \"University of Illinois\", \"type\": \"Nonuse\", \"res\": 8, \"pct\": 0.17, \"state\": \"Illinois\", \"region\": \"midwest\", \"uni_abbr\": \"UOI\"}, {\"uni\": \"University of Illinois\", \"type\": \"No\", \"res\": 29, \"pct\": 0.617, \"state\": \"Illinois\", \"region\": \"midwest\", \"uni_abbr\": \"UOI\"}, {\"uni\": \"University of Illinois\", \"type\": \"Yes\", \"res\": 10, \"pct\": 0.213, \"state\": \"Illinois\", \"region\": \"midwest\", \"uni_abbr\": \"UOI\"}, {\"uni\": \"University of Kansas\", \"type\": \"Nonuse\", \"res\": 2, \"pct\": 0.2, \"state\": \"Kansas\", \"region\": \"midwest\", \"uni_abbr\": \"UOK\"}, {\"uni\": \"University of Kansas\", \"type\": \"No\", \"res\": 5, \"pct\": 0.5, \"state\": \"Kansas\", \"region\": \"midwest\", \"uni_abbr\": \"UOK\"}, {\"uni\": \"University of Kansas\", \"type\": \"Yes\", \"res\": 3, \"pct\": 0.3, \"state\": \"Kansas\", \"region\": \"midwest\", \"uni_abbr\": \"UOK\"}, {\"uni\": \"University of Michigan\", \"type\": \"Nonuse\", \"res\": 23, \"pct\": 0.267, \"state\": \"Michigan\", \"region\": \"midwest\", \"uni_abbr\": \"Mich\"}, {\"uni\": \"University of Michigan\", \"type\": \"No\", \"res\": 49, \"pct\": 0.57, \"state\": \"Michigan\", \"region\": \"midwest\", \"uni_abbr\": \"Mich\"}, {\"uni\": \"University of Michigan\", \"type\": \"Yes\", \"res\": 14, \"pct\": 0.163, \"state\": \"Michigan\", \"region\": \"midwest\", \"uni_abbr\": \"Mich\"}, {\"uni\": \"University of Missouri\", \"type\": \"Nonuse\", \"res\": 8, \"pct\": 0.267, \"state\": \"Missouri\", \"region\": \"midwest\", \"uni_abbr\": \"Miss\"}, {\"uni\": \"University of Missouri\", \"type\": \"No\", \"res\": 15, \"pct\": 0.5, \"state\": \"Missouri\", \"region\": \"midwest\", \"uni_abbr\": \"Miss\"}, {\"uni\": \"University of Missouri\", \"type\": \"Yes\", \"res\": 7, \"pct\": 0.233, \"state\": \"Missouri\", \"region\": \"midwest\", \"uni_abbr\": \"Miss\"}, {\"uni\": \"University of North Carolina\", \"type\": \"Nonuse\", \"res\": 3, \"pct\": 0.25, \"state\": \"North Carolina\", \"region\": \"south\", \"uni_abbr\": \"UONC\"}, {\"uni\": \"University of North Carolina\", \"type\": \"No\", \"res\": 8, \"pct\": 0.667, \"state\": \"North Carolina\", \"region\": \"south\", \"uni_abbr\": \"UONC\"}, {\"uni\": \"University of North Carolina\", \"type\": \"Yes\", \"res\": 1, \"pct\": 0.083, \"state\": \"North Carolina\", \"region\": \"south\", \"uni_abbr\": \"UONC\"}, {\"uni\": \"University of Pennsylvania\", \"type\": \"Nonuse\", \"res\": 24, \"pct\": 0.222, \"state\": \"Pennsylvania\", \"region\": \"northeast\", \"uni_abbr\": \"UOP\"}, {\"uni\": \"University of Pennsylvania\", \"type\": \"No\", \"res\": 60, \"pct\": 0.556, \"state\": \"Pennsylvania\", \"region\": \"northeast\", \"uni_abbr\": \"UOP\"}, {\"uni\": \"University of Pennsylvania\", \"type\": \"Yes\", \"res\": 24, \"pct\": 0.222, \"state\": \"Pennsylvania\", \"region\": \"northeast\", \"uni_abbr\": \"UOP\"}, {\"uni\": \"University of Richmond\", \"type\": \"Nonuse\", \"res\": 7, \"pct\": 0.389, \"state\": \"Virginia\", \"region\": \"south\", \"uni_abbr\": \"UOR\"}, {\"uni\": \"University of Richmond\", \"type\": \"No\", \"res\": 9, \"pct\": 0.5, \"state\": \"Virginia\", \"region\": \"south\", \"uni_abbr\": \"UOR\"}, {\"uni\": \"University of Richmond\", \"type\": \"Yes\", \"res\": 2, \"pct\": 0.111, \"state\": \"Virginia\", \"region\": \"south\", \"uni_abbr\": \"UOR\"}, {\"uni\": \"University of Southern California\", \"type\": \"Nonuse\", \"res\": 2, \"pct\": 0.2, \"state\": \"California\", \"region\": \"pacific\", \"uni_abbr\": \"UOSC\"}, {\"uni\": \"University of Southern California\", \"type\": \"No\", \"res\": 7, \"pct\": 0.7, \"state\": \"California\", \"region\": \"pacific\", \"uni_abbr\": \"UOSC\"}, {\"uni\": \"University of Southern California\", \"type\": \"Yes\", \"res\": 1, \"pct\": 0.1, \"state\": \"California\", \"region\": \"pacific\", \"uni_abbr\": \"UOSC\"}, {\"uni\": \"University of Texas\", \"type\": \"Nonuse\", \"res\": 26, \"pct\": 0.356, \"state\": \"Texas\", \"region\": \"mountain\", \"uni_abbr\": \"UOT\"}, {\"uni\": \"University of Texas\", \"type\": \"No\", \"res\": 35, \"pct\": 0.479, \"state\": \"Texas\", \"region\": \"mountain\", \"uni_abbr\": \"UOT\"}, {\"uni\": \"University of Texas\", \"type\": \"Yes\", \"res\": 12, \"pct\": 0.164, \"state\": \"Texas\", \"region\": \"mountain\", \"uni_abbr\": \"UOT\"}, {\"uni\": \"University of Virginia\", \"type\": \"Nonuse\", \"res\": 8, \"pct\": 0.444, \"state\": \"Virginia\", \"region\": \"south\", \"uni_abbr\": \"UOV\"}, {\"uni\": \"University of Virginia\", \"type\": \"No\", \"res\": 7, \"pct\": 0.389, \"state\": \"Virginia\", \"region\": \"south\", \"uni_abbr\": \"UOV\"}, {\"uni\": \"University of Virginia\", \"type\": \"Yes\", \"res\": 3, \"pct\": 0.167, \"state\": \"Virginia\", \"region\": \"south\", \"uni_abbr\": \"UOV\"}, {\"uni\": \"University of Wisconsin-Madison\", \"type\": \"Nonuse\", \"res\": 21, \"pct\": 0.167, \"state\": \"Wisconsin\", \"region\": \"midwest\", \"uni_abbr\": \"UOW\"}, {\"uni\": \"University of Wisconsin-Madison\", \"type\": \"No\", \"res\": 71, \"pct\": 0.563, \"state\": \"Wisconsin\", \"region\": \"midwest\", \"uni_abbr\": \"UOW\"}, {\"uni\": \"University of Wisconsin-Madison\", \"type\": \"Yes\", \"res\": 34, \"pct\": 0.27, \"state\": \"Wisconsin\", \"region\": \"midwest\", \"uni_abbr\": \"UOW\"}, {\"uni\": \"Vanderbilt University\", \"type\": \"Nonuse\", \"res\": 12, \"pct\": 0.122, \"state\": \"Tennessee\", \"region\": \"south\", \"uni_abbr\": \"VU\"}, {\"uni\": \"Vanderbilt University\", \"type\": \"No\", \"res\": 63, \"pct\": 0.643, \"state\": \"Tennessee\", \"region\": \"south\", \"uni_abbr\": \"VU\"}, {\"uni\": \"Vanderbilt University\", \"type\": \"Yes\", \"res\": 23, \"pct\": 0.235, \"state\": \"Tennessee\", \"region\": \"south\", \"uni_abbr\": \"VU\"}, {\"uni\": \"Washington State University\", \"type\": \"Nonuse\", \"res\": 6, \"pct\": 0.231, \"state\": \"Washington\", \"region\": \"pacific\", \"uni_abbr\": \"WSU\"}, {\"uni\": \"Washington State University\", \"type\": \"No\", \"res\": 12, \"pct\": 0.462, \"state\": \"Washington\", \"region\": \"pacific\", \"uni_abbr\": \"WSU\"}, {\"uni\": \"Washington State University\", \"type\": \"Yes\", \"res\": 8, \"pct\": 0.308, \"state\": \"Washington\", \"region\": \"pacific\", \"uni_abbr\": \"WSU\"}]}}, {\"mode\": \"vega-lite\"});\n",
       "</script>"
      ],
      "text/plain": [
       "alt.Chart(...)"
      ]
     },
     "execution_count": 12,
     "metadata": {},
     "output_type": "execute_result"
    }
   ],
   "source": [
    "# We could make a bar chart, using uni abbreviation in the x axis\n",
    "# to denote university, and responses in y axis to have number\n",
    "chart.mark_bar().encode(\n",
    "    alt.X(\"uni_abbr:N\"),\n",
    "    alt.Y(\"res\")\n",
    ")"
   ]
  },
  {
   "cell_type": "markdown",
   "id": "5c4d8dd3-bc1f-49e0-a33b-a937ca5da595",
   "metadata": {},
   "source": [
    "This bar chart is good for comparing quantitative values, we could use it to tell which university has most number of participants, **but** hard to tell when two universities that have similar amounts, which one is higher:\n",
    "\n",
    "e.g. **Amherst** and **TTU**\n",
    "\n",
    "To solve this, we could sort the graph instead and not have it alphebatically."
   ]
  },
  {
   "cell_type": "markdown",
   "id": "63ae782c-800b-4bc8-9383-6dd610236c79",
   "metadata": {},
   "source": [
    "### Sorted"
   ]
  },
  {
   "cell_type": "markdown",
   "id": "3ad9e91f-7375-4976-bbbb-e2e99d9d40ed",
   "metadata": {},
   "source": [
    "In order to sort values, we need to inclued **sort** property and specify how data should be arranged."
   ]
  },
  {
   "cell_type": "code",
   "execution_count": 13,
   "id": "918526db-084e-4ebb-80f3-6f8e4563d6b8",
   "metadata": {},
   "outputs": [
    {
     "data": {
      "text/html": [
       "\n",
       "<div id=\"altair-viz-f489722a83ed4d35bf783b2a917138b0\"></div>\n",
       "<script type=\"text/javascript\">\n",
       "  var VEGA_DEBUG = (typeof VEGA_DEBUG == \"undefined\") ? {} : VEGA_DEBUG;\n",
       "  (function(spec, embedOpt){\n",
       "    let outputDiv = document.currentScript.previousElementSibling;\n",
       "    if (outputDiv.id !== \"altair-viz-f489722a83ed4d35bf783b2a917138b0\") {\n",
       "      outputDiv = document.getElementById(\"altair-viz-f489722a83ed4d35bf783b2a917138b0\");\n",
       "    }\n",
       "    const paths = {\n",
       "      \"vega\": \"https://cdn.jsdelivr.net/npm//vega@5?noext\",\n",
       "      \"vega-lib\": \"https://cdn.jsdelivr.net/npm//vega-lib?noext\",\n",
       "      \"vega-lite\": \"https://cdn.jsdelivr.net/npm//vega-lite@4.17.0?noext\",\n",
       "      \"vega-embed\": \"https://cdn.jsdelivr.net/npm//vega-embed@6?noext\",\n",
       "    };\n",
       "\n",
       "    function maybeLoadScript(lib, version) {\n",
       "      var key = `${lib.replace(\"-\", \"\")}_version`;\n",
       "      return (VEGA_DEBUG[key] == version) ?\n",
       "        Promise.resolve(paths[lib]) :\n",
       "        new Promise(function(resolve, reject) {\n",
       "          var s = document.createElement('script');\n",
       "          document.getElementsByTagName(\"head\")[0].appendChild(s);\n",
       "          s.async = true;\n",
       "          s.onload = () => {\n",
       "            VEGA_DEBUG[key] = version;\n",
       "            return resolve(paths[lib]);\n",
       "          };\n",
       "          s.onerror = () => reject(`Error loading script: ${paths[lib]}`);\n",
       "          s.src = paths[lib];\n",
       "        });\n",
       "    }\n",
       "\n",
       "    function showError(err) {\n",
       "      outputDiv.innerHTML = `<div class=\"error\" style=\"color:red;\">${err}</div>`;\n",
       "      throw err;\n",
       "    }\n",
       "\n",
       "    function displayChart(vegaEmbed) {\n",
       "      vegaEmbed(outputDiv, spec, embedOpt)\n",
       "        .catch(err => showError(`Javascript Error: ${err.message}<br>This usually means there's a typo in your chart specification. See the javascript console for the full traceback.`));\n",
       "    }\n",
       "\n",
       "    if(typeof define === \"function\" && define.amd) {\n",
       "      requirejs.config({paths});\n",
       "      require([\"vega-embed\"], displayChart, err => showError(`Error loading script: ${err.message}`));\n",
       "    } else {\n",
       "      maybeLoadScript(\"vega\", \"5\")\n",
       "        .then(() => maybeLoadScript(\"vega-lite\", \"4.17.0\"))\n",
       "        .then(() => maybeLoadScript(\"vega-embed\", \"6\"))\n",
       "        .catch(showError)\n",
       "        .then(() => displayChart(vegaEmbed));\n",
       "    }\n",
       "  })({\"config\": {\"view\": {\"continuousWidth\": 400, \"continuousHeight\": 300}}, \"data\": {\"name\": \"data-625a034231e7cf75ff53895cdf90a07a\"}, \"mark\": \"bar\", \"encoding\": {\"x\": {\"field\": \"uni_abbr\", \"sort\": \"-y\", \"type\": \"nominal\"}, \"y\": {\"field\": \"res\", \"type\": \"quantitative\"}}, \"$schema\": \"https://vega.github.io/schema/vega-lite/v4.17.0.json\", \"datasets\": {\"data-625a034231e7cf75ff53895cdf90a07a\": [{\"uni\": \"Appalachian State University\", \"type\": \"Nonuse\", \"res\": 46, \"pct\": 0.4, \"state\": \"North Carolina\", \"region\": \"south\", \"uni_abbr\": \"ASU\"}, {\"uni\": \"Appalachian State University\", \"type\": \"No\", \"res\": 53, \"pct\": 0.461, \"state\": \"North Carolina\", \"region\": \"south\", \"uni_abbr\": \"ASU\"}, {\"uni\": \"Appalachian State University\", \"type\": \"Yes\", \"res\": 16, \"pct\": 0.139, \"state\": \"North Carolina\", \"region\": \"south\", \"uni_abbr\": \"ASU\"}, {\"uni\": \"Butler University\", \"type\": \"Nonuse\", \"res\": 17, \"pct\": 0.25, \"state\": \"Indiana\", \"region\": \"midwest\", \"uni_abbr\": \"BU\"}, {\"uni\": \"Butler University\", \"type\": \"No\", \"res\": 44, \"pct\": 0.647, \"state\": \"Indiana\", \"region\": \"midwest\", \"uni_abbr\": \"BU\"}, {\"uni\": \"Butler University\", \"type\": \"Yes\", \"res\": 7, \"pct\": 0.103, \"state\": \"Indiana\", \"region\": \"midwest\", \"uni_abbr\": \"BU\"}, {\"uni\": \"Cal Poly San Luis Obispo\", \"type\": \"Nonuse\", \"res\": 7, \"pct\": 0.28, \"state\": \"California\", \"region\": \"pacific\", \"uni_abbr\": \"CPSLO\"}, {\"uni\": \"Cal Poly San Luis Obispo\", \"type\": \"No\", \"res\": 10, \"pct\": 0.4, \"state\": \"California\", \"region\": \"pacific\", \"uni_abbr\": \"CPSLO\"}, {\"uni\": \"Cal Poly San Luis Obispo\", \"type\": \"Yes\", \"res\": 8, \"pct\": 0.32, \"state\": \"California\", \"region\": \"pacific\", \"uni_abbr\": \"CPSLO\"}, {\"uni\": \"Case Western Reserve University\", \"type\": \"Nonuse\", \"res\": 12, \"pct\": 0.387, \"state\": \"Ohio\", \"region\": \"midwest\", \"uni_abbr\": \"CWRU\"}, {\"uni\": \"Case Western Reserve University\", \"type\": \"No\", \"res\": 12, \"pct\": 0.387, \"state\": \"Ohio\", \"region\": \"midwest\", \"uni_abbr\": \"CWRU\"}, {\"uni\": \"Case Western Reserve University\", \"type\": \"Yes\", \"res\": 7, \"pct\": 0.226, \"state\": \"Ohio\", \"region\": \"midwest\", \"uni_abbr\": \"CWRU\"}, {\"uni\": \"Chapman University\", \"type\": \"Nonuse\", \"res\": 19, \"pct\": 0.302, \"state\": \"California\", \"region\": \"pacific\", \"uni_abbr\": \"Chap\"}, {\"uni\": \"Chapman University\", \"type\": \"No\", \"res\": 31, \"pct\": 0.492, \"state\": \"California\", \"region\": \"pacific\", \"uni_abbr\": \"Chap\"}, {\"uni\": \"Chapman University\", \"type\": \"Yes\", \"res\": 13, \"pct\": 0.206, \"state\": \"California\", \"region\": \"pacific\", \"uni_abbr\": \"Chap\"}, {\"uni\": \"Colby College\", \"type\": \"Nonuse\", \"res\": 2, \"pct\": 0.143, \"state\": \"Maine\", \"region\": \"northeast\", \"uni_abbr\": \"CC\"}, {\"uni\": \"Colby College\", \"type\": \"No\", \"res\": 11, \"pct\": 0.786, \"state\": \"Maine\", \"region\": \"northeast\", \"uni_abbr\": \"CC\"}, {\"uni\": \"Colby College\", \"type\": \"Yes\", \"res\": 1, \"pct\": 0.071, \"state\": \"Maine\", \"region\": \"northeast\", \"uni_abbr\": \"CC\"}, {\"uni\": \"College of William and Mary\", \"type\": \"Nonuse\", \"res\": 6, \"pct\": 0.375, \"state\": \"Virginia\", \"region\": \"south\", \"uni_abbr\": \"WAM\"}, {\"uni\": \"College of William and Mary\", \"type\": \"No\", \"res\": 7, \"pct\": 0.438, \"state\": \"Virginia\", \"region\": \"south\", \"uni_abbr\": \"WAM\"}, {\"uni\": \"College of William and Mary\", \"type\": \"Yes\", \"res\": 3, \"pct\": 0.188, \"state\": \"Virginia\", \"region\": \"south\", \"uni_abbr\": \"WAM\"}, {\"uni\": \"Cornell University\", \"type\": \"Nonuse\", \"res\": 51, \"pct\": 0.264, \"state\": \"New York\", \"region\": \"northeast\", \"uni_abbr\": \"CU\"}, {\"uni\": \"Cornell University\", \"type\": \"No\", \"res\": 95, \"pct\": 0.492, \"state\": \"New York\", \"region\": \"northeast\", \"uni_abbr\": \"CU\"}, {\"uni\": \"Cornell University\", \"type\": \"Yes\", \"res\": 47, \"pct\": 0.244, \"state\": \"New York\", \"region\": \"northeast\", \"uni_abbr\": \"CU\"}, {\"uni\": \"Dartmouth College\", \"type\": \"Nonuse\", \"res\": 2, \"pct\": 0.2, \"state\": \"New Hampshire\", \"region\": \"northeast\", \"uni_abbr\": \"DC\"}, {\"uni\": \"Dartmouth College\", \"type\": \"No\", \"res\": 3, \"pct\": 0.3, \"state\": \"New Hampshire\", \"region\": \"northeast\", \"uni_abbr\": \"DC\"}, {\"uni\": \"Dartmouth College\", \"type\": \"Yes\", \"res\": 5, \"pct\": 0.5, \"state\": \"New Hampshire\", \"region\": \"northeast\", \"uni_abbr\": \"DC\"}, {\"uni\": \"Indiana University\", \"type\": \"Nonuse\", \"res\": 5, \"pct\": 0.114, \"state\": \"Indiana\", \"region\": \"midwest\", \"uni_abbr\": \"IU\"}, {\"uni\": \"Indiana University\", \"type\": \"No\", \"res\": 30, \"pct\": 0.682, \"state\": \"Indiana\", \"region\": \"midwest\", \"uni_abbr\": \"IU\"}, {\"uni\": \"Indiana University\", \"type\": \"Yes\", \"res\": 9, \"pct\": 0.205, \"state\": \"Indiana\", \"region\": \"midwest\", \"uni_abbr\": \"IU\"}, {\"uni\": \"Johns Hopkins University\", \"type\": \"Nonuse\", \"res\": 29, \"pct\": 0.21, \"state\": \"Maryland\", \"region\": \"northeast\", \"uni_abbr\": \"JHU\"}, {\"uni\": \"Johns Hopkins University\", \"type\": \"No\", \"res\": 76, \"pct\": 0.551, \"state\": \"Maryland\", \"region\": \"northeast\", \"uni_abbr\": \"JHU\"}, {\"uni\": \"Johns Hopkins University\", \"type\": \"Yes\", \"res\": 33, \"pct\": 0.239, \"state\": \"Maryland\", \"region\": \"northeast\", \"uni_abbr\": \"JHU\"}, {\"uni\": \"Northwestern University\", \"type\": \"Nonuse\", \"res\": 24, \"pct\": 0.2, \"state\": \"Illinois\", \"region\": \"midwest\", \"uni_abbr\": \"NU\"}, {\"uni\": \"Northwestern University\", \"type\": \"No\", \"res\": 65, \"pct\": 0.542, \"state\": \"Illinois\", \"region\": \"midwest\", \"uni_abbr\": \"NU\"}, {\"uni\": \"Northwestern University\", \"type\": \"Yes\", \"res\": 31, \"pct\": 0.258, \"state\": \"Illinois\", \"region\": \"midwest\", \"uni_abbr\": \"NU\"}, {\"uni\": \"Ohio State University\", \"type\": \"Nonuse\", \"res\": 1, \"pct\": 0.053, \"state\": \"Ohio\", \"region\": \"midwest\", \"uni_abbr\": \"OSU\"}, {\"uni\": \"Ohio State University\", \"type\": \"No\", \"res\": 12, \"pct\": 0.632, \"state\": \"Ohio\", \"region\": \"midwest\", \"uni_abbr\": \"OSU\"}, {\"uni\": \"Ohio State University\", \"type\": \"Yes\", \"res\": 6, \"pct\": 0.316, \"state\": \"Ohio\", \"region\": \"midwest\", \"uni_abbr\": \"OSU\"}, {\"uni\": \"Purdue University\", \"type\": \"Nonuse\", \"res\": 8, \"pct\": 0.308, \"state\": \"Indiana\", \"region\": \"midwest\", \"uni_abbr\": \"PU\"}, {\"uni\": \"Purdue University\", \"type\": \"No\", \"res\": 13, \"pct\": 0.5, \"state\": \"Indiana\", \"region\": \"midwest\", \"uni_abbr\": \"PU\"}, {\"uni\": \"Purdue University\", \"type\": \"Yes\", \"res\": 5, \"pct\": 0.192, \"state\": \"Indiana\", \"region\": \"midwest\", \"uni_abbr\": \"PU\"}, {\"uni\": \"San Diego State University\", \"type\": \"Nonuse\", \"res\": 6, \"pct\": 0.231, \"state\": \"California\", \"region\": \"pacific\", \"uni_abbr\": \"SDSU\"}, {\"uni\": \"San Diego State University\", \"type\": \"No\", \"res\": 15, \"pct\": 0.577, \"state\": \"California\", \"region\": \"pacific\", \"uni_abbr\": \"SDSU\"}, {\"uni\": \"San Diego State University\", \"type\": \"Yes\", \"res\": 5, \"pct\": 0.192, \"state\": \"California\", \"region\": \"pacific\", \"uni_abbr\": \"SDSU\"}, {\"uni\": \"Stanford University\", \"type\": \"Nonuse\", \"res\": 37, \"pct\": 0.343, \"state\": \"California\", \"region\": \"pacific\", \"uni_abbr\": \"SU\"}, {\"uni\": \"Stanford University\", \"type\": \"No\", \"res\": 58, \"pct\": 0.537, \"state\": \"California\", \"region\": \"pacific\", \"uni_abbr\": \"SU\"}, {\"uni\": \"Stanford University\", \"type\": \"Yes\", \"res\": 13, \"pct\": 0.12, \"state\": \"California\", \"region\": \"pacific\", \"uni_abbr\": \"SU\"}, {\"uni\": \"Texas A&M University\", \"type\": \"Nonuse\", \"res\": 12, \"pct\": 0.222, \"state\": \"Texas\", \"region\": \"mountain\", \"uni_abbr\": \"TAU\"}, {\"uni\": \"Texas A&M University\", \"type\": \"No\", \"res\": 29, \"pct\": 0.537, \"state\": \"Texas\", \"region\": \"mountain\", \"uni_abbr\": \"TAU\"}, {\"uni\": \"Texas A&M University\", \"type\": \"Yes\", \"res\": 13, \"pct\": 0.241, \"state\": \"Texas\", \"region\": \"mountain\", \"uni_abbr\": \"TAU\"}, {\"uni\": \"Texas Christian University\", \"type\": \"Nonuse\", \"res\": 10, \"pct\": 0.385, \"state\": \"Texas\", \"region\": \"mountain\", \"uni_abbr\": \"TCU\"}, {\"uni\": \"Texas Christian University\", \"type\": \"No\", \"res\": 8, \"pct\": 0.308, \"state\": \"Texas\", \"region\": \"mountain\", \"uni_abbr\": \"TCU\"}, {\"uni\": \"Texas Christian University\", \"type\": \"Yes\", \"res\": 8, \"pct\": 0.308, \"state\": \"Texas\", \"region\": \"mountain\", \"uni_abbr\": \"TCU\"}, {\"uni\": \"Texas Tech University\", \"type\": \"Nonuse\", \"res\": 5, \"pct\": 0.385, \"state\": \"Texas\", \"region\": \"mountain\", \"uni_abbr\": \"TTU\"}, {\"uni\": \"Texas Tech University\", \"type\": \"No\", \"res\": 5, \"pct\": 0.385, \"state\": \"Texas\", \"region\": \"mountain\", \"uni_abbr\": \"TTU\"}, {\"uni\": \"Texas Tech University\", \"type\": \"Yes\", \"res\": 3, \"pct\": 0.231, \"state\": \"Texas\", \"region\": \"mountain\", \"uni_abbr\": \"TTU\"}, {\"uni\": \"UMass Amherst\", \"type\": \"Nonuse\", \"res\": 3, \"pct\": 0.25, \"state\": \"Massachusetts\", \"region\": \"northeast\", \"uni_abbr\": \"Amherst\"}, {\"uni\": \"UMass Amherst\", \"type\": \"No\", \"res\": 6, \"pct\": 0.5, \"state\": \"Massachusetts\", \"region\": \"northeast\", \"uni_abbr\": \"Amherst\"}, {\"uni\": \"UMass Amherst\", \"type\": \"Yes\", \"res\": 3, \"pct\": 0.25, \"state\": \"Massachusetts\", \"region\": \"northeast\", \"uni_abbr\": \"Amherst\"}, {\"uni\": \"University of Alabama\", \"type\": \"Nonuse\", \"res\": 2, \"pct\": 0.133, \"state\": \"Alabama\", \"region\": \"south\", \"uni_abbr\": \"UOAL\"}, {\"uni\": \"University of Alabama\", \"type\": \"No\", \"res\": 11, \"pct\": 0.733, \"state\": \"Alabama\", \"region\": \"south\", \"uni_abbr\": \"UOAL\"}, {\"uni\": \"University of Alabama\", \"type\": \"Yes\", \"res\": 2, \"pct\": 0.133, \"state\": \"Alabama\", \"region\": \"south\", \"uni_abbr\": \"UOAL\"}, {\"uni\": \"University of Arizona\", \"type\": \"Nonuse\", \"res\": 3, \"pct\": 0.273, \"state\": \"Arizona\", \"region\": \"pacific\", \"uni_abbr\": \"UOAR\"}, {\"uni\": \"University of Arizona\", \"type\": \"No\", \"res\": 4, \"pct\": 0.364, \"state\": \"Arizona\", \"region\": \"pacific\", \"uni_abbr\": \"UOAR\"}, {\"uni\": \"University of Arizona\", \"type\": \"Yes\", \"res\": 4, \"pct\": 0.364, \"state\": \"Arizona\", \"region\": \"pacific\", \"uni_abbr\": \"UOAR\"}, {\"uni\": \"University of Arkansas\", \"type\": \"Nonuse\", \"res\": 19, \"pct\": 0.288, \"state\": \"Arkansas\", \"region\": \"south\", \"uni_abbr\": \"UOAK\"}, {\"uni\": \"University of Arkansas\", \"type\": \"No\", \"res\": 35, \"pct\": 0.53, \"state\": \"Arkansas\", \"region\": \"south\", \"uni_abbr\": \"UOAK\"}, {\"uni\": \"University of Arkansas\", \"type\": \"Yes\", \"res\": 12, \"pct\": 0.182, \"state\": \"Arkansas\", \"region\": \"south\", \"uni_abbr\": \"UOAK\"}, {\"uni\": \"University of California, Berkeley\", \"type\": \"Nonuse\", \"res\": 19, \"pct\": 0.209, \"state\": \"California\", \"region\": \"pacific\", \"uni_abbr\": \"UOCB\"}, {\"uni\": \"University of California, Berkeley\", \"type\": \"No\", \"res\": 47, \"pct\": 0.516, \"state\": \"California\", \"region\": \"pacific\", \"uni_abbr\": \"UOCB\"}, {\"uni\": \"University of California, Berkeley\", \"type\": \"Yes\", \"res\": 25, \"pct\": 0.275, \"state\": \"California\", \"region\": \"pacific\", \"uni_abbr\": \"UOCB\"}, {\"uni\": \"University of California, Davis\", \"type\": \"Nonuse\", \"res\": 6, \"pct\": 0.353, \"state\": \"California\", \"region\": \"pacific\", \"uni_abbr\": \"UOCD\"}, {\"uni\": \"University of California, Davis\", \"type\": \"No\", \"res\": 8, \"pct\": 0.471, \"state\": \"California\", \"region\": \"pacific\", \"uni_abbr\": \"UOCD\"}, {\"uni\": \"University of California, Davis\", \"type\": \"Yes\", \"res\": 3, \"pct\": 0.176, \"state\": \"California\", \"region\": \"pacific\", \"uni_abbr\": \"UOCD\"}, {\"uni\": \"University of California, Los Angeles\", \"type\": \"Nonuse\", \"res\": 5, \"pct\": 0.385, \"state\": \"California\", \"region\": \"pacific\", \"uni_abbr\": \"UOCLA\"}, {\"uni\": \"University of California, Los Angeles\", \"type\": \"No\", \"res\": 7, \"pct\": 0.538, \"state\": \"California\", \"region\": \"pacific\", \"uni_abbr\": \"UOCLA\"}, {\"uni\": \"University of California, Los Angeles\", \"type\": \"Yes\", \"res\": 1, \"pct\": 0.077, \"state\": \"California\", \"region\": \"pacific\", \"uni_abbr\": \"UOCLA\"}, {\"uni\": \"University of California, Santa Barbara\", \"type\": \"Nonuse\", \"res\": 17, \"pct\": 0.227, \"state\": \"California\", \"region\": \"pacific\", \"uni_abbr\": \"UOCSB\"}, {\"uni\": \"University of California, Santa Barbara\", \"type\": \"No\", \"res\": 34, \"pct\": 0.453, \"state\": \"California\", \"region\": \"pacific\", \"uni_abbr\": \"UOCSB\"}, {\"uni\": \"University of California, Santa Barbara\", \"type\": \"Yes\", \"res\": 24, \"pct\": 0.32, \"state\": \"California\", \"region\": \"pacific\", \"uni_abbr\": \"UOCSB\"}, {\"uni\": \"University of Georgia\", \"type\": \"Nonuse\", \"res\": 1, \"pct\": 0.091, \"state\": \"Georgia\", \"region\": \"south\", \"uni_abbr\": \"UOG\"}, {\"uni\": \"University of Georgia\", \"type\": \"No\", \"res\": 9, \"pct\": 0.818, \"state\": \"Georgia\", \"region\": \"south\", \"uni_abbr\": \"UOG\"}, {\"uni\": \"University of Georgia\", \"type\": \"Yes\", \"res\": 1, \"pct\": 0.091, \"state\": \"Georgia\", \"region\": \"south\", \"uni_abbr\": \"UOG\"}, {\"uni\": \"University of Illinois\", \"type\": \"Nonuse\", \"res\": 8, \"pct\": 0.17, \"state\": \"Illinois\", \"region\": \"midwest\", \"uni_abbr\": \"UOI\"}, {\"uni\": \"University of Illinois\", \"type\": \"No\", \"res\": 29, \"pct\": 0.617, \"state\": \"Illinois\", \"region\": \"midwest\", \"uni_abbr\": \"UOI\"}, {\"uni\": \"University of Illinois\", \"type\": \"Yes\", \"res\": 10, \"pct\": 0.213, \"state\": \"Illinois\", \"region\": \"midwest\", \"uni_abbr\": \"UOI\"}, {\"uni\": \"University of Kansas\", \"type\": \"Nonuse\", \"res\": 2, \"pct\": 0.2, \"state\": \"Kansas\", \"region\": \"midwest\", \"uni_abbr\": \"UOK\"}, {\"uni\": \"University of Kansas\", \"type\": \"No\", \"res\": 5, \"pct\": 0.5, \"state\": \"Kansas\", \"region\": \"midwest\", \"uni_abbr\": \"UOK\"}, {\"uni\": \"University of Kansas\", \"type\": \"Yes\", \"res\": 3, \"pct\": 0.3, \"state\": \"Kansas\", \"region\": \"midwest\", \"uni_abbr\": \"UOK\"}, {\"uni\": \"University of Michigan\", \"type\": \"Nonuse\", \"res\": 23, \"pct\": 0.267, \"state\": \"Michigan\", \"region\": \"midwest\", \"uni_abbr\": \"Mich\"}, {\"uni\": \"University of Michigan\", \"type\": \"No\", \"res\": 49, \"pct\": 0.57, \"state\": \"Michigan\", \"region\": \"midwest\", \"uni_abbr\": \"Mich\"}, {\"uni\": \"University of Michigan\", \"type\": \"Yes\", \"res\": 14, \"pct\": 0.163, \"state\": \"Michigan\", \"region\": \"midwest\", \"uni_abbr\": \"Mich\"}, {\"uni\": \"University of Missouri\", \"type\": \"Nonuse\", \"res\": 8, \"pct\": 0.267, \"state\": \"Missouri\", \"region\": \"midwest\", \"uni_abbr\": \"Miss\"}, {\"uni\": \"University of Missouri\", \"type\": \"No\", \"res\": 15, \"pct\": 0.5, \"state\": \"Missouri\", \"region\": \"midwest\", \"uni_abbr\": \"Miss\"}, {\"uni\": \"University of Missouri\", \"type\": \"Yes\", \"res\": 7, \"pct\": 0.233, \"state\": \"Missouri\", \"region\": \"midwest\", \"uni_abbr\": \"Miss\"}, {\"uni\": \"University of North Carolina\", \"type\": \"Nonuse\", \"res\": 3, \"pct\": 0.25, \"state\": \"North Carolina\", \"region\": \"south\", \"uni_abbr\": \"UONC\"}, {\"uni\": \"University of North Carolina\", \"type\": \"No\", \"res\": 8, \"pct\": 0.667, \"state\": \"North Carolina\", \"region\": \"south\", \"uni_abbr\": \"UONC\"}, {\"uni\": \"University of North Carolina\", \"type\": \"Yes\", \"res\": 1, \"pct\": 0.083, \"state\": \"North Carolina\", \"region\": \"south\", \"uni_abbr\": \"UONC\"}, {\"uni\": \"University of Pennsylvania\", \"type\": \"Nonuse\", \"res\": 24, \"pct\": 0.222, \"state\": \"Pennsylvania\", \"region\": \"northeast\", \"uni_abbr\": \"UOP\"}, {\"uni\": \"University of Pennsylvania\", \"type\": \"No\", \"res\": 60, \"pct\": 0.556, \"state\": \"Pennsylvania\", \"region\": \"northeast\", \"uni_abbr\": \"UOP\"}, {\"uni\": \"University of Pennsylvania\", \"type\": \"Yes\", \"res\": 24, \"pct\": 0.222, \"state\": \"Pennsylvania\", \"region\": \"northeast\", \"uni_abbr\": \"UOP\"}, {\"uni\": \"University of Richmond\", \"type\": \"Nonuse\", \"res\": 7, \"pct\": 0.389, \"state\": \"Virginia\", \"region\": \"south\", \"uni_abbr\": \"UOR\"}, {\"uni\": \"University of Richmond\", \"type\": \"No\", \"res\": 9, \"pct\": 0.5, \"state\": \"Virginia\", \"region\": \"south\", \"uni_abbr\": \"UOR\"}, {\"uni\": \"University of Richmond\", \"type\": \"Yes\", \"res\": 2, \"pct\": 0.111, \"state\": \"Virginia\", \"region\": \"south\", \"uni_abbr\": \"UOR\"}, {\"uni\": \"University of Southern California\", \"type\": \"Nonuse\", \"res\": 2, \"pct\": 0.2, \"state\": \"California\", \"region\": \"pacific\", \"uni_abbr\": \"UOSC\"}, {\"uni\": \"University of Southern California\", \"type\": \"No\", \"res\": 7, \"pct\": 0.7, \"state\": \"California\", \"region\": \"pacific\", \"uni_abbr\": \"UOSC\"}, {\"uni\": \"University of Southern California\", \"type\": \"Yes\", \"res\": 1, \"pct\": 0.1, \"state\": \"California\", \"region\": \"pacific\", \"uni_abbr\": \"UOSC\"}, {\"uni\": \"University of Texas\", \"type\": \"Nonuse\", \"res\": 26, \"pct\": 0.356, \"state\": \"Texas\", \"region\": \"mountain\", \"uni_abbr\": \"UOT\"}, {\"uni\": \"University of Texas\", \"type\": \"No\", \"res\": 35, \"pct\": 0.479, \"state\": \"Texas\", \"region\": \"mountain\", \"uni_abbr\": \"UOT\"}, {\"uni\": \"University of Texas\", \"type\": \"Yes\", \"res\": 12, \"pct\": 0.164, \"state\": \"Texas\", \"region\": \"mountain\", \"uni_abbr\": \"UOT\"}, {\"uni\": \"University of Virginia\", \"type\": \"Nonuse\", \"res\": 8, \"pct\": 0.444, \"state\": \"Virginia\", \"region\": \"south\", \"uni_abbr\": \"UOV\"}, {\"uni\": \"University of Virginia\", \"type\": \"No\", \"res\": 7, \"pct\": 0.389, \"state\": \"Virginia\", \"region\": \"south\", \"uni_abbr\": \"UOV\"}, {\"uni\": \"University of Virginia\", \"type\": \"Yes\", \"res\": 3, \"pct\": 0.167, \"state\": \"Virginia\", \"region\": \"south\", \"uni_abbr\": \"UOV\"}, {\"uni\": \"University of Wisconsin-Madison\", \"type\": \"Nonuse\", \"res\": 21, \"pct\": 0.167, \"state\": \"Wisconsin\", \"region\": \"midwest\", \"uni_abbr\": \"UOW\"}, {\"uni\": \"University of Wisconsin-Madison\", \"type\": \"No\", \"res\": 71, \"pct\": 0.563, \"state\": \"Wisconsin\", \"region\": \"midwest\", \"uni_abbr\": \"UOW\"}, {\"uni\": \"University of Wisconsin-Madison\", \"type\": \"Yes\", \"res\": 34, \"pct\": 0.27, \"state\": \"Wisconsin\", \"region\": \"midwest\", \"uni_abbr\": \"UOW\"}, {\"uni\": \"Vanderbilt University\", \"type\": \"Nonuse\", \"res\": 12, \"pct\": 0.122, \"state\": \"Tennessee\", \"region\": \"south\", \"uni_abbr\": \"VU\"}, {\"uni\": \"Vanderbilt University\", \"type\": \"No\", \"res\": 63, \"pct\": 0.643, \"state\": \"Tennessee\", \"region\": \"south\", \"uni_abbr\": \"VU\"}, {\"uni\": \"Vanderbilt University\", \"type\": \"Yes\", \"res\": 23, \"pct\": 0.235, \"state\": \"Tennessee\", \"region\": \"south\", \"uni_abbr\": \"VU\"}, {\"uni\": \"Washington State University\", \"type\": \"Nonuse\", \"res\": 6, \"pct\": 0.231, \"state\": \"Washington\", \"region\": \"pacific\", \"uni_abbr\": \"WSU\"}, {\"uni\": \"Washington State University\", \"type\": \"No\", \"res\": 12, \"pct\": 0.462, \"state\": \"Washington\", \"region\": \"pacific\", \"uni_abbr\": \"WSU\"}, {\"uni\": \"Washington State University\", \"type\": \"Yes\", \"res\": 8, \"pct\": 0.308, \"state\": \"Washington\", \"region\": \"pacific\", \"uni_abbr\": \"WSU\"}]}}, {\"mode\": \"vega-lite\"});\n",
       "</script>"
      ],
      "text/plain": [
       "alt.Chart(...)"
      ]
     },
     "execution_count": 13,
     "metadata": {},
     "output_type": "execute_result"
    }
   ],
   "source": [
    "# we could achieve this adding `sort` parameter\n",
    "# to the channel we want to sort from\n",
    "# in this case, we want to sort X channel based on values\n",
    "# of Y channel by descending order (that's why you see the `-`)\n",
    "\n",
    "chart.mark_bar().encode(\n",
    "    alt.X(\"uni_abbr:N\", sort=\"-y\"),\n",
    "    alt.Y(\"res\")\n",
    "    \n",
    ")"
   ]
  },
  {
   "cell_type": "markdown",
   "id": "179f4f50-39de-4237-a426-f3ad05a10d12",
   "metadata": {},
   "source": [
    "**WOWWW**, this looks weird, not all bars are sorted in descending order.\n",
    "\n",
    "- Each uni has 3 values being represented:\n",
    "    + number of students responded yes\n",
    "    + number of students responded no\n",
    "    + number of students responded no usage\n",
    "    \n",
    "So then we need to reframe what is the question?\n",
    "\n",
    "> Reprensent total number of respondents?\n",
    ">\n",
    "> OR\n",
    ">\n",
    "> Just those with a specific response?\n",
    "\n",
    "Note, we are sticking to the first one, **total number**, so we could achieve this through aggregation like `sum`, `count`, `average`, `min` and etc."
   ]
  },
  {
   "cell_type": "markdown",
   "id": "1016706b-b7c8-4863-be5b-15aa2435d8c5",
   "metadata": {},
   "source": [
    "### Aggregation: Sum"
   ]
  },
  {
   "cell_type": "code",
   "execution_count": 14,
   "id": "8aac1dcc-397a-40e8-b934-25748be15474",
   "metadata": {},
   "outputs": [
    {
     "data": {
      "text/html": [
       "\n",
       "<div id=\"altair-viz-b580c3362d684d9890b28ddab9af3234\"></div>\n",
       "<script type=\"text/javascript\">\n",
       "  var VEGA_DEBUG = (typeof VEGA_DEBUG == \"undefined\") ? {} : VEGA_DEBUG;\n",
       "  (function(spec, embedOpt){\n",
       "    let outputDiv = document.currentScript.previousElementSibling;\n",
       "    if (outputDiv.id !== \"altair-viz-b580c3362d684d9890b28ddab9af3234\") {\n",
       "      outputDiv = document.getElementById(\"altair-viz-b580c3362d684d9890b28ddab9af3234\");\n",
       "    }\n",
       "    const paths = {\n",
       "      \"vega\": \"https://cdn.jsdelivr.net/npm//vega@5?noext\",\n",
       "      \"vega-lib\": \"https://cdn.jsdelivr.net/npm//vega-lib?noext\",\n",
       "      \"vega-lite\": \"https://cdn.jsdelivr.net/npm//vega-lite@4.17.0?noext\",\n",
       "      \"vega-embed\": \"https://cdn.jsdelivr.net/npm//vega-embed@6?noext\",\n",
       "    };\n",
       "\n",
       "    function maybeLoadScript(lib, version) {\n",
       "      var key = `${lib.replace(\"-\", \"\")}_version`;\n",
       "      return (VEGA_DEBUG[key] == version) ?\n",
       "        Promise.resolve(paths[lib]) :\n",
       "        new Promise(function(resolve, reject) {\n",
       "          var s = document.createElement('script');\n",
       "          document.getElementsByTagName(\"head\")[0].appendChild(s);\n",
       "          s.async = true;\n",
       "          s.onload = () => {\n",
       "            VEGA_DEBUG[key] = version;\n",
       "            return resolve(paths[lib]);\n",
       "          };\n",
       "          s.onerror = () => reject(`Error loading script: ${paths[lib]}`);\n",
       "          s.src = paths[lib];\n",
       "        });\n",
       "    }\n",
       "\n",
       "    function showError(err) {\n",
       "      outputDiv.innerHTML = `<div class=\"error\" style=\"color:red;\">${err}</div>`;\n",
       "      throw err;\n",
       "    }\n",
       "\n",
       "    function displayChart(vegaEmbed) {\n",
       "      vegaEmbed(outputDiv, spec, embedOpt)\n",
       "        .catch(err => showError(`Javascript Error: ${err.message}<br>This usually means there's a typo in your chart specification. See the javascript console for the full traceback.`));\n",
       "    }\n",
       "\n",
       "    if(typeof define === \"function\" && define.amd) {\n",
       "      requirejs.config({paths});\n",
       "      require([\"vega-embed\"], displayChart, err => showError(`Error loading script: ${err.message}`));\n",
       "    } else {\n",
       "      maybeLoadScript(\"vega\", \"5\")\n",
       "        .then(() => maybeLoadScript(\"vega-lite\", \"4.17.0\"))\n",
       "        .then(() => maybeLoadScript(\"vega-embed\", \"6\"))\n",
       "        .catch(showError)\n",
       "        .then(() => displayChart(vegaEmbed));\n",
       "    }\n",
       "  })({\"config\": {\"view\": {\"continuousWidth\": 400, \"continuousHeight\": 300}}, \"data\": {\"name\": \"data-625a034231e7cf75ff53895cdf90a07a\"}, \"mark\": \"bar\", \"encoding\": {\"x\": {\"field\": \"uni_abbr\", \"sort\": \"-y\", \"type\": \"nominal\"}, \"y\": {\"aggregate\": \"sum\", \"field\": \"res\", \"type\": \"quantitative\"}}, \"$schema\": \"https://vega.github.io/schema/vega-lite/v4.17.0.json\", \"datasets\": {\"data-625a034231e7cf75ff53895cdf90a07a\": [{\"uni\": \"Appalachian State University\", \"type\": \"Nonuse\", \"res\": 46, \"pct\": 0.4, \"state\": \"North Carolina\", \"region\": \"south\", \"uni_abbr\": \"ASU\"}, {\"uni\": \"Appalachian State University\", \"type\": \"No\", \"res\": 53, \"pct\": 0.461, \"state\": \"North Carolina\", \"region\": \"south\", \"uni_abbr\": \"ASU\"}, {\"uni\": \"Appalachian State University\", \"type\": \"Yes\", \"res\": 16, \"pct\": 0.139, \"state\": \"North Carolina\", \"region\": \"south\", \"uni_abbr\": \"ASU\"}, {\"uni\": \"Butler University\", \"type\": \"Nonuse\", \"res\": 17, \"pct\": 0.25, \"state\": \"Indiana\", \"region\": \"midwest\", \"uni_abbr\": \"BU\"}, {\"uni\": \"Butler University\", \"type\": \"No\", \"res\": 44, \"pct\": 0.647, \"state\": \"Indiana\", \"region\": \"midwest\", \"uni_abbr\": \"BU\"}, {\"uni\": \"Butler University\", \"type\": \"Yes\", \"res\": 7, \"pct\": 0.103, \"state\": \"Indiana\", \"region\": \"midwest\", \"uni_abbr\": \"BU\"}, {\"uni\": \"Cal Poly San Luis Obispo\", \"type\": \"Nonuse\", \"res\": 7, \"pct\": 0.28, \"state\": \"California\", \"region\": \"pacific\", \"uni_abbr\": \"CPSLO\"}, {\"uni\": \"Cal Poly San Luis Obispo\", \"type\": \"No\", \"res\": 10, \"pct\": 0.4, \"state\": \"California\", \"region\": \"pacific\", \"uni_abbr\": \"CPSLO\"}, {\"uni\": \"Cal Poly San Luis Obispo\", \"type\": \"Yes\", \"res\": 8, \"pct\": 0.32, \"state\": \"California\", \"region\": \"pacific\", \"uni_abbr\": \"CPSLO\"}, {\"uni\": \"Case Western Reserve University\", \"type\": \"Nonuse\", \"res\": 12, \"pct\": 0.387, \"state\": \"Ohio\", \"region\": \"midwest\", \"uni_abbr\": \"CWRU\"}, {\"uni\": \"Case Western Reserve University\", \"type\": \"No\", \"res\": 12, \"pct\": 0.387, \"state\": \"Ohio\", \"region\": \"midwest\", \"uni_abbr\": \"CWRU\"}, {\"uni\": \"Case Western Reserve University\", \"type\": \"Yes\", \"res\": 7, \"pct\": 0.226, \"state\": \"Ohio\", \"region\": \"midwest\", \"uni_abbr\": \"CWRU\"}, {\"uni\": \"Chapman University\", \"type\": \"Nonuse\", \"res\": 19, \"pct\": 0.302, \"state\": \"California\", \"region\": \"pacific\", \"uni_abbr\": \"Chap\"}, {\"uni\": \"Chapman University\", \"type\": \"No\", \"res\": 31, \"pct\": 0.492, \"state\": \"California\", \"region\": \"pacific\", \"uni_abbr\": \"Chap\"}, {\"uni\": \"Chapman University\", \"type\": \"Yes\", \"res\": 13, \"pct\": 0.206, \"state\": \"California\", \"region\": \"pacific\", \"uni_abbr\": \"Chap\"}, {\"uni\": \"Colby College\", \"type\": \"Nonuse\", \"res\": 2, \"pct\": 0.143, \"state\": \"Maine\", \"region\": \"northeast\", \"uni_abbr\": \"CC\"}, {\"uni\": \"Colby College\", \"type\": \"No\", \"res\": 11, \"pct\": 0.786, \"state\": \"Maine\", \"region\": \"northeast\", \"uni_abbr\": \"CC\"}, {\"uni\": \"Colby College\", \"type\": \"Yes\", \"res\": 1, \"pct\": 0.071, \"state\": \"Maine\", \"region\": \"northeast\", \"uni_abbr\": \"CC\"}, {\"uni\": \"College of William and Mary\", \"type\": \"Nonuse\", \"res\": 6, \"pct\": 0.375, \"state\": \"Virginia\", \"region\": \"south\", \"uni_abbr\": \"WAM\"}, {\"uni\": \"College of William and Mary\", \"type\": \"No\", \"res\": 7, \"pct\": 0.438, \"state\": \"Virginia\", \"region\": \"south\", \"uni_abbr\": \"WAM\"}, {\"uni\": \"College of William and Mary\", \"type\": \"Yes\", \"res\": 3, \"pct\": 0.188, \"state\": \"Virginia\", \"region\": \"south\", \"uni_abbr\": \"WAM\"}, {\"uni\": \"Cornell University\", \"type\": \"Nonuse\", \"res\": 51, \"pct\": 0.264, \"state\": \"New York\", \"region\": \"northeast\", \"uni_abbr\": \"CU\"}, {\"uni\": \"Cornell University\", \"type\": \"No\", \"res\": 95, \"pct\": 0.492, \"state\": \"New York\", \"region\": \"northeast\", \"uni_abbr\": \"CU\"}, {\"uni\": \"Cornell University\", \"type\": \"Yes\", \"res\": 47, \"pct\": 0.244, \"state\": \"New York\", \"region\": \"northeast\", \"uni_abbr\": \"CU\"}, {\"uni\": \"Dartmouth College\", \"type\": \"Nonuse\", \"res\": 2, \"pct\": 0.2, \"state\": \"New Hampshire\", \"region\": \"northeast\", \"uni_abbr\": \"DC\"}, {\"uni\": \"Dartmouth College\", \"type\": \"No\", \"res\": 3, \"pct\": 0.3, \"state\": \"New Hampshire\", \"region\": \"northeast\", \"uni_abbr\": \"DC\"}, {\"uni\": \"Dartmouth College\", \"type\": \"Yes\", \"res\": 5, \"pct\": 0.5, \"state\": \"New Hampshire\", \"region\": \"northeast\", \"uni_abbr\": \"DC\"}, {\"uni\": \"Indiana University\", \"type\": \"Nonuse\", \"res\": 5, \"pct\": 0.114, \"state\": \"Indiana\", \"region\": \"midwest\", \"uni_abbr\": \"IU\"}, {\"uni\": \"Indiana University\", \"type\": \"No\", \"res\": 30, \"pct\": 0.682, \"state\": \"Indiana\", \"region\": \"midwest\", \"uni_abbr\": \"IU\"}, {\"uni\": \"Indiana University\", \"type\": \"Yes\", \"res\": 9, \"pct\": 0.205, \"state\": \"Indiana\", \"region\": \"midwest\", \"uni_abbr\": \"IU\"}, {\"uni\": \"Johns Hopkins University\", \"type\": \"Nonuse\", \"res\": 29, \"pct\": 0.21, \"state\": \"Maryland\", \"region\": \"northeast\", \"uni_abbr\": \"JHU\"}, {\"uni\": \"Johns Hopkins University\", \"type\": \"No\", \"res\": 76, \"pct\": 0.551, \"state\": \"Maryland\", \"region\": \"northeast\", \"uni_abbr\": \"JHU\"}, {\"uni\": \"Johns Hopkins University\", \"type\": \"Yes\", \"res\": 33, \"pct\": 0.239, \"state\": \"Maryland\", \"region\": \"northeast\", \"uni_abbr\": \"JHU\"}, {\"uni\": \"Northwestern University\", \"type\": \"Nonuse\", \"res\": 24, \"pct\": 0.2, \"state\": \"Illinois\", \"region\": \"midwest\", \"uni_abbr\": \"NU\"}, {\"uni\": \"Northwestern University\", \"type\": \"No\", \"res\": 65, \"pct\": 0.542, \"state\": \"Illinois\", \"region\": \"midwest\", \"uni_abbr\": \"NU\"}, {\"uni\": \"Northwestern University\", \"type\": \"Yes\", \"res\": 31, \"pct\": 0.258, \"state\": \"Illinois\", \"region\": \"midwest\", \"uni_abbr\": \"NU\"}, {\"uni\": \"Ohio State University\", \"type\": \"Nonuse\", \"res\": 1, \"pct\": 0.053, \"state\": \"Ohio\", \"region\": \"midwest\", \"uni_abbr\": \"OSU\"}, {\"uni\": \"Ohio State University\", \"type\": \"No\", \"res\": 12, \"pct\": 0.632, \"state\": \"Ohio\", \"region\": \"midwest\", \"uni_abbr\": \"OSU\"}, {\"uni\": \"Ohio State University\", \"type\": \"Yes\", \"res\": 6, \"pct\": 0.316, \"state\": \"Ohio\", \"region\": \"midwest\", \"uni_abbr\": \"OSU\"}, {\"uni\": \"Purdue University\", \"type\": \"Nonuse\", \"res\": 8, \"pct\": 0.308, \"state\": \"Indiana\", \"region\": \"midwest\", \"uni_abbr\": \"PU\"}, {\"uni\": \"Purdue University\", \"type\": \"No\", \"res\": 13, \"pct\": 0.5, \"state\": \"Indiana\", \"region\": \"midwest\", \"uni_abbr\": \"PU\"}, {\"uni\": \"Purdue University\", \"type\": \"Yes\", \"res\": 5, \"pct\": 0.192, \"state\": \"Indiana\", \"region\": \"midwest\", \"uni_abbr\": \"PU\"}, {\"uni\": \"San Diego State University\", \"type\": \"Nonuse\", \"res\": 6, \"pct\": 0.231, \"state\": \"California\", \"region\": \"pacific\", \"uni_abbr\": \"SDSU\"}, {\"uni\": \"San Diego State University\", \"type\": \"No\", \"res\": 15, \"pct\": 0.577, \"state\": \"California\", \"region\": \"pacific\", \"uni_abbr\": \"SDSU\"}, {\"uni\": \"San Diego State University\", \"type\": \"Yes\", \"res\": 5, \"pct\": 0.192, \"state\": \"California\", \"region\": \"pacific\", \"uni_abbr\": \"SDSU\"}, {\"uni\": \"Stanford University\", \"type\": \"Nonuse\", \"res\": 37, \"pct\": 0.343, \"state\": \"California\", \"region\": \"pacific\", \"uni_abbr\": \"SU\"}, {\"uni\": \"Stanford University\", \"type\": \"No\", \"res\": 58, \"pct\": 0.537, \"state\": \"California\", \"region\": \"pacific\", \"uni_abbr\": \"SU\"}, {\"uni\": \"Stanford University\", \"type\": \"Yes\", \"res\": 13, \"pct\": 0.12, \"state\": \"California\", \"region\": \"pacific\", \"uni_abbr\": \"SU\"}, {\"uni\": \"Texas A&M University\", \"type\": \"Nonuse\", \"res\": 12, \"pct\": 0.222, \"state\": \"Texas\", \"region\": \"mountain\", \"uni_abbr\": \"TAU\"}, {\"uni\": \"Texas A&M University\", \"type\": \"No\", \"res\": 29, \"pct\": 0.537, \"state\": \"Texas\", \"region\": \"mountain\", \"uni_abbr\": \"TAU\"}, {\"uni\": \"Texas A&M University\", \"type\": \"Yes\", \"res\": 13, \"pct\": 0.241, \"state\": \"Texas\", \"region\": \"mountain\", \"uni_abbr\": \"TAU\"}, {\"uni\": \"Texas Christian University\", \"type\": \"Nonuse\", \"res\": 10, \"pct\": 0.385, \"state\": \"Texas\", \"region\": \"mountain\", \"uni_abbr\": \"TCU\"}, {\"uni\": \"Texas Christian University\", \"type\": \"No\", \"res\": 8, \"pct\": 0.308, \"state\": \"Texas\", \"region\": \"mountain\", \"uni_abbr\": \"TCU\"}, {\"uni\": \"Texas Christian University\", \"type\": \"Yes\", \"res\": 8, \"pct\": 0.308, \"state\": \"Texas\", \"region\": \"mountain\", \"uni_abbr\": \"TCU\"}, {\"uni\": \"Texas Tech University\", \"type\": \"Nonuse\", \"res\": 5, \"pct\": 0.385, \"state\": \"Texas\", \"region\": \"mountain\", \"uni_abbr\": \"TTU\"}, {\"uni\": \"Texas Tech University\", \"type\": \"No\", \"res\": 5, \"pct\": 0.385, \"state\": \"Texas\", \"region\": \"mountain\", \"uni_abbr\": \"TTU\"}, {\"uni\": \"Texas Tech University\", \"type\": \"Yes\", \"res\": 3, \"pct\": 0.231, \"state\": \"Texas\", \"region\": \"mountain\", \"uni_abbr\": \"TTU\"}, {\"uni\": \"UMass Amherst\", \"type\": \"Nonuse\", \"res\": 3, \"pct\": 0.25, \"state\": \"Massachusetts\", \"region\": \"northeast\", \"uni_abbr\": \"Amherst\"}, {\"uni\": \"UMass Amherst\", \"type\": \"No\", \"res\": 6, \"pct\": 0.5, \"state\": \"Massachusetts\", \"region\": \"northeast\", \"uni_abbr\": \"Amherst\"}, {\"uni\": \"UMass Amherst\", \"type\": \"Yes\", \"res\": 3, \"pct\": 0.25, \"state\": \"Massachusetts\", \"region\": \"northeast\", \"uni_abbr\": \"Amherst\"}, {\"uni\": \"University of Alabama\", \"type\": \"Nonuse\", \"res\": 2, \"pct\": 0.133, \"state\": \"Alabama\", \"region\": \"south\", \"uni_abbr\": \"UOAL\"}, {\"uni\": \"University of Alabama\", \"type\": \"No\", \"res\": 11, \"pct\": 0.733, \"state\": \"Alabama\", \"region\": \"south\", \"uni_abbr\": \"UOAL\"}, {\"uni\": \"University of Alabama\", \"type\": \"Yes\", \"res\": 2, \"pct\": 0.133, \"state\": \"Alabama\", \"region\": \"south\", \"uni_abbr\": \"UOAL\"}, {\"uni\": \"University of Arizona\", \"type\": \"Nonuse\", \"res\": 3, \"pct\": 0.273, \"state\": \"Arizona\", \"region\": \"pacific\", \"uni_abbr\": \"UOAR\"}, {\"uni\": \"University of Arizona\", \"type\": \"No\", \"res\": 4, \"pct\": 0.364, \"state\": \"Arizona\", \"region\": \"pacific\", \"uni_abbr\": \"UOAR\"}, {\"uni\": \"University of Arizona\", \"type\": \"Yes\", \"res\": 4, \"pct\": 0.364, \"state\": \"Arizona\", \"region\": \"pacific\", \"uni_abbr\": \"UOAR\"}, {\"uni\": \"University of Arkansas\", \"type\": \"Nonuse\", \"res\": 19, \"pct\": 0.288, \"state\": \"Arkansas\", \"region\": \"south\", \"uni_abbr\": \"UOAK\"}, {\"uni\": \"University of Arkansas\", \"type\": \"No\", \"res\": 35, \"pct\": 0.53, \"state\": \"Arkansas\", \"region\": \"south\", \"uni_abbr\": \"UOAK\"}, {\"uni\": \"University of Arkansas\", \"type\": \"Yes\", \"res\": 12, \"pct\": 0.182, \"state\": \"Arkansas\", \"region\": \"south\", \"uni_abbr\": \"UOAK\"}, {\"uni\": \"University of California, Berkeley\", \"type\": \"Nonuse\", \"res\": 19, \"pct\": 0.209, \"state\": \"California\", \"region\": \"pacific\", \"uni_abbr\": \"UOCB\"}, {\"uni\": \"University of California, Berkeley\", \"type\": \"No\", \"res\": 47, \"pct\": 0.516, \"state\": \"California\", \"region\": \"pacific\", \"uni_abbr\": \"UOCB\"}, {\"uni\": \"University of California, Berkeley\", \"type\": \"Yes\", \"res\": 25, \"pct\": 0.275, \"state\": \"California\", \"region\": \"pacific\", \"uni_abbr\": \"UOCB\"}, {\"uni\": \"University of California, Davis\", \"type\": \"Nonuse\", \"res\": 6, \"pct\": 0.353, \"state\": \"California\", \"region\": \"pacific\", \"uni_abbr\": \"UOCD\"}, {\"uni\": \"University of California, Davis\", \"type\": \"No\", \"res\": 8, \"pct\": 0.471, \"state\": \"California\", \"region\": \"pacific\", \"uni_abbr\": \"UOCD\"}, {\"uni\": \"University of California, Davis\", \"type\": \"Yes\", \"res\": 3, \"pct\": 0.176, \"state\": \"California\", \"region\": \"pacific\", \"uni_abbr\": \"UOCD\"}, {\"uni\": \"University of California, Los Angeles\", \"type\": \"Nonuse\", \"res\": 5, \"pct\": 0.385, \"state\": \"California\", \"region\": \"pacific\", \"uni_abbr\": \"UOCLA\"}, {\"uni\": \"University of California, Los Angeles\", \"type\": \"No\", \"res\": 7, \"pct\": 0.538, \"state\": \"California\", \"region\": \"pacific\", \"uni_abbr\": \"UOCLA\"}, {\"uni\": \"University of California, Los Angeles\", \"type\": \"Yes\", \"res\": 1, \"pct\": 0.077, \"state\": \"California\", \"region\": \"pacific\", \"uni_abbr\": \"UOCLA\"}, {\"uni\": \"University of California, Santa Barbara\", \"type\": \"Nonuse\", \"res\": 17, \"pct\": 0.227, \"state\": \"California\", \"region\": \"pacific\", \"uni_abbr\": \"UOCSB\"}, {\"uni\": \"University of California, Santa Barbara\", \"type\": \"No\", \"res\": 34, \"pct\": 0.453, \"state\": \"California\", \"region\": \"pacific\", \"uni_abbr\": \"UOCSB\"}, {\"uni\": \"University of California, Santa Barbara\", \"type\": \"Yes\", \"res\": 24, \"pct\": 0.32, \"state\": \"California\", \"region\": \"pacific\", \"uni_abbr\": \"UOCSB\"}, {\"uni\": \"University of Georgia\", \"type\": \"Nonuse\", \"res\": 1, \"pct\": 0.091, \"state\": \"Georgia\", \"region\": \"south\", \"uni_abbr\": \"UOG\"}, {\"uni\": \"University of Georgia\", \"type\": \"No\", \"res\": 9, \"pct\": 0.818, \"state\": \"Georgia\", \"region\": \"south\", \"uni_abbr\": \"UOG\"}, {\"uni\": \"University of Georgia\", \"type\": \"Yes\", \"res\": 1, \"pct\": 0.091, \"state\": \"Georgia\", \"region\": \"south\", \"uni_abbr\": \"UOG\"}, {\"uni\": \"University of Illinois\", \"type\": \"Nonuse\", \"res\": 8, \"pct\": 0.17, \"state\": \"Illinois\", \"region\": \"midwest\", \"uni_abbr\": \"UOI\"}, {\"uni\": \"University of Illinois\", \"type\": \"No\", \"res\": 29, \"pct\": 0.617, \"state\": \"Illinois\", \"region\": \"midwest\", \"uni_abbr\": \"UOI\"}, {\"uni\": \"University of Illinois\", \"type\": \"Yes\", \"res\": 10, \"pct\": 0.213, \"state\": \"Illinois\", \"region\": \"midwest\", \"uni_abbr\": \"UOI\"}, {\"uni\": \"University of Kansas\", \"type\": \"Nonuse\", \"res\": 2, \"pct\": 0.2, \"state\": \"Kansas\", \"region\": \"midwest\", \"uni_abbr\": \"UOK\"}, {\"uni\": \"University of Kansas\", \"type\": \"No\", \"res\": 5, \"pct\": 0.5, \"state\": \"Kansas\", \"region\": \"midwest\", \"uni_abbr\": \"UOK\"}, {\"uni\": \"University of Kansas\", \"type\": \"Yes\", \"res\": 3, \"pct\": 0.3, \"state\": \"Kansas\", \"region\": \"midwest\", \"uni_abbr\": \"UOK\"}, {\"uni\": \"University of Michigan\", \"type\": \"Nonuse\", \"res\": 23, \"pct\": 0.267, \"state\": \"Michigan\", \"region\": \"midwest\", \"uni_abbr\": \"Mich\"}, {\"uni\": \"University of Michigan\", \"type\": \"No\", \"res\": 49, \"pct\": 0.57, \"state\": \"Michigan\", \"region\": \"midwest\", \"uni_abbr\": \"Mich\"}, {\"uni\": \"University of Michigan\", \"type\": \"Yes\", \"res\": 14, \"pct\": 0.163, \"state\": \"Michigan\", \"region\": \"midwest\", \"uni_abbr\": \"Mich\"}, {\"uni\": \"University of Missouri\", \"type\": \"Nonuse\", \"res\": 8, \"pct\": 0.267, \"state\": \"Missouri\", \"region\": \"midwest\", \"uni_abbr\": \"Miss\"}, {\"uni\": \"University of Missouri\", \"type\": \"No\", \"res\": 15, \"pct\": 0.5, \"state\": \"Missouri\", \"region\": \"midwest\", \"uni_abbr\": \"Miss\"}, {\"uni\": \"University of Missouri\", \"type\": \"Yes\", \"res\": 7, \"pct\": 0.233, \"state\": \"Missouri\", \"region\": \"midwest\", \"uni_abbr\": \"Miss\"}, {\"uni\": \"University of North Carolina\", \"type\": \"Nonuse\", \"res\": 3, \"pct\": 0.25, \"state\": \"North Carolina\", \"region\": \"south\", \"uni_abbr\": \"UONC\"}, {\"uni\": \"University of North Carolina\", \"type\": \"No\", \"res\": 8, \"pct\": 0.667, \"state\": \"North Carolina\", \"region\": \"south\", \"uni_abbr\": \"UONC\"}, {\"uni\": \"University of North Carolina\", \"type\": \"Yes\", \"res\": 1, \"pct\": 0.083, \"state\": \"North Carolina\", \"region\": \"south\", \"uni_abbr\": \"UONC\"}, {\"uni\": \"University of Pennsylvania\", \"type\": \"Nonuse\", \"res\": 24, \"pct\": 0.222, \"state\": \"Pennsylvania\", \"region\": \"northeast\", \"uni_abbr\": \"UOP\"}, {\"uni\": \"University of Pennsylvania\", \"type\": \"No\", \"res\": 60, \"pct\": 0.556, \"state\": \"Pennsylvania\", \"region\": \"northeast\", \"uni_abbr\": \"UOP\"}, {\"uni\": \"University of Pennsylvania\", \"type\": \"Yes\", \"res\": 24, \"pct\": 0.222, \"state\": \"Pennsylvania\", \"region\": \"northeast\", \"uni_abbr\": \"UOP\"}, {\"uni\": \"University of Richmond\", \"type\": \"Nonuse\", \"res\": 7, \"pct\": 0.389, \"state\": \"Virginia\", \"region\": \"south\", \"uni_abbr\": \"UOR\"}, {\"uni\": \"University of Richmond\", \"type\": \"No\", \"res\": 9, \"pct\": 0.5, \"state\": \"Virginia\", \"region\": \"south\", \"uni_abbr\": \"UOR\"}, {\"uni\": \"University of Richmond\", \"type\": \"Yes\", \"res\": 2, \"pct\": 0.111, \"state\": \"Virginia\", \"region\": \"south\", \"uni_abbr\": \"UOR\"}, {\"uni\": \"University of Southern California\", \"type\": \"Nonuse\", \"res\": 2, \"pct\": 0.2, \"state\": \"California\", \"region\": \"pacific\", \"uni_abbr\": \"UOSC\"}, {\"uni\": \"University of Southern California\", \"type\": \"No\", \"res\": 7, \"pct\": 0.7, \"state\": \"California\", \"region\": \"pacific\", \"uni_abbr\": \"UOSC\"}, {\"uni\": \"University of Southern California\", \"type\": \"Yes\", \"res\": 1, \"pct\": 0.1, \"state\": \"California\", \"region\": \"pacific\", \"uni_abbr\": \"UOSC\"}, {\"uni\": \"University of Texas\", \"type\": \"Nonuse\", \"res\": 26, \"pct\": 0.356, \"state\": \"Texas\", \"region\": \"mountain\", \"uni_abbr\": \"UOT\"}, {\"uni\": \"University of Texas\", \"type\": \"No\", \"res\": 35, \"pct\": 0.479, \"state\": \"Texas\", \"region\": \"mountain\", \"uni_abbr\": \"UOT\"}, {\"uni\": \"University of Texas\", \"type\": \"Yes\", \"res\": 12, \"pct\": 0.164, \"state\": \"Texas\", \"region\": \"mountain\", \"uni_abbr\": \"UOT\"}, {\"uni\": \"University of Virginia\", \"type\": \"Nonuse\", \"res\": 8, \"pct\": 0.444, \"state\": \"Virginia\", \"region\": \"south\", \"uni_abbr\": \"UOV\"}, {\"uni\": \"University of Virginia\", \"type\": \"No\", \"res\": 7, \"pct\": 0.389, \"state\": \"Virginia\", \"region\": \"south\", \"uni_abbr\": \"UOV\"}, {\"uni\": \"University of Virginia\", \"type\": \"Yes\", \"res\": 3, \"pct\": 0.167, \"state\": \"Virginia\", \"region\": \"south\", \"uni_abbr\": \"UOV\"}, {\"uni\": \"University of Wisconsin-Madison\", \"type\": \"Nonuse\", \"res\": 21, \"pct\": 0.167, \"state\": \"Wisconsin\", \"region\": \"midwest\", \"uni_abbr\": \"UOW\"}, {\"uni\": \"University of Wisconsin-Madison\", \"type\": \"No\", \"res\": 71, \"pct\": 0.563, \"state\": \"Wisconsin\", \"region\": \"midwest\", \"uni_abbr\": \"UOW\"}, {\"uni\": \"University of Wisconsin-Madison\", \"type\": \"Yes\", \"res\": 34, \"pct\": 0.27, \"state\": \"Wisconsin\", \"region\": \"midwest\", \"uni_abbr\": \"UOW\"}, {\"uni\": \"Vanderbilt University\", \"type\": \"Nonuse\", \"res\": 12, \"pct\": 0.122, \"state\": \"Tennessee\", \"region\": \"south\", \"uni_abbr\": \"VU\"}, {\"uni\": \"Vanderbilt University\", \"type\": \"No\", \"res\": 63, \"pct\": 0.643, \"state\": \"Tennessee\", \"region\": \"south\", \"uni_abbr\": \"VU\"}, {\"uni\": \"Vanderbilt University\", \"type\": \"Yes\", \"res\": 23, \"pct\": 0.235, \"state\": \"Tennessee\", \"region\": \"south\", \"uni_abbr\": \"VU\"}, {\"uni\": \"Washington State University\", \"type\": \"Nonuse\", \"res\": 6, \"pct\": 0.231, \"state\": \"Washington\", \"region\": \"pacific\", \"uni_abbr\": \"WSU\"}, {\"uni\": \"Washington State University\", \"type\": \"No\", \"res\": 12, \"pct\": 0.462, \"state\": \"Washington\", \"region\": \"pacific\", \"uni_abbr\": \"WSU\"}, {\"uni\": \"Washington State University\", \"type\": \"Yes\", \"res\": 8, \"pct\": 0.308, \"state\": \"Washington\", \"region\": \"pacific\", \"uni_abbr\": \"WSU\"}]}}, {\"mode\": \"vega-lite\"});\n",
       "</script>"
      ],
      "text/plain": [
       "alt.Chart(...)"
      ]
     },
     "execution_count": 14,
     "metadata": {},
     "output_type": "execute_result"
    }
   ],
   "source": [
    "# You could achieve aggregation in the channel you\n",
    "# want and have (\"aggregation(attribute)\")\n",
    "\n",
    "chart.mark_bar().encode(\n",
    "    alt.X(\"uni_abbr:N\", sort=\"-y\"),\n",
    "    alt.Y(\"sum(res)\")\n",
    "    \n",
    ")"
   ]
  },
  {
   "cell_type": "markdown",
   "id": "bf6015e6-0144-4cf1-a5a3-3f9ab983274f",
   "metadata": {},
   "source": [
    "Looks better now, these bars are in descending order, and this chart is actually **total** number of respondents (careful of this).Now we could see **TTU** had more participants than **Amherst**. And we could also add tooltip to know name of each institution, since knowing ABBR is not enough"
   ]
  },
  {
   "cell_type": "code",
   "execution_count": 15,
   "id": "4380c1b4-5ae2-4d96-82dc-914f0a310818",
   "metadata": {},
   "outputs": [
    {
     "data": {
      "text/html": [
       "\n",
       "<div id=\"altair-viz-c8ffa1626592478a9e44c583e0a1d1e7\"></div>\n",
       "<script type=\"text/javascript\">\n",
       "  var VEGA_DEBUG = (typeof VEGA_DEBUG == \"undefined\") ? {} : VEGA_DEBUG;\n",
       "  (function(spec, embedOpt){\n",
       "    let outputDiv = document.currentScript.previousElementSibling;\n",
       "    if (outputDiv.id !== \"altair-viz-c8ffa1626592478a9e44c583e0a1d1e7\") {\n",
       "      outputDiv = document.getElementById(\"altair-viz-c8ffa1626592478a9e44c583e0a1d1e7\");\n",
       "    }\n",
       "    const paths = {\n",
       "      \"vega\": \"https://cdn.jsdelivr.net/npm//vega@5?noext\",\n",
       "      \"vega-lib\": \"https://cdn.jsdelivr.net/npm//vega-lib?noext\",\n",
       "      \"vega-lite\": \"https://cdn.jsdelivr.net/npm//vega-lite@4.17.0?noext\",\n",
       "      \"vega-embed\": \"https://cdn.jsdelivr.net/npm//vega-embed@6?noext\",\n",
       "    };\n",
       "\n",
       "    function maybeLoadScript(lib, version) {\n",
       "      var key = `${lib.replace(\"-\", \"\")}_version`;\n",
       "      return (VEGA_DEBUG[key] == version) ?\n",
       "        Promise.resolve(paths[lib]) :\n",
       "        new Promise(function(resolve, reject) {\n",
       "          var s = document.createElement('script');\n",
       "          document.getElementsByTagName(\"head\")[0].appendChild(s);\n",
       "          s.async = true;\n",
       "          s.onload = () => {\n",
       "            VEGA_DEBUG[key] = version;\n",
       "            return resolve(paths[lib]);\n",
       "          };\n",
       "          s.onerror = () => reject(`Error loading script: ${paths[lib]}`);\n",
       "          s.src = paths[lib];\n",
       "        });\n",
       "    }\n",
       "\n",
       "    function showError(err) {\n",
       "      outputDiv.innerHTML = `<div class=\"error\" style=\"color:red;\">${err}</div>`;\n",
       "      throw err;\n",
       "    }\n",
       "\n",
       "    function displayChart(vegaEmbed) {\n",
       "      vegaEmbed(outputDiv, spec, embedOpt)\n",
       "        .catch(err => showError(`Javascript Error: ${err.message}<br>This usually means there's a typo in your chart specification. See the javascript console for the full traceback.`));\n",
       "    }\n",
       "\n",
       "    if(typeof define === \"function\" && define.amd) {\n",
       "      requirejs.config({paths});\n",
       "      require([\"vega-embed\"], displayChart, err => showError(`Error loading script: ${err.message}`));\n",
       "    } else {\n",
       "      maybeLoadScript(\"vega\", \"5\")\n",
       "        .then(() => maybeLoadScript(\"vega-lite\", \"4.17.0\"))\n",
       "        .then(() => maybeLoadScript(\"vega-embed\", \"6\"))\n",
       "        .catch(showError)\n",
       "        .then(() => displayChart(vegaEmbed));\n",
       "    }\n",
       "  })({\"config\": {\"view\": {\"continuousWidth\": 400, \"continuousHeight\": 300}}, \"data\": {\"name\": \"data-625a034231e7cf75ff53895cdf90a07a\"}, \"mark\": \"bar\", \"encoding\": {\"tooltip\": {\"field\": \"uni\", \"type\": \"nominal\"}, \"x\": {\"field\": \"uni_abbr\", \"sort\": \"-y\", \"type\": \"nominal\"}, \"y\": {\"aggregate\": \"sum\", \"field\": \"res\", \"type\": \"quantitative\"}}, \"selection\": {\"selector001\": {\"type\": \"interval\", \"bind\": \"scales\", \"encodings\": [\"x\", \"y\"]}}, \"$schema\": \"https://vega.github.io/schema/vega-lite/v4.17.0.json\", \"datasets\": {\"data-625a034231e7cf75ff53895cdf90a07a\": [{\"uni\": \"Appalachian State University\", \"type\": \"Nonuse\", \"res\": 46, \"pct\": 0.4, \"state\": \"North Carolina\", \"region\": \"south\", \"uni_abbr\": \"ASU\"}, {\"uni\": \"Appalachian State University\", \"type\": \"No\", \"res\": 53, \"pct\": 0.461, \"state\": \"North Carolina\", \"region\": \"south\", \"uni_abbr\": \"ASU\"}, {\"uni\": \"Appalachian State University\", \"type\": \"Yes\", \"res\": 16, \"pct\": 0.139, \"state\": \"North Carolina\", \"region\": \"south\", \"uni_abbr\": \"ASU\"}, {\"uni\": \"Butler University\", \"type\": \"Nonuse\", \"res\": 17, \"pct\": 0.25, \"state\": \"Indiana\", \"region\": \"midwest\", \"uni_abbr\": \"BU\"}, {\"uni\": \"Butler University\", \"type\": \"No\", \"res\": 44, \"pct\": 0.647, \"state\": \"Indiana\", \"region\": \"midwest\", \"uni_abbr\": \"BU\"}, {\"uni\": \"Butler University\", \"type\": \"Yes\", \"res\": 7, \"pct\": 0.103, \"state\": \"Indiana\", \"region\": \"midwest\", \"uni_abbr\": \"BU\"}, {\"uni\": \"Cal Poly San Luis Obispo\", \"type\": \"Nonuse\", \"res\": 7, \"pct\": 0.28, \"state\": \"California\", \"region\": \"pacific\", \"uni_abbr\": \"CPSLO\"}, {\"uni\": \"Cal Poly San Luis Obispo\", \"type\": \"No\", \"res\": 10, \"pct\": 0.4, \"state\": \"California\", \"region\": \"pacific\", \"uni_abbr\": \"CPSLO\"}, {\"uni\": \"Cal Poly San Luis Obispo\", \"type\": \"Yes\", \"res\": 8, \"pct\": 0.32, \"state\": \"California\", \"region\": \"pacific\", \"uni_abbr\": \"CPSLO\"}, {\"uni\": \"Case Western Reserve University\", \"type\": \"Nonuse\", \"res\": 12, \"pct\": 0.387, \"state\": \"Ohio\", \"region\": \"midwest\", \"uni_abbr\": \"CWRU\"}, {\"uni\": \"Case Western Reserve University\", \"type\": \"No\", \"res\": 12, \"pct\": 0.387, \"state\": \"Ohio\", \"region\": \"midwest\", \"uni_abbr\": \"CWRU\"}, {\"uni\": \"Case Western Reserve University\", \"type\": \"Yes\", \"res\": 7, \"pct\": 0.226, \"state\": \"Ohio\", \"region\": \"midwest\", \"uni_abbr\": \"CWRU\"}, {\"uni\": \"Chapman University\", \"type\": \"Nonuse\", \"res\": 19, \"pct\": 0.302, \"state\": \"California\", \"region\": \"pacific\", \"uni_abbr\": \"Chap\"}, {\"uni\": \"Chapman University\", \"type\": \"No\", \"res\": 31, \"pct\": 0.492, \"state\": \"California\", \"region\": \"pacific\", \"uni_abbr\": \"Chap\"}, {\"uni\": \"Chapman University\", \"type\": \"Yes\", \"res\": 13, \"pct\": 0.206, \"state\": \"California\", \"region\": \"pacific\", \"uni_abbr\": \"Chap\"}, {\"uni\": \"Colby College\", \"type\": \"Nonuse\", \"res\": 2, \"pct\": 0.143, \"state\": \"Maine\", \"region\": \"northeast\", \"uni_abbr\": \"CC\"}, {\"uni\": \"Colby College\", \"type\": \"No\", \"res\": 11, \"pct\": 0.786, \"state\": \"Maine\", \"region\": \"northeast\", \"uni_abbr\": \"CC\"}, {\"uni\": \"Colby College\", \"type\": \"Yes\", \"res\": 1, \"pct\": 0.071, \"state\": \"Maine\", \"region\": \"northeast\", \"uni_abbr\": \"CC\"}, {\"uni\": \"College of William and Mary\", \"type\": \"Nonuse\", \"res\": 6, \"pct\": 0.375, \"state\": \"Virginia\", \"region\": \"south\", \"uni_abbr\": \"WAM\"}, {\"uni\": \"College of William and Mary\", \"type\": \"No\", \"res\": 7, \"pct\": 0.438, \"state\": \"Virginia\", \"region\": \"south\", \"uni_abbr\": \"WAM\"}, {\"uni\": \"College of William and Mary\", \"type\": \"Yes\", \"res\": 3, \"pct\": 0.188, \"state\": \"Virginia\", \"region\": \"south\", \"uni_abbr\": \"WAM\"}, {\"uni\": \"Cornell University\", \"type\": \"Nonuse\", \"res\": 51, \"pct\": 0.264, \"state\": \"New York\", \"region\": \"northeast\", \"uni_abbr\": \"CU\"}, {\"uni\": \"Cornell University\", \"type\": \"No\", \"res\": 95, \"pct\": 0.492, \"state\": \"New York\", \"region\": \"northeast\", \"uni_abbr\": \"CU\"}, {\"uni\": \"Cornell University\", \"type\": \"Yes\", \"res\": 47, \"pct\": 0.244, \"state\": \"New York\", \"region\": \"northeast\", \"uni_abbr\": \"CU\"}, {\"uni\": \"Dartmouth College\", \"type\": \"Nonuse\", \"res\": 2, \"pct\": 0.2, \"state\": \"New Hampshire\", \"region\": \"northeast\", \"uni_abbr\": \"DC\"}, {\"uni\": \"Dartmouth College\", \"type\": \"No\", \"res\": 3, \"pct\": 0.3, \"state\": \"New Hampshire\", \"region\": \"northeast\", \"uni_abbr\": \"DC\"}, {\"uni\": \"Dartmouth College\", \"type\": \"Yes\", \"res\": 5, \"pct\": 0.5, \"state\": \"New Hampshire\", \"region\": \"northeast\", \"uni_abbr\": \"DC\"}, {\"uni\": \"Indiana University\", \"type\": \"Nonuse\", \"res\": 5, \"pct\": 0.114, \"state\": \"Indiana\", \"region\": \"midwest\", \"uni_abbr\": \"IU\"}, {\"uni\": \"Indiana University\", \"type\": \"No\", \"res\": 30, \"pct\": 0.682, \"state\": \"Indiana\", \"region\": \"midwest\", \"uni_abbr\": \"IU\"}, {\"uni\": \"Indiana University\", \"type\": \"Yes\", \"res\": 9, \"pct\": 0.205, \"state\": \"Indiana\", \"region\": \"midwest\", \"uni_abbr\": \"IU\"}, {\"uni\": \"Johns Hopkins University\", \"type\": \"Nonuse\", \"res\": 29, \"pct\": 0.21, \"state\": \"Maryland\", \"region\": \"northeast\", \"uni_abbr\": \"JHU\"}, {\"uni\": \"Johns Hopkins University\", \"type\": \"No\", \"res\": 76, \"pct\": 0.551, \"state\": \"Maryland\", \"region\": \"northeast\", \"uni_abbr\": \"JHU\"}, {\"uni\": \"Johns Hopkins University\", \"type\": \"Yes\", \"res\": 33, \"pct\": 0.239, \"state\": \"Maryland\", \"region\": \"northeast\", \"uni_abbr\": \"JHU\"}, {\"uni\": \"Northwestern University\", \"type\": \"Nonuse\", \"res\": 24, \"pct\": 0.2, \"state\": \"Illinois\", \"region\": \"midwest\", \"uni_abbr\": \"NU\"}, {\"uni\": \"Northwestern University\", \"type\": \"No\", \"res\": 65, \"pct\": 0.542, \"state\": \"Illinois\", \"region\": \"midwest\", \"uni_abbr\": \"NU\"}, {\"uni\": \"Northwestern University\", \"type\": \"Yes\", \"res\": 31, \"pct\": 0.258, \"state\": \"Illinois\", \"region\": \"midwest\", \"uni_abbr\": \"NU\"}, {\"uni\": \"Ohio State University\", \"type\": \"Nonuse\", \"res\": 1, \"pct\": 0.053, \"state\": \"Ohio\", \"region\": \"midwest\", \"uni_abbr\": \"OSU\"}, {\"uni\": \"Ohio State University\", \"type\": \"No\", \"res\": 12, \"pct\": 0.632, \"state\": \"Ohio\", \"region\": \"midwest\", \"uni_abbr\": \"OSU\"}, {\"uni\": \"Ohio State University\", \"type\": \"Yes\", \"res\": 6, \"pct\": 0.316, \"state\": \"Ohio\", \"region\": \"midwest\", \"uni_abbr\": \"OSU\"}, {\"uni\": \"Purdue University\", \"type\": \"Nonuse\", \"res\": 8, \"pct\": 0.308, \"state\": \"Indiana\", \"region\": \"midwest\", \"uni_abbr\": \"PU\"}, {\"uni\": \"Purdue University\", \"type\": \"No\", \"res\": 13, \"pct\": 0.5, \"state\": \"Indiana\", \"region\": \"midwest\", \"uni_abbr\": \"PU\"}, {\"uni\": \"Purdue University\", \"type\": \"Yes\", \"res\": 5, \"pct\": 0.192, \"state\": \"Indiana\", \"region\": \"midwest\", \"uni_abbr\": \"PU\"}, {\"uni\": \"San Diego State University\", \"type\": \"Nonuse\", \"res\": 6, \"pct\": 0.231, \"state\": \"California\", \"region\": \"pacific\", \"uni_abbr\": \"SDSU\"}, {\"uni\": \"San Diego State University\", \"type\": \"No\", \"res\": 15, \"pct\": 0.577, \"state\": \"California\", \"region\": \"pacific\", \"uni_abbr\": \"SDSU\"}, {\"uni\": \"San Diego State University\", \"type\": \"Yes\", \"res\": 5, \"pct\": 0.192, \"state\": \"California\", \"region\": \"pacific\", \"uni_abbr\": \"SDSU\"}, {\"uni\": \"Stanford University\", \"type\": \"Nonuse\", \"res\": 37, \"pct\": 0.343, \"state\": \"California\", \"region\": \"pacific\", \"uni_abbr\": \"SU\"}, {\"uni\": \"Stanford University\", \"type\": \"No\", \"res\": 58, \"pct\": 0.537, \"state\": \"California\", \"region\": \"pacific\", \"uni_abbr\": \"SU\"}, {\"uni\": \"Stanford University\", \"type\": \"Yes\", \"res\": 13, \"pct\": 0.12, \"state\": \"California\", \"region\": \"pacific\", \"uni_abbr\": \"SU\"}, {\"uni\": \"Texas A&M University\", \"type\": \"Nonuse\", \"res\": 12, \"pct\": 0.222, \"state\": \"Texas\", \"region\": \"mountain\", \"uni_abbr\": \"TAU\"}, {\"uni\": \"Texas A&M University\", \"type\": \"No\", \"res\": 29, \"pct\": 0.537, \"state\": \"Texas\", \"region\": \"mountain\", \"uni_abbr\": \"TAU\"}, {\"uni\": \"Texas A&M University\", \"type\": \"Yes\", \"res\": 13, \"pct\": 0.241, \"state\": \"Texas\", \"region\": \"mountain\", \"uni_abbr\": \"TAU\"}, {\"uni\": \"Texas Christian University\", \"type\": \"Nonuse\", \"res\": 10, \"pct\": 0.385, \"state\": \"Texas\", \"region\": \"mountain\", \"uni_abbr\": \"TCU\"}, {\"uni\": \"Texas Christian University\", \"type\": \"No\", \"res\": 8, \"pct\": 0.308, \"state\": \"Texas\", \"region\": \"mountain\", \"uni_abbr\": \"TCU\"}, {\"uni\": \"Texas Christian University\", \"type\": \"Yes\", \"res\": 8, \"pct\": 0.308, \"state\": \"Texas\", \"region\": \"mountain\", \"uni_abbr\": \"TCU\"}, {\"uni\": \"Texas Tech University\", \"type\": \"Nonuse\", \"res\": 5, \"pct\": 0.385, \"state\": \"Texas\", \"region\": \"mountain\", \"uni_abbr\": \"TTU\"}, {\"uni\": \"Texas Tech University\", \"type\": \"No\", \"res\": 5, \"pct\": 0.385, \"state\": \"Texas\", \"region\": \"mountain\", \"uni_abbr\": \"TTU\"}, {\"uni\": \"Texas Tech University\", \"type\": \"Yes\", \"res\": 3, \"pct\": 0.231, \"state\": \"Texas\", \"region\": \"mountain\", \"uni_abbr\": \"TTU\"}, {\"uni\": \"UMass Amherst\", \"type\": \"Nonuse\", \"res\": 3, \"pct\": 0.25, \"state\": \"Massachusetts\", \"region\": \"northeast\", \"uni_abbr\": \"Amherst\"}, {\"uni\": \"UMass Amherst\", \"type\": \"No\", \"res\": 6, \"pct\": 0.5, \"state\": \"Massachusetts\", \"region\": \"northeast\", \"uni_abbr\": \"Amherst\"}, {\"uni\": \"UMass Amherst\", \"type\": \"Yes\", \"res\": 3, \"pct\": 0.25, \"state\": \"Massachusetts\", \"region\": \"northeast\", \"uni_abbr\": \"Amherst\"}, {\"uni\": \"University of Alabama\", \"type\": \"Nonuse\", \"res\": 2, \"pct\": 0.133, \"state\": \"Alabama\", \"region\": \"south\", \"uni_abbr\": \"UOAL\"}, {\"uni\": \"University of Alabama\", \"type\": \"No\", \"res\": 11, \"pct\": 0.733, \"state\": \"Alabama\", \"region\": \"south\", \"uni_abbr\": \"UOAL\"}, {\"uni\": \"University of Alabama\", \"type\": \"Yes\", \"res\": 2, \"pct\": 0.133, \"state\": \"Alabama\", \"region\": \"south\", \"uni_abbr\": \"UOAL\"}, {\"uni\": \"University of Arizona\", \"type\": \"Nonuse\", \"res\": 3, \"pct\": 0.273, \"state\": \"Arizona\", \"region\": \"pacific\", \"uni_abbr\": \"UOAR\"}, {\"uni\": \"University of Arizona\", \"type\": \"No\", \"res\": 4, \"pct\": 0.364, \"state\": \"Arizona\", \"region\": \"pacific\", \"uni_abbr\": \"UOAR\"}, {\"uni\": \"University of Arizona\", \"type\": \"Yes\", \"res\": 4, \"pct\": 0.364, \"state\": \"Arizona\", \"region\": \"pacific\", \"uni_abbr\": \"UOAR\"}, {\"uni\": \"University of Arkansas\", \"type\": \"Nonuse\", \"res\": 19, \"pct\": 0.288, \"state\": \"Arkansas\", \"region\": \"south\", \"uni_abbr\": \"UOAK\"}, {\"uni\": \"University of Arkansas\", \"type\": \"No\", \"res\": 35, \"pct\": 0.53, \"state\": \"Arkansas\", \"region\": \"south\", \"uni_abbr\": \"UOAK\"}, {\"uni\": \"University of Arkansas\", \"type\": \"Yes\", \"res\": 12, \"pct\": 0.182, \"state\": \"Arkansas\", \"region\": \"south\", \"uni_abbr\": \"UOAK\"}, {\"uni\": \"University of California, Berkeley\", \"type\": \"Nonuse\", \"res\": 19, \"pct\": 0.209, \"state\": \"California\", \"region\": \"pacific\", \"uni_abbr\": \"UOCB\"}, {\"uni\": \"University of California, Berkeley\", \"type\": \"No\", \"res\": 47, \"pct\": 0.516, \"state\": \"California\", \"region\": \"pacific\", \"uni_abbr\": \"UOCB\"}, {\"uni\": \"University of California, Berkeley\", \"type\": \"Yes\", \"res\": 25, \"pct\": 0.275, \"state\": \"California\", \"region\": \"pacific\", \"uni_abbr\": \"UOCB\"}, {\"uni\": \"University of California, Davis\", \"type\": \"Nonuse\", \"res\": 6, \"pct\": 0.353, \"state\": \"California\", \"region\": \"pacific\", \"uni_abbr\": \"UOCD\"}, {\"uni\": \"University of California, Davis\", \"type\": \"No\", \"res\": 8, \"pct\": 0.471, \"state\": \"California\", \"region\": \"pacific\", \"uni_abbr\": \"UOCD\"}, {\"uni\": \"University of California, Davis\", \"type\": \"Yes\", \"res\": 3, \"pct\": 0.176, \"state\": \"California\", \"region\": \"pacific\", \"uni_abbr\": \"UOCD\"}, {\"uni\": \"University of California, Los Angeles\", \"type\": \"Nonuse\", \"res\": 5, \"pct\": 0.385, \"state\": \"California\", \"region\": \"pacific\", \"uni_abbr\": \"UOCLA\"}, {\"uni\": \"University of California, Los Angeles\", \"type\": \"No\", \"res\": 7, \"pct\": 0.538, \"state\": \"California\", \"region\": \"pacific\", \"uni_abbr\": \"UOCLA\"}, {\"uni\": \"University of California, Los Angeles\", \"type\": \"Yes\", \"res\": 1, \"pct\": 0.077, \"state\": \"California\", \"region\": \"pacific\", \"uni_abbr\": \"UOCLA\"}, {\"uni\": \"University of California, Santa Barbara\", \"type\": \"Nonuse\", \"res\": 17, \"pct\": 0.227, \"state\": \"California\", \"region\": \"pacific\", \"uni_abbr\": \"UOCSB\"}, {\"uni\": \"University of California, Santa Barbara\", \"type\": \"No\", \"res\": 34, \"pct\": 0.453, \"state\": \"California\", \"region\": \"pacific\", \"uni_abbr\": \"UOCSB\"}, {\"uni\": \"University of California, Santa Barbara\", \"type\": \"Yes\", \"res\": 24, \"pct\": 0.32, \"state\": \"California\", \"region\": \"pacific\", \"uni_abbr\": \"UOCSB\"}, {\"uni\": \"University of Georgia\", \"type\": \"Nonuse\", \"res\": 1, \"pct\": 0.091, \"state\": \"Georgia\", \"region\": \"south\", \"uni_abbr\": \"UOG\"}, {\"uni\": \"University of Georgia\", \"type\": \"No\", \"res\": 9, \"pct\": 0.818, \"state\": \"Georgia\", \"region\": \"south\", \"uni_abbr\": \"UOG\"}, {\"uni\": \"University of Georgia\", \"type\": \"Yes\", \"res\": 1, \"pct\": 0.091, \"state\": \"Georgia\", \"region\": \"south\", \"uni_abbr\": \"UOG\"}, {\"uni\": \"University of Illinois\", \"type\": \"Nonuse\", \"res\": 8, \"pct\": 0.17, \"state\": \"Illinois\", \"region\": \"midwest\", \"uni_abbr\": \"UOI\"}, {\"uni\": \"University of Illinois\", \"type\": \"No\", \"res\": 29, \"pct\": 0.617, \"state\": \"Illinois\", \"region\": \"midwest\", \"uni_abbr\": \"UOI\"}, {\"uni\": \"University of Illinois\", \"type\": \"Yes\", \"res\": 10, \"pct\": 0.213, \"state\": \"Illinois\", \"region\": \"midwest\", \"uni_abbr\": \"UOI\"}, {\"uni\": \"University of Kansas\", \"type\": \"Nonuse\", \"res\": 2, \"pct\": 0.2, \"state\": \"Kansas\", \"region\": \"midwest\", \"uni_abbr\": \"UOK\"}, {\"uni\": \"University of Kansas\", \"type\": \"No\", \"res\": 5, \"pct\": 0.5, \"state\": \"Kansas\", \"region\": \"midwest\", \"uni_abbr\": \"UOK\"}, {\"uni\": \"University of Kansas\", \"type\": \"Yes\", \"res\": 3, \"pct\": 0.3, \"state\": \"Kansas\", \"region\": \"midwest\", \"uni_abbr\": \"UOK\"}, {\"uni\": \"University of Michigan\", \"type\": \"Nonuse\", \"res\": 23, \"pct\": 0.267, \"state\": \"Michigan\", \"region\": \"midwest\", \"uni_abbr\": \"Mich\"}, {\"uni\": \"University of Michigan\", \"type\": \"No\", \"res\": 49, \"pct\": 0.57, \"state\": \"Michigan\", \"region\": \"midwest\", \"uni_abbr\": \"Mich\"}, {\"uni\": \"University of Michigan\", \"type\": \"Yes\", \"res\": 14, \"pct\": 0.163, \"state\": \"Michigan\", \"region\": \"midwest\", \"uni_abbr\": \"Mich\"}, {\"uni\": \"University of Missouri\", \"type\": \"Nonuse\", \"res\": 8, \"pct\": 0.267, \"state\": \"Missouri\", \"region\": \"midwest\", \"uni_abbr\": \"Miss\"}, {\"uni\": \"University of Missouri\", \"type\": \"No\", \"res\": 15, \"pct\": 0.5, \"state\": \"Missouri\", \"region\": \"midwest\", \"uni_abbr\": \"Miss\"}, {\"uni\": \"University of Missouri\", \"type\": \"Yes\", \"res\": 7, \"pct\": 0.233, \"state\": \"Missouri\", \"region\": \"midwest\", \"uni_abbr\": \"Miss\"}, {\"uni\": \"University of North Carolina\", \"type\": \"Nonuse\", \"res\": 3, \"pct\": 0.25, \"state\": \"North Carolina\", \"region\": \"south\", \"uni_abbr\": \"UONC\"}, {\"uni\": \"University of North Carolina\", \"type\": \"No\", \"res\": 8, \"pct\": 0.667, \"state\": \"North Carolina\", \"region\": \"south\", \"uni_abbr\": \"UONC\"}, {\"uni\": \"University of North Carolina\", \"type\": \"Yes\", \"res\": 1, \"pct\": 0.083, \"state\": \"North Carolina\", \"region\": \"south\", \"uni_abbr\": \"UONC\"}, {\"uni\": \"University of Pennsylvania\", \"type\": \"Nonuse\", \"res\": 24, \"pct\": 0.222, \"state\": \"Pennsylvania\", \"region\": \"northeast\", \"uni_abbr\": \"UOP\"}, {\"uni\": \"University of Pennsylvania\", \"type\": \"No\", \"res\": 60, \"pct\": 0.556, \"state\": \"Pennsylvania\", \"region\": \"northeast\", \"uni_abbr\": \"UOP\"}, {\"uni\": \"University of Pennsylvania\", \"type\": \"Yes\", \"res\": 24, \"pct\": 0.222, \"state\": \"Pennsylvania\", \"region\": \"northeast\", \"uni_abbr\": \"UOP\"}, {\"uni\": \"University of Richmond\", \"type\": \"Nonuse\", \"res\": 7, \"pct\": 0.389, \"state\": \"Virginia\", \"region\": \"south\", \"uni_abbr\": \"UOR\"}, {\"uni\": \"University of Richmond\", \"type\": \"No\", \"res\": 9, \"pct\": 0.5, \"state\": \"Virginia\", \"region\": \"south\", \"uni_abbr\": \"UOR\"}, {\"uni\": \"University of Richmond\", \"type\": \"Yes\", \"res\": 2, \"pct\": 0.111, \"state\": \"Virginia\", \"region\": \"south\", \"uni_abbr\": \"UOR\"}, {\"uni\": \"University of Southern California\", \"type\": \"Nonuse\", \"res\": 2, \"pct\": 0.2, \"state\": \"California\", \"region\": \"pacific\", \"uni_abbr\": \"UOSC\"}, {\"uni\": \"University of Southern California\", \"type\": \"No\", \"res\": 7, \"pct\": 0.7, \"state\": \"California\", \"region\": \"pacific\", \"uni_abbr\": \"UOSC\"}, {\"uni\": \"University of Southern California\", \"type\": \"Yes\", \"res\": 1, \"pct\": 0.1, \"state\": \"California\", \"region\": \"pacific\", \"uni_abbr\": \"UOSC\"}, {\"uni\": \"University of Texas\", \"type\": \"Nonuse\", \"res\": 26, \"pct\": 0.356, \"state\": \"Texas\", \"region\": \"mountain\", \"uni_abbr\": \"UOT\"}, {\"uni\": \"University of Texas\", \"type\": \"No\", \"res\": 35, \"pct\": 0.479, \"state\": \"Texas\", \"region\": \"mountain\", \"uni_abbr\": \"UOT\"}, {\"uni\": \"University of Texas\", \"type\": \"Yes\", \"res\": 12, \"pct\": 0.164, \"state\": \"Texas\", \"region\": \"mountain\", \"uni_abbr\": \"UOT\"}, {\"uni\": \"University of Virginia\", \"type\": \"Nonuse\", \"res\": 8, \"pct\": 0.444, \"state\": \"Virginia\", \"region\": \"south\", \"uni_abbr\": \"UOV\"}, {\"uni\": \"University of Virginia\", \"type\": \"No\", \"res\": 7, \"pct\": 0.389, \"state\": \"Virginia\", \"region\": \"south\", \"uni_abbr\": \"UOV\"}, {\"uni\": \"University of Virginia\", \"type\": \"Yes\", \"res\": 3, \"pct\": 0.167, \"state\": \"Virginia\", \"region\": \"south\", \"uni_abbr\": \"UOV\"}, {\"uni\": \"University of Wisconsin-Madison\", \"type\": \"Nonuse\", \"res\": 21, \"pct\": 0.167, \"state\": \"Wisconsin\", \"region\": \"midwest\", \"uni_abbr\": \"UOW\"}, {\"uni\": \"University of Wisconsin-Madison\", \"type\": \"No\", \"res\": 71, \"pct\": 0.563, \"state\": \"Wisconsin\", \"region\": \"midwest\", \"uni_abbr\": \"UOW\"}, {\"uni\": \"University of Wisconsin-Madison\", \"type\": \"Yes\", \"res\": 34, \"pct\": 0.27, \"state\": \"Wisconsin\", \"region\": \"midwest\", \"uni_abbr\": \"UOW\"}, {\"uni\": \"Vanderbilt University\", \"type\": \"Nonuse\", \"res\": 12, \"pct\": 0.122, \"state\": \"Tennessee\", \"region\": \"south\", \"uni_abbr\": \"VU\"}, {\"uni\": \"Vanderbilt University\", \"type\": \"No\", \"res\": 63, \"pct\": 0.643, \"state\": \"Tennessee\", \"region\": \"south\", \"uni_abbr\": \"VU\"}, {\"uni\": \"Vanderbilt University\", \"type\": \"Yes\", \"res\": 23, \"pct\": 0.235, \"state\": \"Tennessee\", \"region\": \"south\", \"uni_abbr\": \"VU\"}, {\"uni\": \"Washington State University\", \"type\": \"Nonuse\", \"res\": 6, \"pct\": 0.231, \"state\": \"Washington\", \"region\": \"pacific\", \"uni_abbr\": \"WSU\"}, {\"uni\": \"Washington State University\", \"type\": \"No\", \"res\": 12, \"pct\": 0.462, \"state\": \"Washington\", \"region\": \"pacific\", \"uni_abbr\": \"WSU\"}, {\"uni\": \"Washington State University\", \"type\": \"Yes\", \"res\": 8, \"pct\": 0.308, \"state\": \"Washington\", \"region\": \"pacific\", \"uni_abbr\": \"WSU\"}]}}, {\"mode\": \"vega-lite\"});\n",
       "</script>"
      ],
      "text/plain": [
       "alt.Chart(...)"
      ]
     },
     "execution_count": 15,
     "metadata": {},
     "output_type": "execute_result"
    }
   ],
   "source": [
    "# Adding a tooltip that shows extra attribute info\n",
    "chart.mark_bar().encode(\n",
    "    alt.X(\"uni_abbr:N\", sort=\"-y\"),\n",
    "    alt.Y(\"sum(res)\"),\n",
    "    alt.Tooltip(\"uni\") # add tooltip that shows uni name\n",
    ").interactive() # This is a must to add"
   ]
  },
  {
   "cell_type": "markdown",
   "id": "3c47b4d5-2281-4394-9ef2-cdef6a5775b6",
   "metadata": {},
   "source": [
    "### Transform: Filter"
   ]
  },
  {
   "cell_type": "markdown",
   "id": "d29f3f97-0563-429a-8405-20baf32db204",
   "metadata": {},
   "source": [
    "If we were inrested more than total num, but specific type as well, we could use a `transform_filter` to only encodes data items that satisfy the filter expresion, and no need to **filter the original data** with pandas."
   ]
  },
  {
   "cell_type": "code",
   "execution_count": 19,
   "id": "b5da9562-164d-46e9-afe5-d27ae55dba90",
   "metadata": {},
   "outputs": [
    {
     "data": {
      "text/html": [
       "\n",
       "<div id=\"altair-viz-fef9d347692e452a8b80633b7ab7e066\"></div>\n",
       "<script type=\"text/javascript\">\n",
       "  var VEGA_DEBUG = (typeof VEGA_DEBUG == \"undefined\") ? {} : VEGA_DEBUG;\n",
       "  (function(spec, embedOpt){\n",
       "    let outputDiv = document.currentScript.previousElementSibling;\n",
       "    if (outputDiv.id !== \"altair-viz-fef9d347692e452a8b80633b7ab7e066\") {\n",
       "      outputDiv = document.getElementById(\"altair-viz-fef9d347692e452a8b80633b7ab7e066\");\n",
       "    }\n",
       "    const paths = {\n",
       "      \"vega\": \"https://cdn.jsdelivr.net/npm//vega@5?noext\",\n",
       "      \"vega-lib\": \"https://cdn.jsdelivr.net/npm//vega-lib?noext\",\n",
       "      \"vega-lite\": \"https://cdn.jsdelivr.net/npm//vega-lite@4.17.0?noext\",\n",
       "      \"vega-embed\": \"https://cdn.jsdelivr.net/npm//vega-embed@6?noext\",\n",
       "    };\n",
       "\n",
       "    function maybeLoadScript(lib, version) {\n",
       "      var key = `${lib.replace(\"-\", \"\")}_version`;\n",
       "      return (VEGA_DEBUG[key] == version) ?\n",
       "        Promise.resolve(paths[lib]) :\n",
       "        new Promise(function(resolve, reject) {\n",
       "          var s = document.createElement('script');\n",
       "          document.getElementsByTagName(\"head\")[0].appendChild(s);\n",
       "          s.async = true;\n",
       "          s.onload = () => {\n",
       "            VEGA_DEBUG[key] = version;\n",
       "            return resolve(paths[lib]);\n",
       "          };\n",
       "          s.onerror = () => reject(`Error loading script: ${paths[lib]}`);\n",
       "          s.src = paths[lib];\n",
       "        });\n",
       "    }\n",
       "\n",
       "    function showError(err) {\n",
       "      outputDiv.innerHTML = `<div class=\"error\" style=\"color:red;\">${err}</div>`;\n",
       "      throw err;\n",
       "    }\n",
       "\n",
       "    function displayChart(vegaEmbed) {\n",
       "      vegaEmbed(outputDiv, spec, embedOpt)\n",
       "        .catch(err => showError(`Javascript Error: ${err.message}<br>This usually means there's a typo in your chart specification. See the javascript console for the full traceback.`));\n",
       "    }\n",
       "\n",
       "    if(typeof define === \"function\" && define.amd) {\n",
       "      requirejs.config({paths});\n",
       "      require([\"vega-embed\"], displayChart, err => showError(`Error loading script: ${err.message}`));\n",
       "    } else {\n",
       "      maybeLoadScript(\"vega\", \"5\")\n",
       "        .then(() => maybeLoadScript(\"vega-lite\", \"4.17.0\"))\n",
       "        .then(() => maybeLoadScript(\"vega-embed\", \"6\"))\n",
       "        .catch(showError)\n",
       "        .then(() => displayChart(vegaEmbed));\n",
       "    }\n",
       "  })({\"config\": {\"view\": {\"continuousWidth\": 400, \"continuousHeight\": 300}}, \"data\": {\"name\": \"data-625a034231e7cf75ff53895cdf90a07a\"}, \"mark\": \"bar\", \"encoding\": {\"tooltip\": {\"field\": \"uni\", \"type\": \"nominal\"}, \"x\": {\"field\": \"uni_abbr\", \"sort\": \"-y\", \"type\": \"nominal\"}, \"y\": {\"field\": \"res\", \"type\": \"quantitative\"}}, \"selection\": {\"selector003\": {\"type\": \"interval\", \"bind\": \"scales\", \"encodings\": [\"x\", \"y\"]}}, \"transform\": [{\"filter\": \"(datum.type === 'No')\"}], \"$schema\": \"https://vega.github.io/schema/vega-lite/v4.17.0.json\", \"datasets\": {\"data-625a034231e7cf75ff53895cdf90a07a\": [{\"uni\": \"Appalachian State University\", \"type\": \"Nonuse\", \"res\": 46, \"pct\": 0.4, \"state\": \"North Carolina\", \"region\": \"south\", \"uni_abbr\": \"ASU\"}, {\"uni\": \"Appalachian State University\", \"type\": \"No\", \"res\": 53, \"pct\": 0.461, \"state\": \"North Carolina\", \"region\": \"south\", \"uni_abbr\": \"ASU\"}, {\"uni\": \"Appalachian State University\", \"type\": \"Yes\", \"res\": 16, \"pct\": 0.139, \"state\": \"North Carolina\", \"region\": \"south\", \"uni_abbr\": \"ASU\"}, {\"uni\": \"Butler University\", \"type\": \"Nonuse\", \"res\": 17, \"pct\": 0.25, \"state\": \"Indiana\", \"region\": \"midwest\", \"uni_abbr\": \"BU\"}, {\"uni\": \"Butler University\", \"type\": \"No\", \"res\": 44, \"pct\": 0.647, \"state\": \"Indiana\", \"region\": \"midwest\", \"uni_abbr\": \"BU\"}, {\"uni\": \"Butler University\", \"type\": \"Yes\", \"res\": 7, \"pct\": 0.103, \"state\": \"Indiana\", \"region\": \"midwest\", \"uni_abbr\": \"BU\"}, {\"uni\": \"Cal Poly San Luis Obispo\", \"type\": \"Nonuse\", \"res\": 7, \"pct\": 0.28, \"state\": \"California\", \"region\": \"pacific\", \"uni_abbr\": \"CPSLO\"}, {\"uni\": \"Cal Poly San Luis Obispo\", \"type\": \"No\", \"res\": 10, \"pct\": 0.4, \"state\": \"California\", \"region\": \"pacific\", \"uni_abbr\": \"CPSLO\"}, {\"uni\": \"Cal Poly San Luis Obispo\", \"type\": \"Yes\", \"res\": 8, \"pct\": 0.32, \"state\": \"California\", \"region\": \"pacific\", \"uni_abbr\": \"CPSLO\"}, {\"uni\": \"Case Western Reserve University\", \"type\": \"Nonuse\", \"res\": 12, \"pct\": 0.387, \"state\": \"Ohio\", \"region\": \"midwest\", \"uni_abbr\": \"CWRU\"}, {\"uni\": \"Case Western Reserve University\", \"type\": \"No\", \"res\": 12, \"pct\": 0.387, \"state\": \"Ohio\", \"region\": \"midwest\", \"uni_abbr\": \"CWRU\"}, {\"uni\": \"Case Western Reserve University\", \"type\": \"Yes\", \"res\": 7, \"pct\": 0.226, \"state\": \"Ohio\", \"region\": \"midwest\", \"uni_abbr\": \"CWRU\"}, {\"uni\": \"Chapman University\", \"type\": \"Nonuse\", \"res\": 19, \"pct\": 0.302, \"state\": \"California\", \"region\": \"pacific\", \"uni_abbr\": \"Chap\"}, {\"uni\": \"Chapman University\", \"type\": \"No\", \"res\": 31, \"pct\": 0.492, \"state\": \"California\", \"region\": \"pacific\", \"uni_abbr\": \"Chap\"}, {\"uni\": \"Chapman University\", \"type\": \"Yes\", \"res\": 13, \"pct\": 0.206, \"state\": \"California\", \"region\": \"pacific\", \"uni_abbr\": \"Chap\"}, {\"uni\": \"Colby College\", \"type\": \"Nonuse\", \"res\": 2, \"pct\": 0.143, \"state\": \"Maine\", \"region\": \"northeast\", \"uni_abbr\": \"CC\"}, {\"uni\": \"Colby College\", \"type\": \"No\", \"res\": 11, \"pct\": 0.786, \"state\": \"Maine\", \"region\": \"northeast\", \"uni_abbr\": \"CC\"}, {\"uni\": \"Colby College\", \"type\": \"Yes\", \"res\": 1, \"pct\": 0.071, \"state\": \"Maine\", \"region\": \"northeast\", \"uni_abbr\": \"CC\"}, {\"uni\": \"College of William and Mary\", \"type\": \"Nonuse\", \"res\": 6, \"pct\": 0.375, \"state\": \"Virginia\", \"region\": \"south\", \"uni_abbr\": \"WAM\"}, {\"uni\": \"College of William and Mary\", \"type\": \"No\", \"res\": 7, \"pct\": 0.438, \"state\": \"Virginia\", \"region\": \"south\", \"uni_abbr\": \"WAM\"}, {\"uni\": \"College of William and Mary\", \"type\": \"Yes\", \"res\": 3, \"pct\": 0.188, \"state\": \"Virginia\", \"region\": \"south\", \"uni_abbr\": \"WAM\"}, {\"uni\": \"Cornell University\", \"type\": \"Nonuse\", \"res\": 51, \"pct\": 0.264, \"state\": \"New York\", \"region\": \"northeast\", \"uni_abbr\": \"CU\"}, {\"uni\": \"Cornell University\", \"type\": \"No\", \"res\": 95, \"pct\": 0.492, \"state\": \"New York\", \"region\": \"northeast\", \"uni_abbr\": \"CU\"}, {\"uni\": \"Cornell University\", \"type\": \"Yes\", \"res\": 47, \"pct\": 0.244, \"state\": \"New York\", \"region\": \"northeast\", \"uni_abbr\": \"CU\"}, {\"uni\": \"Dartmouth College\", \"type\": \"Nonuse\", \"res\": 2, \"pct\": 0.2, \"state\": \"New Hampshire\", \"region\": \"northeast\", \"uni_abbr\": \"DC\"}, {\"uni\": \"Dartmouth College\", \"type\": \"No\", \"res\": 3, \"pct\": 0.3, \"state\": \"New Hampshire\", \"region\": \"northeast\", \"uni_abbr\": \"DC\"}, {\"uni\": \"Dartmouth College\", \"type\": \"Yes\", \"res\": 5, \"pct\": 0.5, \"state\": \"New Hampshire\", \"region\": \"northeast\", \"uni_abbr\": \"DC\"}, {\"uni\": \"Indiana University\", \"type\": \"Nonuse\", \"res\": 5, \"pct\": 0.114, \"state\": \"Indiana\", \"region\": \"midwest\", \"uni_abbr\": \"IU\"}, {\"uni\": \"Indiana University\", \"type\": \"No\", \"res\": 30, \"pct\": 0.682, \"state\": \"Indiana\", \"region\": \"midwest\", \"uni_abbr\": \"IU\"}, {\"uni\": \"Indiana University\", \"type\": \"Yes\", \"res\": 9, \"pct\": 0.205, \"state\": \"Indiana\", \"region\": \"midwest\", \"uni_abbr\": \"IU\"}, {\"uni\": \"Johns Hopkins University\", \"type\": \"Nonuse\", \"res\": 29, \"pct\": 0.21, \"state\": \"Maryland\", \"region\": \"northeast\", \"uni_abbr\": \"JHU\"}, {\"uni\": \"Johns Hopkins University\", \"type\": \"No\", \"res\": 76, \"pct\": 0.551, \"state\": \"Maryland\", \"region\": \"northeast\", \"uni_abbr\": \"JHU\"}, {\"uni\": \"Johns Hopkins University\", \"type\": \"Yes\", \"res\": 33, \"pct\": 0.239, \"state\": \"Maryland\", \"region\": \"northeast\", \"uni_abbr\": \"JHU\"}, {\"uni\": \"Northwestern University\", \"type\": \"Nonuse\", \"res\": 24, \"pct\": 0.2, \"state\": \"Illinois\", \"region\": \"midwest\", \"uni_abbr\": \"NU\"}, {\"uni\": \"Northwestern University\", \"type\": \"No\", \"res\": 65, \"pct\": 0.542, \"state\": \"Illinois\", \"region\": \"midwest\", \"uni_abbr\": \"NU\"}, {\"uni\": \"Northwestern University\", \"type\": \"Yes\", \"res\": 31, \"pct\": 0.258, \"state\": \"Illinois\", \"region\": \"midwest\", \"uni_abbr\": \"NU\"}, {\"uni\": \"Ohio State University\", \"type\": \"Nonuse\", \"res\": 1, \"pct\": 0.053, \"state\": \"Ohio\", \"region\": \"midwest\", \"uni_abbr\": \"OSU\"}, {\"uni\": \"Ohio State University\", \"type\": \"No\", \"res\": 12, \"pct\": 0.632, \"state\": \"Ohio\", \"region\": \"midwest\", \"uni_abbr\": \"OSU\"}, {\"uni\": \"Ohio State University\", \"type\": \"Yes\", \"res\": 6, \"pct\": 0.316, \"state\": \"Ohio\", \"region\": \"midwest\", \"uni_abbr\": \"OSU\"}, {\"uni\": \"Purdue University\", \"type\": \"Nonuse\", \"res\": 8, \"pct\": 0.308, \"state\": \"Indiana\", \"region\": \"midwest\", \"uni_abbr\": \"PU\"}, {\"uni\": \"Purdue University\", \"type\": \"No\", \"res\": 13, \"pct\": 0.5, \"state\": \"Indiana\", \"region\": \"midwest\", \"uni_abbr\": \"PU\"}, {\"uni\": \"Purdue University\", \"type\": \"Yes\", \"res\": 5, \"pct\": 0.192, \"state\": \"Indiana\", \"region\": \"midwest\", \"uni_abbr\": \"PU\"}, {\"uni\": \"San Diego State University\", \"type\": \"Nonuse\", \"res\": 6, \"pct\": 0.231, \"state\": \"California\", \"region\": \"pacific\", \"uni_abbr\": \"SDSU\"}, {\"uni\": \"San Diego State University\", \"type\": \"No\", \"res\": 15, \"pct\": 0.577, \"state\": \"California\", \"region\": \"pacific\", \"uni_abbr\": \"SDSU\"}, {\"uni\": \"San Diego State University\", \"type\": \"Yes\", \"res\": 5, \"pct\": 0.192, \"state\": \"California\", \"region\": \"pacific\", \"uni_abbr\": \"SDSU\"}, {\"uni\": \"Stanford University\", \"type\": \"Nonuse\", \"res\": 37, \"pct\": 0.343, \"state\": \"California\", \"region\": \"pacific\", \"uni_abbr\": \"SU\"}, {\"uni\": \"Stanford University\", \"type\": \"No\", \"res\": 58, \"pct\": 0.537, \"state\": \"California\", \"region\": \"pacific\", \"uni_abbr\": \"SU\"}, {\"uni\": \"Stanford University\", \"type\": \"Yes\", \"res\": 13, \"pct\": 0.12, \"state\": \"California\", \"region\": \"pacific\", \"uni_abbr\": \"SU\"}, {\"uni\": \"Texas A&M University\", \"type\": \"Nonuse\", \"res\": 12, \"pct\": 0.222, \"state\": \"Texas\", \"region\": \"mountain\", \"uni_abbr\": \"TAU\"}, {\"uni\": \"Texas A&M University\", \"type\": \"No\", \"res\": 29, \"pct\": 0.537, \"state\": \"Texas\", \"region\": \"mountain\", \"uni_abbr\": \"TAU\"}, {\"uni\": \"Texas A&M University\", \"type\": \"Yes\", \"res\": 13, \"pct\": 0.241, \"state\": \"Texas\", \"region\": \"mountain\", \"uni_abbr\": \"TAU\"}, {\"uni\": \"Texas Christian University\", \"type\": \"Nonuse\", \"res\": 10, \"pct\": 0.385, \"state\": \"Texas\", \"region\": \"mountain\", \"uni_abbr\": \"TCU\"}, {\"uni\": \"Texas Christian University\", \"type\": \"No\", \"res\": 8, \"pct\": 0.308, \"state\": \"Texas\", \"region\": \"mountain\", \"uni_abbr\": \"TCU\"}, {\"uni\": \"Texas Christian University\", \"type\": \"Yes\", \"res\": 8, \"pct\": 0.308, \"state\": \"Texas\", \"region\": \"mountain\", \"uni_abbr\": \"TCU\"}, {\"uni\": \"Texas Tech University\", \"type\": \"Nonuse\", \"res\": 5, \"pct\": 0.385, \"state\": \"Texas\", \"region\": \"mountain\", \"uni_abbr\": \"TTU\"}, {\"uni\": \"Texas Tech University\", \"type\": \"No\", \"res\": 5, \"pct\": 0.385, \"state\": \"Texas\", \"region\": \"mountain\", \"uni_abbr\": \"TTU\"}, {\"uni\": \"Texas Tech University\", \"type\": \"Yes\", \"res\": 3, \"pct\": 0.231, \"state\": \"Texas\", \"region\": \"mountain\", \"uni_abbr\": \"TTU\"}, {\"uni\": \"UMass Amherst\", \"type\": \"Nonuse\", \"res\": 3, \"pct\": 0.25, \"state\": \"Massachusetts\", \"region\": \"northeast\", \"uni_abbr\": \"Amherst\"}, {\"uni\": \"UMass Amherst\", \"type\": \"No\", \"res\": 6, \"pct\": 0.5, \"state\": \"Massachusetts\", \"region\": \"northeast\", \"uni_abbr\": \"Amherst\"}, {\"uni\": \"UMass Amherst\", \"type\": \"Yes\", \"res\": 3, \"pct\": 0.25, \"state\": \"Massachusetts\", \"region\": \"northeast\", \"uni_abbr\": \"Amherst\"}, {\"uni\": \"University of Alabama\", \"type\": \"Nonuse\", \"res\": 2, \"pct\": 0.133, \"state\": \"Alabama\", \"region\": \"south\", \"uni_abbr\": \"UOAL\"}, {\"uni\": \"University of Alabama\", \"type\": \"No\", \"res\": 11, \"pct\": 0.733, \"state\": \"Alabama\", \"region\": \"south\", \"uni_abbr\": \"UOAL\"}, {\"uni\": \"University of Alabama\", \"type\": \"Yes\", \"res\": 2, \"pct\": 0.133, \"state\": \"Alabama\", \"region\": \"south\", \"uni_abbr\": \"UOAL\"}, {\"uni\": \"University of Arizona\", \"type\": \"Nonuse\", \"res\": 3, \"pct\": 0.273, \"state\": \"Arizona\", \"region\": \"pacific\", \"uni_abbr\": \"UOAR\"}, {\"uni\": \"University of Arizona\", \"type\": \"No\", \"res\": 4, \"pct\": 0.364, \"state\": \"Arizona\", \"region\": \"pacific\", \"uni_abbr\": \"UOAR\"}, {\"uni\": \"University of Arizona\", \"type\": \"Yes\", \"res\": 4, \"pct\": 0.364, \"state\": \"Arizona\", \"region\": \"pacific\", \"uni_abbr\": \"UOAR\"}, {\"uni\": \"University of Arkansas\", \"type\": \"Nonuse\", \"res\": 19, \"pct\": 0.288, \"state\": \"Arkansas\", \"region\": \"south\", \"uni_abbr\": \"UOAK\"}, {\"uni\": \"University of Arkansas\", \"type\": \"No\", \"res\": 35, \"pct\": 0.53, \"state\": \"Arkansas\", \"region\": \"south\", \"uni_abbr\": \"UOAK\"}, {\"uni\": \"University of Arkansas\", \"type\": \"Yes\", \"res\": 12, \"pct\": 0.182, \"state\": \"Arkansas\", \"region\": \"south\", \"uni_abbr\": \"UOAK\"}, {\"uni\": \"University of California, Berkeley\", \"type\": \"Nonuse\", \"res\": 19, \"pct\": 0.209, \"state\": \"California\", \"region\": \"pacific\", \"uni_abbr\": \"UOCB\"}, {\"uni\": \"University of California, Berkeley\", \"type\": \"No\", \"res\": 47, \"pct\": 0.516, \"state\": \"California\", \"region\": \"pacific\", \"uni_abbr\": \"UOCB\"}, {\"uni\": \"University of California, Berkeley\", \"type\": \"Yes\", \"res\": 25, \"pct\": 0.275, \"state\": \"California\", \"region\": \"pacific\", \"uni_abbr\": \"UOCB\"}, {\"uni\": \"University of California, Davis\", \"type\": \"Nonuse\", \"res\": 6, \"pct\": 0.353, \"state\": \"California\", \"region\": \"pacific\", \"uni_abbr\": \"UOCD\"}, {\"uni\": \"University of California, Davis\", \"type\": \"No\", \"res\": 8, \"pct\": 0.471, \"state\": \"California\", \"region\": \"pacific\", \"uni_abbr\": \"UOCD\"}, {\"uni\": \"University of California, Davis\", \"type\": \"Yes\", \"res\": 3, \"pct\": 0.176, \"state\": \"California\", \"region\": \"pacific\", \"uni_abbr\": \"UOCD\"}, {\"uni\": \"University of California, Los Angeles\", \"type\": \"Nonuse\", \"res\": 5, \"pct\": 0.385, \"state\": \"California\", \"region\": \"pacific\", \"uni_abbr\": \"UOCLA\"}, {\"uni\": \"University of California, Los Angeles\", \"type\": \"No\", \"res\": 7, \"pct\": 0.538, \"state\": \"California\", \"region\": \"pacific\", \"uni_abbr\": \"UOCLA\"}, {\"uni\": \"University of California, Los Angeles\", \"type\": \"Yes\", \"res\": 1, \"pct\": 0.077, \"state\": \"California\", \"region\": \"pacific\", \"uni_abbr\": \"UOCLA\"}, {\"uni\": \"University of California, Santa Barbara\", \"type\": \"Nonuse\", \"res\": 17, \"pct\": 0.227, \"state\": \"California\", \"region\": \"pacific\", \"uni_abbr\": \"UOCSB\"}, {\"uni\": \"University of California, Santa Barbara\", \"type\": \"No\", \"res\": 34, \"pct\": 0.453, \"state\": \"California\", \"region\": \"pacific\", \"uni_abbr\": \"UOCSB\"}, {\"uni\": \"University of California, Santa Barbara\", \"type\": \"Yes\", \"res\": 24, \"pct\": 0.32, \"state\": \"California\", \"region\": \"pacific\", \"uni_abbr\": \"UOCSB\"}, {\"uni\": \"University of Georgia\", \"type\": \"Nonuse\", \"res\": 1, \"pct\": 0.091, \"state\": \"Georgia\", \"region\": \"south\", \"uni_abbr\": \"UOG\"}, {\"uni\": \"University of Georgia\", \"type\": \"No\", \"res\": 9, \"pct\": 0.818, \"state\": \"Georgia\", \"region\": \"south\", \"uni_abbr\": \"UOG\"}, {\"uni\": \"University of Georgia\", \"type\": \"Yes\", \"res\": 1, \"pct\": 0.091, \"state\": \"Georgia\", \"region\": \"south\", \"uni_abbr\": \"UOG\"}, {\"uni\": \"University of Illinois\", \"type\": \"Nonuse\", \"res\": 8, \"pct\": 0.17, \"state\": \"Illinois\", \"region\": \"midwest\", \"uni_abbr\": \"UOI\"}, {\"uni\": \"University of Illinois\", \"type\": \"No\", \"res\": 29, \"pct\": 0.617, \"state\": \"Illinois\", \"region\": \"midwest\", \"uni_abbr\": \"UOI\"}, {\"uni\": \"University of Illinois\", \"type\": \"Yes\", \"res\": 10, \"pct\": 0.213, \"state\": \"Illinois\", \"region\": \"midwest\", \"uni_abbr\": \"UOI\"}, {\"uni\": \"University of Kansas\", \"type\": \"Nonuse\", \"res\": 2, \"pct\": 0.2, \"state\": \"Kansas\", \"region\": \"midwest\", \"uni_abbr\": \"UOK\"}, {\"uni\": \"University of Kansas\", \"type\": \"No\", \"res\": 5, \"pct\": 0.5, \"state\": \"Kansas\", \"region\": \"midwest\", \"uni_abbr\": \"UOK\"}, {\"uni\": \"University of Kansas\", \"type\": \"Yes\", \"res\": 3, \"pct\": 0.3, \"state\": \"Kansas\", \"region\": \"midwest\", \"uni_abbr\": \"UOK\"}, {\"uni\": \"University of Michigan\", \"type\": \"Nonuse\", \"res\": 23, \"pct\": 0.267, \"state\": \"Michigan\", \"region\": \"midwest\", \"uni_abbr\": \"Mich\"}, {\"uni\": \"University of Michigan\", \"type\": \"No\", \"res\": 49, \"pct\": 0.57, \"state\": \"Michigan\", \"region\": \"midwest\", \"uni_abbr\": \"Mich\"}, {\"uni\": \"University of Michigan\", \"type\": \"Yes\", \"res\": 14, \"pct\": 0.163, \"state\": \"Michigan\", \"region\": \"midwest\", \"uni_abbr\": \"Mich\"}, {\"uni\": \"University of Missouri\", \"type\": \"Nonuse\", \"res\": 8, \"pct\": 0.267, \"state\": \"Missouri\", \"region\": \"midwest\", \"uni_abbr\": \"Miss\"}, {\"uni\": \"University of Missouri\", \"type\": \"No\", \"res\": 15, \"pct\": 0.5, \"state\": \"Missouri\", \"region\": \"midwest\", \"uni_abbr\": \"Miss\"}, {\"uni\": \"University of Missouri\", \"type\": \"Yes\", \"res\": 7, \"pct\": 0.233, \"state\": \"Missouri\", \"region\": \"midwest\", \"uni_abbr\": \"Miss\"}, {\"uni\": \"University of North Carolina\", \"type\": \"Nonuse\", \"res\": 3, \"pct\": 0.25, \"state\": \"North Carolina\", \"region\": \"south\", \"uni_abbr\": \"UONC\"}, {\"uni\": \"University of North Carolina\", \"type\": \"No\", \"res\": 8, \"pct\": 0.667, \"state\": \"North Carolina\", \"region\": \"south\", \"uni_abbr\": \"UONC\"}, {\"uni\": \"University of North Carolina\", \"type\": \"Yes\", \"res\": 1, \"pct\": 0.083, \"state\": \"North Carolina\", \"region\": \"south\", \"uni_abbr\": \"UONC\"}, {\"uni\": \"University of Pennsylvania\", \"type\": \"Nonuse\", \"res\": 24, \"pct\": 0.222, \"state\": \"Pennsylvania\", \"region\": \"northeast\", \"uni_abbr\": \"UOP\"}, {\"uni\": \"University of Pennsylvania\", \"type\": \"No\", \"res\": 60, \"pct\": 0.556, \"state\": \"Pennsylvania\", \"region\": \"northeast\", \"uni_abbr\": \"UOP\"}, {\"uni\": \"University of Pennsylvania\", \"type\": \"Yes\", \"res\": 24, \"pct\": 0.222, \"state\": \"Pennsylvania\", \"region\": \"northeast\", \"uni_abbr\": \"UOP\"}, {\"uni\": \"University of Richmond\", \"type\": \"Nonuse\", \"res\": 7, \"pct\": 0.389, \"state\": \"Virginia\", \"region\": \"south\", \"uni_abbr\": \"UOR\"}, {\"uni\": \"University of Richmond\", \"type\": \"No\", \"res\": 9, \"pct\": 0.5, \"state\": \"Virginia\", \"region\": \"south\", \"uni_abbr\": \"UOR\"}, {\"uni\": \"University of Richmond\", \"type\": \"Yes\", \"res\": 2, \"pct\": 0.111, \"state\": \"Virginia\", \"region\": \"south\", \"uni_abbr\": \"UOR\"}, {\"uni\": \"University of Southern California\", \"type\": \"Nonuse\", \"res\": 2, \"pct\": 0.2, \"state\": \"California\", \"region\": \"pacific\", \"uni_abbr\": \"UOSC\"}, {\"uni\": \"University of Southern California\", \"type\": \"No\", \"res\": 7, \"pct\": 0.7, \"state\": \"California\", \"region\": \"pacific\", \"uni_abbr\": \"UOSC\"}, {\"uni\": \"University of Southern California\", \"type\": \"Yes\", \"res\": 1, \"pct\": 0.1, \"state\": \"California\", \"region\": \"pacific\", \"uni_abbr\": \"UOSC\"}, {\"uni\": \"University of Texas\", \"type\": \"Nonuse\", \"res\": 26, \"pct\": 0.356, \"state\": \"Texas\", \"region\": \"mountain\", \"uni_abbr\": \"UOT\"}, {\"uni\": \"University of Texas\", \"type\": \"No\", \"res\": 35, \"pct\": 0.479, \"state\": \"Texas\", \"region\": \"mountain\", \"uni_abbr\": \"UOT\"}, {\"uni\": \"University of Texas\", \"type\": \"Yes\", \"res\": 12, \"pct\": 0.164, \"state\": \"Texas\", \"region\": \"mountain\", \"uni_abbr\": \"UOT\"}, {\"uni\": \"University of Virginia\", \"type\": \"Nonuse\", \"res\": 8, \"pct\": 0.444, \"state\": \"Virginia\", \"region\": \"south\", \"uni_abbr\": \"UOV\"}, {\"uni\": \"University of Virginia\", \"type\": \"No\", \"res\": 7, \"pct\": 0.389, \"state\": \"Virginia\", \"region\": \"south\", \"uni_abbr\": \"UOV\"}, {\"uni\": \"University of Virginia\", \"type\": \"Yes\", \"res\": 3, \"pct\": 0.167, \"state\": \"Virginia\", \"region\": \"south\", \"uni_abbr\": \"UOV\"}, {\"uni\": \"University of Wisconsin-Madison\", \"type\": \"Nonuse\", \"res\": 21, \"pct\": 0.167, \"state\": \"Wisconsin\", \"region\": \"midwest\", \"uni_abbr\": \"UOW\"}, {\"uni\": \"University of Wisconsin-Madison\", \"type\": \"No\", \"res\": 71, \"pct\": 0.563, \"state\": \"Wisconsin\", \"region\": \"midwest\", \"uni_abbr\": \"UOW\"}, {\"uni\": \"University of Wisconsin-Madison\", \"type\": \"Yes\", \"res\": 34, \"pct\": 0.27, \"state\": \"Wisconsin\", \"region\": \"midwest\", \"uni_abbr\": \"UOW\"}, {\"uni\": \"Vanderbilt University\", \"type\": \"Nonuse\", \"res\": 12, \"pct\": 0.122, \"state\": \"Tennessee\", \"region\": \"south\", \"uni_abbr\": \"VU\"}, {\"uni\": \"Vanderbilt University\", \"type\": \"No\", \"res\": 63, \"pct\": 0.643, \"state\": \"Tennessee\", \"region\": \"south\", \"uni_abbr\": \"VU\"}, {\"uni\": \"Vanderbilt University\", \"type\": \"Yes\", \"res\": 23, \"pct\": 0.235, \"state\": \"Tennessee\", \"region\": \"south\", \"uni_abbr\": \"VU\"}, {\"uni\": \"Washington State University\", \"type\": \"Nonuse\", \"res\": 6, \"pct\": 0.231, \"state\": \"Washington\", \"region\": \"pacific\", \"uni_abbr\": \"WSU\"}, {\"uni\": \"Washington State University\", \"type\": \"No\", \"res\": 12, \"pct\": 0.462, \"state\": \"Washington\", \"region\": \"pacific\", \"uni_abbr\": \"WSU\"}, {\"uni\": \"Washington State University\", \"type\": \"Yes\", \"res\": 8, \"pct\": 0.308, \"state\": \"Washington\", \"region\": \"pacific\", \"uni_abbr\": \"WSU\"}]}}, {\"mode\": \"vega-lite\"});\n",
       "</script>"
      ],
      "text/plain": [
       "alt.Chart(...)"
      ]
     },
     "execution_count": 19,
     "metadata": {},
     "output_type": "execute_result"
    }
   ],
   "source": [
    "# Filter for each data item (datum), response type is no\n",
    "chart.mark_bar().encode(\n",
    "    alt.X(\"uni_abbr:N\", sort=\"-y\"),\n",
    "    alt.Y(\"res\"),\n",
    "    alt.Tooltip(\"uni\")\n",
    ").transform_filter(\n",
    "    (alt.datum.type==\"No\")\n",
    ").interactive()"
   ]
  },
  {
   "cell_type": "markdown",
   "id": "a511fdd6-f643-458c-b05d-90828b3c0982",
   "metadata": {},
   "source": [
    "### Stacked"
   ]
  },
  {
   "cell_type": "markdown",
   "id": "9bba821e-4cb3-4f29-abcc-98f96b5cc4b5",
   "metadata": {},
   "source": [
    "We could also get a sense of number of Yes or Nouse respondents like the chart below, but thats just three separate charts. So we could stack these and separate by color. This chart is good for comparing attribute with multiple groups/category levels."
   ]
  },
  {
   "cell_type": "markdown",
   "id": "58aa68ae-ca6b-405b-9912-5d1debc0c713",
   "metadata": {},
   "source": [
    "Remember `y` value now is total number of responses per uni, we can sub-divided by using color, by adding `type` to the extra `color` channel. "
   ]
  },
  {
   "cell_type": "code",
   "execution_count": 23,
   "id": "b813fd27-1fc3-4c35-8e2b-894c2f39e41b",
   "metadata": {},
   "outputs": [
    {
     "data": {
      "text/html": [
       "\n",
       "<div id=\"altair-viz-cdc5d1fdde4a42199f22c9873e53b378\"></div>\n",
       "<script type=\"text/javascript\">\n",
       "  var VEGA_DEBUG = (typeof VEGA_DEBUG == \"undefined\") ? {} : VEGA_DEBUG;\n",
       "  (function(spec, embedOpt){\n",
       "    let outputDiv = document.currentScript.previousElementSibling;\n",
       "    if (outputDiv.id !== \"altair-viz-cdc5d1fdde4a42199f22c9873e53b378\") {\n",
       "      outputDiv = document.getElementById(\"altair-viz-cdc5d1fdde4a42199f22c9873e53b378\");\n",
       "    }\n",
       "    const paths = {\n",
       "      \"vega\": \"https://cdn.jsdelivr.net/npm//vega@5?noext\",\n",
       "      \"vega-lib\": \"https://cdn.jsdelivr.net/npm//vega-lib?noext\",\n",
       "      \"vega-lite\": \"https://cdn.jsdelivr.net/npm//vega-lite@4.17.0?noext\",\n",
       "      \"vega-embed\": \"https://cdn.jsdelivr.net/npm//vega-embed@6?noext\",\n",
       "    };\n",
       "\n",
       "    function maybeLoadScript(lib, version) {\n",
       "      var key = `${lib.replace(\"-\", \"\")}_version`;\n",
       "      return (VEGA_DEBUG[key] == version) ?\n",
       "        Promise.resolve(paths[lib]) :\n",
       "        new Promise(function(resolve, reject) {\n",
       "          var s = document.createElement('script');\n",
       "          document.getElementsByTagName(\"head\")[0].appendChild(s);\n",
       "          s.async = true;\n",
       "          s.onload = () => {\n",
       "            VEGA_DEBUG[key] = version;\n",
       "            return resolve(paths[lib]);\n",
       "          };\n",
       "          s.onerror = () => reject(`Error loading script: ${paths[lib]}`);\n",
       "          s.src = paths[lib];\n",
       "        });\n",
       "    }\n",
       "\n",
       "    function showError(err) {\n",
       "      outputDiv.innerHTML = `<div class=\"error\" style=\"color:red;\">${err}</div>`;\n",
       "      throw err;\n",
       "    }\n",
       "\n",
       "    function displayChart(vegaEmbed) {\n",
       "      vegaEmbed(outputDiv, spec, embedOpt)\n",
       "        .catch(err => showError(`Javascript Error: ${err.message}<br>This usually means there's a typo in your chart specification. See the javascript console for the full traceback.`));\n",
       "    }\n",
       "\n",
       "    if(typeof define === \"function\" && define.amd) {\n",
       "      requirejs.config({paths});\n",
       "      require([\"vega-embed\"], displayChart, err => showError(`Error loading script: ${err.message}`));\n",
       "    } else {\n",
       "      maybeLoadScript(\"vega\", \"5\")\n",
       "        .then(() => maybeLoadScript(\"vega-lite\", \"4.17.0\"))\n",
       "        .then(() => maybeLoadScript(\"vega-embed\", \"6\"))\n",
       "        .catch(showError)\n",
       "        .then(() => displayChart(vegaEmbed));\n",
       "    }\n",
       "  })({\"config\": {\"view\": {\"continuousWidth\": 400, \"continuousHeight\": 300}}, \"data\": {\"name\": \"data-625a034231e7cf75ff53895cdf90a07a\"}, \"mark\": \"bar\", \"encoding\": {\"color\": {\"field\": \"type\", \"type\": \"nominal\"}, \"tooltip\": [{\"field\": \"uni\", \"type\": \"nominal\"}, {\"field\": \"res\", \"type\": \"quantitative\"}], \"x\": {\"field\": \"uni_abbr\", \"sort\": \"-y\", \"type\": \"nominal\"}, \"y\": {\"aggregate\": \"sum\", \"field\": \"res\", \"type\": \"quantitative\"}}, \"selection\": {\"selector007\": {\"type\": \"interval\", \"bind\": \"scales\", \"encodings\": [\"x\", \"y\"]}}, \"$schema\": \"https://vega.github.io/schema/vega-lite/v4.17.0.json\", \"datasets\": {\"data-625a034231e7cf75ff53895cdf90a07a\": [{\"uni\": \"Appalachian State University\", \"type\": \"Nonuse\", \"res\": 46, \"pct\": 0.4, \"state\": \"North Carolina\", \"region\": \"south\", \"uni_abbr\": \"ASU\"}, {\"uni\": \"Appalachian State University\", \"type\": \"No\", \"res\": 53, \"pct\": 0.461, \"state\": \"North Carolina\", \"region\": \"south\", \"uni_abbr\": \"ASU\"}, {\"uni\": \"Appalachian State University\", \"type\": \"Yes\", \"res\": 16, \"pct\": 0.139, \"state\": \"North Carolina\", \"region\": \"south\", \"uni_abbr\": \"ASU\"}, {\"uni\": \"Butler University\", \"type\": \"Nonuse\", \"res\": 17, \"pct\": 0.25, \"state\": \"Indiana\", \"region\": \"midwest\", \"uni_abbr\": \"BU\"}, {\"uni\": \"Butler University\", \"type\": \"No\", \"res\": 44, \"pct\": 0.647, \"state\": \"Indiana\", \"region\": \"midwest\", \"uni_abbr\": \"BU\"}, {\"uni\": \"Butler University\", \"type\": \"Yes\", \"res\": 7, \"pct\": 0.103, \"state\": \"Indiana\", \"region\": \"midwest\", \"uni_abbr\": \"BU\"}, {\"uni\": \"Cal Poly San Luis Obispo\", \"type\": \"Nonuse\", \"res\": 7, \"pct\": 0.28, \"state\": \"California\", \"region\": \"pacific\", \"uni_abbr\": \"CPSLO\"}, {\"uni\": \"Cal Poly San Luis Obispo\", \"type\": \"No\", \"res\": 10, \"pct\": 0.4, \"state\": \"California\", \"region\": \"pacific\", \"uni_abbr\": \"CPSLO\"}, {\"uni\": \"Cal Poly San Luis Obispo\", \"type\": \"Yes\", \"res\": 8, \"pct\": 0.32, \"state\": \"California\", \"region\": \"pacific\", \"uni_abbr\": \"CPSLO\"}, {\"uni\": \"Case Western Reserve University\", \"type\": \"Nonuse\", \"res\": 12, \"pct\": 0.387, \"state\": \"Ohio\", \"region\": \"midwest\", \"uni_abbr\": \"CWRU\"}, {\"uni\": \"Case Western Reserve University\", \"type\": \"No\", \"res\": 12, \"pct\": 0.387, \"state\": \"Ohio\", \"region\": \"midwest\", \"uni_abbr\": \"CWRU\"}, {\"uni\": \"Case Western Reserve University\", \"type\": \"Yes\", \"res\": 7, \"pct\": 0.226, \"state\": \"Ohio\", \"region\": \"midwest\", \"uni_abbr\": \"CWRU\"}, {\"uni\": \"Chapman University\", \"type\": \"Nonuse\", \"res\": 19, \"pct\": 0.302, \"state\": \"California\", \"region\": \"pacific\", \"uni_abbr\": \"Chap\"}, {\"uni\": \"Chapman University\", \"type\": \"No\", \"res\": 31, \"pct\": 0.492, \"state\": \"California\", \"region\": \"pacific\", \"uni_abbr\": \"Chap\"}, {\"uni\": \"Chapman University\", \"type\": \"Yes\", \"res\": 13, \"pct\": 0.206, \"state\": \"California\", \"region\": \"pacific\", \"uni_abbr\": \"Chap\"}, {\"uni\": \"Colby College\", \"type\": \"Nonuse\", \"res\": 2, \"pct\": 0.143, \"state\": \"Maine\", \"region\": \"northeast\", \"uni_abbr\": \"CC\"}, {\"uni\": \"Colby College\", \"type\": \"No\", \"res\": 11, \"pct\": 0.786, \"state\": \"Maine\", \"region\": \"northeast\", \"uni_abbr\": \"CC\"}, {\"uni\": \"Colby College\", \"type\": \"Yes\", \"res\": 1, \"pct\": 0.071, \"state\": \"Maine\", \"region\": \"northeast\", \"uni_abbr\": \"CC\"}, {\"uni\": \"College of William and Mary\", \"type\": \"Nonuse\", \"res\": 6, \"pct\": 0.375, \"state\": \"Virginia\", \"region\": \"south\", \"uni_abbr\": \"WAM\"}, {\"uni\": \"College of William and Mary\", \"type\": \"No\", \"res\": 7, \"pct\": 0.438, \"state\": \"Virginia\", \"region\": \"south\", \"uni_abbr\": \"WAM\"}, {\"uni\": \"College of William and Mary\", \"type\": \"Yes\", \"res\": 3, \"pct\": 0.188, \"state\": \"Virginia\", \"region\": \"south\", \"uni_abbr\": \"WAM\"}, {\"uni\": \"Cornell University\", \"type\": \"Nonuse\", \"res\": 51, \"pct\": 0.264, \"state\": \"New York\", \"region\": \"northeast\", \"uni_abbr\": \"CU\"}, {\"uni\": \"Cornell University\", \"type\": \"No\", \"res\": 95, \"pct\": 0.492, \"state\": \"New York\", \"region\": \"northeast\", \"uni_abbr\": \"CU\"}, {\"uni\": \"Cornell University\", \"type\": \"Yes\", \"res\": 47, \"pct\": 0.244, \"state\": \"New York\", \"region\": \"northeast\", \"uni_abbr\": \"CU\"}, {\"uni\": \"Dartmouth College\", \"type\": \"Nonuse\", \"res\": 2, \"pct\": 0.2, \"state\": \"New Hampshire\", \"region\": \"northeast\", \"uni_abbr\": \"DC\"}, {\"uni\": \"Dartmouth College\", \"type\": \"No\", \"res\": 3, \"pct\": 0.3, \"state\": \"New Hampshire\", \"region\": \"northeast\", \"uni_abbr\": \"DC\"}, {\"uni\": \"Dartmouth College\", \"type\": \"Yes\", \"res\": 5, \"pct\": 0.5, \"state\": \"New Hampshire\", \"region\": \"northeast\", \"uni_abbr\": \"DC\"}, {\"uni\": \"Indiana University\", \"type\": \"Nonuse\", \"res\": 5, \"pct\": 0.114, \"state\": \"Indiana\", \"region\": \"midwest\", \"uni_abbr\": \"IU\"}, {\"uni\": \"Indiana University\", \"type\": \"No\", \"res\": 30, \"pct\": 0.682, \"state\": \"Indiana\", \"region\": \"midwest\", \"uni_abbr\": \"IU\"}, {\"uni\": \"Indiana University\", \"type\": \"Yes\", \"res\": 9, \"pct\": 0.205, \"state\": \"Indiana\", \"region\": \"midwest\", \"uni_abbr\": \"IU\"}, {\"uni\": \"Johns Hopkins University\", \"type\": \"Nonuse\", \"res\": 29, \"pct\": 0.21, \"state\": \"Maryland\", \"region\": \"northeast\", \"uni_abbr\": \"JHU\"}, {\"uni\": \"Johns Hopkins University\", \"type\": \"No\", \"res\": 76, \"pct\": 0.551, \"state\": \"Maryland\", \"region\": \"northeast\", \"uni_abbr\": \"JHU\"}, {\"uni\": \"Johns Hopkins University\", \"type\": \"Yes\", \"res\": 33, \"pct\": 0.239, \"state\": \"Maryland\", \"region\": \"northeast\", \"uni_abbr\": \"JHU\"}, {\"uni\": \"Northwestern University\", \"type\": \"Nonuse\", \"res\": 24, \"pct\": 0.2, \"state\": \"Illinois\", \"region\": \"midwest\", \"uni_abbr\": \"NU\"}, {\"uni\": \"Northwestern University\", \"type\": \"No\", \"res\": 65, \"pct\": 0.542, \"state\": \"Illinois\", \"region\": \"midwest\", \"uni_abbr\": \"NU\"}, {\"uni\": \"Northwestern University\", \"type\": \"Yes\", \"res\": 31, \"pct\": 0.258, \"state\": \"Illinois\", \"region\": \"midwest\", \"uni_abbr\": \"NU\"}, {\"uni\": \"Ohio State University\", \"type\": \"Nonuse\", \"res\": 1, \"pct\": 0.053, \"state\": \"Ohio\", \"region\": \"midwest\", \"uni_abbr\": \"OSU\"}, {\"uni\": \"Ohio State University\", \"type\": \"No\", \"res\": 12, \"pct\": 0.632, \"state\": \"Ohio\", \"region\": \"midwest\", \"uni_abbr\": \"OSU\"}, {\"uni\": \"Ohio State University\", \"type\": \"Yes\", \"res\": 6, \"pct\": 0.316, \"state\": \"Ohio\", \"region\": \"midwest\", \"uni_abbr\": \"OSU\"}, {\"uni\": \"Purdue University\", \"type\": \"Nonuse\", \"res\": 8, \"pct\": 0.308, \"state\": \"Indiana\", \"region\": \"midwest\", \"uni_abbr\": \"PU\"}, {\"uni\": \"Purdue University\", \"type\": \"No\", \"res\": 13, \"pct\": 0.5, \"state\": \"Indiana\", \"region\": \"midwest\", \"uni_abbr\": \"PU\"}, {\"uni\": \"Purdue University\", \"type\": \"Yes\", \"res\": 5, \"pct\": 0.192, \"state\": \"Indiana\", \"region\": \"midwest\", \"uni_abbr\": \"PU\"}, {\"uni\": \"San Diego State University\", \"type\": \"Nonuse\", \"res\": 6, \"pct\": 0.231, \"state\": \"California\", \"region\": \"pacific\", \"uni_abbr\": \"SDSU\"}, {\"uni\": \"San Diego State University\", \"type\": \"No\", \"res\": 15, \"pct\": 0.577, \"state\": \"California\", \"region\": \"pacific\", \"uni_abbr\": \"SDSU\"}, {\"uni\": \"San Diego State University\", \"type\": \"Yes\", \"res\": 5, \"pct\": 0.192, \"state\": \"California\", \"region\": \"pacific\", \"uni_abbr\": \"SDSU\"}, {\"uni\": \"Stanford University\", \"type\": \"Nonuse\", \"res\": 37, \"pct\": 0.343, \"state\": \"California\", \"region\": \"pacific\", \"uni_abbr\": \"SU\"}, {\"uni\": \"Stanford University\", \"type\": \"No\", \"res\": 58, \"pct\": 0.537, \"state\": \"California\", \"region\": \"pacific\", \"uni_abbr\": \"SU\"}, {\"uni\": \"Stanford University\", \"type\": \"Yes\", \"res\": 13, \"pct\": 0.12, \"state\": \"California\", \"region\": \"pacific\", \"uni_abbr\": \"SU\"}, {\"uni\": \"Texas A&M University\", \"type\": \"Nonuse\", \"res\": 12, \"pct\": 0.222, \"state\": \"Texas\", \"region\": \"mountain\", \"uni_abbr\": \"TAU\"}, {\"uni\": \"Texas A&M University\", \"type\": \"No\", \"res\": 29, \"pct\": 0.537, \"state\": \"Texas\", \"region\": \"mountain\", \"uni_abbr\": \"TAU\"}, {\"uni\": \"Texas A&M University\", \"type\": \"Yes\", \"res\": 13, \"pct\": 0.241, \"state\": \"Texas\", \"region\": \"mountain\", \"uni_abbr\": \"TAU\"}, {\"uni\": \"Texas Christian University\", \"type\": \"Nonuse\", \"res\": 10, \"pct\": 0.385, \"state\": \"Texas\", \"region\": \"mountain\", \"uni_abbr\": \"TCU\"}, {\"uni\": \"Texas Christian University\", \"type\": \"No\", \"res\": 8, \"pct\": 0.308, \"state\": \"Texas\", \"region\": \"mountain\", \"uni_abbr\": \"TCU\"}, {\"uni\": \"Texas Christian University\", \"type\": \"Yes\", \"res\": 8, \"pct\": 0.308, \"state\": \"Texas\", \"region\": \"mountain\", \"uni_abbr\": \"TCU\"}, {\"uni\": \"Texas Tech University\", \"type\": \"Nonuse\", \"res\": 5, \"pct\": 0.385, \"state\": \"Texas\", \"region\": \"mountain\", \"uni_abbr\": \"TTU\"}, {\"uni\": \"Texas Tech University\", \"type\": \"No\", \"res\": 5, \"pct\": 0.385, \"state\": \"Texas\", \"region\": \"mountain\", \"uni_abbr\": \"TTU\"}, {\"uni\": \"Texas Tech University\", \"type\": \"Yes\", \"res\": 3, \"pct\": 0.231, \"state\": \"Texas\", \"region\": \"mountain\", \"uni_abbr\": \"TTU\"}, {\"uni\": \"UMass Amherst\", \"type\": \"Nonuse\", \"res\": 3, \"pct\": 0.25, \"state\": \"Massachusetts\", \"region\": \"northeast\", \"uni_abbr\": \"Amherst\"}, {\"uni\": \"UMass Amherst\", \"type\": \"No\", \"res\": 6, \"pct\": 0.5, \"state\": \"Massachusetts\", \"region\": \"northeast\", \"uni_abbr\": \"Amherst\"}, {\"uni\": \"UMass Amherst\", \"type\": \"Yes\", \"res\": 3, \"pct\": 0.25, \"state\": \"Massachusetts\", \"region\": \"northeast\", \"uni_abbr\": \"Amherst\"}, {\"uni\": \"University of Alabama\", \"type\": \"Nonuse\", \"res\": 2, \"pct\": 0.133, \"state\": \"Alabama\", \"region\": \"south\", \"uni_abbr\": \"UOAL\"}, {\"uni\": \"University of Alabama\", \"type\": \"No\", \"res\": 11, \"pct\": 0.733, \"state\": \"Alabama\", \"region\": \"south\", \"uni_abbr\": \"UOAL\"}, {\"uni\": \"University of Alabama\", \"type\": \"Yes\", \"res\": 2, \"pct\": 0.133, \"state\": \"Alabama\", \"region\": \"south\", \"uni_abbr\": \"UOAL\"}, {\"uni\": \"University of Arizona\", \"type\": \"Nonuse\", \"res\": 3, \"pct\": 0.273, \"state\": \"Arizona\", \"region\": \"pacific\", \"uni_abbr\": \"UOAR\"}, {\"uni\": \"University of Arizona\", \"type\": \"No\", \"res\": 4, \"pct\": 0.364, \"state\": \"Arizona\", \"region\": \"pacific\", \"uni_abbr\": \"UOAR\"}, {\"uni\": \"University of Arizona\", \"type\": \"Yes\", \"res\": 4, \"pct\": 0.364, \"state\": \"Arizona\", \"region\": \"pacific\", \"uni_abbr\": \"UOAR\"}, {\"uni\": \"University of Arkansas\", \"type\": \"Nonuse\", \"res\": 19, \"pct\": 0.288, \"state\": \"Arkansas\", \"region\": \"south\", \"uni_abbr\": \"UOAK\"}, {\"uni\": \"University of Arkansas\", \"type\": \"No\", \"res\": 35, \"pct\": 0.53, \"state\": \"Arkansas\", \"region\": \"south\", \"uni_abbr\": \"UOAK\"}, {\"uni\": \"University of Arkansas\", \"type\": \"Yes\", \"res\": 12, \"pct\": 0.182, \"state\": \"Arkansas\", \"region\": \"south\", \"uni_abbr\": \"UOAK\"}, {\"uni\": \"University of California, Berkeley\", \"type\": \"Nonuse\", \"res\": 19, \"pct\": 0.209, \"state\": \"California\", \"region\": \"pacific\", \"uni_abbr\": \"UOCB\"}, {\"uni\": \"University of California, Berkeley\", \"type\": \"No\", \"res\": 47, \"pct\": 0.516, \"state\": \"California\", \"region\": \"pacific\", \"uni_abbr\": \"UOCB\"}, {\"uni\": \"University of California, Berkeley\", \"type\": \"Yes\", \"res\": 25, \"pct\": 0.275, \"state\": \"California\", \"region\": \"pacific\", \"uni_abbr\": \"UOCB\"}, {\"uni\": \"University of California, Davis\", \"type\": \"Nonuse\", \"res\": 6, \"pct\": 0.353, \"state\": \"California\", \"region\": \"pacific\", \"uni_abbr\": \"UOCD\"}, {\"uni\": \"University of California, Davis\", \"type\": \"No\", \"res\": 8, \"pct\": 0.471, \"state\": \"California\", \"region\": \"pacific\", \"uni_abbr\": \"UOCD\"}, {\"uni\": \"University of California, Davis\", \"type\": \"Yes\", \"res\": 3, \"pct\": 0.176, \"state\": \"California\", \"region\": \"pacific\", \"uni_abbr\": \"UOCD\"}, {\"uni\": \"University of California, Los Angeles\", \"type\": \"Nonuse\", \"res\": 5, \"pct\": 0.385, \"state\": \"California\", \"region\": \"pacific\", \"uni_abbr\": \"UOCLA\"}, {\"uni\": \"University of California, Los Angeles\", \"type\": \"No\", \"res\": 7, \"pct\": 0.538, \"state\": \"California\", \"region\": \"pacific\", \"uni_abbr\": \"UOCLA\"}, {\"uni\": \"University of California, Los Angeles\", \"type\": \"Yes\", \"res\": 1, \"pct\": 0.077, \"state\": \"California\", \"region\": \"pacific\", \"uni_abbr\": \"UOCLA\"}, {\"uni\": \"University of California, Santa Barbara\", \"type\": \"Nonuse\", \"res\": 17, \"pct\": 0.227, \"state\": \"California\", \"region\": \"pacific\", \"uni_abbr\": \"UOCSB\"}, {\"uni\": \"University of California, Santa Barbara\", \"type\": \"No\", \"res\": 34, \"pct\": 0.453, \"state\": \"California\", \"region\": \"pacific\", \"uni_abbr\": \"UOCSB\"}, {\"uni\": \"University of California, Santa Barbara\", \"type\": \"Yes\", \"res\": 24, \"pct\": 0.32, \"state\": \"California\", \"region\": \"pacific\", \"uni_abbr\": \"UOCSB\"}, {\"uni\": \"University of Georgia\", \"type\": \"Nonuse\", \"res\": 1, \"pct\": 0.091, \"state\": \"Georgia\", \"region\": \"south\", \"uni_abbr\": \"UOG\"}, {\"uni\": \"University of Georgia\", \"type\": \"No\", \"res\": 9, \"pct\": 0.818, \"state\": \"Georgia\", \"region\": \"south\", \"uni_abbr\": \"UOG\"}, {\"uni\": \"University of Georgia\", \"type\": \"Yes\", \"res\": 1, \"pct\": 0.091, \"state\": \"Georgia\", \"region\": \"south\", \"uni_abbr\": \"UOG\"}, {\"uni\": \"University of Illinois\", \"type\": \"Nonuse\", \"res\": 8, \"pct\": 0.17, \"state\": \"Illinois\", \"region\": \"midwest\", \"uni_abbr\": \"UOI\"}, {\"uni\": \"University of Illinois\", \"type\": \"No\", \"res\": 29, \"pct\": 0.617, \"state\": \"Illinois\", \"region\": \"midwest\", \"uni_abbr\": \"UOI\"}, {\"uni\": \"University of Illinois\", \"type\": \"Yes\", \"res\": 10, \"pct\": 0.213, \"state\": \"Illinois\", \"region\": \"midwest\", \"uni_abbr\": \"UOI\"}, {\"uni\": \"University of Kansas\", \"type\": \"Nonuse\", \"res\": 2, \"pct\": 0.2, \"state\": \"Kansas\", \"region\": \"midwest\", \"uni_abbr\": \"UOK\"}, {\"uni\": \"University of Kansas\", \"type\": \"No\", \"res\": 5, \"pct\": 0.5, \"state\": \"Kansas\", \"region\": \"midwest\", \"uni_abbr\": \"UOK\"}, {\"uni\": \"University of Kansas\", \"type\": \"Yes\", \"res\": 3, \"pct\": 0.3, \"state\": \"Kansas\", \"region\": \"midwest\", \"uni_abbr\": \"UOK\"}, {\"uni\": \"University of Michigan\", \"type\": \"Nonuse\", \"res\": 23, \"pct\": 0.267, \"state\": \"Michigan\", \"region\": \"midwest\", \"uni_abbr\": \"Mich\"}, {\"uni\": \"University of Michigan\", \"type\": \"No\", \"res\": 49, \"pct\": 0.57, \"state\": \"Michigan\", \"region\": \"midwest\", \"uni_abbr\": \"Mich\"}, {\"uni\": \"University of Michigan\", \"type\": \"Yes\", \"res\": 14, \"pct\": 0.163, \"state\": \"Michigan\", \"region\": \"midwest\", \"uni_abbr\": \"Mich\"}, {\"uni\": \"University of Missouri\", \"type\": \"Nonuse\", \"res\": 8, \"pct\": 0.267, \"state\": \"Missouri\", \"region\": \"midwest\", \"uni_abbr\": \"Miss\"}, {\"uni\": \"University of Missouri\", \"type\": \"No\", \"res\": 15, \"pct\": 0.5, \"state\": \"Missouri\", \"region\": \"midwest\", \"uni_abbr\": \"Miss\"}, {\"uni\": \"University of Missouri\", \"type\": \"Yes\", \"res\": 7, \"pct\": 0.233, \"state\": \"Missouri\", \"region\": \"midwest\", \"uni_abbr\": \"Miss\"}, {\"uni\": \"University of North Carolina\", \"type\": \"Nonuse\", \"res\": 3, \"pct\": 0.25, \"state\": \"North Carolina\", \"region\": \"south\", \"uni_abbr\": \"UONC\"}, {\"uni\": \"University of North Carolina\", \"type\": \"No\", \"res\": 8, \"pct\": 0.667, \"state\": \"North Carolina\", \"region\": \"south\", \"uni_abbr\": \"UONC\"}, {\"uni\": \"University of North Carolina\", \"type\": \"Yes\", \"res\": 1, \"pct\": 0.083, \"state\": \"North Carolina\", \"region\": \"south\", \"uni_abbr\": \"UONC\"}, {\"uni\": \"University of Pennsylvania\", \"type\": \"Nonuse\", \"res\": 24, \"pct\": 0.222, \"state\": \"Pennsylvania\", \"region\": \"northeast\", \"uni_abbr\": \"UOP\"}, {\"uni\": \"University of Pennsylvania\", \"type\": \"No\", \"res\": 60, \"pct\": 0.556, \"state\": \"Pennsylvania\", \"region\": \"northeast\", \"uni_abbr\": \"UOP\"}, {\"uni\": \"University of Pennsylvania\", \"type\": \"Yes\", \"res\": 24, \"pct\": 0.222, \"state\": \"Pennsylvania\", \"region\": \"northeast\", \"uni_abbr\": \"UOP\"}, {\"uni\": \"University of Richmond\", \"type\": \"Nonuse\", \"res\": 7, \"pct\": 0.389, \"state\": \"Virginia\", \"region\": \"south\", \"uni_abbr\": \"UOR\"}, {\"uni\": \"University of Richmond\", \"type\": \"No\", \"res\": 9, \"pct\": 0.5, \"state\": \"Virginia\", \"region\": \"south\", \"uni_abbr\": \"UOR\"}, {\"uni\": \"University of Richmond\", \"type\": \"Yes\", \"res\": 2, \"pct\": 0.111, \"state\": \"Virginia\", \"region\": \"south\", \"uni_abbr\": \"UOR\"}, {\"uni\": \"University of Southern California\", \"type\": \"Nonuse\", \"res\": 2, \"pct\": 0.2, \"state\": \"California\", \"region\": \"pacific\", \"uni_abbr\": \"UOSC\"}, {\"uni\": \"University of Southern California\", \"type\": \"No\", \"res\": 7, \"pct\": 0.7, \"state\": \"California\", \"region\": \"pacific\", \"uni_abbr\": \"UOSC\"}, {\"uni\": \"University of Southern California\", \"type\": \"Yes\", \"res\": 1, \"pct\": 0.1, \"state\": \"California\", \"region\": \"pacific\", \"uni_abbr\": \"UOSC\"}, {\"uni\": \"University of Texas\", \"type\": \"Nonuse\", \"res\": 26, \"pct\": 0.356, \"state\": \"Texas\", \"region\": \"mountain\", \"uni_abbr\": \"UOT\"}, {\"uni\": \"University of Texas\", \"type\": \"No\", \"res\": 35, \"pct\": 0.479, \"state\": \"Texas\", \"region\": \"mountain\", \"uni_abbr\": \"UOT\"}, {\"uni\": \"University of Texas\", \"type\": \"Yes\", \"res\": 12, \"pct\": 0.164, \"state\": \"Texas\", \"region\": \"mountain\", \"uni_abbr\": \"UOT\"}, {\"uni\": \"University of Virginia\", \"type\": \"Nonuse\", \"res\": 8, \"pct\": 0.444, \"state\": \"Virginia\", \"region\": \"south\", \"uni_abbr\": \"UOV\"}, {\"uni\": \"University of Virginia\", \"type\": \"No\", \"res\": 7, \"pct\": 0.389, \"state\": \"Virginia\", \"region\": \"south\", \"uni_abbr\": \"UOV\"}, {\"uni\": \"University of Virginia\", \"type\": \"Yes\", \"res\": 3, \"pct\": 0.167, \"state\": \"Virginia\", \"region\": \"south\", \"uni_abbr\": \"UOV\"}, {\"uni\": \"University of Wisconsin-Madison\", \"type\": \"Nonuse\", \"res\": 21, \"pct\": 0.167, \"state\": \"Wisconsin\", \"region\": \"midwest\", \"uni_abbr\": \"UOW\"}, {\"uni\": \"University of Wisconsin-Madison\", \"type\": \"No\", \"res\": 71, \"pct\": 0.563, \"state\": \"Wisconsin\", \"region\": \"midwest\", \"uni_abbr\": \"UOW\"}, {\"uni\": \"University of Wisconsin-Madison\", \"type\": \"Yes\", \"res\": 34, \"pct\": 0.27, \"state\": \"Wisconsin\", \"region\": \"midwest\", \"uni_abbr\": \"UOW\"}, {\"uni\": \"Vanderbilt University\", \"type\": \"Nonuse\", \"res\": 12, \"pct\": 0.122, \"state\": \"Tennessee\", \"region\": \"south\", \"uni_abbr\": \"VU\"}, {\"uni\": \"Vanderbilt University\", \"type\": \"No\", \"res\": 63, \"pct\": 0.643, \"state\": \"Tennessee\", \"region\": \"south\", \"uni_abbr\": \"VU\"}, {\"uni\": \"Vanderbilt University\", \"type\": \"Yes\", \"res\": 23, \"pct\": 0.235, \"state\": \"Tennessee\", \"region\": \"south\", \"uni_abbr\": \"VU\"}, {\"uni\": \"Washington State University\", \"type\": \"Nonuse\", \"res\": 6, \"pct\": 0.231, \"state\": \"Washington\", \"region\": \"pacific\", \"uni_abbr\": \"WSU\"}, {\"uni\": \"Washington State University\", \"type\": \"No\", \"res\": 12, \"pct\": 0.462, \"state\": \"Washington\", \"region\": \"pacific\", \"uni_abbr\": \"WSU\"}, {\"uni\": \"Washington State University\", \"type\": \"Yes\", \"res\": 8, \"pct\": 0.308, \"state\": \"Washington\", \"region\": \"pacific\", \"uni_abbr\": \"WSU\"}]}}, {\"mode\": \"vega-lite\"});\n",
       "</script>"
      ],
      "text/plain": [
       "alt.Chart(...)"
      ]
     },
     "execution_count": 23,
     "metadata": {},
     "output_type": "execute_result"
    }
   ],
   "source": [
    "chart.mark_bar().encode(\n",
    "    alt.X('uni_abbr:N', sort='-y'),\n",
    "    alt.Y('sum(res)'),\n",
    "    alt.Tooltip(['uni', 'res']),\n",
    "    alt.Color('type'),\n",
    ").interactive()"
   ]
  },
  {
   "cell_type": "markdown",
   "id": "6b7521ec-f092-40b5-a91c-44afdf37e68d",
   "metadata": {},
   "source": [
    "> NOTE: In stacked charts, it implicitly does `sum`, so in this case `alt.Y(\"res\")` > gets to same result of `alt.Y(\"sum(res)\"`."
   ]
  },
  {
   "cell_type": "markdown",
   "id": "834255e3-cd1a-4dc9-8766-5d8b901b0157",
   "metadata": {},
   "source": [
    "If stack is none, all bars start with baseline of zero and placed on top of each other. Thus, some grouping might not show."
   ]
  },
  {
   "cell_type": "code",
   "execution_count": 21,
   "id": "c9992483-b72c-45bf-b673-1e83237d145f",
   "metadata": {},
   "outputs": [
    {
     "data": {
      "text/html": [
       "\n",
       "<div id=\"altair-viz-f35e9d389cb64ecea0fc746a497c14fa\"></div>\n",
       "<script type=\"text/javascript\">\n",
       "  var VEGA_DEBUG = (typeof VEGA_DEBUG == \"undefined\") ? {} : VEGA_DEBUG;\n",
       "  (function(spec, embedOpt){\n",
       "    let outputDiv = document.currentScript.previousElementSibling;\n",
       "    if (outputDiv.id !== \"altair-viz-f35e9d389cb64ecea0fc746a497c14fa\") {\n",
       "      outputDiv = document.getElementById(\"altair-viz-f35e9d389cb64ecea0fc746a497c14fa\");\n",
       "    }\n",
       "    const paths = {\n",
       "      \"vega\": \"https://cdn.jsdelivr.net/npm//vega@5?noext\",\n",
       "      \"vega-lib\": \"https://cdn.jsdelivr.net/npm//vega-lib?noext\",\n",
       "      \"vega-lite\": \"https://cdn.jsdelivr.net/npm//vega-lite@4.17.0?noext\",\n",
       "      \"vega-embed\": \"https://cdn.jsdelivr.net/npm//vega-embed@6?noext\",\n",
       "    };\n",
       "\n",
       "    function maybeLoadScript(lib, version) {\n",
       "      var key = `${lib.replace(\"-\", \"\")}_version`;\n",
       "      return (VEGA_DEBUG[key] == version) ?\n",
       "        Promise.resolve(paths[lib]) :\n",
       "        new Promise(function(resolve, reject) {\n",
       "          var s = document.createElement('script');\n",
       "          document.getElementsByTagName(\"head\")[0].appendChild(s);\n",
       "          s.async = true;\n",
       "          s.onload = () => {\n",
       "            VEGA_DEBUG[key] = version;\n",
       "            return resolve(paths[lib]);\n",
       "          };\n",
       "          s.onerror = () => reject(`Error loading script: ${paths[lib]}`);\n",
       "          s.src = paths[lib];\n",
       "        });\n",
       "    }\n",
       "\n",
       "    function showError(err) {\n",
       "      outputDiv.innerHTML = `<div class=\"error\" style=\"color:red;\">${err}</div>`;\n",
       "      throw err;\n",
       "    }\n",
       "\n",
       "    function displayChart(vegaEmbed) {\n",
       "      vegaEmbed(outputDiv, spec, embedOpt)\n",
       "        .catch(err => showError(`Javascript Error: ${err.message}<br>This usually means there's a typo in your chart specification. See the javascript console for the full traceback.`));\n",
       "    }\n",
       "\n",
       "    if(typeof define === \"function\" && define.amd) {\n",
       "      requirejs.config({paths});\n",
       "      require([\"vega-embed\"], displayChart, err => showError(`Error loading script: ${err.message}`));\n",
       "    } else {\n",
       "      maybeLoadScript(\"vega\", \"5\")\n",
       "        .then(() => maybeLoadScript(\"vega-lite\", \"4.17.0\"))\n",
       "        .then(() => maybeLoadScript(\"vega-embed\", \"6\"))\n",
       "        .catch(showError)\n",
       "        .then(() => displayChart(vegaEmbed));\n",
       "    }\n",
       "  })({\"config\": {\"view\": {\"continuousWidth\": 400, \"continuousHeight\": 300}}, \"data\": {\"name\": \"data-625a034231e7cf75ff53895cdf90a07a\"}, \"mark\": \"bar\", \"encoding\": {\"color\": {\"field\": \"type\", \"type\": \"nominal\"}, \"tooltip\": [{\"field\": \"uni\", \"type\": \"nominal\"}, {\"field\": \"res\", \"type\": \"quantitative\"}], \"x\": {\"field\": \"uni_abbr\", \"sort\": \"-y\", \"type\": \"nominal\"}, \"y\": {\"aggregate\": \"sum\", \"field\": \"res\", \"stack\": null, \"type\": \"quantitative\"}}, \"selection\": {\"selector005\": {\"type\": \"interval\", \"bind\": \"scales\", \"encodings\": [\"x\", \"y\"]}}, \"$schema\": \"https://vega.github.io/schema/vega-lite/v4.17.0.json\", \"datasets\": {\"data-625a034231e7cf75ff53895cdf90a07a\": [{\"uni\": \"Appalachian State University\", \"type\": \"Nonuse\", \"res\": 46, \"pct\": 0.4, \"state\": \"North Carolina\", \"region\": \"south\", \"uni_abbr\": \"ASU\"}, {\"uni\": \"Appalachian State University\", \"type\": \"No\", \"res\": 53, \"pct\": 0.461, \"state\": \"North Carolina\", \"region\": \"south\", \"uni_abbr\": \"ASU\"}, {\"uni\": \"Appalachian State University\", \"type\": \"Yes\", \"res\": 16, \"pct\": 0.139, \"state\": \"North Carolina\", \"region\": \"south\", \"uni_abbr\": \"ASU\"}, {\"uni\": \"Butler University\", \"type\": \"Nonuse\", \"res\": 17, \"pct\": 0.25, \"state\": \"Indiana\", \"region\": \"midwest\", \"uni_abbr\": \"BU\"}, {\"uni\": \"Butler University\", \"type\": \"No\", \"res\": 44, \"pct\": 0.647, \"state\": \"Indiana\", \"region\": \"midwest\", \"uni_abbr\": \"BU\"}, {\"uni\": \"Butler University\", \"type\": \"Yes\", \"res\": 7, \"pct\": 0.103, \"state\": \"Indiana\", \"region\": \"midwest\", \"uni_abbr\": \"BU\"}, {\"uni\": \"Cal Poly San Luis Obispo\", \"type\": \"Nonuse\", \"res\": 7, \"pct\": 0.28, \"state\": \"California\", \"region\": \"pacific\", \"uni_abbr\": \"CPSLO\"}, {\"uni\": \"Cal Poly San Luis Obispo\", \"type\": \"No\", \"res\": 10, \"pct\": 0.4, \"state\": \"California\", \"region\": \"pacific\", \"uni_abbr\": \"CPSLO\"}, {\"uni\": \"Cal Poly San Luis Obispo\", \"type\": \"Yes\", \"res\": 8, \"pct\": 0.32, \"state\": \"California\", \"region\": \"pacific\", \"uni_abbr\": \"CPSLO\"}, {\"uni\": \"Case Western Reserve University\", \"type\": \"Nonuse\", \"res\": 12, \"pct\": 0.387, \"state\": \"Ohio\", \"region\": \"midwest\", \"uni_abbr\": \"CWRU\"}, {\"uni\": \"Case Western Reserve University\", \"type\": \"No\", \"res\": 12, \"pct\": 0.387, \"state\": \"Ohio\", \"region\": \"midwest\", \"uni_abbr\": \"CWRU\"}, {\"uni\": \"Case Western Reserve University\", \"type\": \"Yes\", \"res\": 7, \"pct\": 0.226, \"state\": \"Ohio\", \"region\": \"midwest\", \"uni_abbr\": \"CWRU\"}, {\"uni\": \"Chapman University\", \"type\": \"Nonuse\", \"res\": 19, \"pct\": 0.302, \"state\": \"California\", \"region\": \"pacific\", \"uni_abbr\": \"Chap\"}, {\"uni\": \"Chapman University\", \"type\": \"No\", \"res\": 31, \"pct\": 0.492, \"state\": \"California\", \"region\": \"pacific\", \"uni_abbr\": \"Chap\"}, {\"uni\": \"Chapman University\", \"type\": \"Yes\", \"res\": 13, \"pct\": 0.206, \"state\": \"California\", \"region\": \"pacific\", \"uni_abbr\": \"Chap\"}, {\"uni\": \"Colby College\", \"type\": \"Nonuse\", \"res\": 2, \"pct\": 0.143, \"state\": \"Maine\", \"region\": \"northeast\", \"uni_abbr\": \"CC\"}, {\"uni\": \"Colby College\", \"type\": \"No\", \"res\": 11, \"pct\": 0.786, \"state\": \"Maine\", \"region\": \"northeast\", \"uni_abbr\": \"CC\"}, {\"uni\": \"Colby College\", \"type\": \"Yes\", \"res\": 1, \"pct\": 0.071, \"state\": \"Maine\", \"region\": \"northeast\", \"uni_abbr\": \"CC\"}, {\"uni\": \"College of William and Mary\", \"type\": \"Nonuse\", \"res\": 6, \"pct\": 0.375, \"state\": \"Virginia\", \"region\": \"south\", \"uni_abbr\": \"WAM\"}, {\"uni\": \"College of William and Mary\", \"type\": \"No\", \"res\": 7, \"pct\": 0.438, \"state\": \"Virginia\", \"region\": \"south\", \"uni_abbr\": \"WAM\"}, {\"uni\": \"College of William and Mary\", \"type\": \"Yes\", \"res\": 3, \"pct\": 0.188, \"state\": \"Virginia\", \"region\": \"south\", \"uni_abbr\": \"WAM\"}, {\"uni\": \"Cornell University\", \"type\": \"Nonuse\", \"res\": 51, \"pct\": 0.264, \"state\": \"New York\", \"region\": \"northeast\", \"uni_abbr\": \"CU\"}, {\"uni\": \"Cornell University\", \"type\": \"No\", \"res\": 95, \"pct\": 0.492, \"state\": \"New York\", \"region\": \"northeast\", \"uni_abbr\": \"CU\"}, {\"uni\": \"Cornell University\", \"type\": \"Yes\", \"res\": 47, \"pct\": 0.244, \"state\": \"New York\", \"region\": \"northeast\", \"uni_abbr\": \"CU\"}, {\"uni\": \"Dartmouth College\", \"type\": \"Nonuse\", \"res\": 2, \"pct\": 0.2, \"state\": \"New Hampshire\", \"region\": \"northeast\", \"uni_abbr\": \"DC\"}, {\"uni\": \"Dartmouth College\", \"type\": \"No\", \"res\": 3, \"pct\": 0.3, \"state\": \"New Hampshire\", \"region\": \"northeast\", \"uni_abbr\": \"DC\"}, {\"uni\": \"Dartmouth College\", \"type\": \"Yes\", \"res\": 5, \"pct\": 0.5, \"state\": \"New Hampshire\", \"region\": \"northeast\", \"uni_abbr\": \"DC\"}, {\"uni\": \"Indiana University\", \"type\": \"Nonuse\", \"res\": 5, \"pct\": 0.114, \"state\": \"Indiana\", \"region\": \"midwest\", \"uni_abbr\": \"IU\"}, {\"uni\": \"Indiana University\", \"type\": \"No\", \"res\": 30, \"pct\": 0.682, \"state\": \"Indiana\", \"region\": \"midwest\", \"uni_abbr\": \"IU\"}, {\"uni\": \"Indiana University\", \"type\": \"Yes\", \"res\": 9, \"pct\": 0.205, \"state\": \"Indiana\", \"region\": \"midwest\", \"uni_abbr\": \"IU\"}, {\"uni\": \"Johns Hopkins University\", \"type\": \"Nonuse\", \"res\": 29, \"pct\": 0.21, \"state\": \"Maryland\", \"region\": \"northeast\", \"uni_abbr\": \"JHU\"}, {\"uni\": \"Johns Hopkins University\", \"type\": \"No\", \"res\": 76, \"pct\": 0.551, \"state\": \"Maryland\", \"region\": \"northeast\", \"uni_abbr\": \"JHU\"}, {\"uni\": \"Johns Hopkins University\", \"type\": \"Yes\", \"res\": 33, \"pct\": 0.239, \"state\": \"Maryland\", \"region\": \"northeast\", \"uni_abbr\": \"JHU\"}, {\"uni\": \"Northwestern University\", \"type\": \"Nonuse\", \"res\": 24, \"pct\": 0.2, \"state\": \"Illinois\", \"region\": \"midwest\", \"uni_abbr\": \"NU\"}, {\"uni\": \"Northwestern University\", \"type\": \"No\", \"res\": 65, \"pct\": 0.542, \"state\": \"Illinois\", \"region\": \"midwest\", \"uni_abbr\": \"NU\"}, {\"uni\": \"Northwestern University\", \"type\": \"Yes\", \"res\": 31, \"pct\": 0.258, \"state\": \"Illinois\", \"region\": \"midwest\", \"uni_abbr\": \"NU\"}, {\"uni\": \"Ohio State University\", \"type\": \"Nonuse\", \"res\": 1, \"pct\": 0.053, \"state\": \"Ohio\", \"region\": \"midwest\", \"uni_abbr\": \"OSU\"}, {\"uni\": \"Ohio State University\", \"type\": \"No\", \"res\": 12, \"pct\": 0.632, \"state\": \"Ohio\", \"region\": \"midwest\", \"uni_abbr\": \"OSU\"}, {\"uni\": \"Ohio State University\", \"type\": \"Yes\", \"res\": 6, \"pct\": 0.316, \"state\": \"Ohio\", \"region\": \"midwest\", \"uni_abbr\": \"OSU\"}, {\"uni\": \"Purdue University\", \"type\": \"Nonuse\", \"res\": 8, \"pct\": 0.308, \"state\": \"Indiana\", \"region\": \"midwest\", \"uni_abbr\": \"PU\"}, {\"uni\": \"Purdue University\", \"type\": \"No\", \"res\": 13, \"pct\": 0.5, \"state\": \"Indiana\", \"region\": \"midwest\", \"uni_abbr\": \"PU\"}, {\"uni\": \"Purdue University\", \"type\": \"Yes\", \"res\": 5, \"pct\": 0.192, \"state\": \"Indiana\", \"region\": \"midwest\", \"uni_abbr\": \"PU\"}, {\"uni\": \"San Diego State University\", \"type\": \"Nonuse\", \"res\": 6, \"pct\": 0.231, \"state\": \"California\", \"region\": \"pacific\", \"uni_abbr\": \"SDSU\"}, {\"uni\": \"San Diego State University\", \"type\": \"No\", \"res\": 15, \"pct\": 0.577, \"state\": \"California\", \"region\": \"pacific\", \"uni_abbr\": \"SDSU\"}, {\"uni\": \"San Diego State University\", \"type\": \"Yes\", \"res\": 5, \"pct\": 0.192, \"state\": \"California\", \"region\": \"pacific\", \"uni_abbr\": \"SDSU\"}, {\"uni\": \"Stanford University\", \"type\": \"Nonuse\", \"res\": 37, \"pct\": 0.343, \"state\": \"California\", \"region\": \"pacific\", \"uni_abbr\": \"SU\"}, {\"uni\": \"Stanford University\", \"type\": \"No\", \"res\": 58, \"pct\": 0.537, \"state\": \"California\", \"region\": \"pacific\", \"uni_abbr\": \"SU\"}, {\"uni\": \"Stanford University\", \"type\": \"Yes\", \"res\": 13, \"pct\": 0.12, \"state\": \"California\", \"region\": \"pacific\", \"uni_abbr\": \"SU\"}, {\"uni\": \"Texas A&M University\", \"type\": \"Nonuse\", \"res\": 12, \"pct\": 0.222, \"state\": \"Texas\", \"region\": \"mountain\", \"uni_abbr\": \"TAU\"}, {\"uni\": \"Texas A&M University\", \"type\": \"No\", \"res\": 29, \"pct\": 0.537, \"state\": \"Texas\", \"region\": \"mountain\", \"uni_abbr\": \"TAU\"}, {\"uni\": \"Texas A&M University\", \"type\": \"Yes\", \"res\": 13, \"pct\": 0.241, \"state\": \"Texas\", \"region\": \"mountain\", \"uni_abbr\": \"TAU\"}, {\"uni\": \"Texas Christian University\", \"type\": \"Nonuse\", \"res\": 10, \"pct\": 0.385, \"state\": \"Texas\", \"region\": \"mountain\", \"uni_abbr\": \"TCU\"}, {\"uni\": \"Texas Christian University\", \"type\": \"No\", \"res\": 8, \"pct\": 0.308, \"state\": \"Texas\", \"region\": \"mountain\", \"uni_abbr\": \"TCU\"}, {\"uni\": \"Texas Christian University\", \"type\": \"Yes\", \"res\": 8, \"pct\": 0.308, \"state\": \"Texas\", \"region\": \"mountain\", \"uni_abbr\": \"TCU\"}, {\"uni\": \"Texas Tech University\", \"type\": \"Nonuse\", \"res\": 5, \"pct\": 0.385, \"state\": \"Texas\", \"region\": \"mountain\", \"uni_abbr\": \"TTU\"}, {\"uni\": \"Texas Tech University\", \"type\": \"No\", \"res\": 5, \"pct\": 0.385, \"state\": \"Texas\", \"region\": \"mountain\", \"uni_abbr\": \"TTU\"}, {\"uni\": \"Texas Tech University\", \"type\": \"Yes\", \"res\": 3, \"pct\": 0.231, \"state\": \"Texas\", \"region\": \"mountain\", \"uni_abbr\": \"TTU\"}, {\"uni\": \"UMass Amherst\", \"type\": \"Nonuse\", \"res\": 3, \"pct\": 0.25, \"state\": \"Massachusetts\", \"region\": \"northeast\", \"uni_abbr\": \"Amherst\"}, {\"uni\": \"UMass Amherst\", \"type\": \"No\", \"res\": 6, \"pct\": 0.5, \"state\": \"Massachusetts\", \"region\": \"northeast\", \"uni_abbr\": \"Amherst\"}, {\"uni\": \"UMass Amherst\", \"type\": \"Yes\", \"res\": 3, \"pct\": 0.25, \"state\": \"Massachusetts\", \"region\": \"northeast\", \"uni_abbr\": \"Amherst\"}, {\"uni\": \"University of Alabama\", \"type\": \"Nonuse\", \"res\": 2, \"pct\": 0.133, \"state\": \"Alabama\", \"region\": \"south\", \"uni_abbr\": \"UOAL\"}, {\"uni\": \"University of Alabama\", \"type\": \"No\", \"res\": 11, \"pct\": 0.733, \"state\": \"Alabama\", \"region\": \"south\", \"uni_abbr\": \"UOAL\"}, {\"uni\": \"University of Alabama\", \"type\": \"Yes\", \"res\": 2, \"pct\": 0.133, \"state\": \"Alabama\", \"region\": \"south\", \"uni_abbr\": \"UOAL\"}, {\"uni\": \"University of Arizona\", \"type\": \"Nonuse\", \"res\": 3, \"pct\": 0.273, \"state\": \"Arizona\", \"region\": \"pacific\", \"uni_abbr\": \"UOAR\"}, {\"uni\": \"University of Arizona\", \"type\": \"No\", \"res\": 4, \"pct\": 0.364, \"state\": \"Arizona\", \"region\": \"pacific\", \"uni_abbr\": \"UOAR\"}, {\"uni\": \"University of Arizona\", \"type\": \"Yes\", \"res\": 4, \"pct\": 0.364, \"state\": \"Arizona\", \"region\": \"pacific\", \"uni_abbr\": \"UOAR\"}, {\"uni\": \"University of Arkansas\", \"type\": \"Nonuse\", \"res\": 19, \"pct\": 0.288, \"state\": \"Arkansas\", \"region\": \"south\", \"uni_abbr\": \"UOAK\"}, {\"uni\": \"University of Arkansas\", \"type\": \"No\", \"res\": 35, \"pct\": 0.53, \"state\": \"Arkansas\", \"region\": \"south\", \"uni_abbr\": \"UOAK\"}, {\"uni\": \"University of Arkansas\", \"type\": \"Yes\", \"res\": 12, \"pct\": 0.182, \"state\": \"Arkansas\", \"region\": \"south\", \"uni_abbr\": \"UOAK\"}, {\"uni\": \"University of California, Berkeley\", \"type\": \"Nonuse\", \"res\": 19, \"pct\": 0.209, \"state\": \"California\", \"region\": \"pacific\", \"uni_abbr\": \"UOCB\"}, {\"uni\": \"University of California, Berkeley\", \"type\": \"No\", \"res\": 47, \"pct\": 0.516, \"state\": \"California\", \"region\": \"pacific\", \"uni_abbr\": \"UOCB\"}, {\"uni\": \"University of California, Berkeley\", \"type\": \"Yes\", \"res\": 25, \"pct\": 0.275, \"state\": \"California\", \"region\": \"pacific\", \"uni_abbr\": \"UOCB\"}, {\"uni\": \"University of California, Davis\", \"type\": \"Nonuse\", \"res\": 6, \"pct\": 0.353, \"state\": \"California\", \"region\": \"pacific\", \"uni_abbr\": \"UOCD\"}, {\"uni\": \"University of California, Davis\", \"type\": \"No\", \"res\": 8, \"pct\": 0.471, \"state\": \"California\", \"region\": \"pacific\", \"uni_abbr\": \"UOCD\"}, {\"uni\": \"University of California, Davis\", \"type\": \"Yes\", \"res\": 3, \"pct\": 0.176, \"state\": \"California\", \"region\": \"pacific\", \"uni_abbr\": \"UOCD\"}, {\"uni\": \"University of California, Los Angeles\", \"type\": \"Nonuse\", \"res\": 5, \"pct\": 0.385, \"state\": \"California\", \"region\": \"pacific\", \"uni_abbr\": \"UOCLA\"}, {\"uni\": \"University of California, Los Angeles\", \"type\": \"No\", \"res\": 7, \"pct\": 0.538, \"state\": \"California\", \"region\": \"pacific\", \"uni_abbr\": \"UOCLA\"}, {\"uni\": \"University of California, Los Angeles\", \"type\": \"Yes\", \"res\": 1, \"pct\": 0.077, \"state\": \"California\", \"region\": \"pacific\", \"uni_abbr\": \"UOCLA\"}, {\"uni\": \"University of California, Santa Barbara\", \"type\": \"Nonuse\", \"res\": 17, \"pct\": 0.227, \"state\": \"California\", \"region\": \"pacific\", \"uni_abbr\": \"UOCSB\"}, {\"uni\": \"University of California, Santa Barbara\", \"type\": \"No\", \"res\": 34, \"pct\": 0.453, \"state\": \"California\", \"region\": \"pacific\", \"uni_abbr\": \"UOCSB\"}, {\"uni\": \"University of California, Santa Barbara\", \"type\": \"Yes\", \"res\": 24, \"pct\": 0.32, \"state\": \"California\", \"region\": \"pacific\", \"uni_abbr\": \"UOCSB\"}, {\"uni\": \"University of Georgia\", \"type\": \"Nonuse\", \"res\": 1, \"pct\": 0.091, \"state\": \"Georgia\", \"region\": \"south\", \"uni_abbr\": \"UOG\"}, {\"uni\": \"University of Georgia\", \"type\": \"No\", \"res\": 9, \"pct\": 0.818, \"state\": \"Georgia\", \"region\": \"south\", \"uni_abbr\": \"UOG\"}, {\"uni\": \"University of Georgia\", \"type\": \"Yes\", \"res\": 1, \"pct\": 0.091, \"state\": \"Georgia\", \"region\": \"south\", \"uni_abbr\": \"UOG\"}, {\"uni\": \"University of Illinois\", \"type\": \"Nonuse\", \"res\": 8, \"pct\": 0.17, \"state\": \"Illinois\", \"region\": \"midwest\", \"uni_abbr\": \"UOI\"}, {\"uni\": \"University of Illinois\", \"type\": \"No\", \"res\": 29, \"pct\": 0.617, \"state\": \"Illinois\", \"region\": \"midwest\", \"uni_abbr\": \"UOI\"}, {\"uni\": \"University of Illinois\", \"type\": \"Yes\", \"res\": 10, \"pct\": 0.213, \"state\": \"Illinois\", \"region\": \"midwest\", \"uni_abbr\": \"UOI\"}, {\"uni\": \"University of Kansas\", \"type\": \"Nonuse\", \"res\": 2, \"pct\": 0.2, \"state\": \"Kansas\", \"region\": \"midwest\", \"uni_abbr\": \"UOK\"}, {\"uni\": \"University of Kansas\", \"type\": \"No\", \"res\": 5, \"pct\": 0.5, \"state\": \"Kansas\", \"region\": \"midwest\", \"uni_abbr\": \"UOK\"}, {\"uni\": \"University of Kansas\", \"type\": \"Yes\", \"res\": 3, \"pct\": 0.3, \"state\": \"Kansas\", \"region\": \"midwest\", \"uni_abbr\": \"UOK\"}, {\"uni\": \"University of Michigan\", \"type\": \"Nonuse\", \"res\": 23, \"pct\": 0.267, \"state\": \"Michigan\", \"region\": \"midwest\", \"uni_abbr\": \"Mich\"}, {\"uni\": \"University of Michigan\", \"type\": \"No\", \"res\": 49, \"pct\": 0.57, \"state\": \"Michigan\", \"region\": \"midwest\", \"uni_abbr\": \"Mich\"}, {\"uni\": \"University of Michigan\", \"type\": \"Yes\", \"res\": 14, \"pct\": 0.163, \"state\": \"Michigan\", \"region\": \"midwest\", \"uni_abbr\": \"Mich\"}, {\"uni\": \"University of Missouri\", \"type\": \"Nonuse\", \"res\": 8, \"pct\": 0.267, \"state\": \"Missouri\", \"region\": \"midwest\", \"uni_abbr\": \"Miss\"}, {\"uni\": \"University of Missouri\", \"type\": \"No\", \"res\": 15, \"pct\": 0.5, \"state\": \"Missouri\", \"region\": \"midwest\", \"uni_abbr\": \"Miss\"}, {\"uni\": \"University of Missouri\", \"type\": \"Yes\", \"res\": 7, \"pct\": 0.233, \"state\": \"Missouri\", \"region\": \"midwest\", \"uni_abbr\": \"Miss\"}, {\"uni\": \"University of North Carolina\", \"type\": \"Nonuse\", \"res\": 3, \"pct\": 0.25, \"state\": \"North Carolina\", \"region\": \"south\", \"uni_abbr\": \"UONC\"}, {\"uni\": \"University of North Carolina\", \"type\": \"No\", \"res\": 8, \"pct\": 0.667, \"state\": \"North Carolina\", \"region\": \"south\", \"uni_abbr\": \"UONC\"}, {\"uni\": \"University of North Carolina\", \"type\": \"Yes\", \"res\": 1, \"pct\": 0.083, \"state\": \"North Carolina\", \"region\": \"south\", \"uni_abbr\": \"UONC\"}, {\"uni\": \"University of Pennsylvania\", \"type\": \"Nonuse\", \"res\": 24, \"pct\": 0.222, \"state\": \"Pennsylvania\", \"region\": \"northeast\", \"uni_abbr\": \"UOP\"}, {\"uni\": \"University of Pennsylvania\", \"type\": \"No\", \"res\": 60, \"pct\": 0.556, \"state\": \"Pennsylvania\", \"region\": \"northeast\", \"uni_abbr\": \"UOP\"}, {\"uni\": \"University of Pennsylvania\", \"type\": \"Yes\", \"res\": 24, \"pct\": 0.222, \"state\": \"Pennsylvania\", \"region\": \"northeast\", \"uni_abbr\": \"UOP\"}, {\"uni\": \"University of Richmond\", \"type\": \"Nonuse\", \"res\": 7, \"pct\": 0.389, \"state\": \"Virginia\", \"region\": \"south\", \"uni_abbr\": \"UOR\"}, {\"uni\": \"University of Richmond\", \"type\": \"No\", \"res\": 9, \"pct\": 0.5, \"state\": \"Virginia\", \"region\": \"south\", \"uni_abbr\": \"UOR\"}, {\"uni\": \"University of Richmond\", \"type\": \"Yes\", \"res\": 2, \"pct\": 0.111, \"state\": \"Virginia\", \"region\": \"south\", \"uni_abbr\": \"UOR\"}, {\"uni\": \"University of Southern California\", \"type\": \"Nonuse\", \"res\": 2, \"pct\": 0.2, \"state\": \"California\", \"region\": \"pacific\", \"uni_abbr\": \"UOSC\"}, {\"uni\": \"University of Southern California\", \"type\": \"No\", \"res\": 7, \"pct\": 0.7, \"state\": \"California\", \"region\": \"pacific\", \"uni_abbr\": \"UOSC\"}, {\"uni\": \"University of Southern California\", \"type\": \"Yes\", \"res\": 1, \"pct\": 0.1, \"state\": \"California\", \"region\": \"pacific\", \"uni_abbr\": \"UOSC\"}, {\"uni\": \"University of Texas\", \"type\": \"Nonuse\", \"res\": 26, \"pct\": 0.356, \"state\": \"Texas\", \"region\": \"mountain\", \"uni_abbr\": \"UOT\"}, {\"uni\": \"University of Texas\", \"type\": \"No\", \"res\": 35, \"pct\": 0.479, \"state\": \"Texas\", \"region\": \"mountain\", \"uni_abbr\": \"UOT\"}, {\"uni\": \"University of Texas\", \"type\": \"Yes\", \"res\": 12, \"pct\": 0.164, \"state\": \"Texas\", \"region\": \"mountain\", \"uni_abbr\": \"UOT\"}, {\"uni\": \"University of Virginia\", \"type\": \"Nonuse\", \"res\": 8, \"pct\": 0.444, \"state\": \"Virginia\", \"region\": \"south\", \"uni_abbr\": \"UOV\"}, {\"uni\": \"University of Virginia\", \"type\": \"No\", \"res\": 7, \"pct\": 0.389, \"state\": \"Virginia\", \"region\": \"south\", \"uni_abbr\": \"UOV\"}, {\"uni\": \"University of Virginia\", \"type\": \"Yes\", \"res\": 3, \"pct\": 0.167, \"state\": \"Virginia\", \"region\": \"south\", \"uni_abbr\": \"UOV\"}, {\"uni\": \"University of Wisconsin-Madison\", \"type\": \"Nonuse\", \"res\": 21, \"pct\": 0.167, \"state\": \"Wisconsin\", \"region\": \"midwest\", \"uni_abbr\": \"UOW\"}, {\"uni\": \"University of Wisconsin-Madison\", \"type\": \"No\", \"res\": 71, \"pct\": 0.563, \"state\": \"Wisconsin\", \"region\": \"midwest\", \"uni_abbr\": \"UOW\"}, {\"uni\": \"University of Wisconsin-Madison\", \"type\": \"Yes\", \"res\": 34, \"pct\": 0.27, \"state\": \"Wisconsin\", \"region\": \"midwest\", \"uni_abbr\": \"UOW\"}, {\"uni\": \"Vanderbilt University\", \"type\": \"Nonuse\", \"res\": 12, \"pct\": 0.122, \"state\": \"Tennessee\", \"region\": \"south\", \"uni_abbr\": \"VU\"}, {\"uni\": \"Vanderbilt University\", \"type\": \"No\", \"res\": 63, \"pct\": 0.643, \"state\": \"Tennessee\", \"region\": \"south\", \"uni_abbr\": \"VU\"}, {\"uni\": \"Vanderbilt University\", \"type\": \"Yes\", \"res\": 23, \"pct\": 0.235, \"state\": \"Tennessee\", \"region\": \"south\", \"uni_abbr\": \"VU\"}, {\"uni\": \"Washington State University\", \"type\": \"Nonuse\", \"res\": 6, \"pct\": 0.231, \"state\": \"Washington\", \"region\": \"pacific\", \"uni_abbr\": \"WSU\"}, {\"uni\": \"Washington State University\", \"type\": \"No\", \"res\": 12, \"pct\": 0.462, \"state\": \"Washington\", \"region\": \"pacific\", \"uni_abbr\": \"WSU\"}, {\"uni\": \"Washington State University\", \"type\": \"Yes\", \"res\": 8, \"pct\": 0.308, \"state\": \"Washington\", \"region\": \"pacific\", \"uni_abbr\": \"WSU\"}]}}, {\"mode\": \"vega-lite\"});\n",
       "</script>"
      ],
      "text/plain": [
       "alt.Chart(...)"
      ]
     },
     "execution_count": 21,
     "metadata": {},
     "output_type": "execute_result"
    }
   ],
   "source": [
    "# Stack without default\n",
    "chart.mark_bar().encode(\n",
    "    alt.X('uni_abbr:N', sort='-y'),\n",
    "    alt.Y('sum(res)', stack=None),\n",
    "    alt.Color('type'),\n",
    "    alt.Tooltip(['uni', 'res']),\n",
    ").interactive()"
   ]
  },
  {
   "cell_type": "markdown",
   "id": "66492c41-c2b5-49e6-a16f-992112ac9e9c",
   "metadata": {},
   "source": [
    "### Color Palette"
   ]
  },
  {
   "cell_type": "markdown",
   "id": "8afba3c2-ab7d-40db-b37f-4e20cda53a21",
   "metadata": {},
   "source": [
    "As all other visualizations, altair can also change color shown to users, by doing this we could specify color sclae with `domain` and `range` property of the `Color channel`:\n",
    "\n",
    "- `Domain`: This should be the levels of your categorical variable/attribute\n",
    "- `Range`: This should be the intended output values, and so we need a `qualitative` color scheme"
   ]
  },
  {
   "cell_type": "code",
   "execution_count": 27,
   "id": "b9e1e19b-e164-4802-a11b-f30518d3f50f",
   "metadata": {},
   "outputs": [
    {
     "data": {
      "text/html": [
       "\n",
       "<div id=\"altair-viz-c4448cbeaaf04ce8bb0a0524bdf1e6fb\"></div>\n",
       "<script type=\"text/javascript\">\n",
       "  var VEGA_DEBUG = (typeof VEGA_DEBUG == \"undefined\") ? {} : VEGA_DEBUG;\n",
       "  (function(spec, embedOpt){\n",
       "    let outputDiv = document.currentScript.previousElementSibling;\n",
       "    if (outputDiv.id !== \"altair-viz-c4448cbeaaf04ce8bb0a0524bdf1e6fb\") {\n",
       "      outputDiv = document.getElementById(\"altair-viz-c4448cbeaaf04ce8bb0a0524bdf1e6fb\");\n",
       "    }\n",
       "    const paths = {\n",
       "      \"vega\": \"https://cdn.jsdelivr.net/npm//vega@5?noext\",\n",
       "      \"vega-lib\": \"https://cdn.jsdelivr.net/npm//vega-lib?noext\",\n",
       "      \"vega-lite\": \"https://cdn.jsdelivr.net/npm//vega-lite@4.17.0?noext\",\n",
       "      \"vega-embed\": \"https://cdn.jsdelivr.net/npm//vega-embed@6?noext\",\n",
       "    };\n",
       "\n",
       "    function maybeLoadScript(lib, version) {\n",
       "      var key = `${lib.replace(\"-\", \"\")}_version`;\n",
       "      return (VEGA_DEBUG[key] == version) ?\n",
       "        Promise.resolve(paths[lib]) :\n",
       "        new Promise(function(resolve, reject) {\n",
       "          var s = document.createElement('script');\n",
       "          document.getElementsByTagName(\"head\")[0].appendChild(s);\n",
       "          s.async = true;\n",
       "          s.onload = () => {\n",
       "            VEGA_DEBUG[key] = version;\n",
       "            return resolve(paths[lib]);\n",
       "          };\n",
       "          s.onerror = () => reject(`Error loading script: ${paths[lib]}`);\n",
       "          s.src = paths[lib];\n",
       "        });\n",
       "    }\n",
       "\n",
       "    function showError(err) {\n",
       "      outputDiv.innerHTML = `<div class=\"error\" style=\"color:red;\">${err}</div>`;\n",
       "      throw err;\n",
       "    }\n",
       "\n",
       "    function displayChart(vegaEmbed) {\n",
       "      vegaEmbed(outputDiv, spec, embedOpt)\n",
       "        .catch(err => showError(`Javascript Error: ${err.message}<br>This usually means there's a typo in your chart specification. See the javascript console for the full traceback.`));\n",
       "    }\n",
       "\n",
       "    if(typeof define === \"function\" && define.amd) {\n",
       "      requirejs.config({paths});\n",
       "      require([\"vega-embed\"], displayChart, err => showError(`Error loading script: ${err.message}`));\n",
       "    } else {\n",
       "      maybeLoadScript(\"vega\", \"5\")\n",
       "        .then(() => maybeLoadScript(\"vega-lite\", \"4.17.0\"))\n",
       "        .then(() => maybeLoadScript(\"vega-embed\", \"6\"))\n",
       "        .catch(showError)\n",
       "        .then(() => displayChart(vegaEmbed));\n",
       "    }\n",
       "  })({\"config\": {\"view\": {\"continuousWidth\": 400, \"continuousHeight\": 300}}, \"data\": {\"name\": \"data-625a034231e7cf75ff53895cdf90a07a\"}, \"mark\": \"bar\", \"encoding\": {\"color\": {\"field\": \"type\", \"scale\": {\"domain\": [\"No\", \"Nonuse\", \"Yes\"], \"range\": [\"#66c2a5\", \"#fc8d62\", \"#8da0cb\"]}, \"type\": \"nominal\"}, \"tooltip\": [{\"field\": \"uni\", \"type\": \"nominal\"}, {\"field\": \"res\", \"type\": \"quantitative\"}], \"x\": {\"field\": \"uni_abbr\", \"sort\": \"-y\", \"type\": \"nominal\"}, \"y\": {\"aggregate\": \"sum\", \"field\": \"res\", \"type\": \"quantitative\"}}, \"selection\": {\"selector010\": {\"type\": \"interval\", \"bind\": \"scales\", \"encodings\": [\"x\", \"y\"]}}, \"$schema\": \"https://vega.github.io/schema/vega-lite/v4.17.0.json\", \"datasets\": {\"data-625a034231e7cf75ff53895cdf90a07a\": [{\"uni\": \"Appalachian State University\", \"type\": \"Nonuse\", \"res\": 46, \"pct\": 0.4, \"state\": \"North Carolina\", \"region\": \"south\", \"uni_abbr\": \"ASU\"}, {\"uni\": \"Appalachian State University\", \"type\": \"No\", \"res\": 53, \"pct\": 0.461, \"state\": \"North Carolina\", \"region\": \"south\", \"uni_abbr\": \"ASU\"}, {\"uni\": \"Appalachian State University\", \"type\": \"Yes\", \"res\": 16, \"pct\": 0.139, \"state\": \"North Carolina\", \"region\": \"south\", \"uni_abbr\": \"ASU\"}, {\"uni\": \"Butler University\", \"type\": \"Nonuse\", \"res\": 17, \"pct\": 0.25, \"state\": \"Indiana\", \"region\": \"midwest\", \"uni_abbr\": \"BU\"}, {\"uni\": \"Butler University\", \"type\": \"No\", \"res\": 44, \"pct\": 0.647, \"state\": \"Indiana\", \"region\": \"midwest\", \"uni_abbr\": \"BU\"}, {\"uni\": \"Butler University\", \"type\": \"Yes\", \"res\": 7, \"pct\": 0.103, \"state\": \"Indiana\", \"region\": \"midwest\", \"uni_abbr\": \"BU\"}, {\"uni\": \"Cal Poly San Luis Obispo\", \"type\": \"Nonuse\", \"res\": 7, \"pct\": 0.28, \"state\": \"California\", \"region\": \"pacific\", \"uni_abbr\": \"CPSLO\"}, {\"uni\": \"Cal Poly San Luis Obispo\", \"type\": \"No\", \"res\": 10, \"pct\": 0.4, \"state\": \"California\", \"region\": \"pacific\", \"uni_abbr\": \"CPSLO\"}, {\"uni\": \"Cal Poly San Luis Obispo\", \"type\": \"Yes\", \"res\": 8, \"pct\": 0.32, \"state\": \"California\", \"region\": \"pacific\", \"uni_abbr\": \"CPSLO\"}, {\"uni\": \"Case Western Reserve University\", \"type\": \"Nonuse\", \"res\": 12, \"pct\": 0.387, \"state\": \"Ohio\", \"region\": \"midwest\", \"uni_abbr\": \"CWRU\"}, {\"uni\": \"Case Western Reserve University\", \"type\": \"No\", \"res\": 12, \"pct\": 0.387, \"state\": \"Ohio\", \"region\": \"midwest\", \"uni_abbr\": \"CWRU\"}, {\"uni\": \"Case Western Reserve University\", \"type\": \"Yes\", \"res\": 7, \"pct\": 0.226, \"state\": \"Ohio\", \"region\": \"midwest\", \"uni_abbr\": \"CWRU\"}, {\"uni\": \"Chapman University\", \"type\": \"Nonuse\", \"res\": 19, \"pct\": 0.302, \"state\": \"California\", \"region\": \"pacific\", \"uni_abbr\": \"Chap\"}, {\"uni\": \"Chapman University\", \"type\": \"No\", \"res\": 31, \"pct\": 0.492, \"state\": \"California\", \"region\": \"pacific\", \"uni_abbr\": \"Chap\"}, {\"uni\": \"Chapman University\", \"type\": \"Yes\", \"res\": 13, \"pct\": 0.206, \"state\": \"California\", \"region\": \"pacific\", \"uni_abbr\": \"Chap\"}, {\"uni\": \"Colby College\", \"type\": \"Nonuse\", \"res\": 2, \"pct\": 0.143, \"state\": \"Maine\", \"region\": \"northeast\", \"uni_abbr\": \"CC\"}, {\"uni\": \"Colby College\", \"type\": \"No\", \"res\": 11, \"pct\": 0.786, \"state\": \"Maine\", \"region\": \"northeast\", \"uni_abbr\": \"CC\"}, {\"uni\": \"Colby College\", \"type\": \"Yes\", \"res\": 1, \"pct\": 0.071, \"state\": \"Maine\", \"region\": \"northeast\", \"uni_abbr\": \"CC\"}, {\"uni\": \"College of William and Mary\", \"type\": \"Nonuse\", \"res\": 6, \"pct\": 0.375, \"state\": \"Virginia\", \"region\": \"south\", \"uni_abbr\": \"WAM\"}, {\"uni\": \"College of William and Mary\", \"type\": \"No\", \"res\": 7, \"pct\": 0.438, \"state\": \"Virginia\", \"region\": \"south\", \"uni_abbr\": \"WAM\"}, {\"uni\": \"College of William and Mary\", \"type\": \"Yes\", \"res\": 3, \"pct\": 0.188, \"state\": \"Virginia\", \"region\": \"south\", \"uni_abbr\": \"WAM\"}, {\"uni\": \"Cornell University\", \"type\": \"Nonuse\", \"res\": 51, \"pct\": 0.264, \"state\": \"New York\", \"region\": \"northeast\", \"uni_abbr\": \"CU\"}, {\"uni\": \"Cornell University\", \"type\": \"No\", \"res\": 95, \"pct\": 0.492, \"state\": \"New York\", \"region\": \"northeast\", \"uni_abbr\": \"CU\"}, {\"uni\": \"Cornell University\", \"type\": \"Yes\", \"res\": 47, \"pct\": 0.244, \"state\": \"New York\", \"region\": \"northeast\", \"uni_abbr\": \"CU\"}, {\"uni\": \"Dartmouth College\", \"type\": \"Nonuse\", \"res\": 2, \"pct\": 0.2, \"state\": \"New Hampshire\", \"region\": \"northeast\", \"uni_abbr\": \"DC\"}, {\"uni\": \"Dartmouth College\", \"type\": \"No\", \"res\": 3, \"pct\": 0.3, \"state\": \"New Hampshire\", \"region\": \"northeast\", \"uni_abbr\": \"DC\"}, {\"uni\": \"Dartmouth College\", \"type\": \"Yes\", \"res\": 5, \"pct\": 0.5, \"state\": \"New Hampshire\", \"region\": \"northeast\", \"uni_abbr\": \"DC\"}, {\"uni\": \"Indiana University\", \"type\": \"Nonuse\", \"res\": 5, \"pct\": 0.114, \"state\": \"Indiana\", \"region\": \"midwest\", \"uni_abbr\": \"IU\"}, {\"uni\": \"Indiana University\", \"type\": \"No\", \"res\": 30, \"pct\": 0.682, \"state\": \"Indiana\", \"region\": \"midwest\", \"uni_abbr\": \"IU\"}, {\"uni\": \"Indiana University\", \"type\": \"Yes\", \"res\": 9, \"pct\": 0.205, \"state\": \"Indiana\", \"region\": \"midwest\", \"uni_abbr\": \"IU\"}, {\"uni\": \"Johns Hopkins University\", \"type\": \"Nonuse\", \"res\": 29, \"pct\": 0.21, \"state\": \"Maryland\", \"region\": \"northeast\", \"uni_abbr\": \"JHU\"}, {\"uni\": \"Johns Hopkins University\", \"type\": \"No\", \"res\": 76, \"pct\": 0.551, \"state\": \"Maryland\", \"region\": \"northeast\", \"uni_abbr\": \"JHU\"}, {\"uni\": \"Johns Hopkins University\", \"type\": \"Yes\", \"res\": 33, \"pct\": 0.239, \"state\": \"Maryland\", \"region\": \"northeast\", \"uni_abbr\": \"JHU\"}, {\"uni\": \"Northwestern University\", \"type\": \"Nonuse\", \"res\": 24, \"pct\": 0.2, \"state\": \"Illinois\", \"region\": \"midwest\", \"uni_abbr\": \"NU\"}, {\"uni\": \"Northwestern University\", \"type\": \"No\", \"res\": 65, \"pct\": 0.542, \"state\": \"Illinois\", \"region\": \"midwest\", \"uni_abbr\": \"NU\"}, {\"uni\": \"Northwestern University\", \"type\": \"Yes\", \"res\": 31, \"pct\": 0.258, \"state\": \"Illinois\", \"region\": \"midwest\", \"uni_abbr\": \"NU\"}, {\"uni\": \"Ohio State University\", \"type\": \"Nonuse\", \"res\": 1, \"pct\": 0.053, \"state\": \"Ohio\", \"region\": \"midwest\", \"uni_abbr\": \"OSU\"}, {\"uni\": \"Ohio State University\", \"type\": \"No\", \"res\": 12, \"pct\": 0.632, \"state\": \"Ohio\", \"region\": \"midwest\", \"uni_abbr\": \"OSU\"}, {\"uni\": \"Ohio State University\", \"type\": \"Yes\", \"res\": 6, \"pct\": 0.316, \"state\": \"Ohio\", \"region\": \"midwest\", \"uni_abbr\": \"OSU\"}, {\"uni\": \"Purdue University\", \"type\": \"Nonuse\", \"res\": 8, \"pct\": 0.308, \"state\": \"Indiana\", \"region\": \"midwest\", \"uni_abbr\": \"PU\"}, {\"uni\": \"Purdue University\", \"type\": \"No\", \"res\": 13, \"pct\": 0.5, \"state\": \"Indiana\", \"region\": \"midwest\", \"uni_abbr\": \"PU\"}, {\"uni\": \"Purdue University\", \"type\": \"Yes\", \"res\": 5, \"pct\": 0.192, \"state\": \"Indiana\", \"region\": \"midwest\", \"uni_abbr\": \"PU\"}, {\"uni\": \"San Diego State University\", \"type\": \"Nonuse\", \"res\": 6, \"pct\": 0.231, \"state\": \"California\", \"region\": \"pacific\", \"uni_abbr\": \"SDSU\"}, {\"uni\": \"San Diego State University\", \"type\": \"No\", \"res\": 15, \"pct\": 0.577, \"state\": \"California\", \"region\": \"pacific\", \"uni_abbr\": \"SDSU\"}, {\"uni\": \"San Diego State University\", \"type\": \"Yes\", \"res\": 5, \"pct\": 0.192, \"state\": \"California\", \"region\": \"pacific\", \"uni_abbr\": \"SDSU\"}, {\"uni\": \"Stanford University\", \"type\": \"Nonuse\", \"res\": 37, \"pct\": 0.343, \"state\": \"California\", \"region\": \"pacific\", \"uni_abbr\": \"SU\"}, {\"uni\": \"Stanford University\", \"type\": \"No\", \"res\": 58, \"pct\": 0.537, \"state\": \"California\", \"region\": \"pacific\", \"uni_abbr\": \"SU\"}, {\"uni\": \"Stanford University\", \"type\": \"Yes\", \"res\": 13, \"pct\": 0.12, \"state\": \"California\", \"region\": \"pacific\", \"uni_abbr\": \"SU\"}, {\"uni\": \"Texas A&M University\", \"type\": \"Nonuse\", \"res\": 12, \"pct\": 0.222, \"state\": \"Texas\", \"region\": \"mountain\", \"uni_abbr\": \"TAU\"}, {\"uni\": \"Texas A&M University\", \"type\": \"No\", \"res\": 29, \"pct\": 0.537, \"state\": \"Texas\", \"region\": \"mountain\", \"uni_abbr\": \"TAU\"}, {\"uni\": \"Texas A&M University\", \"type\": \"Yes\", \"res\": 13, \"pct\": 0.241, \"state\": \"Texas\", \"region\": \"mountain\", \"uni_abbr\": \"TAU\"}, {\"uni\": \"Texas Christian University\", \"type\": \"Nonuse\", \"res\": 10, \"pct\": 0.385, \"state\": \"Texas\", \"region\": \"mountain\", \"uni_abbr\": \"TCU\"}, {\"uni\": \"Texas Christian University\", \"type\": \"No\", \"res\": 8, \"pct\": 0.308, \"state\": \"Texas\", \"region\": \"mountain\", \"uni_abbr\": \"TCU\"}, {\"uni\": \"Texas Christian University\", \"type\": \"Yes\", \"res\": 8, \"pct\": 0.308, \"state\": \"Texas\", \"region\": \"mountain\", \"uni_abbr\": \"TCU\"}, {\"uni\": \"Texas Tech University\", \"type\": \"Nonuse\", \"res\": 5, \"pct\": 0.385, \"state\": \"Texas\", \"region\": \"mountain\", \"uni_abbr\": \"TTU\"}, {\"uni\": \"Texas Tech University\", \"type\": \"No\", \"res\": 5, \"pct\": 0.385, \"state\": \"Texas\", \"region\": \"mountain\", \"uni_abbr\": \"TTU\"}, {\"uni\": \"Texas Tech University\", \"type\": \"Yes\", \"res\": 3, \"pct\": 0.231, \"state\": \"Texas\", \"region\": \"mountain\", \"uni_abbr\": \"TTU\"}, {\"uni\": \"UMass Amherst\", \"type\": \"Nonuse\", \"res\": 3, \"pct\": 0.25, \"state\": \"Massachusetts\", \"region\": \"northeast\", \"uni_abbr\": \"Amherst\"}, {\"uni\": \"UMass Amherst\", \"type\": \"No\", \"res\": 6, \"pct\": 0.5, \"state\": \"Massachusetts\", \"region\": \"northeast\", \"uni_abbr\": \"Amherst\"}, {\"uni\": \"UMass Amherst\", \"type\": \"Yes\", \"res\": 3, \"pct\": 0.25, \"state\": \"Massachusetts\", \"region\": \"northeast\", \"uni_abbr\": \"Amherst\"}, {\"uni\": \"University of Alabama\", \"type\": \"Nonuse\", \"res\": 2, \"pct\": 0.133, \"state\": \"Alabama\", \"region\": \"south\", \"uni_abbr\": \"UOAL\"}, {\"uni\": \"University of Alabama\", \"type\": \"No\", \"res\": 11, \"pct\": 0.733, \"state\": \"Alabama\", \"region\": \"south\", \"uni_abbr\": \"UOAL\"}, {\"uni\": \"University of Alabama\", \"type\": \"Yes\", \"res\": 2, \"pct\": 0.133, \"state\": \"Alabama\", \"region\": \"south\", \"uni_abbr\": \"UOAL\"}, {\"uni\": \"University of Arizona\", \"type\": \"Nonuse\", \"res\": 3, \"pct\": 0.273, \"state\": \"Arizona\", \"region\": \"pacific\", \"uni_abbr\": \"UOAR\"}, {\"uni\": \"University of Arizona\", \"type\": \"No\", \"res\": 4, \"pct\": 0.364, \"state\": \"Arizona\", \"region\": \"pacific\", \"uni_abbr\": \"UOAR\"}, {\"uni\": \"University of Arizona\", \"type\": \"Yes\", \"res\": 4, \"pct\": 0.364, \"state\": \"Arizona\", \"region\": \"pacific\", \"uni_abbr\": \"UOAR\"}, {\"uni\": \"University of Arkansas\", \"type\": \"Nonuse\", \"res\": 19, \"pct\": 0.288, \"state\": \"Arkansas\", \"region\": \"south\", \"uni_abbr\": \"UOAK\"}, {\"uni\": \"University of Arkansas\", \"type\": \"No\", \"res\": 35, \"pct\": 0.53, \"state\": \"Arkansas\", \"region\": \"south\", \"uni_abbr\": \"UOAK\"}, {\"uni\": \"University of Arkansas\", \"type\": \"Yes\", \"res\": 12, \"pct\": 0.182, \"state\": \"Arkansas\", \"region\": \"south\", \"uni_abbr\": \"UOAK\"}, {\"uni\": \"University of California, Berkeley\", \"type\": \"Nonuse\", \"res\": 19, \"pct\": 0.209, \"state\": \"California\", \"region\": \"pacific\", \"uni_abbr\": \"UOCB\"}, {\"uni\": \"University of California, Berkeley\", \"type\": \"No\", \"res\": 47, \"pct\": 0.516, \"state\": \"California\", \"region\": \"pacific\", \"uni_abbr\": \"UOCB\"}, {\"uni\": \"University of California, Berkeley\", \"type\": \"Yes\", \"res\": 25, \"pct\": 0.275, \"state\": \"California\", \"region\": \"pacific\", \"uni_abbr\": \"UOCB\"}, {\"uni\": \"University of California, Davis\", \"type\": \"Nonuse\", \"res\": 6, \"pct\": 0.353, \"state\": \"California\", \"region\": \"pacific\", \"uni_abbr\": \"UOCD\"}, {\"uni\": \"University of California, Davis\", \"type\": \"No\", \"res\": 8, \"pct\": 0.471, \"state\": \"California\", \"region\": \"pacific\", \"uni_abbr\": \"UOCD\"}, {\"uni\": \"University of California, Davis\", \"type\": \"Yes\", \"res\": 3, \"pct\": 0.176, \"state\": \"California\", \"region\": \"pacific\", \"uni_abbr\": \"UOCD\"}, {\"uni\": \"University of California, Los Angeles\", \"type\": \"Nonuse\", \"res\": 5, \"pct\": 0.385, \"state\": \"California\", \"region\": \"pacific\", \"uni_abbr\": \"UOCLA\"}, {\"uni\": \"University of California, Los Angeles\", \"type\": \"No\", \"res\": 7, \"pct\": 0.538, \"state\": \"California\", \"region\": \"pacific\", \"uni_abbr\": \"UOCLA\"}, {\"uni\": \"University of California, Los Angeles\", \"type\": \"Yes\", \"res\": 1, \"pct\": 0.077, \"state\": \"California\", \"region\": \"pacific\", \"uni_abbr\": \"UOCLA\"}, {\"uni\": \"University of California, Santa Barbara\", \"type\": \"Nonuse\", \"res\": 17, \"pct\": 0.227, \"state\": \"California\", \"region\": \"pacific\", \"uni_abbr\": \"UOCSB\"}, {\"uni\": \"University of California, Santa Barbara\", \"type\": \"No\", \"res\": 34, \"pct\": 0.453, \"state\": \"California\", \"region\": \"pacific\", \"uni_abbr\": \"UOCSB\"}, {\"uni\": \"University of California, Santa Barbara\", \"type\": \"Yes\", \"res\": 24, \"pct\": 0.32, \"state\": \"California\", \"region\": \"pacific\", \"uni_abbr\": \"UOCSB\"}, {\"uni\": \"University of Georgia\", \"type\": \"Nonuse\", \"res\": 1, \"pct\": 0.091, \"state\": \"Georgia\", \"region\": \"south\", \"uni_abbr\": \"UOG\"}, {\"uni\": \"University of Georgia\", \"type\": \"No\", \"res\": 9, \"pct\": 0.818, \"state\": \"Georgia\", \"region\": \"south\", \"uni_abbr\": \"UOG\"}, {\"uni\": \"University of Georgia\", \"type\": \"Yes\", \"res\": 1, \"pct\": 0.091, \"state\": \"Georgia\", \"region\": \"south\", \"uni_abbr\": \"UOG\"}, {\"uni\": \"University of Illinois\", \"type\": \"Nonuse\", \"res\": 8, \"pct\": 0.17, \"state\": \"Illinois\", \"region\": \"midwest\", \"uni_abbr\": \"UOI\"}, {\"uni\": \"University of Illinois\", \"type\": \"No\", \"res\": 29, \"pct\": 0.617, \"state\": \"Illinois\", \"region\": \"midwest\", \"uni_abbr\": \"UOI\"}, {\"uni\": \"University of Illinois\", \"type\": \"Yes\", \"res\": 10, \"pct\": 0.213, \"state\": \"Illinois\", \"region\": \"midwest\", \"uni_abbr\": \"UOI\"}, {\"uni\": \"University of Kansas\", \"type\": \"Nonuse\", \"res\": 2, \"pct\": 0.2, \"state\": \"Kansas\", \"region\": \"midwest\", \"uni_abbr\": \"UOK\"}, {\"uni\": \"University of Kansas\", \"type\": \"No\", \"res\": 5, \"pct\": 0.5, \"state\": \"Kansas\", \"region\": \"midwest\", \"uni_abbr\": \"UOK\"}, {\"uni\": \"University of Kansas\", \"type\": \"Yes\", \"res\": 3, \"pct\": 0.3, \"state\": \"Kansas\", \"region\": \"midwest\", \"uni_abbr\": \"UOK\"}, {\"uni\": \"University of Michigan\", \"type\": \"Nonuse\", \"res\": 23, \"pct\": 0.267, \"state\": \"Michigan\", \"region\": \"midwest\", \"uni_abbr\": \"Mich\"}, {\"uni\": \"University of Michigan\", \"type\": \"No\", \"res\": 49, \"pct\": 0.57, \"state\": \"Michigan\", \"region\": \"midwest\", \"uni_abbr\": \"Mich\"}, {\"uni\": \"University of Michigan\", \"type\": \"Yes\", \"res\": 14, \"pct\": 0.163, \"state\": \"Michigan\", \"region\": \"midwest\", \"uni_abbr\": \"Mich\"}, {\"uni\": \"University of Missouri\", \"type\": \"Nonuse\", \"res\": 8, \"pct\": 0.267, \"state\": \"Missouri\", \"region\": \"midwest\", \"uni_abbr\": \"Miss\"}, {\"uni\": \"University of Missouri\", \"type\": \"No\", \"res\": 15, \"pct\": 0.5, \"state\": \"Missouri\", \"region\": \"midwest\", \"uni_abbr\": \"Miss\"}, {\"uni\": \"University of Missouri\", \"type\": \"Yes\", \"res\": 7, \"pct\": 0.233, \"state\": \"Missouri\", \"region\": \"midwest\", \"uni_abbr\": \"Miss\"}, {\"uni\": \"University of North Carolina\", \"type\": \"Nonuse\", \"res\": 3, \"pct\": 0.25, \"state\": \"North Carolina\", \"region\": \"south\", \"uni_abbr\": \"UONC\"}, {\"uni\": \"University of North Carolina\", \"type\": \"No\", \"res\": 8, \"pct\": 0.667, \"state\": \"North Carolina\", \"region\": \"south\", \"uni_abbr\": \"UONC\"}, {\"uni\": \"University of North Carolina\", \"type\": \"Yes\", \"res\": 1, \"pct\": 0.083, \"state\": \"North Carolina\", \"region\": \"south\", \"uni_abbr\": \"UONC\"}, {\"uni\": \"University of Pennsylvania\", \"type\": \"Nonuse\", \"res\": 24, \"pct\": 0.222, \"state\": \"Pennsylvania\", \"region\": \"northeast\", \"uni_abbr\": \"UOP\"}, {\"uni\": \"University of Pennsylvania\", \"type\": \"No\", \"res\": 60, \"pct\": 0.556, \"state\": \"Pennsylvania\", \"region\": \"northeast\", \"uni_abbr\": \"UOP\"}, {\"uni\": \"University of Pennsylvania\", \"type\": \"Yes\", \"res\": 24, \"pct\": 0.222, \"state\": \"Pennsylvania\", \"region\": \"northeast\", \"uni_abbr\": \"UOP\"}, {\"uni\": \"University of Richmond\", \"type\": \"Nonuse\", \"res\": 7, \"pct\": 0.389, \"state\": \"Virginia\", \"region\": \"south\", \"uni_abbr\": \"UOR\"}, {\"uni\": \"University of Richmond\", \"type\": \"No\", \"res\": 9, \"pct\": 0.5, \"state\": \"Virginia\", \"region\": \"south\", \"uni_abbr\": \"UOR\"}, {\"uni\": \"University of Richmond\", \"type\": \"Yes\", \"res\": 2, \"pct\": 0.111, \"state\": \"Virginia\", \"region\": \"south\", \"uni_abbr\": \"UOR\"}, {\"uni\": \"University of Southern California\", \"type\": \"Nonuse\", \"res\": 2, \"pct\": 0.2, \"state\": \"California\", \"region\": \"pacific\", \"uni_abbr\": \"UOSC\"}, {\"uni\": \"University of Southern California\", \"type\": \"No\", \"res\": 7, \"pct\": 0.7, \"state\": \"California\", \"region\": \"pacific\", \"uni_abbr\": \"UOSC\"}, {\"uni\": \"University of Southern California\", \"type\": \"Yes\", \"res\": 1, \"pct\": 0.1, \"state\": \"California\", \"region\": \"pacific\", \"uni_abbr\": \"UOSC\"}, {\"uni\": \"University of Texas\", \"type\": \"Nonuse\", \"res\": 26, \"pct\": 0.356, \"state\": \"Texas\", \"region\": \"mountain\", \"uni_abbr\": \"UOT\"}, {\"uni\": \"University of Texas\", \"type\": \"No\", \"res\": 35, \"pct\": 0.479, \"state\": \"Texas\", \"region\": \"mountain\", \"uni_abbr\": \"UOT\"}, {\"uni\": \"University of Texas\", \"type\": \"Yes\", \"res\": 12, \"pct\": 0.164, \"state\": \"Texas\", \"region\": \"mountain\", \"uni_abbr\": \"UOT\"}, {\"uni\": \"University of Virginia\", \"type\": \"Nonuse\", \"res\": 8, \"pct\": 0.444, \"state\": \"Virginia\", \"region\": \"south\", \"uni_abbr\": \"UOV\"}, {\"uni\": \"University of Virginia\", \"type\": \"No\", \"res\": 7, \"pct\": 0.389, \"state\": \"Virginia\", \"region\": \"south\", \"uni_abbr\": \"UOV\"}, {\"uni\": \"University of Virginia\", \"type\": \"Yes\", \"res\": 3, \"pct\": 0.167, \"state\": \"Virginia\", \"region\": \"south\", \"uni_abbr\": \"UOV\"}, {\"uni\": \"University of Wisconsin-Madison\", \"type\": \"Nonuse\", \"res\": 21, \"pct\": 0.167, \"state\": \"Wisconsin\", \"region\": \"midwest\", \"uni_abbr\": \"UOW\"}, {\"uni\": \"University of Wisconsin-Madison\", \"type\": \"No\", \"res\": 71, \"pct\": 0.563, \"state\": \"Wisconsin\", \"region\": \"midwest\", \"uni_abbr\": \"UOW\"}, {\"uni\": \"University of Wisconsin-Madison\", \"type\": \"Yes\", \"res\": 34, \"pct\": 0.27, \"state\": \"Wisconsin\", \"region\": \"midwest\", \"uni_abbr\": \"UOW\"}, {\"uni\": \"Vanderbilt University\", \"type\": \"Nonuse\", \"res\": 12, \"pct\": 0.122, \"state\": \"Tennessee\", \"region\": \"south\", \"uni_abbr\": \"VU\"}, {\"uni\": \"Vanderbilt University\", \"type\": \"No\", \"res\": 63, \"pct\": 0.643, \"state\": \"Tennessee\", \"region\": \"south\", \"uni_abbr\": \"VU\"}, {\"uni\": \"Vanderbilt University\", \"type\": \"Yes\", \"res\": 23, \"pct\": 0.235, \"state\": \"Tennessee\", \"region\": \"south\", \"uni_abbr\": \"VU\"}, {\"uni\": \"Washington State University\", \"type\": \"Nonuse\", \"res\": 6, \"pct\": 0.231, \"state\": \"Washington\", \"region\": \"pacific\", \"uni_abbr\": \"WSU\"}, {\"uni\": \"Washington State University\", \"type\": \"No\", \"res\": 12, \"pct\": 0.462, \"state\": \"Washington\", \"region\": \"pacific\", \"uni_abbr\": \"WSU\"}, {\"uni\": \"Washington State University\", \"type\": \"Yes\", \"res\": 8, \"pct\": 0.308, \"state\": \"Washington\", \"region\": \"pacific\", \"uni_abbr\": \"WSU\"}]}}, {\"mode\": \"vega-lite\"});\n",
       "</script>"
      ],
      "text/plain": [
       "alt.Chart(...)"
      ]
     },
     "execution_count": 27,
     "metadata": {},
     "output_type": "execute_result"
    }
   ],
   "source": [
    "# Specify the levels\n",
    "domain = [\"No\", \"Nonuse\", \"Yes\"]\n",
    "# although we should use range, but will change here (I just dont like it)\n",
    "range = [\"#66c2a5\", \"#fc8d62\", \"#8da0cb\"]\n",
    "\n",
    "# encode the chart now\n",
    "chart.mark_bar().encode(\n",
    "    alt.X(\"uni_abbr:N\", sort=\"-y\"),\n",
    "    alt.Y(\"sum(res)\"),\n",
    "    alt.Color(\"type\", scale=alt.Scale(domain=domain, range=range)),\n",
    "    alt.Tooltip([\"uni\",\"res\"])\n",
    ").interactive()"
   ]
  },
  {
   "cell_type": "markdown",
   "id": "9a21a885-f031-4017-aa32-deea52eb120a",
   "metadata": {},
   "source": [
    "### Normalized Stacked"
   ]
  },
  {
   "cell_type": "markdown",
   "id": "f12162a3-3001-490b-9396-7c4a521b7f9b",
   "metadata": {},
   "source": [
    "We could also normalize the the channels to 0-1 scale, so that we could know percentage of levels."
   ]
  },
  {
   "cell_type": "code",
   "execution_count": 28,
   "id": "594a0d5e-32d9-43c2-adab-965aef462575",
   "metadata": {},
   "outputs": [
    {
     "data": {
      "text/html": [
       "\n",
       "<div id=\"altair-viz-2e6451437f0a488491a81a97514a3658\"></div>\n",
       "<script type=\"text/javascript\">\n",
       "  var VEGA_DEBUG = (typeof VEGA_DEBUG == \"undefined\") ? {} : VEGA_DEBUG;\n",
       "  (function(spec, embedOpt){\n",
       "    let outputDiv = document.currentScript.previousElementSibling;\n",
       "    if (outputDiv.id !== \"altair-viz-2e6451437f0a488491a81a97514a3658\") {\n",
       "      outputDiv = document.getElementById(\"altair-viz-2e6451437f0a488491a81a97514a3658\");\n",
       "    }\n",
       "    const paths = {\n",
       "      \"vega\": \"https://cdn.jsdelivr.net/npm//vega@5?noext\",\n",
       "      \"vega-lib\": \"https://cdn.jsdelivr.net/npm//vega-lib?noext\",\n",
       "      \"vega-lite\": \"https://cdn.jsdelivr.net/npm//vega-lite@4.17.0?noext\",\n",
       "      \"vega-embed\": \"https://cdn.jsdelivr.net/npm//vega-embed@6?noext\",\n",
       "    };\n",
       "\n",
       "    function maybeLoadScript(lib, version) {\n",
       "      var key = `${lib.replace(\"-\", \"\")}_version`;\n",
       "      return (VEGA_DEBUG[key] == version) ?\n",
       "        Promise.resolve(paths[lib]) :\n",
       "        new Promise(function(resolve, reject) {\n",
       "          var s = document.createElement('script');\n",
       "          document.getElementsByTagName(\"head\")[0].appendChild(s);\n",
       "          s.async = true;\n",
       "          s.onload = () => {\n",
       "            VEGA_DEBUG[key] = version;\n",
       "            return resolve(paths[lib]);\n",
       "          };\n",
       "          s.onerror = () => reject(`Error loading script: ${paths[lib]}`);\n",
       "          s.src = paths[lib];\n",
       "        });\n",
       "    }\n",
       "\n",
       "    function showError(err) {\n",
       "      outputDiv.innerHTML = `<div class=\"error\" style=\"color:red;\">${err}</div>`;\n",
       "      throw err;\n",
       "    }\n",
       "\n",
       "    function displayChart(vegaEmbed) {\n",
       "      vegaEmbed(outputDiv, spec, embedOpt)\n",
       "        .catch(err => showError(`Javascript Error: ${err.message}<br>This usually means there's a typo in your chart specification. See the javascript console for the full traceback.`));\n",
       "    }\n",
       "\n",
       "    if(typeof define === \"function\" && define.amd) {\n",
       "      requirejs.config({paths});\n",
       "      require([\"vega-embed\"], displayChart, err => showError(`Error loading script: ${err.message}`));\n",
       "    } else {\n",
       "      maybeLoadScript(\"vega\", \"5\")\n",
       "        .then(() => maybeLoadScript(\"vega-lite\", \"4.17.0\"))\n",
       "        .then(() => maybeLoadScript(\"vega-embed\", \"6\"))\n",
       "        .catch(showError)\n",
       "        .then(() => displayChart(vegaEmbed));\n",
       "    }\n",
       "  })({\"config\": {\"view\": {\"continuousWidth\": 400, \"continuousHeight\": 300}}, \"data\": {\"name\": \"data-625a034231e7cf75ff53895cdf90a07a\"}, \"mark\": \"bar\", \"encoding\": {\"color\": {\"field\": \"type\", \"scale\": {\"domain\": [\"No\", \"Nonuse\", \"Yes\"], \"range\": [\"#66c2a5\", \"#fc8d62\", \"#8da0cb\"]}, \"type\": \"nominal\"}, \"tooltip\": [{\"field\": \"uni\", \"type\": \"nominal\"}, {\"field\": \"pct\", \"type\": \"quantitative\"}], \"x\": {\"field\": \"uni_abbr\", \"type\": \"nominal\"}, \"y\": {\"field\": \"pct\", \"scale\": {\"domain\": [0, 1]}, \"type\": \"quantitative\"}}, \"selection\": {\"selector011\": {\"type\": \"interval\", \"bind\": \"scales\", \"encodings\": [\"x\", \"y\"]}}, \"$schema\": \"https://vega.github.io/schema/vega-lite/v4.17.0.json\", \"datasets\": {\"data-625a034231e7cf75ff53895cdf90a07a\": [{\"uni\": \"Appalachian State University\", \"type\": \"Nonuse\", \"res\": 46, \"pct\": 0.4, \"state\": \"North Carolina\", \"region\": \"south\", \"uni_abbr\": \"ASU\"}, {\"uni\": \"Appalachian State University\", \"type\": \"No\", \"res\": 53, \"pct\": 0.461, \"state\": \"North Carolina\", \"region\": \"south\", \"uni_abbr\": \"ASU\"}, {\"uni\": \"Appalachian State University\", \"type\": \"Yes\", \"res\": 16, \"pct\": 0.139, \"state\": \"North Carolina\", \"region\": \"south\", \"uni_abbr\": \"ASU\"}, {\"uni\": \"Butler University\", \"type\": \"Nonuse\", \"res\": 17, \"pct\": 0.25, \"state\": \"Indiana\", \"region\": \"midwest\", \"uni_abbr\": \"BU\"}, {\"uni\": \"Butler University\", \"type\": \"No\", \"res\": 44, \"pct\": 0.647, \"state\": \"Indiana\", \"region\": \"midwest\", \"uni_abbr\": \"BU\"}, {\"uni\": \"Butler University\", \"type\": \"Yes\", \"res\": 7, \"pct\": 0.103, \"state\": \"Indiana\", \"region\": \"midwest\", \"uni_abbr\": \"BU\"}, {\"uni\": \"Cal Poly San Luis Obispo\", \"type\": \"Nonuse\", \"res\": 7, \"pct\": 0.28, \"state\": \"California\", \"region\": \"pacific\", \"uni_abbr\": \"CPSLO\"}, {\"uni\": \"Cal Poly San Luis Obispo\", \"type\": \"No\", \"res\": 10, \"pct\": 0.4, \"state\": \"California\", \"region\": \"pacific\", \"uni_abbr\": \"CPSLO\"}, {\"uni\": \"Cal Poly San Luis Obispo\", \"type\": \"Yes\", \"res\": 8, \"pct\": 0.32, \"state\": \"California\", \"region\": \"pacific\", \"uni_abbr\": \"CPSLO\"}, {\"uni\": \"Case Western Reserve University\", \"type\": \"Nonuse\", \"res\": 12, \"pct\": 0.387, \"state\": \"Ohio\", \"region\": \"midwest\", \"uni_abbr\": \"CWRU\"}, {\"uni\": \"Case Western Reserve University\", \"type\": \"No\", \"res\": 12, \"pct\": 0.387, \"state\": \"Ohio\", \"region\": \"midwest\", \"uni_abbr\": \"CWRU\"}, {\"uni\": \"Case Western Reserve University\", \"type\": \"Yes\", \"res\": 7, \"pct\": 0.226, \"state\": \"Ohio\", \"region\": \"midwest\", \"uni_abbr\": \"CWRU\"}, {\"uni\": \"Chapman University\", \"type\": \"Nonuse\", \"res\": 19, \"pct\": 0.302, \"state\": \"California\", \"region\": \"pacific\", \"uni_abbr\": \"Chap\"}, {\"uni\": \"Chapman University\", \"type\": \"No\", \"res\": 31, \"pct\": 0.492, \"state\": \"California\", \"region\": \"pacific\", \"uni_abbr\": \"Chap\"}, {\"uni\": \"Chapman University\", \"type\": \"Yes\", \"res\": 13, \"pct\": 0.206, \"state\": \"California\", \"region\": \"pacific\", \"uni_abbr\": \"Chap\"}, {\"uni\": \"Colby College\", \"type\": \"Nonuse\", \"res\": 2, \"pct\": 0.143, \"state\": \"Maine\", \"region\": \"northeast\", \"uni_abbr\": \"CC\"}, {\"uni\": \"Colby College\", \"type\": \"No\", \"res\": 11, \"pct\": 0.786, \"state\": \"Maine\", \"region\": \"northeast\", \"uni_abbr\": \"CC\"}, {\"uni\": \"Colby College\", \"type\": \"Yes\", \"res\": 1, \"pct\": 0.071, \"state\": \"Maine\", \"region\": \"northeast\", \"uni_abbr\": \"CC\"}, {\"uni\": \"College of William and Mary\", \"type\": \"Nonuse\", \"res\": 6, \"pct\": 0.375, \"state\": \"Virginia\", \"region\": \"south\", \"uni_abbr\": \"WAM\"}, {\"uni\": \"College of William and Mary\", \"type\": \"No\", \"res\": 7, \"pct\": 0.438, \"state\": \"Virginia\", \"region\": \"south\", \"uni_abbr\": \"WAM\"}, {\"uni\": \"College of William and Mary\", \"type\": \"Yes\", \"res\": 3, \"pct\": 0.188, \"state\": \"Virginia\", \"region\": \"south\", \"uni_abbr\": \"WAM\"}, {\"uni\": \"Cornell University\", \"type\": \"Nonuse\", \"res\": 51, \"pct\": 0.264, \"state\": \"New York\", \"region\": \"northeast\", \"uni_abbr\": \"CU\"}, {\"uni\": \"Cornell University\", \"type\": \"No\", \"res\": 95, \"pct\": 0.492, \"state\": \"New York\", \"region\": \"northeast\", \"uni_abbr\": \"CU\"}, {\"uni\": \"Cornell University\", \"type\": \"Yes\", \"res\": 47, \"pct\": 0.244, \"state\": \"New York\", \"region\": \"northeast\", \"uni_abbr\": \"CU\"}, {\"uni\": \"Dartmouth College\", \"type\": \"Nonuse\", \"res\": 2, \"pct\": 0.2, \"state\": \"New Hampshire\", \"region\": \"northeast\", \"uni_abbr\": \"DC\"}, {\"uni\": \"Dartmouth College\", \"type\": \"No\", \"res\": 3, \"pct\": 0.3, \"state\": \"New Hampshire\", \"region\": \"northeast\", \"uni_abbr\": \"DC\"}, {\"uni\": \"Dartmouth College\", \"type\": \"Yes\", \"res\": 5, \"pct\": 0.5, \"state\": \"New Hampshire\", \"region\": \"northeast\", \"uni_abbr\": \"DC\"}, {\"uni\": \"Indiana University\", \"type\": \"Nonuse\", \"res\": 5, \"pct\": 0.114, \"state\": \"Indiana\", \"region\": \"midwest\", \"uni_abbr\": \"IU\"}, {\"uni\": \"Indiana University\", \"type\": \"No\", \"res\": 30, \"pct\": 0.682, \"state\": \"Indiana\", \"region\": \"midwest\", \"uni_abbr\": \"IU\"}, {\"uni\": \"Indiana University\", \"type\": \"Yes\", \"res\": 9, \"pct\": 0.205, \"state\": \"Indiana\", \"region\": \"midwest\", \"uni_abbr\": \"IU\"}, {\"uni\": \"Johns Hopkins University\", \"type\": \"Nonuse\", \"res\": 29, \"pct\": 0.21, \"state\": \"Maryland\", \"region\": \"northeast\", \"uni_abbr\": \"JHU\"}, {\"uni\": \"Johns Hopkins University\", \"type\": \"No\", \"res\": 76, \"pct\": 0.551, \"state\": \"Maryland\", \"region\": \"northeast\", \"uni_abbr\": \"JHU\"}, {\"uni\": \"Johns Hopkins University\", \"type\": \"Yes\", \"res\": 33, \"pct\": 0.239, \"state\": \"Maryland\", \"region\": \"northeast\", \"uni_abbr\": \"JHU\"}, {\"uni\": \"Northwestern University\", \"type\": \"Nonuse\", \"res\": 24, \"pct\": 0.2, \"state\": \"Illinois\", \"region\": \"midwest\", \"uni_abbr\": \"NU\"}, {\"uni\": \"Northwestern University\", \"type\": \"No\", \"res\": 65, \"pct\": 0.542, \"state\": \"Illinois\", \"region\": \"midwest\", \"uni_abbr\": \"NU\"}, {\"uni\": \"Northwestern University\", \"type\": \"Yes\", \"res\": 31, \"pct\": 0.258, \"state\": \"Illinois\", \"region\": \"midwest\", \"uni_abbr\": \"NU\"}, {\"uni\": \"Ohio State University\", \"type\": \"Nonuse\", \"res\": 1, \"pct\": 0.053, \"state\": \"Ohio\", \"region\": \"midwest\", \"uni_abbr\": \"OSU\"}, {\"uni\": \"Ohio State University\", \"type\": \"No\", \"res\": 12, \"pct\": 0.632, \"state\": \"Ohio\", \"region\": \"midwest\", \"uni_abbr\": \"OSU\"}, {\"uni\": \"Ohio State University\", \"type\": \"Yes\", \"res\": 6, \"pct\": 0.316, \"state\": \"Ohio\", \"region\": \"midwest\", \"uni_abbr\": \"OSU\"}, {\"uni\": \"Purdue University\", \"type\": \"Nonuse\", \"res\": 8, \"pct\": 0.308, \"state\": \"Indiana\", \"region\": \"midwest\", \"uni_abbr\": \"PU\"}, {\"uni\": \"Purdue University\", \"type\": \"No\", \"res\": 13, \"pct\": 0.5, \"state\": \"Indiana\", \"region\": \"midwest\", \"uni_abbr\": \"PU\"}, {\"uni\": \"Purdue University\", \"type\": \"Yes\", \"res\": 5, \"pct\": 0.192, \"state\": \"Indiana\", \"region\": \"midwest\", \"uni_abbr\": \"PU\"}, {\"uni\": \"San Diego State University\", \"type\": \"Nonuse\", \"res\": 6, \"pct\": 0.231, \"state\": \"California\", \"region\": \"pacific\", \"uni_abbr\": \"SDSU\"}, {\"uni\": \"San Diego State University\", \"type\": \"No\", \"res\": 15, \"pct\": 0.577, \"state\": \"California\", \"region\": \"pacific\", \"uni_abbr\": \"SDSU\"}, {\"uni\": \"San Diego State University\", \"type\": \"Yes\", \"res\": 5, \"pct\": 0.192, \"state\": \"California\", \"region\": \"pacific\", \"uni_abbr\": \"SDSU\"}, {\"uni\": \"Stanford University\", \"type\": \"Nonuse\", \"res\": 37, \"pct\": 0.343, \"state\": \"California\", \"region\": \"pacific\", \"uni_abbr\": \"SU\"}, {\"uni\": \"Stanford University\", \"type\": \"No\", \"res\": 58, \"pct\": 0.537, \"state\": \"California\", \"region\": \"pacific\", \"uni_abbr\": \"SU\"}, {\"uni\": \"Stanford University\", \"type\": \"Yes\", \"res\": 13, \"pct\": 0.12, \"state\": \"California\", \"region\": \"pacific\", \"uni_abbr\": \"SU\"}, {\"uni\": \"Texas A&M University\", \"type\": \"Nonuse\", \"res\": 12, \"pct\": 0.222, \"state\": \"Texas\", \"region\": \"mountain\", \"uni_abbr\": \"TAU\"}, {\"uni\": \"Texas A&M University\", \"type\": \"No\", \"res\": 29, \"pct\": 0.537, \"state\": \"Texas\", \"region\": \"mountain\", \"uni_abbr\": \"TAU\"}, {\"uni\": \"Texas A&M University\", \"type\": \"Yes\", \"res\": 13, \"pct\": 0.241, \"state\": \"Texas\", \"region\": \"mountain\", \"uni_abbr\": \"TAU\"}, {\"uni\": \"Texas Christian University\", \"type\": \"Nonuse\", \"res\": 10, \"pct\": 0.385, \"state\": \"Texas\", \"region\": \"mountain\", \"uni_abbr\": \"TCU\"}, {\"uni\": \"Texas Christian University\", \"type\": \"No\", \"res\": 8, \"pct\": 0.308, \"state\": \"Texas\", \"region\": \"mountain\", \"uni_abbr\": \"TCU\"}, {\"uni\": \"Texas Christian University\", \"type\": \"Yes\", \"res\": 8, \"pct\": 0.308, \"state\": \"Texas\", \"region\": \"mountain\", \"uni_abbr\": \"TCU\"}, {\"uni\": \"Texas Tech University\", \"type\": \"Nonuse\", \"res\": 5, \"pct\": 0.385, \"state\": \"Texas\", \"region\": \"mountain\", \"uni_abbr\": \"TTU\"}, {\"uni\": \"Texas Tech University\", \"type\": \"No\", \"res\": 5, \"pct\": 0.385, \"state\": \"Texas\", \"region\": \"mountain\", \"uni_abbr\": \"TTU\"}, {\"uni\": \"Texas Tech University\", \"type\": \"Yes\", \"res\": 3, \"pct\": 0.231, \"state\": \"Texas\", \"region\": \"mountain\", \"uni_abbr\": \"TTU\"}, {\"uni\": \"UMass Amherst\", \"type\": \"Nonuse\", \"res\": 3, \"pct\": 0.25, \"state\": \"Massachusetts\", \"region\": \"northeast\", \"uni_abbr\": \"Amherst\"}, {\"uni\": \"UMass Amherst\", \"type\": \"No\", \"res\": 6, \"pct\": 0.5, \"state\": \"Massachusetts\", \"region\": \"northeast\", \"uni_abbr\": \"Amherst\"}, {\"uni\": \"UMass Amherst\", \"type\": \"Yes\", \"res\": 3, \"pct\": 0.25, \"state\": \"Massachusetts\", \"region\": \"northeast\", \"uni_abbr\": \"Amherst\"}, {\"uni\": \"University of Alabama\", \"type\": \"Nonuse\", \"res\": 2, \"pct\": 0.133, \"state\": \"Alabama\", \"region\": \"south\", \"uni_abbr\": \"UOAL\"}, {\"uni\": \"University of Alabama\", \"type\": \"No\", \"res\": 11, \"pct\": 0.733, \"state\": \"Alabama\", \"region\": \"south\", \"uni_abbr\": \"UOAL\"}, {\"uni\": \"University of Alabama\", \"type\": \"Yes\", \"res\": 2, \"pct\": 0.133, \"state\": \"Alabama\", \"region\": \"south\", \"uni_abbr\": \"UOAL\"}, {\"uni\": \"University of Arizona\", \"type\": \"Nonuse\", \"res\": 3, \"pct\": 0.273, \"state\": \"Arizona\", \"region\": \"pacific\", \"uni_abbr\": \"UOAR\"}, {\"uni\": \"University of Arizona\", \"type\": \"No\", \"res\": 4, \"pct\": 0.364, \"state\": \"Arizona\", \"region\": \"pacific\", \"uni_abbr\": \"UOAR\"}, {\"uni\": \"University of Arizona\", \"type\": \"Yes\", \"res\": 4, \"pct\": 0.364, \"state\": \"Arizona\", \"region\": \"pacific\", \"uni_abbr\": \"UOAR\"}, {\"uni\": \"University of Arkansas\", \"type\": \"Nonuse\", \"res\": 19, \"pct\": 0.288, \"state\": \"Arkansas\", \"region\": \"south\", \"uni_abbr\": \"UOAK\"}, {\"uni\": \"University of Arkansas\", \"type\": \"No\", \"res\": 35, \"pct\": 0.53, \"state\": \"Arkansas\", \"region\": \"south\", \"uni_abbr\": \"UOAK\"}, {\"uni\": \"University of Arkansas\", \"type\": \"Yes\", \"res\": 12, \"pct\": 0.182, \"state\": \"Arkansas\", \"region\": \"south\", \"uni_abbr\": \"UOAK\"}, {\"uni\": \"University of California, Berkeley\", \"type\": \"Nonuse\", \"res\": 19, \"pct\": 0.209, \"state\": \"California\", \"region\": \"pacific\", \"uni_abbr\": \"UOCB\"}, {\"uni\": \"University of California, Berkeley\", \"type\": \"No\", \"res\": 47, \"pct\": 0.516, \"state\": \"California\", \"region\": \"pacific\", \"uni_abbr\": \"UOCB\"}, {\"uni\": \"University of California, Berkeley\", \"type\": \"Yes\", \"res\": 25, \"pct\": 0.275, \"state\": \"California\", \"region\": \"pacific\", \"uni_abbr\": \"UOCB\"}, {\"uni\": \"University of California, Davis\", \"type\": \"Nonuse\", \"res\": 6, \"pct\": 0.353, \"state\": \"California\", \"region\": \"pacific\", \"uni_abbr\": \"UOCD\"}, {\"uni\": \"University of California, Davis\", \"type\": \"No\", \"res\": 8, \"pct\": 0.471, \"state\": \"California\", \"region\": \"pacific\", \"uni_abbr\": \"UOCD\"}, {\"uni\": \"University of California, Davis\", \"type\": \"Yes\", \"res\": 3, \"pct\": 0.176, \"state\": \"California\", \"region\": \"pacific\", \"uni_abbr\": \"UOCD\"}, {\"uni\": \"University of California, Los Angeles\", \"type\": \"Nonuse\", \"res\": 5, \"pct\": 0.385, \"state\": \"California\", \"region\": \"pacific\", \"uni_abbr\": \"UOCLA\"}, {\"uni\": \"University of California, Los Angeles\", \"type\": \"No\", \"res\": 7, \"pct\": 0.538, \"state\": \"California\", \"region\": \"pacific\", \"uni_abbr\": \"UOCLA\"}, {\"uni\": \"University of California, Los Angeles\", \"type\": \"Yes\", \"res\": 1, \"pct\": 0.077, \"state\": \"California\", \"region\": \"pacific\", \"uni_abbr\": \"UOCLA\"}, {\"uni\": \"University of California, Santa Barbara\", \"type\": \"Nonuse\", \"res\": 17, \"pct\": 0.227, \"state\": \"California\", \"region\": \"pacific\", \"uni_abbr\": \"UOCSB\"}, {\"uni\": \"University of California, Santa Barbara\", \"type\": \"No\", \"res\": 34, \"pct\": 0.453, \"state\": \"California\", \"region\": \"pacific\", \"uni_abbr\": \"UOCSB\"}, {\"uni\": \"University of California, Santa Barbara\", \"type\": \"Yes\", \"res\": 24, \"pct\": 0.32, \"state\": \"California\", \"region\": \"pacific\", \"uni_abbr\": \"UOCSB\"}, {\"uni\": \"University of Georgia\", \"type\": \"Nonuse\", \"res\": 1, \"pct\": 0.091, \"state\": \"Georgia\", \"region\": \"south\", \"uni_abbr\": \"UOG\"}, {\"uni\": \"University of Georgia\", \"type\": \"No\", \"res\": 9, \"pct\": 0.818, \"state\": \"Georgia\", \"region\": \"south\", \"uni_abbr\": \"UOG\"}, {\"uni\": \"University of Georgia\", \"type\": \"Yes\", \"res\": 1, \"pct\": 0.091, \"state\": \"Georgia\", \"region\": \"south\", \"uni_abbr\": \"UOG\"}, {\"uni\": \"University of Illinois\", \"type\": \"Nonuse\", \"res\": 8, \"pct\": 0.17, \"state\": \"Illinois\", \"region\": \"midwest\", \"uni_abbr\": \"UOI\"}, {\"uni\": \"University of Illinois\", \"type\": \"No\", \"res\": 29, \"pct\": 0.617, \"state\": \"Illinois\", \"region\": \"midwest\", \"uni_abbr\": \"UOI\"}, {\"uni\": \"University of Illinois\", \"type\": \"Yes\", \"res\": 10, \"pct\": 0.213, \"state\": \"Illinois\", \"region\": \"midwest\", \"uni_abbr\": \"UOI\"}, {\"uni\": \"University of Kansas\", \"type\": \"Nonuse\", \"res\": 2, \"pct\": 0.2, \"state\": \"Kansas\", \"region\": \"midwest\", \"uni_abbr\": \"UOK\"}, {\"uni\": \"University of Kansas\", \"type\": \"No\", \"res\": 5, \"pct\": 0.5, \"state\": \"Kansas\", \"region\": \"midwest\", \"uni_abbr\": \"UOK\"}, {\"uni\": \"University of Kansas\", \"type\": \"Yes\", \"res\": 3, \"pct\": 0.3, \"state\": \"Kansas\", \"region\": \"midwest\", \"uni_abbr\": \"UOK\"}, {\"uni\": \"University of Michigan\", \"type\": \"Nonuse\", \"res\": 23, \"pct\": 0.267, \"state\": \"Michigan\", \"region\": \"midwest\", \"uni_abbr\": \"Mich\"}, {\"uni\": \"University of Michigan\", \"type\": \"No\", \"res\": 49, \"pct\": 0.57, \"state\": \"Michigan\", \"region\": \"midwest\", \"uni_abbr\": \"Mich\"}, {\"uni\": \"University of Michigan\", \"type\": \"Yes\", \"res\": 14, \"pct\": 0.163, \"state\": \"Michigan\", \"region\": \"midwest\", \"uni_abbr\": \"Mich\"}, {\"uni\": \"University of Missouri\", \"type\": \"Nonuse\", \"res\": 8, \"pct\": 0.267, \"state\": \"Missouri\", \"region\": \"midwest\", \"uni_abbr\": \"Miss\"}, {\"uni\": \"University of Missouri\", \"type\": \"No\", \"res\": 15, \"pct\": 0.5, \"state\": \"Missouri\", \"region\": \"midwest\", \"uni_abbr\": \"Miss\"}, {\"uni\": \"University of Missouri\", \"type\": \"Yes\", \"res\": 7, \"pct\": 0.233, \"state\": \"Missouri\", \"region\": \"midwest\", \"uni_abbr\": \"Miss\"}, {\"uni\": \"University of North Carolina\", \"type\": \"Nonuse\", \"res\": 3, \"pct\": 0.25, \"state\": \"North Carolina\", \"region\": \"south\", \"uni_abbr\": \"UONC\"}, {\"uni\": \"University of North Carolina\", \"type\": \"No\", \"res\": 8, \"pct\": 0.667, \"state\": \"North Carolina\", \"region\": \"south\", \"uni_abbr\": \"UONC\"}, {\"uni\": \"University of North Carolina\", \"type\": \"Yes\", \"res\": 1, \"pct\": 0.083, \"state\": \"North Carolina\", \"region\": \"south\", \"uni_abbr\": \"UONC\"}, {\"uni\": \"University of Pennsylvania\", \"type\": \"Nonuse\", \"res\": 24, \"pct\": 0.222, \"state\": \"Pennsylvania\", \"region\": \"northeast\", \"uni_abbr\": \"UOP\"}, {\"uni\": \"University of Pennsylvania\", \"type\": \"No\", \"res\": 60, \"pct\": 0.556, \"state\": \"Pennsylvania\", \"region\": \"northeast\", \"uni_abbr\": \"UOP\"}, {\"uni\": \"University of Pennsylvania\", \"type\": \"Yes\", \"res\": 24, \"pct\": 0.222, \"state\": \"Pennsylvania\", \"region\": \"northeast\", \"uni_abbr\": \"UOP\"}, {\"uni\": \"University of Richmond\", \"type\": \"Nonuse\", \"res\": 7, \"pct\": 0.389, \"state\": \"Virginia\", \"region\": \"south\", \"uni_abbr\": \"UOR\"}, {\"uni\": \"University of Richmond\", \"type\": \"No\", \"res\": 9, \"pct\": 0.5, \"state\": \"Virginia\", \"region\": \"south\", \"uni_abbr\": \"UOR\"}, {\"uni\": \"University of Richmond\", \"type\": \"Yes\", \"res\": 2, \"pct\": 0.111, \"state\": \"Virginia\", \"region\": \"south\", \"uni_abbr\": \"UOR\"}, {\"uni\": \"University of Southern California\", \"type\": \"Nonuse\", \"res\": 2, \"pct\": 0.2, \"state\": \"California\", \"region\": \"pacific\", \"uni_abbr\": \"UOSC\"}, {\"uni\": \"University of Southern California\", \"type\": \"No\", \"res\": 7, \"pct\": 0.7, \"state\": \"California\", \"region\": \"pacific\", \"uni_abbr\": \"UOSC\"}, {\"uni\": \"University of Southern California\", \"type\": \"Yes\", \"res\": 1, \"pct\": 0.1, \"state\": \"California\", \"region\": \"pacific\", \"uni_abbr\": \"UOSC\"}, {\"uni\": \"University of Texas\", \"type\": \"Nonuse\", \"res\": 26, \"pct\": 0.356, \"state\": \"Texas\", \"region\": \"mountain\", \"uni_abbr\": \"UOT\"}, {\"uni\": \"University of Texas\", \"type\": \"No\", \"res\": 35, \"pct\": 0.479, \"state\": \"Texas\", \"region\": \"mountain\", \"uni_abbr\": \"UOT\"}, {\"uni\": \"University of Texas\", \"type\": \"Yes\", \"res\": 12, \"pct\": 0.164, \"state\": \"Texas\", \"region\": \"mountain\", \"uni_abbr\": \"UOT\"}, {\"uni\": \"University of Virginia\", \"type\": \"Nonuse\", \"res\": 8, \"pct\": 0.444, \"state\": \"Virginia\", \"region\": \"south\", \"uni_abbr\": \"UOV\"}, {\"uni\": \"University of Virginia\", \"type\": \"No\", \"res\": 7, \"pct\": 0.389, \"state\": \"Virginia\", \"region\": \"south\", \"uni_abbr\": \"UOV\"}, {\"uni\": \"University of Virginia\", \"type\": \"Yes\", \"res\": 3, \"pct\": 0.167, \"state\": \"Virginia\", \"region\": \"south\", \"uni_abbr\": \"UOV\"}, {\"uni\": \"University of Wisconsin-Madison\", \"type\": \"Nonuse\", \"res\": 21, \"pct\": 0.167, \"state\": \"Wisconsin\", \"region\": \"midwest\", \"uni_abbr\": \"UOW\"}, {\"uni\": \"University of Wisconsin-Madison\", \"type\": \"No\", \"res\": 71, \"pct\": 0.563, \"state\": \"Wisconsin\", \"region\": \"midwest\", \"uni_abbr\": \"UOW\"}, {\"uni\": \"University of Wisconsin-Madison\", \"type\": \"Yes\", \"res\": 34, \"pct\": 0.27, \"state\": \"Wisconsin\", \"region\": \"midwest\", \"uni_abbr\": \"UOW\"}, {\"uni\": \"Vanderbilt University\", \"type\": \"Nonuse\", \"res\": 12, \"pct\": 0.122, \"state\": \"Tennessee\", \"region\": \"south\", \"uni_abbr\": \"VU\"}, {\"uni\": \"Vanderbilt University\", \"type\": \"No\", \"res\": 63, \"pct\": 0.643, \"state\": \"Tennessee\", \"region\": \"south\", \"uni_abbr\": \"VU\"}, {\"uni\": \"Vanderbilt University\", \"type\": \"Yes\", \"res\": 23, \"pct\": 0.235, \"state\": \"Tennessee\", \"region\": \"south\", \"uni_abbr\": \"VU\"}, {\"uni\": \"Washington State University\", \"type\": \"Nonuse\", \"res\": 6, \"pct\": 0.231, \"state\": \"Washington\", \"region\": \"pacific\", \"uni_abbr\": \"WSU\"}, {\"uni\": \"Washington State University\", \"type\": \"No\", \"res\": 12, \"pct\": 0.462, \"state\": \"Washington\", \"region\": \"pacific\", \"uni_abbr\": \"WSU\"}, {\"uni\": \"Washington State University\", \"type\": \"Yes\", \"res\": 8, \"pct\": 0.308, \"state\": \"Washington\", \"region\": \"pacific\", \"uni_abbr\": \"WSU\"}]}}, {\"mode\": \"vega-lite\"});\n",
       "</script>"
      ],
      "text/plain": [
       "alt.Chart(...)"
      ]
     },
     "execution_count": 28,
     "metadata": {},
     "output_type": "execute_result"
    }
   ],
   "source": [
    "# Stack the chart as before using a different \n",
    "chart.mark_bar().encode(\n",
    "    alt.X('uni_abbr:N'),\n",
    "    alt.Y('pct', scale=alt.Scale(domain=[0,1])),?\n",
    "    alt.Color('type', scale=alt.Scale(domain=domain, range=range)),\n",
    "    alt.Tooltip(['uni', 'pct'])\n",
    ").interactive()"
   ]
  },
  {
   "cell_type": "markdown",
   "id": "06103441-8a3d-487b-8cf5-e29f85e93f78",
   "metadata": {},
   "source": [
    "> NOTE, we were given a `pct` attribute here, what if we dont?"
   ]
  },
  {
   "cell_type": "code",
   "execution_count": 30,
   "id": "7500f93e-9a01-40d0-a777-25ad6d75f423",
   "metadata": {},
   "outputs": [],
   "source": [
    "# Use the scale=alt.Scale(domain=[0,1])) or stack=\"normalize\" \n",
    "# in the channel you want to present\n",
    "# in this case, we want it in the Y cahnnel"
   ]
  },
  {
   "cell_type": "code",
   "execution_count": 31,
   "id": "d005efb0-0889-4079-b70b-bcbe08999656",
   "metadata": {},
   "outputs": [
    {
     "data": {
      "text/html": [
       "\n",
       "<div id=\"altair-viz-f0cde93dbae5431086046cd02cff033c\"></div>\n",
       "<script type=\"text/javascript\">\n",
       "  var VEGA_DEBUG = (typeof VEGA_DEBUG == \"undefined\") ? {} : VEGA_DEBUG;\n",
       "  (function(spec, embedOpt){\n",
       "    let outputDiv = document.currentScript.previousElementSibling;\n",
       "    if (outputDiv.id !== \"altair-viz-f0cde93dbae5431086046cd02cff033c\") {\n",
       "      outputDiv = document.getElementById(\"altair-viz-f0cde93dbae5431086046cd02cff033c\");\n",
       "    }\n",
       "    const paths = {\n",
       "      \"vega\": \"https://cdn.jsdelivr.net/npm//vega@5?noext\",\n",
       "      \"vega-lib\": \"https://cdn.jsdelivr.net/npm//vega-lib?noext\",\n",
       "      \"vega-lite\": \"https://cdn.jsdelivr.net/npm//vega-lite@4.17.0?noext\",\n",
       "      \"vega-embed\": \"https://cdn.jsdelivr.net/npm//vega-embed@6?noext\",\n",
       "    };\n",
       "\n",
       "    function maybeLoadScript(lib, version) {\n",
       "      var key = `${lib.replace(\"-\", \"\")}_version`;\n",
       "      return (VEGA_DEBUG[key] == version) ?\n",
       "        Promise.resolve(paths[lib]) :\n",
       "        new Promise(function(resolve, reject) {\n",
       "          var s = document.createElement('script');\n",
       "          document.getElementsByTagName(\"head\")[0].appendChild(s);\n",
       "          s.async = true;\n",
       "          s.onload = () => {\n",
       "            VEGA_DEBUG[key] = version;\n",
       "            return resolve(paths[lib]);\n",
       "          };\n",
       "          s.onerror = () => reject(`Error loading script: ${paths[lib]}`);\n",
       "          s.src = paths[lib];\n",
       "        });\n",
       "    }\n",
       "\n",
       "    function showError(err) {\n",
       "      outputDiv.innerHTML = `<div class=\"error\" style=\"color:red;\">${err}</div>`;\n",
       "      throw err;\n",
       "    }\n",
       "\n",
       "    function displayChart(vegaEmbed) {\n",
       "      vegaEmbed(outputDiv, spec, embedOpt)\n",
       "        .catch(err => showError(`Javascript Error: ${err.message}<br>This usually means there's a typo in your chart specification. See the javascript console for the full traceback.`));\n",
       "    }\n",
       "\n",
       "    if(typeof define === \"function\" && define.amd) {\n",
       "      requirejs.config({paths});\n",
       "      require([\"vega-embed\"], displayChart, err => showError(`Error loading script: ${err.message}`));\n",
       "    } else {\n",
       "      maybeLoadScript(\"vega\", \"5\")\n",
       "        .then(() => maybeLoadScript(\"vega-lite\", \"4.17.0\"))\n",
       "        .then(() => maybeLoadScript(\"vega-embed\", \"6\"))\n",
       "        .catch(showError)\n",
       "        .then(() => displayChart(vegaEmbed));\n",
       "    }\n",
       "  })({\"config\": {\"view\": {\"continuousWidth\": 400, \"continuousHeight\": 300}}, \"data\": {\"name\": \"data-625a034231e7cf75ff53895cdf90a07a\"}, \"mark\": \"bar\", \"encoding\": {\"color\": {\"field\": \"type\", \"scale\": {\"domain\": [\"No\", \"Nonuse\", \"Yes\"], \"range\": [\"#66c2a5\", \"#fc8d62\", \"#8da0cb\"]}, \"type\": \"nominal\"}, \"tooltip\": [{\"field\": \"uni\", \"type\": \"nominal\"}, {\"field\": \"pct\", \"type\": \"quantitative\"}], \"x\": {\"field\": \"uni_abbr\", \"type\": \"nominal\"}, \"y\": {\"field\": \"res\", \"stack\": \"normalize\", \"type\": \"quantitative\"}}, \"selection\": {\"selector013\": {\"type\": \"interval\", \"bind\": \"scales\", \"encodings\": [\"x\", \"y\"]}}, \"$schema\": \"https://vega.github.io/schema/vega-lite/v4.17.0.json\", \"datasets\": {\"data-625a034231e7cf75ff53895cdf90a07a\": [{\"uni\": \"Appalachian State University\", \"type\": \"Nonuse\", \"res\": 46, \"pct\": 0.4, \"state\": \"North Carolina\", \"region\": \"south\", \"uni_abbr\": \"ASU\"}, {\"uni\": \"Appalachian State University\", \"type\": \"No\", \"res\": 53, \"pct\": 0.461, \"state\": \"North Carolina\", \"region\": \"south\", \"uni_abbr\": \"ASU\"}, {\"uni\": \"Appalachian State University\", \"type\": \"Yes\", \"res\": 16, \"pct\": 0.139, \"state\": \"North Carolina\", \"region\": \"south\", \"uni_abbr\": \"ASU\"}, {\"uni\": \"Butler University\", \"type\": \"Nonuse\", \"res\": 17, \"pct\": 0.25, \"state\": \"Indiana\", \"region\": \"midwest\", \"uni_abbr\": \"BU\"}, {\"uni\": \"Butler University\", \"type\": \"No\", \"res\": 44, \"pct\": 0.647, \"state\": \"Indiana\", \"region\": \"midwest\", \"uni_abbr\": \"BU\"}, {\"uni\": \"Butler University\", \"type\": \"Yes\", \"res\": 7, \"pct\": 0.103, \"state\": \"Indiana\", \"region\": \"midwest\", \"uni_abbr\": \"BU\"}, {\"uni\": \"Cal Poly San Luis Obispo\", \"type\": \"Nonuse\", \"res\": 7, \"pct\": 0.28, \"state\": \"California\", \"region\": \"pacific\", \"uni_abbr\": \"CPSLO\"}, {\"uni\": \"Cal Poly San Luis Obispo\", \"type\": \"No\", \"res\": 10, \"pct\": 0.4, \"state\": \"California\", \"region\": \"pacific\", \"uni_abbr\": \"CPSLO\"}, {\"uni\": \"Cal Poly San Luis Obispo\", \"type\": \"Yes\", \"res\": 8, \"pct\": 0.32, \"state\": \"California\", \"region\": \"pacific\", \"uni_abbr\": \"CPSLO\"}, {\"uni\": \"Case Western Reserve University\", \"type\": \"Nonuse\", \"res\": 12, \"pct\": 0.387, \"state\": \"Ohio\", \"region\": \"midwest\", \"uni_abbr\": \"CWRU\"}, {\"uni\": \"Case Western Reserve University\", \"type\": \"No\", \"res\": 12, \"pct\": 0.387, \"state\": \"Ohio\", \"region\": \"midwest\", \"uni_abbr\": \"CWRU\"}, {\"uni\": \"Case Western Reserve University\", \"type\": \"Yes\", \"res\": 7, \"pct\": 0.226, \"state\": \"Ohio\", \"region\": \"midwest\", \"uni_abbr\": \"CWRU\"}, {\"uni\": \"Chapman University\", \"type\": \"Nonuse\", \"res\": 19, \"pct\": 0.302, \"state\": \"California\", \"region\": \"pacific\", \"uni_abbr\": \"Chap\"}, {\"uni\": \"Chapman University\", \"type\": \"No\", \"res\": 31, \"pct\": 0.492, \"state\": \"California\", \"region\": \"pacific\", \"uni_abbr\": \"Chap\"}, {\"uni\": \"Chapman University\", \"type\": \"Yes\", \"res\": 13, \"pct\": 0.206, \"state\": \"California\", \"region\": \"pacific\", \"uni_abbr\": \"Chap\"}, {\"uni\": \"Colby College\", \"type\": \"Nonuse\", \"res\": 2, \"pct\": 0.143, \"state\": \"Maine\", \"region\": \"northeast\", \"uni_abbr\": \"CC\"}, {\"uni\": \"Colby College\", \"type\": \"No\", \"res\": 11, \"pct\": 0.786, \"state\": \"Maine\", \"region\": \"northeast\", \"uni_abbr\": \"CC\"}, {\"uni\": \"Colby College\", \"type\": \"Yes\", \"res\": 1, \"pct\": 0.071, \"state\": \"Maine\", \"region\": \"northeast\", \"uni_abbr\": \"CC\"}, {\"uni\": \"College of William and Mary\", \"type\": \"Nonuse\", \"res\": 6, \"pct\": 0.375, \"state\": \"Virginia\", \"region\": \"south\", \"uni_abbr\": \"WAM\"}, {\"uni\": \"College of William and Mary\", \"type\": \"No\", \"res\": 7, \"pct\": 0.438, \"state\": \"Virginia\", \"region\": \"south\", \"uni_abbr\": \"WAM\"}, {\"uni\": \"College of William and Mary\", \"type\": \"Yes\", \"res\": 3, \"pct\": 0.188, \"state\": \"Virginia\", \"region\": \"south\", \"uni_abbr\": \"WAM\"}, {\"uni\": \"Cornell University\", \"type\": \"Nonuse\", \"res\": 51, \"pct\": 0.264, \"state\": \"New York\", \"region\": \"northeast\", \"uni_abbr\": \"CU\"}, {\"uni\": \"Cornell University\", \"type\": \"No\", \"res\": 95, \"pct\": 0.492, \"state\": \"New York\", \"region\": \"northeast\", \"uni_abbr\": \"CU\"}, {\"uni\": \"Cornell University\", \"type\": \"Yes\", \"res\": 47, \"pct\": 0.244, \"state\": \"New York\", \"region\": \"northeast\", \"uni_abbr\": \"CU\"}, {\"uni\": \"Dartmouth College\", \"type\": \"Nonuse\", \"res\": 2, \"pct\": 0.2, \"state\": \"New Hampshire\", \"region\": \"northeast\", \"uni_abbr\": \"DC\"}, {\"uni\": \"Dartmouth College\", \"type\": \"No\", \"res\": 3, \"pct\": 0.3, \"state\": \"New Hampshire\", \"region\": \"northeast\", \"uni_abbr\": \"DC\"}, {\"uni\": \"Dartmouth College\", \"type\": \"Yes\", \"res\": 5, \"pct\": 0.5, \"state\": \"New Hampshire\", \"region\": \"northeast\", \"uni_abbr\": \"DC\"}, {\"uni\": \"Indiana University\", \"type\": \"Nonuse\", \"res\": 5, \"pct\": 0.114, \"state\": \"Indiana\", \"region\": \"midwest\", \"uni_abbr\": \"IU\"}, {\"uni\": \"Indiana University\", \"type\": \"No\", \"res\": 30, \"pct\": 0.682, \"state\": \"Indiana\", \"region\": \"midwest\", \"uni_abbr\": \"IU\"}, {\"uni\": \"Indiana University\", \"type\": \"Yes\", \"res\": 9, \"pct\": 0.205, \"state\": \"Indiana\", \"region\": \"midwest\", \"uni_abbr\": \"IU\"}, {\"uni\": \"Johns Hopkins University\", \"type\": \"Nonuse\", \"res\": 29, \"pct\": 0.21, \"state\": \"Maryland\", \"region\": \"northeast\", \"uni_abbr\": \"JHU\"}, {\"uni\": \"Johns Hopkins University\", \"type\": \"No\", \"res\": 76, \"pct\": 0.551, \"state\": \"Maryland\", \"region\": \"northeast\", \"uni_abbr\": \"JHU\"}, {\"uni\": \"Johns Hopkins University\", \"type\": \"Yes\", \"res\": 33, \"pct\": 0.239, \"state\": \"Maryland\", \"region\": \"northeast\", \"uni_abbr\": \"JHU\"}, {\"uni\": \"Northwestern University\", \"type\": \"Nonuse\", \"res\": 24, \"pct\": 0.2, \"state\": \"Illinois\", \"region\": \"midwest\", \"uni_abbr\": \"NU\"}, {\"uni\": \"Northwestern University\", \"type\": \"No\", \"res\": 65, \"pct\": 0.542, \"state\": \"Illinois\", \"region\": \"midwest\", \"uni_abbr\": \"NU\"}, {\"uni\": \"Northwestern University\", \"type\": \"Yes\", \"res\": 31, \"pct\": 0.258, \"state\": \"Illinois\", \"region\": \"midwest\", \"uni_abbr\": \"NU\"}, {\"uni\": \"Ohio State University\", \"type\": \"Nonuse\", \"res\": 1, \"pct\": 0.053, \"state\": \"Ohio\", \"region\": \"midwest\", \"uni_abbr\": \"OSU\"}, {\"uni\": \"Ohio State University\", \"type\": \"No\", \"res\": 12, \"pct\": 0.632, \"state\": \"Ohio\", \"region\": \"midwest\", \"uni_abbr\": \"OSU\"}, {\"uni\": \"Ohio State University\", \"type\": \"Yes\", \"res\": 6, \"pct\": 0.316, \"state\": \"Ohio\", \"region\": \"midwest\", \"uni_abbr\": \"OSU\"}, {\"uni\": \"Purdue University\", \"type\": \"Nonuse\", \"res\": 8, \"pct\": 0.308, \"state\": \"Indiana\", \"region\": \"midwest\", \"uni_abbr\": \"PU\"}, {\"uni\": \"Purdue University\", \"type\": \"No\", \"res\": 13, \"pct\": 0.5, \"state\": \"Indiana\", \"region\": \"midwest\", \"uni_abbr\": \"PU\"}, {\"uni\": \"Purdue University\", \"type\": \"Yes\", \"res\": 5, \"pct\": 0.192, \"state\": \"Indiana\", \"region\": \"midwest\", \"uni_abbr\": \"PU\"}, {\"uni\": \"San Diego State University\", \"type\": \"Nonuse\", \"res\": 6, \"pct\": 0.231, \"state\": \"California\", \"region\": \"pacific\", \"uni_abbr\": \"SDSU\"}, {\"uni\": \"San Diego State University\", \"type\": \"No\", \"res\": 15, \"pct\": 0.577, \"state\": \"California\", \"region\": \"pacific\", \"uni_abbr\": \"SDSU\"}, {\"uni\": \"San Diego State University\", \"type\": \"Yes\", \"res\": 5, \"pct\": 0.192, \"state\": \"California\", \"region\": \"pacific\", \"uni_abbr\": \"SDSU\"}, {\"uni\": \"Stanford University\", \"type\": \"Nonuse\", \"res\": 37, \"pct\": 0.343, \"state\": \"California\", \"region\": \"pacific\", \"uni_abbr\": \"SU\"}, {\"uni\": \"Stanford University\", \"type\": \"No\", \"res\": 58, \"pct\": 0.537, \"state\": \"California\", \"region\": \"pacific\", \"uni_abbr\": \"SU\"}, {\"uni\": \"Stanford University\", \"type\": \"Yes\", \"res\": 13, \"pct\": 0.12, \"state\": \"California\", \"region\": \"pacific\", \"uni_abbr\": \"SU\"}, {\"uni\": \"Texas A&M University\", \"type\": \"Nonuse\", \"res\": 12, \"pct\": 0.222, \"state\": \"Texas\", \"region\": \"mountain\", \"uni_abbr\": \"TAU\"}, {\"uni\": \"Texas A&M University\", \"type\": \"No\", \"res\": 29, \"pct\": 0.537, \"state\": \"Texas\", \"region\": \"mountain\", \"uni_abbr\": \"TAU\"}, {\"uni\": \"Texas A&M University\", \"type\": \"Yes\", \"res\": 13, \"pct\": 0.241, \"state\": \"Texas\", \"region\": \"mountain\", \"uni_abbr\": \"TAU\"}, {\"uni\": \"Texas Christian University\", \"type\": \"Nonuse\", \"res\": 10, \"pct\": 0.385, \"state\": \"Texas\", \"region\": \"mountain\", \"uni_abbr\": \"TCU\"}, {\"uni\": \"Texas Christian University\", \"type\": \"No\", \"res\": 8, \"pct\": 0.308, \"state\": \"Texas\", \"region\": \"mountain\", \"uni_abbr\": \"TCU\"}, {\"uni\": \"Texas Christian University\", \"type\": \"Yes\", \"res\": 8, \"pct\": 0.308, \"state\": \"Texas\", \"region\": \"mountain\", \"uni_abbr\": \"TCU\"}, {\"uni\": \"Texas Tech University\", \"type\": \"Nonuse\", \"res\": 5, \"pct\": 0.385, \"state\": \"Texas\", \"region\": \"mountain\", \"uni_abbr\": \"TTU\"}, {\"uni\": \"Texas Tech University\", \"type\": \"No\", \"res\": 5, \"pct\": 0.385, \"state\": \"Texas\", \"region\": \"mountain\", \"uni_abbr\": \"TTU\"}, {\"uni\": \"Texas Tech University\", \"type\": \"Yes\", \"res\": 3, \"pct\": 0.231, \"state\": \"Texas\", \"region\": \"mountain\", \"uni_abbr\": \"TTU\"}, {\"uni\": \"UMass Amherst\", \"type\": \"Nonuse\", \"res\": 3, \"pct\": 0.25, \"state\": \"Massachusetts\", \"region\": \"northeast\", \"uni_abbr\": \"Amherst\"}, {\"uni\": \"UMass Amherst\", \"type\": \"No\", \"res\": 6, \"pct\": 0.5, \"state\": \"Massachusetts\", \"region\": \"northeast\", \"uni_abbr\": \"Amherst\"}, {\"uni\": \"UMass Amherst\", \"type\": \"Yes\", \"res\": 3, \"pct\": 0.25, \"state\": \"Massachusetts\", \"region\": \"northeast\", \"uni_abbr\": \"Amherst\"}, {\"uni\": \"University of Alabama\", \"type\": \"Nonuse\", \"res\": 2, \"pct\": 0.133, \"state\": \"Alabama\", \"region\": \"south\", \"uni_abbr\": \"UOAL\"}, {\"uni\": \"University of Alabama\", \"type\": \"No\", \"res\": 11, \"pct\": 0.733, \"state\": \"Alabama\", \"region\": \"south\", \"uni_abbr\": \"UOAL\"}, {\"uni\": \"University of Alabama\", \"type\": \"Yes\", \"res\": 2, \"pct\": 0.133, \"state\": \"Alabama\", \"region\": \"south\", \"uni_abbr\": \"UOAL\"}, {\"uni\": \"University of Arizona\", \"type\": \"Nonuse\", \"res\": 3, \"pct\": 0.273, \"state\": \"Arizona\", \"region\": \"pacific\", \"uni_abbr\": \"UOAR\"}, {\"uni\": \"University of Arizona\", \"type\": \"No\", \"res\": 4, \"pct\": 0.364, \"state\": \"Arizona\", \"region\": \"pacific\", \"uni_abbr\": \"UOAR\"}, {\"uni\": \"University of Arizona\", \"type\": \"Yes\", \"res\": 4, \"pct\": 0.364, \"state\": \"Arizona\", \"region\": \"pacific\", \"uni_abbr\": \"UOAR\"}, {\"uni\": \"University of Arkansas\", \"type\": \"Nonuse\", \"res\": 19, \"pct\": 0.288, \"state\": \"Arkansas\", \"region\": \"south\", \"uni_abbr\": \"UOAK\"}, {\"uni\": \"University of Arkansas\", \"type\": \"No\", \"res\": 35, \"pct\": 0.53, \"state\": \"Arkansas\", \"region\": \"south\", \"uni_abbr\": \"UOAK\"}, {\"uni\": \"University of Arkansas\", \"type\": \"Yes\", \"res\": 12, \"pct\": 0.182, \"state\": \"Arkansas\", \"region\": \"south\", \"uni_abbr\": \"UOAK\"}, {\"uni\": \"University of California, Berkeley\", \"type\": \"Nonuse\", \"res\": 19, \"pct\": 0.209, \"state\": \"California\", \"region\": \"pacific\", \"uni_abbr\": \"UOCB\"}, {\"uni\": \"University of California, Berkeley\", \"type\": \"No\", \"res\": 47, \"pct\": 0.516, \"state\": \"California\", \"region\": \"pacific\", \"uni_abbr\": \"UOCB\"}, {\"uni\": \"University of California, Berkeley\", \"type\": \"Yes\", \"res\": 25, \"pct\": 0.275, \"state\": \"California\", \"region\": \"pacific\", \"uni_abbr\": \"UOCB\"}, {\"uni\": \"University of California, Davis\", \"type\": \"Nonuse\", \"res\": 6, \"pct\": 0.353, \"state\": \"California\", \"region\": \"pacific\", \"uni_abbr\": \"UOCD\"}, {\"uni\": \"University of California, Davis\", \"type\": \"No\", \"res\": 8, \"pct\": 0.471, \"state\": \"California\", \"region\": \"pacific\", \"uni_abbr\": \"UOCD\"}, {\"uni\": \"University of California, Davis\", \"type\": \"Yes\", \"res\": 3, \"pct\": 0.176, \"state\": \"California\", \"region\": \"pacific\", \"uni_abbr\": \"UOCD\"}, {\"uni\": \"University of California, Los Angeles\", \"type\": \"Nonuse\", \"res\": 5, \"pct\": 0.385, \"state\": \"California\", \"region\": \"pacific\", \"uni_abbr\": \"UOCLA\"}, {\"uni\": \"University of California, Los Angeles\", \"type\": \"No\", \"res\": 7, \"pct\": 0.538, \"state\": \"California\", \"region\": \"pacific\", \"uni_abbr\": \"UOCLA\"}, {\"uni\": \"University of California, Los Angeles\", \"type\": \"Yes\", \"res\": 1, \"pct\": 0.077, \"state\": \"California\", \"region\": \"pacific\", \"uni_abbr\": \"UOCLA\"}, {\"uni\": \"University of California, Santa Barbara\", \"type\": \"Nonuse\", \"res\": 17, \"pct\": 0.227, \"state\": \"California\", \"region\": \"pacific\", \"uni_abbr\": \"UOCSB\"}, {\"uni\": \"University of California, Santa Barbara\", \"type\": \"No\", \"res\": 34, \"pct\": 0.453, \"state\": \"California\", \"region\": \"pacific\", \"uni_abbr\": \"UOCSB\"}, {\"uni\": \"University of California, Santa Barbara\", \"type\": \"Yes\", \"res\": 24, \"pct\": 0.32, \"state\": \"California\", \"region\": \"pacific\", \"uni_abbr\": \"UOCSB\"}, {\"uni\": \"University of Georgia\", \"type\": \"Nonuse\", \"res\": 1, \"pct\": 0.091, \"state\": \"Georgia\", \"region\": \"south\", \"uni_abbr\": \"UOG\"}, {\"uni\": \"University of Georgia\", \"type\": \"No\", \"res\": 9, \"pct\": 0.818, \"state\": \"Georgia\", \"region\": \"south\", \"uni_abbr\": \"UOG\"}, {\"uni\": \"University of Georgia\", \"type\": \"Yes\", \"res\": 1, \"pct\": 0.091, \"state\": \"Georgia\", \"region\": \"south\", \"uni_abbr\": \"UOG\"}, {\"uni\": \"University of Illinois\", \"type\": \"Nonuse\", \"res\": 8, \"pct\": 0.17, \"state\": \"Illinois\", \"region\": \"midwest\", \"uni_abbr\": \"UOI\"}, {\"uni\": \"University of Illinois\", \"type\": \"No\", \"res\": 29, \"pct\": 0.617, \"state\": \"Illinois\", \"region\": \"midwest\", \"uni_abbr\": \"UOI\"}, {\"uni\": \"University of Illinois\", \"type\": \"Yes\", \"res\": 10, \"pct\": 0.213, \"state\": \"Illinois\", \"region\": \"midwest\", \"uni_abbr\": \"UOI\"}, {\"uni\": \"University of Kansas\", \"type\": \"Nonuse\", \"res\": 2, \"pct\": 0.2, \"state\": \"Kansas\", \"region\": \"midwest\", \"uni_abbr\": \"UOK\"}, {\"uni\": \"University of Kansas\", \"type\": \"No\", \"res\": 5, \"pct\": 0.5, \"state\": \"Kansas\", \"region\": \"midwest\", \"uni_abbr\": \"UOK\"}, {\"uni\": \"University of Kansas\", \"type\": \"Yes\", \"res\": 3, \"pct\": 0.3, \"state\": \"Kansas\", \"region\": \"midwest\", \"uni_abbr\": \"UOK\"}, {\"uni\": \"University of Michigan\", \"type\": \"Nonuse\", \"res\": 23, \"pct\": 0.267, \"state\": \"Michigan\", \"region\": \"midwest\", \"uni_abbr\": \"Mich\"}, {\"uni\": \"University of Michigan\", \"type\": \"No\", \"res\": 49, \"pct\": 0.57, \"state\": \"Michigan\", \"region\": \"midwest\", \"uni_abbr\": \"Mich\"}, {\"uni\": \"University of Michigan\", \"type\": \"Yes\", \"res\": 14, \"pct\": 0.163, \"state\": \"Michigan\", \"region\": \"midwest\", \"uni_abbr\": \"Mich\"}, {\"uni\": \"University of Missouri\", \"type\": \"Nonuse\", \"res\": 8, \"pct\": 0.267, \"state\": \"Missouri\", \"region\": \"midwest\", \"uni_abbr\": \"Miss\"}, {\"uni\": \"University of Missouri\", \"type\": \"No\", \"res\": 15, \"pct\": 0.5, \"state\": \"Missouri\", \"region\": \"midwest\", \"uni_abbr\": \"Miss\"}, {\"uni\": \"University of Missouri\", \"type\": \"Yes\", \"res\": 7, \"pct\": 0.233, \"state\": \"Missouri\", \"region\": \"midwest\", \"uni_abbr\": \"Miss\"}, {\"uni\": \"University of North Carolina\", \"type\": \"Nonuse\", \"res\": 3, \"pct\": 0.25, \"state\": \"North Carolina\", \"region\": \"south\", \"uni_abbr\": \"UONC\"}, {\"uni\": \"University of North Carolina\", \"type\": \"No\", \"res\": 8, \"pct\": 0.667, \"state\": \"North Carolina\", \"region\": \"south\", \"uni_abbr\": \"UONC\"}, {\"uni\": \"University of North Carolina\", \"type\": \"Yes\", \"res\": 1, \"pct\": 0.083, \"state\": \"North Carolina\", \"region\": \"south\", \"uni_abbr\": \"UONC\"}, {\"uni\": \"University of Pennsylvania\", \"type\": \"Nonuse\", \"res\": 24, \"pct\": 0.222, \"state\": \"Pennsylvania\", \"region\": \"northeast\", \"uni_abbr\": \"UOP\"}, {\"uni\": \"University of Pennsylvania\", \"type\": \"No\", \"res\": 60, \"pct\": 0.556, \"state\": \"Pennsylvania\", \"region\": \"northeast\", \"uni_abbr\": \"UOP\"}, {\"uni\": \"University of Pennsylvania\", \"type\": \"Yes\", \"res\": 24, \"pct\": 0.222, \"state\": \"Pennsylvania\", \"region\": \"northeast\", \"uni_abbr\": \"UOP\"}, {\"uni\": \"University of Richmond\", \"type\": \"Nonuse\", \"res\": 7, \"pct\": 0.389, \"state\": \"Virginia\", \"region\": \"south\", \"uni_abbr\": \"UOR\"}, {\"uni\": \"University of Richmond\", \"type\": \"No\", \"res\": 9, \"pct\": 0.5, \"state\": \"Virginia\", \"region\": \"south\", \"uni_abbr\": \"UOR\"}, {\"uni\": \"University of Richmond\", \"type\": \"Yes\", \"res\": 2, \"pct\": 0.111, \"state\": \"Virginia\", \"region\": \"south\", \"uni_abbr\": \"UOR\"}, {\"uni\": \"University of Southern California\", \"type\": \"Nonuse\", \"res\": 2, \"pct\": 0.2, \"state\": \"California\", \"region\": \"pacific\", \"uni_abbr\": \"UOSC\"}, {\"uni\": \"University of Southern California\", \"type\": \"No\", \"res\": 7, \"pct\": 0.7, \"state\": \"California\", \"region\": \"pacific\", \"uni_abbr\": \"UOSC\"}, {\"uni\": \"University of Southern California\", \"type\": \"Yes\", \"res\": 1, \"pct\": 0.1, \"state\": \"California\", \"region\": \"pacific\", \"uni_abbr\": \"UOSC\"}, {\"uni\": \"University of Texas\", \"type\": \"Nonuse\", \"res\": 26, \"pct\": 0.356, \"state\": \"Texas\", \"region\": \"mountain\", \"uni_abbr\": \"UOT\"}, {\"uni\": \"University of Texas\", \"type\": \"No\", \"res\": 35, \"pct\": 0.479, \"state\": \"Texas\", \"region\": \"mountain\", \"uni_abbr\": \"UOT\"}, {\"uni\": \"University of Texas\", \"type\": \"Yes\", \"res\": 12, \"pct\": 0.164, \"state\": \"Texas\", \"region\": \"mountain\", \"uni_abbr\": \"UOT\"}, {\"uni\": \"University of Virginia\", \"type\": \"Nonuse\", \"res\": 8, \"pct\": 0.444, \"state\": \"Virginia\", \"region\": \"south\", \"uni_abbr\": \"UOV\"}, {\"uni\": \"University of Virginia\", \"type\": \"No\", \"res\": 7, \"pct\": 0.389, \"state\": \"Virginia\", \"region\": \"south\", \"uni_abbr\": \"UOV\"}, {\"uni\": \"University of Virginia\", \"type\": \"Yes\", \"res\": 3, \"pct\": 0.167, \"state\": \"Virginia\", \"region\": \"south\", \"uni_abbr\": \"UOV\"}, {\"uni\": \"University of Wisconsin-Madison\", \"type\": \"Nonuse\", \"res\": 21, \"pct\": 0.167, \"state\": \"Wisconsin\", \"region\": \"midwest\", \"uni_abbr\": \"UOW\"}, {\"uni\": \"University of Wisconsin-Madison\", \"type\": \"No\", \"res\": 71, \"pct\": 0.563, \"state\": \"Wisconsin\", \"region\": \"midwest\", \"uni_abbr\": \"UOW\"}, {\"uni\": \"University of Wisconsin-Madison\", \"type\": \"Yes\", \"res\": 34, \"pct\": 0.27, \"state\": \"Wisconsin\", \"region\": \"midwest\", \"uni_abbr\": \"UOW\"}, {\"uni\": \"Vanderbilt University\", \"type\": \"Nonuse\", \"res\": 12, \"pct\": 0.122, \"state\": \"Tennessee\", \"region\": \"south\", \"uni_abbr\": \"VU\"}, {\"uni\": \"Vanderbilt University\", \"type\": \"No\", \"res\": 63, \"pct\": 0.643, \"state\": \"Tennessee\", \"region\": \"south\", \"uni_abbr\": \"VU\"}, {\"uni\": \"Vanderbilt University\", \"type\": \"Yes\", \"res\": 23, \"pct\": 0.235, \"state\": \"Tennessee\", \"region\": \"south\", \"uni_abbr\": \"VU\"}, {\"uni\": \"Washington State University\", \"type\": \"Nonuse\", \"res\": 6, \"pct\": 0.231, \"state\": \"Washington\", \"region\": \"pacific\", \"uni_abbr\": \"WSU\"}, {\"uni\": \"Washington State University\", \"type\": \"No\", \"res\": 12, \"pct\": 0.462, \"state\": \"Washington\", \"region\": \"pacific\", \"uni_abbr\": \"WSU\"}, {\"uni\": \"Washington State University\", \"type\": \"Yes\", \"res\": 8, \"pct\": 0.308, \"state\": \"Washington\", \"region\": \"pacific\", \"uni_abbr\": \"WSU\"}]}}, {\"mode\": \"vega-lite\"});\n",
       "</script>"
      ],
      "text/plain": [
       "alt.Chart(...)"
      ]
     },
     "execution_count": 31,
     "metadata": {},
     "output_type": "execute_result"
    }
   ],
   "source": [
    "chart.mark_bar().encode(\n",
    "    alt.X('uni_abbr:N'),\n",
    "    alt.Y('res', stack=\"normalize\"),\n",
    "    alt.Color('type', scale=alt.Scale(domain=domain, range=range)),\n",
    "    alt.Tooltip(['uni', 'pct'])\n",
    ").interactive()"
   ]
  },
  {
   "cell_type": "markdown",
   "id": "2c66186b-3cc5-4e5e-89ed-3d09029dca2b",
   "metadata": {},
   "source": [
    "One insight that is apparent in this chart is that **Dartmouth College** has the highest proportion of students who have met up with something from Tinder (i.e., Yes response).\n",
    "Let's focus in on the institutions in the Southern states.\n",
    "Using the filter transform, visualize the total number of respondents for institution in the south and stack by their response type"
   ]
  },
  {
   "cell_type": "code",
   "execution_count": 33,
   "id": "6d184dc6-3252-4609-bbb0-776b0ffbbb31",
   "metadata": {},
   "outputs": [
    {
     "data": {
      "text/html": [
       "\n",
       "<div id=\"altair-viz-9a2039efb86043839d1ae3031c53a698\"></div>\n",
       "<script type=\"text/javascript\">\n",
       "  var VEGA_DEBUG = (typeof VEGA_DEBUG == \"undefined\") ? {} : VEGA_DEBUG;\n",
       "  (function(spec, embedOpt){\n",
       "    let outputDiv = document.currentScript.previousElementSibling;\n",
       "    if (outputDiv.id !== \"altair-viz-9a2039efb86043839d1ae3031c53a698\") {\n",
       "      outputDiv = document.getElementById(\"altair-viz-9a2039efb86043839d1ae3031c53a698\");\n",
       "    }\n",
       "    const paths = {\n",
       "      \"vega\": \"https://cdn.jsdelivr.net/npm//vega@5?noext\",\n",
       "      \"vega-lib\": \"https://cdn.jsdelivr.net/npm//vega-lib?noext\",\n",
       "      \"vega-lite\": \"https://cdn.jsdelivr.net/npm//vega-lite@4.17.0?noext\",\n",
       "      \"vega-embed\": \"https://cdn.jsdelivr.net/npm//vega-embed@6?noext\",\n",
       "    };\n",
       "\n",
       "    function maybeLoadScript(lib, version) {\n",
       "      var key = `${lib.replace(\"-\", \"\")}_version`;\n",
       "      return (VEGA_DEBUG[key] == version) ?\n",
       "        Promise.resolve(paths[lib]) :\n",
       "        new Promise(function(resolve, reject) {\n",
       "          var s = document.createElement('script');\n",
       "          document.getElementsByTagName(\"head\")[0].appendChild(s);\n",
       "          s.async = true;\n",
       "          s.onload = () => {\n",
       "            VEGA_DEBUG[key] = version;\n",
       "            return resolve(paths[lib]);\n",
       "          };\n",
       "          s.onerror = () => reject(`Error loading script: ${paths[lib]}`);\n",
       "          s.src = paths[lib];\n",
       "        });\n",
       "    }\n",
       "\n",
       "    function showError(err) {\n",
       "      outputDiv.innerHTML = `<div class=\"error\" style=\"color:red;\">${err}</div>`;\n",
       "      throw err;\n",
       "    }\n",
       "\n",
       "    function displayChart(vegaEmbed) {\n",
       "      vegaEmbed(outputDiv, spec, embedOpt)\n",
       "        .catch(err => showError(`Javascript Error: ${err.message}<br>This usually means there's a typo in your chart specification. See the javascript console for the full traceback.`));\n",
       "    }\n",
       "\n",
       "    if(typeof define === \"function\" && define.amd) {\n",
       "      requirejs.config({paths});\n",
       "      require([\"vega-embed\"], displayChart, err => showError(`Error loading script: ${err.message}`));\n",
       "    } else {\n",
       "      maybeLoadScript(\"vega\", \"5\")\n",
       "        .then(() => maybeLoadScript(\"vega-lite\", \"4.17.0\"))\n",
       "        .then(() => maybeLoadScript(\"vega-embed\", \"6\"))\n",
       "        .catch(showError)\n",
       "        .then(() => displayChart(vegaEmbed));\n",
       "    }\n",
       "  })({\"config\": {\"view\": {\"continuousWidth\": 400, \"continuousHeight\": 300}}, \"data\": {\"name\": \"data-625a034231e7cf75ff53895cdf90a07a\"}, \"mark\": \"bar\", \"encoding\": {\"color\": {\"field\": \"type\", \"scale\": {\"domain\": [\"No\", \"Nonuse\", \"Yes\"], \"range\": [\"#66c2a5\", \"#fc8d62\", \"#8da0cb\"]}, \"type\": \"nominal\"}, \"tooltip\": [{\"field\": \"uni\", \"type\": \"nominal\"}, {\"field\": \"pct\", \"type\": \"quantitative\"}], \"x\": {\"field\": \"uni_abbr\", \"sort\": \"-y\", \"type\": \"nominal\"}, \"y\": {\"aggregate\": \"sum\", \"field\": \"res\", \"type\": \"quantitative\"}}, \"selection\": {\"selector014\": {\"type\": \"interval\", \"bind\": \"scales\", \"encodings\": [\"x\", \"y\"]}}, \"transform\": [{\"filter\": \"(datum.region === 'south')\"}], \"$schema\": \"https://vega.github.io/schema/vega-lite/v4.17.0.json\", \"datasets\": {\"data-625a034231e7cf75ff53895cdf90a07a\": [{\"uni\": \"Appalachian State University\", \"type\": \"Nonuse\", \"res\": 46, \"pct\": 0.4, \"state\": \"North Carolina\", \"region\": \"south\", \"uni_abbr\": \"ASU\"}, {\"uni\": \"Appalachian State University\", \"type\": \"No\", \"res\": 53, \"pct\": 0.461, \"state\": \"North Carolina\", \"region\": \"south\", \"uni_abbr\": \"ASU\"}, {\"uni\": \"Appalachian State University\", \"type\": \"Yes\", \"res\": 16, \"pct\": 0.139, \"state\": \"North Carolina\", \"region\": \"south\", \"uni_abbr\": \"ASU\"}, {\"uni\": \"Butler University\", \"type\": \"Nonuse\", \"res\": 17, \"pct\": 0.25, \"state\": \"Indiana\", \"region\": \"midwest\", \"uni_abbr\": \"BU\"}, {\"uni\": \"Butler University\", \"type\": \"No\", \"res\": 44, \"pct\": 0.647, \"state\": \"Indiana\", \"region\": \"midwest\", \"uni_abbr\": \"BU\"}, {\"uni\": \"Butler University\", \"type\": \"Yes\", \"res\": 7, \"pct\": 0.103, \"state\": \"Indiana\", \"region\": \"midwest\", \"uni_abbr\": \"BU\"}, {\"uni\": \"Cal Poly San Luis Obispo\", \"type\": \"Nonuse\", \"res\": 7, \"pct\": 0.28, \"state\": \"California\", \"region\": \"pacific\", \"uni_abbr\": \"CPSLO\"}, {\"uni\": \"Cal Poly San Luis Obispo\", \"type\": \"No\", \"res\": 10, \"pct\": 0.4, \"state\": \"California\", \"region\": \"pacific\", \"uni_abbr\": \"CPSLO\"}, {\"uni\": \"Cal Poly San Luis Obispo\", \"type\": \"Yes\", \"res\": 8, \"pct\": 0.32, \"state\": \"California\", \"region\": \"pacific\", \"uni_abbr\": \"CPSLO\"}, {\"uni\": \"Case Western Reserve University\", \"type\": \"Nonuse\", \"res\": 12, \"pct\": 0.387, \"state\": \"Ohio\", \"region\": \"midwest\", \"uni_abbr\": \"CWRU\"}, {\"uni\": \"Case Western Reserve University\", \"type\": \"No\", \"res\": 12, \"pct\": 0.387, \"state\": \"Ohio\", \"region\": \"midwest\", \"uni_abbr\": \"CWRU\"}, {\"uni\": \"Case Western Reserve University\", \"type\": \"Yes\", \"res\": 7, \"pct\": 0.226, \"state\": \"Ohio\", \"region\": \"midwest\", \"uni_abbr\": \"CWRU\"}, {\"uni\": \"Chapman University\", \"type\": \"Nonuse\", \"res\": 19, \"pct\": 0.302, \"state\": \"California\", \"region\": \"pacific\", \"uni_abbr\": \"Chap\"}, {\"uni\": \"Chapman University\", \"type\": \"No\", \"res\": 31, \"pct\": 0.492, \"state\": \"California\", \"region\": \"pacific\", \"uni_abbr\": \"Chap\"}, {\"uni\": \"Chapman University\", \"type\": \"Yes\", \"res\": 13, \"pct\": 0.206, \"state\": \"California\", \"region\": \"pacific\", \"uni_abbr\": \"Chap\"}, {\"uni\": \"Colby College\", \"type\": \"Nonuse\", \"res\": 2, \"pct\": 0.143, \"state\": \"Maine\", \"region\": \"northeast\", \"uni_abbr\": \"CC\"}, {\"uni\": \"Colby College\", \"type\": \"No\", \"res\": 11, \"pct\": 0.786, \"state\": \"Maine\", \"region\": \"northeast\", \"uni_abbr\": \"CC\"}, {\"uni\": \"Colby College\", \"type\": \"Yes\", \"res\": 1, \"pct\": 0.071, \"state\": \"Maine\", \"region\": \"northeast\", \"uni_abbr\": \"CC\"}, {\"uni\": \"College of William and Mary\", \"type\": \"Nonuse\", \"res\": 6, \"pct\": 0.375, \"state\": \"Virginia\", \"region\": \"south\", \"uni_abbr\": \"WAM\"}, {\"uni\": \"College of William and Mary\", \"type\": \"No\", \"res\": 7, \"pct\": 0.438, \"state\": \"Virginia\", \"region\": \"south\", \"uni_abbr\": \"WAM\"}, {\"uni\": \"College of William and Mary\", \"type\": \"Yes\", \"res\": 3, \"pct\": 0.188, \"state\": \"Virginia\", \"region\": \"south\", \"uni_abbr\": \"WAM\"}, {\"uni\": \"Cornell University\", \"type\": \"Nonuse\", \"res\": 51, \"pct\": 0.264, \"state\": \"New York\", \"region\": \"northeast\", \"uni_abbr\": \"CU\"}, {\"uni\": \"Cornell University\", \"type\": \"No\", \"res\": 95, \"pct\": 0.492, \"state\": \"New York\", \"region\": \"northeast\", \"uni_abbr\": \"CU\"}, {\"uni\": \"Cornell University\", \"type\": \"Yes\", \"res\": 47, \"pct\": 0.244, \"state\": \"New York\", \"region\": \"northeast\", \"uni_abbr\": \"CU\"}, {\"uni\": \"Dartmouth College\", \"type\": \"Nonuse\", \"res\": 2, \"pct\": 0.2, \"state\": \"New Hampshire\", \"region\": \"northeast\", \"uni_abbr\": \"DC\"}, {\"uni\": \"Dartmouth College\", \"type\": \"No\", \"res\": 3, \"pct\": 0.3, \"state\": \"New Hampshire\", \"region\": \"northeast\", \"uni_abbr\": \"DC\"}, {\"uni\": \"Dartmouth College\", \"type\": \"Yes\", \"res\": 5, \"pct\": 0.5, \"state\": \"New Hampshire\", \"region\": \"northeast\", \"uni_abbr\": \"DC\"}, {\"uni\": \"Indiana University\", \"type\": \"Nonuse\", \"res\": 5, \"pct\": 0.114, \"state\": \"Indiana\", \"region\": \"midwest\", \"uni_abbr\": \"IU\"}, {\"uni\": \"Indiana University\", \"type\": \"No\", \"res\": 30, \"pct\": 0.682, \"state\": \"Indiana\", \"region\": \"midwest\", \"uni_abbr\": \"IU\"}, {\"uni\": \"Indiana University\", \"type\": \"Yes\", \"res\": 9, \"pct\": 0.205, \"state\": \"Indiana\", \"region\": \"midwest\", \"uni_abbr\": \"IU\"}, {\"uni\": \"Johns Hopkins University\", \"type\": \"Nonuse\", \"res\": 29, \"pct\": 0.21, \"state\": \"Maryland\", \"region\": \"northeast\", \"uni_abbr\": \"JHU\"}, {\"uni\": \"Johns Hopkins University\", \"type\": \"No\", \"res\": 76, \"pct\": 0.551, \"state\": \"Maryland\", \"region\": \"northeast\", \"uni_abbr\": \"JHU\"}, {\"uni\": \"Johns Hopkins University\", \"type\": \"Yes\", \"res\": 33, \"pct\": 0.239, \"state\": \"Maryland\", \"region\": \"northeast\", \"uni_abbr\": \"JHU\"}, {\"uni\": \"Northwestern University\", \"type\": \"Nonuse\", \"res\": 24, \"pct\": 0.2, \"state\": \"Illinois\", \"region\": \"midwest\", \"uni_abbr\": \"NU\"}, {\"uni\": \"Northwestern University\", \"type\": \"No\", \"res\": 65, \"pct\": 0.542, \"state\": \"Illinois\", \"region\": \"midwest\", \"uni_abbr\": \"NU\"}, {\"uni\": \"Northwestern University\", \"type\": \"Yes\", \"res\": 31, \"pct\": 0.258, \"state\": \"Illinois\", \"region\": \"midwest\", \"uni_abbr\": \"NU\"}, {\"uni\": \"Ohio State University\", \"type\": \"Nonuse\", \"res\": 1, \"pct\": 0.053, \"state\": \"Ohio\", \"region\": \"midwest\", \"uni_abbr\": \"OSU\"}, {\"uni\": \"Ohio State University\", \"type\": \"No\", \"res\": 12, \"pct\": 0.632, \"state\": \"Ohio\", \"region\": \"midwest\", \"uni_abbr\": \"OSU\"}, {\"uni\": \"Ohio State University\", \"type\": \"Yes\", \"res\": 6, \"pct\": 0.316, \"state\": \"Ohio\", \"region\": \"midwest\", \"uni_abbr\": \"OSU\"}, {\"uni\": \"Purdue University\", \"type\": \"Nonuse\", \"res\": 8, \"pct\": 0.308, \"state\": \"Indiana\", \"region\": \"midwest\", \"uni_abbr\": \"PU\"}, {\"uni\": \"Purdue University\", \"type\": \"No\", \"res\": 13, \"pct\": 0.5, \"state\": \"Indiana\", \"region\": \"midwest\", \"uni_abbr\": \"PU\"}, {\"uni\": \"Purdue University\", \"type\": \"Yes\", \"res\": 5, \"pct\": 0.192, \"state\": \"Indiana\", \"region\": \"midwest\", \"uni_abbr\": \"PU\"}, {\"uni\": \"San Diego State University\", \"type\": \"Nonuse\", \"res\": 6, \"pct\": 0.231, \"state\": \"California\", \"region\": \"pacific\", \"uni_abbr\": \"SDSU\"}, {\"uni\": \"San Diego State University\", \"type\": \"No\", \"res\": 15, \"pct\": 0.577, \"state\": \"California\", \"region\": \"pacific\", \"uni_abbr\": \"SDSU\"}, {\"uni\": \"San Diego State University\", \"type\": \"Yes\", \"res\": 5, \"pct\": 0.192, \"state\": \"California\", \"region\": \"pacific\", \"uni_abbr\": \"SDSU\"}, {\"uni\": \"Stanford University\", \"type\": \"Nonuse\", \"res\": 37, \"pct\": 0.343, \"state\": \"California\", \"region\": \"pacific\", \"uni_abbr\": \"SU\"}, {\"uni\": \"Stanford University\", \"type\": \"No\", \"res\": 58, \"pct\": 0.537, \"state\": \"California\", \"region\": \"pacific\", \"uni_abbr\": \"SU\"}, {\"uni\": \"Stanford University\", \"type\": \"Yes\", \"res\": 13, \"pct\": 0.12, \"state\": \"California\", \"region\": \"pacific\", \"uni_abbr\": \"SU\"}, {\"uni\": \"Texas A&M University\", \"type\": \"Nonuse\", \"res\": 12, \"pct\": 0.222, \"state\": \"Texas\", \"region\": \"mountain\", \"uni_abbr\": \"TAU\"}, {\"uni\": \"Texas A&M University\", \"type\": \"No\", \"res\": 29, \"pct\": 0.537, \"state\": \"Texas\", \"region\": \"mountain\", \"uni_abbr\": \"TAU\"}, {\"uni\": \"Texas A&M University\", \"type\": \"Yes\", \"res\": 13, \"pct\": 0.241, \"state\": \"Texas\", \"region\": \"mountain\", \"uni_abbr\": \"TAU\"}, {\"uni\": \"Texas Christian University\", \"type\": \"Nonuse\", \"res\": 10, \"pct\": 0.385, \"state\": \"Texas\", \"region\": \"mountain\", \"uni_abbr\": \"TCU\"}, {\"uni\": \"Texas Christian University\", \"type\": \"No\", \"res\": 8, \"pct\": 0.308, \"state\": \"Texas\", \"region\": \"mountain\", \"uni_abbr\": \"TCU\"}, {\"uni\": \"Texas Christian University\", \"type\": \"Yes\", \"res\": 8, \"pct\": 0.308, \"state\": \"Texas\", \"region\": \"mountain\", \"uni_abbr\": \"TCU\"}, {\"uni\": \"Texas Tech University\", \"type\": \"Nonuse\", \"res\": 5, \"pct\": 0.385, \"state\": \"Texas\", \"region\": \"mountain\", \"uni_abbr\": \"TTU\"}, {\"uni\": \"Texas Tech University\", \"type\": \"No\", \"res\": 5, \"pct\": 0.385, \"state\": \"Texas\", \"region\": \"mountain\", \"uni_abbr\": \"TTU\"}, {\"uni\": \"Texas Tech University\", \"type\": \"Yes\", \"res\": 3, \"pct\": 0.231, \"state\": \"Texas\", \"region\": \"mountain\", \"uni_abbr\": \"TTU\"}, {\"uni\": \"UMass Amherst\", \"type\": \"Nonuse\", \"res\": 3, \"pct\": 0.25, \"state\": \"Massachusetts\", \"region\": \"northeast\", \"uni_abbr\": \"Amherst\"}, {\"uni\": \"UMass Amherst\", \"type\": \"No\", \"res\": 6, \"pct\": 0.5, \"state\": \"Massachusetts\", \"region\": \"northeast\", \"uni_abbr\": \"Amherst\"}, {\"uni\": \"UMass Amherst\", \"type\": \"Yes\", \"res\": 3, \"pct\": 0.25, \"state\": \"Massachusetts\", \"region\": \"northeast\", \"uni_abbr\": \"Amherst\"}, {\"uni\": \"University of Alabama\", \"type\": \"Nonuse\", \"res\": 2, \"pct\": 0.133, \"state\": \"Alabama\", \"region\": \"south\", \"uni_abbr\": \"UOAL\"}, {\"uni\": \"University of Alabama\", \"type\": \"No\", \"res\": 11, \"pct\": 0.733, \"state\": \"Alabama\", \"region\": \"south\", \"uni_abbr\": \"UOAL\"}, {\"uni\": \"University of Alabama\", \"type\": \"Yes\", \"res\": 2, \"pct\": 0.133, \"state\": \"Alabama\", \"region\": \"south\", \"uni_abbr\": \"UOAL\"}, {\"uni\": \"University of Arizona\", \"type\": \"Nonuse\", \"res\": 3, \"pct\": 0.273, \"state\": \"Arizona\", \"region\": \"pacific\", \"uni_abbr\": \"UOAR\"}, {\"uni\": \"University of Arizona\", \"type\": \"No\", \"res\": 4, \"pct\": 0.364, \"state\": \"Arizona\", \"region\": \"pacific\", \"uni_abbr\": \"UOAR\"}, {\"uni\": \"University of Arizona\", \"type\": \"Yes\", \"res\": 4, \"pct\": 0.364, \"state\": \"Arizona\", \"region\": \"pacific\", \"uni_abbr\": \"UOAR\"}, {\"uni\": \"University of Arkansas\", \"type\": \"Nonuse\", \"res\": 19, \"pct\": 0.288, \"state\": \"Arkansas\", \"region\": \"south\", \"uni_abbr\": \"UOAK\"}, {\"uni\": \"University of Arkansas\", \"type\": \"No\", \"res\": 35, \"pct\": 0.53, \"state\": \"Arkansas\", \"region\": \"south\", \"uni_abbr\": \"UOAK\"}, {\"uni\": \"University of Arkansas\", \"type\": \"Yes\", \"res\": 12, \"pct\": 0.182, \"state\": \"Arkansas\", \"region\": \"south\", \"uni_abbr\": \"UOAK\"}, {\"uni\": \"University of California, Berkeley\", \"type\": \"Nonuse\", \"res\": 19, \"pct\": 0.209, \"state\": \"California\", \"region\": \"pacific\", \"uni_abbr\": \"UOCB\"}, {\"uni\": \"University of California, Berkeley\", \"type\": \"No\", \"res\": 47, \"pct\": 0.516, \"state\": \"California\", \"region\": \"pacific\", \"uni_abbr\": \"UOCB\"}, {\"uni\": \"University of California, Berkeley\", \"type\": \"Yes\", \"res\": 25, \"pct\": 0.275, \"state\": \"California\", \"region\": \"pacific\", \"uni_abbr\": \"UOCB\"}, {\"uni\": \"University of California, Davis\", \"type\": \"Nonuse\", \"res\": 6, \"pct\": 0.353, \"state\": \"California\", \"region\": \"pacific\", \"uni_abbr\": \"UOCD\"}, {\"uni\": \"University of California, Davis\", \"type\": \"No\", \"res\": 8, \"pct\": 0.471, \"state\": \"California\", \"region\": \"pacific\", \"uni_abbr\": \"UOCD\"}, {\"uni\": \"University of California, Davis\", \"type\": \"Yes\", \"res\": 3, \"pct\": 0.176, \"state\": \"California\", \"region\": \"pacific\", \"uni_abbr\": \"UOCD\"}, {\"uni\": \"University of California, Los Angeles\", \"type\": \"Nonuse\", \"res\": 5, \"pct\": 0.385, \"state\": \"California\", \"region\": \"pacific\", \"uni_abbr\": \"UOCLA\"}, {\"uni\": \"University of California, Los Angeles\", \"type\": \"No\", \"res\": 7, \"pct\": 0.538, \"state\": \"California\", \"region\": \"pacific\", \"uni_abbr\": \"UOCLA\"}, {\"uni\": \"University of California, Los Angeles\", \"type\": \"Yes\", \"res\": 1, \"pct\": 0.077, \"state\": \"California\", \"region\": \"pacific\", \"uni_abbr\": \"UOCLA\"}, {\"uni\": \"University of California, Santa Barbara\", \"type\": \"Nonuse\", \"res\": 17, \"pct\": 0.227, \"state\": \"California\", \"region\": \"pacific\", \"uni_abbr\": \"UOCSB\"}, {\"uni\": \"University of California, Santa Barbara\", \"type\": \"No\", \"res\": 34, \"pct\": 0.453, \"state\": \"California\", \"region\": \"pacific\", \"uni_abbr\": \"UOCSB\"}, {\"uni\": \"University of California, Santa Barbara\", \"type\": \"Yes\", \"res\": 24, \"pct\": 0.32, \"state\": \"California\", \"region\": \"pacific\", \"uni_abbr\": \"UOCSB\"}, {\"uni\": \"University of Georgia\", \"type\": \"Nonuse\", \"res\": 1, \"pct\": 0.091, \"state\": \"Georgia\", \"region\": \"south\", \"uni_abbr\": \"UOG\"}, {\"uni\": \"University of Georgia\", \"type\": \"No\", \"res\": 9, \"pct\": 0.818, \"state\": \"Georgia\", \"region\": \"south\", \"uni_abbr\": \"UOG\"}, {\"uni\": \"University of Georgia\", \"type\": \"Yes\", \"res\": 1, \"pct\": 0.091, \"state\": \"Georgia\", \"region\": \"south\", \"uni_abbr\": \"UOG\"}, {\"uni\": \"University of Illinois\", \"type\": \"Nonuse\", \"res\": 8, \"pct\": 0.17, \"state\": \"Illinois\", \"region\": \"midwest\", \"uni_abbr\": \"UOI\"}, {\"uni\": \"University of Illinois\", \"type\": \"No\", \"res\": 29, \"pct\": 0.617, \"state\": \"Illinois\", \"region\": \"midwest\", \"uni_abbr\": \"UOI\"}, {\"uni\": \"University of Illinois\", \"type\": \"Yes\", \"res\": 10, \"pct\": 0.213, \"state\": \"Illinois\", \"region\": \"midwest\", \"uni_abbr\": \"UOI\"}, {\"uni\": \"University of Kansas\", \"type\": \"Nonuse\", \"res\": 2, \"pct\": 0.2, \"state\": \"Kansas\", \"region\": \"midwest\", \"uni_abbr\": \"UOK\"}, {\"uni\": \"University of Kansas\", \"type\": \"No\", \"res\": 5, \"pct\": 0.5, \"state\": \"Kansas\", \"region\": \"midwest\", \"uni_abbr\": \"UOK\"}, {\"uni\": \"University of Kansas\", \"type\": \"Yes\", \"res\": 3, \"pct\": 0.3, \"state\": \"Kansas\", \"region\": \"midwest\", \"uni_abbr\": \"UOK\"}, {\"uni\": \"University of Michigan\", \"type\": \"Nonuse\", \"res\": 23, \"pct\": 0.267, \"state\": \"Michigan\", \"region\": \"midwest\", \"uni_abbr\": \"Mich\"}, {\"uni\": \"University of Michigan\", \"type\": \"No\", \"res\": 49, \"pct\": 0.57, \"state\": \"Michigan\", \"region\": \"midwest\", \"uni_abbr\": \"Mich\"}, {\"uni\": \"University of Michigan\", \"type\": \"Yes\", \"res\": 14, \"pct\": 0.163, \"state\": \"Michigan\", \"region\": \"midwest\", \"uni_abbr\": \"Mich\"}, {\"uni\": \"University of Missouri\", \"type\": \"Nonuse\", \"res\": 8, \"pct\": 0.267, \"state\": \"Missouri\", \"region\": \"midwest\", \"uni_abbr\": \"Miss\"}, {\"uni\": \"University of Missouri\", \"type\": \"No\", \"res\": 15, \"pct\": 0.5, \"state\": \"Missouri\", \"region\": \"midwest\", \"uni_abbr\": \"Miss\"}, {\"uni\": \"University of Missouri\", \"type\": \"Yes\", \"res\": 7, \"pct\": 0.233, \"state\": \"Missouri\", \"region\": \"midwest\", \"uni_abbr\": \"Miss\"}, {\"uni\": \"University of North Carolina\", \"type\": \"Nonuse\", \"res\": 3, \"pct\": 0.25, \"state\": \"North Carolina\", \"region\": \"south\", \"uni_abbr\": \"UONC\"}, {\"uni\": \"University of North Carolina\", \"type\": \"No\", \"res\": 8, \"pct\": 0.667, \"state\": \"North Carolina\", \"region\": \"south\", \"uni_abbr\": \"UONC\"}, {\"uni\": \"University of North Carolina\", \"type\": \"Yes\", \"res\": 1, \"pct\": 0.083, \"state\": \"North Carolina\", \"region\": \"south\", \"uni_abbr\": \"UONC\"}, {\"uni\": \"University of Pennsylvania\", \"type\": \"Nonuse\", \"res\": 24, \"pct\": 0.222, \"state\": \"Pennsylvania\", \"region\": \"northeast\", \"uni_abbr\": \"UOP\"}, {\"uni\": \"University of Pennsylvania\", \"type\": \"No\", \"res\": 60, \"pct\": 0.556, \"state\": \"Pennsylvania\", \"region\": \"northeast\", \"uni_abbr\": \"UOP\"}, {\"uni\": \"University of Pennsylvania\", \"type\": \"Yes\", \"res\": 24, \"pct\": 0.222, \"state\": \"Pennsylvania\", \"region\": \"northeast\", \"uni_abbr\": \"UOP\"}, {\"uni\": \"University of Richmond\", \"type\": \"Nonuse\", \"res\": 7, \"pct\": 0.389, \"state\": \"Virginia\", \"region\": \"south\", \"uni_abbr\": \"UOR\"}, {\"uni\": \"University of Richmond\", \"type\": \"No\", \"res\": 9, \"pct\": 0.5, \"state\": \"Virginia\", \"region\": \"south\", \"uni_abbr\": \"UOR\"}, {\"uni\": \"University of Richmond\", \"type\": \"Yes\", \"res\": 2, \"pct\": 0.111, \"state\": \"Virginia\", \"region\": \"south\", \"uni_abbr\": \"UOR\"}, {\"uni\": \"University of Southern California\", \"type\": \"Nonuse\", \"res\": 2, \"pct\": 0.2, \"state\": \"California\", \"region\": \"pacific\", \"uni_abbr\": \"UOSC\"}, {\"uni\": \"University of Southern California\", \"type\": \"No\", \"res\": 7, \"pct\": 0.7, \"state\": \"California\", \"region\": \"pacific\", \"uni_abbr\": \"UOSC\"}, {\"uni\": \"University of Southern California\", \"type\": \"Yes\", \"res\": 1, \"pct\": 0.1, \"state\": \"California\", \"region\": \"pacific\", \"uni_abbr\": \"UOSC\"}, {\"uni\": \"University of Texas\", \"type\": \"Nonuse\", \"res\": 26, \"pct\": 0.356, \"state\": \"Texas\", \"region\": \"mountain\", \"uni_abbr\": \"UOT\"}, {\"uni\": \"University of Texas\", \"type\": \"No\", \"res\": 35, \"pct\": 0.479, \"state\": \"Texas\", \"region\": \"mountain\", \"uni_abbr\": \"UOT\"}, {\"uni\": \"University of Texas\", \"type\": \"Yes\", \"res\": 12, \"pct\": 0.164, \"state\": \"Texas\", \"region\": \"mountain\", \"uni_abbr\": \"UOT\"}, {\"uni\": \"University of Virginia\", \"type\": \"Nonuse\", \"res\": 8, \"pct\": 0.444, \"state\": \"Virginia\", \"region\": \"south\", \"uni_abbr\": \"UOV\"}, {\"uni\": \"University of Virginia\", \"type\": \"No\", \"res\": 7, \"pct\": 0.389, \"state\": \"Virginia\", \"region\": \"south\", \"uni_abbr\": \"UOV\"}, {\"uni\": \"University of Virginia\", \"type\": \"Yes\", \"res\": 3, \"pct\": 0.167, \"state\": \"Virginia\", \"region\": \"south\", \"uni_abbr\": \"UOV\"}, {\"uni\": \"University of Wisconsin-Madison\", \"type\": \"Nonuse\", \"res\": 21, \"pct\": 0.167, \"state\": \"Wisconsin\", \"region\": \"midwest\", \"uni_abbr\": \"UOW\"}, {\"uni\": \"University of Wisconsin-Madison\", \"type\": \"No\", \"res\": 71, \"pct\": 0.563, \"state\": \"Wisconsin\", \"region\": \"midwest\", \"uni_abbr\": \"UOW\"}, {\"uni\": \"University of Wisconsin-Madison\", \"type\": \"Yes\", \"res\": 34, \"pct\": 0.27, \"state\": \"Wisconsin\", \"region\": \"midwest\", \"uni_abbr\": \"UOW\"}, {\"uni\": \"Vanderbilt University\", \"type\": \"Nonuse\", \"res\": 12, \"pct\": 0.122, \"state\": \"Tennessee\", \"region\": \"south\", \"uni_abbr\": \"VU\"}, {\"uni\": \"Vanderbilt University\", \"type\": \"No\", \"res\": 63, \"pct\": 0.643, \"state\": \"Tennessee\", \"region\": \"south\", \"uni_abbr\": \"VU\"}, {\"uni\": \"Vanderbilt University\", \"type\": \"Yes\", \"res\": 23, \"pct\": 0.235, \"state\": \"Tennessee\", \"region\": \"south\", \"uni_abbr\": \"VU\"}, {\"uni\": \"Washington State University\", \"type\": \"Nonuse\", \"res\": 6, \"pct\": 0.231, \"state\": \"Washington\", \"region\": \"pacific\", \"uni_abbr\": \"WSU\"}, {\"uni\": \"Washington State University\", \"type\": \"No\", \"res\": 12, \"pct\": 0.462, \"state\": \"Washington\", \"region\": \"pacific\", \"uni_abbr\": \"WSU\"}, {\"uni\": \"Washington State University\", \"type\": \"Yes\", \"res\": 8, \"pct\": 0.308, \"state\": \"Washington\", \"region\": \"pacific\", \"uni_abbr\": \"WSU\"}]}}, {\"mode\": \"vega-lite\"});\n",
       "</script>"
      ],
      "text/plain": [
       "alt.Chart(...)"
      ]
     },
     "execution_count": 33,
     "metadata": {},
     "output_type": "execute_result"
    }
   ],
   "source": [
    "chart.mark_bar().encode(\n",
    "    alt.X('uni_abbr:N', sort='-y'),\n",
    "    alt.Y('sum(res)'),\n",
    "    alt.Color('type', scale=alt.Scale(domain=domain, range=range)),\n",
    "    alt.Tooltip(['uni', 'pct'])\n",
    ").interactive().transform_filter(\n",
    "    (alt.datum.region == 'south')\n",
    ")"
   ]
  },
  {
   "cell_type": "markdown",
   "id": "2ec2c483-97c2-4108-ba87-4d62c179dca6",
   "metadata": {},
   "source": [
    "The first thing we notice is that we have nine universities from the southern states of the USA that participated in the survey. Applachian State University had the largest number of responses. Because there is a huge dispartities between the number of responses across institutions, the default axes being used makes it difficult to get a sense of the proportion of students at universities with a smaller number of respondents that had a successful meetup from Tinder. Let's change from a stacked bar chart to a normalized stacked chart."
   ]
  },
  {
   "cell_type": "code",
   "execution_count": 35,
   "id": "c84719bc-572a-47b6-893f-be8950c63158",
   "metadata": {},
   "outputs": [
    {
     "data": {
      "text/html": [
       "\n",
       "<div id=\"altair-viz-ddf1d8b151354c5ead43603176c234a5\"></div>\n",
       "<script type=\"text/javascript\">\n",
       "  var VEGA_DEBUG = (typeof VEGA_DEBUG == \"undefined\") ? {} : VEGA_DEBUG;\n",
       "  (function(spec, embedOpt){\n",
       "    let outputDiv = document.currentScript.previousElementSibling;\n",
       "    if (outputDiv.id !== \"altair-viz-ddf1d8b151354c5ead43603176c234a5\") {\n",
       "      outputDiv = document.getElementById(\"altair-viz-ddf1d8b151354c5ead43603176c234a5\");\n",
       "    }\n",
       "    const paths = {\n",
       "      \"vega\": \"https://cdn.jsdelivr.net/npm//vega@5?noext\",\n",
       "      \"vega-lib\": \"https://cdn.jsdelivr.net/npm//vega-lib?noext\",\n",
       "      \"vega-lite\": \"https://cdn.jsdelivr.net/npm//vega-lite@4.17.0?noext\",\n",
       "      \"vega-embed\": \"https://cdn.jsdelivr.net/npm//vega-embed@6?noext\",\n",
       "    };\n",
       "\n",
       "    function maybeLoadScript(lib, version) {\n",
       "      var key = `${lib.replace(\"-\", \"\")}_version`;\n",
       "      return (VEGA_DEBUG[key] == version) ?\n",
       "        Promise.resolve(paths[lib]) :\n",
       "        new Promise(function(resolve, reject) {\n",
       "          var s = document.createElement('script');\n",
       "          document.getElementsByTagName(\"head\")[0].appendChild(s);\n",
       "          s.async = true;\n",
       "          s.onload = () => {\n",
       "            VEGA_DEBUG[key] = version;\n",
       "            return resolve(paths[lib]);\n",
       "          };\n",
       "          s.onerror = () => reject(`Error loading script: ${paths[lib]}`);\n",
       "          s.src = paths[lib];\n",
       "        });\n",
       "    }\n",
       "\n",
       "    function showError(err) {\n",
       "      outputDiv.innerHTML = `<div class=\"error\" style=\"color:red;\">${err}</div>`;\n",
       "      throw err;\n",
       "    }\n",
       "\n",
       "    function displayChart(vegaEmbed) {\n",
       "      vegaEmbed(outputDiv, spec, embedOpt)\n",
       "        .catch(err => showError(`Javascript Error: ${err.message}<br>This usually means there's a typo in your chart specification. See the javascript console for the full traceback.`));\n",
       "    }\n",
       "\n",
       "    if(typeof define === \"function\" && define.amd) {\n",
       "      requirejs.config({paths});\n",
       "      require([\"vega-embed\"], displayChart, err => showError(`Error loading script: ${err.message}`));\n",
       "    } else {\n",
       "      maybeLoadScript(\"vega\", \"5\")\n",
       "        .then(() => maybeLoadScript(\"vega-lite\", \"4.17.0\"))\n",
       "        .then(() => maybeLoadScript(\"vega-embed\", \"6\"))\n",
       "        .catch(showError)\n",
       "        .then(() => displayChart(vegaEmbed));\n",
       "    }\n",
       "  })({\"config\": {\"view\": {\"continuousWidth\": 400, \"continuousHeight\": 300}}, \"data\": {\"name\": \"data-625a034231e7cf75ff53895cdf90a07a\"}, \"mark\": \"bar\", \"encoding\": {\"color\": {\"field\": \"type\", \"scale\": {\"domain\": [\"No\", \"Nonuse\", \"Yes\"], \"range\": [\"#66c2a5\", \"#fc8d62\", \"#8da0cb\"]}, \"type\": \"nominal\"}, \"tooltip\": [{\"field\": \"uni\", \"type\": \"nominal\"}, {\"field\": \"res\", \"type\": \"quantitative\"}], \"x\": {\"field\": \"uni_abbr\", \"sort\": \"-y\", \"type\": \"nominal\"}, \"y\": {\"aggregate\": \"sum\", \"field\": \"res\", \"stack\": \"normalize\", \"type\": \"quantitative\"}}, \"selection\": {\"selector015\": {\"type\": \"interval\", \"bind\": \"scales\", \"encodings\": [\"x\", \"y\"]}}, \"transform\": [{\"filter\": \"(datum.region === 'south')\"}], \"$schema\": \"https://vega.github.io/schema/vega-lite/v4.17.0.json\", \"datasets\": {\"data-625a034231e7cf75ff53895cdf90a07a\": [{\"uni\": \"Appalachian State University\", \"type\": \"Nonuse\", \"res\": 46, \"pct\": 0.4, \"state\": \"North Carolina\", \"region\": \"south\", \"uni_abbr\": \"ASU\"}, {\"uni\": \"Appalachian State University\", \"type\": \"No\", \"res\": 53, \"pct\": 0.461, \"state\": \"North Carolina\", \"region\": \"south\", \"uni_abbr\": \"ASU\"}, {\"uni\": \"Appalachian State University\", \"type\": \"Yes\", \"res\": 16, \"pct\": 0.139, \"state\": \"North Carolina\", \"region\": \"south\", \"uni_abbr\": \"ASU\"}, {\"uni\": \"Butler University\", \"type\": \"Nonuse\", \"res\": 17, \"pct\": 0.25, \"state\": \"Indiana\", \"region\": \"midwest\", \"uni_abbr\": \"BU\"}, {\"uni\": \"Butler University\", \"type\": \"No\", \"res\": 44, \"pct\": 0.647, \"state\": \"Indiana\", \"region\": \"midwest\", \"uni_abbr\": \"BU\"}, {\"uni\": \"Butler University\", \"type\": \"Yes\", \"res\": 7, \"pct\": 0.103, \"state\": \"Indiana\", \"region\": \"midwest\", \"uni_abbr\": \"BU\"}, {\"uni\": \"Cal Poly San Luis Obispo\", \"type\": \"Nonuse\", \"res\": 7, \"pct\": 0.28, \"state\": \"California\", \"region\": \"pacific\", \"uni_abbr\": \"CPSLO\"}, {\"uni\": \"Cal Poly San Luis Obispo\", \"type\": \"No\", \"res\": 10, \"pct\": 0.4, \"state\": \"California\", \"region\": \"pacific\", \"uni_abbr\": \"CPSLO\"}, {\"uni\": \"Cal Poly San Luis Obispo\", \"type\": \"Yes\", \"res\": 8, \"pct\": 0.32, \"state\": \"California\", \"region\": \"pacific\", \"uni_abbr\": \"CPSLO\"}, {\"uni\": \"Case Western Reserve University\", \"type\": \"Nonuse\", \"res\": 12, \"pct\": 0.387, \"state\": \"Ohio\", \"region\": \"midwest\", \"uni_abbr\": \"CWRU\"}, {\"uni\": \"Case Western Reserve University\", \"type\": \"No\", \"res\": 12, \"pct\": 0.387, \"state\": \"Ohio\", \"region\": \"midwest\", \"uni_abbr\": \"CWRU\"}, {\"uni\": \"Case Western Reserve University\", \"type\": \"Yes\", \"res\": 7, \"pct\": 0.226, \"state\": \"Ohio\", \"region\": \"midwest\", \"uni_abbr\": \"CWRU\"}, {\"uni\": \"Chapman University\", \"type\": \"Nonuse\", \"res\": 19, \"pct\": 0.302, \"state\": \"California\", \"region\": \"pacific\", \"uni_abbr\": \"Chap\"}, {\"uni\": \"Chapman University\", \"type\": \"No\", \"res\": 31, \"pct\": 0.492, \"state\": \"California\", \"region\": \"pacific\", \"uni_abbr\": \"Chap\"}, {\"uni\": \"Chapman University\", \"type\": \"Yes\", \"res\": 13, \"pct\": 0.206, \"state\": \"California\", \"region\": \"pacific\", \"uni_abbr\": \"Chap\"}, {\"uni\": \"Colby College\", \"type\": \"Nonuse\", \"res\": 2, \"pct\": 0.143, \"state\": \"Maine\", \"region\": \"northeast\", \"uni_abbr\": \"CC\"}, {\"uni\": \"Colby College\", \"type\": \"No\", \"res\": 11, \"pct\": 0.786, \"state\": \"Maine\", \"region\": \"northeast\", \"uni_abbr\": \"CC\"}, {\"uni\": \"Colby College\", \"type\": \"Yes\", \"res\": 1, \"pct\": 0.071, \"state\": \"Maine\", \"region\": \"northeast\", \"uni_abbr\": \"CC\"}, {\"uni\": \"College of William and Mary\", \"type\": \"Nonuse\", \"res\": 6, \"pct\": 0.375, \"state\": \"Virginia\", \"region\": \"south\", \"uni_abbr\": \"WAM\"}, {\"uni\": \"College of William and Mary\", \"type\": \"No\", \"res\": 7, \"pct\": 0.438, \"state\": \"Virginia\", \"region\": \"south\", \"uni_abbr\": \"WAM\"}, {\"uni\": \"College of William and Mary\", \"type\": \"Yes\", \"res\": 3, \"pct\": 0.188, \"state\": \"Virginia\", \"region\": \"south\", \"uni_abbr\": \"WAM\"}, {\"uni\": \"Cornell University\", \"type\": \"Nonuse\", \"res\": 51, \"pct\": 0.264, \"state\": \"New York\", \"region\": \"northeast\", \"uni_abbr\": \"CU\"}, {\"uni\": \"Cornell University\", \"type\": \"No\", \"res\": 95, \"pct\": 0.492, \"state\": \"New York\", \"region\": \"northeast\", \"uni_abbr\": \"CU\"}, {\"uni\": \"Cornell University\", \"type\": \"Yes\", \"res\": 47, \"pct\": 0.244, \"state\": \"New York\", \"region\": \"northeast\", \"uni_abbr\": \"CU\"}, {\"uni\": \"Dartmouth College\", \"type\": \"Nonuse\", \"res\": 2, \"pct\": 0.2, \"state\": \"New Hampshire\", \"region\": \"northeast\", \"uni_abbr\": \"DC\"}, {\"uni\": \"Dartmouth College\", \"type\": \"No\", \"res\": 3, \"pct\": 0.3, \"state\": \"New Hampshire\", \"region\": \"northeast\", \"uni_abbr\": \"DC\"}, {\"uni\": \"Dartmouth College\", \"type\": \"Yes\", \"res\": 5, \"pct\": 0.5, \"state\": \"New Hampshire\", \"region\": \"northeast\", \"uni_abbr\": \"DC\"}, {\"uni\": \"Indiana University\", \"type\": \"Nonuse\", \"res\": 5, \"pct\": 0.114, \"state\": \"Indiana\", \"region\": \"midwest\", \"uni_abbr\": \"IU\"}, {\"uni\": \"Indiana University\", \"type\": \"No\", \"res\": 30, \"pct\": 0.682, \"state\": \"Indiana\", \"region\": \"midwest\", \"uni_abbr\": \"IU\"}, {\"uni\": \"Indiana University\", \"type\": \"Yes\", \"res\": 9, \"pct\": 0.205, \"state\": \"Indiana\", \"region\": \"midwest\", \"uni_abbr\": \"IU\"}, {\"uni\": \"Johns Hopkins University\", \"type\": \"Nonuse\", \"res\": 29, \"pct\": 0.21, \"state\": \"Maryland\", \"region\": \"northeast\", \"uni_abbr\": \"JHU\"}, {\"uni\": \"Johns Hopkins University\", \"type\": \"No\", \"res\": 76, \"pct\": 0.551, \"state\": \"Maryland\", \"region\": \"northeast\", \"uni_abbr\": \"JHU\"}, {\"uni\": \"Johns Hopkins University\", \"type\": \"Yes\", \"res\": 33, \"pct\": 0.239, \"state\": \"Maryland\", \"region\": \"northeast\", \"uni_abbr\": \"JHU\"}, {\"uni\": \"Northwestern University\", \"type\": \"Nonuse\", \"res\": 24, \"pct\": 0.2, \"state\": \"Illinois\", \"region\": \"midwest\", \"uni_abbr\": \"NU\"}, {\"uni\": \"Northwestern University\", \"type\": \"No\", \"res\": 65, \"pct\": 0.542, \"state\": \"Illinois\", \"region\": \"midwest\", \"uni_abbr\": \"NU\"}, {\"uni\": \"Northwestern University\", \"type\": \"Yes\", \"res\": 31, \"pct\": 0.258, \"state\": \"Illinois\", \"region\": \"midwest\", \"uni_abbr\": \"NU\"}, {\"uni\": \"Ohio State University\", \"type\": \"Nonuse\", \"res\": 1, \"pct\": 0.053, \"state\": \"Ohio\", \"region\": \"midwest\", \"uni_abbr\": \"OSU\"}, {\"uni\": \"Ohio State University\", \"type\": \"No\", \"res\": 12, \"pct\": 0.632, \"state\": \"Ohio\", \"region\": \"midwest\", \"uni_abbr\": \"OSU\"}, {\"uni\": \"Ohio State University\", \"type\": \"Yes\", \"res\": 6, \"pct\": 0.316, \"state\": \"Ohio\", \"region\": \"midwest\", \"uni_abbr\": \"OSU\"}, {\"uni\": \"Purdue University\", \"type\": \"Nonuse\", \"res\": 8, \"pct\": 0.308, \"state\": \"Indiana\", \"region\": \"midwest\", \"uni_abbr\": \"PU\"}, {\"uni\": \"Purdue University\", \"type\": \"No\", \"res\": 13, \"pct\": 0.5, \"state\": \"Indiana\", \"region\": \"midwest\", \"uni_abbr\": \"PU\"}, {\"uni\": \"Purdue University\", \"type\": \"Yes\", \"res\": 5, \"pct\": 0.192, \"state\": \"Indiana\", \"region\": \"midwest\", \"uni_abbr\": \"PU\"}, {\"uni\": \"San Diego State University\", \"type\": \"Nonuse\", \"res\": 6, \"pct\": 0.231, \"state\": \"California\", \"region\": \"pacific\", \"uni_abbr\": \"SDSU\"}, {\"uni\": \"San Diego State University\", \"type\": \"No\", \"res\": 15, \"pct\": 0.577, \"state\": \"California\", \"region\": \"pacific\", \"uni_abbr\": \"SDSU\"}, {\"uni\": \"San Diego State University\", \"type\": \"Yes\", \"res\": 5, \"pct\": 0.192, \"state\": \"California\", \"region\": \"pacific\", \"uni_abbr\": \"SDSU\"}, {\"uni\": \"Stanford University\", \"type\": \"Nonuse\", \"res\": 37, \"pct\": 0.343, \"state\": \"California\", \"region\": \"pacific\", \"uni_abbr\": \"SU\"}, {\"uni\": \"Stanford University\", \"type\": \"No\", \"res\": 58, \"pct\": 0.537, \"state\": \"California\", \"region\": \"pacific\", \"uni_abbr\": \"SU\"}, {\"uni\": \"Stanford University\", \"type\": \"Yes\", \"res\": 13, \"pct\": 0.12, \"state\": \"California\", \"region\": \"pacific\", \"uni_abbr\": \"SU\"}, {\"uni\": \"Texas A&M University\", \"type\": \"Nonuse\", \"res\": 12, \"pct\": 0.222, \"state\": \"Texas\", \"region\": \"mountain\", \"uni_abbr\": \"TAU\"}, {\"uni\": \"Texas A&M University\", \"type\": \"No\", \"res\": 29, \"pct\": 0.537, \"state\": \"Texas\", \"region\": \"mountain\", \"uni_abbr\": \"TAU\"}, {\"uni\": \"Texas A&M University\", \"type\": \"Yes\", \"res\": 13, \"pct\": 0.241, \"state\": \"Texas\", \"region\": \"mountain\", \"uni_abbr\": \"TAU\"}, {\"uni\": \"Texas Christian University\", \"type\": \"Nonuse\", \"res\": 10, \"pct\": 0.385, \"state\": \"Texas\", \"region\": \"mountain\", \"uni_abbr\": \"TCU\"}, {\"uni\": \"Texas Christian University\", \"type\": \"No\", \"res\": 8, \"pct\": 0.308, \"state\": \"Texas\", \"region\": \"mountain\", \"uni_abbr\": \"TCU\"}, {\"uni\": \"Texas Christian University\", \"type\": \"Yes\", \"res\": 8, \"pct\": 0.308, \"state\": \"Texas\", \"region\": \"mountain\", \"uni_abbr\": \"TCU\"}, {\"uni\": \"Texas Tech University\", \"type\": \"Nonuse\", \"res\": 5, \"pct\": 0.385, \"state\": \"Texas\", \"region\": \"mountain\", \"uni_abbr\": \"TTU\"}, {\"uni\": \"Texas Tech University\", \"type\": \"No\", \"res\": 5, \"pct\": 0.385, \"state\": \"Texas\", \"region\": \"mountain\", \"uni_abbr\": \"TTU\"}, {\"uni\": \"Texas Tech University\", \"type\": \"Yes\", \"res\": 3, \"pct\": 0.231, \"state\": \"Texas\", \"region\": \"mountain\", \"uni_abbr\": \"TTU\"}, {\"uni\": \"UMass Amherst\", \"type\": \"Nonuse\", \"res\": 3, \"pct\": 0.25, \"state\": \"Massachusetts\", \"region\": \"northeast\", \"uni_abbr\": \"Amherst\"}, {\"uni\": \"UMass Amherst\", \"type\": \"No\", \"res\": 6, \"pct\": 0.5, \"state\": \"Massachusetts\", \"region\": \"northeast\", \"uni_abbr\": \"Amherst\"}, {\"uni\": \"UMass Amherst\", \"type\": \"Yes\", \"res\": 3, \"pct\": 0.25, \"state\": \"Massachusetts\", \"region\": \"northeast\", \"uni_abbr\": \"Amherst\"}, {\"uni\": \"University of Alabama\", \"type\": \"Nonuse\", \"res\": 2, \"pct\": 0.133, \"state\": \"Alabama\", \"region\": \"south\", \"uni_abbr\": \"UOAL\"}, {\"uni\": \"University of Alabama\", \"type\": \"No\", \"res\": 11, \"pct\": 0.733, \"state\": \"Alabama\", \"region\": \"south\", \"uni_abbr\": \"UOAL\"}, {\"uni\": \"University of Alabama\", \"type\": \"Yes\", \"res\": 2, \"pct\": 0.133, \"state\": \"Alabama\", \"region\": \"south\", \"uni_abbr\": \"UOAL\"}, {\"uni\": \"University of Arizona\", \"type\": \"Nonuse\", \"res\": 3, \"pct\": 0.273, \"state\": \"Arizona\", \"region\": \"pacific\", \"uni_abbr\": \"UOAR\"}, {\"uni\": \"University of Arizona\", \"type\": \"No\", \"res\": 4, \"pct\": 0.364, \"state\": \"Arizona\", \"region\": \"pacific\", \"uni_abbr\": \"UOAR\"}, {\"uni\": \"University of Arizona\", \"type\": \"Yes\", \"res\": 4, \"pct\": 0.364, \"state\": \"Arizona\", \"region\": \"pacific\", \"uni_abbr\": \"UOAR\"}, {\"uni\": \"University of Arkansas\", \"type\": \"Nonuse\", \"res\": 19, \"pct\": 0.288, \"state\": \"Arkansas\", \"region\": \"south\", \"uni_abbr\": \"UOAK\"}, {\"uni\": \"University of Arkansas\", \"type\": \"No\", \"res\": 35, \"pct\": 0.53, \"state\": \"Arkansas\", \"region\": \"south\", \"uni_abbr\": \"UOAK\"}, {\"uni\": \"University of Arkansas\", \"type\": \"Yes\", \"res\": 12, \"pct\": 0.182, \"state\": \"Arkansas\", \"region\": \"south\", \"uni_abbr\": \"UOAK\"}, {\"uni\": \"University of California, Berkeley\", \"type\": \"Nonuse\", \"res\": 19, \"pct\": 0.209, \"state\": \"California\", \"region\": \"pacific\", \"uni_abbr\": \"UOCB\"}, {\"uni\": \"University of California, Berkeley\", \"type\": \"No\", \"res\": 47, \"pct\": 0.516, \"state\": \"California\", \"region\": \"pacific\", \"uni_abbr\": \"UOCB\"}, {\"uni\": \"University of California, Berkeley\", \"type\": \"Yes\", \"res\": 25, \"pct\": 0.275, \"state\": \"California\", \"region\": \"pacific\", \"uni_abbr\": \"UOCB\"}, {\"uni\": \"University of California, Davis\", \"type\": \"Nonuse\", \"res\": 6, \"pct\": 0.353, \"state\": \"California\", \"region\": \"pacific\", \"uni_abbr\": \"UOCD\"}, {\"uni\": \"University of California, Davis\", \"type\": \"No\", \"res\": 8, \"pct\": 0.471, \"state\": \"California\", \"region\": \"pacific\", \"uni_abbr\": \"UOCD\"}, {\"uni\": \"University of California, Davis\", \"type\": \"Yes\", \"res\": 3, \"pct\": 0.176, \"state\": \"California\", \"region\": \"pacific\", \"uni_abbr\": \"UOCD\"}, {\"uni\": \"University of California, Los Angeles\", \"type\": \"Nonuse\", \"res\": 5, \"pct\": 0.385, \"state\": \"California\", \"region\": \"pacific\", \"uni_abbr\": \"UOCLA\"}, {\"uni\": \"University of California, Los Angeles\", \"type\": \"No\", \"res\": 7, \"pct\": 0.538, \"state\": \"California\", \"region\": \"pacific\", \"uni_abbr\": \"UOCLA\"}, {\"uni\": \"University of California, Los Angeles\", \"type\": \"Yes\", \"res\": 1, \"pct\": 0.077, \"state\": \"California\", \"region\": \"pacific\", \"uni_abbr\": \"UOCLA\"}, {\"uni\": \"University of California, Santa Barbara\", \"type\": \"Nonuse\", \"res\": 17, \"pct\": 0.227, \"state\": \"California\", \"region\": \"pacific\", \"uni_abbr\": \"UOCSB\"}, {\"uni\": \"University of California, Santa Barbara\", \"type\": \"No\", \"res\": 34, \"pct\": 0.453, \"state\": \"California\", \"region\": \"pacific\", \"uni_abbr\": \"UOCSB\"}, {\"uni\": \"University of California, Santa Barbara\", \"type\": \"Yes\", \"res\": 24, \"pct\": 0.32, \"state\": \"California\", \"region\": \"pacific\", \"uni_abbr\": \"UOCSB\"}, {\"uni\": \"University of Georgia\", \"type\": \"Nonuse\", \"res\": 1, \"pct\": 0.091, \"state\": \"Georgia\", \"region\": \"south\", \"uni_abbr\": \"UOG\"}, {\"uni\": \"University of Georgia\", \"type\": \"No\", \"res\": 9, \"pct\": 0.818, \"state\": \"Georgia\", \"region\": \"south\", \"uni_abbr\": \"UOG\"}, {\"uni\": \"University of Georgia\", \"type\": \"Yes\", \"res\": 1, \"pct\": 0.091, \"state\": \"Georgia\", \"region\": \"south\", \"uni_abbr\": \"UOG\"}, {\"uni\": \"University of Illinois\", \"type\": \"Nonuse\", \"res\": 8, \"pct\": 0.17, \"state\": \"Illinois\", \"region\": \"midwest\", \"uni_abbr\": \"UOI\"}, {\"uni\": \"University of Illinois\", \"type\": \"No\", \"res\": 29, \"pct\": 0.617, \"state\": \"Illinois\", \"region\": \"midwest\", \"uni_abbr\": \"UOI\"}, {\"uni\": \"University of Illinois\", \"type\": \"Yes\", \"res\": 10, \"pct\": 0.213, \"state\": \"Illinois\", \"region\": \"midwest\", \"uni_abbr\": \"UOI\"}, {\"uni\": \"University of Kansas\", \"type\": \"Nonuse\", \"res\": 2, \"pct\": 0.2, \"state\": \"Kansas\", \"region\": \"midwest\", \"uni_abbr\": \"UOK\"}, {\"uni\": \"University of Kansas\", \"type\": \"No\", \"res\": 5, \"pct\": 0.5, \"state\": \"Kansas\", \"region\": \"midwest\", \"uni_abbr\": \"UOK\"}, {\"uni\": \"University of Kansas\", \"type\": \"Yes\", \"res\": 3, \"pct\": 0.3, \"state\": \"Kansas\", \"region\": \"midwest\", \"uni_abbr\": \"UOK\"}, {\"uni\": \"University of Michigan\", \"type\": \"Nonuse\", \"res\": 23, \"pct\": 0.267, \"state\": \"Michigan\", \"region\": \"midwest\", \"uni_abbr\": \"Mich\"}, {\"uni\": \"University of Michigan\", \"type\": \"No\", \"res\": 49, \"pct\": 0.57, \"state\": \"Michigan\", \"region\": \"midwest\", \"uni_abbr\": \"Mich\"}, {\"uni\": \"University of Michigan\", \"type\": \"Yes\", \"res\": 14, \"pct\": 0.163, \"state\": \"Michigan\", \"region\": \"midwest\", \"uni_abbr\": \"Mich\"}, {\"uni\": \"University of Missouri\", \"type\": \"Nonuse\", \"res\": 8, \"pct\": 0.267, \"state\": \"Missouri\", \"region\": \"midwest\", \"uni_abbr\": \"Miss\"}, {\"uni\": \"University of Missouri\", \"type\": \"No\", \"res\": 15, \"pct\": 0.5, \"state\": \"Missouri\", \"region\": \"midwest\", \"uni_abbr\": \"Miss\"}, {\"uni\": \"University of Missouri\", \"type\": \"Yes\", \"res\": 7, \"pct\": 0.233, \"state\": \"Missouri\", \"region\": \"midwest\", \"uni_abbr\": \"Miss\"}, {\"uni\": \"University of North Carolina\", \"type\": \"Nonuse\", \"res\": 3, \"pct\": 0.25, \"state\": \"North Carolina\", \"region\": \"south\", \"uni_abbr\": \"UONC\"}, {\"uni\": \"University of North Carolina\", \"type\": \"No\", \"res\": 8, \"pct\": 0.667, \"state\": \"North Carolina\", \"region\": \"south\", \"uni_abbr\": \"UONC\"}, {\"uni\": \"University of North Carolina\", \"type\": \"Yes\", \"res\": 1, \"pct\": 0.083, \"state\": \"North Carolina\", \"region\": \"south\", \"uni_abbr\": \"UONC\"}, {\"uni\": \"University of Pennsylvania\", \"type\": \"Nonuse\", \"res\": 24, \"pct\": 0.222, \"state\": \"Pennsylvania\", \"region\": \"northeast\", \"uni_abbr\": \"UOP\"}, {\"uni\": \"University of Pennsylvania\", \"type\": \"No\", \"res\": 60, \"pct\": 0.556, \"state\": \"Pennsylvania\", \"region\": \"northeast\", \"uni_abbr\": \"UOP\"}, {\"uni\": \"University of Pennsylvania\", \"type\": \"Yes\", \"res\": 24, \"pct\": 0.222, \"state\": \"Pennsylvania\", \"region\": \"northeast\", \"uni_abbr\": \"UOP\"}, {\"uni\": \"University of Richmond\", \"type\": \"Nonuse\", \"res\": 7, \"pct\": 0.389, \"state\": \"Virginia\", \"region\": \"south\", \"uni_abbr\": \"UOR\"}, {\"uni\": \"University of Richmond\", \"type\": \"No\", \"res\": 9, \"pct\": 0.5, \"state\": \"Virginia\", \"region\": \"south\", \"uni_abbr\": \"UOR\"}, {\"uni\": \"University of Richmond\", \"type\": \"Yes\", \"res\": 2, \"pct\": 0.111, \"state\": \"Virginia\", \"region\": \"south\", \"uni_abbr\": \"UOR\"}, {\"uni\": \"University of Southern California\", \"type\": \"Nonuse\", \"res\": 2, \"pct\": 0.2, \"state\": \"California\", \"region\": \"pacific\", \"uni_abbr\": \"UOSC\"}, {\"uni\": \"University of Southern California\", \"type\": \"No\", \"res\": 7, \"pct\": 0.7, \"state\": \"California\", \"region\": \"pacific\", \"uni_abbr\": \"UOSC\"}, {\"uni\": \"University of Southern California\", \"type\": \"Yes\", \"res\": 1, \"pct\": 0.1, \"state\": \"California\", \"region\": \"pacific\", \"uni_abbr\": \"UOSC\"}, {\"uni\": \"University of Texas\", \"type\": \"Nonuse\", \"res\": 26, \"pct\": 0.356, \"state\": \"Texas\", \"region\": \"mountain\", \"uni_abbr\": \"UOT\"}, {\"uni\": \"University of Texas\", \"type\": \"No\", \"res\": 35, \"pct\": 0.479, \"state\": \"Texas\", \"region\": \"mountain\", \"uni_abbr\": \"UOT\"}, {\"uni\": \"University of Texas\", \"type\": \"Yes\", \"res\": 12, \"pct\": 0.164, \"state\": \"Texas\", \"region\": \"mountain\", \"uni_abbr\": \"UOT\"}, {\"uni\": \"University of Virginia\", \"type\": \"Nonuse\", \"res\": 8, \"pct\": 0.444, \"state\": \"Virginia\", \"region\": \"south\", \"uni_abbr\": \"UOV\"}, {\"uni\": \"University of Virginia\", \"type\": \"No\", \"res\": 7, \"pct\": 0.389, \"state\": \"Virginia\", \"region\": \"south\", \"uni_abbr\": \"UOV\"}, {\"uni\": \"University of Virginia\", \"type\": \"Yes\", \"res\": 3, \"pct\": 0.167, \"state\": \"Virginia\", \"region\": \"south\", \"uni_abbr\": \"UOV\"}, {\"uni\": \"University of Wisconsin-Madison\", \"type\": \"Nonuse\", \"res\": 21, \"pct\": 0.167, \"state\": \"Wisconsin\", \"region\": \"midwest\", \"uni_abbr\": \"UOW\"}, {\"uni\": \"University of Wisconsin-Madison\", \"type\": \"No\", \"res\": 71, \"pct\": 0.563, \"state\": \"Wisconsin\", \"region\": \"midwest\", \"uni_abbr\": \"UOW\"}, {\"uni\": \"University of Wisconsin-Madison\", \"type\": \"Yes\", \"res\": 34, \"pct\": 0.27, \"state\": \"Wisconsin\", \"region\": \"midwest\", \"uni_abbr\": \"UOW\"}, {\"uni\": \"Vanderbilt University\", \"type\": \"Nonuse\", \"res\": 12, \"pct\": 0.122, \"state\": \"Tennessee\", \"region\": \"south\", \"uni_abbr\": \"VU\"}, {\"uni\": \"Vanderbilt University\", \"type\": \"No\", \"res\": 63, \"pct\": 0.643, \"state\": \"Tennessee\", \"region\": \"south\", \"uni_abbr\": \"VU\"}, {\"uni\": \"Vanderbilt University\", \"type\": \"Yes\", \"res\": 23, \"pct\": 0.235, \"state\": \"Tennessee\", \"region\": \"south\", \"uni_abbr\": \"VU\"}, {\"uni\": \"Washington State University\", \"type\": \"Nonuse\", \"res\": 6, \"pct\": 0.231, \"state\": \"Washington\", \"region\": \"pacific\", \"uni_abbr\": \"WSU\"}, {\"uni\": \"Washington State University\", \"type\": \"No\", \"res\": 12, \"pct\": 0.462, \"state\": \"Washington\", \"region\": \"pacific\", \"uni_abbr\": \"WSU\"}, {\"uni\": \"Washington State University\", \"type\": \"Yes\", \"res\": 8, \"pct\": 0.308, \"state\": \"Washington\", \"region\": \"pacific\", \"uni_abbr\": \"WSU\"}]}}, {\"mode\": \"vega-lite\"});\n",
       "</script>"
      ],
      "text/plain": [
       "alt.Chart(...)"
      ]
     },
     "execution_count": 35,
     "metadata": {},
     "output_type": "execute_result"
    }
   ],
   "source": [
    "chart.mark_bar().encode(\n",
    "    alt.X('uni_abbr:N', sort='-y'),\n",
    "    alt.Y('sum(res)', stack='normalize'),\n",
    "    alt.Color('type', scale=alt.Scale(domain=domain, range=range)),\n",
    "    alt.Tooltip(['uni', 'res']),\n",
    ").interactive().transform_filter(\n",
    "    (alt.datum.region == 'south')\n",
    ")"
   ]
  },
  {
   "cell_type": "markdown",
   "id": "b779f573-d071-4db1-8310-068a9e62ed5f",
   "metadata": {},
   "source": [
    "With the normalized stacked bar we can discern that the University of Arkansas,  Virginia University, and University of Virigina had larger proportions of students who met up with a person they met on Tinder.\n",
    "Each variation of the bar chart comes with its strengths and limitations.\n",
    "Let's look at one more variation before concluding this lesson."
   ]
  }
 ],
 "metadata": {
  "kernelspec": {
   "display_name": "Python [conda env:dsci320]",
   "language": "python",
   "name": "conda-env-dsci320-py"
  },
  "language_info": {
   "codemirror_mode": {
    "name": "ipython",
    "version": 3
   },
   "file_extension": ".py",
   "mimetype": "text/x-python",
   "name": "python",
   "nbconvert_exporter": "python",
   "pygments_lexer": "ipython3",
   "version": "3.10.8"
  }
 },
 "nbformat": 4,
 "nbformat_minor": 5
}
