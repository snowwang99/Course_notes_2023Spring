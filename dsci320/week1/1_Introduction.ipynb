{
 "cells": [
  {
   "cell_type": "markdown",
   "id": "4dcb8c69",
   "metadata": {
    "pycharm": {
     "name": "#%% md\n"
    }
   },
   "source": [
    "# Introduction to Altair\n",
    "\n",
    "[Altair](https://altair-viz.github.io/) is a declarative statistical visualization library for Python. Altair offers a powerful and concise visualization grammar for quickly building a wide range of statistical graphics.\n",
    "\n",
    "By *declarative*, we mean that you can provide a high-level specification of *what* you want the visualization to include, in terms of *data*, *graphical marks*, and *encoding channels*, rather than having to specify *how* to implement the visualization in terms of for-loops, low-level drawing commands, *etc*. The key idea is that you declare links between data fields and visual encoding channels, such as the x-axis, y-axis, color, *etc*. The rest of the plot details are handled automatically. Building on this declarative plotting idea, a surprising range of simple to sophisticated visualizations can be created using a concise grammar.\n",
    "\n",
    "Altair is based on [Vega-Lite](https://vega.github.io/vega-lite/), a high-level grammar of interactive graphics. Altair provides a friendly Python [API (Application Programming Interface)](https://en.wikipedia.org/wiki/Application_programming_interface) that generates Vega-Lite specifications in [JSON (JavaScript Object Notation)](https://en.wikipedia.org/wiki/JSON) format. Environments such as Jupyter Notebooks, JupyterLab, and Colab can then take this specification and render it directly in the web browser. To learn more about the motivation and basic concepts behind Altair and Vega-Lite, watch the [Vega-Lite presentation video from OpenVisConf 2017](https://www.youtube.com/watch?v=9uaHRWj04D4).\n",
    "\n",
    "This notebook will guide you through the basic process of creating visualizations in Altair. First, you will need to make sure you have the Altair package and its dependencies installed (for more, see the [Altair installation documentation](https://altair-viz.github.io/getting_started/installation.html)), or you are using a notebook environment that includes the dependencies pre-installed."
   ]
  },
  {
   "cell_type": "markdown",
   "id": "2e1f3744",
   "metadata": {
    "pycharm": {
     "name": "#%% md\n"
    }
   },
   "source": [
    "## Learning Goals\n",
    "Those who actively work through this notebook will be able to:\n",
    "- Describe the `Chart` object in Altair\n",
    "- Use three different methods to `read in` data\n",
    "- Attach data to the chart object\n",
    "- Describe the basic structure of how visualizations (vizzes) are created in Altair\n",
    "- Create bar and column chart"
   ]
  },
  {
   "cell_type": "markdown",
   "id": "23afcc43",
   "metadata": {
    "pycharm": {
     "name": "#%% md\n"
    }
   },
   "source": [
    "## Imports\n",
    "\n",
    "To start, we must import the necessary libraries: Pandas for data frames and Altair for visualization."
   ]
  },
  {
   "cell_type": "code",
   "execution_count": 1,
   "id": "3afdc8b2-9818-40a0-909b-41536e037b37",
   "metadata": {
    "colab": {},
    "colab_type": "code",
    "id": "zYMsJwmgJ4R7",
    "pycharm": {
     "name": "#%%\n"
    }
   },
   "outputs": [],
   "source": [
    "import pandas as pd\n",
    "import altair as alt"
   ]
  },
  {
   "cell_type": "markdown",
   "id": "8d7c0b46-1174-46ee-ab50-0648183f6d59",
   "metadata": {
    "pycharm": {
     "name": "#%% md\n"
    }
   },
   "source": [
    "## Renderers\n",
    "\n",
    "Depending on your environment, you may need to specify a [renderer](https://altair-viz.github.io/user_guide/display_frontends.html) for Altair. If you are using __JupyterLab__, __Jupyter Notebook__, or __Google Colab__ with a live Internet connection you should not need to do anything. Otherwise, please read the documentation for [Displaying Altair Charts](https://altair-viz.github.io/user_guide/display_frontends.html)."
   ]
  },
  {
   "cell_type": "markdown",
   "id": "662d5d56-12fc-4e3a-8bfb-b0cdafa308b8",
   "metadata": {
    "colab_type": "text",
    "id": "LBotwpgUaaXQ",
    "pycharm": {
     "name": "#%% md\n"
    }
   },
   "source": [
    "## Data\n",
    "\n",
    "Data in Altair is built around the Pandas data frame, which consists of a set of named data *columns*. We will also regularly refer to data columns as data *fields*.\n"
   ]
  },
  {
   "cell_type": "markdown",
   "id": "509a539a",
   "metadata": {
    "pycharm": {
     "name": "#%% md\n"
    }
   },
   "source": [
    "### Vega Datasets\n",
    "\n",
    "When using Altair, datasets are commonly provided as data frames. Alternatively, Altair can also accept a URL to load a network-accessible dataset. As we will see, the named columns of the data frame are an essential piece of plotting with Altair.\n",
    "We will often use datasets from the [vega-datasets](https://github.com/vega/vega-datasets) repository. Some of these datasets are directly available as Pandas data frames:"
   ]
  },
  {
   "cell_type": "code",
   "execution_count": 2,
   "id": "da683de9-c016-4264-8e08-4af15d312f6f",
   "metadata": {
    "colab": {
     "base_uri": "https://localhost:8080/",
     "height": 204
    },
    "colab_type": "code",
    "id": "M0Sp4rLibEZe",
    "outputId": "42a06146-8554-45fb-f2ac-1ec06a0b738d",
    "pycharm": {
     "name": "#%%\n"
    }
   },
   "outputs": [
    {
     "data": {
      "text/html": [
       "<div>\n",
       "<style scoped>\n",
       "    .dataframe tbody tr th:only-of-type {\n",
       "        vertical-align: middle;\n",
       "    }\n",
       "\n",
       "    .dataframe tbody tr th {\n",
       "        vertical-align: top;\n",
       "    }\n",
       "\n",
       "    .dataframe thead th {\n",
       "        text-align: right;\n",
       "    }\n",
       "</style>\n",
       "<table border=\"1\" class=\"dataframe\">\n",
       "  <thead>\n",
       "    <tr style=\"text-align: right;\">\n",
       "      <th></th>\n",
       "      <th>Name</th>\n",
       "      <th>Miles_per_Gallon</th>\n",
       "      <th>Cylinders</th>\n",
       "      <th>Displacement</th>\n",
       "      <th>Horsepower</th>\n",
       "      <th>Weight_in_lbs</th>\n",
       "      <th>Acceleration</th>\n",
       "      <th>Year</th>\n",
       "      <th>Origin</th>\n",
       "    </tr>\n",
       "  </thead>\n",
       "  <tbody>\n",
       "    <tr>\n",
       "      <th>0</th>\n",
       "      <td>chevrolet chevelle malibu</td>\n",
       "      <td>18.0</td>\n",
       "      <td>8</td>\n",
       "      <td>307.0</td>\n",
       "      <td>130.0</td>\n",
       "      <td>3504</td>\n",
       "      <td>12.0</td>\n",
       "      <td>1970-01-01</td>\n",
       "      <td>USA</td>\n",
       "    </tr>\n",
       "    <tr>\n",
       "      <th>1</th>\n",
       "      <td>buick skylark 320</td>\n",
       "      <td>15.0</td>\n",
       "      <td>8</td>\n",
       "      <td>350.0</td>\n",
       "      <td>165.0</td>\n",
       "      <td>3693</td>\n",
       "      <td>11.5</td>\n",
       "      <td>1970-01-01</td>\n",
       "      <td>USA</td>\n",
       "    </tr>\n",
       "    <tr>\n",
       "      <th>2</th>\n",
       "      <td>plymouth satellite</td>\n",
       "      <td>18.0</td>\n",
       "      <td>8</td>\n",
       "      <td>318.0</td>\n",
       "      <td>150.0</td>\n",
       "      <td>3436</td>\n",
       "      <td>11.0</td>\n",
       "      <td>1970-01-01</td>\n",
       "      <td>USA</td>\n",
       "    </tr>\n",
       "    <tr>\n",
       "      <th>3</th>\n",
       "      <td>amc rebel sst</td>\n",
       "      <td>16.0</td>\n",
       "      <td>8</td>\n",
       "      <td>304.0</td>\n",
       "      <td>150.0</td>\n",
       "      <td>3433</td>\n",
       "      <td>12.0</td>\n",
       "      <td>1970-01-01</td>\n",
       "      <td>USA</td>\n",
       "    </tr>\n",
       "    <tr>\n",
       "      <th>4</th>\n",
       "      <td>ford torino</td>\n",
       "      <td>17.0</td>\n",
       "      <td>8</td>\n",
       "      <td>302.0</td>\n",
       "      <td>140.0</td>\n",
       "      <td>3449</td>\n",
       "      <td>10.5</td>\n",
       "      <td>1970-01-01</td>\n",
       "      <td>USA</td>\n",
       "    </tr>\n",
       "  </tbody>\n",
       "</table>\n",
       "</div>"
      ],
      "text/plain": [
       "                        Name  Miles_per_Gallon  Cylinders  Displacement  \\\n",
       "0  chevrolet chevelle malibu              18.0          8         307.0   \n",
       "1          buick skylark 320              15.0          8         350.0   \n",
       "2         plymouth satellite              18.0          8         318.0   \n",
       "3              amc rebel sst              16.0          8         304.0   \n",
       "4                ford torino              17.0          8         302.0   \n",
       "\n",
       "   Horsepower  Weight_in_lbs  Acceleration       Year Origin  \n",
       "0       130.0           3504          12.0 1970-01-01    USA  \n",
       "1       165.0           3693          11.5 1970-01-01    USA  \n",
       "2       150.0           3436          11.0 1970-01-01    USA  \n",
       "3       150.0           3433          12.0 1970-01-01    USA  \n",
       "4       140.0           3449          10.5 1970-01-01    USA  "
      ]
     },
     "execution_count": 2,
     "metadata": {},
     "output_type": "execute_result"
    }
   ],
   "source": [
    "from vega_datasets import data  # import vega_datasets\n",
    "cars = data.cars()              # load cars data as a Pandas data frame\n",
    "cars.head()                     # display the first five rows"
   ]
  },
  {
   "cell_type": "markdown",
   "id": "30b443be-b27d-4bd0-b808-ca29bb8d6bdc",
   "metadata": {
    "colab_type": "text",
    "id": "9Hjb_n7gbZgr",
    "pycharm": {
     "name": "#%% md\n"
    }
   },
   "source": [
    "Datasets in the vega-datasets collection can also be accessed via URLs:"
   ]
  },
  {
   "cell_type": "code",
   "execution_count": 6,
   "id": "99bd4955-0f25-4cc1-b86d-a2dd48f36af4",
   "metadata": {
    "colab": {
     "base_uri": "https://localhost:8080/",
     "height": 34
    },
    "colab_type": "code",
    "id": "sbeBl1ESbd0T",
    "outputId": "b6a13a9f-07b2-4d9b-ab10-4eb3f8f8f262",
    "pycharm": {
     "name": "#%%\n"
    }
   },
   "outputs": [
    {
     "data": {
      "text/plain": [
       "'https://cdn.jsdelivr.net/npm/vega-datasets@v1.29.0/data/cars.json'"
      ]
     },
     "execution_count": 6,
     "metadata": {},
     "output_type": "execute_result"
    }
   ],
   "source": [
    "data.cars.url"
   ]
  },
  {
   "cell_type": "markdown",
   "id": "73e1b93e-1c32-4583-b8aa-204476a6d0fe",
   "metadata": {
    "colab_type": "text",
    "id": "Ukm_DAvKkFDk",
    "pycharm": {
     "name": "#%% md\n"
    }
   },
   "source": [
    "Dataset URLs can be passed directly to Altair (for supported formats like JSON and [CSV](https://en.wikipedia.org/wiki/Comma-separated_values)), or loaded into a Pandas data frame like so:"
   ]
  },
  {
   "cell_type": "code",
   "execution_count": 7,
   "id": "7395edc0-35b8-444e-9c76-4018b3d4bf8e",
   "metadata": {
    "colab": {
     "base_uri": "https://localhost:8080/",
     "height": 204
    },
    "colab_type": "code",
    "id": "6c6aC2DGj9oY",
    "outputId": "c6b5e94f-cefc-4298-d43d-f7676545030b",
    "pycharm": {
     "name": "#%%\n"
    }
   },
   "outputs": [
    {
     "data": {
      "text/html": [
       "<div>\n",
       "<style scoped>\n",
       "    .dataframe tbody tr th:only-of-type {\n",
       "        vertical-align: middle;\n",
       "    }\n",
       "\n",
       "    .dataframe tbody tr th {\n",
       "        vertical-align: top;\n",
       "    }\n",
       "\n",
       "    .dataframe thead th {\n",
       "        text-align: right;\n",
       "    }\n",
       "</style>\n",
       "<table border=\"1\" class=\"dataframe\">\n",
       "  <thead>\n",
       "    <tr style=\"text-align: right;\">\n",
       "      <th></th>\n",
       "      <th>Name</th>\n",
       "      <th>Miles_per_Gallon</th>\n",
       "      <th>Cylinders</th>\n",
       "      <th>Displacement</th>\n",
       "      <th>Horsepower</th>\n",
       "      <th>Weight_in_lbs</th>\n",
       "      <th>Acceleration</th>\n",
       "      <th>Year</th>\n",
       "      <th>Origin</th>\n",
       "    </tr>\n",
       "  </thead>\n",
       "  <tbody>\n",
       "    <tr>\n",
       "      <th>0</th>\n",
       "      <td>chevrolet chevelle malibu</td>\n",
       "      <td>18.0</td>\n",
       "      <td>8</td>\n",
       "      <td>307.0</td>\n",
       "      <td>130.0</td>\n",
       "      <td>3504</td>\n",
       "      <td>12.0</td>\n",
       "      <td>1970-01-01</td>\n",
       "      <td>USA</td>\n",
       "    </tr>\n",
       "    <tr>\n",
       "      <th>1</th>\n",
       "      <td>buick skylark 320</td>\n",
       "      <td>15.0</td>\n",
       "      <td>8</td>\n",
       "      <td>350.0</td>\n",
       "      <td>165.0</td>\n",
       "      <td>3693</td>\n",
       "      <td>11.5</td>\n",
       "      <td>1970-01-01</td>\n",
       "      <td>USA</td>\n",
       "    </tr>\n",
       "    <tr>\n",
       "      <th>2</th>\n",
       "      <td>plymouth satellite</td>\n",
       "      <td>18.0</td>\n",
       "      <td>8</td>\n",
       "      <td>318.0</td>\n",
       "      <td>150.0</td>\n",
       "      <td>3436</td>\n",
       "      <td>11.0</td>\n",
       "      <td>1970-01-01</td>\n",
       "      <td>USA</td>\n",
       "    </tr>\n",
       "    <tr>\n",
       "      <th>3</th>\n",
       "      <td>amc rebel sst</td>\n",
       "      <td>16.0</td>\n",
       "      <td>8</td>\n",
       "      <td>304.0</td>\n",
       "      <td>150.0</td>\n",
       "      <td>3433</td>\n",
       "      <td>12.0</td>\n",
       "      <td>1970-01-01</td>\n",
       "      <td>USA</td>\n",
       "    </tr>\n",
       "    <tr>\n",
       "      <th>4</th>\n",
       "      <td>ford torino</td>\n",
       "      <td>17.0</td>\n",
       "      <td>8</td>\n",
       "      <td>302.0</td>\n",
       "      <td>140.0</td>\n",
       "      <td>3449</td>\n",
       "      <td>10.5</td>\n",
       "      <td>1970-01-01</td>\n",
       "      <td>USA</td>\n",
       "    </tr>\n",
       "  </tbody>\n",
       "</table>\n",
       "</div>"
      ],
      "text/plain": [
       "                        Name  Miles_per_Gallon  Cylinders  Displacement  \\\n",
       "0  chevrolet chevelle malibu              18.0          8         307.0   \n",
       "1          buick skylark 320              15.0          8         350.0   \n",
       "2         plymouth satellite              18.0          8         318.0   \n",
       "3              amc rebel sst              16.0          8         304.0   \n",
       "4                ford torino              17.0          8         302.0   \n",
       "\n",
       "   Horsepower  Weight_in_lbs  Acceleration        Year Origin  \n",
       "0       130.0           3504          12.0  1970-01-01    USA  \n",
       "1       165.0           3693          11.5  1970-01-01    USA  \n",
       "2       150.0           3436          11.0  1970-01-01    USA  \n",
       "3       150.0           3433          12.0  1970-01-01    USA  \n",
       "4       140.0           3449          10.5  1970-01-01    USA  "
      ]
     },
     "execution_count": 7,
     "metadata": {},
     "output_type": "execute_result"
    }
   ],
   "source": [
    "pd.read_json(data.cars.url).head() # load JSON data into a data frame"
   ]
  },
  {
   "cell_type": "markdown",
   "id": "2ff7d037-daae-4f87-a510-1d1b61f94dac",
   "metadata": {
    "colab_type": "text",
    "id": "GmX14naebrzG",
    "pycharm": {
     "name": "#%% md\n"
    }
   },
   "source": [
    "For more information about data frames and some useful transformations to prepare Pandas data frames for plotting with Altair:\n",
    "    - work through the [Basic Data Wrangling with Pandas](https://ubc-dsci.github.io/dsci-320-instructors/pre-req/0.3-pandas-wrangling.html) section in our preparation module and\n",
    "    - see the [Specifying Data with Altair documentation](https://altair-viz.github.io/user_guide/data.html)"
   ]
  },
  {
   "cell_type": "markdown",
   "id": "35e818ad",
   "metadata": {
    "pycharm": {
     "name": "#%% md\n"
    }
   },
   "source": [
    "### Weather Data\n",
    "\n",
    "For the rest of the notebook we will use a simple dataset _airport_weather_snippet_.\n",
    "The data was collected at weather stations at airports across Canada and is freely available [online](https://climate.weather.gc.ca/historical_data/search_historic_data_e.html).\n",
    "We have done some preliminary cleaning to provide you with a clean small subset of the data.\n",
    "**Go to EdStem to download the zip folder that contains the [data folder](https://edstem.org/us/courses/31933/resources?download=23650) for the labs. Place the data folder in the same directory that your Jupyter notebook is in**\n",
    "Let's first load the dataset which is in a csv file."
   ]
  },
  {
   "cell_type": "code",
   "execution_count": 8,
   "id": "3fdd16bf",
   "metadata": {
    "collapsed": false,
    "jupyter": {
     "outputs_hidden": false
    },
    "pycharm": {
     "name": "#%%\n"
    }
   },
   "outputs": [
    {
     "data": {
      "text/html": [
       "<div>\n",
       "<style scoped>\n",
       "    .dataframe tbody tr th:only-of-type {\n",
       "        vertical-align: middle;\n",
       "    }\n",
       "\n",
       "    .dataframe tbody tr th {\n",
       "        vertical-align: top;\n",
       "    }\n",
       "\n",
       "    .dataframe thead th {\n",
       "        text-align: right;\n",
       "    }\n",
       "</style>\n",
       "<table border=\"1\" class=\"dataframe\">\n",
       "  <thead>\n",
       "    <tr style=\"text-align: right;\">\n",
       "      <th></th>\n",
       "      <th>airport</th>\n",
       "      <th>year</th>\n",
       "      <th>month</th>\n",
       "      <th>temp</th>\n",
       "      <th>rain</th>\n",
       "      <th>snow</th>\n",
       "      <th>precip</th>\n",
       "    </tr>\n",
       "  </thead>\n",
       "  <tbody>\n",
       "    <tr>\n",
       "      <th>0</th>\n",
       "      <td>Calgary</td>\n",
       "      <td>2000</td>\n",
       "      <td>January</td>\n",
       "      <td>-9.7</td>\n",
       "      <td>0.0</td>\n",
       "      <td>23.8</td>\n",
       "      <td>10.2</td>\n",
       "    </tr>\n",
       "    <tr>\n",
       "      <th>1</th>\n",
       "      <td>Calgary</td>\n",
       "      <td>2000</td>\n",
       "      <td>May</td>\n",
       "      <td>8.8</td>\n",
       "      <td>22.6</td>\n",
       "      <td>6.4</td>\n",
       "      <td>28.8</td>\n",
       "    </tr>\n",
       "    <tr>\n",
       "      <th>2</th>\n",
       "      <td>Calgary</td>\n",
       "      <td>2000</td>\n",
       "      <td>September</td>\n",
       "      <td>10.7</td>\n",
       "      <td>52.8</td>\n",
       "      <td>0.8</td>\n",
       "      <td>53.6</td>\n",
       "    </tr>\n",
       "    <tr>\n",
       "      <th>3</th>\n",
       "      <td>Montreal</td>\n",
       "      <td>2000</td>\n",
       "      <td>January</td>\n",
       "      <td>-10.1</td>\n",
       "      <td>20.0</td>\n",
       "      <td>64.8</td>\n",
       "      <td>95.8</td>\n",
       "    </tr>\n",
       "    <tr>\n",
       "      <th>4</th>\n",
       "      <td>Montreal</td>\n",
       "      <td>2000</td>\n",
       "      <td>May</td>\n",
       "      <td>13.3</td>\n",
       "      <td>132.5</td>\n",
       "      <td>0.0</td>\n",
       "      <td>132.5</td>\n",
       "    </tr>\n",
       "    <tr>\n",
       "      <th>5</th>\n",
       "      <td>Montreal</td>\n",
       "      <td>2000</td>\n",
       "      <td>September</td>\n",
       "      <td>14.3</td>\n",
       "      <td>65.5</td>\n",
       "      <td>0.0</td>\n",
       "      <td>65.5</td>\n",
       "    </tr>\n",
       "    <tr>\n",
       "      <th>6</th>\n",
       "      <td>Toronto</td>\n",
       "      <td>2000</td>\n",
       "      <td>January</td>\n",
       "      <td>-5.8</td>\n",
       "      <td>16.4</td>\n",
       "      <td>17.0</td>\n",
       "      <td>29.2</td>\n",
       "    </tr>\n",
       "    <tr>\n",
       "      <th>7</th>\n",
       "      <td>Toronto</td>\n",
       "      <td>2000</td>\n",
       "      <td>May</td>\n",
       "      <td>14.3</td>\n",
       "      <td>124.4</td>\n",
       "      <td>0.0</td>\n",
       "      <td>124.4</td>\n",
       "    </tr>\n",
       "    <tr>\n",
       "      <th>8</th>\n",
       "      <td>Toronto</td>\n",
       "      <td>2000</td>\n",
       "      <td>September</td>\n",
       "      <td>15.9</td>\n",
       "      <td>70.0</td>\n",
       "      <td>0.0</td>\n",
       "      <td>70.0</td>\n",
       "    </tr>\n",
       "    <tr>\n",
       "      <th>9</th>\n",
       "      <td>Vancouver</td>\n",
       "      <td>2000</td>\n",
       "      <td>January</td>\n",
       "      <td>3.5</td>\n",
       "      <td>134.0</td>\n",
       "      <td>18.8</td>\n",
       "      <td>151.4</td>\n",
       "    </tr>\n",
       "    <tr>\n",
       "      <th>10</th>\n",
       "      <td>Vancouver</td>\n",
       "      <td>2000</td>\n",
       "      <td>May</td>\n",
       "      <td>11.7</td>\n",
       "      <td>103.0</td>\n",
       "      <td>0.0</td>\n",
       "      <td>103.0</td>\n",
       "    </tr>\n",
       "    <tr>\n",
       "      <th>11</th>\n",
       "      <td>Vancouver</td>\n",
       "      <td>2000</td>\n",
       "      <td>September</td>\n",
       "      <td>15.0</td>\n",
       "      <td>48.0</td>\n",
       "      <td>0.0</td>\n",
       "      <td>48.0</td>\n",
       "    </tr>\n",
       "  </tbody>\n",
       "</table>\n",
       "</div>"
      ],
      "text/plain": [
       "      airport  year      month  temp   rain  snow  precip\n",
       "0     Calgary  2000    January  -9.7    0.0  23.8    10.2\n",
       "1     Calgary  2000        May   8.8   22.6   6.4    28.8\n",
       "2     Calgary  2000  September  10.7   52.8   0.8    53.6\n",
       "3    Montreal  2000    January -10.1   20.0  64.8    95.8\n",
       "4    Montreal  2000        May  13.3  132.5   0.0   132.5\n",
       "5    Montreal  2000  September  14.3   65.5   0.0    65.5\n",
       "6     Toronto  2000    January  -5.8   16.4  17.0    29.2\n",
       "7     Toronto  2000        May  14.3  124.4   0.0   124.4\n",
       "8     Toronto  2000  September  15.9   70.0   0.0    70.0\n",
       "9   Vancouver  2000    January   3.5  134.0  18.8   151.4\n",
       "10  Vancouver  2000        May  11.7  103.0   0.0   103.0\n",
       "11  Vancouver  2000  September  15.0   48.0   0.0    48.0"
      ]
     },
     "execution_count": 8,
     "metadata": {},
     "output_type": "execute_result"
    }
   ],
   "source": [
    "path = 'data/airport.csv'\n",
    "df = pd.read_csv(path, index_col=0, parse_dates=True)\n",
    "df"
   ]
  },
  {
   "cell_type": "markdown",
   "id": "096aa219",
   "metadata": {
    "pycharm": {
     "name": "#%% md\n"
    }
   },
   "source": [
    "The dataset has 12 items with 7 attributes. We have shortened the numerical attribute names as follows:\n",
    "- temp: Mean Temp (°C)\n",
    "- rain: Total Rain (mm)\n",
    "- snow: Total Snow (cm)\n",
    "- precip: Total Precip (mm)\n",
    "\n",
    "In future notebooks we will spend a bit more time describing the data, but for right now let's dive into visualizing."
   ]
  },
  {
   "cell_type": "markdown",
   "id": "737bbe76",
   "metadata": {
    "pycharm": {
     "name": "#%% md\n"
    }
   },
   "source": [
    "## The Chart Object\n",
    "\n",
    "Visualization begins with data and this is true when we use Altair.\n",
    "Our first course of action is to attach the data frame to the fundamental object in Altair, the `Chart`.\n",
    "The `Chart` takes a data frame as a single argument:"
   ]
  },
  {
   "cell_type": "code",
   "execution_count": 11,
   "id": "307e9408-5800-40d7-a584-9d572a2c2bdb",
   "metadata": {
    "colab": {},
    "colab_type": "code",
    "id": "QqF4GKjDcG4y",
    "pycharm": {
     "name": "#%%\n"
    }
   },
   "outputs": [],
   "source": [
    "chart = alt.Chart(df)"
   ]
  },
  {
   "cell_type": "markdown",
   "id": "5801f291-86b1-4889-9421-f910fe9ae17d",
   "metadata": {
    "colab_type": "text",
    "id": "9i5gX1tWcKAu",
    "pycharm": {
     "name": "#%% md\n"
    }
   },
   "source": [
    "So far, we have defined the `Chart` object and passed it the simple data frame we generated above. We have not yet told the chart to *do* anything with the data."
   ]
  },
  {
   "cell_type": "markdown",
   "id": "0172f697-666b-428c-ba78-0fe2a066e82f",
   "metadata": {
    "colab_type": "text",
    "id": "_z0gVCb8cNgx",
    "pycharm": {
     "name": "#%% md\n"
    }
   },
   "source": [
    "## Marks and Encodings\n",
    "\n",
    "With a chart object in hand, we can now specify how we would like the data to be visualized. We first indicate what kind of graphical *mark* (geometric shape) we want to use to represent the data. We can set the `mark` attribute of the chart object using the the `Chart.mark_*` methods.\n",
    "\n",
    "For example, we can show the data as a point using `Chart.mark_point()`:"
   ]
  },
  {
   "cell_type": "code",
   "execution_count": 13,
   "id": "23784c2d-57a8-485b-84c8-a3f42f5377fc",
   "metadata": {
    "colab": {
     "base_uri": "https://localhost:8080/",
     "height": 52
    },
    "colab_type": "code",
    "id": "NmlAmwX4cXzE",
    "outputId": "960ad0d0-ed22-4ebb-eff6-c652068d5b1e",
    "pycharm": {
     "name": "#%%\n"
    }
   },
   "outputs": [
    {
     "data": {
      "text/html": [
       "\n",
       "<div id=\"altair-viz-ca8c586f9d5a4180b037f20c10abad7d\"></div>\n",
       "<script type=\"text/javascript\">\n",
       "  var VEGA_DEBUG = (typeof VEGA_DEBUG == \"undefined\") ? {} : VEGA_DEBUG;\n",
       "  (function(spec, embedOpt){\n",
       "    let outputDiv = document.currentScript.previousElementSibling;\n",
       "    if (outputDiv.id !== \"altair-viz-ca8c586f9d5a4180b037f20c10abad7d\") {\n",
       "      outputDiv = document.getElementById(\"altair-viz-ca8c586f9d5a4180b037f20c10abad7d\");\n",
       "    }\n",
       "    const paths = {\n",
       "      \"vega\": \"https://cdn.jsdelivr.net/npm//vega@5?noext\",\n",
       "      \"vega-lib\": \"https://cdn.jsdelivr.net/npm//vega-lib?noext\",\n",
       "      \"vega-lite\": \"https://cdn.jsdelivr.net/npm//vega-lite@4.17.0?noext\",\n",
       "      \"vega-embed\": \"https://cdn.jsdelivr.net/npm//vega-embed@6?noext\",\n",
       "    };\n",
       "\n",
       "    function maybeLoadScript(lib, version) {\n",
       "      var key = `${lib.replace(\"-\", \"\")}_version`;\n",
       "      return (VEGA_DEBUG[key] == version) ?\n",
       "        Promise.resolve(paths[lib]) :\n",
       "        new Promise(function(resolve, reject) {\n",
       "          var s = document.createElement('script');\n",
       "          document.getElementsByTagName(\"head\")[0].appendChild(s);\n",
       "          s.async = true;\n",
       "          s.onload = () => {\n",
       "            VEGA_DEBUG[key] = version;\n",
       "            return resolve(paths[lib]);\n",
       "          };\n",
       "          s.onerror = () => reject(`Error loading script: ${paths[lib]}`);\n",
       "          s.src = paths[lib];\n",
       "        });\n",
       "    }\n",
       "\n",
       "    function showError(err) {\n",
       "      outputDiv.innerHTML = `<div class=\"error\" style=\"color:red;\">${err}</div>`;\n",
       "      throw err;\n",
       "    }\n",
       "\n",
       "    function displayChart(vegaEmbed) {\n",
       "      vegaEmbed(outputDiv, spec, embedOpt)\n",
       "        .catch(err => showError(`Javascript Error: ${err.message}<br>This usually means there's a typo in your chart specification. See the javascript console for the full traceback.`));\n",
       "    }\n",
       "\n",
       "    if(typeof define === \"function\" && define.amd) {\n",
       "      requirejs.config({paths});\n",
       "      require([\"vega-embed\"], displayChart, err => showError(`Error loading script: ${err.message}`));\n",
       "    } else {\n",
       "      maybeLoadScript(\"vega\", \"5\")\n",
       "        .then(() => maybeLoadScript(\"vega-lite\", \"4.17.0\"))\n",
       "        .then(() => maybeLoadScript(\"vega-embed\", \"6\"))\n",
       "        .catch(showError)\n",
       "        .then(() => displayChart(vegaEmbed));\n",
       "    }\n",
       "  })({\"config\": {\"view\": {\"continuousWidth\": 400, \"continuousHeight\": 300}}, \"data\": {\"name\": \"data-e882fe3edc48634ed74c54554235352c\"}, \"mark\": \"point\", \"$schema\": \"https://vega.github.io/schema/vega-lite/v4.17.0.json\", \"datasets\": {\"data-e882fe3edc48634ed74c54554235352c\": [{\"airport\": \"Calgary\", \"year\": 2000, \"month\": \"January\", \"temp\": -9.7, \"rain\": 0.0, \"snow\": 23.8, \"precip\": 10.2}, {\"airport\": \"Calgary\", \"year\": 2000, \"month\": \"May\", \"temp\": 8.8, \"rain\": 22.6, \"snow\": 6.4, \"precip\": 28.8}, {\"airport\": \"Calgary\", \"year\": 2000, \"month\": \"September\", \"temp\": 10.7, \"rain\": 52.8, \"snow\": 0.8, \"precip\": 53.6}, {\"airport\": \"Montreal\", \"year\": 2000, \"month\": \"January\", \"temp\": -10.1, \"rain\": 20.0, \"snow\": 64.8, \"precip\": 95.8}, {\"airport\": \"Montreal\", \"year\": 2000, \"month\": \"May\", \"temp\": 13.3, \"rain\": 132.5, \"snow\": 0.0, \"precip\": 132.5}, {\"airport\": \"Montreal\", \"year\": 2000, \"month\": \"September\", \"temp\": 14.3, \"rain\": 65.5, \"snow\": 0.0, \"precip\": 65.5}, {\"airport\": \"Toronto\", \"year\": 2000, \"month\": \"January\", \"temp\": -5.8, \"rain\": 16.4, \"snow\": 17.0, \"precip\": 29.2}, {\"airport\": \"Toronto\", \"year\": 2000, \"month\": \"May\", \"temp\": 14.3, \"rain\": 124.4, \"snow\": 0.0, \"precip\": 124.4}, {\"airport\": \"Toronto\", \"year\": 2000, \"month\": \"September\", \"temp\": 15.9, \"rain\": 70.0, \"snow\": 0.0, \"precip\": 70.0}, {\"airport\": \"Vancouver\", \"year\": 2000, \"month\": \"January\", \"temp\": 3.5, \"rain\": 134.0, \"snow\": 18.8, \"precip\": 151.4}, {\"airport\": \"Vancouver\", \"year\": 2000, \"month\": \"May\", \"temp\": 11.7, \"rain\": 103.0, \"snow\": 0.0, \"precip\": 103.0}, {\"airport\": \"Vancouver\", \"year\": 2000, \"month\": \"September\", \"temp\": 15.0, \"rain\": 48.0, \"snow\": 0.0, \"precip\": 48.0}]}}, {\"mode\": \"vega-lite\"});\n",
       "</script>"
      ],
      "text/plain": [
       "alt.Chart(...)"
      ]
     },
     "execution_count": 13,
     "metadata": {},
     "output_type": "execute_result"
    }
   ],
   "source": [
    "alt.Chart(df).mark_point()"
   ]
  },
  {
   "cell_type": "markdown",
   "id": "166b1560-b6f1-4929-aa53-c9e5d6b9d3ff",
   "metadata": {
    "colab_type": "text",
    "id": "Gudr0jvVcgAi",
    "pycharm": {
     "name": "#%% md\n"
    }
   },
   "source": [
    "Here the rendering consists of one point per row in the dataset, all plotted on top of each other, since we have not yet specified positions for these points.\n",
    "\n",
    "To visually separate the points, we can map various *encoding channels*, or *channels* for short, to fields in the dataset. For example, we could *encode* the field `'airport'` of the data using the `y` channel, which represents the y-axis position of the points. To specify this, use the `encode` method:\n"
   ]
  },
  {
   "cell_type": "code",
   "execution_count": 14,
   "id": "14301b4e-73b9-43d1-be3c-881f7c1daaa6",
   "metadata": {
    "colab": {
     "base_uri": "https://localhost:8080/",
     "height": 94
    },
    "colab_type": "code",
    "id": "lEWZ7mWTcrik",
    "outputId": "88da80a6-f46f-4fc6-c27e-f139e372f6ff",
    "pycharm": {
     "name": "#%%\n"
    }
   },
   "outputs": [
    {
     "data": {
      "text/html": [
       "\n",
       "<div id=\"altair-viz-0cb7c6356f4041c8a804a00338de80ca\"></div>\n",
       "<script type=\"text/javascript\">\n",
       "  var VEGA_DEBUG = (typeof VEGA_DEBUG == \"undefined\") ? {} : VEGA_DEBUG;\n",
       "  (function(spec, embedOpt){\n",
       "    let outputDiv = document.currentScript.previousElementSibling;\n",
       "    if (outputDiv.id !== \"altair-viz-0cb7c6356f4041c8a804a00338de80ca\") {\n",
       "      outputDiv = document.getElementById(\"altair-viz-0cb7c6356f4041c8a804a00338de80ca\");\n",
       "    }\n",
       "    const paths = {\n",
       "      \"vega\": \"https://cdn.jsdelivr.net/npm//vega@5?noext\",\n",
       "      \"vega-lib\": \"https://cdn.jsdelivr.net/npm//vega-lib?noext\",\n",
       "      \"vega-lite\": \"https://cdn.jsdelivr.net/npm//vega-lite@4.17.0?noext\",\n",
       "      \"vega-embed\": \"https://cdn.jsdelivr.net/npm//vega-embed@6?noext\",\n",
       "    };\n",
       "\n",
       "    function maybeLoadScript(lib, version) {\n",
       "      var key = `${lib.replace(\"-\", \"\")}_version`;\n",
       "      return (VEGA_DEBUG[key] == version) ?\n",
       "        Promise.resolve(paths[lib]) :\n",
       "        new Promise(function(resolve, reject) {\n",
       "          var s = document.createElement('script');\n",
       "          document.getElementsByTagName(\"head\")[0].appendChild(s);\n",
       "          s.async = true;\n",
       "          s.onload = () => {\n",
       "            VEGA_DEBUG[key] = version;\n",
       "            return resolve(paths[lib]);\n",
       "          };\n",
       "          s.onerror = () => reject(`Error loading script: ${paths[lib]}`);\n",
       "          s.src = paths[lib];\n",
       "        });\n",
       "    }\n",
       "\n",
       "    function showError(err) {\n",
       "      outputDiv.innerHTML = `<div class=\"error\" style=\"color:red;\">${err}</div>`;\n",
       "      throw err;\n",
       "    }\n",
       "\n",
       "    function displayChart(vegaEmbed) {\n",
       "      vegaEmbed(outputDiv, spec, embedOpt)\n",
       "        .catch(err => showError(`Javascript Error: ${err.message}<br>This usually means there's a typo in your chart specification. See the javascript console for the full traceback.`));\n",
       "    }\n",
       "\n",
       "    if(typeof define === \"function\" && define.amd) {\n",
       "      requirejs.config({paths});\n",
       "      require([\"vega-embed\"], displayChart, err => showError(`Error loading script: ${err.message}`));\n",
       "    } else {\n",
       "      maybeLoadScript(\"vega\", \"5\")\n",
       "        .then(() => maybeLoadScript(\"vega-lite\", \"4.17.0\"))\n",
       "        .then(() => maybeLoadScript(\"vega-embed\", \"6\"))\n",
       "        .catch(showError)\n",
       "        .then(() => displayChart(vegaEmbed));\n",
       "    }\n",
       "  })({\"config\": {\"view\": {\"continuousWidth\": 400, \"continuousHeight\": 300}}, \"data\": {\"name\": \"data-e882fe3edc48634ed74c54554235352c\"}, \"mark\": \"point\", \"encoding\": {\"y\": {\"field\": \"airport\", \"type\": \"nominal\"}}, \"$schema\": \"https://vega.github.io/schema/vega-lite/v4.17.0.json\", \"datasets\": {\"data-e882fe3edc48634ed74c54554235352c\": [{\"airport\": \"Calgary\", \"year\": 2000, \"month\": \"January\", \"temp\": -9.7, \"rain\": 0.0, \"snow\": 23.8, \"precip\": 10.2}, {\"airport\": \"Calgary\", \"year\": 2000, \"month\": \"May\", \"temp\": 8.8, \"rain\": 22.6, \"snow\": 6.4, \"precip\": 28.8}, {\"airport\": \"Calgary\", \"year\": 2000, \"month\": \"September\", \"temp\": 10.7, \"rain\": 52.8, \"snow\": 0.8, \"precip\": 53.6}, {\"airport\": \"Montreal\", \"year\": 2000, \"month\": \"January\", \"temp\": -10.1, \"rain\": 20.0, \"snow\": 64.8, \"precip\": 95.8}, {\"airport\": \"Montreal\", \"year\": 2000, \"month\": \"May\", \"temp\": 13.3, \"rain\": 132.5, \"snow\": 0.0, \"precip\": 132.5}, {\"airport\": \"Montreal\", \"year\": 2000, \"month\": \"September\", \"temp\": 14.3, \"rain\": 65.5, \"snow\": 0.0, \"precip\": 65.5}, {\"airport\": \"Toronto\", \"year\": 2000, \"month\": \"January\", \"temp\": -5.8, \"rain\": 16.4, \"snow\": 17.0, \"precip\": 29.2}, {\"airport\": \"Toronto\", \"year\": 2000, \"month\": \"May\", \"temp\": 14.3, \"rain\": 124.4, \"snow\": 0.0, \"precip\": 124.4}, {\"airport\": \"Toronto\", \"year\": 2000, \"month\": \"September\", \"temp\": 15.9, \"rain\": 70.0, \"snow\": 0.0, \"precip\": 70.0}, {\"airport\": \"Vancouver\", \"year\": 2000, \"month\": \"January\", \"temp\": 3.5, \"rain\": 134.0, \"snow\": 18.8, \"precip\": 151.4}, {\"airport\": \"Vancouver\", \"year\": 2000, \"month\": \"May\", \"temp\": 11.7, \"rain\": 103.0, \"snow\": 0.0, \"precip\": 103.0}, {\"airport\": \"Vancouver\", \"year\": 2000, \"month\": \"September\", \"temp\": 15.0, \"rain\": 48.0, \"snow\": 0.0, \"precip\": 48.0}]}}, {\"mode\": \"vega-lite\"});\n",
       "</script>"
      ],
      "text/plain": [
       "alt.Chart(...)"
      ]
     },
     "execution_count": 14,
     "metadata": {},
     "output_type": "execute_result"
    }
   ],
   "source": [
    "alt.Chart(df).mark_point().encode(\n",
    "  y='airport',\n",
    ")"
   ]
  },
  {
   "cell_type": "markdown",
   "id": "bcc156ec-16f2-4662-8bec-c20639f1829e",
   "metadata": {
    "colab_type": "text",
    "id": "wbHHAt-8czdt",
    "pycharm": {
     "name": "#%% md\n"
    }
   },
   "source": [
    "The `encode()` method builds a key-value mapping between encoding channels (such as `x`, `y`, `color`, `shape`, `size`, *etc.*) to fields in the dataset, accessed by field name. For Pandas data frames, Altair automatically determines an appropriate data type for the mapped column, which in this case is the *nominal* type, indicating unordered, categorical values.\n",
    "This level of abstraction allows the designer to focus on the higher level constructs of what is being encoded as opposed to the nitty-gritty at the code level."
   ]
  },
  {
   "cell_type": "markdown",
   "id": "df9921e6",
   "metadata": {
    "pycharm": {
     "name": "#%% md\n"
    }
   },
   "source": [
    "Though we have now separated the data by one attribute, we still have multiple points overlapping within each category. Let's further separate these by adding an `x` encoding channel, mapped to the `'month'` field:"
   ]
  },
  {
   "cell_type": "code",
   "execution_count": 15,
   "id": "490c90df",
   "metadata": {
    "collapsed": false,
    "jupyter": {
     "outputs_hidden": false
    },
    "pycharm": {
     "name": "#%%\n"
    }
   },
   "outputs": [
    {
     "data": {
      "text/html": [
       "\n",
       "<div id=\"altair-viz-1e16351c25c5469bbecdfc7044192283\"></div>\n",
       "<script type=\"text/javascript\">\n",
       "  var VEGA_DEBUG = (typeof VEGA_DEBUG == \"undefined\") ? {} : VEGA_DEBUG;\n",
       "  (function(spec, embedOpt){\n",
       "    let outputDiv = document.currentScript.previousElementSibling;\n",
       "    if (outputDiv.id !== \"altair-viz-1e16351c25c5469bbecdfc7044192283\") {\n",
       "      outputDiv = document.getElementById(\"altair-viz-1e16351c25c5469bbecdfc7044192283\");\n",
       "    }\n",
       "    const paths = {\n",
       "      \"vega\": \"https://cdn.jsdelivr.net/npm//vega@5?noext\",\n",
       "      \"vega-lib\": \"https://cdn.jsdelivr.net/npm//vega-lib?noext\",\n",
       "      \"vega-lite\": \"https://cdn.jsdelivr.net/npm//vega-lite@4.17.0?noext\",\n",
       "      \"vega-embed\": \"https://cdn.jsdelivr.net/npm//vega-embed@6?noext\",\n",
       "    };\n",
       "\n",
       "    function maybeLoadScript(lib, version) {\n",
       "      var key = `${lib.replace(\"-\", \"\")}_version`;\n",
       "      return (VEGA_DEBUG[key] == version) ?\n",
       "        Promise.resolve(paths[lib]) :\n",
       "        new Promise(function(resolve, reject) {\n",
       "          var s = document.createElement('script');\n",
       "          document.getElementsByTagName(\"head\")[0].appendChild(s);\n",
       "          s.async = true;\n",
       "          s.onload = () => {\n",
       "            VEGA_DEBUG[key] = version;\n",
       "            return resolve(paths[lib]);\n",
       "          };\n",
       "          s.onerror = () => reject(`Error loading script: ${paths[lib]}`);\n",
       "          s.src = paths[lib];\n",
       "        });\n",
       "    }\n",
       "\n",
       "    function showError(err) {\n",
       "      outputDiv.innerHTML = `<div class=\"error\" style=\"color:red;\">${err}</div>`;\n",
       "      throw err;\n",
       "    }\n",
       "\n",
       "    function displayChart(vegaEmbed) {\n",
       "      vegaEmbed(outputDiv, spec, embedOpt)\n",
       "        .catch(err => showError(`Javascript Error: ${err.message}<br>This usually means there's a typo in your chart specification. See the javascript console for the full traceback.`));\n",
       "    }\n",
       "\n",
       "    if(typeof define === \"function\" && define.amd) {\n",
       "      requirejs.config({paths});\n",
       "      require([\"vega-embed\"], displayChart, err => showError(`Error loading script: ${err.message}`));\n",
       "    } else {\n",
       "      maybeLoadScript(\"vega\", \"5\")\n",
       "        .then(() => maybeLoadScript(\"vega-lite\", \"4.17.0\"))\n",
       "        .then(() => maybeLoadScript(\"vega-embed\", \"6\"))\n",
       "        .catch(showError)\n",
       "        .then(() => displayChart(vegaEmbed));\n",
       "    }\n",
       "  })({\"config\": {\"view\": {\"continuousWidth\": 400, \"continuousHeight\": 300}}, \"data\": {\"name\": \"data-e882fe3edc48634ed74c54554235352c\"}, \"mark\": \"point\", \"encoding\": {\"x\": {\"field\": \"month\", \"type\": \"nominal\"}, \"y\": {\"field\": \"airport\", \"type\": \"nominal\"}}, \"$schema\": \"https://vega.github.io/schema/vega-lite/v4.17.0.json\", \"datasets\": {\"data-e882fe3edc48634ed74c54554235352c\": [{\"airport\": \"Calgary\", \"year\": 2000, \"month\": \"January\", \"temp\": -9.7, \"rain\": 0.0, \"snow\": 23.8, \"precip\": 10.2}, {\"airport\": \"Calgary\", \"year\": 2000, \"month\": \"May\", \"temp\": 8.8, \"rain\": 22.6, \"snow\": 6.4, \"precip\": 28.8}, {\"airport\": \"Calgary\", \"year\": 2000, \"month\": \"September\", \"temp\": 10.7, \"rain\": 52.8, \"snow\": 0.8, \"precip\": 53.6}, {\"airport\": \"Montreal\", \"year\": 2000, \"month\": \"January\", \"temp\": -10.1, \"rain\": 20.0, \"snow\": 64.8, \"precip\": 95.8}, {\"airport\": \"Montreal\", \"year\": 2000, \"month\": \"May\", \"temp\": 13.3, \"rain\": 132.5, \"snow\": 0.0, \"precip\": 132.5}, {\"airport\": \"Montreal\", \"year\": 2000, \"month\": \"September\", \"temp\": 14.3, \"rain\": 65.5, \"snow\": 0.0, \"precip\": 65.5}, {\"airport\": \"Toronto\", \"year\": 2000, \"month\": \"January\", \"temp\": -5.8, \"rain\": 16.4, \"snow\": 17.0, \"precip\": 29.2}, {\"airport\": \"Toronto\", \"year\": 2000, \"month\": \"May\", \"temp\": 14.3, \"rain\": 124.4, \"snow\": 0.0, \"precip\": 124.4}, {\"airport\": \"Toronto\", \"year\": 2000, \"month\": \"September\", \"temp\": 15.9, \"rain\": 70.0, \"snow\": 0.0, \"precip\": 70.0}, {\"airport\": \"Vancouver\", \"year\": 2000, \"month\": \"January\", \"temp\": 3.5, \"rain\": 134.0, \"snow\": 18.8, \"precip\": 151.4}, {\"airport\": \"Vancouver\", \"year\": 2000, \"month\": \"May\", \"temp\": 11.7, \"rain\": 103.0, \"snow\": 0.0, \"precip\": 103.0}, {\"airport\": \"Vancouver\", \"year\": 2000, \"month\": \"September\", \"temp\": 15.0, \"rain\": 48.0, \"snow\": 0.0, \"precip\": 48.0}]}}, {\"mode\": \"vega-lite\"});\n",
       "</script>"
      ],
      "text/plain": [
       "alt.Chart(...)"
      ]
     },
     "execution_count": 15,
     "metadata": {},
     "output_type": "execute_result"
    }
   ],
   "source": [
    "alt.Chart(df).mark_point().encode(\n",
    "    y='airport',\n",
    "    x='month'\n",
    ")"
   ]
  },
  {
   "cell_type": "markdown",
   "id": "6307ab0e",
   "metadata": {
    "pycharm": {
     "name": "#%% md\n"
    }
   },
   "source": [
    "This visual representation does not really provide us with any insights that we could not infer from the data table. Choosing which channel should be used to encode the data is not a trivial endeavour. In the coming notebooks, we will explore this issue in detail.\n",
    "\n",
    "Let's change the data that is encoded on the `x` channel from `'month'` to the `'rain'` field"
   ]
  },
  {
   "cell_type": "code",
   "execution_count": 20,
   "id": "b2cfe275",
   "metadata": {
    "collapsed": false,
    "jupyter": {
     "outputs_hidden": false
    },
    "pycharm": {
     "name": "#%%\n"
    }
   },
   "outputs": [
    {
     "data": {
      "text/html": [
       "\n",
       "<div id=\"altair-viz-19153834797249f380ac679cfb3e0552\"></div>\n",
       "<script type=\"text/javascript\">\n",
       "  var VEGA_DEBUG = (typeof VEGA_DEBUG == \"undefined\") ? {} : VEGA_DEBUG;\n",
       "  (function(spec, embedOpt){\n",
       "    let outputDiv = document.currentScript.previousElementSibling;\n",
       "    if (outputDiv.id !== \"altair-viz-19153834797249f380ac679cfb3e0552\") {\n",
       "      outputDiv = document.getElementById(\"altair-viz-19153834797249f380ac679cfb3e0552\");\n",
       "    }\n",
       "    const paths = {\n",
       "      \"vega\": \"https://cdn.jsdelivr.net/npm//vega@5?noext\",\n",
       "      \"vega-lib\": \"https://cdn.jsdelivr.net/npm//vega-lib?noext\",\n",
       "      \"vega-lite\": \"https://cdn.jsdelivr.net/npm//vega-lite@4.17.0?noext\",\n",
       "      \"vega-embed\": \"https://cdn.jsdelivr.net/npm//vega-embed@6?noext\",\n",
       "    };\n",
       "\n",
       "    function maybeLoadScript(lib, version) {\n",
       "      var key = `${lib.replace(\"-\", \"\")}_version`;\n",
       "      return (VEGA_DEBUG[key] == version) ?\n",
       "        Promise.resolve(paths[lib]) :\n",
       "        new Promise(function(resolve, reject) {\n",
       "          var s = document.createElement('script');\n",
       "          document.getElementsByTagName(\"head\")[0].appendChild(s);\n",
       "          s.async = true;\n",
       "          s.onload = () => {\n",
       "            VEGA_DEBUG[key] = version;\n",
       "            return resolve(paths[lib]);\n",
       "          };\n",
       "          s.onerror = () => reject(`Error loading script: ${paths[lib]}`);\n",
       "          s.src = paths[lib];\n",
       "        });\n",
       "    }\n",
       "\n",
       "    function showError(err) {\n",
       "      outputDiv.innerHTML = `<div class=\"error\" style=\"color:red;\">${err}</div>`;\n",
       "      throw err;\n",
       "    }\n",
       "\n",
       "    function displayChart(vegaEmbed) {\n",
       "      vegaEmbed(outputDiv, spec, embedOpt)\n",
       "        .catch(err => showError(`Javascript Error: ${err.message}<br>This usually means there's a typo in your chart specification. See the javascript console for the full traceback.`));\n",
       "    }\n",
       "\n",
       "    if(typeof define === \"function\" && define.amd) {\n",
       "      requirejs.config({paths});\n",
       "      require([\"vega-embed\"], displayChart, err => showError(`Error loading script: ${err.message}`));\n",
       "    } else {\n",
       "      maybeLoadScript(\"vega\", \"5\")\n",
       "        .then(() => maybeLoadScript(\"vega-lite\", \"4.17.0\"))\n",
       "        .then(() => maybeLoadScript(\"vega-embed\", \"6\"))\n",
       "        .catch(showError)\n",
       "        .then(() => displayChart(vegaEmbed));\n",
       "    }\n",
       "  })({\"config\": {\"view\": {\"continuousWidth\": 400, \"continuousHeight\": 300}}, \"data\": {\"name\": \"data-e882fe3edc48634ed74c54554235352c\"}, \"mark\": \"point\", \"encoding\": {\"x\": {\"field\": \"rain\", \"type\": \"quantitative\"}, \"y\": {\"field\": \"airport\", \"type\": \"nominal\"}}, \"$schema\": \"https://vega.github.io/schema/vega-lite/v4.17.0.json\", \"datasets\": {\"data-e882fe3edc48634ed74c54554235352c\": [{\"airport\": \"Calgary\", \"year\": 2000, \"month\": \"January\", \"temp\": -9.7, \"rain\": 0.0, \"snow\": 23.8, \"precip\": 10.2}, {\"airport\": \"Calgary\", \"year\": 2000, \"month\": \"May\", \"temp\": 8.8, \"rain\": 22.6, \"snow\": 6.4, \"precip\": 28.8}, {\"airport\": \"Calgary\", \"year\": 2000, \"month\": \"September\", \"temp\": 10.7, \"rain\": 52.8, \"snow\": 0.8, \"precip\": 53.6}, {\"airport\": \"Montreal\", \"year\": 2000, \"month\": \"January\", \"temp\": -10.1, \"rain\": 20.0, \"snow\": 64.8, \"precip\": 95.8}, {\"airport\": \"Montreal\", \"year\": 2000, \"month\": \"May\", \"temp\": 13.3, \"rain\": 132.5, \"snow\": 0.0, \"precip\": 132.5}, {\"airport\": \"Montreal\", \"year\": 2000, \"month\": \"September\", \"temp\": 14.3, \"rain\": 65.5, \"snow\": 0.0, \"precip\": 65.5}, {\"airport\": \"Toronto\", \"year\": 2000, \"month\": \"January\", \"temp\": -5.8, \"rain\": 16.4, \"snow\": 17.0, \"precip\": 29.2}, {\"airport\": \"Toronto\", \"year\": 2000, \"month\": \"May\", \"temp\": 14.3, \"rain\": 124.4, \"snow\": 0.0, \"precip\": 124.4}, {\"airport\": \"Toronto\", \"year\": 2000, \"month\": \"September\", \"temp\": 15.9, \"rain\": 70.0, \"snow\": 0.0, \"precip\": 70.0}, {\"airport\": \"Vancouver\", \"year\": 2000, \"month\": \"January\", \"temp\": 3.5, \"rain\": 134.0, \"snow\": 18.8, \"precip\": 151.4}, {\"airport\": \"Vancouver\", \"year\": 2000, \"month\": \"May\", \"temp\": 11.7, \"rain\": 103.0, \"snow\": 0.0, \"precip\": 103.0}, {\"airport\": \"Vancouver\", \"year\": 2000, \"month\": \"September\", \"temp\": 15.0, \"rain\": 48.0, \"snow\": 0.0, \"precip\": 48.0}]}}, {\"mode\": \"vega-lite\"});\n",
       "</script>"
      ],
      "text/plain": [
       "alt.Chart(...)"
      ]
     },
     "execution_count": 20,
     "metadata": {},
     "output_type": "execute_result"
    }
   ],
   "source": [
    "alt.Chart(df).mark_point().encode(\n",
    "    y='airport',\n",
    "    x='rain',\n",
    ")"
   ]
  },
  {
   "cell_type": "markdown",
   "id": "cc9d9588-a3da-40ba-b2aa-9c4808534eae",
   "metadata": {
    "colab_type": "text",
    "id": "Ya2UCgS7dSbS",
    "pycharm": {
     "name": "#%% md\n"
    }
   },
   "source": [
    "_The Calgary airport has the least amount of rain and the Vancouver airport has the most._\n",
    "\n",
    "The data type of the `'rain'` field is again automatically inferred by Altair, and this time is treated as a *quantitative* type (that is, a real-valued number). We see that grid lines and appropriate axis titles are automatically added as well.\n",
    "\n",
    "Above we have specified key-value pairs using keyword arguments (`x='rain'`). In addition, Altair provides construction methods for encoding definitions, using the syntax `alt.X('rain')`. This alternative is useful for providing more parameters to an encoding, as we will see later in this notebook.\n"
   ]
  },
  {
   "cell_type": "code",
   "execution_count": 17,
   "id": "ee619a10",
   "metadata": {
    "collapsed": false,
    "jupyter": {
     "outputs_hidden": false
    },
    "pycharm": {
     "name": "#%%\n"
    }
   },
   "outputs": [
    {
     "data": {
      "text/html": [
       "\n",
       "<div id=\"altair-viz-85bc03b0a2594a45b79199be155bb7ad\"></div>\n",
       "<script type=\"text/javascript\">\n",
       "  var VEGA_DEBUG = (typeof VEGA_DEBUG == \"undefined\") ? {} : VEGA_DEBUG;\n",
       "  (function(spec, embedOpt){\n",
       "    let outputDiv = document.currentScript.previousElementSibling;\n",
       "    if (outputDiv.id !== \"altair-viz-85bc03b0a2594a45b79199be155bb7ad\") {\n",
       "      outputDiv = document.getElementById(\"altair-viz-85bc03b0a2594a45b79199be155bb7ad\");\n",
       "    }\n",
       "    const paths = {\n",
       "      \"vega\": \"https://cdn.jsdelivr.net/npm//vega@5?noext\",\n",
       "      \"vega-lib\": \"https://cdn.jsdelivr.net/npm//vega-lib?noext\",\n",
       "      \"vega-lite\": \"https://cdn.jsdelivr.net/npm//vega-lite@4.17.0?noext\",\n",
       "      \"vega-embed\": \"https://cdn.jsdelivr.net/npm//vega-embed@6?noext\",\n",
       "    };\n",
       "\n",
       "    function maybeLoadScript(lib, version) {\n",
       "      var key = `${lib.replace(\"-\", \"\")}_version`;\n",
       "      return (VEGA_DEBUG[key] == version) ?\n",
       "        Promise.resolve(paths[lib]) :\n",
       "        new Promise(function(resolve, reject) {\n",
       "          var s = document.createElement('script');\n",
       "          document.getElementsByTagName(\"head\")[0].appendChild(s);\n",
       "          s.async = true;\n",
       "          s.onload = () => {\n",
       "            VEGA_DEBUG[key] = version;\n",
       "            return resolve(paths[lib]);\n",
       "          };\n",
       "          s.onerror = () => reject(`Error loading script: ${paths[lib]}`);\n",
       "          s.src = paths[lib];\n",
       "        });\n",
       "    }\n",
       "\n",
       "    function showError(err) {\n",
       "      outputDiv.innerHTML = `<div class=\"error\" style=\"color:red;\">${err}</div>`;\n",
       "      throw err;\n",
       "    }\n",
       "\n",
       "    function displayChart(vegaEmbed) {\n",
       "      vegaEmbed(outputDiv, spec, embedOpt)\n",
       "        .catch(err => showError(`Javascript Error: ${err.message}<br>This usually means there's a typo in your chart specification. See the javascript console for the full traceback.`));\n",
       "    }\n",
       "\n",
       "    if(typeof define === \"function\" && define.amd) {\n",
       "      requirejs.config({paths});\n",
       "      require([\"vega-embed\"], displayChart, err => showError(`Error loading script: ${err.message}`));\n",
       "    } else {\n",
       "      maybeLoadScript(\"vega\", \"5\")\n",
       "        .then(() => maybeLoadScript(\"vega-lite\", \"4.17.0\"))\n",
       "        .then(() => maybeLoadScript(\"vega-embed\", \"6\"))\n",
       "        .catch(showError)\n",
       "        .then(() => displayChart(vegaEmbed));\n",
       "    }\n",
       "  })({\"config\": {\"view\": {\"continuousWidth\": 400, \"continuousHeight\": 300}}, \"data\": {\"name\": \"data-e882fe3edc48634ed74c54554235352c\"}, \"mark\": \"point\", \"encoding\": {\"x\": {\"field\": \"rain\", \"type\": \"quantitative\"}, \"y\": {\"field\": \"airport\", \"type\": \"nominal\"}}, \"$schema\": \"https://vega.github.io/schema/vega-lite/v4.17.0.json\", \"datasets\": {\"data-e882fe3edc48634ed74c54554235352c\": [{\"airport\": \"Calgary\", \"year\": 2000, \"month\": \"January\", \"temp\": -9.7, \"rain\": 0.0, \"snow\": 23.8, \"precip\": 10.2}, {\"airport\": \"Calgary\", \"year\": 2000, \"month\": \"May\", \"temp\": 8.8, \"rain\": 22.6, \"snow\": 6.4, \"precip\": 28.8}, {\"airport\": \"Calgary\", \"year\": 2000, \"month\": \"September\", \"temp\": 10.7, \"rain\": 52.8, \"snow\": 0.8, \"precip\": 53.6}, {\"airport\": \"Montreal\", \"year\": 2000, \"month\": \"January\", \"temp\": -10.1, \"rain\": 20.0, \"snow\": 64.8, \"precip\": 95.8}, {\"airport\": \"Montreal\", \"year\": 2000, \"month\": \"May\", \"temp\": 13.3, \"rain\": 132.5, \"snow\": 0.0, \"precip\": 132.5}, {\"airport\": \"Montreal\", \"year\": 2000, \"month\": \"September\", \"temp\": 14.3, \"rain\": 65.5, \"snow\": 0.0, \"precip\": 65.5}, {\"airport\": \"Toronto\", \"year\": 2000, \"month\": \"January\", \"temp\": -5.8, \"rain\": 16.4, \"snow\": 17.0, \"precip\": 29.2}, {\"airport\": \"Toronto\", \"year\": 2000, \"month\": \"May\", \"temp\": 14.3, \"rain\": 124.4, \"snow\": 0.0, \"precip\": 124.4}, {\"airport\": \"Toronto\", \"year\": 2000, \"month\": \"September\", \"temp\": 15.9, \"rain\": 70.0, \"snow\": 0.0, \"precip\": 70.0}, {\"airport\": \"Vancouver\", \"year\": 2000, \"month\": \"January\", \"temp\": 3.5, \"rain\": 134.0, \"snow\": 18.8, \"precip\": 151.4}, {\"airport\": \"Vancouver\", \"year\": 2000, \"month\": \"May\", \"temp\": 11.7, \"rain\": 103.0, \"snow\": 0.0, \"precip\": 103.0}, {\"airport\": \"Vancouver\", \"year\": 2000, \"month\": \"September\", \"temp\": 15.0, \"rain\": 48.0, \"snow\": 0.0, \"precip\": 48.0}]}}, {\"mode\": \"vega-lite\"});\n",
       "</script>"
      ],
      "text/plain": [
       "alt.Chart(...)"
      ]
     },
     "execution_count": 17,
     "metadata": {},
     "output_type": "execute_result"
    }
   ],
   "source": [
    "alt.Chart(df).mark_point().encode(\n",
    "    alt.Y('airport'),\n",
    "    alt.X('rain'),\n",
    ")"
   ]
  },
  {
   "cell_type": "markdown",
   "id": "1391ab6c",
   "metadata": {
    "pycharm": {
     "name": "#%% md\n"
    }
   },
   "source": [
    "The two styles of specifying encodings can be interleaved: `x='rain', alt.Y('city')` is also a valid input to the `encode` function.\n",
    "\n",
    "In the examples above, the data type for each field is inferred automatically based on its type within the Pandas data frame.  In the next notebook we will explicitly indicate the data type to Altair."
   ]
  },
  {
   "cell_type": "markdown",
   "id": "a28d0406",
   "metadata": {
    "pycharm": {
     "name": "#%% md\n"
    }
   },
   "source": [
    "## Data Aggregation\n",
    "\n",
    "To allow for more flexibility in how data are visualized, Altair has a built-in syntax for *aggregation* of data. For example, we can compute the average of all values by specifying an aggregation function along with the field name:"
   ]
  },
  {
   "cell_type": "code",
   "execution_count": 28,
   "id": "e9ae3d19",
   "metadata": {
    "collapsed": false,
    "jupyter": {
     "outputs_hidden": false
    },
    "pycharm": {
     "name": "#%%\n"
    }
   },
   "outputs": [],
   "source": [
    "# alt.Chart(df).mark_point().encode(\n",
    "#     y='airport',\n",
    "#     x='average(rain)',\n",
    "\n",
    "# )\n",
    "chart = chart.mark_point().encode(\n",
    "    y = \"airport\",\n",
    "    x = \"average(rain)\"\n",
    ")\n",
    "chart.save(\"a.html\")\n",
    "\n",
    "#alt.Chart.save(\"a.html\")"
   ]
  },
  {
   "cell_type": "markdown",
   "id": "ed26aef2",
   "metadata": {
    "pycharm": {
     "name": "#%% md\n"
    }
   },
   "source": [
    "Now within each x-axis category, we see a single point reflecting the *average* of the values within that category.\n",
    "\n",
    "_Does Calgary really have the lowest average rain fall of all these cities? (It does!) Still, how might this plot mislead? Which months are included? What counts as rain?_\n",
    "\n",
    "Altair supports a variety of aggregation functions, including `count`, `min` (minimum), `max` (maximum), `average`, `median`, and `stdev` (standard deviation). Aggregation is a data transformation. In a later notebook, we will take a tour of data transformations, including aggregation, sorting, filtering, and creation of new derived fields using calculation formulas."
   ]
  },
  {
   "cell_type": "markdown",
   "id": "48bef9dd",
   "metadata": {
    "pycharm": {
     "name": "#%% md\n"
    }
   },
   "source": [
    "## Changing the Mark Type\n",
    "\n",
    "Let's say we want to represent our aggregated values using rectangular bars rather than circular points. We can do this by replacing `Chart.mark_point` with `Chart.mark_bar`:"
   ]
  },
  {
   "cell_type": "code",
   "execution_count": 22,
   "id": "fe7cc3e6",
   "metadata": {
    "collapsed": false,
    "jupyter": {
     "outputs_hidden": false
    },
    "pycharm": {
     "name": "#%%\n"
    }
   },
   "outputs": [
    {
     "data": {
      "text/html": [
       "\n",
       "<div id=\"altair-viz-77bfd7f61af847ba9ffd5c2867479c40\"></div>\n",
       "<script type=\"text/javascript\">\n",
       "  var VEGA_DEBUG = (typeof VEGA_DEBUG == \"undefined\") ? {} : VEGA_DEBUG;\n",
       "  (function(spec, embedOpt){\n",
       "    let outputDiv = document.currentScript.previousElementSibling;\n",
       "    if (outputDiv.id !== \"altair-viz-77bfd7f61af847ba9ffd5c2867479c40\") {\n",
       "      outputDiv = document.getElementById(\"altair-viz-77bfd7f61af847ba9ffd5c2867479c40\");\n",
       "    }\n",
       "    const paths = {\n",
       "      \"vega\": \"https://cdn.jsdelivr.net/npm//vega@5?noext\",\n",
       "      \"vega-lib\": \"https://cdn.jsdelivr.net/npm//vega-lib?noext\",\n",
       "      \"vega-lite\": \"https://cdn.jsdelivr.net/npm//vega-lite@4.17.0?noext\",\n",
       "      \"vega-embed\": \"https://cdn.jsdelivr.net/npm//vega-embed@6?noext\",\n",
       "    };\n",
       "\n",
       "    function maybeLoadScript(lib, version) {\n",
       "      var key = `${lib.replace(\"-\", \"\")}_version`;\n",
       "      return (VEGA_DEBUG[key] == version) ?\n",
       "        Promise.resolve(paths[lib]) :\n",
       "        new Promise(function(resolve, reject) {\n",
       "          var s = document.createElement('script');\n",
       "          document.getElementsByTagName(\"head\")[0].appendChild(s);\n",
       "          s.async = true;\n",
       "          s.onload = () => {\n",
       "            VEGA_DEBUG[key] = version;\n",
       "            return resolve(paths[lib]);\n",
       "          };\n",
       "          s.onerror = () => reject(`Error loading script: ${paths[lib]}`);\n",
       "          s.src = paths[lib];\n",
       "        });\n",
       "    }\n",
       "\n",
       "    function showError(err) {\n",
       "      outputDiv.innerHTML = `<div class=\"error\" style=\"color:red;\">${err}</div>`;\n",
       "      throw err;\n",
       "    }\n",
       "\n",
       "    function displayChart(vegaEmbed) {\n",
       "      vegaEmbed(outputDiv, spec, embedOpt)\n",
       "        .catch(err => showError(`Javascript Error: ${err.message}<br>This usually means there's a typo in your chart specification. See the javascript console for the full traceback.`));\n",
       "    }\n",
       "\n",
       "    if(typeof define === \"function\" && define.amd) {\n",
       "      requirejs.config({paths});\n",
       "      require([\"vega-embed\"], displayChart, err => showError(`Error loading script: ${err.message}`));\n",
       "    } else {\n",
       "      maybeLoadScript(\"vega\", \"5\")\n",
       "        .then(() => maybeLoadScript(\"vega-lite\", \"4.17.0\"))\n",
       "        .then(() => maybeLoadScript(\"vega-embed\", \"6\"))\n",
       "        .catch(showError)\n",
       "        .then(() => displayChart(vegaEmbed));\n",
       "    }\n",
       "  })({\"config\": {\"view\": {\"continuousWidth\": 400, \"continuousHeight\": 300}}, \"data\": {\"name\": \"data-e882fe3edc48634ed74c54554235352c\"}, \"mark\": \"bar\", \"encoding\": {\"x\": {\"aggregate\": \"average\", \"field\": \"rain\", \"type\": \"quantitative\"}, \"y\": {\"field\": \"airport\", \"type\": \"nominal\"}}, \"$schema\": \"https://vega.github.io/schema/vega-lite/v4.17.0.json\", \"datasets\": {\"data-e882fe3edc48634ed74c54554235352c\": [{\"airport\": \"Calgary\", \"year\": 2000, \"month\": \"January\", \"temp\": -9.7, \"rain\": 0.0, \"snow\": 23.8, \"precip\": 10.2}, {\"airport\": \"Calgary\", \"year\": 2000, \"month\": \"May\", \"temp\": 8.8, \"rain\": 22.6, \"snow\": 6.4, \"precip\": 28.8}, {\"airport\": \"Calgary\", \"year\": 2000, \"month\": \"September\", \"temp\": 10.7, \"rain\": 52.8, \"snow\": 0.8, \"precip\": 53.6}, {\"airport\": \"Montreal\", \"year\": 2000, \"month\": \"January\", \"temp\": -10.1, \"rain\": 20.0, \"snow\": 64.8, \"precip\": 95.8}, {\"airport\": \"Montreal\", \"year\": 2000, \"month\": \"May\", \"temp\": 13.3, \"rain\": 132.5, \"snow\": 0.0, \"precip\": 132.5}, {\"airport\": \"Montreal\", \"year\": 2000, \"month\": \"September\", \"temp\": 14.3, \"rain\": 65.5, \"snow\": 0.0, \"precip\": 65.5}, {\"airport\": \"Toronto\", \"year\": 2000, \"month\": \"January\", \"temp\": -5.8, \"rain\": 16.4, \"snow\": 17.0, \"precip\": 29.2}, {\"airport\": \"Toronto\", \"year\": 2000, \"month\": \"May\", \"temp\": 14.3, \"rain\": 124.4, \"snow\": 0.0, \"precip\": 124.4}, {\"airport\": \"Toronto\", \"year\": 2000, \"month\": \"September\", \"temp\": 15.9, \"rain\": 70.0, \"snow\": 0.0, \"precip\": 70.0}, {\"airport\": \"Vancouver\", \"year\": 2000, \"month\": \"January\", \"temp\": 3.5, \"rain\": 134.0, \"snow\": 18.8, \"precip\": 151.4}, {\"airport\": \"Vancouver\", \"year\": 2000, \"month\": \"May\", \"temp\": 11.7, \"rain\": 103.0, \"snow\": 0.0, \"precip\": 103.0}, {\"airport\": \"Vancouver\", \"year\": 2000, \"month\": \"September\", \"temp\": 15.0, \"rain\": 48.0, \"snow\": 0.0, \"precip\": 48.0}]}}, {\"mode\": \"vega-lite\"});\n",
       "</script>"
      ],
      "text/plain": [
       "alt.Chart(...)"
      ]
     },
     "execution_count": 22,
     "metadata": {},
     "output_type": "execute_result"
    }
   ],
   "source": [
    "alt.Chart(df).mark_bar().encode(\n",
    "    y='airport',\n",
    "    x='average(rain)',\n",
    "\n",
    ")"
   ]
  },
  {
   "cell_type": "markdown",
   "id": "1d019986",
   "metadata": {
    "pycharm": {
     "name": "#%% md\n"
    }
   },
   "source": [
    "Because the nominal field `average` is mapped to the `y`-axis, the result is a horizontal bar chart. To get a vertical bar chart, we can simply swap the `x` and `y` keywords:"
   ]
  },
  {
   "cell_type": "code",
   "execution_count": 23,
   "id": "ad90cb36",
   "metadata": {
    "collapsed": false,
    "jupyter": {
     "outputs_hidden": false
    },
    "pycharm": {
     "name": "#%%\n"
    }
   },
   "outputs": [
    {
     "data": {
      "text/html": [
       "\n",
       "<div id=\"altair-viz-93cfe215ecf94ee19940bc22b31070d4\"></div>\n",
       "<script type=\"text/javascript\">\n",
       "  var VEGA_DEBUG = (typeof VEGA_DEBUG == \"undefined\") ? {} : VEGA_DEBUG;\n",
       "  (function(spec, embedOpt){\n",
       "    let outputDiv = document.currentScript.previousElementSibling;\n",
       "    if (outputDiv.id !== \"altair-viz-93cfe215ecf94ee19940bc22b31070d4\") {\n",
       "      outputDiv = document.getElementById(\"altair-viz-93cfe215ecf94ee19940bc22b31070d4\");\n",
       "    }\n",
       "    const paths = {\n",
       "      \"vega\": \"https://cdn.jsdelivr.net/npm//vega@5?noext\",\n",
       "      \"vega-lib\": \"https://cdn.jsdelivr.net/npm//vega-lib?noext\",\n",
       "      \"vega-lite\": \"https://cdn.jsdelivr.net/npm//vega-lite@4.17.0?noext\",\n",
       "      \"vega-embed\": \"https://cdn.jsdelivr.net/npm//vega-embed@6?noext\",\n",
       "    };\n",
       "\n",
       "    function maybeLoadScript(lib, version) {\n",
       "      var key = `${lib.replace(\"-\", \"\")}_version`;\n",
       "      return (VEGA_DEBUG[key] == version) ?\n",
       "        Promise.resolve(paths[lib]) :\n",
       "        new Promise(function(resolve, reject) {\n",
       "          var s = document.createElement('script');\n",
       "          document.getElementsByTagName(\"head\")[0].appendChild(s);\n",
       "          s.async = true;\n",
       "          s.onload = () => {\n",
       "            VEGA_DEBUG[key] = version;\n",
       "            return resolve(paths[lib]);\n",
       "          };\n",
       "          s.onerror = () => reject(`Error loading script: ${paths[lib]}`);\n",
       "          s.src = paths[lib];\n",
       "        });\n",
       "    }\n",
       "\n",
       "    function showError(err) {\n",
       "      outputDiv.innerHTML = `<div class=\"error\" style=\"color:red;\">${err}</div>`;\n",
       "      throw err;\n",
       "    }\n",
       "\n",
       "    function displayChart(vegaEmbed) {\n",
       "      vegaEmbed(outputDiv, spec, embedOpt)\n",
       "        .catch(err => showError(`Javascript Error: ${err.message}<br>This usually means there's a typo in your chart specification. See the javascript console for the full traceback.`));\n",
       "    }\n",
       "\n",
       "    if(typeof define === \"function\" && define.amd) {\n",
       "      requirejs.config({paths});\n",
       "      require([\"vega-embed\"], displayChart, err => showError(`Error loading script: ${err.message}`));\n",
       "    } else {\n",
       "      maybeLoadScript(\"vega\", \"5\")\n",
       "        .then(() => maybeLoadScript(\"vega-lite\", \"4.17.0\"))\n",
       "        .then(() => maybeLoadScript(\"vega-embed\", \"6\"))\n",
       "        .catch(showError)\n",
       "        .then(() => displayChart(vegaEmbed));\n",
       "    }\n",
       "  })({\"config\": {\"view\": {\"continuousWidth\": 400, \"continuousHeight\": 300}}, \"data\": {\"name\": \"data-e882fe3edc48634ed74c54554235352c\"}, \"mark\": \"bar\", \"encoding\": {\"x\": {\"field\": \"airport\", \"type\": \"nominal\"}, \"y\": {\"aggregate\": \"average\", \"field\": \"rain\", \"type\": \"quantitative\"}}, \"$schema\": \"https://vega.github.io/schema/vega-lite/v4.17.0.json\", \"datasets\": {\"data-e882fe3edc48634ed74c54554235352c\": [{\"airport\": \"Calgary\", \"year\": 2000, \"month\": \"January\", \"temp\": -9.7, \"rain\": 0.0, \"snow\": 23.8, \"precip\": 10.2}, {\"airport\": \"Calgary\", \"year\": 2000, \"month\": \"May\", \"temp\": 8.8, \"rain\": 22.6, \"snow\": 6.4, \"precip\": 28.8}, {\"airport\": \"Calgary\", \"year\": 2000, \"month\": \"September\", \"temp\": 10.7, \"rain\": 52.8, \"snow\": 0.8, \"precip\": 53.6}, {\"airport\": \"Montreal\", \"year\": 2000, \"month\": \"January\", \"temp\": -10.1, \"rain\": 20.0, \"snow\": 64.8, \"precip\": 95.8}, {\"airport\": \"Montreal\", \"year\": 2000, \"month\": \"May\", \"temp\": 13.3, \"rain\": 132.5, \"snow\": 0.0, \"precip\": 132.5}, {\"airport\": \"Montreal\", \"year\": 2000, \"month\": \"September\", \"temp\": 14.3, \"rain\": 65.5, \"snow\": 0.0, \"precip\": 65.5}, {\"airport\": \"Toronto\", \"year\": 2000, \"month\": \"January\", \"temp\": -5.8, \"rain\": 16.4, \"snow\": 17.0, \"precip\": 29.2}, {\"airport\": \"Toronto\", \"year\": 2000, \"month\": \"May\", \"temp\": 14.3, \"rain\": 124.4, \"snow\": 0.0, \"precip\": 124.4}, {\"airport\": \"Toronto\", \"year\": 2000, \"month\": \"September\", \"temp\": 15.9, \"rain\": 70.0, \"snow\": 0.0, \"precip\": 70.0}, {\"airport\": \"Vancouver\", \"year\": 2000, \"month\": \"January\", \"temp\": 3.5, \"rain\": 134.0, \"snow\": 18.8, \"precip\": 151.4}, {\"airport\": \"Vancouver\", \"year\": 2000, \"month\": \"May\", \"temp\": 11.7, \"rain\": 103.0, \"snow\": 0.0, \"precip\": 103.0}, {\"airport\": \"Vancouver\", \"year\": 2000, \"month\": \"September\", \"temp\": 15.0, \"rain\": 48.0, \"snow\": 0.0, \"precip\": 48.0}]}}, {\"mode\": \"vega-lite\"});\n",
       "</script>"
      ],
      "text/plain": [
       "alt.Chart(...)"
      ]
     },
     "execution_count": 23,
     "metadata": {},
     "output_type": "execute_result"
    }
   ],
   "source": [
    "alt.Chart(df).mark_bar().encode(\n",
    "    x='airport',\n",
    "    y='average(rain)'\n",
    ")"
   ]
  },
  {
   "cell_type": "markdown",
   "id": "9e43a5d1",
   "metadata": {
    "pycharm": {
     "name": "#%% md\n"
    }
   },
   "source": [
    "## Publishing a Visualization\n",
    "\n",
    "Once you have visualized your data, perhaps you would like to publish it somewhere on the web. This can be done straightforwardly using the [vega-embed JavaScript package](https://github.com/vega/vega-embed). A simple example of a stand-alone HTML document can be generated for any chart using the `Chart.save` method:\n",
    "\n",
    "```python\n",
    "chart = alt.Chart(df).mark_bar().encode(\n",
    "    x='average(rain)',\n",
    "    y='city',\n",
    ")\n",
    "chart.save('chart.html')\n",
    "```\n",
    "\n",
    "\n",
    "The basic HTML template produces output that looks like this, where the JSON specification for your plot produced by `Chart.to_json` should be stored in the `spec` JavaScript variable:\n",
    "\n",
    "```html\n",
    "<!DOCTYPE html>\n",
    "<html>\n",
    "<head>\n",
    "<script src=\"https://cdn.jsdelivr.net/npm/vega@5\"></script>\n",
    "<script src=\"https://cdn.jsdelivr.net/npm/vega-lite@4\"></script>\n",
    "<script src=\"https://cdn.jsdelivr.net/npm/vega-embed@6\"></script>\n",
    "</head>\n",
    "<body>\n",
    "<div id=\"vis\"></div>\n",
    "<script>\n",
    "(function(vegaEmbed) {\n",
    "var spec = {}; /* JSON output for your chart's specification */\n",
    "var embedOpt = {\"mode\": \"vega-lite\"}; /* Options for the embedding */\n",
    "\n",
    "function showError(el, error){\n",
    "    el.innerHTML = ('<div style=\"color:red;\">'\n",
    "                    + '<p>JavaScript Error: ' + error.message + '</p>'\n",
    "                    + \"<p>This usually means there's a typo in your chart specification. \"\n",
    "                    + \"See the javascript console for the full traceback.</p>\"\n",
    "                    + '</div>');\n",
    "throw error;\n",
    "}\n",
    "const el = document.getElementById('vis');\n",
    "vegaEmbed(\"#vis\", spec, embedOpt)\n",
    "    .catch(error => showError(el, error));\n",
    "})(vegaEmbed);\n",
    "</script>\n",
    "</body>\n",
    "</html>\n",
    "```\n",
    "\n",
    "The `Chart.save` method provides a convenient way to save such HTML output to file. For more information on embedding Altair/Vega-Lite, see the [documentation of the vega-embed project](https://github.com/vega/vega-embed).\n"
   ]
  },
  {
   "cell_type": "markdown",
   "id": "ef6f6835",
   "metadata": {
    "pycharm": {
     "name": "#%% md\n"
    }
   },
   "source": [
    "## Summary\n",
    "🎉 Hooray, you've completed the introduction to Altair!\n",
    " In this gentle introduction, we started out by showing three ways data can be read in. Next, you were exposed to the fundamental building block of altair vizzes, the Chart object. The rest of the notebook introduced how marks and channels are used to specify how data can be represented. In the next notebook, we will take a closer look at the various data types in Altair.\n"
   ]
  }
 ],
 "metadata": {
  "kernelspec": {
   "display_name": "Python [conda env:dsci320]",
   "language": "python",
   "name": "conda-env-dsci320-py"
  },
  "language_info": {
   "codemirror_mode": {
    "name": "ipython",
    "version": 3
   },
   "file_extension": ".py",
   "mimetype": "text/x-python",
   "name": "python",
   "nbconvert_exporter": "python",
   "pygments_lexer": "ipython3",
   "version": "3.10.8"
  }
 },
 "nbformat": 4,
 "nbformat_minor": 5
}
